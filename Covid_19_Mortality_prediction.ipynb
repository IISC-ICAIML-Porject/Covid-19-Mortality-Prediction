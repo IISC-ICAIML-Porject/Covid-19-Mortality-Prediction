{
  "cells": [
    {
      "cell_type": "markdown",
      "metadata": {
        "id": "view-in-github",
        "colab_type": "text"
      },
      "source": [
        "<a href=\"https://colab.research.google.com/github/IISC-ICAIML-Project/Covid-19-Mortality-Prediction/blob/Covid-19-Mortality-Prediction-DataPreProcessing/Covid_19_Mortality_prediction.ipynb\" target=\"_parent\"><img src=\"https://colab.research.google.com/assets/colab-badge.svg\" alt=\"Open In Colab\"/></a>"
      ]
    },
    {
      "cell_type": "markdown",
      "metadata": {
        "id": "CXCvPaCeghZw"
      },
      "source": [
        "## Preparing the tools\n",
        "\n",
        "pandas, numpy and matplotlib for data analysis and manipulation"
      ]
    },
    {
      "cell_type": "code",
      "execution_count": 47,
      "metadata": {
        "id": "B0cDCKJoghZ4"
      },
      "outputs": [],
      "source": [
        "import numpy as np\n",
        "import pandas as pd\n",
        "import matplotlib.pyplot as plt"
      ]
    },
    {
      "cell_type": "markdown",
      "metadata": {
        "id": "m5r7-cDrghZ6"
      },
      "source": [
        "## Models from Scikit learn"
      ]
    },
    {
      "cell_type": "code",
      "execution_count": 48,
      "metadata": {
        "id": "JDlwPPnZghZ7"
      },
      "outputs": [],
      "source": [
        "from sklearn.linear_model import LogisticRegression\n",
        "from sklearn.ensemble import RandomForestClassifier\n",
        "\n",
        "from sklearn.model_selection import train_test_split, cross_val_score, RandomizedSearchCV, GridSearchCV\n",
        "from sklearn.metrics import confusion_matrix, classification_report, precision_score, recall_score, f1_score, RocCurveDisplay \n"
      ]
    },
    {
      "cell_type": "markdown",
      "metadata": {
        "id": "Sv71R6mtwyWj"
      },
      "source": [
        "## Data Exploration"
      ]
    },
    {
      "cell_type": "code",
      "execution_count": 49,
      "metadata": {
        "id": "XeQcZ61XwlGK"
      },
      "outputs": [],
      "source": [
        "# load the data into a data frame\n",
        "\n",
        "df = pd.read_csv('https://github.com/IISC-ICAIML-Porject/Covid-19-Mortality-Prediction/blob/master/data/Covid%20Data.csv?raw=true',header=0)"
      ]
    },
    {
      "cell_type": "code",
      "execution_count": 50,
      "metadata": {
        "colab": {
          "base_uri": "https://localhost:8080/",
          "height": 299
        },
        "id": "wnpzzToKx5eL",
        "outputId": "db722a51-1f9f-4e14-cd76-9982d4091c8f"
      },
      "outputs": [
        {
          "output_type": "execute_result",
          "data": {
            "text/plain": [
              "   USMER  MEDICAL_UNIT  SEX  PATIENT_TYPE   DATE_DIED  INTUBED  PNEUMONIA  \\\n",
              "0      2             1    1             1  03/05/2020       97          1   \n",
              "1      2             1    2             1  03/06/2020       97          1   \n",
              "2      2             1    2             2  09/06/2020        1          2   \n",
              "3      2             1    1             1  12/06/2020       97          2   \n",
              "4      2             1    2             1  21/06/2020       97          2   \n",
              "\n",
              "   AGE  PREGNANT  DIABETES  ...  ASTHMA  INMSUPR  HIPERTENSION  OTHER_DISEASE  \\\n",
              "0   65         2         2  ...       2        2             1              2   \n",
              "1   72        97         2  ...       2        2             1              2   \n",
              "2   55        97         1  ...       2        2             2              2   \n",
              "3   53         2         2  ...       2        2             2              2   \n",
              "4   68        97         1  ...       2        2             1              2   \n",
              "\n",
              "   CARDIOVASCULAR  OBESITY  RENAL_CHRONIC  TOBACCO  CLASIFFICATION_FINAL  ICU  \n",
              "0               2        2              2        2                     3   97  \n",
              "1               2        1              1        2                     5   97  \n",
              "2               2        2              2        2                     3    2  \n",
              "3               2        2              2        2                     7   97  \n",
              "4               2        2              2        2                     3   97  \n",
              "\n",
              "[5 rows x 21 columns]"
            ],
            "text/html": [
              "\n",
              "  <div id=\"df-1222dd99-2aff-4297-96e3-51265b56e2ef\">\n",
              "    <div class=\"colab-df-container\">\n",
              "      <div>\n",
              "<style scoped>\n",
              "    .dataframe tbody tr th:only-of-type {\n",
              "        vertical-align: middle;\n",
              "    }\n",
              "\n",
              "    .dataframe tbody tr th {\n",
              "        vertical-align: top;\n",
              "    }\n",
              "\n",
              "    .dataframe thead th {\n",
              "        text-align: right;\n",
              "    }\n",
              "</style>\n",
              "<table border=\"1\" class=\"dataframe\">\n",
              "  <thead>\n",
              "    <tr style=\"text-align: right;\">\n",
              "      <th></th>\n",
              "      <th>USMER</th>\n",
              "      <th>MEDICAL_UNIT</th>\n",
              "      <th>SEX</th>\n",
              "      <th>PATIENT_TYPE</th>\n",
              "      <th>DATE_DIED</th>\n",
              "      <th>INTUBED</th>\n",
              "      <th>PNEUMONIA</th>\n",
              "      <th>AGE</th>\n",
              "      <th>PREGNANT</th>\n",
              "      <th>DIABETES</th>\n",
              "      <th>...</th>\n",
              "      <th>ASTHMA</th>\n",
              "      <th>INMSUPR</th>\n",
              "      <th>HIPERTENSION</th>\n",
              "      <th>OTHER_DISEASE</th>\n",
              "      <th>CARDIOVASCULAR</th>\n",
              "      <th>OBESITY</th>\n",
              "      <th>RENAL_CHRONIC</th>\n",
              "      <th>TOBACCO</th>\n",
              "      <th>CLASIFFICATION_FINAL</th>\n",
              "      <th>ICU</th>\n",
              "    </tr>\n",
              "  </thead>\n",
              "  <tbody>\n",
              "    <tr>\n",
              "      <th>0</th>\n",
              "      <td>2</td>\n",
              "      <td>1</td>\n",
              "      <td>1</td>\n",
              "      <td>1</td>\n",
              "      <td>03/05/2020</td>\n",
              "      <td>97</td>\n",
              "      <td>1</td>\n",
              "      <td>65</td>\n",
              "      <td>2</td>\n",
              "      <td>2</td>\n",
              "      <td>...</td>\n",
              "      <td>2</td>\n",
              "      <td>2</td>\n",
              "      <td>1</td>\n",
              "      <td>2</td>\n",
              "      <td>2</td>\n",
              "      <td>2</td>\n",
              "      <td>2</td>\n",
              "      <td>2</td>\n",
              "      <td>3</td>\n",
              "      <td>97</td>\n",
              "    </tr>\n",
              "    <tr>\n",
              "      <th>1</th>\n",
              "      <td>2</td>\n",
              "      <td>1</td>\n",
              "      <td>2</td>\n",
              "      <td>1</td>\n",
              "      <td>03/06/2020</td>\n",
              "      <td>97</td>\n",
              "      <td>1</td>\n",
              "      <td>72</td>\n",
              "      <td>97</td>\n",
              "      <td>2</td>\n",
              "      <td>...</td>\n",
              "      <td>2</td>\n",
              "      <td>2</td>\n",
              "      <td>1</td>\n",
              "      <td>2</td>\n",
              "      <td>2</td>\n",
              "      <td>1</td>\n",
              "      <td>1</td>\n",
              "      <td>2</td>\n",
              "      <td>5</td>\n",
              "      <td>97</td>\n",
              "    </tr>\n",
              "    <tr>\n",
              "      <th>2</th>\n",
              "      <td>2</td>\n",
              "      <td>1</td>\n",
              "      <td>2</td>\n",
              "      <td>2</td>\n",
              "      <td>09/06/2020</td>\n",
              "      <td>1</td>\n",
              "      <td>2</td>\n",
              "      <td>55</td>\n",
              "      <td>97</td>\n",
              "      <td>1</td>\n",
              "      <td>...</td>\n",
              "      <td>2</td>\n",
              "      <td>2</td>\n",
              "      <td>2</td>\n",
              "      <td>2</td>\n",
              "      <td>2</td>\n",
              "      <td>2</td>\n",
              "      <td>2</td>\n",
              "      <td>2</td>\n",
              "      <td>3</td>\n",
              "      <td>2</td>\n",
              "    </tr>\n",
              "    <tr>\n",
              "      <th>3</th>\n",
              "      <td>2</td>\n",
              "      <td>1</td>\n",
              "      <td>1</td>\n",
              "      <td>1</td>\n",
              "      <td>12/06/2020</td>\n",
              "      <td>97</td>\n",
              "      <td>2</td>\n",
              "      <td>53</td>\n",
              "      <td>2</td>\n",
              "      <td>2</td>\n",
              "      <td>...</td>\n",
              "      <td>2</td>\n",
              "      <td>2</td>\n",
              "      <td>2</td>\n",
              "      <td>2</td>\n",
              "      <td>2</td>\n",
              "      <td>2</td>\n",
              "      <td>2</td>\n",
              "      <td>2</td>\n",
              "      <td>7</td>\n",
              "      <td>97</td>\n",
              "    </tr>\n",
              "    <tr>\n",
              "      <th>4</th>\n",
              "      <td>2</td>\n",
              "      <td>1</td>\n",
              "      <td>2</td>\n",
              "      <td>1</td>\n",
              "      <td>21/06/2020</td>\n",
              "      <td>97</td>\n",
              "      <td>2</td>\n",
              "      <td>68</td>\n",
              "      <td>97</td>\n",
              "      <td>1</td>\n",
              "      <td>...</td>\n",
              "      <td>2</td>\n",
              "      <td>2</td>\n",
              "      <td>1</td>\n",
              "      <td>2</td>\n",
              "      <td>2</td>\n",
              "      <td>2</td>\n",
              "      <td>2</td>\n",
              "      <td>2</td>\n",
              "      <td>3</td>\n",
              "      <td>97</td>\n",
              "    </tr>\n",
              "  </tbody>\n",
              "</table>\n",
              "<p>5 rows × 21 columns</p>\n",
              "</div>\n",
              "      <button class=\"colab-df-convert\" onclick=\"convertToInteractive('df-1222dd99-2aff-4297-96e3-51265b56e2ef')\"\n",
              "              title=\"Convert this dataframe to an interactive table.\"\n",
              "              style=\"display:none;\">\n",
              "        \n",
              "  <svg xmlns=\"http://www.w3.org/2000/svg\" height=\"24px\"viewBox=\"0 0 24 24\"\n",
              "       width=\"24px\">\n",
              "    <path d=\"M0 0h24v24H0V0z\" fill=\"none\"/>\n",
              "    <path d=\"M18.56 5.44l.94 2.06.94-2.06 2.06-.94-2.06-.94-.94-2.06-.94 2.06-2.06.94zm-11 1L8.5 8.5l.94-2.06 2.06-.94-2.06-.94L8.5 2.5l-.94 2.06-2.06.94zm10 10l.94 2.06.94-2.06 2.06-.94-2.06-.94-.94-2.06-.94 2.06-2.06.94z\"/><path d=\"M17.41 7.96l-1.37-1.37c-.4-.4-.92-.59-1.43-.59-.52 0-1.04.2-1.43.59L10.3 9.45l-7.72 7.72c-.78.78-.78 2.05 0 2.83L4 21.41c.39.39.9.59 1.41.59.51 0 1.02-.2 1.41-.59l7.78-7.78 2.81-2.81c.8-.78.8-2.07 0-2.86zM5.41 20L4 18.59l7.72-7.72 1.47 1.35L5.41 20z\"/>\n",
              "  </svg>\n",
              "      </button>\n",
              "      \n",
              "  <style>\n",
              "    .colab-df-container {\n",
              "      display:flex;\n",
              "      flex-wrap:wrap;\n",
              "      gap: 12px;\n",
              "    }\n",
              "\n",
              "    .colab-df-convert {\n",
              "      background-color: #E8F0FE;\n",
              "      border: none;\n",
              "      border-radius: 50%;\n",
              "      cursor: pointer;\n",
              "      display: none;\n",
              "      fill: #1967D2;\n",
              "      height: 32px;\n",
              "      padding: 0 0 0 0;\n",
              "      width: 32px;\n",
              "    }\n",
              "\n",
              "    .colab-df-convert:hover {\n",
              "      background-color: #E2EBFA;\n",
              "      box-shadow: 0px 1px 2px rgba(60, 64, 67, 0.3), 0px 1px 3px 1px rgba(60, 64, 67, 0.15);\n",
              "      fill: #174EA6;\n",
              "    }\n",
              "\n",
              "    [theme=dark] .colab-df-convert {\n",
              "      background-color: #3B4455;\n",
              "      fill: #D2E3FC;\n",
              "    }\n",
              "\n",
              "    [theme=dark] .colab-df-convert:hover {\n",
              "      background-color: #434B5C;\n",
              "      box-shadow: 0px 1px 3px 1px rgba(0, 0, 0, 0.15);\n",
              "      filter: drop-shadow(0px 1px 2px rgba(0, 0, 0, 0.3));\n",
              "      fill: #FFFFFF;\n",
              "    }\n",
              "  </style>\n",
              "\n",
              "      <script>\n",
              "        const buttonEl =\n",
              "          document.querySelector('#df-1222dd99-2aff-4297-96e3-51265b56e2ef button.colab-df-convert');\n",
              "        buttonEl.style.display =\n",
              "          google.colab.kernel.accessAllowed ? 'block' : 'none';\n",
              "\n",
              "        async function convertToInteractive(key) {\n",
              "          const element = document.querySelector('#df-1222dd99-2aff-4297-96e3-51265b56e2ef');\n",
              "          const dataTable =\n",
              "            await google.colab.kernel.invokeFunction('convertToInteractive',\n",
              "                                                     [key], {});\n",
              "          if (!dataTable) return;\n",
              "\n",
              "          const docLinkHtml = 'Like what you see? Visit the ' +\n",
              "            '<a target=\"_blank\" href=https://colab.research.google.com/notebooks/data_table.ipynb>data table notebook</a>'\n",
              "            + ' to learn more about interactive tables.';\n",
              "          element.innerHTML = '';\n",
              "          dataTable['output_type'] = 'display_data';\n",
              "          await google.colab.output.renderOutput(dataTable, element);\n",
              "          const docLink = document.createElement('div');\n",
              "          docLink.innerHTML = docLinkHtml;\n",
              "          element.appendChild(docLink);\n",
              "        }\n",
              "      </script>\n",
              "    </div>\n",
              "  </div>\n",
              "  "
            ]
          },
          "metadata": {},
          "execution_count": 50
        }
      ],
      "source": [
        "df.head()"
      ]
    },
    {
      "cell_type": "code",
      "execution_count": 51,
      "metadata": {
        "colab": {
          "base_uri": "https://localhost:8080/",
          "height": 364
        },
        "id": "IBZstURLyEHL",
        "outputId": "fae702ae-4b1e-479a-d319-e9eacec33388"
      },
      "outputs": [
        {
          "output_type": "execute_result",
          "data": {
            "text/plain": [
              "              USMER  MEDICAL_UNIT           SEX  PATIENT_TYPE       INTUBED  \\\n",
              "count  1.048575e+06  1.048575e+06  1.048575e+06  1.048575e+06  1.048575e+06   \n",
              "mean   1.632194e+00  8.980565e+00  1.499259e+00  1.190765e+00  7.952288e+01   \n",
              "std    4.822084e-01  3.723278e+00  4.999997e-01  3.929041e-01  3.686889e+01   \n",
              "min    1.000000e+00  1.000000e+00  1.000000e+00  1.000000e+00  1.000000e+00   \n",
              "25%    1.000000e+00  4.000000e+00  1.000000e+00  1.000000e+00  9.700000e+01   \n",
              "50%    2.000000e+00  1.200000e+01  1.000000e+00  1.000000e+00  9.700000e+01   \n",
              "75%    2.000000e+00  1.200000e+01  2.000000e+00  1.000000e+00  9.700000e+01   \n",
              "max    2.000000e+00  1.300000e+01  2.000000e+00  2.000000e+00  9.900000e+01   \n",
              "\n",
              "          PNEUMONIA           AGE      PREGNANT      DIABETES          COPD  \\\n",
              "count  1.048575e+06  1.048575e+06  1.048575e+06  1.048575e+06  1.048575e+06   \n",
              "mean   3.346831e+00  4.179410e+01  4.976558e+01  2.186404e+00  2.260569e+00   \n",
              "std    1.191288e+01  1.690739e+01  4.751073e+01  5.424242e+00  5.132258e+00   \n",
              "min    1.000000e+00  0.000000e+00  1.000000e+00  1.000000e+00  1.000000e+00   \n",
              "25%    2.000000e+00  3.000000e+01  2.000000e+00  2.000000e+00  2.000000e+00   \n",
              "50%    2.000000e+00  4.000000e+01  9.700000e+01  2.000000e+00  2.000000e+00   \n",
              "75%    2.000000e+00  5.300000e+01  9.700000e+01  2.000000e+00  2.000000e+00   \n",
              "max    9.900000e+01  1.210000e+02  9.800000e+01  9.800000e+01  9.800000e+01   \n",
              "\n",
              "             ASTHMA       INMSUPR  HIPERTENSION  OTHER_DISEASE  \\\n",
              "count  1.048575e+06  1.048575e+06  1.048575e+06   1.048575e+06   \n",
              "mean   2.242626e+00  2.298132e+00  2.128989e+00   2.435143e+00   \n",
              "std    5.114089e+00  5.462843e+00  5.236397e+00   6.646676e+00   \n",
              "min    1.000000e+00  1.000000e+00  1.000000e+00   1.000000e+00   \n",
              "25%    2.000000e+00  2.000000e+00  2.000000e+00   2.000000e+00   \n",
              "50%    2.000000e+00  2.000000e+00  2.000000e+00   2.000000e+00   \n",
              "75%    2.000000e+00  2.000000e+00  2.000000e+00   2.000000e+00   \n",
              "max    9.800000e+01  9.800000e+01  9.800000e+01   9.800000e+01   \n",
              "\n",
              "       CARDIOVASCULAR       OBESITY  RENAL_CHRONIC       TOBACCO  \\\n",
              "count    1.048575e+06  1.048575e+06   1.048575e+06  1.048575e+06   \n",
              "mean     2.261810e+00  2.125176e+00   2.257180e+00  2.214333e+00   \n",
              "std      5.194850e+00  5.175445e+00   5.135354e+00  5.323097e+00   \n",
              "min      1.000000e+00  1.000000e+00   1.000000e+00  1.000000e+00   \n",
              "25%      2.000000e+00  2.000000e+00   2.000000e+00  2.000000e+00   \n",
              "50%      2.000000e+00  2.000000e+00   2.000000e+00  2.000000e+00   \n",
              "75%      2.000000e+00  2.000000e+00   2.000000e+00  2.000000e+00   \n",
              "max      9.800000e+01  9.800000e+01   9.800000e+01  9.800000e+01   \n",
              "\n",
              "       CLASIFFICATION_FINAL           ICU  \n",
              "count          1.048575e+06  1.048575e+06  \n",
              "mean           5.305653e+00  7.955397e+01  \n",
              "std            1.881165e+00  3.682307e+01  \n",
              "min            1.000000e+00  1.000000e+00  \n",
              "25%            3.000000e+00  9.700000e+01  \n",
              "50%            6.000000e+00  9.700000e+01  \n",
              "75%            7.000000e+00  9.700000e+01  \n",
              "max            7.000000e+00  9.900000e+01  "
            ],
            "text/html": [
              "\n",
              "  <div id=\"df-cac9c50f-b00c-4c9a-9d34-51ac6679369f\">\n",
              "    <div class=\"colab-df-container\">\n",
              "      <div>\n",
              "<style scoped>\n",
              "    .dataframe tbody tr th:only-of-type {\n",
              "        vertical-align: middle;\n",
              "    }\n",
              "\n",
              "    .dataframe tbody tr th {\n",
              "        vertical-align: top;\n",
              "    }\n",
              "\n",
              "    .dataframe thead th {\n",
              "        text-align: right;\n",
              "    }\n",
              "</style>\n",
              "<table border=\"1\" class=\"dataframe\">\n",
              "  <thead>\n",
              "    <tr style=\"text-align: right;\">\n",
              "      <th></th>\n",
              "      <th>USMER</th>\n",
              "      <th>MEDICAL_UNIT</th>\n",
              "      <th>SEX</th>\n",
              "      <th>PATIENT_TYPE</th>\n",
              "      <th>INTUBED</th>\n",
              "      <th>PNEUMONIA</th>\n",
              "      <th>AGE</th>\n",
              "      <th>PREGNANT</th>\n",
              "      <th>DIABETES</th>\n",
              "      <th>COPD</th>\n",
              "      <th>ASTHMA</th>\n",
              "      <th>INMSUPR</th>\n",
              "      <th>HIPERTENSION</th>\n",
              "      <th>OTHER_DISEASE</th>\n",
              "      <th>CARDIOVASCULAR</th>\n",
              "      <th>OBESITY</th>\n",
              "      <th>RENAL_CHRONIC</th>\n",
              "      <th>TOBACCO</th>\n",
              "      <th>CLASIFFICATION_FINAL</th>\n",
              "      <th>ICU</th>\n",
              "    </tr>\n",
              "  </thead>\n",
              "  <tbody>\n",
              "    <tr>\n",
              "      <th>count</th>\n",
              "      <td>1.048575e+06</td>\n",
              "      <td>1.048575e+06</td>\n",
              "      <td>1.048575e+06</td>\n",
              "      <td>1.048575e+06</td>\n",
              "      <td>1.048575e+06</td>\n",
              "      <td>1.048575e+06</td>\n",
              "      <td>1.048575e+06</td>\n",
              "      <td>1.048575e+06</td>\n",
              "      <td>1.048575e+06</td>\n",
              "      <td>1.048575e+06</td>\n",
              "      <td>1.048575e+06</td>\n",
              "      <td>1.048575e+06</td>\n",
              "      <td>1.048575e+06</td>\n",
              "      <td>1.048575e+06</td>\n",
              "      <td>1.048575e+06</td>\n",
              "      <td>1.048575e+06</td>\n",
              "      <td>1.048575e+06</td>\n",
              "      <td>1.048575e+06</td>\n",
              "      <td>1.048575e+06</td>\n",
              "      <td>1.048575e+06</td>\n",
              "    </tr>\n",
              "    <tr>\n",
              "      <th>mean</th>\n",
              "      <td>1.632194e+00</td>\n",
              "      <td>8.980565e+00</td>\n",
              "      <td>1.499259e+00</td>\n",
              "      <td>1.190765e+00</td>\n",
              "      <td>7.952288e+01</td>\n",
              "      <td>3.346831e+00</td>\n",
              "      <td>4.179410e+01</td>\n",
              "      <td>4.976558e+01</td>\n",
              "      <td>2.186404e+00</td>\n",
              "      <td>2.260569e+00</td>\n",
              "      <td>2.242626e+00</td>\n",
              "      <td>2.298132e+00</td>\n",
              "      <td>2.128989e+00</td>\n",
              "      <td>2.435143e+00</td>\n",
              "      <td>2.261810e+00</td>\n",
              "      <td>2.125176e+00</td>\n",
              "      <td>2.257180e+00</td>\n",
              "      <td>2.214333e+00</td>\n",
              "      <td>5.305653e+00</td>\n",
              "      <td>7.955397e+01</td>\n",
              "    </tr>\n",
              "    <tr>\n",
              "      <th>std</th>\n",
              "      <td>4.822084e-01</td>\n",
              "      <td>3.723278e+00</td>\n",
              "      <td>4.999997e-01</td>\n",
              "      <td>3.929041e-01</td>\n",
              "      <td>3.686889e+01</td>\n",
              "      <td>1.191288e+01</td>\n",
              "      <td>1.690739e+01</td>\n",
              "      <td>4.751073e+01</td>\n",
              "      <td>5.424242e+00</td>\n",
              "      <td>5.132258e+00</td>\n",
              "      <td>5.114089e+00</td>\n",
              "      <td>5.462843e+00</td>\n",
              "      <td>5.236397e+00</td>\n",
              "      <td>6.646676e+00</td>\n",
              "      <td>5.194850e+00</td>\n",
              "      <td>5.175445e+00</td>\n",
              "      <td>5.135354e+00</td>\n",
              "      <td>5.323097e+00</td>\n",
              "      <td>1.881165e+00</td>\n",
              "      <td>3.682307e+01</td>\n",
              "    </tr>\n",
              "    <tr>\n",
              "      <th>min</th>\n",
              "      <td>1.000000e+00</td>\n",
              "      <td>1.000000e+00</td>\n",
              "      <td>1.000000e+00</td>\n",
              "      <td>1.000000e+00</td>\n",
              "      <td>1.000000e+00</td>\n",
              "      <td>1.000000e+00</td>\n",
              "      <td>0.000000e+00</td>\n",
              "      <td>1.000000e+00</td>\n",
              "      <td>1.000000e+00</td>\n",
              "      <td>1.000000e+00</td>\n",
              "      <td>1.000000e+00</td>\n",
              "      <td>1.000000e+00</td>\n",
              "      <td>1.000000e+00</td>\n",
              "      <td>1.000000e+00</td>\n",
              "      <td>1.000000e+00</td>\n",
              "      <td>1.000000e+00</td>\n",
              "      <td>1.000000e+00</td>\n",
              "      <td>1.000000e+00</td>\n",
              "      <td>1.000000e+00</td>\n",
              "      <td>1.000000e+00</td>\n",
              "    </tr>\n",
              "    <tr>\n",
              "      <th>25%</th>\n",
              "      <td>1.000000e+00</td>\n",
              "      <td>4.000000e+00</td>\n",
              "      <td>1.000000e+00</td>\n",
              "      <td>1.000000e+00</td>\n",
              "      <td>9.700000e+01</td>\n",
              "      <td>2.000000e+00</td>\n",
              "      <td>3.000000e+01</td>\n",
              "      <td>2.000000e+00</td>\n",
              "      <td>2.000000e+00</td>\n",
              "      <td>2.000000e+00</td>\n",
              "      <td>2.000000e+00</td>\n",
              "      <td>2.000000e+00</td>\n",
              "      <td>2.000000e+00</td>\n",
              "      <td>2.000000e+00</td>\n",
              "      <td>2.000000e+00</td>\n",
              "      <td>2.000000e+00</td>\n",
              "      <td>2.000000e+00</td>\n",
              "      <td>2.000000e+00</td>\n",
              "      <td>3.000000e+00</td>\n",
              "      <td>9.700000e+01</td>\n",
              "    </tr>\n",
              "    <tr>\n",
              "      <th>50%</th>\n",
              "      <td>2.000000e+00</td>\n",
              "      <td>1.200000e+01</td>\n",
              "      <td>1.000000e+00</td>\n",
              "      <td>1.000000e+00</td>\n",
              "      <td>9.700000e+01</td>\n",
              "      <td>2.000000e+00</td>\n",
              "      <td>4.000000e+01</td>\n",
              "      <td>9.700000e+01</td>\n",
              "      <td>2.000000e+00</td>\n",
              "      <td>2.000000e+00</td>\n",
              "      <td>2.000000e+00</td>\n",
              "      <td>2.000000e+00</td>\n",
              "      <td>2.000000e+00</td>\n",
              "      <td>2.000000e+00</td>\n",
              "      <td>2.000000e+00</td>\n",
              "      <td>2.000000e+00</td>\n",
              "      <td>2.000000e+00</td>\n",
              "      <td>2.000000e+00</td>\n",
              "      <td>6.000000e+00</td>\n",
              "      <td>9.700000e+01</td>\n",
              "    </tr>\n",
              "    <tr>\n",
              "      <th>75%</th>\n",
              "      <td>2.000000e+00</td>\n",
              "      <td>1.200000e+01</td>\n",
              "      <td>2.000000e+00</td>\n",
              "      <td>1.000000e+00</td>\n",
              "      <td>9.700000e+01</td>\n",
              "      <td>2.000000e+00</td>\n",
              "      <td>5.300000e+01</td>\n",
              "      <td>9.700000e+01</td>\n",
              "      <td>2.000000e+00</td>\n",
              "      <td>2.000000e+00</td>\n",
              "      <td>2.000000e+00</td>\n",
              "      <td>2.000000e+00</td>\n",
              "      <td>2.000000e+00</td>\n",
              "      <td>2.000000e+00</td>\n",
              "      <td>2.000000e+00</td>\n",
              "      <td>2.000000e+00</td>\n",
              "      <td>2.000000e+00</td>\n",
              "      <td>2.000000e+00</td>\n",
              "      <td>7.000000e+00</td>\n",
              "      <td>9.700000e+01</td>\n",
              "    </tr>\n",
              "    <tr>\n",
              "      <th>max</th>\n",
              "      <td>2.000000e+00</td>\n",
              "      <td>1.300000e+01</td>\n",
              "      <td>2.000000e+00</td>\n",
              "      <td>2.000000e+00</td>\n",
              "      <td>9.900000e+01</td>\n",
              "      <td>9.900000e+01</td>\n",
              "      <td>1.210000e+02</td>\n",
              "      <td>9.800000e+01</td>\n",
              "      <td>9.800000e+01</td>\n",
              "      <td>9.800000e+01</td>\n",
              "      <td>9.800000e+01</td>\n",
              "      <td>9.800000e+01</td>\n",
              "      <td>9.800000e+01</td>\n",
              "      <td>9.800000e+01</td>\n",
              "      <td>9.800000e+01</td>\n",
              "      <td>9.800000e+01</td>\n",
              "      <td>9.800000e+01</td>\n",
              "      <td>9.800000e+01</td>\n",
              "      <td>7.000000e+00</td>\n",
              "      <td>9.900000e+01</td>\n",
              "    </tr>\n",
              "  </tbody>\n",
              "</table>\n",
              "</div>\n",
              "      <button class=\"colab-df-convert\" onclick=\"convertToInteractive('df-cac9c50f-b00c-4c9a-9d34-51ac6679369f')\"\n",
              "              title=\"Convert this dataframe to an interactive table.\"\n",
              "              style=\"display:none;\">\n",
              "        \n",
              "  <svg xmlns=\"http://www.w3.org/2000/svg\" height=\"24px\"viewBox=\"0 0 24 24\"\n",
              "       width=\"24px\">\n",
              "    <path d=\"M0 0h24v24H0V0z\" fill=\"none\"/>\n",
              "    <path d=\"M18.56 5.44l.94 2.06.94-2.06 2.06-.94-2.06-.94-.94-2.06-.94 2.06-2.06.94zm-11 1L8.5 8.5l.94-2.06 2.06-.94-2.06-.94L8.5 2.5l-.94 2.06-2.06.94zm10 10l.94 2.06.94-2.06 2.06-.94-2.06-.94-.94-2.06-.94 2.06-2.06.94z\"/><path d=\"M17.41 7.96l-1.37-1.37c-.4-.4-.92-.59-1.43-.59-.52 0-1.04.2-1.43.59L10.3 9.45l-7.72 7.72c-.78.78-.78 2.05 0 2.83L4 21.41c.39.39.9.59 1.41.59.51 0 1.02-.2 1.41-.59l7.78-7.78 2.81-2.81c.8-.78.8-2.07 0-2.86zM5.41 20L4 18.59l7.72-7.72 1.47 1.35L5.41 20z\"/>\n",
              "  </svg>\n",
              "      </button>\n",
              "      \n",
              "  <style>\n",
              "    .colab-df-container {\n",
              "      display:flex;\n",
              "      flex-wrap:wrap;\n",
              "      gap: 12px;\n",
              "    }\n",
              "\n",
              "    .colab-df-convert {\n",
              "      background-color: #E8F0FE;\n",
              "      border: none;\n",
              "      border-radius: 50%;\n",
              "      cursor: pointer;\n",
              "      display: none;\n",
              "      fill: #1967D2;\n",
              "      height: 32px;\n",
              "      padding: 0 0 0 0;\n",
              "      width: 32px;\n",
              "    }\n",
              "\n",
              "    .colab-df-convert:hover {\n",
              "      background-color: #E2EBFA;\n",
              "      box-shadow: 0px 1px 2px rgba(60, 64, 67, 0.3), 0px 1px 3px 1px rgba(60, 64, 67, 0.15);\n",
              "      fill: #174EA6;\n",
              "    }\n",
              "\n",
              "    [theme=dark] .colab-df-convert {\n",
              "      background-color: #3B4455;\n",
              "      fill: #D2E3FC;\n",
              "    }\n",
              "\n",
              "    [theme=dark] .colab-df-convert:hover {\n",
              "      background-color: #434B5C;\n",
              "      box-shadow: 0px 1px 3px 1px rgba(0, 0, 0, 0.15);\n",
              "      filter: drop-shadow(0px 1px 2px rgba(0, 0, 0, 0.3));\n",
              "      fill: #FFFFFF;\n",
              "    }\n",
              "  </style>\n",
              "\n",
              "      <script>\n",
              "        const buttonEl =\n",
              "          document.querySelector('#df-cac9c50f-b00c-4c9a-9d34-51ac6679369f button.colab-df-convert');\n",
              "        buttonEl.style.display =\n",
              "          google.colab.kernel.accessAllowed ? 'block' : 'none';\n",
              "\n",
              "        async function convertToInteractive(key) {\n",
              "          const element = document.querySelector('#df-cac9c50f-b00c-4c9a-9d34-51ac6679369f');\n",
              "          const dataTable =\n",
              "            await google.colab.kernel.invokeFunction('convertToInteractive',\n",
              "                                                     [key], {});\n",
              "          if (!dataTable) return;\n",
              "\n",
              "          const docLinkHtml = 'Like what you see? Visit the ' +\n",
              "            '<a target=\"_blank\" href=https://colab.research.google.com/notebooks/data_table.ipynb>data table notebook</a>'\n",
              "            + ' to learn more about interactive tables.';\n",
              "          element.innerHTML = '';\n",
              "          dataTable['output_type'] = 'display_data';\n",
              "          await google.colab.output.renderOutput(dataTable, element);\n",
              "          const docLink = document.createElement('div');\n",
              "          docLink.innerHTML = docLinkHtml;\n",
              "          element.appendChild(docLink);\n",
              "        }\n",
              "      </script>\n",
              "    </div>\n",
              "  </div>\n",
              "  "
            ]
          },
          "metadata": {},
          "execution_count": 51
        }
      ],
      "source": [
        "df.describe()"
      ]
    },
    {
      "cell_type": "code",
      "source": [
        "df.shape"
      ],
      "metadata": {
        "id": "OkRSSdGuqp48",
        "outputId": "52c89471-b5c1-4858-b7cb-310b340fe9ef",
        "colab": {
          "base_uri": "https://localhost:8080/"
        }
      },
      "execution_count": 52,
      "outputs": [
        {
          "output_type": "execute_result",
          "data": {
            "text/plain": [
              "(1048575, 21)"
            ]
          },
          "metadata": {},
          "execution_count": 52
        }
      ]
    },
    {
      "cell_type": "markdown",
      "metadata": {
        "id": "xIBsERf0y8Uf"
      },
      "source": [
        "### Data analysis and Understanding\n",
        "\n",
        "This dataset contains an enormous number of anonymized patient-related information including pre-conditions. The raw dataset consists of **21 unique features** and **1,048,576 unique patients**. In the Boolean features, **1** means **\"yes\"** and **2** means **\"no\"**. values as **97** and **99** are **missing data**.\n",
        "\n",
        "* sex: 1 for female and 2 for male.\n",
        "* age: of the patient.\n",
        "* classification: covid test findings. Values 1-3 mean that the patient was diagnosed with covid in different\n",
        "degrees. 4 or higher means that the patient is not a carrier of covid or that the test is inconclusive.\n",
        "* patient type: type of care the patient received in the unit. 1 for returned home and 2 for hospitalization.\n",
        "* pneumonia: whether the patient already have air sacs inflammation or not.\n",
        "* pregnancy: whether the patient is pregnant or not.\n",
        "* diabetes: whether the patient has diabetes or not.\n",
        "* copd: Indicates whether the patient has Chronic obstructive pulmonary disease or not.\n",
        "* asthma: whether the patient has asthma or not.\n",
        "* inmsupr: whether the patient is immunosuppressed or not.\n",
        "* hypertension: whether the patient has hypertension or not.\n",
        "* cardiovascular: whether the patient has heart or blood vessels related disease.\n",
        "* renal chronic: whether the patient has chronic renal disease or not.\n",
        "* other disease: whether the patient has other disease or not.\n",
        "* obesity: whether the patient is obese or not.\n",
        "* tobacco: whether the patient is a tobacco user.\n",
        "* usmr: Indicates whether the patient treated medical units of the first, second or third level.\n",
        "* medical unit: type of institution of the National Health System that provided the care.\n",
        "* intubed: whether the patient was connected to the ventilator.\n",
        "* icu: Indicates whether the patient had been admitted to an Intensive Care Unit.\n",
        "* date died: If the patient died indicate the date of death, and 9999-99-99 otherwise."
      ]
    },
    {
      "cell_type": "code",
      "source": [
        "import seaborn as sns\n",
        "sns.heatmap(data=df.drop(axis=1,columns='DATE_DIED').corr())"
      ],
      "metadata": {
        "id": "2itBVoiWeidW",
        "outputId": "99cb9d1a-88b1-4c28-a94b-60d06fbf1ee2",
        "colab": {
          "base_uri": "https://localhost:8080/",
          "height": 597
        }
      },
      "execution_count": 53,
      "outputs": [
        {
          "output_type": "execute_result",
          "data": {
            "text/plain": [
              "<Axes: >"
            ]
          },
          "metadata": {},
          "execution_count": 53
        },
        {
          "output_type": "display_data",
          "data": {
            "text/plain": [
              "<Figure size 640x480 with 2 Axes>"
            ],
            "image/png": "[encoded data removed]"
          },
          "metadata": {}
        }
      ]
    },
    {
      "cell_type": "markdown",
      "source": [
        "## Data Cleaning"
      ],
      "metadata": {
        "id": "OAwdds5C4mvn"
      }
    },
    {
      "cell_type": "markdown",
      "source": [
        "We find the total number of missing values in each of the 21 features and corresponding percentage of missing value contributed by each of these features"
      ],
      "metadata": {
        "id": "cR8Z6TxJ4_2S"
      }
    },
    {
      "cell_type": "code",
      "execution_count": 54,
      "metadata": {
        "id": "3contXPQghaC",
        "outputId": "793b70d9-2371-4e06-a78e-785e7fafbd9e",
        "colab": {
          "base_uri": "https://localhost:8080/"
        }
      },
      "outputs": [
        {
          "output_type": "stream",
          "name": "stdout",
          "text": [
            "                                   Feature  NaN_count  97_98_99_count  \\\n",
            "ICU                                    ICU     856032               0   \n",
            "INTUBED                            INTUBED     855869               0   \n",
            "PREGNANT                          PREGNANT     527265               0   \n",
            "PNEUMONIA                        PNEUMONIA      16003               0   \n",
            "OTHER_DISEASE                OTHER_DISEASE       5045               0   \n",
            "INMSUPR                            INMSUPR       3404               0   \n",
            "DIABETES                          DIABETES       3338               0   \n",
            "TOBACCO                            TOBACCO       3220               0   \n",
            "HIPERTENSION                  HIPERTENSION       3104               0   \n",
            "RENAL_CHRONIC                RENAL_CHRONIC       3006               0   \n",
            "OBESITY                            OBESITY       3032               0   \n",
            "CARDIOVASCULAR              CARDIOVASCULAR       3076               0   \n",
            "COPD                                  COPD       3003               0   \n",
            "ASTHMA                              ASTHMA       2979               0   \n",
            "AGE                                    AGE        345               0   \n",
            "MEDICAL_UNIT                  MEDICAL_UNIT          0               0   \n",
            "DATE_DIED                        DATE_DIED          0               0   \n",
            "PATIENT_TYPE                  PATIENT_TYPE          0               0   \n",
            "SEX                                    SEX          0               0   \n",
            "CLASIFFICATION_FINAL  CLASIFFICATION_FINAL          0               0   \n",
            "USMER                                USMER          0               0   \n",
            "\n",
            "                      Total_missing_count  Percentage_missing  \n",
            "ICU                                856032               81.64  \n",
            "INTUBED                            855869               81.62  \n",
            "PREGNANT                           527265               50.28  \n",
            "PNEUMONIA                           16003                1.53  \n",
            "OTHER_DISEASE                        5045                0.48  \n",
            "INMSUPR                              3404                0.32  \n",
            "DIABETES                             3338                0.32  \n",
            "TOBACCO                              3220                0.31  \n",
            "HIPERTENSION                         3104                0.30  \n",
            "RENAL_CHRONIC                        3006                0.29  \n",
            "OBESITY                              3032                0.29  \n",
            "CARDIOVASCULAR                       3076                0.29  \n",
            "COPD                                 3003                0.29  \n",
            "ASTHMA                               2979                0.28  \n",
            "AGE                                   345                0.03  \n",
            "MEDICAL_UNIT                            0                0.00  \n",
            "DATE_DIED                               0                0.00  \n",
            "PATIENT_TYPE                            0                0.00  \n",
            "SEX                                     0                0.00  \n",
            "CLASIFFICATION_FINAL                    0                0.00  \n",
            "USMER                                   0                0.00  \n"
          ]
        }
      ],
      "source": [
        "df_reduced = df.copy()\n",
        "df_reduced = df_reduced.replace([97, 98, 99], np.nan)\n",
        "missing_counts = df_reduced.isnull().sum()\n",
        "invalid_counts = df_reduced.isin([97, 98, 99]).sum()\n",
        "total_missing_counts = missing_counts + invalid_counts\n",
        "perc_missing_values = round(total_missing_counts / len(df) * 100, 2)\n",
        "missing_df = pd.DataFrame({'Feature': df_reduced.columns, 'NaN_count': missing_counts, '97_98_99_count': invalid_counts, 'Total_missing_count': total_missing_counts, 'Percentage_missing': perc_missing_values})\n",
        "missing_df = missing_df.sort_values(by='Percentage_missing', ascending=False)\n",
        "\n",
        "print(missing_df)"
      ]
    },
    {
      "cell_type": "markdown",
      "source": [
        "New copy of the original dataframe is created . We get the count of unique values present in each column "
      ],
      "metadata": {
        "id": "Mh7F5SPj5OrH"
      }
    },
    {
      "cell_type": "code",
      "execution_count": 55,
      "metadata": {
        "colab": {
          "base_uri": "https://localhost:8080/"
        },
        "id": "qEOnwaMHghaE",
        "outputId": "923c27d9-1912-4c75-ea88-cd2c09ce7ea1"
      },
      "outputs": [
        {
          "output_type": "stream",
          "name": "stdout",
          "text": [
            "2    662903\n",
            "1    385672\n",
            "Name: USMER, dtype: int64\n",
            "\n",
            "\n",
            "12    602995\n",
            "4     314405\n",
            "6      40584\n",
            "9      38116\n",
            "3      19175\n",
            "8      10399\n",
            "10      7873\n",
            "5       7244\n",
            "11      5577\n",
            "13       996\n",
            "7        891\n",
            "2        169\n",
            "1        151\n",
            "Name: MEDICAL_UNIT, dtype: int64\n",
            "\n",
            "\n",
            "1    525064\n",
            "2    523511\n",
            "Name: SEX, dtype: int64\n",
            "\n",
            "\n",
            "1    848544\n",
            "2    200031\n",
            "Name: PATIENT_TYPE, dtype: int64\n",
            "\n",
            "\n",
            "9999-99-99    971633\n",
            "06/07/2020      1000\n",
            "07/07/2020       996\n",
            "13/07/2020       990\n",
            "16/06/2020       979\n",
            "               ...  \n",
            "24/11/2020         1\n",
            "17/12/2020         1\n",
            "08/12/2020         1\n",
            "16/03/2021         1\n",
            "22/04/2021         1\n",
            "Name: DATE_DIED, Length: 401, dtype: int64\n",
            "\n",
            "\n",
            "97    848544\n",
            "2     159050\n",
            "1      33656\n",
            "99      7325\n",
            "Name: INTUBED, dtype: int64\n",
            "\n",
            "\n",
            "2     892534\n",
            "1     140038\n",
            "99     16003\n",
            "Name: PNEUMONIA, dtype: int64\n",
            "\n",
            "\n",
            "30     27010\n",
            "31     25927\n",
            "28     25313\n",
            "29     25134\n",
            "34     24872\n",
            "       ...  \n",
            "114        2\n",
            "116        2\n",
            "111        1\n",
            "121        1\n",
            "113        1\n",
            "Name: AGE, Length: 121, dtype: int64\n",
            "\n",
            "\n",
            "97    523511\n",
            "2     513179\n",
            "1       8131\n",
            "98      3754\n",
            "Name: PREGNANT, dtype: int64\n",
            "\n",
            "\n",
            "2     920248\n",
            "1     124989\n",
            "98      3338\n",
            "Name: DIABETES, dtype: int64\n",
            "\n",
            "\n",
            "2     1030510\n",
            "1       15062\n",
            "98       3003\n",
            "Name: COPD, dtype: int64\n",
            "\n",
            "\n",
            "2     1014024\n",
            "1       31572\n",
            "98       2979\n",
            "Name: ASTHMA, dtype: int64\n",
            "\n",
            "\n",
            "2     1031001\n",
            "1       14170\n",
            "98       3404\n",
            "Name: INMSUPR, dtype: int64\n",
            "\n",
            "\n",
            "2     882742\n",
            "1     162729\n",
            "98      3104\n",
            "Name: HIPERTENSION, dtype: int64\n",
            "\n",
            "\n",
            "2     1015490\n",
            "1       28040\n",
            "98       5045\n",
            "Name: OTHER_DISEASE, dtype: int64\n",
            "\n",
            "\n",
            "2     1024730\n",
            "1       20769\n",
            "98       3076\n",
            "Name: CARDIOVASCULAR, dtype: int64\n",
            "\n",
            "\n",
            "2     885727\n",
            "1     159816\n",
            "98      3032\n",
            "Name: OBESITY, dtype: int64\n",
            "\n",
            "\n",
            "2     1026665\n",
            "1       18904\n",
            "98       3006\n",
            "Name: RENAL_CHRONIC, dtype: int64\n",
            "\n",
            "\n",
            "2     960979\n",
            "1      84376\n",
            "98      3220\n",
            "Name: TOBACCO, dtype: int64\n",
            "\n",
            "\n",
            "7    499250\n",
            "3    381527\n",
            "6    128133\n",
            "5     26091\n",
            "1      8601\n",
            "4      3122\n",
            "2      1851\n",
            "Name: CLASIFFICATION_FINAL, dtype: int64\n",
            "\n",
            "\n",
            "97    848544\n",
            "2     175685\n",
            "1      16858\n",
            "99      7488\n",
            "Name: ICU, dtype: int64\n",
            "\n",
            "\n"
          ]
        }
      ],
      "source": [
        "df_copy = df.copy()\n",
        "df_copy.shape\n",
        "\n",
        "for i in df.columns:\n",
        " print(df[i].value_counts())\n",
        " print('\\n')"
      ]
    },
    {
      "cell_type": "markdown",
      "source": [
        "### PREGNANT column cleaning"
      ],
      "metadata": {
        "id": "wDNqiSXupQm3"
      }
    },
    {
      "cell_type": "markdown",
      "source": [
        "As Men cannot be PREGNANT, we convert all the 97(missing values) to 2(No) for all row values with SEX = 2(MALE) "
      ],
      "metadata": {
        "id": "-WCogSys5ePP"
      }
    },
    {
      "cell_type": "code",
      "source": [
        "# replace all the missing values from PREGNANT column if Gender is MALE\n",
        "print(\"in original dataset :\\n\",df_copy[(df_copy.SEX == 2)]['PREGNANT'].value_counts())\n",
        "\n",
        "df_copy.loc[(df_copy.SEX == 2) & (df_copy.PREGNANT == 97), \"PREGNANT\"] = df_copy[\"PREGNANT\"].replace(97, 2)\n",
        "\n",
        "print(\"\\n\\nafter above step :\\n\",df_copy[(df_copy.SEX == 2)]['PREGNANT'].value_counts())"
      ],
      "metadata": {
        "id": "6a_EiUKvtR3h",
        "outputId": "709445b4-4e6d-4c65-bdf6-93db03002820",
        "colab": {
          "base_uri": "https://localhost:8080/"
        }
      },
      "execution_count": 56,
      "outputs": [
        {
          "output_type": "stream",
          "name": "stdout",
          "text": [
            "in original dataset :\n",
            " 97    523511\n",
            "Name: PREGNANT, dtype: int64\n",
            "\n",
            "\n",
            "after above step :\n",
            " 2    523511\n",
            "Name: PREGNANT, dtype: int64\n"
          ]
        }
      ]
    },
    {
      "cell_type": "markdown",
      "source": [
        "### CLASIFICATION_FINAL column cleaning"
      ],
      "metadata": {
        "id": "nVkyXu51paHd"
      }
    },
    {
      "cell_type": "markdown",
      "source": [
        "Consider the column CLASIFICATION_FINAL which describes if the patient is tested positive for Covid or was the test inconclusive.\n",
        "\n",
        "For values >=4 i.e. 4,5,6,7 , the test is either negative or inconclusive, hence, we will replace it with 0(\"NO\") \n",
        "\n",
        "For Values 1,2,3 the covid test is Positive, hence, we will replace it with 1(\"YES\")"
      ],
      "metadata": {
        "id": "NIMMXm2C6O26"
      }
    },
    {
      "cell_type": "code",
      "source": [
        "# Consider CLASSIFICATION column , replace all values >4 with 2(\"NO\") since covid test is inconclusive \n",
        "print(\"\\n\\nas per original dataset :\\n\",df_copy.loc[(df_copy.CLASIFFICATION_FINAL >= 4), \"CLASIFFICATION_FINAL\"])\n",
        "\n",
        "df_copy.loc[(df_copy.CLASIFFICATION_FINAL >= 4), \"CLASIFFICATION_FINAL\"] = df_copy[\"CLASIFFICATION_FINAL\"].replace([4,5,6,7], 0)\n",
        "\n",
        "print(\"Repacing 4,5,6,7 with 0 since covid test is inconclusive\\n\",df_copy['CLASIFFICATION_FINAL'].value_counts())\n",
        "\n",
        "# Consider all values in [1,2,3] as tested positive for Covid-19 Virus\n",
        "df_copy.loc[(df_copy.CLASIFFICATION_FINAL >= 1), \"CLASIFFICATION_FINAL\"] = df_copy[\"CLASIFFICATION_FINAL\"].replace([1,2,3], 1)\n",
        "\n",
        "print(\"Repacing 1,2,3 with 1 since covid test is Positive\\n\",df_copy['CLASIFFICATION_FINAL'].value_counts())"
      ],
      "metadata": {
        "id": "E6c8FPuvtRZ2",
        "outputId": "f278375a-cd24-4622-cc09-e939a136ff8e",
        "colab": {
          "base_uri": "https://localhost:8080/"
        }
      },
      "execution_count": 57,
      "outputs": [
        {
          "output_type": "stream",
          "name": "stdout",
          "text": [
            "\n",
            "\n",
            "as per original dataset :\n",
            " 1          5\n",
            "3          7\n",
            "42         5\n",
            "43         5\n",
            "44         5\n",
            "          ..\n",
            "1048570    7\n",
            "1048571    7\n",
            "1048572    7\n",
            "1048573    7\n",
            "1048574    7\n",
            "Name: CLASIFFICATION_FINAL, Length: 656596, dtype: int64\n",
            "Repacing 4,5,6,7 with 0 since covid test is inconclusive\n",
            " 0    656596\n",
            "3    381527\n",
            "1      8601\n",
            "2      1851\n",
            "Name: CLASIFFICATION_FINAL, dtype: int64\n",
            "Repacing 1,2,3 with 1 since covid test is Positive\n",
            " 0    656596\n",
            "1    391979\n",
            "Name: CLASIFFICATION_FINAL, dtype: int64\n"
          ]
        }
      ]
    },
    {
      "cell_type": "markdown",
      "source": [
        "### Basic Feature Selection"
      ],
      "metadata": {
        "id": "ctEBav72pm5e"
      }
    },
    {
      "cell_type": "markdown",
      "source": [
        "We filter out the columns which do not give us useful information \n",
        "\n",
        "MEDICAL_UNIT - no useful info can be got since it is not known what the enumerations {1, 2, ... 12, 13} mean.\n",
        "\n",
        "ICU  and INTUBATED - Too many missing values."
      ],
      "metadata": {
        "id": "OtOQk1dw7Kqp"
      }
    },
    {
      "cell_type": "code",
      "source": [
        "Filtered_Cols=['USMER', 'SEX', 'PATIENT_TYPE', 'DATE_DIED',\n",
        "       'PNEUMONIA', 'AGE', 'DIABETES', 'COPD', 'ASTHMA', 'INMSUPR',\n",
        "       'HIPERTENSION', 'OTHER_DISEASE', 'CARDIOVASCULAR', 'OBESITY',\n",
        "       'RENAL_CHRONIC', 'TOBACCO', 'CLASIFFICATION_FINAL','PREGNANT']\n",
        "\n",
        "df_reduced=df_copy[Filtered_Cols].copy()"
      ],
      "metadata": {
        "id": "_Caz41zltYP2"
      },
      "execution_count": 58,
      "outputs": []
    },
    {
      "cell_type": "code",
      "execution_count": 59,
      "metadata": {
        "id": "_f2YOMLZghaF",
        "outputId": "bc46a484-f52b-452b-9893-5268072f5469",
        "colab": {
          "base_uri": "https://localhost:8080/"
        }
      },
      "outputs": [
        {
          "output_type": "stream",
          "name": "stdout",
          "text": [
            "   USMER  SEX  PATIENT_TYPE   DATE_DIED  PNEUMONIA   AGE  DIABETES  COPD  \\\n",
            "0      2    1             1  03/05/2020        1.0  65.0       2.0   2.0   \n",
            "1      2    2             1  03/06/2020        1.0  72.0       2.0   2.0   \n",
            "2      2    2             2  09/06/2020        2.0  55.0       1.0   2.0   \n",
            "3      2    1             1  12/06/2020        2.0  53.0       2.0   2.0   \n",
            "4      2    2             1  21/06/2020        2.0  68.0       1.0   2.0   \n",
            "\n",
            "   ASTHMA  INMSUPR  HIPERTENSION  OTHER_DISEASE  CARDIOVASCULAR  OBESITY  \\\n",
            "0     2.0      2.0           1.0            2.0             2.0      2.0   \n",
            "1     2.0      2.0           1.0            2.0             2.0      1.0   \n",
            "2     2.0      2.0           2.0            2.0             2.0      2.0   \n",
            "3     2.0      2.0           2.0            2.0             2.0      2.0   \n",
            "4     2.0      2.0           1.0            2.0             2.0      2.0   \n",
            "\n",
            "   RENAL_CHRONIC  TOBACCO  CLASIFFICATION_FINAL  PREGNANT  \n",
            "0            2.0      2.0                     1       2.0  \n",
            "1            1.0      2.0                     0       2.0  \n",
            "2            2.0      2.0                     1       2.0  \n",
            "3            2.0      2.0                     0       2.0  \n",
            "4            2.0      2.0                     1       2.0   \n",
            "reduced size after data cleaning:  (1021655, 18) \n",
            "original size :  (1048575, 21)\n"
          ]
        }
      ],
      "source": [
        "# The shape of data frame after considering the filled values from different columns\n",
        "original_number_of_datapoints = df.shape\n",
        "df_reduced = df_reduced.replace([97, 98, 99], np.nan)\n",
        "df_reduced=df_reduced.dropna(axis=0)\n",
        "print(df_reduced.head(),\"\\nreduced size after data cleaning: \",df_reduced.shape,\n",
        "      \"\\noriginal size : \",original_number_of_datapoints)"
      ]
    },
    {
      "cell_type": "markdown",
      "source": [
        "### Target Cleaning"
      ],
      "metadata": {
        "id": "PXxzZvsqpwIL"
      }
    },
    {
      "cell_type": "code",
      "execution_count": 60,
      "metadata": {
        "id": "aWb7FBqpghaG"
      },
      "outputs": [],
      "source": [
        "# \"In data set 9999-99-99 indicates person is not died, so replacing these values with 0. Persons who really died has values 03-03-2020 format. So replacing data format values with 1. So 0 means died, 1 means not died in DATE_DIED column\n",
        "\n",
        "df_reduced[\"DATE_DIED\"] = [0 if each==\"9999-99-99\" else 1 for each in df_reduced.DATE_DIED]"
      ]
    },
    {
      "cell_type": "code",
      "source": [
        "for i in df_reduced.columns:\n",
        " print(df_reduced[i].value_counts())\n",
        " print('\\n')"
      ],
      "metadata": {
        "id": "TSjUkj65zpkO",
        "outputId": "0b23ecf0-03fd-4494-b6e3-e660e02d14eb",
        "colab": {
          "base_uri": "https://localhost:8080/"
        }
      },
      "execution_count": 61,
      "outputs": [
        {
          "output_type": "stream",
          "name": "stdout",
          "text": [
            "2    655933\n",
            "1    365722\n",
            "Name: USMER, dtype: int64\n",
            "\n",
            "\n",
            "2    511795\n",
            "1    509860\n",
            "Name: SEX, dtype: int64\n",
            "\n",
            "\n",
            "1    830233\n",
            "2    191422\n",
            "Name: PATIENT_TYPE, dtype: int64\n",
            "\n",
            "\n",
            "0    947100\n",
            "1     74555\n",
            "Name: DATE_DIED, dtype: int64\n",
            "\n",
            "\n",
            "2.0    884402\n",
            "1.0    137253\n",
            "Name: PNEUMONIA, dtype: int64\n",
            "\n",
            "\n",
            "30.0     26456\n",
            "31.0     25419\n",
            "28.0     24735\n",
            "29.0     24595\n",
            "34.0     24406\n",
            "         ...  \n",
            "115.0        2\n",
            "119.0        2\n",
            "111.0        1\n",
            "121.0        1\n",
            "113.0        1\n",
            "Name: AGE, Length: 118, dtype: int64\n",
            "\n",
            "\n",
            "2.0    899531\n",
            "1.0    122124\n",
            "Name: DIABETES, dtype: int64\n",
            "\n",
            "\n",
            "2.0    1007356\n",
            "1.0      14299\n",
            "Name: COPD, dtype: int64\n",
            "\n",
            "\n",
            "2.0    991243\n",
            "1.0     30412\n",
            "Name: ASTHMA, dtype: int64\n",
            "\n",
            "\n",
            "2.0    1008105\n",
            "1.0      13550\n",
            "Name: INMSUPR, dtype: int64\n",
            "\n",
            "\n",
            "2.0    862521\n",
            "1.0    159134\n",
            "Name: HIPERTENSION, dtype: int64\n",
            "\n",
            "\n",
            "2.0    994597\n",
            "1.0     27058\n",
            "Name: OTHER_DISEASE, dtype: int64\n",
            "\n",
            "\n",
            "2.0    1001613\n",
            "1.0      20042\n",
            "Name: CARDIOVASCULAR, dtype: int64\n",
            "\n",
            "\n",
            "2.0    865081\n",
            "1.0    156574\n",
            "Name: OBESITY, dtype: int64\n",
            "\n",
            "\n",
            "2.0    1003350\n",
            "1.0      18305\n",
            "Name: RENAL_CHRONIC, dtype: int64\n",
            "\n",
            "\n",
            "2.0    939141\n",
            "1.0     82514\n",
            "Name: TOBACCO, dtype: int64\n",
            "\n",
            "\n",
            "0    634185\n",
            "1    387470\n",
            "Name: CLASIFFICATION_FINAL, dtype: int64\n",
            "\n",
            "\n",
            "2.0    1013814\n",
            "1.0       7841\n",
            "Name: PREGNANT, dtype: int64\n",
            "\n",
            "\n"
          ]
        }
      ]
    },
    {
      "cell_type": "code",
      "execution_count": 62,
      "metadata": {
        "id": "SKAfGK6YghaG",
        "outputId": "d4fdb108-05ef-49b3-e197-dc1dcd936080",
        "colab": {
          "base_uri": "https://localhost:8080/"
        }
      },
      "outputs": [
        {
          "output_type": "stream",
          "name": "stdout",
          "text": [
            "Number of people who died: 74555\n",
            "Number of people who did not die: 947100\n",
            "Percentage of people who died: 7.2974732174755665 %\n",
            "Percentage of people who did not die: 92.70252678252443 %\n"
          ]
        }
      ],
      "source": [
        "num_died = (df_reduced['DATE_DIED'] == 1).sum()\n",
        "num_not_died = (df_reduced['DATE_DIED'] == 0).sum()\n",
        "perc_died = num_died / len(df_reduced) * 100\n",
        "perc_not_died = num_not_died / len(df_reduced) * 100\n",
        "\n",
        "# Print the results\n",
        "print(\"Number of people who died:\", num_died)\n",
        "print(\"Number of people who did not die:\", num_not_died)\n",
        "print(\"Percentage of people who died:\", perc_died, \"%\")\n",
        "print(\"Percentage of people who did not die:\", perc_not_died, \"%\")"
      ]
    },
    {
      "cell_type": "markdown",
      "source": [
        "### PATIENT_TYPE Column cleaning"
      ],
      "metadata": {
        "id": "W5Iexaukp5nU"
      }
    },
    {
      "cell_type": "markdown",
      "source": [
        "Consider the column 'PATIENT_TYPE' . \n",
        "\n",
        "It describes whether the patient returned home (1) or hosptialized (2) \n",
        "we will change the feature name to Hospitalized and have Yes as 1 No as 0"
      ],
      "metadata": {
        "id": "nMFlI6yFHS_P"
      }
    },
    {
      "cell_type": "code",
      "source": [
        "print(\"\\n\\nas per reduced dataset number of samples with patient type 1 and 2 :\" , df_reduced[\"PATIENT_TYPE\"].value_counts())\n",
        "\n",
        "df_reduced.loc[(df_reduced.PATIENT_TYPE == 1), \"PATIENT_TYPE\"] = df_reduced[\"PATIENT_TYPE\"].replace(1, 0)\n",
        "df_reduced.loc[(df_reduced.PATIENT_TYPE == 2), \"PATIENT_TYPE\"] = df_reduced[\"PATIENT_TYPE\"].replace(2, 1)\n",
        "\n",
        "print(\"\\n\\nafter above steps, number of samples with patient type 1 and 2 :\" , df_reduced[\"PATIENT_TYPE\"].value_counts())"
      ],
      "metadata": {
        "id": "oWEi7pbNHTYy",
        "outputId": "cbb6a079-5e2f-421f-8750-11ccd7b6e5d6",
        "colab": {
          "base_uri": "https://localhost:8080/"
        }
      },
      "execution_count": 63,
      "outputs": [
        {
          "output_type": "stream",
          "name": "stdout",
          "text": [
            "\n",
            "\n",
            "as per reduced dataset number of samples with patient type 1 and 2 : 1    830233\n",
            "2    191422\n",
            "Name: PATIENT_TYPE, dtype: int64\n",
            "\n",
            "\n",
            "after above steps, number of samples with patient type 1 and 2 : 0    830233\n",
            "1    191422\n",
            "Name: PATIENT_TYPE, dtype: int64\n"
          ]
        }
      ]
    },
    {
      "cell_type": "markdown",
      "source": [
        "### Convert to Binary Feature Vectors"
      ],
      "metadata": {
        "id": "sGVbSwJvqAzq"
      }
    },
    {
      "cell_type": "markdown",
      "source": [
        "Convert all 2(No) and 1(Yes) Values to binary  0(No) and 1(Yes)"
      ],
      "metadata": {
        "id": "V1R_SFTvE-sG"
      }
    },
    {
      "cell_type": "code",
      "source": [
        "df_final = df_reduced.copy()\n",
        "for col in df_final.columns:\n",
        "  df_final = df_final.replace(2,0)\n",
        "\n",
        "df_final = df_final.astype(int)\n",
        "df_final"
      ],
      "metadata": {
        "id": "FkR4NBj5E-Zg",
        "outputId": "5244552d-fef9-4469-d1ca-45d021929291",
        "colab": {
          "base_uri": "https://localhost:8080/",
          "height": 487
        }
      },
      "execution_count": 64,
      "outputs": [
        {
          "output_type": "execute_result",
          "data": {
            "text/plain": [
              "         USMER  SEX  PATIENT_TYPE  DATE_DIED  PNEUMONIA  AGE  DIABETES  COPD  \\\n",
              "0            0    1             0          1          1   65         0     0   \n",
              "1            0    0             0          1          1   72         0     0   \n",
              "2            0    0             1          1          0   55         1     0   \n",
              "3            0    1             0          1          0   53         0     0   \n",
              "4            0    0             0          1          0   68         1     0   \n",
              "...        ...  ...           ...        ...        ...  ...       ...   ...   \n",
              "1048570      0    0             0          0          0   40         0     0   \n",
              "1048571      1    0             1          0          0   51         0     0   \n",
              "1048572      0    0             0          0          0   55         0     0   \n",
              "1048573      0    0             0          0          0   28         0     0   \n",
              "1048574      0    0             0          0          0   52         0     0   \n",
              "\n",
              "         ASTHMA  INMSUPR  HIPERTENSION  OTHER_DISEASE  CARDIOVASCULAR  \\\n",
              "0             0        0             1              0               0   \n",
              "1             0        0             1              0               0   \n",
              "2             0        0             0              0               0   \n",
              "3             0        0             0              0               0   \n",
              "4             0        0             1              0               0   \n",
              "...         ...      ...           ...            ...             ...   \n",
              "1048570       0        0             0              0               0   \n",
              "1048571       0        0             1              0               0   \n",
              "1048572       0        0             0              0               0   \n",
              "1048573       0        0             0              0               0   \n",
              "1048574       0        0             0              0               0   \n",
              "\n",
              "         OBESITY  RENAL_CHRONIC  TOBACCO  CLASIFFICATION_FINAL  PREGNANT  \n",
              "0              0              0        0                     1         0  \n",
              "1              1              1        0                     0         0  \n",
              "2              0              0        0                     1         0  \n",
              "3              0              0        0                     0         0  \n",
              "4              0              0        0                     1         0  \n",
              "...          ...            ...      ...                   ...       ...  \n",
              "1048570        0              0        0                     0         0  \n",
              "1048571        0              0        0                     0         0  \n",
              "1048572        0              0        0                     0         0  \n",
              "1048573        0              0        0                     0         0  \n",
              "1048574        0              0        0                     0         0  \n",
              "\n",
              "[1021655 rows x 18 columns]"
            ],
            "text/html": [
              "\n",
              "  <div id=\"df-ee75dc34-3540-4537-8e9a-bcf06d36151d\">\n",
              "    <div class=\"colab-df-container\">\n",
              "      <div>\n",
              "<style scoped>\n",
              "    .dataframe tbody tr th:only-of-type {\n",
              "        vertical-align: middle;\n",
              "    }\n",
              "\n",
              "    .dataframe tbody tr th {\n",
              "        vertical-align: top;\n",
              "    }\n",
              "\n",
              "    .dataframe thead th {\n",
              "        text-align: right;\n",
              "    }\n",
              "</style>\n",
              "<table border=\"1\" class=\"dataframe\">\n",
              "  <thead>\n",
              "    <tr style=\"text-align: right;\">\n",
              "      <th></th>\n",
              "      <th>USMER</th>\n",
              "      <th>SEX</th>\n",
              "      <th>PATIENT_TYPE</th>\n",
              "      <th>DATE_DIED</th>\n",
              "      <th>PNEUMONIA</th>\n",
              "      <th>AGE</th>\n",
              "      <th>DIABETES</th>\n",
              "      <th>COPD</th>\n",
              "      <th>ASTHMA</th>\n",
              "      <th>INMSUPR</th>\n",
              "      <th>HIPERTENSION</th>\n",
              "      <th>OTHER_DISEASE</th>\n",
              "      <th>CARDIOVASCULAR</th>\n",
              "      <th>OBESITY</th>\n",
              "      <th>RENAL_CHRONIC</th>\n",
              "      <th>TOBACCO</th>\n",
              "      <th>CLASIFFICATION_FINAL</th>\n",
              "      <th>PREGNANT</th>\n",
              "    </tr>\n",
              "  </thead>\n",
              "  <tbody>\n",
              "    <tr>\n",
              "      <th>0</th>\n",
              "      <td>0</td>\n",
              "      <td>1</td>\n",
              "      <td>0</td>\n",
              "      <td>1</td>\n",
              "      <td>1</td>\n",
              "      <td>65</td>\n",
              "      <td>0</td>\n",
              "      <td>0</td>\n",
              "      <td>0</td>\n",
              "      <td>0</td>\n",
              "      <td>1</td>\n",
              "      <td>0</td>\n",
              "      <td>0</td>\n",
              "      <td>0</td>\n",
              "      <td>0</td>\n",
              "      <td>0</td>\n",
              "      <td>1</td>\n",
              "      <td>0</td>\n",
              "    </tr>\n",
              "    <tr>\n",
              "      <th>1</th>\n",
              "      <td>0</td>\n",
              "      <td>0</td>\n",
              "      <td>0</td>\n",
              "      <td>1</td>\n",
              "      <td>1</td>\n",
              "      <td>72</td>\n",
              "      <td>0</td>\n",
              "      <td>0</td>\n",
              "      <td>0</td>\n",
              "      <td>0</td>\n",
              "      <td>1</td>\n",
              "      <td>0</td>\n",
              "      <td>0</td>\n",
              "      <td>1</td>\n",
              "      <td>1</td>\n",
              "      <td>0</td>\n",
              "      <td>0</td>\n",
              "      <td>0</td>\n",
              "    </tr>\n",
              "    <tr>\n",
              "      <th>2</th>\n",
              "      <td>0</td>\n",
              "      <td>0</td>\n",
              "      <td>1</td>\n",
              "      <td>1</td>\n",
              "      <td>0</td>\n",
              "      <td>55</td>\n",
              "      <td>1</td>\n",
              "      <td>0</td>\n",
              "      <td>0</td>\n",
              "      <td>0</td>\n",
              "      <td>0</td>\n",
              "      <td>0</td>\n",
              "      <td>0</td>\n",
              "      <td>0</td>\n",
              "      <td>0</td>\n",
              "      <td>0</td>\n",
              "      <td>1</td>\n",
              "      <td>0</td>\n",
              "    </tr>\n",
              "    <tr>\n",
              "      <th>3</th>\n",
              "      <td>0</td>\n",
              "      <td>1</td>\n",
              "      <td>0</td>\n",
              "      <td>1</td>\n",
              "      <td>0</td>\n",
              "      <td>53</td>\n",
              "      <td>0</td>\n",
              "      <td>0</td>\n",
              "      <td>0</td>\n",
              "      <td>0</td>\n",
              "      <td>0</td>\n",
              "      <td>0</td>\n",
              "      <td>0</td>\n",
              "      <td>0</td>\n",
              "      <td>0</td>\n",
              "      <td>0</td>\n",
              "      <td>0</td>\n",
              "      <td>0</td>\n",
              "    </tr>\n",
              "    <tr>\n",
              "      <th>4</th>\n",
              "      <td>0</td>\n",
              "      <td>0</td>\n",
              "      <td>0</td>\n",
              "      <td>1</td>\n",
              "      <td>0</td>\n",
              "      <td>68</td>\n",
              "      <td>1</td>\n",
              "      <td>0</td>\n",
              "      <td>0</td>\n",
              "      <td>0</td>\n",
              "      <td>1</td>\n",
              "      <td>0</td>\n",
              "      <td>0</td>\n",
              "      <td>0</td>\n",
              "      <td>0</td>\n",
              "      <td>0</td>\n",
              "      <td>1</td>\n",
              "      <td>0</td>\n",
              "    </tr>\n",
              "    <tr>\n",
              "      <th>...</th>\n",
              "      <td>...</td>\n",
              "      <td>...</td>\n",
              "      <td>...</td>\n",
              "      <td>...</td>\n",
              "      <td>...</td>\n",
              "      <td>...</td>\n",
              "      <td>...</td>\n",
              "      <td>...</td>\n",
              "      <td>...</td>\n",
              "      <td>...</td>\n",
              "      <td>...</td>\n",
              "      <td>...</td>\n",
              "      <td>...</td>\n",
              "      <td>...</td>\n",
              "      <td>...</td>\n",
              "      <td>...</td>\n",
              "      <td>...</td>\n",
              "      <td>...</td>\n",
              "    </tr>\n",
              "    <tr>\n",
              "      <th>1048570</th>\n",
              "      <td>0</td>\n",
              "      <td>0</td>\n",
              "      <td>0</td>\n",
              "      <td>0</td>\n",
              "      <td>0</td>\n",
              "      <td>40</td>\n",
              "      <td>0</td>\n",
              "      <td>0</td>\n",
              "      <td>0</td>\n",
              "      <td>0</td>\n",
              "      <td>0</td>\n",
              "      <td>0</td>\n",
              "      <td>0</td>\n",
              "      <td>0</td>\n",
              "      <td>0</td>\n",
              "      <td>0</td>\n",
              "      <td>0</td>\n",
              "      <td>0</td>\n",
              "    </tr>\n",
              "    <tr>\n",
              "      <th>1048571</th>\n",
              "      <td>1</td>\n",
              "      <td>0</td>\n",
              "      <td>1</td>\n",
              "      <td>0</td>\n",
              "      <td>0</td>\n",
              "      <td>51</td>\n",
              "      <td>0</td>\n",
              "      <td>0</td>\n",
              "      <td>0</td>\n",
              "      <td>0</td>\n",
              "      <td>1</td>\n",
              "      <td>0</td>\n",
              "      <td>0</td>\n",
              "      <td>0</td>\n",
              "      <td>0</td>\n",
              "      <td>0</td>\n",
              "      <td>0</td>\n",
              "      <td>0</td>\n",
              "    </tr>\n",
              "    <tr>\n",
              "      <th>1048572</th>\n",
              "      <td>0</td>\n",
              "      <td>0</td>\n",
              "      <td>0</td>\n",
              "      <td>0</td>\n",
              "      <td>0</td>\n",
              "      <td>55</td>\n",
              "      <td>0</td>\n",
              "      <td>0</td>\n",
              "      <td>0</td>\n",
              "      <td>0</td>\n",
              "      <td>0</td>\n",
              "      <td>0</td>\n",
              "      <td>0</td>\n",
              "      <td>0</td>\n",
              "      <td>0</td>\n",
              "      <td>0</td>\n",
              "      <td>0</td>\n",
              "      <td>0</td>\n",
              "    </tr>\n",
              "    <tr>\n",
              "      <th>1048573</th>\n",
              "      <td>0</td>\n",
              "      <td>0</td>\n",
              "      <td>0</td>\n",
              "      <td>0</td>\n",
              "      <td>0</td>\n",
              "      <td>28</td>\n",
              "      <td>0</td>\n",
              "      <td>0</td>\n",
              "      <td>0</td>\n",
              "      <td>0</td>\n",
              "      <td>0</td>\n",
              "      <td>0</td>\n",
              "      <td>0</td>\n",
              "      <td>0</td>\n",
              "      <td>0</td>\n",
              "      <td>0</td>\n",
              "      <td>0</td>\n",
              "      <td>0</td>\n",
              "    </tr>\n",
              "    <tr>\n",
              "      <th>1048574</th>\n",
              "      <td>0</td>\n",
              "      <td>0</td>\n",
              "      <td>0</td>\n",
              "      <td>0</td>\n",
              "      <td>0</td>\n",
              "      <td>52</td>\n",
              "      <td>0</td>\n",
              "      <td>0</td>\n",
              "      <td>0</td>\n",
              "      <td>0</td>\n",
              "      <td>0</td>\n",
              "      <td>0</td>\n",
              "      <td>0</td>\n",
              "      <td>0</td>\n",
              "      <td>0</td>\n",
              "      <td>0</td>\n",
              "      <td>0</td>\n",
              "      <td>0</td>\n",
              "    </tr>\n",
              "  </tbody>\n",
              "</table>\n",
              "<p>1021655 rows × 18 columns</p>\n",
              "</div>\n",
              "      <button class=\"colab-df-convert\" onclick=\"convertToInteractive('df-ee75dc34-3540-4537-8e9a-bcf06d36151d')\"\n",
              "              title=\"Convert this dataframe to an interactive table.\"\n",
              "              style=\"display:none;\">\n",
              "        \n",
              "  <svg xmlns=\"http://www.w3.org/2000/svg\" height=\"24px\"viewBox=\"0 0 24 24\"\n",
              "       width=\"24px\">\n",
              "    <path d=\"M0 0h24v24H0V0z\" fill=\"none\"/>\n",
              "    <path d=\"M18.56 5.44l.94 2.06.94-2.06 2.06-.94-2.06-.94-.94-2.06-.94 2.06-2.06.94zm-11 1L8.5 8.5l.94-2.06 2.06-.94-2.06-.94L8.5 2.5l-.94 2.06-2.06.94zm10 10l.94 2.06.94-2.06 2.06-.94-2.06-.94-.94-2.06-.94 2.06-2.06.94z\"/><path d=\"M17.41 7.96l-1.37-1.37c-.4-.4-.92-.59-1.43-.59-.52 0-1.04.2-1.43.59L10.3 9.45l-7.72 7.72c-.78.78-.78 2.05 0 2.83L4 21.41c.39.39.9.59 1.41.59.51 0 1.02-.2 1.41-.59l7.78-7.78 2.81-2.81c.8-.78.8-2.07 0-2.86zM5.41 20L4 18.59l7.72-7.72 1.47 1.35L5.41 20z\"/>\n",
              "  </svg>\n",
              "      </button>\n",
              "      \n",
              "  <style>\n",
              "    .colab-df-container {\n",
              "      display:flex;\n",
              "      flex-wrap:wrap;\n",
              "      gap: 12px;\n",
              "    }\n",
              "\n",
              "    .colab-df-convert {\n",
              "      background-color: #E8F0FE;\n",
              "      border: none;\n",
              "      border-radius: 50%;\n",
              "      cursor: pointer;\n",
              "      display: none;\n",
              "      fill: #1967D2;\n",
              "      height: 32px;\n",
              "      padding: 0 0 0 0;\n",
              "      width: 32px;\n",
              "    }\n",
              "\n",
              "    .colab-df-convert:hover {\n",
              "      background-color: #E2EBFA;\n",
              "      box-shadow: 0px 1px 2px rgba(60, 64, 67, 0.3), 0px 1px 3px 1px rgba(60, 64, 67, 0.15);\n",
              "      fill: #174EA6;\n",
              "    }\n",
              "\n",
              "    [theme=dark] .colab-df-convert {\n",
              "      background-color: #3B4455;\n",
              "      fill: #D2E3FC;\n",
              "    }\n",
              "\n",
              "    [theme=dark] .colab-df-convert:hover {\n",
              "      background-color: #434B5C;\n",
              "      box-shadow: 0px 1px 3px 1px rgba(0, 0, 0, 0.15);\n",
              "      filter: drop-shadow(0px 1px 2px rgba(0, 0, 0, 0.3));\n",
              "      fill: #FFFFFF;\n",
              "    }\n",
              "  </style>\n",
              "\n",
              "      <script>\n",
              "        const buttonEl =\n",
              "          document.querySelector('#df-ee75dc34-3540-4537-8e9a-bcf06d36151d button.colab-df-convert');\n",
              "        buttonEl.style.display =\n",
              "          google.colab.kernel.accessAllowed ? 'block' : 'none';\n",
              "\n",
              "        async function convertToInteractive(key) {\n",
              "          const element = document.querySelector('#df-ee75dc34-3540-4537-8e9a-bcf06d36151d');\n",
              "          const dataTable =\n",
              "            await google.colab.kernel.invokeFunction('convertToInteractive',\n",
              "                                                     [key], {});\n",
              "          if (!dataTable) return;\n",
              "\n",
              "          const docLinkHtml = 'Like what you see? Visit the ' +\n",
              "            '<a target=\"_blank\" href=https://colab.research.google.com/notebooks/data_table.ipynb>data table notebook</a>'\n",
              "            + ' to learn more about interactive tables.';\n",
              "          element.innerHTML = '';\n",
              "          dataTable['output_type'] = 'display_data';\n",
              "          await google.colab.output.renderOutput(dataTable, element);\n",
              "          const docLink = document.createElement('div');\n",
              "          docLink.innerHTML = docLinkHtml;\n",
              "          element.appendChild(docLink);\n",
              "        }\n",
              "      </script>\n",
              "    </div>\n",
              "  </div>\n",
              "  "
            ]
          },
          "metadata": {},
          "execution_count": 64
        }
      ]
    },
    {
      "cell_type": "code",
      "source": [
        "for i in df_final.columns:\n",
        " print(df_final[i].value_counts())\n",
        " print('\\n')"
      ],
      "metadata": {
        "id": "0_ccNxP_h62p",
        "outputId": "c67fb6d9-f29b-4957-ef01-83e16fa44f59",
        "colab": {
          "base_uri": "https://localhost:8080/"
        }
      },
      "execution_count": 65,
      "outputs": [
        {
          "output_type": "stream",
          "name": "stdout",
          "text": [
            "0    655933\n",
            "1    365722\n",
            "Name: USMER, dtype: int64\n",
            "\n",
            "\n",
            "0    511795\n",
            "1    509860\n",
            "Name: SEX, dtype: int64\n",
            "\n",
            "\n",
            "0    830233\n",
            "1    191422\n",
            "Name: PATIENT_TYPE, dtype: int64\n",
            "\n",
            "\n",
            "0    947100\n",
            "1     74555\n",
            "Name: DATE_DIED, dtype: int64\n",
            "\n",
            "\n",
            "0    884402\n",
            "1    137253\n",
            "Name: PNEUMONIA, dtype: int64\n",
            "\n",
            "\n",
            "30     26456\n",
            "31     25419\n",
            "28     24735\n",
            "29     24595\n",
            "34     24406\n",
            "       ...  \n",
            "115        2\n",
            "119        2\n",
            "111        1\n",
            "121        1\n",
            "113        1\n",
            "Name: AGE, Length: 117, dtype: int64\n",
            "\n",
            "\n",
            "0    899531\n",
            "1    122124\n",
            "Name: DIABETES, dtype: int64\n",
            "\n",
            "\n",
            "0    1007356\n",
            "1      14299\n",
            "Name: COPD, dtype: int64\n",
            "\n",
            "\n",
            "0    991243\n",
            "1     30412\n",
            "Name: ASTHMA, dtype: int64\n",
            "\n",
            "\n",
            "0    1008105\n",
            "1      13550\n",
            "Name: INMSUPR, dtype: int64\n",
            "\n",
            "\n",
            "0    862521\n",
            "1    159134\n",
            "Name: HIPERTENSION, dtype: int64\n",
            "\n",
            "\n",
            "0    994597\n",
            "1     27058\n",
            "Name: OTHER_DISEASE, dtype: int64\n",
            "\n",
            "\n",
            "0    1001613\n",
            "1      20042\n",
            "Name: CARDIOVASCULAR, dtype: int64\n",
            "\n",
            "\n",
            "0    865081\n",
            "1    156574\n",
            "Name: OBESITY, dtype: int64\n",
            "\n",
            "\n",
            "0    1003350\n",
            "1      18305\n",
            "Name: RENAL_CHRONIC, dtype: int64\n",
            "\n",
            "\n",
            "0    939141\n",
            "1     82514\n",
            "Name: TOBACCO, dtype: int64\n",
            "\n",
            "\n",
            "0    634185\n",
            "1    387470\n",
            "Name: CLASIFFICATION_FINAL, dtype: int64\n",
            "\n",
            "\n",
            "0    1013814\n",
            "1       7841\n",
            "Name: PREGNANT, dtype: int64\n",
            "\n",
            "\n"
          ]
        }
      ]
    },
    {
      "cell_type": "markdown",
      "source": [
        "### Applying one hot encoding to AGE and SEX Columns\n",
        "\n"
      ],
      "metadata": {
        "id": "vvC4AUzBKK2B"
      }
    },
    {
      "cell_type": "code",
      "source": [
        "age_bins = [0, 20, 40, 60, 80, 100, 120]\n",
        "age_labels = ['0-20', '20-40', '40-60', '60-80','80-100','100-120']\n",
        "df_final['AGE_GROUP'] = pd.cut(df_final['AGE'], bins=age_bins, labels=age_labels)\n",
        "\n",
        "# Apply one hot encoding using pd.get_dummies()\n",
        "one_hot_encoded = pd.get_dummies(df_final['AGE_GROUP'], prefix='AGE')\n",
        "\n",
        "# Concatenate the original dataframe with the one hot encoded dataframe\n",
        "df_final = pd.concat([df_final, one_hot_encoded], axis=1)\n",
        "\n",
        "# Drop the original \"AGE\" and \"AGE_GROUP\" columns\n",
        "df_final.drop(['AGE', 'AGE_GROUP'], axis=1, inplace=True)\n",
        "\n",
        "gender_one_hot = pd.get_dummies(df_final['SEX'], prefix='GENDER', prefix_sep='')\n",
        "df_final = pd.concat([df_final, gender_one_hot], axis=1)\n",
        "df_final.drop(['SEX'], axis=1, inplace=True)\n",
        "\n",
        "df_final = df_final.rename(columns={'PATIENT_TYPE':'HOSPITALIZED', 'DATE_DIED':'DEATH','CLASIFFICATION_FINAL':'COVID-TEST','GENDER0':'MALE','GENDER1':'FEMALE'})\n"
      ],
      "metadata": {
        "id": "Y3hxn3tdKKWT"
      },
      "execution_count": 66,
      "outputs": []
    },
    {
      "cell_type": "code",
      "source": [
        "df_final.head()"
      ],
      "metadata": {
        "id": "V0Czs3duiDZk",
        "outputId": "51366cdb-48d1-4dac-9d97-d2f2bf2b6b07",
        "colab": {
          "base_uri": "https://localhost:8080/",
          "height": 317
        }
      },
      "execution_count": 67,
      "outputs": [
        {
          "output_type": "execute_result",
          "data": {
            "text/plain": [
              "   USMER  HOSPITALIZED  DEATH  PNEUMONIA  DIABETES  COPD  ASTHMA  INMSUPR  \\\n",
              "0      0             0      1          1         0     0       0        0   \n",
              "1      0             0      1          1         0     0       0        0   \n",
              "2      0             1      1          0         1     0       0        0   \n",
              "3      0             0      1          0         0     0       0        0   \n",
              "4      0             0      1          0         1     0       0        0   \n",
              "\n",
              "   HIPERTENSION  OTHER_DISEASE  ...  COVID-TEST  PREGNANT  AGE_0-20  \\\n",
              "0             1              0  ...           1         0         0   \n",
              "1             1              0  ...           0         0         0   \n",
              "2             0              0  ...           1         0         0   \n",
              "3             0              0  ...           0         0         0   \n",
              "4             1              0  ...           1         0         0   \n",
              "\n",
              "   AGE_20-40  AGE_40-60  AGE_60-80  AGE_80-100  AGE_100-120  MALE  FEMALE  \n",
              "0          0          0          1           0            0     0       1  \n",
              "1          0          0          1           0            0     1       0  \n",
              "2          0          1          0           0            0     1       0  \n",
              "3          0          1          0           0            0     0       1  \n",
              "4          0          0          1           0            0     1       0  \n",
              "\n",
              "[5 rows x 24 columns]"
            ],
            "text/html": [
              "\n",
              "  <div id=\"df-65d4030f-36f0-4015-a679-86656170d907\">\n",
              "    <div class=\"colab-df-container\">\n",
              "      <div>\n",
              "<style scoped>\n",
              "    .dataframe tbody tr th:only-of-type {\n",
              "        vertical-align: middle;\n",
              "    }\n",
              "\n",
              "    .dataframe tbody tr th {\n",
              "        vertical-align: top;\n",
              "    }\n",
              "\n",
              "    .dataframe thead th {\n",
              "        text-align: right;\n",
              "    }\n",
              "</style>\n",
              "<table border=\"1\" class=\"dataframe\">\n",
              "  <thead>\n",
              "    <tr style=\"text-align: right;\">\n",
              "      <th></th>\n",
              "      <th>USMER</th>\n",
              "      <th>HOSPITALIZED</th>\n",
              "      <th>DEATH</th>\n",
              "      <th>PNEUMONIA</th>\n",
              "      <th>DIABETES</th>\n",
              "      <th>COPD</th>\n",
              "      <th>ASTHMA</th>\n",
              "      <th>INMSUPR</th>\n",
              "      <th>HIPERTENSION</th>\n",
              "      <th>OTHER_DISEASE</th>\n",
              "      <th>...</th>\n",
              "      <th>COVID-TEST</th>\n",
              "      <th>PREGNANT</th>\n",
              "      <th>AGE_0-20</th>\n",
              "      <th>AGE_20-40</th>\n",
              "      <th>AGE_40-60</th>\n",
              "      <th>AGE_60-80</th>\n",
              "      <th>AGE_80-100</th>\n",
              "      <th>AGE_100-120</th>\n",
              "      <th>MALE</th>\n",
              "      <th>FEMALE</th>\n",
              "    </tr>\n",
              "  </thead>\n",
              "  <tbody>\n",
              "    <tr>\n",
              "      <th>0</th>\n",
              "      <td>0</td>\n",
              "      <td>0</td>\n",
              "      <td>1</td>\n",
              "      <td>1</td>\n",
              "      <td>0</td>\n",
              "      <td>0</td>\n",
              "      <td>0</td>\n",
              "      <td>0</td>\n",
              "      <td>1</td>\n",
              "      <td>0</td>\n",
              "      <td>...</td>\n",
              "      <td>1</td>\n",
              "      <td>0</td>\n",
              "      <td>0</td>\n",
              "      <td>0</td>\n",
              "      <td>0</td>\n",
              "      <td>1</td>\n",
              "      <td>0</td>\n",
              "      <td>0</td>\n",
              "      <td>0</td>\n",
              "      <td>1</td>\n",
              "    </tr>\n",
              "    <tr>\n",
              "      <th>1</th>\n",
              "      <td>0</td>\n",
              "      <td>0</td>\n",
              "      <td>1</td>\n",
              "      <td>1</td>\n",
              "      <td>0</td>\n",
              "      <td>0</td>\n",
              "      <td>0</td>\n",
              "      <td>0</td>\n",
              "      <td>1</td>\n",
              "      <td>0</td>\n",
              "      <td>...</td>\n",
              "      <td>0</td>\n",
              "      <td>0</td>\n",
              "      <td>0</td>\n",
              "      <td>0</td>\n",
              "      <td>0</td>\n",
              "      <td>1</td>\n",
              "      <td>0</td>\n",
              "      <td>0</td>\n",
              "      <td>1</td>\n",
              "      <td>0</td>\n",
              "    </tr>\n",
              "    <tr>\n",
              "      <th>2</th>\n",
              "      <td>0</td>\n",
              "      <td>1</td>\n",
              "      <td>1</td>\n",
              "      <td>0</td>\n",
              "      <td>1</td>\n",
              "      <td>0</td>\n",
              "      <td>0</td>\n",
              "      <td>0</td>\n",
              "      <td>0</td>\n",
              "      <td>0</td>\n",
              "      <td>...</td>\n",
              "      <td>1</td>\n",
              "      <td>0</td>\n",
              "      <td>0</td>\n",
              "      <td>0</td>\n",
              "      <td>1</td>\n",
              "      <td>0</td>\n",
              "      <td>0</td>\n",
              "      <td>0</td>\n",
              "      <td>1</td>\n",
              "      <td>0</td>\n",
              "    </tr>\n",
              "    <tr>\n",
              "      <th>3</th>\n",
              "      <td>0</td>\n",
              "      <td>0</td>\n",
              "      <td>1</td>\n",
              "      <td>0</td>\n",
              "      <td>0</td>\n",
              "      <td>0</td>\n",
              "      <td>0</td>\n",
              "      <td>0</td>\n",
              "      <td>0</td>\n",
              "      <td>0</td>\n",
              "      <td>...</td>\n",
              "      <td>0</td>\n",
              "      <td>0</td>\n",
              "      <td>0</td>\n",
              "      <td>0</td>\n",
              "      <td>1</td>\n",
              "      <td>0</td>\n",
              "      <td>0</td>\n",
              "      <td>0</td>\n",
              "      <td>0</td>\n",
              "      <td>1</td>\n",
              "    </tr>\n",
              "    <tr>\n",
              "      <th>4</th>\n",
              "      <td>0</td>\n",
              "      <td>0</td>\n",
              "      <td>1</td>\n",
              "      <td>0</td>\n",
              "      <td>1</td>\n",
              "      <td>0</td>\n",
              "      <td>0</td>\n",
              "      <td>0</td>\n",
              "      <td>1</td>\n",
              "      <td>0</td>\n",
              "      <td>...</td>\n",
              "      <td>1</td>\n",
              "      <td>0</td>\n",
              "      <td>0</td>\n",
              "      <td>0</td>\n",
              "      <td>0</td>\n",
              "      <td>1</td>\n",
              "      <td>0</td>\n",
              "      <td>0</td>\n",
              "      <td>1</td>\n",
              "      <td>0</td>\n",
              "    </tr>\n",
              "  </tbody>\n",
              "</table>\n",
              "<p>5 rows × 24 columns</p>\n",
              "</div>\n",
              "      <button class=\"colab-df-convert\" onclick=\"convertToInteractive('df-65d4030f-36f0-4015-a679-86656170d907')\"\n",
              "              title=\"Convert this dataframe to an interactive table.\"\n",
              "              style=\"display:none;\">\n",
              "        \n",
              "  <svg xmlns=\"http://www.w3.org/2000/svg\" height=\"24px\"viewBox=\"0 0 24 24\"\n",
              "       width=\"24px\">\n",
              "    <path d=\"M0 0h24v24H0V0z\" fill=\"none\"/>\n",
              "    <path d=\"M18.56 5.44l.94 2.06.94-2.06 2.06-.94-2.06-.94-.94-2.06-.94 2.06-2.06.94zm-11 1L8.5 8.5l.94-2.06 2.06-.94-2.06-.94L8.5 2.5l-.94 2.06-2.06.94zm10 10l.94 2.06.94-2.06 2.06-.94-2.06-.94-.94-2.06-.94 2.06-2.06.94z\"/><path d=\"M17.41 7.96l-1.37-1.37c-.4-.4-.92-.59-1.43-.59-.52 0-1.04.2-1.43.59L10.3 9.45l-7.72 7.72c-.78.78-.78 2.05 0 2.83L4 21.41c.39.39.9.59 1.41.59.51 0 1.02-.2 1.41-.59l7.78-7.78 2.81-2.81c.8-.78.8-2.07 0-2.86zM5.41 20L4 18.59l7.72-7.72 1.47 1.35L5.41 20z\"/>\n",
              "  </svg>\n",
              "      </button>\n",
              "      \n",
              "  <style>\n",
              "    .colab-df-container {\n",
              "      display:flex;\n",
              "      flex-wrap:wrap;\n",
              "      gap: 12px;\n",
              "    }\n",
              "\n",
              "    .colab-df-convert {\n",
              "      background-color: #E8F0FE;\n",
              "      border: none;\n",
              "      border-radius: 50%;\n",
              "      cursor: pointer;\n",
              "      display: none;\n",
              "      fill: #1967D2;\n",
              "      height: 32px;\n",
              "      padding: 0 0 0 0;\n",
              "      width: 32px;\n",
              "    }\n",
              "\n",
              "    .colab-df-convert:hover {\n",
              "      background-color: #E2EBFA;\n",
              "      box-shadow: 0px 1px 2px rgba(60, 64, 67, 0.3), 0px 1px 3px 1px rgba(60, 64, 67, 0.15);\n",
              "      fill: #174EA6;\n",
              "    }\n",
              "\n",
              "    [theme=dark] .colab-df-convert {\n",
              "      background-color: #3B4455;\n",
              "      fill: #D2E3FC;\n",
              "    }\n",
              "\n",
              "    [theme=dark] .colab-df-convert:hover {\n",
              "      background-color: #434B5C;\n",
              "      box-shadow: 0px 1px 3px 1px rgba(0, 0, 0, 0.15);\n",
              "      filter: drop-shadow(0px 1px 2px rgba(0, 0, 0, 0.3));\n",
              "      fill: #FFFFFF;\n",
              "    }\n",
              "  </style>\n",
              "\n",
              "      <script>\n",
              "        const buttonEl =\n",
              "          document.querySelector('#df-65d4030f-36f0-4015-a679-86656170d907 button.colab-df-convert');\n",
              "        buttonEl.style.display =\n",
              "          google.colab.kernel.accessAllowed ? 'block' : 'none';\n",
              "\n",
              "        async function convertToInteractive(key) {\n",
              "          const element = document.querySelector('#df-65d4030f-36f0-4015-a679-86656170d907');\n",
              "          const dataTable =\n",
              "            await google.colab.kernel.invokeFunction('convertToInteractive',\n",
              "                                                     [key], {});\n",
              "          if (!dataTable) return;\n",
              "\n",
              "          const docLinkHtml = 'Like what you see? Visit the ' +\n",
              "            '<a target=\"_blank\" href=https://colab.research.google.com/notebooks/data_table.ipynb>data table notebook</a>'\n",
              "            + ' to learn more about interactive tables.';\n",
              "          element.innerHTML = '';\n",
              "          dataTable['output_type'] = 'display_data';\n",
              "          await google.colab.output.renderOutput(dataTable, element);\n",
              "          const docLink = document.createElement('div');\n",
              "          docLink.innerHTML = docLinkHtml;\n",
              "          element.appendChild(docLink);\n",
              "        }\n",
              "      </script>\n",
              "    </div>\n",
              "  </div>\n",
              "  "
            ]
          },
          "metadata": {},
          "execution_count": 67
        }
      ]
    },
    {
      "cell_type": "code",
      "source": [
        "for i in df_final.columns:\n",
        " print(df_final[i].value_counts())\n",
        " print('\\n')"
      ],
      "metadata": {
        "id": "Mit-SH7xyQ5m",
        "outputId": "7f931fa9-d01e-4656-ded8-75a5f8f08433",
        "colab": {
          "base_uri": "https://localhost:8080/"
        }
      },
      "execution_count": 68,
      "outputs": [
        {
          "output_type": "stream",
          "name": "stdout",
          "text": [
            "0    655933\n",
            "1    365722\n",
            "Name: USMER, dtype: int64\n",
            "\n",
            "\n",
            "0    830233\n",
            "1    191422\n",
            "Name: HOSPITALIZED, dtype: int64\n",
            "\n",
            "\n",
            "0    947100\n",
            "1     74555\n",
            "Name: DEATH, dtype: int64\n",
            "\n",
            "\n",
            "0    884402\n",
            "1    137253\n",
            "Name: PNEUMONIA, dtype: int64\n",
            "\n",
            "\n",
            "0    899531\n",
            "1    122124\n",
            "Name: DIABETES, dtype: int64\n",
            "\n",
            "\n",
            "0    1007356\n",
            "1      14299\n",
            "Name: COPD, dtype: int64\n",
            "\n",
            "\n",
            "0    991243\n",
            "1     30412\n",
            "Name: ASTHMA, dtype: int64\n",
            "\n",
            "\n",
            "0    1008105\n",
            "1      13550\n",
            "Name: INMSUPR, dtype: int64\n",
            "\n",
            "\n",
            "0    862521\n",
            "1    159134\n",
            "Name: HIPERTENSION, dtype: int64\n",
            "\n",
            "\n",
            "0    994597\n",
            "1     27058\n",
            "Name: OTHER_DISEASE, dtype: int64\n",
            "\n",
            "\n",
            "0    1001613\n",
            "1      20042\n",
            "Name: CARDIOVASCULAR, dtype: int64\n",
            "\n",
            "\n",
            "0    865081\n",
            "1    156574\n",
            "Name: OBESITY, dtype: int64\n",
            "\n",
            "\n",
            "0    1003350\n",
            "1      18305\n",
            "Name: RENAL_CHRONIC, dtype: int64\n",
            "\n",
            "\n",
            "0    939141\n",
            "1     82514\n",
            "Name: TOBACCO, dtype: int64\n",
            "\n",
            "\n",
            "0    634185\n",
            "1    387470\n",
            "Name: COVID-TEST, dtype: int64\n",
            "\n",
            "\n",
            "0    1013814\n",
            "1       7841\n",
            "Name: PREGNANT, dtype: int64\n",
            "\n",
            "\n",
            "0    956305\n",
            "1     65350\n",
            "Name: AGE_0-20, dtype: int64\n",
            "\n",
            "\n",
            "0    580748\n",
            "1    440907\n",
            "Name: AGE_20-40, dtype: int64\n",
            "\n",
            "\n",
            "0    652595\n",
            "1    369060\n",
            "Name: AGE_40-60, dtype: int64\n",
            "\n",
            "\n",
            "0    899871\n",
            "1    121784\n",
            "Name: AGE_60-80, dtype: int64\n",
            "\n",
            "\n",
            "0    1003681\n",
            "1      17974\n",
            "Name: AGE_80-100, dtype: int64\n",
            "\n",
            "\n",
            "0    1021532\n",
            "1        123\n",
            "Name: AGE_100-120, dtype: int64\n",
            "\n",
            "\n",
            "1    511795\n",
            "0    509860\n",
            "Name: MALE, dtype: int64\n",
            "\n",
            "\n",
            "0    511795\n",
            "1    509860\n",
            "Name: FEMALE, dtype: int64\n",
            "\n",
            "\n"
          ]
        }
      ]
    },
    {
      "cell_type": "code",
      "source": [
        "sns.heatmap(data=df_final.drop(axis=1,columns='DEATH').corr())"
      ],
      "metadata": {
        "id": "UuzhkZxnuGGh",
        "outputId": "6154199a-1cb3-489f-90ab-ca32bc2955b7",
        "colab": {
          "base_uri": "https://localhost:8080/",
          "height": 567
        }
      },
      "execution_count": 69,
      "outputs": [
        {
          "output_type": "execute_result",
          "data": {
            "text/plain": [
              "<Axes: >"
            ]
          },
          "metadata": {},
          "execution_count": 69
        },
        {
          "output_type": "display_data",
          "data": {
            "text/plain": [
              "<Figure size 640x480 with 2 Axes>"
            ],
            "image/png": "[encoded data removed]"
          },
          "metadata": {}
        }
      ]
    },
    {
      "cell_type": "code",
      "source": [
        "corr_matrix = df_final.drop(axis=1,columns='DEATH').corr() > 0.2\n",
        "mask = np.eye(len(corr_matrix))\n",
        "sns.heatmap(data=corr_matrix, mask= mask)"
      ],
      "metadata": {
        "id": "k2HGQTH0jpoI",
        "outputId": "b9d9ed5c-2ee5-4225-9daf-3a34ebebafd8",
        "colab": {
          "base_uri": "https://localhost:8080/",
          "height": 567
        }
      },
      "execution_count": 70,
      "outputs": [
        {
          "output_type": "execute_result",
          "data": {
            "text/plain": [
              "<Axes: >"
            ]
          },
          "metadata": {},
          "execution_count": 70
        },
        {
          "output_type": "display_data",
          "data": {
            "text/plain": [
              "<Figure size 640x480 with 2 Axes>"
            ],
            "image/png": "[encoded data removed]"
          },
          "metadata": {}
        }
      ]
    },
    {
      "cell_type": "markdown",
      "source": [
        "# Data Preparation for Model training"
      ],
      "metadata": {
        "id": "0hiUwzZM6knw"
      }
    },
    {
      "cell_type": "code",
      "source": [
        "# get 3 sets of data - train , val , test\n",
        "\n",
        "X = df_final.drop(\"DEATH\", axis=1)\n",
        "y = df_final[\"DEATH\"]\n",
        "\n",
        "# this split gives 2 sets for training and final model testing\n",
        "X_train, X_test, y_train, y_test = train_test_split(X, y, test_size=0.25)\n",
        "\n",
        "print(X_train.shape, X_test.shape)"
      ],
      "metadata": {
        "id": "3zG4sZBS7J2D",
        "outputId": "259bf82b-520f-4fc1-abff-9e546b668a01",
        "colab": {
          "base_uri": "https://localhost:8080/"
        }
      },
      "execution_count": 71,
      "outputs": [
        {
          "output_type": "stream",
          "name": "stdout",
          "text": [
            "(766241, 23) (255414, 23)\n"
          ]
        }
      ]
    },
    {
      "cell_type": "code",
      "source": [
        "y_train.value_counts(), y_test.value_counts()"
      ],
      "metadata": {
        "id": "mxWLhpJUmCAl",
        "outputId": "8d37993f-0cf2-4951-b6a6-a5db4b980296",
        "colab": {
          "base_uri": "https://localhost:8080/"
        }
      },
      "execution_count": 72,
      "outputs": [
        {
          "output_type": "execute_result",
          "data": {
            "text/plain": [
              "(0    710383\n",
              " 1     55858\n",
              " Name: DEATH, dtype: int64,\n",
              " 0    236717\n",
              " 1     18697\n",
              " Name: DEATH, dtype: int64)"
            ]
          },
          "metadata": {},
          "execution_count": 72
        }
      ]
    },
    {
      "cell_type": "markdown",
      "source": [
        "Henceforth , we will only use X_train for hyperparameter tuning.\n",
        "X_test will be reserved only for validating the performance metrics on the final models."
      ],
      "metadata": {
        "id": "wY8zeyYD8Ifb"
      }
    },
    {
      "cell_type": "markdown",
      "source": [
        "## Feature Extraction "
      ],
      "metadata": {
        "id": "VWIi60ToxlZ9"
      }
    },
    {
      "cell_type": "markdown",
      "source": [
        "### Using Random Forest to get the best Features"
      ],
      "metadata": {
        "id": "lOyKe8-8xo-I"
      }
    },
    {
      "cell_type": "code",
      "source": [
        "from sklearn.ensemble import RandomForestClassifier\n",
        "\n",
        "# X is the binary feature matrix, y is the target variable\n",
        "clf = RandomForestClassifier(n_estimators=100, random_state=0)\n",
        "clf.fit(X_train, y_train)\n",
        "importances = clf.feature_importances_\n"
      ],
      "metadata": {
        "id": "1GHCEfd0qmq0"
      },
      "execution_count": 73,
      "outputs": []
    },
    {
      "cell_type": "code",
      "source": [
        "important_features = dict(zip(X_train.columns,importances))\n",
        "important_features = dict(sorted(important_features.items(), key=lambda x: x[1], reverse=True))\n",
        "print(important_features)"
      ],
      "metadata": {
        "id": "qgmQHp5Ctvez",
        "outputId": "1e143af6-0904-4123-f305-b5504bdbe01d",
        "colab": {
          "base_uri": "https://localhost:8080/"
        }
      },
      "execution_count": 74,
      "outputs": [
        {
          "output_type": "stream",
          "name": "stdout",
          "text": [
            "{'HOSPITALIZED': 0.3564379400930583, 'PNEUMONIA': 0.23208733349071703, 'AGE_60-80': 0.07074435875374506, 'COVID-TEST': 0.0668134315721516, 'HIPERTENSION': 0.033996756573546505, 'AGE_20-40': 0.033721066558021144, 'DIABETES': 0.03047677013516047, 'AGE_80-100': 0.023046988510962412, 'USMER': 0.01947306081722737, 'AGE_40-60': 0.017974921527038237, 'OBESITY': 0.015249913146082, 'RENAL_CHRONIC': 0.014163720169891031, 'OTHER_DISEASE': 0.01249441918489071, 'TOBACCO': 0.012118313408902792, 'CARDIOVASCULAR': 0.011806440248389158, 'COPD': 0.010759429609901273, 'INMSUPR': 0.010363729543954463, 'AGE_0-20': 0.007835502049403316, 'ASTHMA': 0.007170259617281672, 'MALE': 0.006231829955954607, 'FEMALE': 0.0060612319495467505, 'PREGNANT': 0.0008261794938423241, 'AGE_100-120': 0.00014640359033181902}\n"
          ]
        }
      ]
    },
    {
      "cell_type": "code",
      "source": [
        "np.cumsum(list(important_features.values()))"
      ],
      "metadata": {
        "id": "sCeGpbFyu3jh",
        "outputId": "4b0c01a1-b820-4cd5-db2c-838c08a1a8d9",
        "colab": {
          "base_uri": "https://localhost:8080/"
        }
      },
      "execution_count": 75,
      "outputs": [
        {
          "output_type": "execute_result",
          "data": {
            "text/plain": [
              "array([0.35643794, 0.58852527, 0.65926963, 0.72608306, 0.76007982,\n",
              "       0.79380089, 0.82427766, 0.84732465, 0.86679771, 0.88477263,\n",
              "       0.90002254, 0.91418626, 0.92668068, 0.93879899, 0.95060543,\n",
              "       0.96136486, 0.97172859, 0.9795641 , 0.98673436, 0.99296618,\n",
              "       0.99902742, 0.9998536 , 1.        ])"
            ]
          },
          "metadata": {},
          "execution_count": 75
        }
      ]
    },
    {
      "cell_type": "code",
      "source": [
        "plt.plot(range(1, len(X_train.columns)+1), np.cumsum(list(important_features.values())))\n",
        "plt.xlabel(\"Number of features\")\n",
        "plt.ylabel(\"Importance of cumulative features\")"
      ],
      "metadata": {
        "id": "cTZEKlltvVBB",
        "outputId": "3633b460-fa4b-43a9-f6b2-a465d54889e3",
        "colab": {
          "base_uri": "https://localhost:8080/",
          "height": 466
        }
      },
      "execution_count": 76,
      "outputs": [
        {
          "output_type": "execute_result",
          "data": {
            "text/plain": [
              "Text(0, 0.5, 'Importance of cumulative features')"
            ]
          },
          "metadata": {},
          "execution_count": 76
        },
        {
          "output_type": "display_data",
          "data": {
            "text/plain": [
              "<Figure size 640x480 with 1 Axes>"
            ],
            "image/png": "[encoded data removed]"
          },
          "metadata": {}
        }
      ]
    },
    {
      "cell_type": "markdown",
      "source": [
        "Choose best k features such that importance adds up to 0.9"
      ],
      "metadata": {
        "id": "T_Kn3FGuwdO8"
      }
    },
    {
      "cell_type": "code",
      "source": [
        "best_features = list(important_features.keys())[:np.argmax(np.cumsum(list(important_features.values())) >= 0.9)+1]\n",
        "best_features"
      ],
      "metadata": {
        "id": "MNP1aXxTueFX",
        "outputId": "a62f5ac3-f5cc-454e-c826-dbcc19f49f28",
        "colab": {
          "base_uri": "https://localhost:8080/"
        }
      },
      "execution_count": 77,
      "outputs": [
        {
          "output_type": "execute_result",
          "data": {
            "text/plain": [
              "['HOSPITALIZED',\n",
              " 'PNEUMONIA',\n",
              " 'AGE_60-80',\n",
              " 'COVID-TEST',\n",
              " 'HIPERTENSION',\n",
              " 'AGE_20-40',\n",
              " 'DIABETES',\n",
              " 'AGE_80-100',\n",
              " 'USMER',\n",
              " 'AGE_40-60',\n",
              " 'OBESITY']"
            ]
          },
          "metadata": {},
          "execution_count": 77
        }
      ]
    },
    {
      "cell_type": "code",
      "source": [
        "X_train_feature_reduced = X_train[best_features].copy()\n",
        "y_train_feature_reduced = y_train.copy()\n",
        "X_test_feature_reduced = X_test[best_features].copy()\n",
        "y_test_feature_reduced = y_test.copy()"
      ],
      "metadata": {
        "id": "80lKU29QuSnb"
      },
      "execution_count": 78,
      "outputs": []
    },
    {
      "cell_type": "markdown",
      "source": [
        "## Resolving Data Imbalance"
      ],
      "metadata": {
        "id": "yAThJxuw6ZOj"
      }
    },
    {
      "cell_type": "markdown",
      "source": [
        "### SMOTE Method from imblearn"
      ],
      "metadata": {
        "id": "3G8td1kG6_n8"
      }
    },
    {
      "cell_type": "code",
      "source": [
        "from imblearn.over_sampling import SMOTE\n",
        "from imblearn.under_sampling import RandomUnderSampler\n",
        "from sklearn.utils import shuffle\n",
        "from imblearn.pipeline import Pipeline as imbPipeline"
      ],
      "metadata": {
        "id": "KCrB7Scg6e35"
      },
      "execution_count": 79,
      "outputs": []
    },
    {
      "cell_type": "code",
      "source": [
        "def data_sampling_smote(X,y, undersample_ratio = 0.2, oversample_ratio = 0.5, random_seed = 2023):\n",
        "  # Define the undersampler and oversampler as part of a pipeline\n",
        "  undersampler = RandomUnderSampler(sampling_strategy=undersample_ratio, random_state=random_seed)\n",
        "  oversampler = SMOTE(sampling_strategy=oversample_ratio, random_state=random_seed)\n",
        "  pipeline = imbPipeline(steps=[('u', undersampler), ('o', oversampler)])\n",
        "\n",
        "  # Apply the pipeline to the imbalanced dataset\n",
        "  X_SMOTE, y_SMOTE = pipeline.fit_resample(X, y)\n",
        "  return X_SMOTE, y_SMOTE\n",
        "\n",
        "X_train_SMOTE, y_train_SMOTE = data_sampling_smote(X_train, y_train)\n",
        "# Print the class distribution after balancing\n",
        "print(\"Class distribution after balancing:\", np.bincount(y_train_SMOTE))\n",
        "\n",
        "print(X_train_SMOTE.shape)"
      ],
      "metadata": {
        "id": "i82Yu4Kq8XDJ",
        "outputId": "77778775-98b8-4708-b098-2ea7cb2f2ba6",
        "colab": {
          "base_uri": "https://localhost:8080/"
        }
      },
      "execution_count": 80,
      "outputs": [
        {
          "output_type": "stream",
          "name": "stdout",
          "text": [
            "Class distribution after balancing: [279290 139645]\n",
            "(418935, 23)\n"
          ]
        }
      ]
    },
    {
      "cell_type": "code",
      "source": [
        "print(y_train_SMOTE.value_counts())"
      ],
      "metadata": {
        "id": "BLD6HYNYBhAl",
        "outputId": "67a4e3e6-e2c4-48d5-f5cc-98ecda6a24a2",
        "colab": {
          "base_uri": "https://localhost:8080/"
        }
      },
      "execution_count": 81,
      "outputs": [
        {
          "output_type": "stream",
          "name": "stdout",
          "text": [
            "0    279290\n",
            "1    139645\n",
            "Name: DEATH, dtype: int64\n"
          ]
        }
      ]
    },
    {
      "cell_type": "code",
      "source": [
        "X_train_SMOTE, y_train_SMOTE = shuffle(X_train_SMOTE, y_train_SMOTE, random_state=2023)"
      ],
      "metadata": {
        "id": "pb3RwweC4hlX"
      },
      "execution_count": 82,
      "outputs": []
    },
    {
      "cell_type": "code",
      "source": [
        "X_train_feature_reduced_SMOTE, y_train_feature_reduced_SMOTE = data_sampling_smote(X_train_feature_reduced, y_train)"
      ],
      "metadata": {
        "id": "X2WQL7KZ5BsS"
      },
      "execution_count": 83,
      "outputs": []
    },
    {
      "cell_type": "code",
      "source": [
        "print(y_train_feature_reduced_SMOTE.value_counts())"
      ],
      "metadata": {
        "id": "UpZOnwvR5VcH",
        "outputId": "76559b1a-fcd5-4336-c279-4717826faca9",
        "colab": {
          "base_uri": "https://localhost:8080/"
        }
      },
      "execution_count": 84,
      "outputs": [
        {
          "output_type": "stream",
          "name": "stdout",
          "text": [
            "0    279290\n",
            "1    139645\n",
            "Name: DEATH, dtype: int64\n"
          ]
        }
      ]
    },
    {
      "cell_type": "markdown",
      "metadata": {
        "id": "gzegiYBVghaH"
      },
      "source": [
        "## Modeling"
      ]
    },
    {
      "cell_type": "markdown",
      "source": [
        "### Standard Models"
      ],
      "metadata": {
        "id": "3vw0fKh9BRoV"
      }
    },
    {
      "cell_type": "markdown",
      "source": [
        "#### Logistic Regression"
      ],
      "metadata": {
        "id": "WF4PzuyFBU87"
      }
    },
    {
      "cell_type": "code",
      "source": [
        "from sklearn.linear_model import LogisticRegression\n",
        "from sklearn.model_selection import GridSearchCV\n",
        "\n",
        "# Define the logistic regression model\n",
        "logreg = LogisticRegression(penalty='l2', solver='liblinear')\n",
        "\n",
        "# Set the hyperparameter search space\n",
        "param_grid = {'C': [0.1, 1, 10]}\n",
        "\n",
        "# Create a GridSearchCV object with 5-fold cross-validation\n",
        "grid = GridSearchCV(logreg, param_grid, cv=5 , scoring=['f1','accuracy', 'precision','recall'], refit = 'f1')\n",
        "\n",
        "# Fit the GridSearchCV object to the data\n",
        "grid.fit(X_train, y_train)\n",
        "\n",
        "# Print the best hyperparameters and their corresponding score\n",
        "print(\"Best hyperparameters: \", grid.best_params_)\n",
        "print(\"Best score: \", grid.best_score_)\n",
        "pd.DataFrame(grid.cv_results_)\n"
      ],
      "metadata": {
        "id": "9Ye0l9X6BaAR",
        "outputId": "593a0328-e658-468f-bef2-04dda6957a3f",
        "colab": {
          "base_uri": "https://localhost:8080/",
          "height": 306
        }
      },
      "execution_count": 85,
      "outputs": [
        {
          "output_type": "stream",
          "name": "stdout",
          "text": [
            "Best hyperparameters:  {'C': 10}\n",
            "Best score:  0.4852725214617246\n"
          ]
        },
        {
          "output_type": "execute_result",
          "data": {
            "text/plain": [
              "   mean_fit_time  std_fit_time  mean_score_time  std_score_time param_C  \\\n",
              "0       3.513801      0.259980         0.226910        0.005276     0.1   \n",
              "1       4.092139      0.523542         0.236997        0.026521       1   \n",
              "2       4.308717      0.257267         0.225490        0.005295      10   \n",
              "\n",
              "       params  split0_test_f1  split1_test_f1  split2_test_f1  split3_test_f1  \\\n",
              "0  {'C': 0.1}        0.483295        0.485482        0.482715        0.481760   \n",
              "1    {'C': 1}        0.483704        0.485702        0.483024        0.482412   \n",
              "2   {'C': 10}        0.483704        0.487125        0.482999        0.482386   \n",
              "\n",
              "   ...  std_test_precision  rank_test_precision  split0_test_recall  \\\n",
              "0  ...            0.004703                    1            0.408521   \n",
              "1  ...            0.004941                    2            0.409148   \n",
              "2  ...            0.004684                    3            0.409148   \n",
              "\n",
              "   split1_test_recall  split2_test_recall  split3_test_recall  \\\n",
              "0            0.407126            0.408737            0.406642   \n",
              "1            0.407484            0.409453            0.407537   \n",
              "2            0.409811            0.409453            0.407537   \n",
              "\n",
              "   split4_test_recall  mean_test_recall  std_test_recall  rank_test_recall  \n",
              "0            0.417293          0.409664         0.003897                 3  \n",
              "1            0.420784          0.410881         0.005017                 2  \n",
              "2            0.420874          0.411364         0.004818                 1  \n",
              "\n",
              "[3 rows x 38 columns]"
            ],
            "text/html": [
              "\n",
              "  <div id=\"df-91dcbc64-fe10-4d27-ac9c-62a44d67879f\">\n",
              "    <div class=\"colab-df-container\">\n",
              "      <div>\n",
              "<style scoped>\n",
              "    .dataframe tbody tr th:only-of-type {\n",
              "        vertical-align: middle;\n",
              "    }\n",
              "\n",
              "    .dataframe tbody tr th {\n",
              "        vertical-align: top;\n",
              "    }\n",
              "\n",
              "    .dataframe thead th {\n",
              "        text-align: right;\n",
              "    }\n",
              "</style>\n",
              "<table border=\"1\" class=\"dataframe\">\n",
              "  <thead>\n",
              "    <tr style=\"text-align: right;\">\n",
              "      <th></th>\n",
              "      <th>mean_fit_time</th>\n",
              "      <th>std_fit_time</th>\n",
              "      <th>mean_score_time</th>\n",
              "      <th>std_score_time</th>\n",
              "      <th>param_C</th>\n",
              "      <th>params</th>\n",
              "      <th>split0_test_f1</th>\n",
              "      <th>split1_test_f1</th>\n",
              "      <th>split2_test_f1</th>\n",
              "      <th>split3_test_f1</th>\n",
              "      <th>...</th>\n",
              "      <th>std_test_precision</th>\n",
              "      <th>rank_test_precision</th>\n",
              "      <th>split0_test_recall</th>\n",
              "      <th>split1_test_recall</th>\n",
              "      <th>split2_test_recall</th>\n",
              "      <th>split3_test_recall</th>\n",
              "      <th>split4_test_recall</th>\n",
              "      <th>mean_test_recall</th>\n",
              "      <th>std_test_recall</th>\n",
              "      <th>rank_test_recall</th>\n",
              "    </tr>\n",
              "  </thead>\n",
              "  <tbody>\n",
              "    <tr>\n",
              "      <th>0</th>\n",
              "      <td>3.513801</td>\n",
              "      <td>0.259980</td>\n",
              "      <td>0.226910</td>\n",
              "      <td>0.005276</td>\n",
              "      <td>0.1</td>\n",
              "      <td>{'C': 0.1}</td>\n",
              "      <td>0.483295</td>\n",
              "      <td>0.485482</td>\n",
              "      <td>0.482715</td>\n",
              "      <td>0.481760</td>\n",
              "      <td>...</td>\n",
              "      <td>0.004703</td>\n",
              "      <td>1</td>\n",
              "      <td>0.408521</td>\n",
              "      <td>0.407126</td>\n",
              "      <td>0.408737</td>\n",
              "      <td>0.406642</td>\n",
              "      <td>0.417293</td>\n",
              "      <td>0.409664</td>\n",
              "      <td>0.003897</td>\n",
              "      <td>3</td>\n",
              "    </tr>\n",
              "    <tr>\n",
              "      <th>1</th>\n",
              "      <td>4.092139</td>\n",
              "      <td>0.523542</td>\n",
              "      <td>0.236997</td>\n",
              "      <td>0.026521</td>\n",
              "      <td>1</td>\n",
              "      <td>{'C': 1}</td>\n",
              "      <td>0.483704</td>\n",
              "      <td>0.485702</td>\n",
              "      <td>0.483024</td>\n",
              "      <td>0.482412</td>\n",
              "      <td>...</td>\n",
              "      <td>0.004941</td>\n",
              "      <td>2</td>\n",
              "      <td>0.409148</td>\n",
              "      <td>0.407484</td>\n",
              "      <td>0.409453</td>\n",
              "      <td>0.407537</td>\n",
              "      <td>0.420784</td>\n",
              "      <td>0.410881</td>\n",
              "      <td>0.005017</td>\n",
              "      <td>2</td>\n",
              "    </tr>\n",
              "    <tr>\n",
              "      <th>2</th>\n",
              "      <td>4.308717</td>\n",
              "      <td>0.257267</td>\n",
              "      <td>0.225490</td>\n",
              "      <td>0.005295</td>\n",
              "      <td>10</td>\n",
              "      <td>{'C': 10}</td>\n",
              "      <td>0.483704</td>\n",
              "      <td>0.487125</td>\n",
              "      <td>0.482999</td>\n",
              "      <td>0.482386</td>\n",
              "      <td>...</td>\n",
              "      <td>0.004684</td>\n",
              "      <td>3</td>\n",
              "      <td>0.409148</td>\n",
              "      <td>0.409811</td>\n",
              "      <td>0.409453</td>\n",
              "      <td>0.407537</td>\n",
              "      <td>0.420874</td>\n",
              "      <td>0.411364</td>\n",
              "      <td>0.004818</td>\n",
              "      <td>1</td>\n",
              "    </tr>\n",
              "  </tbody>\n",
              "</table>\n",
              "<p>3 rows × 38 columns</p>\n",
              "</div>\n",
              "      <button class=\"colab-df-convert\" onclick=\"convertToInteractive('df-91dcbc64-fe10-4d27-ac9c-62a44d67879f')\"\n",
              "              title=\"Convert this dataframe to an interactive table.\"\n",
              "              style=\"display:none;\">\n",
              "        \n",
              "  <svg xmlns=\"http://www.w3.org/2000/svg\" height=\"24px\"viewBox=\"0 0 24 24\"\n",
              "       width=\"24px\">\n",
              "    <path d=\"M0 0h24v24H0V0z\" fill=\"none\"/>\n",
              "    <path d=\"M18.56 5.44l.94 2.06.94-2.06 2.06-.94-2.06-.94-.94-2.06-.94 2.06-2.06.94zm-11 1L8.5 8.5l.94-2.06 2.06-.94-2.06-.94L8.5 2.5l-.94 2.06-2.06.94zm10 10l.94 2.06.94-2.06 2.06-.94-2.06-.94-.94-2.06-.94 2.06-2.06.94z\"/><path d=\"M17.41 7.96l-1.37-1.37c-.4-.4-.92-.59-1.43-.59-.52 0-1.04.2-1.43.59L10.3 9.45l-7.72 7.72c-.78.78-.78 2.05 0 2.83L4 21.41c.39.39.9.59 1.41.59.51 0 1.02-.2 1.41-.59l7.78-7.78 2.81-2.81c.8-.78.8-2.07 0-2.86zM5.41 20L4 18.59l7.72-7.72 1.47 1.35L5.41 20z\"/>\n",
              "  </svg>\n",
              "      </button>\n",
              "      \n",
              "  <style>\n",
              "    .colab-df-container {\n",
              "      display:flex;\n",
              "      flex-wrap:wrap;\n",
              "      gap: 12px;\n",
              "    }\n",
              "\n",
              "    .colab-df-convert {\n",
              "      background-color: #E8F0FE;\n",
              "      border: none;\n",
              "      border-radius: 50%;\n",
              "      cursor: pointer;\n",
              "      display: none;\n",
              "      fill: #1967D2;\n",
              "      height: 32px;\n",
              "      padding: 0 0 0 0;\n",
              "      width: 32px;\n",
              "    }\n",
              "\n",
              "    .colab-df-convert:hover {\n",
              "      background-color: #E2EBFA;\n",
              "      box-shadow: 0px 1px 2px rgba(60, 64, 67, 0.3), 0px 1px 3px 1px rgba(60, 64, 67, 0.15);\n",
              "      fill: #174EA6;\n",
              "    }\n",
              "\n",
              "    [theme=dark] .colab-df-convert {\n",
              "      background-color: #3B4455;\n",
              "      fill: #D2E3FC;\n",
              "    }\n",
              "\n",
              "    [theme=dark] .colab-df-convert:hover {\n",
              "      background-color: #434B5C;\n",
              "      box-shadow: 0px 1px 3px 1px rgba(0, 0, 0, 0.15);\n",
              "      filter: drop-shadow(0px 1px 2px rgba(0, 0, 0, 0.3));\n",
              "      fill: #FFFFFF;\n",
              "    }\n",
              "  </style>\n",
              "\n",
              "      <script>\n",
              "        const buttonEl =\n",
              "          document.querySelector('#df-91dcbc64-fe10-4d27-ac9c-62a44d67879f button.colab-df-convert');\n",
              "        buttonEl.style.display =\n",
              "          google.colab.kernel.accessAllowed ? 'block' : 'none';\n",
              "\n",
              "        async function convertToInteractive(key) {\n",
              "          const element = document.querySelector('#df-91dcbc64-fe10-4d27-ac9c-62a44d67879f');\n",
              "          const dataTable =\n",
              "            await google.colab.kernel.invokeFunction('convertToInteractive',\n",
              "                                                     [key], {});\n",
              "          if (!dataTable) return;\n",
              "\n",
              "          const docLinkHtml = 'Like what you see? Visit the ' +\n",
              "            '<a target=\"_blank\" href=https://colab.research.google.com/notebooks/data_table.ipynb>data table notebook</a>'\n",
              "            + ' to learn more about interactive tables.';\n",
              "          element.innerHTML = '';\n",
              "          dataTable['output_type'] = 'display_data';\n",
              "          await google.colab.output.renderOutput(dataTable, element);\n",
              "          const docLink = document.createElement('div');\n",
              "          docLink.innerHTML = docLinkHtml;\n",
              "          element.appendChild(docLink);\n",
              "        }\n",
              "      </script>\n",
              "    </div>\n",
              "  </div>\n",
              "  "
            ]
          },
          "metadata": {},
          "execution_count": 85
        }
      ]
    },
    {
      "cell_type": "code",
      "source": [
        "# Fit the GridSearchCV object to the data\n",
        "grid.fit(X_train_feature_reduced, y_train)\n",
        "\n",
        "# Print the best hyperparameters and their corresponding score\n",
        "print(\"Best hyperparameters: \", grid.best_params_)\n",
        "print(\"Best score: \", grid.best_score_)\n",
        "pd.DataFrame(grid.cv_results_)"
      ],
      "metadata": {
        "id": "u4iLe1_hE0P_",
        "outputId": "8b424ee8-b86e-4b34-d36b-d70480f98acf",
        "colab": {
          "base_uri": "https://localhost:8080/",
          "height": 306
        }
      },
      "execution_count": 86,
      "outputs": [
        {
          "output_type": "stream",
          "name": "stdout",
          "text": [
            "Best hyperparameters:  {'C': 10}\n",
            "Best score:  0.47601220795293264\n"
          ]
        },
        {
          "output_type": "execute_result",
          "data": {
            "text/plain": [
              "   mean_fit_time  std_fit_time  mean_score_time  std_score_time param_C  \\\n",
              "0       2.192197      0.123223         0.237070        0.037959     0.1   \n",
              "1       2.200365      0.160839         0.236907        0.049647       1   \n",
              "2       2.182133      0.236756         0.232642        0.022816      10   \n",
              "\n",
              "       params  split0_test_f1  split1_test_f1  split2_test_f1  split3_test_f1  \\\n",
              "0  {'C': 0.1}        0.475459        0.477207        0.472566        0.471115   \n",
              "1    {'C': 1}        0.476703        0.477207        0.474619        0.471115   \n",
              "2   {'C': 10}        0.478240        0.477207        0.474619        0.471115   \n",
              "\n",
              "   ...  std_test_precision  rank_test_precision  split0_test_recall  \\\n",
              "0  ...            0.005544                    1            0.398854   \n",
              "1  ...            0.005737                    2            0.400644   \n",
              "2  ...            0.005557                    3            0.404762   \n",
              "\n",
              "   split1_test_recall  split2_test_recall  split3_test_recall  \\\n",
              "0            0.398263            0.396294            0.395274   \n",
              "1            0.398263            0.400501            0.395274   \n",
              "2            0.398263            0.400501            0.395274   \n",
              "\n",
              "   split4_test_recall  mean_test_recall  std_test_recall  rank_test_recall  \n",
              "0            0.408432          0.399423         0.004687                 3  \n",
              "1            0.408432          0.400623         0.004363                 2  \n",
              "2            0.408432          0.401446         0.004667                 1  \n",
              "\n",
              "[3 rows x 38 columns]"
            ],
            "text/html": [
              "\n",
              "  <div id=\"df-3a53b4ef-c272-45f5-9d57-da359ebd543a\">\n",
              "    <div class=\"colab-df-container\">\n",
              "      <div>\n",
              "<style scoped>\n",
              "    .dataframe tbody tr th:only-of-type {\n",
              "        vertical-align: middle;\n",
              "    }\n",
              "\n",
              "    .dataframe tbody tr th {\n",
              "        vertical-align: top;\n",
              "    }\n",
              "\n",
              "    .dataframe thead th {\n",
              "        text-align: right;\n",
              "    }\n",
              "</style>\n",
              "<table border=\"1\" class=\"dataframe\">\n",
              "  <thead>\n",
              "    <tr style=\"text-align: right;\">\n",
              "      <th></th>\n",
              "      <th>mean_fit_time</th>\n",
              "      <th>std_fit_time</th>\n",
              "      <th>mean_score_time</th>\n",
              "      <th>std_score_time</th>\n",
              "      <th>param_C</th>\n",
              "      <th>params</th>\n",
              "      <th>split0_test_f1</th>\n",
              "      <th>split1_test_f1</th>\n",
              "      <th>split2_test_f1</th>\n",
              "      <th>split3_test_f1</th>\n",
              "      <th>...</th>\n",
              "      <th>std_test_precision</th>\n",
              "      <th>rank_test_precision</th>\n",
              "      <th>split0_test_recall</th>\n",
              "      <th>split1_test_recall</th>\n",
              "      <th>split2_test_recall</th>\n",
              "      <th>split3_test_recall</th>\n",
              "      <th>split4_test_recall</th>\n",
              "      <th>mean_test_recall</th>\n",
              "      <th>std_test_recall</th>\n",
              "      <th>rank_test_recall</th>\n",
              "    </tr>\n",
              "  </thead>\n",
              "  <tbody>\n",
              "    <tr>\n",
              "      <th>0</th>\n",
              "      <td>2.192197</td>\n",
              "      <td>0.123223</td>\n",
              "      <td>0.237070</td>\n",
              "      <td>0.037959</td>\n",
              "      <td>0.1</td>\n",
              "      <td>{'C': 0.1}</td>\n",
              "      <td>0.475459</td>\n",
              "      <td>0.477207</td>\n",
              "      <td>0.472566</td>\n",
              "      <td>0.471115</td>\n",
              "      <td>...</td>\n",
              "      <td>0.005544</td>\n",
              "      <td>1</td>\n",
              "      <td>0.398854</td>\n",
              "      <td>0.398263</td>\n",
              "      <td>0.396294</td>\n",
              "      <td>0.395274</td>\n",
              "      <td>0.408432</td>\n",
              "      <td>0.399423</td>\n",
              "      <td>0.004687</td>\n",
              "      <td>3</td>\n",
              "    </tr>\n",
              "    <tr>\n",
              "      <th>1</th>\n",
              "      <td>2.200365</td>\n",
              "      <td>0.160839</td>\n",
              "      <td>0.236907</td>\n",
              "      <td>0.049647</td>\n",
              "      <td>1</td>\n",
              "      <td>{'C': 1}</td>\n",
              "      <td>0.476703</td>\n",
              "      <td>0.477207</td>\n",
              "      <td>0.474619</td>\n",
              "      <td>0.471115</td>\n",
              "      <td>...</td>\n",
              "      <td>0.005737</td>\n",
              "      <td>2</td>\n",
              "      <td>0.400644</td>\n",
              "      <td>0.398263</td>\n",
              "      <td>0.400501</td>\n",
              "      <td>0.395274</td>\n",
              "      <td>0.408432</td>\n",
              "      <td>0.400623</td>\n",
              "      <td>0.004363</td>\n",
              "      <td>2</td>\n",
              "    </tr>\n",
              "    <tr>\n",
              "      <th>2</th>\n",
              "      <td>2.182133</td>\n",
              "      <td>0.236756</td>\n",
              "      <td>0.232642</td>\n",
              "      <td>0.022816</td>\n",
              "      <td>10</td>\n",
              "      <td>{'C': 10}</td>\n",
              "      <td>0.478240</td>\n",
              "      <td>0.477207</td>\n",
              "      <td>0.474619</td>\n",
              "      <td>0.471115</td>\n",
              "      <td>...</td>\n",
              "      <td>0.005557</td>\n",
              "      <td>3</td>\n",
              "      <td>0.404762</td>\n",
              "      <td>0.398263</td>\n",
              "      <td>0.400501</td>\n",
              "      <td>0.395274</td>\n",
              "      <td>0.408432</td>\n",
              "      <td>0.401446</td>\n",
              "      <td>0.004667</td>\n",
              "      <td>1</td>\n",
              "    </tr>\n",
              "  </tbody>\n",
              "</table>\n",
              "<p>3 rows × 38 columns</p>\n",
              "</div>\n",
              "      <button class=\"colab-df-convert\" onclick=\"convertToInteractive('df-3a53b4ef-c272-45f5-9d57-da359ebd543a')\"\n",
              "              title=\"Convert this dataframe to an interactive table.\"\n",
              "              style=\"display:none;\">\n",
              "        \n",
              "  <svg xmlns=\"http://www.w3.org/2000/svg\" height=\"24px\"viewBox=\"0 0 24 24\"\n",
              "       width=\"24px\">\n",
              "    <path d=\"M0 0h24v24H0V0z\" fill=\"none\"/>\n",
              "    <path d=\"M18.56 5.44l.94 2.06.94-2.06 2.06-.94-2.06-.94-.94-2.06-.94 2.06-2.06.94zm-11 1L8.5 8.5l.94-2.06 2.06-.94-2.06-.94L8.5 2.5l-.94 2.06-2.06.94zm10 10l.94 2.06.94-2.06 2.06-.94-2.06-.94-.94-2.06-.94 2.06-2.06.94z\"/><path d=\"M17.41 7.96l-1.37-1.37c-.4-.4-.92-.59-1.43-.59-.52 0-1.04.2-1.43.59L10.3 9.45l-7.72 7.72c-.78.78-.78 2.05 0 2.83L4 21.41c.39.39.9.59 1.41.59.51 0 1.02-.2 1.41-.59l7.78-7.78 2.81-2.81c.8-.78.8-2.07 0-2.86zM5.41 20L4 18.59l7.72-7.72 1.47 1.35L5.41 20z\"/>\n",
              "  </svg>\n",
              "      </button>\n",
              "      \n",
              "  <style>\n",
              "    .colab-df-container {\n",
              "      display:flex;\n",
              "      flex-wrap:wrap;\n",
              "      gap: 12px;\n",
              "    }\n",
              "\n",
              "    .colab-df-convert {\n",
              "      background-color: #E8F0FE;\n",
              "      border: none;\n",
              "      border-radius: 50%;\n",
              "      cursor: pointer;\n",
              "      display: none;\n",
              "      fill: #1967D2;\n",
              "      height: 32px;\n",
              "      padding: 0 0 0 0;\n",
              "      width: 32px;\n",
              "    }\n",
              "\n",
              "    .colab-df-convert:hover {\n",
              "      background-color: #E2EBFA;\n",
              "      box-shadow: 0px 1px 2px rgba(60, 64, 67, 0.3), 0px 1px 3px 1px rgba(60, 64, 67, 0.15);\n",
              "      fill: #174EA6;\n",
              "    }\n",
              "\n",
              "    [theme=dark] .colab-df-convert {\n",
              "      background-color: #3B4455;\n",
              "      fill: #D2E3FC;\n",
              "    }\n",
              "\n",
              "    [theme=dark] .colab-df-convert:hover {\n",
              "      background-color: #434B5C;\n",
              "      box-shadow: 0px 1px 3px 1px rgba(0, 0, 0, 0.15);\n",
              "      filter: drop-shadow(0px 1px 2px rgba(0, 0, 0, 0.3));\n",
              "      fill: #FFFFFF;\n",
              "    }\n",
              "  </style>\n",
              "\n",
              "      <script>\n",
              "        const buttonEl =\n",
              "          document.querySelector('#df-3a53b4ef-c272-45f5-9d57-da359ebd543a button.colab-df-convert');\n",
              "        buttonEl.style.display =\n",
              "          google.colab.kernel.accessAllowed ? 'block' : 'none';\n",
              "\n",
              "        async function convertToInteractive(key) {\n",
              "          const element = document.querySelector('#df-3a53b4ef-c272-45f5-9d57-da359ebd543a');\n",
              "          const dataTable =\n",
              "            await google.colab.kernel.invokeFunction('convertToInteractive',\n",
              "                                                     [key], {});\n",
              "          if (!dataTable) return;\n",
              "\n",
              "          const docLinkHtml = 'Like what you see? Visit the ' +\n",
              "            '<a target=\"_blank\" href=https://colab.research.google.com/notebooks/data_table.ipynb>data table notebook</a>'\n",
              "            + ' to learn more about interactive tables.';\n",
              "          element.innerHTML = '';\n",
              "          dataTable['output_type'] = 'display_data';\n",
              "          await google.colab.output.renderOutput(dataTable, element);\n",
              "          const docLink = document.createElement('div');\n",
              "          docLink.innerHTML = docLinkHtml;\n",
              "          element.appendChild(docLink);\n",
              "        }\n",
              "      </script>\n",
              "    </div>\n",
              "  </div>\n",
              "  "
            ]
          },
          "metadata": {},
          "execution_count": 86
        }
      ]
    },
    {
      "cell_type": "code",
      "source": [
        "# Fit the GridSearchCV object to the data\n",
        "grid.fit(X_train_SMOTE, y_train_SMOTE)\n",
        "\n",
        "# Print the best hyperparameters and their corresponding score\n",
        "print(\"Best hyperparameters: \", grid.best_params_)\n",
        "print(\"Best score: \", grid.best_score_)\n",
        "pd.DataFrame(grid.cv_results_)"
      ],
      "metadata": {
        "id": "yVPJ95PLFmn2",
        "outputId": "c254593a-6d9d-4973-83d0-c693b7849fc4",
        "colab": {
          "base_uri": "https://localhost:8080/",
          "height": 306
        }
      },
      "execution_count": 87,
      "outputs": [
        {
          "output_type": "stream",
          "name": "stdout",
          "text": [
            "Best hyperparameters:  {'C': 1}\n",
            "Best score:  0.8427538508803153\n"
          ]
        },
        {
          "output_type": "execute_result",
          "data": {
            "text/plain": [
              "   mean_fit_time  std_fit_time  mean_score_time  std_score_time param_C  \\\n",
              "0       1.940718      0.189371         0.177547        0.032354     0.1   \n",
              "1       1.900243      0.117242         0.175157        0.033312       1   \n",
              "2       1.995233      0.126327         0.159827        0.002728      10   \n",
              "\n",
              "       params  split0_test_f1  split1_test_f1  split2_test_f1  split3_test_f1  \\\n",
              "0  {'C': 0.1}        0.842794        0.843900        0.842135        0.842927   \n",
              "1    {'C': 1}        0.843331        0.843899        0.842527        0.842959   \n",
              "2   {'C': 10}        0.843317        0.843899        0.842518        0.842937   \n",
              "\n",
              "   ...  std_test_precision  rank_test_precision  split0_test_recall  \\\n",
              "0  ...            0.001647                    1            0.862258   \n",
              "1  ...            0.002018                    3            0.864514   \n",
              "2  ...            0.002016                    2            0.864514   \n",
              "\n",
              "   split1_test_recall  split2_test_recall  split3_test_recall  \\\n",
              "0            0.861184            0.860754            0.858033   \n",
              "1            0.861076            0.861864            0.857854   \n",
              "2            0.861076            0.861613            0.857711   \n",
              "\n",
              "   split4_test_recall  mean_test_recall  std_test_recall  rank_test_recall  \n",
              "0            0.857532          0.859952         0.001845                 3  \n",
              "1            0.857209          0.860503         0.002688                 1  \n",
              "2            0.857281          0.860439         0.002676                 2  \n",
              "\n",
              "[3 rows x 38 columns]"
            ],
            "text/html": [
              "\n",
              "  <div id=\"df-cace3a23-d4bb-449a-ba7d-5e5e7f4f0ff9\">\n",
              "    <div class=\"colab-df-container\">\n",
              "      <div>\n",
              "<style scoped>\n",
              "    .dataframe tbody tr th:only-of-type {\n",
              "        vertical-align: middle;\n",
              "    }\n",
              "\n",
              "    .dataframe tbody tr th {\n",
              "        vertical-align: top;\n",
              "    }\n",
              "\n",
              "    .dataframe thead th {\n",
              "        text-align: right;\n",
              "    }\n",
              "</style>\n",
              "<table border=\"1\" class=\"dataframe\">\n",
              "  <thead>\n",
              "    <tr style=\"text-align: right;\">\n",
              "      <th></th>\n",
              "      <th>mean_fit_time</th>\n",
              "      <th>std_fit_time</th>\n",
              "      <th>mean_score_time</th>\n",
              "      <th>std_score_time</th>\n",
              "      <th>param_C</th>\n",
              "      <th>params</th>\n",
              "      <th>split0_test_f1</th>\n",
              "      <th>split1_test_f1</th>\n",
              "      <th>split2_test_f1</th>\n",
              "      <th>split3_test_f1</th>\n",
              "      <th>...</th>\n",
              "      <th>std_test_precision</th>\n",
              "      <th>rank_test_precision</th>\n",
              "      <th>split0_test_recall</th>\n",
              "      <th>split1_test_recall</th>\n",
              "      <th>split2_test_recall</th>\n",
              "      <th>split3_test_recall</th>\n",
              "      <th>split4_test_recall</th>\n",
              "      <th>mean_test_recall</th>\n",
              "      <th>std_test_recall</th>\n",
              "      <th>rank_test_recall</th>\n",
              "    </tr>\n",
              "  </thead>\n",
              "  <tbody>\n",
              "    <tr>\n",
              "      <th>0</th>\n",
              "      <td>1.940718</td>\n",
              "      <td>0.189371</td>\n",
              "      <td>0.177547</td>\n",
              "      <td>0.032354</td>\n",
              "      <td>0.1</td>\n",
              "      <td>{'C': 0.1}</td>\n",
              "      <td>0.842794</td>\n",
              "      <td>0.843900</td>\n",
              "      <td>0.842135</td>\n",
              "      <td>0.842927</td>\n",
              "      <td>...</td>\n",
              "      <td>0.001647</td>\n",
              "      <td>1</td>\n",
              "      <td>0.862258</td>\n",
              "      <td>0.861184</td>\n",
              "      <td>0.860754</td>\n",
              "      <td>0.858033</td>\n",
              "      <td>0.857532</td>\n",
              "      <td>0.859952</td>\n",
              "      <td>0.001845</td>\n",
              "      <td>3</td>\n",
              "    </tr>\n",
              "    <tr>\n",
              "      <th>1</th>\n",
              "      <td>1.900243</td>\n",
              "      <td>0.117242</td>\n",
              "      <td>0.175157</td>\n",
              "      <td>0.033312</td>\n",
              "      <td>1</td>\n",
              "      <td>{'C': 1}</td>\n",
              "      <td>0.843331</td>\n",
              "      <td>0.843899</td>\n",
              "      <td>0.842527</td>\n",
              "      <td>0.842959</td>\n",
              "      <td>...</td>\n",
              "      <td>0.002018</td>\n",
              "      <td>3</td>\n",
              "      <td>0.864514</td>\n",
              "      <td>0.861076</td>\n",
              "      <td>0.861864</td>\n",
              "      <td>0.857854</td>\n",
              "      <td>0.857209</td>\n",
              "      <td>0.860503</td>\n",
              "      <td>0.002688</td>\n",
              "      <td>1</td>\n",
              "    </tr>\n",
              "    <tr>\n",
              "      <th>2</th>\n",
              "      <td>1.995233</td>\n",
              "      <td>0.126327</td>\n",
              "      <td>0.159827</td>\n",
              "      <td>0.002728</td>\n",
              "      <td>10</td>\n",
              "      <td>{'C': 10}</td>\n",
              "      <td>0.843317</td>\n",
              "      <td>0.843899</td>\n",
              "      <td>0.842518</td>\n",
              "      <td>0.842937</td>\n",
              "      <td>...</td>\n",
              "      <td>0.002016</td>\n",
              "      <td>2</td>\n",
              "      <td>0.864514</td>\n",
              "      <td>0.861076</td>\n",
              "      <td>0.861613</td>\n",
              "      <td>0.857711</td>\n",
              "      <td>0.857281</td>\n",
              "      <td>0.860439</td>\n",
              "      <td>0.002676</td>\n",
              "      <td>2</td>\n",
              "    </tr>\n",
              "  </tbody>\n",
              "</table>\n",
              "<p>3 rows × 38 columns</p>\n",
              "</div>\n",
              "      <button class=\"colab-df-convert\" onclick=\"convertToInteractive('df-cace3a23-d4bb-449a-ba7d-5e5e7f4f0ff9')\"\n",
              "              title=\"Convert this dataframe to an interactive table.\"\n",
              "              style=\"display:none;\">\n",
              "        \n",
              "  <svg xmlns=\"http://www.w3.org/2000/svg\" height=\"24px\"viewBox=\"0 0 24 24\"\n",
              "       width=\"24px\">\n",
              "    <path d=\"M0 0h24v24H0V0z\" fill=\"none\"/>\n",
              "    <path d=\"M18.56 5.44l.94 2.06.94-2.06 2.06-.94-2.06-.94-.94-2.06-.94 2.06-2.06.94zm-11 1L8.5 8.5l.94-2.06 2.06-.94-2.06-.94L8.5 2.5l-.94 2.06-2.06.94zm10 10l.94 2.06.94-2.06 2.06-.94-2.06-.94-.94-2.06-.94 2.06-2.06.94z\"/><path d=\"M17.41 7.96l-1.37-1.37c-.4-.4-.92-.59-1.43-.59-.52 0-1.04.2-1.43.59L10.3 9.45l-7.72 7.72c-.78.78-.78 2.05 0 2.83L4 21.41c.39.39.9.59 1.41.59.51 0 1.02-.2 1.41-.59l7.78-7.78 2.81-2.81c.8-.78.8-2.07 0-2.86zM5.41 20L4 18.59l7.72-7.72 1.47 1.35L5.41 20z\"/>\n",
              "  </svg>\n",
              "      </button>\n",
              "      \n",
              "  <style>\n",
              "    .colab-df-container {\n",
              "      display:flex;\n",
              "      flex-wrap:wrap;\n",
              "      gap: 12px;\n",
              "    }\n",
              "\n",
              "    .colab-df-convert {\n",
              "      background-color: #E8F0FE;\n",
              "      border: none;\n",
              "      border-radius: 50%;\n",
              "      cursor: pointer;\n",
              "      display: none;\n",
              "      fill: #1967D2;\n",
              "      height: 32px;\n",
              "      padding: 0 0 0 0;\n",
              "      width: 32px;\n",
              "    }\n",
              "\n",
              "    .colab-df-convert:hover {\n",
              "      background-color: #E2EBFA;\n",
              "      box-shadow: 0px 1px 2px rgba(60, 64, 67, 0.3), 0px 1px 3px 1px rgba(60, 64, 67, 0.15);\n",
              "      fill: #174EA6;\n",
              "    }\n",
              "\n",
              "    [theme=dark] .colab-df-convert {\n",
              "      background-color: #3B4455;\n",
              "      fill: #D2E3FC;\n",
              "    }\n",
              "\n",
              "    [theme=dark] .colab-df-convert:hover {\n",
              "      background-color: #434B5C;\n",
              "      box-shadow: 0px 1px 3px 1px rgba(0, 0, 0, 0.15);\n",
              "      filter: drop-shadow(0px 1px 2px rgba(0, 0, 0, 0.3));\n",
              "      fill: #FFFFFF;\n",
              "    }\n",
              "  </style>\n",
              "\n",
              "      <script>\n",
              "        const buttonEl =\n",
              "          document.querySelector('#df-cace3a23-d4bb-449a-ba7d-5e5e7f4f0ff9 button.colab-df-convert');\n",
              "        buttonEl.style.display =\n",
              "          google.colab.kernel.accessAllowed ? 'block' : 'none';\n",
              "\n",
              "        async function convertToInteractive(key) {\n",
              "          const element = document.querySelector('#df-cace3a23-d4bb-449a-ba7d-5e5e7f4f0ff9');\n",
              "          const dataTable =\n",
              "            await google.colab.kernel.invokeFunction('convertToInteractive',\n",
              "                                                     [key], {});\n",
              "          if (!dataTable) return;\n",
              "\n",
              "          const docLinkHtml = 'Like what you see? Visit the ' +\n",
              "            '<a target=\"_blank\" href=https://colab.research.google.com/notebooks/data_table.ipynb>data table notebook</a>'\n",
              "            + ' to learn more about interactive tables.';\n",
              "          element.innerHTML = '';\n",
              "          dataTable['output_type'] = 'display_data';\n",
              "          await google.colab.output.renderOutput(dataTable, element);\n",
              "          const docLink = document.createElement('div');\n",
              "          docLink.innerHTML = docLinkHtml;\n",
              "          element.appendChild(docLink);\n",
              "        }\n",
              "      </script>\n",
              "    </div>\n",
              "  </div>\n",
              "  "
            ]
          },
          "metadata": {},
          "execution_count": 87
        }
      ]
    },
    {
      "cell_type": "code",
      "source": [
        "# Fit the GridSearchCV object to the data\n",
        "grid.fit(X_train_feature_reduced_SMOTE, y_train_feature_reduced_SMOTE)\n",
        "\n",
        "# Print the best hyperparameters and their corresponding score\n",
        "print(\"Best hyperparameters: \", grid.best_params_)\n",
        "print(\"Best score: \", grid.best_score_)\n",
        "pd.DataFrame(grid.cv_results_)"
      ],
      "metadata": {
        "id": "5kaKBqriGUfo",
        "outputId": "ea4ddd19-e213-416f-c1ac-bf5fda031a72",
        "colab": {
          "base_uri": "https://localhost:8080/",
          "height": 306
        }
      },
      "execution_count": 88,
      "outputs": [
        {
          "output_type": "stream",
          "name": "stdout",
          "text": [
            "Best hyperparameters:  {'C': 0.1}\n",
            "Best score:  0.8396802462082704\n"
          ]
        },
        {
          "output_type": "execute_result",
          "data": {
            "text/plain": [
              "   mean_fit_time  std_fit_time  mean_score_time  std_score_time param_C  \\\n",
              "0       0.821552      0.122652         0.152930        0.029524     0.1   \n",
              "1       0.744029      0.012468         0.141730        0.007601       1   \n",
              "2       0.851101      0.116436         0.169855        0.029220      10   \n",
              "\n",
              "       params  split0_test_f1  split1_test_f1  split2_test_f1  split3_test_f1  \\\n",
              "0  {'C': 0.1}        0.838290        0.841719        0.839215        0.839819   \n",
              "1    {'C': 1}        0.838279        0.841673        0.839189        0.839849   \n",
              "2   {'C': 10}        0.838279        0.841673        0.839189        0.839849   \n",
              "\n",
              "   ...  std_test_precision  rank_test_precision  split0_test_recall  \\\n",
              "0  ...            0.002057                    3            0.851302   \n",
              "1  ...            0.002054                    1            0.851230   \n",
              "2  ...            0.002054                    1            0.851230   \n",
              "\n",
              "   split1_test_recall  split2_test_recall  split3_test_recall  \\\n",
              "0            0.854739            0.855276            0.851516   \n",
              "1            0.854631            0.855204            0.851516   \n",
              "2            0.854631            0.855204            0.851516   \n",
              "\n",
              "   split4_test_recall  mean_test_recall  std_test_recall  rank_test_recall  \n",
              "0            0.854309          0.853428         0.001678                 1  \n",
              "1            0.854238          0.853364         0.001657                 2  \n",
              "2            0.854238          0.853364         0.001657                 2  \n",
              "\n",
              "[3 rows x 38 columns]"
            ],
            "text/html": [
              "\n",
              "  <div id=\"df-54efeb4c-f014-4abf-8b87-6766d6ddbfff\">\n",
              "    <div class=\"colab-df-container\">\n",
              "      <div>\n",
              "<style scoped>\n",
              "    .dataframe tbody tr th:only-of-type {\n",
              "        vertical-align: middle;\n",
              "    }\n",
              "\n",
              "    .dataframe tbody tr th {\n",
              "        vertical-align: top;\n",
              "    }\n",
              "\n",
              "    .dataframe thead th {\n",
              "        text-align: right;\n",
              "    }\n",
              "</style>\n",
              "<table border=\"1\" class=\"dataframe\">\n",
              "  <thead>\n",
              "    <tr style=\"text-align: right;\">\n",
              "      <th></th>\n",
              "      <th>mean_fit_time</th>\n",
              "      <th>std_fit_time</th>\n",
              "      <th>mean_score_time</th>\n",
              "      <th>std_score_time</th>\n",
              "      <th>param_C</th>\n",
              "      <th>params</th>\n",
              "      <th>split0_test_f1</th>\n",
              "      <th>split1_test_f1</th>\n",
              "      <th>split2_test_f1</th>\n",
              "      <th>split3_test_f1</th>\n",
              "      <th>...</th>\n",
              "      <th>std_test_precision</th>\n",
              "      <th>rank_test_precision</th>\n",
              "      <th>split0_test_recall</th>\n",
              "      <th>split1_test_recall</th>\n",
              "      <th>split2_test_recall</th>\n",
              "      <th>split3_test_recall</th>\n",
              "      <th>split4_test_recall</th>\n",
              "      <th>mean_test_recall</th>\n",
              "      <th>std_test_recall</th>\n",
              "      <th>rank_test_recall</th>\n",
              "    </tr>\n",
              "  </thead>\n",
              "  <tbody>\n",
              "    <tr>\n",
              "      <th>0</th>\n",
              "      <td>0.821552</td>\n",
              "      <td>0.122652</td>\n",
              "      <td>0.152930</td>\n",
              "      <td>0.029524</td>\n",
              "      <td>0.1</td>\n",
              "      <td>{'C': 0.1}</td>\n",
              "      <td>0.838290</td>\n",
              "      <td>0.841719</td>\n",
              "      <td>0.839215</td>\n",
              "      <td>0.839819</td>\n",
              "      <td>...</td>\n",
              "      <td>0.002057</td>\n",
              "      <td>3</td>\n",
              "      <td>0.851302</td>\n",
              "      <td>0.854739</td>\n",
              "      <td>0.855276</td>\n",
              "      <td>0.851516</td>\n",
              "      <td>0.854309</td>\n",
              "      <td>0.853428</td>\n",
              "      <td>0.001678</td>\n",
              "      <td>1</td>\n",
              "    </tr>\n",
              "    <tr>\n",
              "      <th>1</th>\n",
              "      <td>0.744029</td>\n",
              "      <td>0.012468</td>\n",
              "      <td>0.141730</td>\n",
              "      <td>0.007601</td>\n",
              "      <td>1</td>\n",
              "      <td>{'C': 1}</td>\n",
              "      <td>0.838279</td>\n",
              "      <td>0.841673</td>\n",
              "      <td>0.839189</td>\n",
              "      <td>0.839849</td>\n",
              "      <td>...</td>\n",
              "      <td>0.002054</td>\n",
              "      <td>1</td>\n",
              "      <td>0.851230</td>\n",
              "      <td>0.854631</td>\n",
              "      <td>0.855204</td>\n",
              "      <td>0.851516</td>\n",
              "      <td>0.854238</td>\n",
              "      <td>0.853364</td>\n",
              "      <td>0.001657</td>\n",
              "      <td>2</td>\n",
              "    </tr>\n",
              "    <tr>\n",
              "      <th>2</th>\n",
              "      <td>0.851101</td>\n",
              "      <td>0.116436</td>\n",
              "      <td>0.169855</td>\n",
              "      <td>0.029220</td>\n",
              "      <td>10</td>\n",
              "      <td>{'C': 10}</td>\n",
              "      <td>0.838279</td>\n",
              "      <td>0.841673</td>\n",
              "      <td>0.839189</td>\n",
              "      <td>0.839849</td>\n",
              "      <td>...</td>\n",
              "      <td>0.002054</td>\n",
              "      <td>1</td>\n",
              "      <td>0.851230</td>\n",
              "      <td>0.854631</td>\n",
              "      <td>0.855204</td>\n",
              "      <td>0.851516</td>\n",
              "      <td>0.854238</td>\n",
              "      <td>0.853364</td>\n",
              "      <td>0.001657</td>\n",
              "      <td>2</td>\n",
              "    </tr>\n",
              "  </tbody>\n",
              "</table>\n",
              "<p>3 rows × 38 columns</p>\n",
              "</div>\n",
              "      <button class=\"colab-df-convert\" onclick=\"convertToInteractive('df-54efeb4c-f014-4abf-8b87-6766d6ddbfff')\"\n",
              "              title=\"Convert this dataframe to an interactive table.\"\n",
              "              style=\"display:none;\">\n",
              "        \n",
              "  <svg xmlns=\"http://www.w3.org/2000/svg\" height=\"24px\"viewBox=\"0 0 24 24\"\n",
              "       width=\"24px\">\n",
              "    <path d=\"M0 0h24v24H0V0z\" fill=\"none\"/>\n",
              "    <path d=\"M18.56 5.44l.94 2.06.94-2.06 2.06-.94-2.06-.94-.94-2.06-.94 2.06-2.06.94zm-11 1L8.5 8.5l.94-2.06 2.06-.94-2.06-.94L8.5 2.5l-.94 2.06-2.06.94zm10 10l.94 2.06.94-2.06 2.06-.94-2.06-.94-.94-2.06-.94 2.06-2.06.94z\"/><path d=\"M17.41 7.96l-1.37-1.37c-.4-.4-.92-.59-1.43-.59-.52 0-1.04.2-1.43.59L10.3 9.45l-7.72 7.72c-.78.78-.78 2.05 0 2.83L4 21.41c.39.39.9.59 1.41.59.51 0 1.02-.2 1.41-.59l7.78-7.78 2.81-2.81c.8-.78.8-2.07 0-2.86zM5.41 20L4 18.59l7.72-7.72 1.47 1.35L5.41 20z\"/>\n",
              "  </svg>\n",
              "      </button>\n",
              "      \n",
              "  <style>\n",
              "    .colab-df-container {\n",
              "      display:flex;\n",
              "      flex-wrap:wrap;\n",
              "      gap: 12px;\n",
              "    }\n",
              "\n",
              "    .colab-df-convert {\n",
              "      background-color: #E8F0FE;\n",
              "      border: none;\n",
              "      border-radius: 50%;\n",
              "      cursor: pointer;\n",
              "      display: none;\n",
              "      fill: #1967D2;\n",
              "      height: 32px;\n",
              "      padding: 0 0 0 0;\n",
              "      width: 32px;\n",
              "    }\n",
              "\n",
              "    .colab-df-convert:hover {\n",
              "      background-color: #E2EBFA;\n",
              "      box-shadow: 0px 1px 2px rgba(60, 64, 67, 0.3), 0px 1px 3px 1px rgba(60, 64, 67, 0.15);\n",
              "      fill: #174EA6;\n",
              "    }\n",
              "\n",
              "    [theme=dark] .colab-df-convert {\n",
              "      background-color: #3B4455;\n",
              "      fill: #D2E3FC;\n",
              "    }\n",
              "\n",
              "    [theme=dark] .colab-df-convert:hover {\n",
              "      background-color: #434B5C;\n",
              "      box-shadow: 0px 1px 3px 1px rgba(0, 0, 0, 0.15);\n",
              "      filter: drop-shadow(0px 1px 2px rgba(0, 0, 0, 0.3));\n",
              "      fill: #FFFFFF;\n",
              "    }\n",
              "  </style>\n",
              "\n",
              "      <script>\n",
              "        const buttonEl =\n",
              "          document.querySelector('#df-54efeb4c-f014-4abf-8b87-6766d6ddbfff button.colab-df-convert');\n",
              "        buttonEl.style.display =\n",
              "          google.colab.kernel.accessAllowed ? 'block' : 'none';\n",
              "\n",
              "        async function convertToInteractive(key) {\n",
              "          const element = document.querySelector('#df-54efeb4c-f014-4abf-8b87-6766d6ddbfff');\n",
              "          const dataTable =\n",
              "            await google.colab.kernel.invokeFunction('convertToInteractive',\n",
              "                                                     [key], {});\n",
              "          if (!dataTable) return;\n",
              "\n",
              "          const docLinkHtml = 'Like what you see? Visit the ' +\n",
              "            '<a target=\"_blank\" href=https://colab.research.google.com/notebooks/data_table.ipynb>data table notebook</a>'\n",
              "            + ' to learn more about interactive tables.';\n",
              "          element.innerHTML = '';\n",
              "          dataTable['output_type'] = 'display_data';\n",
              "          await google.colab.output.renderOutput(dataTable, element);\n",
              "          const docLink = document.createElement('div');\n",
              "          docLink.innerHTML = docLinkHtml;\n",
              "          element.appendChild(docLink);\n",
              "        }\n",
              "      </script>\n",
              "    </div>\n",
              "  </div>\n",
              "  "
            ]
          },
          "metadata": {},
          "execution_count": 88
        }
      ]
    },
    {
      "cell_type": "markdown",
      "source": [
        "Best Results are obtained for the model trained on Resampled training data and hence we will get the performance metrics for the same "
      ],
      "metadata": {
        "id": "o6LMWmApGsMZ"
      }
    },
    {
      "cell_type": "code",
      "source": [
        "best_lr = LogisticRegression(penalty='l2', solver='liblinear', C=1)\n",
        "\n",
        "best_lr.fit(X_train_SMOTE, y_train_SMOTE)\n",
        "\n",
        "y_pred = best_lr.predict(X_test)\n",
        "\n",
        "print(classification_report(y_test, y_pred))\n",
        "print(confusion_matrix(y_test, y_pred))"
      ],
      "metadata": {
        "id": "Ym0ib-mmGrJj",
        "outputId": "8c9960b8-eb8b-44f7-e9d1-ca17e5aef128",
        "colab": {
          "base_uri": "https://localhost:8080/"
        }
      },
      "execution_count": 89,
      "outputs": [
        {
          "output_type": "stream",
          "name": "stdout",
          "text": [
            "              precision    recall  f1-score   support\n",
            "\n",
            "           0       0.99      0.91      0.95    236717\n",
            "           1       0.42      0.86      0.57     18697\n",
            "\n",
            "    accuracy                           0.90    255414\n",
            "   macro avg       0.71      0.88      0.76    255414\n",
            "weighted avg       0.95      0.90      0.92    255414\n",
            "\n",
            "[[214883  21834]\n",
            " [  2628  16069]]\n"
          ]
        }
      ]
    },
    {
      "cell_type": "code",
      "source": [
        "best_lr2 = LogisticRegression(penalty='l1', solver='liblinear', C=1)\n",
        "\n",
        "best_lr2.fit(X_train, y_train)\n",
        "\n",
        "y_pred = best_lr2.predict(X_test)\n",
        "\n",
        "print(classification_report(y_test, y_pred))\n",
        "print(confusion_matrix(y_test, y_pred))"
      ],
      "metadata": {
        "id": "o3DX9rzbHmDl",
        "outputId": "1774dca8-c690-428c-cfcb-c15c56216026",
        "colab": {
          "base_uri": "https://localhost:8080/"
        }
      },
      "execution_count": 90,
      "outputs": [
        {
          "output_type": "stream",
          "name": "stdout",
          "text": [
            "              precision    recall  f1-score   support\n",
            "\n",
            "           0       0.95      0.98      0.97    236717\n",
            "           1       0.60      0.41      0.49     18697\n",
            "\n",
            "    accuracy                           0.94    255414\n",
            "   macro avg       0.78      0.69      0.73    255414\n",
            "weighted avg       0.93      0.94      0.93    255414\n",
            "\n",
            "[[231535   5182]\n",
            " [ 11011   7686]]\n"
          ]
        }
      ]
    },
    {
      "cell_type": "code",
      "source": [
        "best_lr2 = LogisticRegression(penalty='l1', solver='liblinear', C=1)\n",
        "\n",
        "best_lr2.fit(X_train_feature_reduced , y_train_feature_reduced)\n",
        "\n",
        "y_pred = best_lr2.predict(X_test_feature_reduced)\n",
        "\n",
        "print(classification_report(y_test_feature_reduced, y_pred))\n",
        "print(confusion_matrix(y_test_feature_reduced, y_pred))"
      ],
      "metadata": {
        "id": "L8ngm9KIJmhp",
        "outputId": "08979e1f-8931-42b8-ed33-a8007349beeb",
        "colab": {
          "base_uri": "https://localhost:8080/"
        }
      },
      "execution_count": 91,
      "outputs": [
        {
          "output_type": "stream",
          "name": "stdout",
          "text": [
            "              precision    recall  f1-score   support\n",
            "\n",
            "           0       0.95      0.98      0.97    236717\n",
            "           1       0.59      0.40      0.48     18697\n",
            "\n",
            "    accuracy                           0.94    255414\n",
            "   macro avg       0.77      0.69      0.72    255414\n",
            "weighted avg       0.93      0.94      0.93    255414\n",
            "\n",
            "[[231488   5229]\n",
            " [ 11144   7553]]\n"
          ]
        }
      ]
    },
    {
      "cell_type": "code",
      "source": [
        "best_lr2 = LogisticRegression(penalty='l1', solver='liblinear', C=1)\n",
        "\n",
        "best_lr2.fit(X_train_SMOTE , y_train_SMOTE)\n",
        "\n",
        "y_pred = best_lr2.predict(X_test)\n",
        "\n",
        "print(classification_report(y_test, y_pred))\n",
        "print(confusion_matrix(y_test, y_pred))"
      ],
      "metadata": {
        "id": "_Dxf5-O2JnQx",
        "outputId": "bb5e164d-c681-4dcb-dd79-a87a03db19de",
        "colab": {
          "base_uri": "https://localhost:8080/"
        }
      },
      "execution_count": 92,
      "outputs": [
        {
          "output_type": "stream",
          "name": "stdout",
          "text": [
            "              precision    recall  f1-score   support\n",
            "\n",
            "           0       0.99      0.91      0.95    236717\n",
            "           1       0.42      0.86      0.57     18697\n",
            "\n",
            "    accuracy                           0.90    255414\n",
            "   macro avg       0.71      0.88      0.76    255414\n",
            "weighted avg       0.95      0.90      0.92    255414\n",
            "\n",
            "[[214883  21834]\n",
            " [  2628  16069]]\n"
          ]
        }
      ]
    },
    {
      "cell_type": "code",
      "source": [
        "best_lr2 = LogisticRegression(penalty='l1', solver='liblinear', C=1)\n",
        "\n",
        "best_lr2.fit(X_train_feature_reduced_SMOTE , y_train_feature_reduced_SMOTE)\n",
        "\n",
        "y_pred = best_lr2.predict(X_test_feature_reduced)\n",
        "\n",
        "print(classification_report(y_test_feature_reduced, y_pred))\n",
        "print(confusion_matrix(y_test_feature_reduced, y_pred))"
      ],
      "metadata": {
        "id": "vznr2MpsJoOc",
        "outputId": "b50fed4c-0f4a-4636-f928-eeda53807fd0",
        "colab": {
          "base_uri": "https://localhost:8080/"
        }
      },
      "execution_count": 93,
      "outputs": [
        {
          "output_type": "stream",
          "name": "stdout",
          "text": [
            "              precision    recall  f1-score   support\n",
            "\n",
            "           0       0.99      0.91      0.95    236717\n",
            "           1       0.42      0.85      0.57     18697\n",
            "\n",
            "    accuracy                           0.90    255414\n",
            "   macro avg       0.71      0.88      0.76    255414\n",
            "weighted avg       0.95      0.90      0.92    255414\n",
            "\n",
            "[[215102  21615]\n",
            " [  2761  15936]]\n"
          ]
        }
      ]
    },
    {
      "cell_type": "markdown",
      "source": [
        "##### Observations\n"
      ],
      "metadata": {
        "id": "WriKs0TTHvI2"
      }
    },
    {
      "cell_type": "markdown",
      "source": [
        "We see that even though the scores for the best models are high , on the Test set, the precision is quite low and recall is high for the positive samples (Samples where patients have died due to covid).\n",
        "\n",
        "Number of flase positives is greater than the number of true positives which is not a sign of a good model\n",
        "\n",
        "We would want to have a better precision compared to the best Logistsic regression model"
      ],
      "metadata": {
        "id": "jU5qKonSH00u"
      }
    },
    {
      "cell_type": "markdown",
      "source": [
        "####XGBoost"
      ],
      "metadata": {
        "id": "FTowYrLlIRDr"
      }
    },
    {
      "cell_type": "code",
      "source": [
        "import xgboost as xgb\n",
        "from sklearn.model_selection import GridSearchCV\n",
        "\n",
        "# Define parameter grid\n",
        "param_grid = {\n",
        "    'max_depth': [3,20],\n",
        "    'min_samples_leaf': [2,11]\n",
        "}\n",
        "# Create XGBoost model\n",
        "xgb_model = xgb.XGBClassifier(n_estimators=20, min_samples_split=11)\n",
        "\n",
        "# Create GridSearchCV object\n",
        "grid = GridSearchCV(estimator=xgb_model, param_grid=param_grid, \n",
        "                           scoring=['f1','accuracy','precision', 'recall'], refit='f1', cv=5)\n"
      ],
      "metadata": {
        "id": "kb9eKX4rKCBh"
      },
      "execution_count": 94,
      "outputs": []
    },
    {
      "cell_type": "code",
      "source": [
        "# Fit the model\n",
        "grid.fit(X_train, y_train)\n",
        "\n",
        "# Print best hyperparameters and corresponding score\n",
        "print(\"Best parameters: \", grid.best_params_)\n",
        "print(\"Best score: \", grid.best_score_)\n",
        "pd.DataFrame(grid.cv_results_)"
      ],
      "metadata": {
        "id": "-IiPOw-MKhxJ",
        "outputId": "ae384900-c789-46e3-87c8-2a02565d0994",
        "colab": {
          "base_uri": "https://localhost:8080/",
          "height": 1000
        }
      },
      "execution_count": 95,
      "outputs": [
        {
          "metadata": {
            "tags": null
          },
          "name": "stdout",
          "output_type": "stream",
          "text": [
            "[13:15:35] WARNING: ../src/learner.cc:767: \n",
            "Parameters: { \"min_samples_leaf\", \"min_samples_split\" } are not used.\n",
            "\n",
            "[13:15:46] WARNING: ../src/learner.cc:767: \n",
            "Parameters: { \"min_samples_leaf\", \"min_samples_split\" } are not used.\n",
            "\n",
            "[13:15:58] WARNING: ../src/learner.cc:767: \n",
            "Parameters: { \"min_samples_leaf\", \"min_samples_split\" } are not used.\n",
            "\n",
            "[13:16:09] WARNING: ../src/learner.cc:767: \n",
            "Parameters: { \"min_samples_leaf\", \"min_samples_split\" } are not used.\n",
            "\n",
            "[13:16:20] WARNING: ../src/learner.cc:767: \n",
            "Parameters: { \"min_samples_leaf\", \"min_samples_split\" } are not used.\n",
            "\n",
            "[13:16:31] WARNING: ../src/learner.cc:767: \n",
            "Parameters: { \"min_samples_leaf\", \"min_samples_split\" } are not used.\n",
            "\n",
            "[13:16:42] WARNING: ../src/learner.cc:767: \n",
            "Parameters: { \"min_samples_leaf\", \"min_samples_split\" } are not used.\n",
            "\n",
            "[13:16:52] WARNING: ../src/learner.cc:767: \n",
            "Parameters: { \"min_samples_leaf\", \"min_samples_split\" } are not used.\n",
            "\n",
            "[13:17:03] WARNING: ../src/learner.cc:767: \n",
            "Parameters: { \"min_samples_leaf\", \"min_samples_split\" } are not used.\n",
            "\n",
            "[13:17:15] WARNING: ../src/learner.cc:767: \n",
            "Parameters: { \"min_samples_leaf\", \"min_samples_split\" } are not used.\n",
            "\n",
            "[13:17:26] WARNING: ../src/learner.cc:767: \n",
            "Parameters: { \"min_samples_leaf\", \"min_samples_split\" } are not used.\n",
            "\n",
            "[13:18:39] WARNING: ../src/learner.cc:767: \n",
            "Parameters: { \"min_samples_leaf\", \"min_samples_split\" } are not used.\n",
            "\n",
            "[13:19:53] WARNING: ../src/learner.cc:767: \n",
            "Parameters: { \"min_samples_leaf\", \"min_samples_split\" } are not used.\n",
            "\n",
            "[13:21:03] WARNING: ../src/learner.cc:767: \n",
            "Parameters: { \"min_samples_leaf\", \"min_samples_split\" } are not used.\n",
            "\n",
            "[13:22:15] WARNING: ../src/learner.cc:767: \n",
            "Parameters: { \"min_samples_leaf\", \"min_samples_split\" } are not used.\n",
            "\n",
            "[13:23:27] WARNING: ../src/learner.cc:767: \n",
            "Parameters: { \"min_samples_leaf\", \"min_samples_split\" } are not used.\n",
            "\n",
            "[13:24:38] WARNING: ../src/learner.cc:767: \n",
            "Parameters: { \"min_samples_leaf\", \"min_samples_split\" } are not used.\n",
            "\n",
            "[13:25:49] WARNING: ../src/learner.cc:767: \n",
            "Parameters: { \"min_samples_leaf\", \"min_samples_split\" } are not used.\n",
            "\n",
            "[13:27:01] WARNING: ../src/learner.cc:767: \n",
            "Parameters: { \"min_samples_leaf\", \"min_samples_split\" } are not used.\n",
            "\n",
            "[13:28:13] WARNING: ../src/learner.cc:767: \n",
            "Parameters: { \"min_samples_leaf\", \"min_samples_split\" } are not used.\n",
            "\n",
            "[13:29:23] WARNING: ../src/learner.cc:767: \n",
            "Parameters: { \"min_samples_leaf\", \"min_samples_split\" } are not used.\n",
            "\n",
            "Best parameters:  {'max_depth': 20, 'min_samples_leaf': 2}\n",
            "Best score:  0.46463718490858474\n"
          ]
        },
        {
          "data": {
            "text/html": [
              "\n",
              "  <div id=\"df-55eee90f-6570-481b-8a57-137324123c6e\">\n",
              "    <div class=\"colab-df-container\">\n",
              "      <div>\n",
              "<style scoped>\n",
              "    .dataframe tbody tr th:only-of-type {\n",
              "        vertical-align: middle;\n",
              "    }\n",
              "\n",
              "    .dataframe tbody tr th {\n",
              "        vertical-align: top;\n",
              "    }\n",
              "\n",
              "    .dataframe thead th {\n",
              "        text-align: right;\n",
              "    }\n",
              "</style>\n",
              "<table border=\"1\" class=\"dataframe\">\n",
              "  <thead>\n",
              "    <tr style=\"text-align: right;\">\n",
              "      <th></th>\n",
              "      <th>mean_fit_time</th>\n",
              "      <th>std_fit_time</th>\n",
              "      <th>mean_score_time</th>\n",
              "      <th>std_score_time</th>\n",
              "      <th>param_max_depth</th>\n",
              "      <th>param_min_samples_leaf</th>\n",
              "      <th>params</th>\n",
              "      <th>split0_test_f1</th>\n",
              "      <th>split1_test_f1</th>\n",
              "      <th>split2_test_f1</th>\n",
              "      <th>...</th>\n",
              "      <th>std_test_precision</th>\n",
              "      <th>rank_test_precision</th>\n",
              "      <th>split0_test_recall</th>\n",
              "      <th>split1_test_recall</th>\n",
              "      <th>split2_test_recall</th>\n",
              "      <th>split3_test_recall</th>\n",
              "      <th>split4_test_recall</th>\n",
              "      <th>mean_test_recall</th>\n",
              "      <th>std_test_recall</th>\n",
              "      <th>rank_test_recall</th>\n",
              "    </tr>\n",
              "  </thead>\n",
              "  <tbody>\n",
              "    <tr>\n",
              "      <th>0</th>\n",
              "      <td>10.990463</td>\n",
              "      <td>0.052726</td>\n",
              "      <td>0.239526</td>\n",
              "      <td>0.007782</td>\n",
              "      <td>3</td>\n",
              "      <td>2</td>\n",
              "      <td>{'max_depth': 3, 'min_samples_leaf': 2}</td>\n",
              "      <td>0.442115</td>\n",
              "      <td>0.431595</td>\n",
              "      <td>0.442965</td>\n",
              "      <td>...</td>\n",
              "      <td>0.006214</td>\n",
              "      <td>1</td>\n",
              "      <td>0.336019</td>\n",
              "      <td>0.324053</td>\n",
              "      <td>0.339450</td>\n",
              "      <td>0.336914</td>\n",
              "      <td>0.352399</td>\n",
              "      <td>0.337767</td>\n",
              "      <td>0.009042</td>\n",
              "      <td>3</td>\n",
              "    </tr>\n",
              "    <tr>\n",
              "      <th>1</th>\n",
              "      <td>10.694700</td>\n",
              "      <td>0.551380</td>\n",
              "      <td>0.276832</td>\n",
              "      <td>0.069744</td>\n",
              "      <td>3</td>\n",
              "      <td>11</td>\n",
              "      <td>{'max_depth': 3, 'min_samples_leaf': 11}</td>\n",
              "      <td>0.442115</td>\n",
              "      <td>0.431595</td>\n",
              "      <td>0.442965</td>\n",
              "      <td>...</td>\n",
              "      <td>0.006214</td>\n",
              "      <td>1</td>\n",
              "      <td>0.336019</td>\n",
              "      <td>0.324053</td>\n",
              "      <td>0.339450</td>\n",
              "      <td>0.336914</td>\n",
              "      <td>0.352399</td>\n",
              "      <td>0.337767</td>\n",
              "      <td>0.009042</td>\n",
              "      <td>3</td>\n",
              "    </tr>\n",
              "    <tr>\n",
              "      <th>2</th>\n",
              "      <td>71.655374</td>\n",
              "      <td>1.206310</td>\n",
              "      <td>0.433345</td>\n",
              "      <td>0.016875</td>\n",
              "      <td>20</td>\n",
              "      <td>2</td>\n",
              "      <td>{'max_depth': 20, 'min_samples_leaf': 2}</td>\n",
              "      <td>0.464725</td>\n",
              "      <td>0.459534</td>\n",
              "      <td>0.462356</td>\n",
              "      <td>...</td>\n",
              "      <td>0.005624</td>\n",
              "      <td>3</td>\n",
              "      <td>0.378536</td>\n",
              "      <td>0.371050</td>\n",
              "      <td>0.377674</td>\n",
              "      <td>0.383727</td>\n",
              "      <td>0.390798</td>\n",
              "      <td>0.380357</td>\n",
              "      <td>0.006596</td>\n",
              "      <td>1</td>\n",
              "    </tr>\n",
              "    <tr>\n",
              "      <th>3</th>\n",
              "      <td>70.856044</td>\n",
              "      <td>0.483291</td>\n",
              "      <td>0.517055</td>\n",
              "      <td>0.155141</td>\n",
              "      <td>20</td>\n",
              "      <td>11</td>\n",
              "      <td>{'max_depth': 20, 'min_samples_leaf': 11}</td>\n",
              "      <td>0.464725</td>\n",
              "      <td>0.459534</td>\n",
              "      <td>0.462356</td>\n",
              "      <td>...</td>\n",
              "      <td>0.005624</td>\n",
              "      <td>3</td>\n",
              "      <td>0.378536</td>\n",
              "      <td>0.371050</td>\n",
              "      <td>0.377674</td>\n",
              "      <td>0.383727</td>\n",
              "      <td>0.390798</td>\n",
              "      <td>0.380357</td>\n",
              "      <td>0.006596</td>\n",
              "      <td>1</td>\n",
              "    </tr>\n",
              "  </tbody>\n",
              "</table>\n",
              "<p>4 rows × 39 columns</p>\n",
              "</div>\n",
              "      <button class=\"colab-df-convert\" onclick=\"convertToInteractive('df-55eee90f-6570-481b-8a57-137324123c6e')\"\n",
              "              title=\"Convert this dataframe to an interactive table.\"\n",
              "              style=\"display:none;\">\n",
              "        \n",
              "  <svg xmlns=\"http://www.w3.org/2000/svg\" height=\"24px\"viewBox=\"0 0 24 24\"\n",
              "       width=\"24px\">\n",
              "    <path d=\"M0 0h24v24H0V0z\" fill=\"none\"/>\n",
              "    <path d=\"M18.56 5.44l.94 2.06.94-2.06 2.06-.94-2.06-.94-.94-2.06-.94 2.06-2.06.94zm-11 1L8.5 8.5l.94-2.06 2.06-.94-2.06-.94L8.5 2.5l-.94 2.06-2.06.94zm10 10l.94 2.06.94-2.06 2.06-.94-2.06-.94-.94-2.06-.94 2.06-2.06.94z\"/><path d=\"M17.41 7.96l-1.37-1.37c-.4-.4-.92-.59-1.43-.59-.52 0-1.04.2-1.43.59L10.3 9.45l-7.72 7.72c-.78.78-.78 2.05 0 2.83L4 21.41c.39.39.9.59 1.41.59.51 0 1.02-.2 1.41-.59l7.78-7.78 2.81-2.81c.8-.78.8-2.07 0-2.86zM5.41 20L4 18.59l7.72-7.72 1.47 1.35L5.41 20z\"/>\n",
              "  </svg>\n",
              "      </button>\n",
              "      \n",
              "  <style>\n",
              "    .colab-df-container {\n",
              "      display:flex;\n",
              "      flex-wrap:wrap;\n",
              "      gap: 12px;\n",
              "    }\n",
              "\n",
              "    .colab-df-convert {\n",
              "      background-color: #E8F0FE;\n",
              "      border: none;\n",
              "      border-radius: 50%;\n",
              "      cursor: pointer;\n",
              "      display: none;\n",
              "      fill: #1967D2;\n",
              "      height: 32px;\n",
              "      padding: 0 0 0 0;\n",
              "      width: 32px;\n",
              "    }\n",
              "\n",
              "    .colab-df-convert:hover {\n",
              "      background-color: #E2EBFA;\n",
              "      box-shadow: 0px 1px 2px rgba(60, 64, 67, 0.3), 0px 1px 3px 1px rgba(60, 64, 67, 0.15);\n",
              "      fill: #174EA6;\n",
              "    }\n",
              "\n",
              "    [theme=dark] .colab-df-convert {\n",
              "      background-color: #3B4455;\n",
              "      fill: #D2E3FC;\n",
              "    }\n",
              "\n",
              "    [theme=dark] .colab-df-convert:hover {\n",
              "      background-color: #434B5C;\n",
              "      box-shadow: 0px 1px 3px 1px rgba(0, 0, 0, 0.15);\n",
              "      filter: drop-shadow(0px 1px 2px rgba(0, 0, 0, 0.3));\n",
              "      fill: #FFFFFF;\n",
              "    }\n",
              "  </style>\n",
              "\n",
              "      <script>\n",
              "        const buttonEl =\n",
              "          document.querySelector('#df-55eee90f-6570-481b-8a57-137324123c6e button.colab-df-convert');\n",
              "        buttonEl.style.display =\n",
              "          google.colab.kernel.accessAllowed ? 'block' : 'none';\n",
              "\n",
              "        async function convertToInteractive(key) {\n",
              "          const element = document.querySelector('#df-55eee90f-6570-481b-8a57-137324123c6e');\n",
              "          const dataTable =\n",
              "            await google.colab.kernel.invokeFunction('convertToInteractive',\n",
              "                                                     [key], {});\n",
              "          if (!dataTable) return;\n",
              "\n",
              "          const docLinkHtml = 'Like what you see? Visit the ' +\n",
              "            '<a target=\"_blank\" href=https://colab.research.google.com/notebooks/data_table.ipynb>data table notebook</a>'\n",
              "            + ' to learn more about interactive tables.';\n",
              "          element.innerHTML = '';\n",
              "          dataTable['output_type'] = 'display_data';\n",
              "          await google.colab.output.renderOutput(dataTable, element);\n",
              "          const docLink = document.createElement('div');\n",
              "          docLink.innerHTML = docLinkHtml;\n",
              "          element.appendChild(docLink);\n",
              "        }\n",
              "      </script>\n",
              "    </div>\n",
              "  </div>\n",
              "  "
            ],
            "text/plain": [
              "   mean_fit_time  std_fit_time  mean_score_time  std_score_time  \\\n",
              "0      10.990463      0.052726         0.239526        0.007782   \n",
              "1      10.694700      0.551380         0.276832        0.069744   \n",
              "2      71.655374      1.206310         0.433345        0.016875   \n",
              "3      70.856044      0.483291         0.517055        0.155141   \n",
              "\n",
              "  param_max_depth param_min_samples_leaf  \\\n",
              "0               3                      2   \n",
              "1               3                     11   \n",
              "2              20                      2   \n",
              "3              20                     11   \n",
              "\n",
              "                                      params  split0_test_f1  split1_test_f1  \\\n",
              "0    {'max_depth': 3, 'min_samples_leaf': 2}        0.442115        0.431595   \n",
              "1   {'max_depth': 3, 'min_samples_leaf': 11}        0.442115        0.431595   \n",
              "2   {'max_depth': 20, 'min_samples_leaf': 2}        0.464725        0.459534   \n",
              "3  {'max_depth': 20, 'min_samples_leaf': 11}        0.464725        0.459534   \n",
              "\n",
              "   split2_test_f1  ...  std_test_precision  rank_test_precision  \\\n",
              "0        0.442965  ...            0.006214                    1   \n",
              "1        0.442965  ...            0.006214                    1   \n",
              "2        0.462356  ...            0.005624                    3   \n",
              "3        0.462356  ...            0.005624                    3   \n",
              "\n",
              "   split0_test_recall  split1_test_recall  split2_test_recall  \\\n",
              "0            0.336019            0.324053            0.339450   \n",
              "1            0.336019            0.324053            0.339450   \n",
              "2            0.378536            0.371050            0.377674   \n",
              "3            0.378536            0.371050            0.377674   \n",
              "\n",
              "   split3_test_recall  split4_test_recall  mean_test_recall  std_test_recall  \\\n",
              "0            0.336914            0.352399          0.337767         0.009042   \n",
              "1            0.336914            0.352399          0.337767         0.009042   \n",
              "2            0.383727            0.390798          0.380357         0.006596   \n",
              "3            0.383727            0.390798          0.380357         0.006596   \n",
              "\n",
              "   rank_test_recall  \n",
              "0                 3  \n",
              "1                 3  \n",
              "2                 1  \n",
              "3                 1  \n",
              "\n",
              "[4 rows x 39 columns]"
            ]
          },
          "execution_count": 95,
          "metadata": {},
          "output_type": "execute_result"
        }
      ]
    },
    {
      "cell_type": "markdown",
      "source": [
        "Best model is got with hyperparameters {'max_depth': 20, 'min_samples_leaf': 2 or 11}\n",
        "we wil fit the training set with this model and observe the classification report "
      ],
      "metadata": {
        "id": "0V4zVByS-jce"
      }
    },
    {
      "cell_type": "code",
      "source": [
        "xgb_best_model = xgb.XGBClassifier(n_estimators=20, min_samples_split=11, max_depth= 20, min_samples_leaf= 2)\n",
        "\n",
        "X_train, y_train = shuffle(X_train, y_train, random_state=2023)\n",
        "xgb_best_model.fit(X_train, y_train)\n",
        "\n",
        "y_pred = xgb_best_model.predict(X_test)\n",
        "\n",
        "print(classification_report(y_test, y_pred))\n",
        "print(confusion_matrix(y_test, y_pred))"
      ],
      "metadata": {
        "id": "kDW23ap--iZY",
        "outputId": "86a87805-36fa-497f-cb74-2e423a2db4af",
        "colab": {
          "base_uri": "https://localhost:8080/"
        }
      },
      "execution_count": 96,
      "outputs": [
        {
          "output_type": "stream",
          "name": "stdout",
          "text": [
            "[13:30:55] WARNING: ../src/learner.cc:767: \n",
            "Parameters: { \"min_samples_leaf\", \"min_samples_split\" } are not used.\n",
            "\n",
            "              precision    recall  f1-score   support\n",
            "\n",
            "           0       0.95      0.98      0.97    236717\n",
            "           1       0.60      0.38      0.46     18697\n",
            "\n",
            "    accuracy                           0.94    255414\n",
            "   macro avg       0.77      0.68      0.71    255414\n",
            "weighted avg       0.93      0.94      0.93    255414\n",
            "\n",
            "[[231947   4770]\n",
            " [ 11611   7086]]\n"
          ]
        }
      ]
    },
    {
      "cell_type": "code",
      "source": [
        "X_train_feature_reduced , y_train_feature_reduced = shuffle(X_train_feature_reduced , y_train_feature_reduced, random_state=2023)\n",
        "xgb_best_model.fit(X_train_feature_reduced , y_train_feature_reduced)\n",
        "\n",
        "y_pred = xgb_best_model.predict(X_test_feature_reduced)\n",
        "\n",
        "print(classification_report(y_test_feature_reduced, y_pred))\n",
        "print(confusion_matrix(y_test_feature_reduced, y_pred))"
      ],
      "metadata": {
        "id": "fnYxHt1g_23A",
        "outputId": "419fd3b5-2b14-4e1c-c6dc-83d5667908a4",
        "colab": {
          "base_uri": "https://localhost:8080/"
        }
      },
      "execution_count": 97,
      "outputs": [
        {
          "output_type": "stream",
          "name": "stdout",
          "text": [
            "[13:32:26] WARNING: ../src/learner.cc:767: \n",
            "Parameters: { \"min_samples_leaf\", \"min_samples_split\" } are not used.\n",
            "\n",
            "              precision    recall  f1-score   support\n",
            "\n",
            "           0       0.95      0.98      0.97    236717\n",
            "           1       0.62      0.36      0.46     18697\n",
            "\n",
            "    accuracy                           0.94    255414\n",
            "   macro avg       0.79      0.67      0.71    255414\n",
            "weighted avg       0.93      0.94      0.93    255414\n",
            "\n",
            "[[232591   4126]\n",
            " [ 11924   6773]]\n"
          ]
        }
      ]
    },
    {
      "cell_type": "code",
      "source": [
        "X_train_SMOTE , y_train_SMOTE = shuffle(X_train_SMOTE , y_train_SMOTE, random_state=2023)\n",
        "xgb_best_model.fit(X_train_SMOTE , y_train_SMOTE)\n",
        "\n",
        "y_pred = xgb_best_model.predict(X_test)\n",
        "\n",
        "print(classification_report(y_test, y_pred))\n",
        "print(confusion_matrix(y_test, y_pred))"
      ],
      "metadata": {
        "id": "Qa17be43AXrl",
        "outputId": "f410cde3-ab82-4587-e8cf-2b9468942e9b",
        "colab": {
          "base_uri": "https://localhost:8080/"
        }
      },
      "execution_count": 98,
      "outputs": [
        {
          "output_type": "stream",
          "name": "stdout",
          "text": [
            "[13:32:55] WARNING: ../src/learner.cc:767: \n",
            "Parameters: { \"min_samples_leaf\", \"min_samples_split\" } are not used.\n",
            "\n",
            "              precision    recall  f1-score   support\n",
            "\n",
            "           0       0.99      0.90      0.94    236717\n",
            "           1       0.41      0.89      0.56     18697\n",
            "\n",
            "    accuracy                           0.90    255414\n",
            "   macro avg       0.70      0.89      0.75    255414\n",
            "weighted avg       0.95      0.90      0.91    255414\n",
            "\n",
            "[[212303  24414]\n",
            " [  2012  16685]]\n"
          ]
        }
      ]
    },
    {
      "cell_type": "code",
      "source": [
        "X_train_feature_reduced_SMOTE , y_train_feature_reduced_SMOTE = shuffle(\n",
        "    X_train_feature_reduced_SMOTE , y_train_feature_reduced_SMOTE, random_state=2023)\n",
        "\n",
        "xgb_best_model.fit(X_train_feature_reduced_SMOTE , y_train_feature_reduced_SMOTE)\n",
        "\n",
        "y_pred = xgb_best_model.predict(X_test_feature_reduced)\n",
        "\n",
        "print(classification_report(y_test_feature_reduced, y_pred))\n",
        "print(confusion_matrix(y_test_feature_reduced, y_pred))"
      ],
      "metadata": {
        "id": "dgFFGQJ1ArWR",
        "outputId": "417bf31e-ceb7-40e9-9418-a397d35f7807",
        "colab": {
          "base_uri": "https://localhost:8080/"
        }
      },
      "execution_count": 99,
      "outputs": [
        {
          "output_type": "stream",
          "name": "stdout",
          "text": [
            "[13:33:44] WARNING: ../src/learner.cc:767: \n",
            "Parameters: { \"min_samples_leaf\", \"min_samples_split\" } are not used.\n",
            "\n",
            "              precision    recall  f1-score   support\n",
            "\n",
            "           0       0.99      0.89      0.94    236717\n",
            "           1       0.40      0.92      0.55     18697\n",
            "\n",
            "    accuracy                           0.89    255414\n",
            "   macro avg       0.69      0.90      0.75    255414\n",
            "weighted avg       0.95      0.89      0.91    255414\n",
            "\n",
            "[[210469  26248]\n",
            " [  1519  17178]]\n"
          ]
        }
      ]
    },
    {
      "cell_type": "markdown",
      "source": [
        "##### Observations"
      ],
      "metadata": {
        "id": "zfzfOZQsX6J8"
      }
    },
    {
      "cell_type": "markdown",
      "source": [
        "As we use the originl preprocessed dataset without feature reduction or oversampling we see that the precision values are high which is needed but the recall is pretty and this is also similar in case of feature reduced dataset \n",
        "\n",
        "However when we resample and train the model , it suddenly has very high recall and low precision value . Indicating it maybe overfitting due to increased positive samples \n",
        "\n",
        "Even though the XGBoost gives us better results compared to logisitic regression , the time to train is more compared to logistic regression and as mentioned above , it is sensitive to data resampling"
      ],
      "metadata": {
        "id": "81NHVjPiaxBE"
      }
    },
    {
      "cell_type": "markdown",
      "source": [
        "####Decision Trees"
      ],
      "metadata": {
        "id": "qO84kc-4YIUu"
      }
    },
    {
      "cell_type": "code",
      "source": [
        "from sklearn import tree\n",
        "from sklearn.tree import DecisionTreeClassifier\n",
        " \n",
        "def fitting(X_in, y, X_test, y_test, criterion, splitter, mdepth, clweight, minleaf):\n",
        " \n",
        " # Fit the model\n",
        " model = DecisionTreeClassifier(criterion=criterion, \n",
        " splitter=splitter, \n",
        " max_depth=mdepth,\n",
        " class_weight=clweight,\n",
        " min_samples_leaf=minleaf, \n",
        " random_state=0, \n",
        " )\n",
        " clf = model.fit(X_in, y)\n",
        " \n",
        " # Predict class labels on training data\n",
        " pred_labels_tr = model.predict(X_test)\n",
        " \n",
        " # Use score method to get accuracy of the model\n",
        " print('*************** Tree Summary ***************')\n",
        " print('Classes: ', clf.classes_)\n",
        " print('Tree Depth: ', clf.tree_.max_depth)\n",
        " print('No. of leaves: ', clf.tree_.n_leaves)\n",
        " print('No. of features: ', X_in.shape[1])\n",
        " print('--------------------------------------------------------')\n",
        " print(\"\")\n",
        " \n",
        " print('*************** Evaluation on Training Data ***************')\n",
        " score_tr = model.score(X_test, y_test)\n",
        " print('Accuracy Score: ', score_tr)\n",
        " # Look at classification report to evaluate the model\n",
        " print(classification_report(y_test, pred_labels_tr))\n",
        " print('--------------------------------------------------------')\n",
        " \n",
        " # Return relevant data for chart plotting\n",
        " return clf\n",
        " \n"
      ],
      "metadata": {
        "id": "cveO3J0qYaSq"
      },
      "execution_count": 100,
      "outputs": []
    },
    {
      "cell_type": "code",
      "source": [
        "X_train, y_train = shuffle(X_train, y_train, random_state=2023)\n",
        "clf = fitting(X_train, y_train, X_test, y_test,'entropy', 'best', mdepth=5, clweight=None, minleaf=10)"
      ],
      "metadata": {
        "id": "wst15p8uavvx",
        "outputId": "d9ae41de-c319-4153-b193-0fe54733e25a",
        "colab": {
          "base_uri": "https://localhost:8080/"
        }
      },
      "execution_count": 101,
      "outputs": [
        {
          "output_type": "stream",
          "name": "stdout",
          "text": [
            "*************** Tree Summary ***************\n",
            "Classes:  [0 1]\n",
            "Tree Depth:  5\n",
            "No. of leaves:  32\n",
            "No. of features:  23\n",
            "--------------------------------------------------------\n",
            "\n",
            "*************** Evaluation on Training Data ***************\n",
            "Accuracy Score:  0.9362329394629895\n",
            "              precision    recall  f1-score   support\n",
            "\n",
            "           0       0.95      0.99      0.97    236717\n",
            "           1       0.65      0.28      0.39     18697\n",
            "\n",
            "    accuracy                           0.94    255414\n",
            "   macro avg       0.80      0.63      0.68    255414\n",
            "weighted avg       0.92      0.94      0.92    255414\n",
            "\n",
            "--------------------------------------------------------\n"
          ]
        }
      ]
    },
    {
      "cell_type": "code",
      "source": [
        "X_train_feature_reduced, y_train_feature_reduced = shuffle(\n",
        "    X_train_feature_reduced, y_train_feature_reduced, random_state=2023)\n",
        "\n",
        "clf = fitting(X_train_feature_reduced, y_train_feature_reduced, \n",
        "              X_test_feature_reduced, y_test_feature_reduced ,'entropy', 'best', mdepth=10, clweight=None, minleaf=15)"
      ],
      "metadata": {
        "id": "_hMzP6K3ayZQ",
        "outputId": "ec9a85bc-16f3-43e5-ef31-0f2416faf4e3",
        "colab": {
          "base_uri": "https://localhost:8080/"
        }
      },
      "execution_count": 102,
      "outputs": [
        {
          "output_type": "stream",
          "name": "stdout",
          "text": [
            "*************** Tree Summary ***************\n",
            "Classes:  [0 1]\n",
            "Tree Depth:  10\n",
            "No. of leaves:  459\n",
            "No. of features:  11\n",
            "--------------------------------------------------------\n",
            "\n",
            "*************** Evaluation on Training Data ***************\n",
            "Accuracy Score:  0.9371804208070035\n",
            "              precision    recall  f1-score   support\n",
            "\n",
            "           0       0.95      0.98      0.97    236717\n",
            "           1       0.62      0.36      0.46     18697\n",
            "\n",
            "    accuracy                           0.94    255414\n",
            "   macro avg       0.79      0.67      0.71    255414\n",
            "weighted avg       0.93      0.94      0.93    255414\n",
            "\n",
            "--------------------------------------------------------\n"
          ]
        }
      ]
    },
    {
      "cell_type": "code",
      "source": [
        "X_train_SMOTE, y_train_SMOTE = shuffle(X_train_SMOTE, y_train_SMOTE, random_state=2023)\n",
        "clf = fitting(X_train_SMOTE, y_train_SMOTE, X_test, y_test,'entropy', 'best', mdepth=5, clweight=None, minleaf=10)"
      ],
      "metadata": {
        "id": "Loscy1qcbWXx",
        "outputId": "73915afd-e8db-4f45-92de-5daad8bca497",
        "colab": {
          "base_uri": "https://localhost:8080/"
        }
      },
      "execution_count": 103,
      "outputs": [
        {
          "output_type": "stream",
          "name": "stdout",
          "text": [
            "*************** Tree Summary ***************\n",
            "Classes:  [0 1]\n",
            "Tree Depth:  5\n",
            "No. of leaves:  32\n",
            "No. of features:  23\n",
            "--------------------------------------------------------\n",
            "\n",
            "*************** Evaluation on Training Data ***************\n",
            "Accuracy Score:  0.8876960542491797\n",
            "              precision    recall  f1-score   support\n",
            "\n",
            "           0       0.99      0.89      0.94    236717\n",
            "           1       0.39      0.92      0.55     18697\n",
            "\n",
            "    accuracy                           0.89    255414\n",
            "   macro avg       0.69      0.90      0.74    255414\n",
            "weighted avg       0.95      0.89      0.91    255414\n",
            "\n",
            "--------------------------------------------------------\n"
          ]
        }
      ]
    },
    {
      "cell_type": "code",
      "source": [
        "X_train_feature_reduced_SMOTE , y_train_feature_reduced_SMOTE = shuffle(X_train_feature_reduced_SMOTE , y_train_feature_reduced_SMOTE, random_state=2023)\n",
        "clf = fitting(X_train_feature_reduced_SMOTE , y_train_feature_reduced_SMOTE, X_test_feature_reduced, y_test,'entropy', 'best', mdepth=5, clweight=None, minleaf=10)"
      ],
      "metadata": {
        "id": "eYl2IDiDbpXy",
        "outputId": "b1f2cbba-403e-4d6d-de8d-84991e0f88a2",
        "colab": {
          "base_uri": "https://localhost:8080/"
        }
      },
      "execution_count": 104,
      "outputs": [
        {
          "output_type": "stream",
          "name": "stdout",
          "text": [
            "*************** Tree Summary ***************\n",
            "Classes:  [0 1]\n",
            "Tree Depth:  5\n",
            "No. of leaves:  32\n",
            "No. of features:  11\n",
            "--------------------------------------------------------\n",
            "\n",
            "*************** Evaluation on Training Data ***************\n",
            "Accuracy Score:  0.8811380738722231\n",
            "              precision    recall  f1-score   support\n",
            "\n",
            "           0       0.99      0.88      0.93    236717\n",
            "           1       0.37      0.93      0.53     18697\n",
            "\n",
            "    accuracy                           0.88    255414\n",
            "   macro avg       0.68      0.90      0.73    255414\n",
            "weighted avg       0.95      0.88      0.90    255414\n",
            "\n",
            "--------------------------------------------------------\n"
          ]
        }
      ]
    },
    {
      "cell_type": "markdown",
      "source": [
        "##### Observations"
      ],
      "metadata": {
        "id": "lPQBVWgVbhNF"
      }
    },
    {
      "cell_type": "markdown",
      "source": [
        "The results of DT are similar to that of Logisitic regression and we see that the timing for computation is significantly less compared to XGBoost \n",
        "\n",
        "However, the model is very sensitive towards data resampling as recall is extremely high while precision is very low in case of resampled dataset \n",
        "\n",
        "This could still be considered for modelling purpose as it has the added advantage of good accuracy and precision values when data is not resampled along with lesser computation time\n",
        "\n",
        "Logistic Regression< XGBoost <= Decision Trees"
      ],
      "metadata": {
        "id": "dr-hXLGzblMR"
      }
    },
    {
      "cell_type": "markdown",
      "source": [
        "### Custom Models"
      ],
      "metadata": {
        "id": "usUteL9ewdAQ"
      }
    },
    {
      "cell_type": "markdown",
      "source": [
        "#### Classifier- Classifier Ensemble "
      ],
      "metadata": {
        "id": "gvMkyICdEbAv"
      }
    },
    {
      "cell_type": "markdown",
      "source": [],
      "metadata": {
        "id": "9T8eTARbDtpY"
      }
    },
    {
      "cell_type": "code",
      "source": [
        "def print_scoring_reports(y_true, y_pred):\n",
        "  cm = confusion_matrix(y_true, y_pred)\n",
        "  print(classification_report(y_true, y_pred))\n",
        "  print(\"Confusion matrix:\\n\", cm)"
      ],
      "metadata": {
        "id": "awpBH7Z-9BKo"
      },
      "execution_count": 105,
      "outputs": []
    },
    {
      "cell_type": "code",
      "source": [
        "import pandas as pd\n",
        "from sklearn.model_selection import train_test_split, GridSearchCV\n",
        "from sklearn.pipeline import make_pipeline\n",
        "from sklearn.tree import DecisionTreeClassifier\n",
        "from sklearn.ensemble import VotingClassifier, RandomForestClassifier\n",
        "\n",
        "def custom_ensemble_1(X, y, gridsearch=True, X_val=None, y_val=None):\n",
        "\n",
        "  # separate positive and negative samples\n",
        "  X_train_pos = X[y == 0]\n",
        "  y_train_pos = y[y == 0]\n",
        "  X_train_neg = X[y == 1]\n",
        "  y_train_neg = y[y == 1]\n",
        "\n",
        "  print(y_train_neg.shape)\n",
        "  # Define individual classifiers\n",
        "  clf1 = make_pipeline(DecisionTreeClassifier(random_state=2023, \n",
        "                                              splitter='best',\n",
        "                                              criterion='entropy',\n",
        "                                              min_samples_leaf=10, \n",
        "                                              max_depth=5))\n",
        "  clf2 = make_pipeline(DecisionTreeClassifier(random_state=2023, \n",
        "                                              splitter='best',\n",
        "                                              criterion='entropy',\n",
        "                                              min_samples_leaf=10, \n",
        "                                              max_depth=5))\n",
        "\n",
        "  # Fit classifiers on masked data\n",
        "  clf1.fit(X_train_pos, y_train_pos)\n",
        "  clf2.fit(X_train_neg, y_train_neg)\n",
        "\n",
        "  # Define the ensemble model\n",
        "  ensemble_model = VotingClassifier(estimators=[\n",
        "      ('clf1', clf1),\n",
        "      ('clf2', clf2)],\n",
        "  voting='soft'\n",
        "  )\n",
        "  \n",
        "  if gridsearch == True:\n",
        "    param_grid = {}\n",
        "    # Create GridSearchCV object\n",
        "    grid = GridSearchCV(estimator=ensemble_model,  param_grid = param_grid,\n",
        "                            scoring=['f1','accuracy','precision', 'recall'], refit='f1', cv=5)\n",
        "    \n",
        "    grid.fit(X,y)\n",
        "    # Print best hyperparameters and corresponding score\n",
        "    print(\"Best parameters: \", grid.best_params_)\n",
        "    print(\"Best score: \", grid.best_score_)\n",
        "    return pd.DataFrame(grid.cv_results_)\n",
        "  else:\n",
        "    ensemble_model.fit(X, y)\n",
        "    y_pred_train = ensemble_model.predict(X)\n",
        "    y_pred_proba = ensemble_model.predict_proba(X_val)\n",
        "    y_pred = ensemble_model.predict(X_val)\n",
        "    return y_pred, y_pred_proba, y_pred_train\n",
        "\n"
      ],
      "metadata": {
        "id": "gRvYc17ox7m8"
      },
      "execution_count": 106,
      "outputs": []
    },
    {
      "cell_type": "code",
      "source": [
        "custom_ensemble_1(X_train, y_train, True)"
      ],
      "metadata": {
        "id": "s7QHzyGJlOLn",
        "outputId": "145d1b7b-54eb-40af-c51a-f9cb61718691",
        "colab": {
          "base_uri": "https://localhost:8080/",
          "height": 226
        }
      },
      "execution_count": 107,
      "outputs": [
        {
          "output_type": "stream",
          "name": "stdout",
          "text": [
            "(55858,)\n",
            "Best parameters:  {}\n",
            "Best score:  0.40187623913504644\n"
          ]
        },
        {
          "output_type": "execute_result",
          "data": {
            "text/plain": [
              "   mean_fit_time  std_fit_time  mean_score_time  std_score_time params  \\\n",
              "0       2.237894      0.158393         0.230567        0.042792     {}   \n",
              "\n",
              "   split0_test_f1  split1_test_f1  split2_test_f1  split3_test_f1  \\\n",
              "0        0.400649        0.428488        0.385914        0.408493   \n",
              "\n",
              "   split4_test_f1  ...  std_test_precision  rank_test_precision  \\\n",
              "0        0.385838  ...            0.015449                    1   \n",
              "\n",
              "   split0_test_recall  split1_test_recall  split2_test_recall  \\\n",
              "0            0.287325            0.326649            0.272223   \n",
              "\n",
              "   split3_test_recall  split4_test_recall  mean_test_recall  std_test_recall  \\\n",
              "0            0.296187            0.276047          0.291686         0.019417   \n",
              "\n",
              "   rank_test_recall  \n",
              "0                 1  \n",
              "\n",
              "[1 rows x 37 columns]"
            ],
            "text/html": [
              "\n",
              "  <div id=\"df-22166273-7fa4-44f4-8642-4253a563a07c\">\n",
              "    <div class=\"colab-df-container\">\n",
              "      <div>\n",
              "<style scoped>\n",
              "    .dataframe tbody tr th:only-of-type {\n",
              "        vertical-align: middle;\n",
              "    }\n",
              "\n",
              "    .dataframe tbody tr th {\n",
              "        vertical-align: top;\n",
              "    }\n",
              "\n",
              "    .dataframe thead th {\n",
              "        text-align: right;\n",
              "    }\n",
              "</style>\n",
              "<table border=\"1\" class=\"dataframe\">\n",
              "  <thead>\n",
              "    <tr style=\"text-align: right;\">\n",
              "      <th></th>\n",
              "      <th>mean_fit_time</th>\n",
              "      <th>std_fit_time</th>\n",
              "      <th>mean_score_time</th>\n",
              "      <th>std_score_time</th>\n",
              "      <th>params</th>\n",
              "      <th>split0_test_f1</th>\n",
              "      <th>split1_test_f1</th>\n",
              "      <th>split2_test_f1</th>\n",
              "      <th>split3_test_f1</th>\n",
              "      <th>split4_test_f1</th>\n",
              "      <th>...</th>\n",
              "      <th>std_test_precision</th>\n",
              "      <th>rank_test_precision</th>\n",
              "      <th>split0_test_recall</th>\n",
              "      <th>split1_test_recall</th>\n",
              "      <th>split2_test_recall</th>\n",
              "      <th>split3_test_recall</th>\n",
              "      <th>split4_test_recall</th>\n",
              "      <th>mean_test_recall</th>\n",
              "      <th>std_test_recall</th>\n",
              "      <th>rank_test_recall</th>\n",
              "    </tr>\n",
              "  </thead>\n",
              "  <tbody>\n",
              "    <tr>\n",
              "      <th>0</th>\n",
              "      <td>2.237894</td>\n",
              "      <td>0.158393</td>\n",
              "      <td>0.230567</td>\n",
              "      <td>0.042792</td>\n",
              "      <td>{}</td>\n",
              "      <td>0.400649</td>\n",
              "      <td>0.428488</td>\n",
              "      <td>0.385914</td>\n",
              "      <td>0.408493</td>\n",
              "      <td>0.385838</td>\n",
              "      <td>...</td>\n",
              "      <td>0.015449</td>\n",
              "      <td>1</td>\n",
              "      <td>0.287325</td>\n",
              "      <td>0.326649</td>\n",
              "      <td>0.272223</td>\n",
              "      <td>0.296187</td>\n",
              "      <td>0.276047</td>\n",
              "      <td>0.291686</td>\n",
              "      <td>0.019417</td>\n",
              "      <td>1</td>\n",
              "    </tr>\n",
              "  </tbody>\n",
              "</table>\n",
              "<p>1 rows × 37 columns</p>\n",
              "</div>\n",
              "      <button class=\"colab-df-convert\" onclick=\"convertToInteractive('df-22166273-7fa4-44f4-8642-4253a563a07c')\"\n",
              "              title=\"Convert this dataframe to an interactive table.\"\n",
              "              style=\"display:none;\">\n",
              "        \n",
              "  <svg xmlns=\"http://www.w3.org/2000/svg\" height=\"24px\"viewBox=\"0 0 24 24\"\n",
              "       width=\"24px\">\n",
              "    <path d=\"M0 0h24v24H0V0z\" fill=\"none\"/>\n",
              "    <path d=\"M18.56 5.44l.94 2.06.94-2.06 2.06-.94-2.06-.94-.94-2.06-.94 2.06-2.06.94zm-11 1L8.5 8.5l.94-2.06 2.06-.94-2.06-.94L8.5 2.5l-.94 2.06-2.06.94zm10 10l.94 2.06.94-2.06 2.06-.94-2.06-.94-.94-2.06-.94 2.06-2.06.94z\"/><path d=\"M17.41 7.96l-1.37-1.37c-.4-.4-.92-.59-1.43-.59-.52 0-1.04.2-1.43.59L10.3 9.45l-7.72 7.72c-.78.78-.78 2.05 0 2.83L4 21.41c.39.39.9.59 1.41.59.51 0 1.02-.2 1.41-.59l7.78-7.78 2.81-2.81c.8-.78.8-2.07 0-2.86zM5.41 20L4 18.59l7.72-7.72 1.47 1.35L5.41 20z\"/>\n",
              "  </svg>\n",
              "      </button>\n",
              "      \n",
              "  <style>\n",
              "    .colab-df-container {\n",
              "      display:flex;\n",
              "      flex-wrap:wrap;\n",
              "      gap: 12px;\n",
              "    }\n",
              "\n",
              "    .colab-df-convert {\n",
              "      background-color: #E8F0FE;\n",
              "      border: none;\n",
              "      border-radius: 50%;\n",
              "      cursor: pointer;\n",
              "      display: none;\n",
              "      fill: #1967D2;\n",
              "      height: 32px;\n",
              "      padding: 0 0 0 0;\n",
              "      width: 32px;\n",
              "    }\n",
              "\n",
              "    .colab-df-convert:hover {\n",
              "      background-color: #E2EBFA;\n",
              "      box-shadow: 0px 1px 2px rgba(60, 64, 67, 0.3), 0px 1px 3px 1px rgba(60, 64, 67, 0.15);\n",
              "      fill: #174EA6;\n",
              "    }\n",
              "\n",
              "    [theme=dark] .colab-df-convert {\n",
              "      background-color: #3B4455;\n",
              "      fill: #D2E3FC;\n",
              "    }\n",
              "\n",
              "    [theme=dark] .colab-df-convert:hover {\n",
              "      background-color: #434B5C;\n",
              "      box-shadow: 0px 1px 3px 1px rgba(0, 0, 0, 0.15);\n",
              "      filter: drop-shadow(0px 1px 2px rgba(0, 0, 0, 0.3));\n",
              "      fill: #FFFFFF;\n",
              "    }\n",
              "  </style>\n",
              "\n",
              "      <script>\n",
              "        const buttonEl =\n",
              "          document.querySelector('#df-22166273-7fa4-44f4-8642-4253a563a07c button.colab-df-convert');\n",
              "        buttonEl.style.display =\n",
              "          google.colab.kernel.accessAllowed ? 'block' : 'none';\n",
              "\n",
              "        async function convertToInteractive(key) {\n",
              "          const element = document.querySelector('#df-22166273-7fa4-44f4-8642-4253a563a07c');\n",
              "          const dataTable =\n",
              "            await google.colab.kernel.invokeFunction('convertToInteractive',\n",
              "                                                     [key], {});\n",
              "          if (!dataTable) return;\n",
              "\n",
              "          const docLinkHtml = 'Like what you see? Visit the ' +\n",
              "            '<a target=\"_blank\" href=https://colab.research.google.com/notebooks/data_table.ipynb>data table notebook</a>'\n",
              "            + ' to learn more about interactive tables.';\n",
              "          element.innerHTML = '';\n",
              "          dataTable['output_type'] = 'display_data';\n",
              "          await google.colab.output.renderOutput(dataTable, element);\n",
              "          const docLink = document.createElement('div');\n",
              "          docLink.innerHTML = docLinkHtml;\n",
              "          element.appendChild(docLink);\n",
              "        }\n",
              "      </script>\n",
              "    </div>\n",
              "  </div>\n",
              "  "
            ]
          },
          "metadata": {},
          "execution_count": 107
        }
      ]
    },
    {
      "cell_type": "code",
      "source": [
        "X_train, y_train = shuffle(X_train, y_train, random_state=2023)\n",
        "y_pred, y_pred_proba, y_pred_train = custom_ensemble_1(X_train, y_train, False, X_test, y_test)\n",
        "print_scoring_reports(y_test, y_pred)\n",
        "print_scoring_reports(y_train, y_pred_train)"
      ],
      "metadata": {
        "id": "zjYmsAME3iOJ",
        "outputId": "4d52ba47-292f-4966-af42-8fabccbc27a5",
        "colab": {
          "base_uri": "https://localhost:8080/"
        }
      },
      "execution_count": 108,
      "outputs": [
        {
          "output_type": "stream",
          "name": "stdout",
          "text": [
            "(55858,)\n",
            "              precision    recall  f1-score   support\n",
            "\n",
            "           0       0.95      0.99      0.97    236717\n",
            "           1       0.65      0.28      0.39     18697\n",
            "\n",
            "    accuracy                           0.94    255414\n",
            "   macro avg       0.80      0.63      0.68    255414\n",
            "weighted avg       0.92      0.94      0.92    255414\n",
            "\n",
            "Confusion matrix:\n",
            " [[233865   2852]\n",
            " [ 13435   5262]]\n",
            "              precision    recall  f1-score   support\n",
            "\n",
            "           0       0.95      0.99      0.97    710383\n",
            "           1       0.65      0.29      0.40     55858\n",
            "\n",
            "    accuracy                           0.94    766241\n",
            "   macro avg       0.80      0.64      0.68    766241\n",
            "weighted avg       0.92      0.94      0.93    766241\n",
            "\n",
            "Confusion matrix:\n",
            " [[701943   8440]\n",
            " [ 39880  15978]]\n"
          ]
        }
      ]
    },
    {
      "cell_type": "code",
      "source": [
        "X_train_SMOTE, y_train_SMOTE = shuffle(X_train_SMOTE, y_train_SMOTE, random_state=2023)\n",
        "y_pred, y_pred_proba, y_pred_train = custom_ensemble_1(X_train_SMOTE, y_train_SMOTE, False, X_test, y_test)\n",
        "print_scoring_reports(y_test, y_pred)\n",
        "print_scoring_reports(y_train_SMOTE, y_pred_train)"
      ],
      "metadata": {
        "id": "7R1MRYON7Otj",
        "outputId": "d4d54024-1ea1-4b58-ed35-b08aacb1eee8",
        "colab": {
          "base_uri": "https://localhost:8080/"
        }
      },
      "execution_count": 109,
      "outputs": [
        {
          "output_type": "stream",
          "name": "stdout",
          "text": [
            "(139645,)\n",
            "              precision    recall  f1-score   support\n",
            "\n",
            "           0       0.99      0.89      0.94    236717\n",
            "           1       0.39      0.92      0.55     18697\n",
            "\n",
            "    accuracy                           0.89    255414\n",
            "   macro avg       0.69      0.90      0.74    255414\n",
            "weighted avg       0.95      0.89      0.91    255414\n",
            "\n",
            "Confusion matrix:\n",
            " [[209504  27213]\n",
            " [  1471  17226]]\n",
            "              precision    recall  f1-score   support\n",
            "\n",
            "           0       0.96      0.89      0.92    279290\n",
            "           1       0.80      0.92      0.86    139645\n",
            "\n",
            "    accuracy                           0.90    418935\n",
            "   macro avg       0.88      0.90      0.89    418935\n",
            "weighted avg       0.91      0.90      0.90    418935\n",
            "\n",
            "Confusion matrix:\n",
            " [[247666  31624]\n",
            " [ 10839 128806]]\n"
          ]
        }
      ]
    },
    {
      "cell_type": "code",
      "source": [
        "X_train_feature_reduced , y_train_feature_reduced = shuffle(\n",
        "    X_train_feature_reduced , y_train_feature_reduced, random_state=2023)\n",
        "\n",
        "y_pred, y_pred_proba, y_pred_train = custom_ensemble_1(\n",
        "    X_train_feature_reduced , y_train_feature_reduced, False, X_test_feature_reduced, y_test_feature_reduced)\n",
        "\n",
        "print_scoring_reports(y_test_feature_reduced , y_pred)\n",
        "print_scoring_reports(y_train_feature_reduced, y_pred_train)"
      ],
      "metadata": {
        "id": "g_yn3jsV7XL3",
        "outputId": "12680704-39aa-43f8-e1a3-671306aad0ab",
        "colab": {
          "base_uri": "https://localhost:8080/"
        }
      },
      "execution_count": 110,
      "outputs": [
        {
          "output_type": "stream",
          "name": "stdout",
          "text": [
            "(55858,)\n",
            "              precision    recall  f1-score   support\n",
            "\n",
            "           0       0.95      0.99      0.97    236717\n",
            "           1       0.65      0.28      0.39     18697\n",
            "\n",
            "    accuracy                           0.94    255414\n",
            "   macro avg       0.80      0.63      0.68    255414\n",
            "weighted avg       0.92      0.94      0.92    255414\n",
            "\n",
            "Confusion matrix:\n",
            " [[233865   2852]\n",
            " [ 13435   5262]]\n",
            "              precision    recall  f1-score   support\n",
            "\n",
            "           0       0.95      0.99      0.97    710383\n",
            "           1       0.65      0.29      0.40     55858\n",
            "\n",
            "    accuracy                           0.94    766241\n",
            "   macro avg       0.80      0.64      0.68    766241\n",
            "weighted avg       0.92      0.94      0.93    766241\n",
            "\n",
            "Confusion matrix:\n",
            " [[701943   8440]\n",
            " [ 39880  15978]]\n"
          ]
        }
      ]
    },
    {
      "cell_type": "code",
      "source": [
        "X_train_feature_reduced_SMOTE , y_train_feature_reduced_SMOTE = shuffle(\n",
        "    X_train_feature_reduced_SMOTE , y_train_feature_reduced_SMOTE, random_state=2023)\n",
        "\n",
        "y_pred, y_pred_proba, y_pred_train = custom_ensemble_1(\n",
        "    X_train_feature_reduced_SMOTE , y_train_feature_reduced_SMOTE, False, \n",
        "    X_test_feature_reduced, y_test_feature_reduced)\n",
        "\n",
        "print_scoring_reports(y_test_feature_reduced , y_pred)\n",
        "print_scoring_reports(y_train_feature_reduced_SMOTE, y_pred_train)"
      ],
      "metadata": {
        "id": "jNGTZGqmDfz2",
        "outputId": "a9278fc1-6bbf-4d4a-d0e2-e836e0b2c527",
        "colab": {
          "base_uri": "https://localhost:8080/"
        }
      },
      "execution_count": 111,
      "outputs": [
        {
          "output_type": "stream",
          "name": "stdout",
          "text": [
            "(139645,)\n",
            "              precision    recall  f1-score   support\n",
            "\n",
            "           0       0.99      0.88      0.93    236717\n",
            "           1       0.37      0.93      0.53     18697\n",
            "\n",
            "    accuracy                           0.88    255414\n",
            "   macro avg       0.68      0.90      0.73    255414\n",
            "weighted avg       0.95      0.88      0.90    255414\n",
            "\n",
            "Confusion matrix:\n",
            " [[207701  29016]\n",
            " [  1343  17354]]\n",
            "              precision    recall  f1-score   support\n",
            "\n",
            "           0       0.96      0.88      0.92    279290\n",
            "           1       0.79      0.93      0.86    139645\n",
            "\n",
            "    accuracy                           0.90    418935\n",
            "   macro avg       0.88      0.90      0.89    418935\n",
            "weighted avg       0.91      0.90      0.90    418935\n",
            "\n",
            "Confusion matrix:\n",
            " [[245459  33831]\n",
            " [  9852 129793]]\n"
          ]
        }
      ]
    },
    {
      "cell_type": "markdown",
      "source": [
        "#### Unsupervised - Supervised Ensemble"
      ],
      "metadata": {
        "id": "7fP_8eVfDsWe"
      }
    },
    {
      "cell_type": "code",
      "source": [
        "from sklearn.linear_model import LogisticRegression\n",
        "from sklearn.cluster import MiniBatchKMeans\n",
        "from sklearn.metrics import silhouette_score"
      ],
      "metadata": {
        "id": "byoJkll9D5ho"
      },
      "execution_count": 112,
      "outputs": []
    },
    {
      "cell_type": "code",
      "source": [
        "wcss = []\n",
        "for i in range(1, 1000, 50):\n",
        "    kmeans = MiniBatchKMeans(n_clusters=i, batch_size=1000, random_state=2023, n_init='auto', max_no_improvement=2)\n",
        "    kmeans.fit(X_train)\n",
        "    wcss.append(kmeans.inertia_)\n",
        "\n",
        "plt.plot(range(1, 1000, 50), wcss)\n",
        "plt.title('Elbow Method')\n",
        "plt.xlabel('Number of Clusters')\n",
        "plt.ylabel('WCSS')\n",
        "plt.show()"
      ],
      "metadata": {
        "id": "l2NXlEGg-QtM",
        "outputId": "098e6a3a-23cd-4e82-8a32-8b1e1fff7c2f",
        "colab": {
          "base_uri": "https://localhost:8080/",
          "height": 472
        }
      },
      "execution_count": 113,
      "outputs": [
        {
          "output_type": "display_data",
          "data": {
            "text/plain": [
              "<Figure size 640x480 with 1 Axes>"
            ],
            "image/png": "[encoded data removed]"
          },
          "metadata": {}
        }
      ]
    },
    {
      "cell_type": "code",
      "source": [
        "wcss = []\n",
        "for i in range(1, 200, 10):\n",
        "    kmeans = MiniBatchKMeans(n_clusters=i, batch_size=1000, random_state=2023, n_init='auto', max_no_improvement=2)\n",
        "    kmeans.fit(X_train)\n",
        "    wcss.append(kmeans.inertia_)\n",
        "\n",
        "plt.plot(range(1, 200, 10), wcss)\n",
        "plt.title('Elbow Method')\n",
        "plt.xlabel('Number of Clusters')\n",
        "plt.ylabel('WCSS')\n",
        "plt.show()"
      ],
      "metadata": {
        "id": "_ue1Z91cEADS",
        "outputId": "8f1d2617-f2e0-486a-f9c5-a3f632847eaf",
        "colab": {
          "base_uri": "https://localhost:8080/",
          "height": 472
        }
      },
      "execution_count": 114,
      "outputs": [
        {
          "output_type": "display_data",
          "data": {
            "text/plain": [
              "<Figure size 640x480 with 1 Axes>"
            ],
            "image/png": "[encoded data removed]"
          },
          "metadata": {}
        }
      ]
    },
    {
      "cell_type": "code",
      "source": [],
      "metadata": {
        "id": "SVMqPQjXc9jK"
      },
      "execution_count": 114,
      "outputs": []
    },
    {
      "cell_type": "code",
      "source": [
        "dict(zip(range(1,200,10),wcss))"
      ],
      "metadata": {
        "id": "CmGw7YRuFsF0",
        "outputId": "c748dde1-e3d1-4ad2-e0c3-16a500b7278d",
        "colab": {
          "base_uri": "https://localhost:8080/"
        }
      },
      "execution_count": 115,
      "outputs": [
        {
          "output_type": "execute_result",
          "data": {
            "text/plain": [
              "{1: 1883716.1988242234,\n",
              " 11: 880525.9918506222,\n",
              " 21: 648274.3465194262,\n",
              " 31: 582480.425141818,\n",
              " 41: 502817.3752775856,\n",
              " 51: 457573.96351999947,\n",
              " 61: 430658.95893665205,\n",
              " 71: 399794.73725614644,\n",
              " 81: 379720.4230010557,\n",
              " 91: 356449.93787697423,\n",
              " 101: 340237.9161820125,\n",
              " 111: 327610.0973677108,\n",
              " 121: 316882.27105141175,\n",
              " 131: 298953.15327915456,\n",
              " 141: 288012.23902782565,\n",
              " 151: 284369.1818659834,\n",
              " 161: 270546.1739415006,\n",
              " 171: 265026.7561735832,\n",
              " 181: 262414.3335401148,\n",
              " 191: 250517.7186066224}"
            ]
          },
          "metadata": {},
          "execution_count": 115
        }
      ]
    },
    {
      "cell_type": "markdown",
      "source": [
        "Choosing 21 clusters as that is the knee where the slope starts becoming flat significantly"
      ],
      "metadata": {
        "id": "9ErEdrOK-oFg"
      }
    },
    {
      "cell_type": "code",
      "source": [
        "# Create MiniBatchKMeans object\n",
        "kmeans = MiniBatchKMeans(n_clusters=21, batch_size=2000, random_state=2023, n_init='auto')\n",
        "\n",
        "# Fit the model to the data\n",
        "kmeans.fit(X_train)\n",
        "\n",
        "# Get the cluster labels\n",
        "labels = kmeans.labels_\n",
        "\n",
        "# Combine the cluster labels and the target variable into a single DataFrame\n",
        "results = pd.DataFrame({'Cluster': labels, 'Target': y_train})\n",
        "\n",
        "# Convert 'Cluster' column into one-hot encoding\n",
        "cluster_one_hot = pd.get_dummies(results['Cluster'], prefix='Cluster')\n",
        "\n",
        "y_train_cluster = cluster_one_hot.copy()\n",
        "\n",
        "y_train_cluster['Target'] = y_train"
      ],
      "metadata": {
        "id": "fTKsoKLKGPaZ"
      },
      "execution_count": 116,
      "outputs": []
    },
    {
      "cell_type": "code",
      "source": [
        "# predict clusters for X_test\n",
        "test_cluster_labels = kmeans.predict(X_test)\n",
        "\n",
        "test_cluster_results = pd.DataFrame({'Cluster': test_cluster_labels, 'Target': y_test})\n",
        "\n",
        "# Convert 'Cluster' column into one-hot encoding\n",
        "test_cluster_one_hot = pd.get_dummies(test_cluster_results['Cluster'], prefix='Cluster')\n",
        "\n",
        "X_test_cluster = pd.concat([X_test, test_cluster_one_hot], axis=1)"
      ],
      "metadata": {
        "id": "0cUw7N_4PlPg"
      },
      "execution_count": 117,
      "outputs": []
    },
    {
      "cell_type": "code",
      "source": [
        "clf = DecisionTreeClassifier(max_depth=70, random_state=0)\n",
        "clf.fit(y_train_cluster.drop('Target', axis=1), y_train_cluster['Target'])\n",
        "importances_in_clusters = clf.feature_importances_"
      ],
      "metadata": {
        "id": "4T1OOqPzHy9T"
      },
      "execution_count": 118,
      "outputs": []
    },
    {
      "cell_type": "code",
      "source": [
        "important_clusters = dict(zip(y_train_cluster.columns,importances_in_clusters))\n",
        "important_clusters = dict(sorted(important_clusters.items(), key=lambda x: x[1], reverse=True))\n",
        "print(important_clusters)"
      ],
      "metadata": {
        "id": "xMLJk2DeJ3Ko",
        "outputId": "bf1febc4-1692-4ed1-9ef4-aff5d025adf8",
        "colab": {
          "base_uri": "https://localhost:8080/"
        }
      },
      "execution_count": 119,
      "outputs": [
        {
          "output_type": "stream",
          "name": "stdout",
          "text": [
            "{'Cluster_5': 0.36621797217872176, 'Cluster_16': 0.20189177913869022, 'Cluster_9': 0.16680961741180322, 'Cluster_6': 0.1269589590833733, 'Cluster_8': 0.12372475954679595, 'Cluster_14': 0.0061903312408443595, 'Cluster_15': 0.005183063508986751, 'Cluster_1': 0.0012916236179387715, 'Cluster_19': 0.0009395134886904147, 'Cluster_17': 0.00040967411728791767, 'Cluster_3': 0.00017770026075841539, 'Cluster_4': 7.366320767090157e-05, 'Cluster_20': 5.9016050230066145e-05, 'Cluster_11': 3.442971068944148e-05, 'Cluster_18': 1.4958895289986207e-05, 'Cluster_12': 7.833195696389735e-06, 'Cluster_0': 6.004970467138396e-06, 'Cluster_2': 5.855656006465869e-06, 'Cluster_7': 3.2427974630042626e-06, 'Cluster_10': 1.9225957334483226e-09, 'Cluster_13': 0.0}\n"
          ]
        }
      ]
    },
    {
      "cell_type": "code",
      "source": [
        "np.cumsum(list(important_clusters.values()))"
      ],
      "metadata": {
        "id": "cvBWe6toKbmY",
        "outputId": "a788c81f-3ebb-4485-b7b6-b9865378af8d",
        "colab": {
          "base_uri": "https://localhost:8080/"
        }
      },
      "execution_count": 120,
      "outputs": [
        {
          "output_type": "execute_result",
          "data": {
            "text/plain": [
              "array([0.36621797, 0.56810975, 0.73491937, 0.86187833, 0.98560309,\n",
              "       0.99179342, 0.99697648, 0.99826811, 0.99920762, 0.99961729,\n",
              "       0.99979499, 0.99986866, 0.99992767, 0.9999621 , 0.99997706,\n",
              "       0.99998489, 0.9999909 , 0.99999676, 1.        , 1.        ,\n",
              "       1.        ])"
            ]
          },
          "metadata": {},
          "execution_count": 120
        }
      ]
    },
    {
      "cell_type": "code",
      "source": [
        "plt.plot(range(1, len(y_train_cluster.columns)), np.cumsum(list(important_clusters.values())))\n",
        "plt.xlabel(\"Number of features\")\n",
        "plt.ylabel(\"Importance of cumulative features\")"
      ],
      "metadata": {
        "id": "RodthWl9KOBD",
        "outputId": "91f12955-11ed-4cca-8a17-7ad78b18f800",
        "colab": {
          "base_uri": "https://localhost:8080/",
          "height": 466
        }
      },
      "execution_count": 121,
      "outputs": [
        {
          "output_type": "execute_result",
          "data": {
            "text/plain": [
              "Text(0, 0.5, 'Importance of cumulative features')"
            ]
          },
          "metadata": {},
          "execution_count": 121
        },
        {
          "output_type": "display_data",
          "data": {
            "text/plain": [
              "<Figure size 640x480 with 1 Axes>"
            ],
            "image/png": "[encoded data removed]"
          },
          "metadata": {}
        }
      ]
    },
    {
      "cell_type": "code",
      "source": [
        "best_clusters = list(important_clusters.keys())[:np.argmax(np.cumsum(list(important_clusters.values())) >= 0.98)+1]\n",
        "best_clusters"
      ],
      "metadata": {
        "id": "snRs2SUzKvDi",
        "outputId": "95ba88ef-c514-46f9-ff53-0123683784fc",
        "colab": {
          "base_uri": "https://localhost:8080/"
        }
      },
      "execution_count": 122,
      "outputs": [
        {
          "output_type": "execute_result",
          "data": {
            "text/plain": [
              "['Cluster_5', 'Cluster_16', 'Cluster_9', 'Cluster_6', 'Cluster_8']"
            ]
          },
          "metadata": {},
          "execution_count": 122
        }
      ]
    },
    {
      "cell_type": "code",
      "source": [
        "def custom_ensemble_2(X,y, X_val, y_val):\n",
        "  \n",
        "  # Create MiniBatchKMeans object\n",
        "  kmeans = MiniBatchKMeans(n_clusters=21, batch_size=1000, random_state=2023, n_init='auto')\n",
        "\n",
        "  # Fit the model to the data\n",
        "  kmeans.fit(X)\n",
        "\n",
        "  # Get the cluster labels\n",
        "  labels = kmeans.labels_\n",
        "\n",
        "  # Combine the cluster labels and the target variable into a single DataFrame\n",
        "  results = pd.DataFrame({'Cluster': labels, 'Target': y})\n",
        "\n",
        "  # Convert 'Cluster' column into one-hot encoding\n",
        "  cluster_one_hot = pd.get_dummies(results['Cluster'], prefix='Cluster')\n",
        "\n",
        "  # Concatenate the best one-hot encoded 'Cluster' feature to X\n",
        "  X_with_cluster = pd.concat([X, cluster_one_hot[best_clusters]], axis=1)\n",
        "  # X_with_cluster = cluster_one_hot[best_clusters]\n",
        "\n",
        "  # predict clusters for X_test\n",
        "  test_cluster_labels = kmeans.predict(X_val)\n",
        "\n",
        "  val_cluster_results = pd.DataFrame({'Cluster': test_cluster_labels, 'Target': y_val})\n",
        "\n",
        "  # Convert 'Cluster' column into one-hot encoding\n",
        "  val_cluster_one_hot = pd.get_dummies(val_cluster_results['Cluster'], prefix='Cluster')\n",
        "\n",
        "  # Concatenate the best one-hot encoded 'Cluster' feature to X_val\n",
        "  X_val_cluster = pd.concat([X_val, val_cluster_one_hot[best_clusters]], axis=1)\n",
        "  # X_val_cluster = val_cluster_one_hot[best_clusters]\n",
        "\n",
        "  # Compute the mean target value for each cluster\n",
        "  mean_target = results.groupby('Cluster')['Target'].mean()\n",
        "\n",
        "  # Numer of people who died vs number of who survived \n",
        "  # for label in np.unique(labels):\n",
        "  #   print(f\"\\nCluster {label}:\\n # dead: \",results[(results.Cluster == label) & (results.Target == 1)].shape[0],\n",
        "  #         \" vs # not dead: \",\n",
        "  #         results[(results.Cluster == label) & (results.Target == 0)].shape[0])\n",
        "    \n",
        "  print(\"\\n\",mean_target,\"\\n\")\n",
        "  \n",
        "  # Define individual classifiers\n",
        "  #'entropy', 'best', mdepth=5, clweight=None, minleaf=10\n",
        "  clf1 = make_pipeline(LogisticRegression(penalty='l1', solver='liblinear'))\n",
        "  clf2 = make_pipeline(LogisticRegression(penalty='l1', solver='liblinear'))\n",
        "  clf3 = make_pipeline(DecisionTreeClassifier(random_state=2023, max_depth=5,\n",
        "                                              criterion='entropy', \n",
        "                                              splitter='best',\n",
        "                                              min_samples_leaf=10,\n",
        "                                              max_features=\"log2\"))\n",
        "  clf4 = make_pipeline(DecisionTreeClassifier(random_state=2023, max_depth=5,\n",
        "                                              criterion='entropy', \n",
        "                                              splitter='best',\n",
        "                                              min_samples_leaf=10,\n",
        "                                              max_features=\"log2\"))\n",
        "  # Fit classifiers on masked data\n",
        "  clf1.fit(X_with_cluster, y)\n",
        "  clf2.fit(X_with_cluster, y)\n",
        "  clf3.fit(X_with_cluster, y)\n",
        "  clf4.fit(X_with_cluster, y)\n",
        "\n",
        "  # Define the ensemble model\n",
        "  ensemble_model = VotingClassifier(estimators=[\n",
        "      ('clf1', clf1),\n",
        "      ('clf2', clf2),\n",
        "      ('clf3', clf3), \n",
        "      ('clf4', clf4)], \n",
        "      weights=[1, 1, 1, 1],\n",
        "      voting = 'soft'\n",
        "      )\n",
        "\n",
        "  ensemble_model.fit(X_with_cluster, y)\n",
        "\n",
        "  # Get the best model and print its accuracy\n",
        "  y_pred = ensemble_model.predict(X_val_cluster)\n",
        "  y_pred_proba = ensemble_model.predict_proba(X_val_cluster)\n",
        "  return y_pred, y_pred_proba\n",
        "\n",
        "\n"
      ],
      "metadata": {
        "id": "ISVfDZw-nO5L"
      },
      "execution_count": 123,
      "outputs": []
    },
    {
      "cell_type": "code",
      "source": [
        "X_train, y_train = shuffle(X_train, y_train, random_state=2023)\n",
        "\n",
        "y_pred, y_pred_proba = custom_ensemble_2(X_train, y_train, X_test, y_test)\n",
        "print_scoring_reports(y_test, y_pred)"
      ],
      "metadata": {
        "id": "UuO9h8AnGTq8",
        "outputId": "6bac0627-32f1-4ad4-ae96-4cd242e0c150",
        "colab": {
          "base_uri": "https://localhost:8080/"
        }
      },
      "execution_count": 124,
      "outputs": [
        {
          "output_type": "stream",
          "name": "stdout",
          "text": [
            "\n",
            " Cluster\n",
            "0     0.046803\n",
            "1     0.003634\n",
            "2     0.007216\n",
            "3     0.231373\n",
            "4     0.032108\n",
            "5     0.004916\n",
            "6     0.435276\n",
            "7     0.105231\n",
            "8     0.316948\n",
            "9     0.008730\n",
            "10    0.017014\n",
            "11    0.053105\n",
            "12    0.017255\n",
            "13    0.022235\n",
            "14    0.049687\n",
            "15    0.007361\n",
            "16    0.006428\n",
            "17    0.355689\n",
            "18    0.010832\n",
            "19    0.006526\n",
            "20    0.019924\n",
            "Name: Target, dtype: float64 \n",
            "\n",
            "              precision    recall  f1-score   support\n",
            "\n",
            "           0       0.95      0.99      0.97    236717\n",
            "           1       0.64      0.29      0.40     18697\n",
            "\n",
            "    accuracy                           0.94    255414\n",
            "   macro avg       0.79      0.64      0.68    255414\n",
            "weighted avg       0.92      0.94      0.92    255414\n",
            "\n",
            "Confusion matrix:\n",
            " [[233673   3044]\n",
            " [ 13312   5385]]\n"
          ]
        }
      ]
    },
    {
      "cell_type": "code",
      "source": [
        "X_train_feature_reduced, y_train_feature_reduced = shuffle(\n",
        "    X_train_feature_reduced, y_train_feature_reduced, random_state=19)\n",
        "\n",
        "y_pred, y_pred_proba = custom_ensemble_2(\n",
        "    X_train_feature_reduced, y_train_feature_reduced, X_test_feature_reduced, y_test_feature_reduced)\n",
        "\n",
        "print_scoring_reports(y_test_feature_reduced, y_pred)"
      ],
      "metadata": {
        "id": "SKmUu6tP6wjr",
        "outputId": "09a451b9-3884-4827-9573-7d224dfe8f62",
        "colab": {
          "base_uri": "https://localhost:8080/"
        }
      },
      "execution_count": 125,
      "outputs": [
        {
          "output_type": "stream",
          "name": "stdout",
          "text": [
            "\n",
            " Cluster\n",
            "0     0.004188\n",
            "1     0.006597\n",
            "2     0.020161\n",
            "3     0.010188\n",
            "4     0.024097\n",
            "5     0.002043\n",
            "6     0.427002\n",
            "7     0.004676\n",
            "8     0.151875\n",
            "9     0.014504\n",
            "10    0.426376\n",
            "11    0.063406\n",
            "12    0.012488\n",
            "13    0.291109\n",
            "14    0.223109\n",
            "15    0.480041\n",
            "16    0.016973\n",
            "17    0.353954\n",
            "18    0.010250\n",
            "19    0.144936\n",
            "20    0.586126\n",
            "Name: Target, dtype: float64 \n",
            "\n",
            "              precision    recall  f1-score   support\n",
            "\n",
            "           0       0.95      0.98      0.97    236717\n",
            "           1       0.62      0.35      0.45     18697\n",
            "\n",
            "    accuracy                           0.94    255414\n",
            "   macro avg       0.78      0.67      0.71    255414\n",
            "weighted avg       0.93      0.94      0.93    255414\n",
            "\n",
            "Confusion matrix:\n",
            " [[232642   4075]\n",
            " [ 12075   6622]]\n"
          ]
        }
      ]
    },
    {
      "cell_type": "code",
      "source": [
        "y_pred, y_pred_proba = custom_ensemble_2(X_train_SMOTE, y_train_SMOTE, X_test, y_test)\n",
        "print_scoring_reports(y_test, y_pred)"
      ],
      "metadata": {
        "id": "rp7JSs8iWk2w",
        "outputId": "f40e9106-378a-4ee3-97d7-a84533bc8ba5",
        "colab": {
          "base_uri": "https://localhost:8080/"
        }
      },
      "execution_count": 126,
      "outputs": [
        {
          "output_type": "stream",
          "name": "stdout",
          "text": [
            "\n",
            " Cluster\n",
            "0     0.283337\n",
            "1     0.113558\n",
            "2     0.008223\n",
            "3     0.843120\n",
            "4     0.046907\n",
            "5     0.815478\n",
            "6     0.872080\n",
            "7     0.120121\n",
            "8     0.739349\n",
            "9     0.148986\n",
            "10    0.201242\n",
            "11    0.048399\n",
            "12    0.079474\n",
            "13    0.500347\n",
            "14    0.754782\n",
            "15    0.030825\n",
            "16    0.759601\n",
            "17    0.669175\n",
            "18    0.873584\n",
            "19    0.019780\n",
            "20    0.066052\n",
            "Name: Target, dtype: float64 \n",
            "\n",
            "              precision    recall  f1-score   support\n",
            "\n",
            "           0       0.99      0.89      0.94    236717\n",
            "           1       0.39      0.88      0.54     18697\n",
            "\n",
            "    accuracy                           0.89    255414\n",
            "   macro avg       0.69      0.89      0.74    255414\n",
            "weighted avg       0.95      0.89      0.91    255414\n",
            "\n",
            "Confusion matrix:\n",
            " [[211078  25639]\n",
            " [  2246  16451]]\n"
          ]
        }
      ]
    },
    {
      "cell_type": "code",
      "source": [
        "y_pred, y_pred_proba = custom_ensemble_2(\n",
        "    X_train_feature_reduced_SMOTE, y_train_feature_reduced_SMOTE, X_test_feature_reduced, y_test_feature_reduced )\n",
        "print_scoring_reports(y_test_feature_reduced, y_pred)"
      ],
      "metadata": {
        "id": "hAvTsFDbWp7z",
        "outputId": "972584b0-df00-4ed1-8530-e1f1522cf639",
        "colab": {
          "base_uri": "https://localhost:8080/"
        }
      },
      "execution_count": 127,
      "outputs": [
        {
          "output_type": "stream",
          "name": "stdout",
          "text": [
            "\n",
            " Cluster\n",
            "0     0.845107\n",
            "1     0.013389\n",
            "2     0.907461\n",
            "3     0.049669\n",
            "4     0.795569\n",
            "5     0.517724\n",
            "6     0.032030\n",
            "7     0.861510\n",
            "8     0.146495\n",
            "9     0.752801\n",
            "10    0.599236\n",
            "11    0.023077\n",
            "12    0.496282\n",
            "13    0.083103\n",
            "14    0.178799\n",
            "15    0.119646\n",
            "16    0.849709\n",
            "17    0.862179\n",
            "18    0.051642\n",
            "19    0.574589\n",
            "20    0.644486\n",
            "Name: Target, dtype: float64 \n",
            "\n",
            "              precision    recall  f1-score   support\n",
            "\n",
            "           0       0.99      0.90      0.94    236717\n",
            "           1       0.41      0.90      0.56     18697\n",
            "\n",
            "    accuracy                           0.90    255414\n",
            "   macro avg       0.70      0.90      0.75    255414\n",
            "weighted avg       0.95      0.90      0.91    255414\n",
            "\n",
            "Confusion matrix:\n",
            " [[212093  24624]\n",
            " [  1861  16836]]\n"
          ]
        }
      ]
    },
    {
      "cell_type": "markdown",
      "source": [
        "New resampling of data to check if resampling helps as it increased the precision values in above model"
      ],
      "metadata": {
        "id": "rrZ1rN8SqlRT"
      }
    },
    {
      "cell_type": "code",
      "source": [
        "X_train_SMOTE1, y_train_SMOTE1 = data_sampling_smote(X_train, y_train, 0.49, 0.51)"
      ],
      "metadata": {
        "id": "a_Gg_SRCpjNI"
      },
      "execution_count": 128,
      "outputs": []
    },
    {
      "cell_type": "code",
      "source": [
        "y_train_SMOTE1.mean()"
      ],
      "metadata": {
        "id": "KVp5gbF9rUIW",
        "outputId": "396e8560-3a06-41fa-a17a-b9fa74d67e01",
        "colab": {
          "base_uri": "https://localhost:8080/"
        }
      },
      "execution_count": 129,
      "outputs": [
        {
          "data": {
            "text/plain": [
              "0.33774661306439246"
            ]
          },
          "execution_count": 129,
          "metadata": {},
          "output_type": "execute_result"
        }
      ]
    },
    {
      "cell_type": "code",
      "source": [
        "y_pred, y_pred_proba = custom_ensemble_2(\n",
        "    X_train_SMOTE1, y_train_SMOTE1, X_test, y_test )\n",
        "\n",
        "print_scoring_reports(y_test, y_pred)"
      ],
      "metadata": {
        "id": "cb6Rr32zq-F5",
        "outputId": "b4d44de8-9c24-4e49-c059-74201bd54ab4",
        "colab": {
          "base_uri": "https://localhost:8080/"
        }
      },
      "execution_count": 130,
      "outputs": [
        {
          "output_type": "stream",
          "name": "stdout",
          "text": [
            "\n",
            " Cluster\n",
            "0     0.109053\n",
            "1     0.049871\n",
            "2     0.139507\n",
            "3     0.019844\n",
            "4     0.037785\n",
            "5     0.901325\n",
            "6     0.721295\n",
            "7     0.067157\n",
            "8     0.057296\n",
            "9     0.146945\n",
            "10    0.599450\n",
            "11    0.172457\n",
            "12    0.762300\n",
            "13    0.785006\n",
            "14    0.040319\n",
            "15    0.858360\n",
            "16    0.822448\n",
            "17    0.864071\n",
            "18    0.036838\n",
            "19    0.762951\n",
            "20    0.780296\n",
            "Name: Target, dtype: float64 \n",
            "\n",
            "              precision    recall  f1-score   support\n",
            "\n",
            "           0       0.99      0.90      0.94    236717\n",
            "           1       0.41      0.88      0.56     18697\n",
            "\n",
            "    accuracy                           0.90    255414\n",
            "   macro avg       0.70      0.89      0.75    255414\n",
            "weighted avg       0.95      0.90      0.92    255414\n",
            "\n",
            "Confusion matrix:\n",
            " [[213270  23447]\n",
            " [  2304  16393]]\n"
          ]
        }
      ]
    },
    {
      "cell_type": "code",
      "source": [
        "import matplotlib.pyplot as plt\n",
        "import numpy as np\n",
        "\n",
        "# Define data\n",
        "logistic_regression_acc = [0.94, 0.94, 0.90, 0.90]\n",
        "xgboost_acc = [0.94, 0.94, 0.90, 0.89]\n",
        "decision_trees_acc = [0.94, 0.94, 0.89, 0.88]\n",
        "classifier_ensemble_acc = [0.94, 0.94, 0.89, 0.88]\n",
        "unsupervised_supervised_ensemble_acc = [0.94, 0.94, 0.90, 0.89]\n",
        "\n",
        "logistic_regression_prec = [0.93, 0.93, 0.95, 0.95]\n",
        "xgboost_prec = [0.93, 0.93, 0.95, 0.95]\n",
        "decision_trees_prec = [0.92, 0.93, 0.95, 0.95]\n",
        "classifier_ensemble_prec = [0.92, 0.92, 0.95, 0.95]\n",
        "unsupervised_supervised_ensemble_prec = [0.92, 0.92, 0.95, 0.94]\n",
        "\n",
        "logistic_regression_recall = [0.94, 0.94, 0.90, 0.90]\n",
        "xgboost_recall = [0.94, 0.94, 0.90, 0.89]\n",
        "decision_trees_recall = [0.94, 0.94, 0.89, 0.88]\n",
        "classifier_ensemble_recall = [0.94, 0.94, 0.89, 0.88]\n",
        "unsupervised_supervised_ensemble_recall = [0.93, 0.93, 0.89, 0.89]\n",
        "\n",
        "logistic_regression_f1 = [0.93, 0.93, 0.92, 0.92]\n",
        "xgboost_f1 = [0.93, 0.93, 0.91, 0.91]\n",
        "decision_trees_f1 = [0.92, 0.93, 0.91, 0.90]\n",
        "classifier_ensemble_f1 = [0.92, 0.92, 0.91, 0.90]\n",
        "unsupervised_supervised_ensemble_f1 = [0.92, 0.92, 0.90, 0.89]\n",
        "\n",
        "# Create subplots\n",
        "fig, axs = plt.subplots(2, 2, figsize=(10, 10))\n",
        "\n",
        "# Set x-axis ticks\n",
        "x = np.arange(4)\n",
        "labels = ['ASIS', 'REDUCED', 'SMOTE', 'RED_SMOTE']\n",
        "\n",
        "# Set bar width\n",
        "width = 0.15\n",
        "\n",
        "# Accuracy plot\n",
        "axs[0, 0].bar(x - 2 * width, logistic_regression_acc, width, label='Logistic Regression')\n",
        "axs[0, 0].bar(x - width, xgboost_acc, width, label='XGBOOST')\n",
        "axs[0, 0].bar(x, decision_trees_acc, width, label='Decision Trees')\n",
        "axs[0, 0].bar(x + width, classifier_ensemble_acc, width, label='Classifier-Classifier Ensemble')\n",
        "axs[0, 0].bar(x + 2 * width, unsupervised_supervised_ensemble_acc, width, label='Unsupervised - Supervised Ensemble')\n",
        "axs[0, 0].set_xticks(x - width / 2)\n",
        "axs[0, 0].set_xticklabels(labels)\n",
        "axs[0, 0].set_ylabel('Accuracy')\n",
        "axs[0, 0].set_ylim(0.85, 1)\n",
        "axs[0, 0].legend()\n",
        "\n",
        "# Precision plot\n",
        "axs[0, 1].bar(x - 2 * width, logistic_regression_prec, width, label='Logistic Regression')\n",
        "axs[0, 1].bar(x - width, xgboost_prec, width, label='XGBOOST')\n",
        "axs[0, 1].bar(x, decision_trees_prec, width, label='Decision Trees')\n",
        "axs[0, 1].bar(x + width, classifier_ensemble_prec, width, label='Classifier-Classifier Ensemble')\n",
        "axs[0, 1].bar(x + 2 * width, unsupervised_supervised_ensemble_prec, width, label='Unsupervised - Supervised Ensemble')\n",
        "axs[0, 1].set_xticks(x - width / 2)\n",
        "axs[0, 1].set_xticklabels(labels)\n",
        "axs[0, 1].set_ylabel('Precision')\n",
        "axs[0, 1].set_ylim(0.85, 1)\n",
        "axs[0, 1].legend()\n",
        "\n",
        "# Recall plot\n",
        "axs[1, 0].bar(x - 2 * width, logistic_regression_recall, width, label='Logistic Regression')\n",
        "axs[1, 0].bar(x - width, xgboost_recall, width, label='XGBOOST')\n",
        "axs[1, 0].bar(x, decision_trees_recall, width, label='Decision Trees')\n",
        "axs[1, 0].bar(x + width, classifier_ensemble_recall, width, label='Classifier-Classifier Ensemble')\n",
        "axs[1, 0].bar(x + 2 * width, unsupervised_supervised_ensemble_recall, width, label='Unsupervised - Supervised Ensemble')\n",
        "axs[1, 0].set_xticks(x - width / 2)\n",
        "axs[1, 0].set_xticklabels(labels)\n",
        "axs[1, 0].set_ylabel('Recall')\n",
        "axs[1, 0].set_ylim(0.85, 1)\n",
        "axs[1, 0].legend()\n",
        "\n",
        "# F1 score plot\n",
        "axs[1, 1].bar(x - 2 * width, logistic_regression_f1, width, label='Logistic Regression')\n",
        "axs[1, 1].bar(x - width, xgboost_f1, width, label='XGBOOST')\n",
        "axs[1, 1].bar(x, decision_trees_f1, width, label='Decision Trees')\n",
        "axs[1, 1].bar(x + width, classifier_ensemble_f1, width, label='Classifier-Classifier Ensemble')\n",
        "axs[1, 1].bar(x + 2 * width, unsupervised_supervised_ensemble_f1, width, label='Unsupervised - Supervised Ensemble')\n",
        "axs[1, 1].set_xticks(x - width / 2)\n",
        "axs[1, 1].set_xticklabels(labels)\n",
        "axs[1, 1].set_ylabel('F1 Score')\n",
        "axs[1, 1].set_ylim(0.85, 1)\n",
        "axs[1, 1].legend()\n"
      ],
      "metadata": {
        "id": "cB5jJ-bDhvhF",
        "outputId": "19d727f4-edcf-46a1-e2ba-c22003b47e21",
        "colab": {
          "base_uri": "https://localhost:8080/",
          "height": 853
        }
      },
      "execution_count": 146,
      "outputs": [
        {
          "output_type": "execute_result",
          "data": {
            "text/plain": [
              "<matplotlib.legend.Legend at 0x7f7930921c70>"
            ]
          },
          "metadata": {},
          "execution_count": 146
        },
        {
          "output_type": "display_data",
          "data": {
            "text/plain": [
              "<Figure size 1000x1000 with 4 Axes>"
            ],
            "image/png": "[encoded data removed]"
          },
          "metadata": {}
        }
      ]
    }
  ],
  "metadata": {
    "colab": {
      "provenance": [],
      "toc_visible": true,
      "include_colab_link": true
    },
    "kernelspec": {
      "display_name": "Python 3 (ipykernel)",
      "language": "python",
      "name": "python3"
    },
    "language_info": {
      "codemirror_mode": {
        "name": "ipython",
        "version": 3
      },
      "file_extension": ".py",
      "mimetype": "text/x-python",
      "name": "python",
      "nbconvert_exporter": "python",
      "pygments_lexer": "ipython3",
      "version": "3.10.4"
    },
    "gpuClass": "standard"
  },
  "nbformat": 4,
  "nbformat_minor": 0
}