{
  "cells": [
    {
      "cell_type": "markdown",
      "metadata": {
        "id": "view-in-github",
        "colab_type": "text"
      },
      "source": [
        "<a href=\"https://colab.research.google.com/github/IISC-ICAIML-Project/Covid-19-Mortality-Prediction/blob/data_imbalance_resampling/Covid_19_Mortality_prediction.ipynb\" target=\"_parent\"><img src=\"https://colab.research.google.com/assets/colab-badge.svg\" alt=\"Open In Colab\"/></a>"
      ]
    },
    {
      "cell_type": "markdown",
      "metadata": {
        "id": "CXCvPaCeghZw"
      },
      "source": [
        "## Preparing the tools\n",
        "\n",
        "pandas, numpy and matplotlib for data analysis and manipulation"
      ]
    },
    {
      "cell_type": "code",
      "execution_count": 2,
      "metadata": {
        "id": "B0cDCKJoghZ4"
      },
      "outputs": [],
      "source": [
        "import numpy as np\n",
        "import pandas as pd\n",
        "import matplotlib.pyplot as plt"
      ]
    },
    {
      "cell_type": "markdown",
      "metadata": {
        "id": "m5r7-cDrghZ6"
      },
      "source": [
        "## Models from Scikit learn"
      ]
    },
    {
      "cell_type": "code",
      "execution_count": 3,
      "metadata": {
        "id": "JDlwPPnZghZ7"
      },
      "outputs": [],
      "source": [
        "from sklearn.linear_model import LogisticRegression\n",
        "from sklearn.ensemble import RandomForestClassifier\n",
        "\n",
        "from sklearn.model_selection import train_test_split, cross_val_score, RandomizedSearchCV, GridSearchCV\n",
        "from sklearn.metrics import confusion_matrix, classification_report, precision_score, recall_score, f1_score, RocCurveDisplay \n"
      ]
    },
    {
      "cell_type": "markdown",
      "metadata": {
        "id": "Sv71R6mtwyWj"
      },
      "source": [
        "## Data Exploration"
      ]
    },
    {
      "cell_type": "code",
      "execution_count": 4,
      "metadata": {
        "id": "XeQcZ61XwlGK"
      },
      "outputs": [],
      "source": [
        "# load the data into a data frame\n",
        "\n",
        "df = pd.read_csv('https://github.com/IISC-ICAIML-Porject/Covid-19-Mortality-Prediction/blob/master/data/Covid%20Data.csv?raw=true',header=0)"
      ]
    },
    {
      "cell_type": "code",
      "execution_count": 5,
      "metadata": {
        "colab": {
          "base_uri": "https://localhost:8080/",
          "height": 300
        },
        "id": "wnpzzToKx5eL",
        "outputId": "1c7655f6-83ba-4cc0-f2a2-0c1927447098"
      },
      "outputs": [
        {
          "output_type": "execute_result",
          "data": {
            "text/plain": [
              "   USMER  MEDICAL_UNIT  SEX  PATIENT_TYPE   DATE_DIED  INTUBED  PNEUMONIA  \\\n",
              "0      2             1    1             1  03/05/2020       97          1   \n",
              "1      2             1    2             1  03/06/2020       97          1   \n",
              "2      2             1    2             2  09/06/2020        1          2   \n",
              "3      2             1    1             1  12/06/2020       97          2   \n",
              "4      2             1    2             1  21/06/2020       97          2   \n",
              "\n",
              "   AGE  PREGNANT  DIABETES  ...  ASTHMA  INMSUPR  HIPERTENSION  OTHER_DISEASE  \\\n",
              "0   65         2         2  ...       2        2             1              2   \n",
              "1   72        97         2  ...       2        2             1              2   \n",
              "2   55        97         1  ...       2        2             2              2   \n",
              "3   53         2         2  ...       2        2             2              2   \n",
              "4   68        97         1  ...       2        2             1              2   \n",
              "\n",
              "   CARDIOVASCULAR  OBESITY  RENAL_CHRONIC  TOBACCO  CLASIFFICATION_FINAL  ICU  \n",
              "0               2        2              2        2                     3   97  \n",
              "1               2        1              1        2                     5   97  \n",
              "2               2        2              2        2                     3    2  \n",
              "3               2        2              2        2                     7   97  \n",
              "4               2        2              2        2                     3   97  \n",
              "\n",
              "[5 rows x 21 columns]"
            ],
            "text/html": [
              "\n",
              "  <div id=\"df-d98a9cc3-9210-4d66-ad47-6c50df0a6d94\">\n",
              "    <div class=\"colab-df-container\">\n",
              "      <div>\n",
              "<style scoped>\n",
              "    .dataframe tbody tr th:only-of-type {\n",
              "        vertical-align: middle;\n",
              "    }\n",
              "\n",
              "    .dataframe tbody tr th {\n",
              "        vertical-align: top;\n",
              "    }\n",
              "\n",
              "    .dataframe thead th {\n",
              "        text-align: right;\n",
              "    }\n",
              "</style>\n",
              "<table border=\"1\" class=\"dataframe\">\n",
              "  <thead>\n",
              "    <tr style=\"text-align: right;\">\n",
              "      <th></th>\n",
              "      <th>USMER</th>\n",
              "      <th>MEDICAL_UNIT</th>\n",
              "      <th>SEX</th>\n",
              "      <th>PATIENT_TYPE</th>\n",
              "      <th>DATE_DIED</th>\n",
              "      <th>INTUBED</th>\n",
              "      <th>PNEUMONIA</th>\n",
              "      <th>AGE</th>\n",
              "      <th>PREGNANT</th>\n",
              "      <th>DIABETES</th>\n",
              "      <th>...</th>\n",
              "      <th>ASTHMA</th>\n",
              "      <th>INMSUPR</th>\n",
              "      <th>HIPERTENSION</th>\n",
              "      <th>OTHER_DISEASE</th>\n",
              "      <th>CARDIOVASCULAR</th>\n",
              "      <th>OBESITY</th>\n",
              "      <th>RENAL_CHRONIC</th>\n",
              "      <th>TOBACCO</th>\n",
              "      <th>CLASIFFICATION_FINAL</th>\n",
              "      <th>ICU</th>\n",
              "    </tr>\n",
              "  </thead>\n",
              "  <tbody>\n",
              "    <tr>\n",
              "      <th>0</th>\n",
              "      <td>2</td>\n",
              "      <td>1</td>\n",
              "      <td>1</td>\n",
              "      <td>1</td>\n",
              "      <td>03/05/2020</td>\n",
              "      <td>97</td>\n",
              "      <td>1</td>\n",
              "      <td>65</td>\n",
              "      <td>2</td>\n",
              "      <td>2</td>\n",
              "      <td>...</td>\n",
              "      <td>2</td>\n",
              "      <td>2</td>\n",
              "      <td>1</td>\n",
              "      <td>2</td>\n",
              "      <td>2</td>\n",
              "      <td>2</td>\n",
              "      <td>2</td>\n",
              "      <td>2</td>\n",
              "      <td>3</td>\n",
              "      <td>97</td>\n",
              "    </tr>\n",
              "    <tr>\n",
              "      <th>1</th>\n",
              "      <td>2</td>\n",
              "      <td>1</td>\n",
              "      <td>2</td>\n",
              "      <td>1</td>\n",
              "      <td>03/06/2020</td>\n",
              "      <td>97</td>\n",
              "      <td>1</td>\n",
              "      <td>72</td>\n",
              "      <td>97</td>\n",
              "      <td>2</td>\n",
              "      <td>...</td>\n",
              "      <td>2</td>\n",
              "      <td>2</td>\n",
              "      <td>1</td>\n",
              "      <td>2</td>\n",
              "      <td>2</td>\n",
              "      <td>1</td>\n",
              "      <td>1</td>\n",
              "      <td>2</td>\n",
              "      <td>5</td>\n",
              "      <td>97</td>\n",
              "    </tr>\n",
              "    <tr>\n",
              "      <th>2</th>\n",
              "      <td>2</td>\n",
              "      <td>1</td>\n",
              "      <td>2</td>\n",
              "      <td>2</td>\n",
              "      <td>09/06/2020</td>\n",
              "      <td>1</td>\n",
              "      <td>2</td>\n",
              "      <td>55</td>\n",
              "      <td>97</td>\n",
              "      <td>1</td>\n",
              "      <td>...</td>\n",
              "      <td>2</td>\n",
              "      <td>2</td>\n",
              "      <td>2</td>\n",
              "      <td>2</td>\n",
              "      <td>2</td>\n",
              "      <td>2</td>\n",
              "      <td>2</td>\n",
              "      <td>2</td>\n",
              "      <td>3</td>\n",
              "      <td>2</td>\n",
              "    </tr>\n",
              "    <tr>\n",
              "      <th>3</th>\n",
              "      <td>2</td>\n",
              "      <td>1</td>\n",
              "      <td>1</td>\n",
              "      <td>1</td>\n",
              "      <td>12/06/2020</td>\n",
              "      <td>97</td>\n",
              "      <td>2</td>\n",
              "      <td>53</td>\n",
              "      <td>2</td>\n",
              "      <td>2</td>\n",
              "      <td>...</td>\n",
              "      <td>2</td>\n",
              "      <td>2</td>\n",
              "      <td>2</td>\n",
              "      <td>2</td>\n",
              "      <td>2</td>\n",
              "      <td>2</td>\n",
              "      <td>2</td>\n",
              "      <td>2</td>\n",
              "      <td>7</td>\n",
              "      <td>97</td>\n",
              "    </tr>\n",
              "    <tr>\n",
              "      <th>4</th>\n",
              "      <td>2</td>\n",
              "      <td>1</td>\n",
              "      <td>2</td>\n",
              "      <td>1</td>\n",
              "      <td>21/06/2020</td>\n",
              "      <td>97</td>\n",
              "      <td>2</td>\n",
              "      <td>68</td>\n",
              "      <td>97</td>\n",
              "      <td>1</td>\n",
              "      <td>...</td>\n",
              "      <td>2</td>\n",
              "      <td>2</td>\n",
              "      <td>1</td>\n",
              "      <td>2</td>\n",
              "      <td>2</td>\n",
              "      <td>2</td>\n",
              "      <td>2</td>\n",
              "      <td>2</td>\n",
              "      <td>3</td>\n",
              "      <td>97</td>\n",
              "    </tr>\n",
              "  </tbody>\n",
              "</table>\n",
              "<p>5 rows × 21 columns</p>\n",
              "</div>\n",
              "      <button class=\"colab-df-convert\" onclick=\"convertToInteractive('df-d98a9cc3-9210-4d66-ad47-6c50df0a6d94')\"\n",
              "              title=\"Convert this dataframe to an interactive table.\"\n",
              "              style=\"display:none;\">\n",
              "        \n",
              "  <svg xmlns=\"http://www.w3.org/2000/svg\" height=\"24px\"viewBox=\"0 0 24 24\"\n",
              "       width=\"24px\">\n",
              "    <path d=\"M0 0h24v24H0V0z\" fill=\"none\"/>\n",
              "    <path d=\"M18.56 5.44l.94 2.06.94-2.06 2.06-.94-2.06-.94-.94-2.06-.94 2.06-2.06.94zm-11 1L8.5 8.5l.94-2.06 2.06-.94-2.06-.94L8.5 2.5l-.94 2.06-2.06.94zm10 10l.94 2.06.94-2.06 2.06-.94-2.06-.94-.94-2.06-.94 2.06-2.06.94z\"/><path d=\"M17.41 7.96l-1.37-1.37c-.4-.4-.92-.59-1.43-.59-.52 0-1.04.2-1.43.59L10.3 9.45l-7.72 7.72c-.78.78-.78 2.05 0 2.83L4 21.41c.39.39.9.59 1.41.59.51 0 1.02-.2 1.41-.59l7.78-7.78 2.81-2.81c.8-.78.8-2.07 0-2.86zM5.41 20L4 18.59l7.72-7.72 1.47 1.35L5.41 20z\"/>\n",
              "  </svg>\n",
              "      </button>\n",
              "      \n",
              "  <style>\n",
              "    .colab-df-container {\n",
              "      display:flex;\n",
              "      flex-wrap:wrap;\n",
              "      gap: 12px;\n",
              "    }\n",
              "\n",
              "    .colab-df-convert {\n",
              "      background-color: #E8F0FE;\n",
              "      border: none;\n",
              "      border-radius: 50%;\n",
              "      cursor: pointer;\n",
              "      display: none;\n",
              "      fill: #1967D2;\n",
              "      height: 32px;\n",
              "      padding: 0 0 0 0;\n",
              "      width: 32px;\n",
              "    }\n",
              "\n",
              "    .colab-df-convert:hover {\n",
              "      background-color: #E2EBFA;\n",
              "      box-shadow: 0px 1px 2px rgba(60, 64, 67, 0.3), 0px 1px 3px 1px rgba(60, 64, 67, 0.15);\n",
              "      fill: #174EA6;\n",
              "    }\n",
              "\n",
              "    [theme=dark] .colab-df-convert {\n",
              "      background-color: #3B4455;\n",
              "      fill: #D2E3FC;\n",
              "    }\n",
              "\n",
              "    [theme=dark] .colab-df-convert:hover {\n",
              "      background-color: #434B5C;\n",
              "      box-shadow: 0px 1px 3px 1px rgba(0, 0, 0, 0.15);\n",
              "      filter: drop-shadow(0px 1px 2px rgba(0, 0, 0, 0.3));\n",
              "      fill: #FFFFFF;\n",
              "    }\n",
              "  </style>\n",
              "\n",
              "      <script>\n",
              "        const buttonEl =\n",
              "          document.querySelector('#df-d98a9cc3-9210-4d66-ad47-6c50df0a6d94 button.colab-df-convert');\n",
              "        buttonEl.style.display =\n",
              "          google.colab.kernel.accessAllowed ? 'block' : 'none';\n",
              "\n",
              "        async function convertToInteractive(key) {\n",
              "          const element = document.querySelector('#df-d98a9cc3-9210-4d66-ad47-6c50df0a6d94');\n",
              "          const dataTable =\n",
              "            await google.colab.kernel.invokeFunction('convertToInteractive',\n",
              "                                                     [key], {});\n",
              "          if (!dataTable) return;\n",
              "\n",
              "          const docLinkHtml = 'Like what you see? Visit the ' +\n",
              "            '<a target=\"_blank\" href=https://colab.research.google.com/notebooks/data_table.ipynb>data table notebook</a>'\n",
              "            + ' to learn more about interactive tables.';\n",
              "          element.innerHTML = '';\n",
              "          dataTable['output_type'] = 'display_data';\n",
              "          await google.colab.output.renderOutput(dataTable, element);\n",
              "          const docLink = document.createElement('div');\n",
              "          docLink.innerHTML = docLinkHtml;\n",
              "          element.appendChild(docLink);\n",
              "        }\n",
              "      </script>\n",
              "    </div>\n",
              "  </div>\n",
              "  "
            ]
          },
          "metadata": {},
          "execution_count": 5
        }
      ],
      "source": [
        "df.head()"
      ]
    },
    {
      "cell_type": "code",
      "execution_count": 6,
      "metadata": {
        "colab": {
          "base_uri": "https://localhost:8080/",
          "height": 364
        },
        "id": "IBZstURLyEHL",
        "outputId": "77294225-57bd-4f4d-aa28-bc283a4c21d4"
      },
      "outputs": [
        {
          "output_type": "execute_result",
          "data": {
            "text/plain": [
              "              USMER  MEDICAL_UNIT           SEX  PATIENT_TYPE       INTUBED  \\\n",
              "count  1.048575e+06  1.048575e+06  1.048575e+06  1.048575e+06  1.048575e+06   \n",
              "mean   1.632194e+00  8.980565e+00  1.499259e+00  1.190765e+00  7.952288e+01   \n",
              "std    4.822084e-01  3.723278e+00  4.999997e-01  3.929041e-01  3.686889e+01   \n",
              "min    1.000000e+00  1.000000e+00  1.000000e+00  1.000000e+00  1.000000e+00   \n",
              "25%    1.000000e+00  4.000000e+00  1.000000e+00  1.000000e+00  9.700000e+01   \n",
              "50%    2.000000e+00  1.200000e+01  1.000000e+00  1.000000e+00  9.700000e+01   \n",
              "75%    2.000000e+00  1.200000e+01  2.000000e+00  1.000000e+00  9.700000e+01   \n",
              "max    2.000000e+00  1.300000e+01  2.000000e+00  2.000000e+00  9.900000e+01   \n",
              "\n",
              "          PNEUMONIA           AGE      PREGNANT      DIABETES          COPD  \\\n",
              "count  1.048575e+06  1.048575e+06  1.048575e+06  1.048575e+06  1.048575e+06   \n",
              "mean   3.346831e+00  4.179410e+01  4.976558e+01  2.186404e+00  2.260569e+00   \n",
              "std    1.191288e+01  1.690739e+01  4.751073e+01  5.424242e+00  5.132258e+00   \n",
              "min    1.000000e+00  0.000000e+00  1.000000e+00  1.000000e+00  1.000000e+00   \n",
              "25%    2.000000e+00  3.000000e+01  2.000000e+00  2.000000e+00  2.000000e+00   \n",
              "50%    2.000000e+00  4.000000e+01  9.700000e+01  2.000000e+00  2.000000e+00   \n",
              "75%    2.000000e+00  5.300000e+01  9.700000e+01  2.000000e+00  2.000000e+00   \n",
              "max    9.900000e+01  1.210000e+02  9.800000e+01  9.800000e+01  9.800000e+01   \n",
              "\n",
              "             ASTHMA       INMSUPR  HIPERTENSION  OTHER_DISEASE  \\\n",
              "count  1.048575e+06  1.048575e+06  1.048575e+06   1.048575e+06   \n",
              "mean   2.242626e+00  2.298132e+00  2.128989e+00   2.435143e+00   \n",
              "std    5.114089e+00  5.462843e+00  5.236397e+00   6.646676e+00   \n",
              "min    1.000000e+00  1.000000e+00  1.000000e+00   1.000000e+00   \n",
              "25%    2.000000e+00  2.000000e+00  2.000000e+00   2.000000e+00   \n",
              "50%    2.000000e+00  2.000000e+00  2.000000e+00   2.000000e+00   \n",
              "75%    2.000000e+00  2.000000e+00  2.000000e+00   2.000000e+00   \n",
              "max    9.800000e+01  9.800000e+01  9.800000e+01   9.800000e+01   \n",
              "\n",
              "       CARDIOVASCULAR       OBESITY  RENAL_CHRONIC       TOBACCO  \\\n",
              "count    1.048575e+06  1.048575e+06   1.048575e+06  1.048575e+06   \n",
              "mean     2.261810e+00  2.125176e+00   2.257180e+00  2.214333e+00   \n",
              "std      5.194850e+00  5.175445e+00   5.135354e+00  5.323097e+00   \n",
              "min      1.000000e+00  1.000000e+00   1.000000e+00  1.000000e+00   \n",
              "25%      2.000000e+00  2.000000e+00   2.000000e+00  2.000000e+00   \n",
              "50%      2.000000e+00  2.000000e+00   2.000000e+00  2.000000e+00   \n",
              "75%      2.000000e+00  2.000000e+00   2.000000e+00  2.000000e+00   \n",
              "max      9.800000e+01  9.800000e+01   9.800000e+01  9.800000e+01   \n",
              "\n",
              "       CLASIFFICATION_FINAL           ICU  \n",
              "count          1.048575e+06  1.048575e+06  \n",
              "mean           5.305653e+00  7.955397e+01  \n",
              "std            1.881165e+00  3.682307e+01  \n",
              "min            1.000000e+00  1.000000e+00  \n",
              "25%            3.000000e+00  9.700000e+01  \n",
              "50%            6.000000e+00  9.700000e+01  \n",
              "75%            7.000000e+00  9.700000e+01  \n",
              "max            7.000000e+00  9.900000e+01  "
            ],
            "text/html": [
              "\n",
              "  <div id=\"df-96c2b4eb-80bf-4442-9407-9a89b1eeabd5\">\n",
              "    <div class=\"colab-df-container\">\n",
              "      <div>\n",
              "<style scoped>\n",
              "    .dataframe tbody tr th:only-of-type {\n",
              "        vertical-align: middle;\n",
              "    }\n",
              "\n",
              "    .dataframe tbody tr th {\n",
              "        vertical-align: top;\n",
              "    }\n",
              "\n",
              "    .dataframe thead th {\n",
              "        text-align: right;\n",
              "    }\n",
              "</style>\n",
              "<table border=\"1\" class=\"dataframe\">\n",
              "  <thead>\n",
              "    <tr style=\"text-align: right;\">\n",
              "      <th></th>\n",
              "      <th>USMER</th>\n",
              "      <th>MEDICAL_UNIT</th>\n",
              "      <th>SEX</th>\n",
              "      <th>PATIENT_TYPE</th>\n",
              "      <th>INTUBED</th>\n",
              "      <th>PNEUMONIA</th>\n",
              "      <th>AGE</th>\n",
              "      <th>PREGNANT</th>\n",
              "      <th>DIABETES</th>\n",
              "      <th>COPD</th>\n",
              "      <th>ASTHMA</th>\n",
              "      <th>INMSUPR</th>\n",
              "      <th>HIPERTENSION</th>\n",
              "      <th>OTHER_DISEASE</th>\n",
              "      <th>CARDIOVASCULAR</th>\n",
              "      <th>OBESITY</th>\n",
              "      <th>RENAL_CHRONIC</th>\n",
              "      <th>TOBACCO</th>\n",
              "      <th>CLASIFFICATION_FINAL</th>\n",
              "      <th>ICU</th>\n",
              "    </tr>\n",
              "  </thead>\n",
              "  <tbody>\n",
              "    <tr>\n",
              "      <th>count</th>\n",
              "      <td>1.048575e+06</td>\n",
              "      <td>1.048575e+06</td>\n",
              "      <td>1.048575e+06</td>\n",
              "      <td>1.048575e+06</td>\n",
              "      <td>1.048575e+06</td>\n",
              "      <td>1.048575e+06</td>\n",
              "      <td>1.048575e+06</td>\n",
              "      <td>1.048575e+06</td>\n",
              "      <td>1.048575e+06</td>\n",
              "      <td>1.048575e+06</td>\n",
              "      <td>1.048575e+06</td>\n",
              "      <td>1.048575e+06</td>\n",
              "      <td>1.048575e+06</td>\n",
              "      <td>1.048575e+06</td>\n",
              "      <td>1.048575e+06</td>\n",
              "      <td>1.048575e+06</td>\n",
              "      <td>1.048575e+06</td>\n",
              "      <td>1.048575e+06</td>\n",
              "      <td>1.048575e+06</td>\n",
              "      <td>1.048575e+06</td>\n",
              "    </tr>\n",
              "    <tr>\n",
              "      <th>mean</th>\n",
              "      <td>1.632194e+00</td>\n",
              "      <td>8.980565e+00</td>\n",
              "      <td>1.499259e+00</td>\n",
              "      <td>1.190765e+00</td>\n",
              "      <td>7.952288e+01</td>\n",
              "      <td>3.346831e+00</td>\n",
              "      <td>4.179410e+01</td>\n",
              "      <td>4.976558e+01</td>\n",
              "      <td>2.186404e+00</td>\n",
              "      <td>2.260569e+00</td>\n",
              "      <td>2.242626e+00</td>\n",
              "      <td>2.298132e+00</td>\n",
              "      <td>2.128989e+00</td>\n",
              "      <td>2.435143e+00</td>\n",
              "      <td>2.261810e+00</td>\n",
              "      <td>2.125176e+00</td>\n",
              "      <td>2.257180e+00</td>\n",
              "      <td>2.214333e+00</td>\n",
              "      <td>5.305653e+00</td>\n",
              "      <td>7.955397e+01</td>\n",
              "    </tr>\n",
              "    <tr>\n",
              "      <th>std</th>\n",
              "      <td>4.822084e-01</td>\n",
              "      <td>3.723278e+00</td>\n",
              "      <td>4.999997e-01</td>\n",
              "      <td>3.929041e-01</td>\n",
              "      <td>3.686889e+01</td>\n",
              "      <td>1.191288e+01</td>\n",
              "      <td>1.690739e+01</td>\n",
              "      <td>4.751073e+01</td>\n",
              "      <td>5.424242e+00</td>\n",
              "      <td>5.132258e+00</td>\n",
              "      <td>5.114089e+00</td>\n",
              "      <td>5.462843e+00</td>\n",
              "      <td>5.236397e+00</td>\n",
              "      <td>6.646676e+00</td>\n",
              "      <td>5.194850e+00</td>\n",
              "      <td>5.175445e+00</td>\n",
              "      <td>5.135354e+00</td>\n",
              "      <td>5.323097e+00</td>\n",
              "      <td>1.881165e+00</td>\n",
              "      <td>3.682307e+01</td>\n",
              "    </tr>\n",
              "    <tr>\n",
              "      <th>min</th>\n",
              "      <td>1.000000e+00</td>\n",
              "      <td>1.000000e+00</td>\n",
              "      <td>1.000000e+00</td>\n",
              "      <td>1.000000e+00</td>\n",
              "      <td>1.000000e+00</td>\n",
              "      <td>1.000000e+00</td>\n",
              "      <td>0.000000e+00</td>\n",
              "      <td>1.000000e+00</td>\n",
              "      <td>1.000000e+00</td>\n",
              "      <td>1.000000e+00</td>\n",
              "      <td>1.000000e+00</td>\n",
              "      <td>1.000000e+00</td>\n",
              "      <td>1.000000e+00</td>\n",
              "      <td>1.000000e+00</td>\n",
              "      <td>1.000000e+00</td>\n",
              "      <td>1.000000e+00</td>\n",
              "      <td>1.000000e+00</td>\n",
              "      <td>1.000000e+00</td>\n",
              "      <td>1.000000e+00</td>\n",
              "      <td>1.000000e+00</td>\n",
              "    </tr>\n",
              "    <tr>\n",
              "      <th>25%</th>\n",
              "      <td>1.000000e+00</td>\n",
              "      <td>4.000000e+00</td>\n",
              "      <td>1.000000e+00</td>\n",
              "      <td>1.000000e+00</td>\n",
              "      <td>9.700000e+01</td>\n",
              "      <td>2.000000e+00</td>\n",
              "      <td>3.000000e+01</td>\n",
              "      <td>2.000000e+00</td>\n",
              "      <td>2.000000e+00</td>\n",
              "      <td>2.000000e+00</td>\n",
              "      <td>2.000000e+00</td>\n",
              "      <td>2.000000e+00</td>\n",
              "      <td>2.000000e+00</td>\n",
              "      <td>2.000000e+00</td>\n",
              "      <td>2.000000e+00</td>\n",
              "      <td>2.000000e+00</td>\n",
              "      <td>2.000000e+00</td>\n",
              "      <td>2.000000e+00</td>\n",
              "      <td>3.000000e+00</td>\n",
              "      <td>9.700000e+01</td>\n",
              "    </tr>\n",
              "    <tr>\n",
              "      <th>50%</th>\n",
              "      <td>2.000000e+00</td>\n",
              "      <td>1.200000e+01</td>\n",
              "      <td>1.000000e+00</td>\n",
              "      <td>1.000000e+00</td>\n",
              "      <td>9.700000e+01</td>\n",
              "      <td>2.000000e+00</td>\n",
              "      <td>4.000000e+01</td>\n",
              "      <td>9.700000e+01</td>\n",
              "      <td>2.000000e+00</td>\n",
              "      <td>2.000000e+00</td>\n",
              "      <td>2.000000e+00</td>\n",
              "      <td>2.000000e+00</td>\n",
              "      <td>2.000000e+00</td>\n",
              "      <td>2.000000e+00</td>\n",
              "      <td>2.000000e+00</td>\n",
              "      <td>2.000000e+00</td>\n",
              "      <td>2.000000e+00</td>\n",
              "      <td>2.000000e+00</td>\n",
              "      <td>6.000000e+00</td>\n",
              "      <td>9.700000e+01</td>\n",
              "    </tr>\n",
              "    <tr>\n",
              "      <th>75%</th>\n",
              "      <td>2.000000e+00</td>\n",
              "      <td>1.200000e+01</td>\n",
              "      <td>2.000000e+00</td>\n",
              "      <td>1.000000e+00</td>\n",
              "      <td>9.700000e+01</td>\n",
              "      <td>2.000000e+00</td>\n",
              "      <td>5.300000e+01</td>\n",
              "      <td>9.700000e+01</td>\n",
              "      <td>2.000000e+00</td>\n",
              "      <td>2.000000e+00</td>\n",
              "      <td>2.000000e+00</td>\n",
              "      <td>2.000000e+00</td>\n",
              "      <td>2.000000e+00</td>\n",
              "      <td>2.000000e+00</td>\n",
              "      <td>2.000000e+00</td>\n",
              "      <td>2.000000e+00</td>\n",
              "      <td>2.000000e+00</td>\n",
              "      <td>2.000000e+00</td>\n",
              "      <td>7.000000e+00</td>\n",
              "      <td>9.700000e+01</td>\n",
              "    </tr>\n",
              "    <tr>\n",
              "      <th>max</th>\n",
              "      <td>2.000000e+00</td>\n",
              "      <td>1.300000e+01</td>\n",
              "      <td>2.000000e+00</td>\n",
              "      <td>2.000000e+00</td>\n",
              "      <td>9.900000e+01</td>\n",
              "      <td>9.900000e+01</td>\n",
              "      <td>1.210000e+02</td>\n",
              "      <td>9.800000e+01</td>\n",
              "      <td>9.800000e+01</td>\n",
              "      <td>9.800000e+01</td>\n",
              "      <td>9.800000e+01</td>\n",
              "      <td>9.800000e+01</td>\n",
              "      <td>9.800000e+01</td>\n",
              "      <td>9.800000e+01</td>\n",
              "      <td>9.800000e+01</td>\n",
              "      <td>9.800000e+01</td>\n",
              "      <td>9.800000e+01</td>\n",
              "      <td>9.800000e+01</td>\n",
              "      <td>7.000000e+00</td>\n",
              "      <td>9.900000e+01</td>\n",
              "    </tr>\n",
              "  </tbody>\n",
              "</table>\n",
              "</div>\n",
              "      <button class=\"colab-df-convert\" onclick=\"convertToInteractive('df-96c2b4eb-80bf-4442-9407-9a89b1eeabd5')\"\n",
              "              title=\"Convert this dataframe to an interactive table.\"\n",
              "              style=\"display:none;\">\n",
              "        \n",
              "  <svg xmlns=\"http://www.w3.org/2000/svg\" height=\"24px\"viewBox=\"0 0 24 24\"\n",
              "       width=\"24px\">\n",
              "    <path d=\"M0 0h24v24H0V0z\" fill=\"none\"/>\n",
              "    <path d=\"M18.56 5.44l.94 2.06.94-2.06 2.06-.94-2.06-.94-.94-2.06-.94 2.06-2.06.94zm-11 1L8.5 8.5l.94-2.06 2.06-.94-2.06-.94L8.5 2.5l-.94 2.06-2.06.94zm10 10l.94 2.06.94-2.06 2.06-.94-2.06-.94-.94-2.06-.94 2.06-2.06.94z\"/><path d=\"M17.41 7.96l-1.37-1.37c-.4-.4-.92-.59-1.43-.59-.52 0-1.04.2-1.43.59L10.3 9.45l-7.72 7.72c-.78.78-.78 2.05 0 2.83L4 21.41c.39.39.9.59 1.41.59.51 0 1.02-.2 1.41-.59l7.78-7.78 2.81-2.81c.8-.78.8-2.07 0-2.86zM5.41 20L4 18.59l7.72-7.72 1.47 1.35L5.41 20z\"/>\n",
              "  </svg>\n",
              "      </button>\n",
              "      \n",
              "  <style>\n",
              "    .colab-df-container {\n",
              "      display:flex;\n",
              "      flex-wrap:wrap;\n",
              "      gap: 12px;\n",
              "    }\n",
              "\n",
              "    .colab-df-convert {\n",
              "      background-color: #E8F0FE;\n",
              "      border: none;\n",
              "      border-radius: 50%;\n",
              "      cursor: pointer;\n",
              "      display: none;\n",
              "      fill: #1967D2;\n",
              "      height: 32px;\n",
              "      padding: 0 0 0 0;\n",
              "      width: 32px;\n",
              "    }\n",
              "\n",
              "    .colab-df-convert:hover {\n",
              "      background-color: #E2EBFA;\n",
              "      box-shadow: 0px 1px 2px rgba(60, 64, 67, 0.3), 0px 1px 3px 1px rgba(60, 64, 67, 0.15);\n",
              "      fill: #174EA6;\n",
              "    }\n",
              "\n",
              "    [theme=dark] .colab-df-convert {\n",
              "      background-color: #3B4455;\n",
              "      fill: #D2E3FC;\n",
              "    }\n",
              "\n",
              "    [theme=dark] .colab-df-convert:hover {\n",
              "      background-color: #434B5C;\n",
              "      box-shadow: 0px 1px 3px 1px rgba(0, 0, 0, 0.15);\n",
              "      filter: drop-shadow(0px 1px 2px rgba(0, 0, 0, 0.3));\n",
              "      fill: #FFFFFF;\n",
              "    }\n",
              "  </style>\n",
              "\n",
              "      <script>\n",
              "        const buttonEl =\n",
              "          document.querySelector('#df-96c2b4eb-80bf-4442-9407-9a89b1eeabd5 button.colab-df-convert');\n",
              "        buttonEl.style.display =\n",
              "          google.colab.kernel.accessAllowed ? 'block' : 'none';\n",
              "\n",
              "        async function convertToInteractive(key) {\n",
              "          const element = document.querySelector('#df-96c2b4eb-80bf-4442-9407-9a89b1eeabd5');\n",
              "          const dataTable =\n",
              "            await google.colab.kernel.invokeFunction('convertToInteractive',\n",
              "                                                     [key], {});\n",
              "          if (!dataTable) return;\n",
              "\n",
              "          const docLinkHtml = 'Like what you see? Visit the ' +\n",
              "            '<a target=\"_blank\" href=https://colab.research.google.com/notebooks/data_table.ipynb>data table notebook</a>'\n",
              "            + ' to learn more about interactive tables.';\n",
              "          element.innerHTML = '';\n",
              "          dataTable['output_type'] = 'display_data';\n",
              "          await google.colab.output.renderOutput(dataTable, element);\n",
              "          const docLink = document.createElement('div');\n",
              "          docLink.innerHTML = docLinkHtml;\n",
              "          element.appendChild(docLink);\n",
              "        }\n",
              "      </script>\n",
              "    </div>\n",
              "  </div>\n",
              "  "
            ]
          },
          "metadata": {},
          "execution_count": 6
        }
      ],
      "source": [
        "df.describe()"
      ]
    },
    {
      "cell_type": "code",
      "source": [
        "df.shape"
      ],
      "metadata": {
        "id": "OkRSSdGuqp48",
        "outputId": "36f76d37-1f63-4c34-f5a5-cc1aa3b4adca",
        "colab": {
          "base_uri": "https://localhost:8080/"
        }
      },
      "execution_count": 7,
      "outputs": [
        {
          "output_type": "execute_result",
          "data": {
            "text/plain": [
              "(1048575, 21)"
            ]
          },
          "metadata": {},
          "execution_count": 7
        }
      ]
    },
    {
      "cell_type": "markdown",
      "metadata": {
        "id": "xIBsERf0y8Uf"
      },
      "source": [
        "### Data analysis and Understanding\n",
        "\n",
        "This dataset contains an enormous number of anonymized patient-related information including pre-conditions. The raw dataset consists of **21 unique features** and **1,048,576 unique patients**. In the Boolean features, **1** means **\"yes\"** and **2** means **\"no\"**. values as **97** and **99** are **missing data**.\n",
        "\n",
        "* sex: 1 for female and 2 for male.\n",
        "* age: of the patient.\n",
        "* classification: covid test findings. Values 1-3 mean that the patient was diagnosed with covid in different\n",
        "degrees. 4 or higher means that the patient is not a carrier of covid or that the test is inconclusive.\n",
        "* patient type: type of care the patient received in the unit. 1 for returned home and 2 for hospitalization.\n",
        "* pneumonia: whether the patient already have air sacs inflammation or not.\n",
        "* pregnancy: whether the patient is pregnant or not.\n",
        "* diabetes: whether the patient has diabetes or not.\n",
        "* copd: Indicates whether the patient has Chronic obstructive pulmonary disease or not.\n",
        "* asthma: whether the patient has asthma or not.\n",
        "* inmsupr: whether the patient is immunosuppressed or not.\n",
        "* hypertension: whether the patient has hypertension or not.\n",
        "* cardiovascular: whether the patient has heart or blood vessels related disease.\n",
        "* renal chronic: whether the patient has chronic renal disease or not.\n",
        "* other disease: whether the patient has other disease or not.\n",
        "* obesity: whether the patient is obese or not.\n",
        "* tobacco: whether the patient is a tobacco user.\n",
        "* usmr: Indicates whether the patient treated medical units of the first, second or third level.\n",
        "* medical unit: type of institution of the National Health System that provided the care.\n",
        "* intubed: whether the patient was connected to the ventilator.\n",
        "* icu: Indicates whether the patient had been admitted to an Intensive Care Unit.\n",
        "* date died: If the patient died indicate the date of death, and 9999-99-99 otherwise."
      ]
    },
    {
      "cell_type": "code",
      "source": [
        "import seaborn as sns\n",
        "sns.heatmap(data=df.drop(axis=1,columns='DATE_DIED').corr())"
      ],
      "metadata": {
        "id": "2itBVoiWeidW",
        "outputId": "90873b83-95c3-4d0e-acf3-2d262895e222",
        "colab": {
          "base_uri": "https://localhost:8080/",
          "height": 597
        }
      },
      "execution_count": 8,
      "outputs": [
        {
          "output_type": "execute_result",
          "data": {
            "text/plain": [
              "<Axes: >"
            ]
          },
          "metadata": {},
          "execution_count": 8
        },
        {
          "output_type": "display_data",
          "data": {
            "text/plain": [
              "<Figure size 640x480 with 2 Axes>"
            ],
            "image/png": "[encoded data removed]"
          },
          "metadata": {}
        }
      ]
    },
    {
      "cell_type": "markdown",
      "source": [
        "## Data Cleaning"
      ],
      "metadata": {
        "id": "OAwdds5C4mvn"
      }
    },
    {
      "cell_type": "markdown",
      "source": [
        "We find the total number of missing values in each of the 21 features and corresponding percentage of missing value contributed by each of these features"
      ],
      "metadata": {
        "id": "cR8Z6TxJ4_2S"
      }
    },
    {
      "cell_type": "code",
      "execution_count": 9,
      "metadata": {
        "id": "3contXPQghaC",
        "outputId": "c8b6dd0c-b04a-412a-a7e6-fcd9290988d2",
        "colab": {
          "base_uri": "https://localhost:8080/"
        }
      },
      "outputs": [
        {
          "output_type": "stream",
          "name": "stdout",
          "text": [
            "                                   Feature  NaN_count  97_98_99_count  \\\n",
            "ICU                                    ICU     856032               0   \n",
            "INTUBED                            INTUBED     855869               0   \n",
            "PREGNANT                          PREGNANT     527265               0   \n",
            "PNEUMONIA                        PNEUMONIA      16003               0   \n",
            "OTHER_DISEASE                OTHER_DISEASE       5045               0   \n",
            "INMSUPR                            INMSUPR       3404               0   \n",
            "DIABETES                          DIABETES       3338               0   \n",
            "TOBACCO                            TOBACCO       3220               0   \n",
            "HIPERTENSION                  HIPERTENSION       3104               0   \n",
            "RENAL_CHRONIC                RENAL_CHRONIC       3006               0   \n",
            "OBESITY                            OBESITY       3032               0   \n",
            "CARDIOVASCULAR              CARDIOVASCULAR       3076               0   \n",
            "COPD                                  COPD       3003               0   \n",
            "ASTHMA                              ASTHMA       2979               0   \n",
            "AGE                                    AGE        345               0   \n",
            "MEDICAL_UNIT                  MEDICAL_UNIT          0               0   \n",
            "DATE_DIED                        DATE_DIED          0               0   \n",
            "PATIENT_TYPE                  PATIENT_TYPE          0               0   \n",
            "SEX                                    SEX          0               0   \n",
            "CLASIFFICATION_FINAL  CLASIFFICATION_FINAL          0               0   \n",
            "USMER                                USMER          0               0   \n",
            "\n",
            "                      Total_missing_count  Percentage_missing  \n",
            "ICU                                856032               81.64  \n",
            "INTUBED                            855869               81.62  \n",
            "PREGNANT                           527265               50.28  \n",
            "PNEUMONIA                           16003                1.53  \n",
            "OTHER_DISEASE                        5045                0.48  \n",
            "INMSUPR                              3404                0.32  \n",
            "DIABETES                             3338                0.32  \n",
            "TOBACCO                              3220                0.31  \n",
            "HIPERTENSION                         3104                0.30  \n",
            "RENAL_CHRONIC                        3006                0.29  \n",
            "OBESITY                              3032                0.29  \n",
            "CARDIOVASCULAR                       3076                0.29  \n",
            "COPD                                 3003                0.29  \n",
            "ASTHMA                               2979                0.28  \n",
            "AGE                                   345                0.03  \n",
            "MEDICAL_UNIT                            0                0.00  \n",
            "DATE_DIED                               0                0.00  \n",
            "PATIENT_TYPE                            0                0.00  \n",
            "SEX                                     0                0.00  \n",
            "CLASIFFICATION_FINAL                    0                0.00  \n",
            "USMER                                   0                0.00  \n"
          ]
        }
      ],
      "source": [
        "df_reduced = df.copy()\n",
        "df_reduced = df_reduced.replace([97, 98, 99], np.nan)\n",
        "missing_counts = df_reduced.isnull().sum()\n",
        "invalid_counts = df_reduced.isin([97, 98, 99]).sum()\n",
        "total_missing_counts = missing_counts + invalid_counts\n",
        "perc_missing_values = round(total_missing_counts / len(df) * 100, 2)\n",
        "missing_df = pd.DataFrame({'Feature': df_reduced.columns, 'NaN_count': missing_counts, '97_98_99_count': invalid_counts, 'Total_missing_count': total_missing_counts, 'Percentage_missing': perc_missing_values})\n",
        "missing_df = missing_df.sort_values(by='Percentage_missing', ascending=False)\n",
        "\n",
        "print(missing_df)"
      ]
    },
    {
      "cell_type": "markdown",
      "source": [
        "New copy of the original dataframe is created . We get the count of unique values present in each column "
      ],
      "metadata": {
        "id": "Mh7F5SPj5OrH"
      }
    },
    {
      "cell_type": "code",
      "execution_count": 10,
      "metadata": {
        "colab": {
          "base_uri": "https://localhost:8080/"
        },
        "id": "qEOnwaMHghaE",
        "outputId": "a2ce0785-8c9e-460a-e3d9-fd2795e1a395"
      },
      "outputs": [
        {
          "output_type": "stream",
          "name": "stdout",
          "text": [
            "2    662903\n",
            "1    385672\n",
            "Name: USMER, dtype: int64\n",
            "\n",
            "\n",
            "12    602995\n",
            "4     314405\n",
            "6      40584\n",
            "9      38116\n",
            "3      19175\n",
            "8      10399\n",
            "10      7873\n",
            "5       7244\n",
            "11      5577\n",
            "13       996\n",
            "7        891\n",
            "2        169\n",
            "1        151\n",
            "Name: MEDICAL_UNIT, dtype: int64\n",
            "\n",
            "\n",
            "1    525064\n",
            "2    523511\n",
            "Name: SEX, dtype: int64\n",
            "\n",
            "\n",
            "1    848544\n",
            "2    200031\n",
            "Name: PATIENT_TYPE, dtype: int64\n",
            "\n",
            "\n",
            "9999-99-99    971633\n",
            "06/07/2020      1000\n",
            "07/07/2020       996\n",
            "13/07/2020       990\n",
            "16/06/2020       979\n",
            "               ...  \n",
            "24/11/2020         1\n",
            "17/12/2020         1\n",
            "08/12/2020         1\n",
            "16/03/2021         1\n",
            "22/04/2021         1\n",
            "Name: DATE_DIED, Length: 401, dtype: int64\n",
            "\n",
            "\n",
            "97    848544\n",
            "2     159050\n",
            "1      33656\n",
            "99      7325\n",
            "Name: INTUBED, dtype: int64\n",
            "\n",
            "\n",
            "2     892534\n",
            "1     140038\n",
            "99     16003\n",
            "Name: PNEUMONIA, dtype: int64\n",
            "\n",
            "\n",
            "30     27010\n",
            "31     25927\n",
            "28     25313\n",
            "29     25134\n",
            "34     24872\n",
            "       ...  \n",
            "114        2\n",
            "116        2\n",
            "111        1\n",
            "121        1\n",
            "113        1\n",
            "Name: AGE, Length: 121, dtype: int64\n",
            "\n",
            "\n",
            "97    523511\n",
            "2     513179\n",
            "1       8131\n",
            "98      3754\n",
            "Name: PREGNANT, dtype: int64\n",
            "\n",
            "\n",
            "2     920248\n",
            "1     124989\n",
            "98      3338\n",
            "Name: DIABETES, dtype: int64\n",
            "\n",
            "\n",
            "2     1030510\n",
            "1       15062\n",
            "98       3003\n",
            "Name: COPD, dtype: int64\n",
            "\n",
            "\n",
            "2     1014024\n",
            "1       31572\n",
            "98       2979\n",
            "Name: ASTHMA, dtype: int64\n",
            "\n",
            "\n",
            "2     1031001\n",
            "1       14170\n",
            "98       3404\n",
            "Name: INMSUPR, dtype: int64\n",
            "\n",
            "\n",
            "2     882742\n",
            "1     162729\n",
            "98      3104\n",
            "Name: HIPERTENSION, dtype: int64\n",
            "\n",
            "\n",
            "2     1015490\n",
            "1       28040\n",
            "98       5045\n",
            "Name: OTHER_DISEASE, dtype: int64\n",
            "\n",
            "\n",
            "2     1024730\n",
            "1       20769\n",
            "98       3076\n",
            "Name: CARDIOVASCULAR, dtype: int64\n",
            "\n",
            "\n",
            "2     885727\n",
            "1     159816\n",
            "98      3032\n",
            "Name: OBESITY, dtype: int64\n",
            "\n",
            "\n",
            "2     1026665\n",
            "1       18904\n",
            "98       3006\n",
            "Name: RENAL_CHRONIC, dtype: int64\n",
            "\n",
            "\n",
            "2     960979\n",
            "1      84376\n",
            "98      3220\n",
            "Name: TOBACCO, dtype: int64\n",
            "\n",
            "\n",
            "7    499250\n",
            "3    381527\n",
            "6    128133\n",
            "5     26091\n",
            "1      8601\n",
            "4      3122\n",
            "2      1851\n",
            "Name: CLASIFFICATION_FINAL, dtype: int64\n",
            "\n",
            "\n",
            "97    848544\n",
            "2     175685\n",
            "1      16858\n",
            "99      7488\n",
            "Name: ICU, dtype: int64\n",
            "\n",
            "\n"
          ]
        }
      ],
      "source": [
        "df_copy = df.copy()\n",
        "df_copy.shape\n",
        "\n",
        "for i in df.columns:\n",
        " print(df[i].value_counts())\n",
        " print('\\n')"
      ]
    },
    {
      "cell_type": "markdown",
      "source": [
        "### PREGNANT column cleaning"
      ],
      "metadata": {
        "id": "wDNqiSXupQm3"
      }
    },
    {
      "cell_type": "markdown",
      "source": [
        "As Men cannot be PREGNANT, we convert all the 97(missing values) to 2(No) for all row values with SEX = 2(MALE) "
      ],
      "metadata": {
        "id": "-WCogSys5ePP"
      }
    },
    {
      "cell_type": "code",
      "source": [
        "# replace all the missing values from PREGNANT column if Gender is MALE\n",
        "print(\"in original dataset :\\n\",df_copy[(df_copy.SEX == 2)]['PREGNANT'].value_counts())\n",
        "\n",
        "df_copy.loc[(df_copy.SEX == 2) & (df_copy.PREGNANT == 97), \"PREGNANT\"] = df_copy[\"PREGNANT\"].replace(97, 2)\n",
        "\n",
        "print(\"\\n\\nafter above step :\\n\",df_copy[(df_copy.SEX == 2)]['PREGNANT'].value_counts())"
      ],
      "metadata": {
        "id": "6a_EiUKvtR3h",
        "outputId": "9517751f-fe0a-48c8-b51b-6162e70be73c",
        "colab": {
          "base_uri": "https://localhost:8080/"
        }
      },
      "execution_count": 11,
      "outputs": [
        {
          "output_type": "stream",
          "name": "stdout",
          "text": [
            "in original dataset :\n",
            " 97    523511\n",
            "Name: PREGNANT, dtype: int64\n",
            "\n",
            "\n",
            "after above step :\n",
            " 2    523511\n",
            "Name: PREGNANT, dtype: int64\n"
          ]
        }
      ]
    },
    {
      "cell_type": "markdown",
      "source": [
        "### CLASIFICATION_FINAL column cleaning"
      ],
      "metadata": {
        "id": "nVkyXu51paHd"
      }
    },
    {
      "cell_type": "markdown",
      "source": [
        "Consider the column CLASIFICATION_FINAL which describes if the patient is tested positive for Covid or was the test inconclusive.\n",
        "\n",
        "For values >=4 i.e. 4,5,6,7 , the test is either negative or inconclusive, hence, we will replace it with 0(\"NO\") \n",
        "\n",
        "For Values 1,2,3 the covid test is Positive, hence, we will replace it with 1(\"YES\")"
      ],
      "metadata": {
        "id": "NIMMXm2C6O26"
      }
    },
    {
      "cell_type": "code",
      "source": [
        "# Consider CLASSIFICATION column , replace all values >4 with 2(\"NO\") since covid test is inconclusive \n",
        "print(\"\\n\\nas per original dataset :\\n\",df_copy.loc[(df_copy.CLASIFFICATION_FINAL >= 4), \"CLASIFFICATION_FINAL\"])\n",
        "\n",
        "df_copy.loc[(df_copy.CLASIFFICATION_FINAL >= 4), \"CLASIFFICATION_FINAL\"] = df_copy[\"CLASIFFICATION_FINAL\"].replace([4,5,6,7], 0)\n",
        "\n",
        "print(\"Repacing 4,5,6,7 with 0 since covid test is inconclusive\\n\",df_copy['CLASIFFICATION_FINAL'].value_counts())\n",
        "\n",
        "# Consider all values in [1,2,3] as tested positive for Covid-19 Virus\n",
        "df_copy.loc[(df_copy.CLASIFFICATION_FINAL >= 1), \"CLASIFFICATION_FINAL\"] = df_copy[\"CLASIFFICATION_FINAL\"].replace([1,2,3], 1)\n",
        "\n",
        "print(\"Repacing 1,2,3 with 1 since covid test is Positive\\n\",df_copy['CLASIFFICATION_FINAL'].value_counts())"
      ],
      "metadata": {
        "id": "E6c8FPuvtRZ2",
        "outputId": "ad28134c-7d28-4347-af00-462ab8e0f995",
        "colab": {
          "base_uri": "https://localhost:8080/"
        }
      },
      "execution_count": 12,
      "outputs": [
        {
          "output_type": "stream",
          "name": "stdout",
          "text": [
            "\n",
            "\n",
            "as per original dataset :\n",
            " 1          5\n",
            "3          7\n",
            "42         5\n",
            "43         5\n",
            "44         5\n",
            "          ..\n",
            "1048570    7\n",
            "1048571    7\n",
            "1048572    7\n",
            "1048573    7\n",
            "1048574    7\n",
            "Name: CLASIFFICATION_FINAL, Length: 656596, dtype: int64\n",
            "Repacing 4,5,6,7 with 0 since covid test is inconclusive\n",
            " 0    656596\n",
            "3    381527\n",
            "1      8601\n",
            "2      1851\n",
            "Name: CLASIFFICATION_FINAL, dtype: int64\n",
            "Repacing 1,2,3 with 1 since covid test is Positive\n",
            " 0    656596\n",
            "1    391979\n",
            "Name: CLASIFFICATION_FINAL, dtype: int64\n"
          ]
        }
      ]
    },
    {
      "cell_type": "markdown",
      "source": [
        "### Basic Feature Selection"
      ],
      "metadata": {
        "id": "ctEBav72pm5e"
      }
    },
    {
      "cell_type": "markdown",
      "source": [
        "We filter out the columns which do not give us useful information \n",
        "\n",
        "MEDICAL_UNIT - no useful info can be got since it is not known what the enumerations {1, 2, ... 12, 13} mean.\n",
        "\n",
        "ICU  and INTUBATED - Too many missing values."
      ],
      "metadata": {
        "id": "OtOQk1dw7Kqp"
      }
    },
    {
      "cell_type": "code",
      "source": [
        "Filtered_Cols=['USMER', 'SEX', 'PATIENT_TYPE', 'DATE_DIED',\n",
        "       'PNEUMONIA', 'AGE', 'DIABETES', 'COPD', 'ASTHMA', 'INMSUPR',\n",
        "       'HIPERTENSION', 'OTHER_DISEASE', 'CARDIOVASCULAR', 'OBESITY',\n",
        "       'RENAL_CHRONIC', 'TOBACCO', 'CLASIFFICATION_FINAL','PREGNANT']\n",
        "\n",
        "df_reduced=df_copy[Filtered_Cols].copy()"
      ],
      "metadata": {
        "id": "_Caz41zltYP2"
      },
      "execution_count": 13,
      "outputs": []
    },
    {
      "cell_type": "code",
      "execution_count": 14,
      "metadata": {
        "id": "_f2YOMLZghaF",
        "outputId": "2e4fc3da-e601-4845-dad6-272d7e5c2155",
        "colab": {
          "base_uri": "https://localhost:8080/"
        }
      },
      "outputs": [
        {
          "output_type": "stream",
          "name": "stdout",
          "text": [
            "   USMER  SEX  PATIENT_TYPE   DATE_DIED  PNEUMONIA   AGE  DIABETES  COPD  \\\n",
            "0      2    1             1  03/05/2020        1.0  65.0       2.0   2.0   \n",
            "1      2    2             1  03/06/2020        1.0  72.0       2.0   2.0   \n",
            "2      2    2             2  09/06/2020        2.0  55.0       1.0   2.0   \n",
            "3      2    1             1  12/06/2020        2.0  53.0       2.0   2.0   \n",
            "4      2    2             1  21/06/2020        2.0  68.0       1.0   2.0   \n",
            "\n",
            "   ASTHMA  INMSUPR  HIPERTENSION  OTHER_DISEASE  CARDIOVASCULAR  OBESITY  \\\n",
            "0     2.0      2.0           1.0            2.0             2.0      2.0   \n",
            "1     2.0      2.0           1.0            2.0             2.0      1.0   \n",
            "2     2.0      2.0           2.0            2.0             2.0      2.0   \n",
            "3     2.0      2.0           2.0            2.0             2.0      2.0   \n",
            "4     2.0      2.0           1.0            2.0             2.0      2.0   \n",
            "\n",
            "   RENAL_CHRONIC  TOBACCO  CLASIFFICATION_FINAL  PREGNANT  \n",
            "0            2.0      2.0                     1       2.0  \n",
            "1            1.0      2.0                     0       2.0  \n",
            "2            2.0      2.0                     1       2.0  \n",
            "3            2.0      2.0                     0       2.0  \n",
            "4            2.0      2.0                     1       2.0   \n",
            "reduced size after data cleaning:  (1021655, 18) \n",
            "original size :  (1048575, 21)\n"
          ]
        }
      ],
      "source": [
        "# The shape of data frame after considering the filled values from different columns\n",
        "original_number_of_datapoints = df.shape\n",
        "df_reduced = df_reduced.replace([97, 98, 99], np.nan)\n",
        "df_reduced=df_reduced.dropna(axis=0)\n",
        "print(df_reduced.head(),\"\\nreduced size after data cleaning: \",df_reduced.shape,\n",
        "      \"\\noriginal size : \",original_number_of_datapoints)"
      ]
    },
    {
      "cell_type": "markdown",
      "source": [
        "### Target Cleaning"
      ],
      "metadata": {
        "id": "PXxzZvsqpwIL"
      }
    },
    {
      "cell_type": "code",
      "execution_count": 15,
      "metadata": {
        "id": "aWb7FBqpghaG"
      },
      "outputs": [],
      "source": [
        "# \"In data set 9999-99-99 indicates person is not died, so replacing these values with 0. Persons who really died has values 03-03-2020 format. So replacing data format values with 1. So 0 means died, 1 means not died in DATE_DIED column\n",
        "\n",
        "df_reduced[\"DATE_DIED\"] = [0 if each==\"9999-99-99\" else 1 for each in df_reduced.DATE_DIED]"
      ]
    },
    {
      "cell_type": "code",
      "source": [
        "for i in df_reduced.columns:\n",
        " print(df_reduced[i].value_counts())\n",
        " print('\\n')"
      ],
      "metadata": {
        "id": "TSjUkj65zpkO",
        "outputId": "0da924a8-386b-424a-a9ba-d61a2ba83d0c",
        "colab": {
          "base_uri": "https://localhost:8080/"
        }
      },
      "execution_count": 16,
      "outputs": [
        {
          "output_type": "stream",
          "name": "stdout",
          "text": [
            "2    655933\n",
            "1    365722\n",
            "Name: USMER, dtype: int64\n",
            "\n",
            "\n",
            "2    511795\n",
            "1    509860\n",
            "Name: SEX, dtype: int64\n",
            "\n",
            "\n",
            "1    830233\n",
            "2    191422\n",
            "Name: PATIENT_TYPE, dtype: int64\n",
            "\n",
            "\n",
            "0    947100\n",
            "1     74555\n",
            "Name: DATE_DIED, dtype: int64\n",
            "\n",
            "\n",
            "2.0    884402\n",
            "1.0    137253\n",
            "Name: PNEUMONIA, dtype: int64\n",
            "\n",
            "\n",
            "30.0     26456\n",
            "31.0     25419\n",
            "28.0     24735\n",
            "29.0     24595\n",
            "34.0     24406\n",
            "         ...  \n",
            "115.0        2\n",
            "119.0        2\n",
            "111.0        1\n",
            "121.0        1\n",
            "113.0        1\n",
            "Name: AGE, Length: 118, dtype: int64\n",
            "\n",
            "\n",
            "2.0    899531\n",
            "1.0    122124\n",
            "Name: DIABETES, dtype: int64\n",
            "\n",
            "\n",
            "2.0    1007356\n",
            "1.0      14299\n",
            "Name: COPD, dtype: int64\n",
            "\n",
            "\n",
            "2.0    991243\n",
            "1.0     30412\n",
            "Name: ASTHMA, dtype: int64\n",
            "\n",
            "\n",
            "2.0    1008105\n",
            "1.0      13550\n",
            "Name: INMSUPR, dtype: int64\n",
            "\n",
            "\n",
            "2.0    862521\n",
            "1.0    159134\n",
            "Name: HIPERTENSION, dtype: int64\n",
            "\n",
            "\n",
            "2.0    994597\n",
            "1.0     27058\n",
            "Name: OTHER_DISEASE, dtype: int64\n",
            "\n",
            "\n",
            "2.0    1001613\n",
            "1.0      20042\n",
            "Name: CARDIOVASCULAR, dtype: int64\n",
            "\n",
            "\n",
            "2.0    865081\n",
            "1.0    156574\n",
            "Name: OBESITY, dtype: int64\n",
            "\n",
            "\n",
            "2.0    1003350\n",
            "1.0      18305\n",
            "Name: RENAL_CHRONIC, dtype: int64\n",
            "\n",
            "\n",
            "2.0    939141\n",
            "1.0     82514\n",
            "Name: TOBACCO, dtype: int64\n",
            "\n",
            "\n",
            "0    634185\n",
            "1    387470\n",
            "Name: CLASIFFICATION_FINAL, dtype: int64\n",
            "\n",
            "\n",
            "2.0    1013814\n",
            "1.0       7841\n",
            "Name: PREGNANT, dtype: int64\n",
            "\n",
            "\n"
          ]
        }
      ]
    },
    {
      "cell_type": "code",
      "execution_count": 17,
      "metadata": {
        "id": "SKAfGK6YghaG",
        "outputId": "52651059-df85-4606-d4bd-68742c6e1050",
        "colab": {
          "base_uri": "https://localhost:8080/"
        }
      },
      "outputs": [
        {
          "output_type": "stream",
          "name": "stdout",
          "text": [
            "Number of people who died: 74555\n",
            "Number of people who did not die: 947100\n",
            "Percentage of people who died: 7.2974732174755665 %\n",
            "Percentage of people who did not die: 92.70252678252443 %\n"
          ]
        }
      ],
      "source": [
        "num_died = (df_reduced['DATE_DIED'] == 1).sum()\n",
        "num_not_died = (df_reduced['DATE_DIED'] == 0).sum()\n",
        "perc_died = num_died / len(df_reduced) * 100\n",
        "perc_not_died = num_not_died / len(df_reduced) * 100\n",
        "\n",
        "# Print the results\n",
        "print(\"Number of people who died:\", num_died)\n",
        "print(\"Number of people who did not die:\", num_not_died)\n",
        "print(\"Percentage of people who died:\", perc_died, \"%\")\n",
        "print(\"Percentage of people who did not die:\", perc_not_died, \"%\")"
      ]
    },
    {
      "cell_type": "markdown",
      "source": [
        "### PATIENT_TYPE Column cleaning"
      ],
      "metadata": {
        "id": "W5Iexaukp5nU"
      }
    },
    {
      "cell_type": "markdown",
      "source": [
        "Consider the column 'PATIENT_TYPE' . \n",
        "\n",
        "It describes whether the patient returned home (1) or hosptialized (2) \n",
        "we will change the feature name to Hospitalized and have Yes as 1 No as 0"
      ],
      "metadata": {
        "id": "nMFlI6yFHS_P"
      }
    },
    {
      "cell_type": "code",
      "source": [
        "print(\"\\n\\nas per reduced dataset number of samples with patient type 1 and 2 :\" , df_reduced[\"PATIENT_TYPE\"].value_counts())\n",
        "\n",
        "df_reduced.loc[(df_reduced.PATIENT_TYPE == 1), \"PATIENT_TYPE\"] = df_reduced[\"PATIENT_TYPE\"].replace(1, 0)\n",
        "df_reduced.loc[(df_reduced.PATIENT_TYPE == 2), \"PATIENT_TYPE\"] = df_reduced[\"PATIENT_TYPE\"].replace(2, 1)\n",
        "\n",
        "print(\"\\n\\nafter above steps, number of samples with patient type 1 and 2 :\" , df_reduced[\"PATIENT_TYPE\"].value_counts())"
      ],
      "metadata": {
        "id": "oWEi7pbNHTYy",
        "outputId": "4d6f0e97-770c-4249-e973-4629ee6bc8ab",
        "colab": {
          "base_uri": "https://localhost:8080/"
        }
      },
      "execution_count": 18,
      "outputs": [
        {
          "output_type": "stream",
          "name": "stdout",
          "text": [
            "\n",
            "\n",
            "as per reduced dataset number of samples with patient type 1 and 2 : 1    830233\n",
            "2    191422\n",
            "Name: PATIENT_TYPE, dtype: int64\n",
            "\n",
            "\n",
            "after above steps, number of samples with patient type 1 and 2 : 0    830233\n",
            "1    191422\n",
            "Name: PATIENT_TYPE, dtype: int64\n"
          ]
        }
      ]
    },
    {
      "cell_type": "markdown",
      "source": [
        "### Convert to Binary Feature Vectors"
      ],
      "metadata": {
        "id": "sGVbSwJvqAzq"
      }
    },
    {
      "cell_type": "markdown",
      "source": [
        "Convert all 2(No) and 1(Yes) Values to binary  0(No) and 1(Yes)"
      ],
      "metadata": {
        "id": "V1R_SFTvE-sG"
      }
    },
    {
      "cell_type": "code",
      "source": [
        "df_final = df_reduced.copy()\n",
        "for col in df_final.columns:\n",
        "  df_final = df_final.replace(2,0)\n",
        "\n",
        "df_final = df_final.astype(int)\n",
        "df_final"
      ],
      "metadata": {
        "id": "FkR4NBj5E-Zg",
        "outputId": "07d9704a-4344-448d-fd92-2d7e9d5924f2",
        "colab": {
          "base_uri": "https://localhost:8080/",
          "height": 488
        }
      },
      "execution_count": 19,
      "outputs": [
        {
          "output_type": "execute_result",
          "data": {
            "text/plain": [
              "         USMER  SEX  PATIENT_TYPE  DATE_DIED  PNEUMONIA  AGE  DIABETES  COPD  \\\n",
              "0            0    1             0          1          1   65         0     0   \n",
              "1            0    0             0          1          1   72         0     0   \n",
              "2            0    0             1          1          0   55         1     0   \n",
              "3            0    1             0          1          0   53         0     0   \n",
              "4            0    0             0          1          0   68         1     0   \n",
              "...        ...  ...           ...        ...        ...  ...       ...   ...   \n",
              "1048570      0    0             0          0          0   40         0     0   \n",
              "1048571      1    0             1          0          0   51         0     0   \n",
              "1048572      0    0             0          0          0   55         0     0   \n",
              "1048573      0    0             0          0          0   28         0     0   \n",
              "1048574      0    0             0          0          0   52         0     0   \n",
              "\n",
              "         ASTHMA  INMSUPR  HIPERTENSION  OTHER_DISEASE  CARDIOVASCULAR  \\\n",
              "0             0        0             1              0               0   \n",
              "1             0        0             1              0               0   \n",
              "2             0        0             0              0               0   \n",
              "3             0        0             0              0               0   \n",
              "4             0        0             1              0               0   \n",
              "...         ...      ...           ...            ...             ...   \n",
              "1048570       0        0             0              0               0   \n",
              "1048571       0        0             1              0               0   \n",
              "1048572       0        0             0              0               0   \n",
              "1048573       0        0             0              0               0   \n",
              "1048574       0        0             0              0               0   \n",
              "\n",
              "         OBESITY  RENAL_CHRONIC  TOBACCO  CLASIFFICATION_FINAL  PREGNANT  \n",
              "0              0              0        0                     1         0  \n",
              "1              1              1        0                     0         0  \n",
              "2              0              0        0                     1         0  \n",
              "3              0              0        0                     0         0  \n",
              "4              0              0        0                     1         0  \n",
              "...          ...            ...      ...                   ...       ...  \n",
              "1048570        0              0        0                     0         0  \n",
              "1048571        0              0        0                     0         0  \n",
              "1048572        0              0        0                     0         0  \n",
              "1048573        0              0        0                     0         0  \n",
              "1048574        0              0        0                     0         0  \n",
              "\n",
              "[1021655 rows x 18 columns]"
            ],
            "text/html": [
              "\n",
              "  <div id=\"df-f1e0c5c3-5d0a-473c-9a15-23fc1618ef03\">\n",
              "    <div class=\"colab-df-container\">\n",
              "      <div>\n",
              "<style scoped>\n",
              "    .dataframe tbody tr th:only-of-type {\n",
              "        vertical-align: middle;\n",
              "    }\n",
              "\n",
              "    .dataframe tbody tr th {\n",
              "        vertical-align: top;\n",
              "    }\n",
              "\n",
              "    .dataframe thead th {\n",
              "        text-align: right;\n",
              "    }\n",
              "</style>\n",
              "<table border=\"1\" class=\"dataframe\">\n",
              "  <thead>\n",
              "    <tr style=\"text-align: right;\">\n",
              "      <th></th>\n",
              "      <th>USMER</th>\n",
              "      <th>SEX</th>\n",
              "      <th>PATIENT_TYPE</th>\n",
              "      <th>DATE_DIED</th>\n",
              "      <th>PNEUMONIA</th>\n",
              "      <th>AGE</th>\n",
              "      <th>DIABETES</th>\n",
              "      <th>COPD</th>\n",
              "      <th>ASTHMA</th>\n",
              "      <th>INMSUPR</th>\n",
              "      <th>HIPERTENSION</th>\n",
              "      <th>OTHER_DISEASE</th>\n",
              "      <th>CARDIOVASCULAR</th>\n",
              "      <th>OBESITY</th>\n",
              "      <th>RENAL_CHRONIC</th>\n",
              "      <th>TOBACCO</th>\n",
              "      <th>CLASIFFICATION_FINAL</th>\n",
              "      <th>PREGNANT</th>\n",
              "    </tr>\n",
              "  </thead>\n",
              "  <tbody>\n",
              "    <tr>\n",
              "      <th>0</th>\n",
              "      <td>0</td>\n",
              "      <td>1</td>\n",
              "      <td>0</td>\n",
              "      <td>1</td>\n",
              "      <td>1</td>\n",
              "      <td>65</td>\n",
              "      <td>0</td>\n",
              "      <td>0</td>\n",
              "      <td>0</td>\n",
              "      <td>0</td>\n",
              "      <td>1</td>\n",
              "      <td>0</td>\n",
              "      <td>0</td>\n",
              "      <td>0</td>\n",
              "      <td>0</td>\n",
              "      <td>0</td>\n",
              "      <td>1</td>\n",
              "      <td>0</td>\n",
              "    </tr>\n",
              "    <tr>\n",
              "      <th>1</th>\n",
              "      <td>0</td>\n",
              "      <td>0</td>\n",
              "      <td>0</td>\n",
              "      <td>1</td>\n",
              "      <td>1</td>\n",
              "      <td>72</td>\n",
              "      <td>0</td>\n",
              "      <td>0</td>\n",
              "      <td>0</td>\n",
              "      <td>0</td>\n",
              "      <td>1</td>\n",
              "      <td>0</td>\n",
              "      <td>0</td>\n",
              "      <td>1</td>\n",
              "      <td>1</td>\n",
              "      <td>0</td>\n",
              "      <td>0</td>\n",
              "      <td>0</td>\n",
              "    </tr>\n",
              "    <tr>\n",
              "      <th>2</th>\n",
              "      <td>0</td>\n",
              "      <td>0</td>\n",
              "      <td>1</td>\n",
              "      <td>1</td>\n",
              "      <td>0</td>\n",
              "      <td>55</td>\n",
              "      <td>1</td>\n",
              "      <td>0</td>\n",
              "      <td>0</td>\n",
              "      <td>0</td>\n",
              "      <td>0</td>\n",
              "      <td>0</td>\n",
              "      <td>0</td>\n",
              "      <td>0</td>\n",
              "      <td>0</td>\n",
              "      <td>0</td>\n",
              "      <td>1</td>\n",
              "      <td>0</td>\n",
              "    </tr>\n",
              "    <tr>\n",
              "      <th>3</th>\n",
              "      <td>0</td>\n",
              "      <td>1</td>\n",
              "      <td>0</td>\n",
              "      <td>1</td>\n",
              "      <td>0</td>\n",
              "      <td>53</td>\n",
              "      <td>0</td>\n",
              "      <td>0</td>\n",
              "      <td>0</td>\n",
              "      <td>0</td>\n",
              "      <td>0</td>\n",
              "      <td>0</td>\n",
              "      <td>0</td>\n",
              "      <td>0</td>\n",
              "      <td>0</td>\n",
              "      <td>0</td>\n",
              "      <td>0</td>\n",
              "      <td>0</td>\n",
              "    </tr>\n",
              "    <tr>\n",
              "      <th>4</th>\n",
              "      <td>0</td>\n",
              "      <td>0</td>\n",
              "      <td>0</td>\n",
              "      <td>1</td>\n",
              "      <td>0</td>\n",
              "      <td>68</td>\n",
              "      <td>1</td>\n",
              "      <td>0</td>\n",
              "      <td>0</td>\n",
              "      <td>0</td>\n",
              "      <td>1</td>\n",
              "      <td>0</td>\n",
              "      <td>0</td>\n",
              "      <td>0</td>\n",
              "      <td>0</td>\n",
              "      <td>0</td>\n",
              "      <td>1</td>\n",
              "      <td>0</td>\n",
              "    </tr>\n",
              "    <tr>\n",
              "      <th>...</th>\n",
              "      <td>...</td>\n",
              "      <td>...</td>\n",
              "      <td>...</td>\n",
              "      <td>...</td>\n",
              "      <td>...</td>\n",
              "      <td>...</td>\n",
              "      <td>...</td>\n",
              "      <td>...</td>\n",
              "      <td>...</td>\n",
              "      <td>...</td>\n",
              "      <td>...</td>\n",
              "      <td>...</td>\n",
              "      <td>...</td>\n",
              "      <td>...</td>\n",
              "      <td>...</td>\n",
              "      <td>...</td>\n",
              "      <td>...</td>\n",
              "      <td>...</td>\n",
              "    </tr>\n",
              "    <tr>\n",
              "      <th>1048570</th>\n",
              "      <td>0</td>\n",
              "      <td>0</td>\n",
              "      <td>0</td>\n",
              "      <td>0</td>\n",
              "      <td>0</td>\n",
              "      <td>40</td>\n",
              "      <td>0</td>\n",
              "      <td>0</td>\n",
              "      <td>0</td>\n",
              "      <td>0</td>\n",
              "      <td>0</td>\n",
              "      <td>0</td>\n",
              "      <td>0</td>\n",
              "      <td>0</td>\n",
              "      <td>0</td>\n",
              "      <td>0</td>\n",
              "      <td>0</td>\n",
              "      <td>0</td>\n",
              "    </tr>\n",
              "    <tr>\n",
              "      <th>1048571</th>\n",
              "      <td>1</td>\n",
              "      <td>0</td>\n",
              "      <td>1</td>\n",
              "      <td>0</td>\n",
              "      <td>0</td>\n",
              "      <td>51</td>\n",
              "      <td>0</td>\n",
              "      <td>0</td>\n",
              "      <td>0</td>\n",
              "      <td>0</td>\n",
              "      <td>1</td>\n",
              "      <td>0</td>\n",
              "      <td>0</td>\n",
              "      <td>0</td>\n",
              "      <td>0</td>\n",
              "      <td>0</td>\n",
              "      <td>0</td>\n",
              "      <td>0</td>\n",
              "    </tr>\n",
              "    <tr>\n",
              "      <th>1048572</th>\n",
              "      <td>0</td>\n",
              "      <td>0</td>\n",
              "      <td>0</td>\n",
              "      <td>0</td>\n",
              "      <td>0</td>\n",
              "      <td>55</td>\n",
              "      <td>0</td>\n",
              "      <td>0</td>\n",
              "      <td>0</td>\n",
              "      <td>0</td>\n",
              "      <td>0</td>\n",
              "      <td>0</td>\n",
              "      <td>0</td>\n",
              "      <td>0</td>\n",
              "      <td>0</td>\n",
              "      <td>0</td>\n",
              "      <td>0</td>\n",
              "      <td>0</td>\n",
              "    </tr>\n",
              "    <tr>\n",
              "      <th>1048573</th>\n",
              "      <td>0</td>\n",
              "      <td>0</td>\n",
              "      <td>0</td>\n",
              "      <td>0</td>\n",
              "      <td>0</td>\n",
              "      <td>28</td>\n",
              "      <td>0</td>\n",
              "      <td>0</td>\n",
              "      <td>0</td>\n",
              "      <td>0</td>\n",
              "      <td>0</td>\n",
              "      <td>0</td>\n",
              "      <td>0</td>\n",
              "      <td>0</td>\n",
              "      <td>0</td>\n",
              "      <td>0</td>\n",
              "      <td>0</td>\n",
              "      <td>0</td>\n",
              "    </tr>\n",
              "    <tr>\n",
              "      <th>1048574</th>\n",
              "      <td>0</td>\n",
              "      <td>0</td>\n",
              "      <td>0</td>\n",
              "      <td>0</td>\n",
              "      <td>0</td>\n",
              "      <td>52</td>\n",
              "      <td>0</td>\n",
              "      <td>0</td>\n",
              "      <td>0</td>\n",
              "      <td>0</td>\n",
              "      <td>0</td>\n",
              "      <td>0</td>\n",
              "      <td>0</td>\n",
              "      <td>0</td>\n",
              "      <td>0</td>\n",
              "      <td>0</td>\n",
              "      <td>0</td>\n",
              "      <td>0</td>\n",
              "    </tr>\n",
              "  </tbody>\n",
              "</table>\n",
              "<p>1021655 rows × 18 columns</p>\n",
              "</div>\n",
              "      <button class=\"colab-df-convert\" onclick=\"convertToInteractive('df-f1e0c5c3-5d0a-473c-9a15-23fc1618ef03')\"\n",
              "              title=\"Convert this dataframe to an interactive table.\"\n",
              "              style=\"display:none;\">\n",
              "        \n",
              "  <svg xmlns=\"http://www.w3.org/2000/svg\" height=\"24px\"viewBox=\"0 0 24 24\"\n",
              "       width=\"24px\">\n",
              "    <path d=\"M0 0h24v24H0V0z\" fill=\"none\"/>\n",
              "    <path d=\"M18.56 5.44l.94 2.06.94-2.06 2.06-.94-2.06-.94-.94-2.06-.94 2.06-2.06.94zm-11 1L8.5 8.5l.94-2.06 2.06-.94-2.06-.94L8.5 2.5l-.94 2.06-2.06.94zm10 10l.94 2.06.94-2.06 2.06-.94-2.06-.94-.94-2.06-.94 2.06-2.06.94z\"/><path d=\"M17.41 7.96l-1.37-1.37c-.4-.4-.92-.59-1.43-.59-.52 0-1.04.2-1.43.59L10.3 9.45l-7.72 7.72c-.78.78-.78 2.05 0 2.83L4 21.41c.39.39.9.59 1.41.59.51 0 1.02-.2 1.41-.59l7.78-7.78 2.81-2.81c.8-.78.8-2.07 0-2.86zM5.41 20L4 18.59l7.72-7.72 1.47 1.35L5.41 20z\"/>\n",
              "  </svg>\n",
              "      </button>\n",
              "      \n",
              "  <style>\n",
              "    .colab-df-container {\n",
              "      display:flex;\n",
              "      flex-wrap:wrap;\n",
              "      gap: 12px;\n",
              "    }\n",
              "\n",
              "    .colab-df-convert {\n",
              "      background-color: #E8F0FE;\n",
              "      border: none;\n",
              "      border-radius: 50%;\n",
              "      cursor: pointer;\n",
              "      display: none;\n",
              "      fill: #1967D2;\n",
              "      height: 32px;\n",
              "      padding: 0 0 0 0;\n",
              "      width: 32px;\n",
              "    }\n",
              "\n",
              "    .colab-df-convert:hover {\n",
              "      background-color: #E2EBFA;\n",
              "      box-shadow: 0px 1px 2px rgba(60, 64, 67, 0.3), 0px 1px 3px 1px rgba(60, 64, 67, 0.15);\n",
              "      fill: #174EA6;\n",
              "    }\n",
              "\n",
              "    [theme=dark] .colab-df-convert {\n",
              "      background-color: #3B4455;\n",
              "      fill: #D2E3FC;\n",
              "    }\n",
              "\n",
              "    [theme=dark] .colab-df-convert:hover {\n",
              "      background-color: #434B5C;\n",
              "      box-shadow: 0px 1px 3px 1px rgba(0, 0, 0, 0.15);\n",
              "      filter: drop-shadow(0px 1px 2px rgba(0, 0, 0, 0.3));\n",
              "      fill: #FFFFFF;\n",
              "    }\n",
              "  </style>\n",
              "\n",
              "      <script>\n",
              "        const buttonEl =\n",
              "          document.querySelector('#df-f1e0c5c3-5d0a-473c-9a15-23fc1618ef03 button.colab-df-convert');\n",
              "        buttonEl.style.display =\n",
              "          google.colab.kernel.accessAllowed ? 'block' : 'none';\n",
              "\n",
              "        async function convertToInteractive(key) {\n",
              "          const element = document.querySelector('#df-f1e0c5c3-5d0a-473c-9a15-23fc1618ef03');\n",
              "          const dataTable =\n",
              "            await google.colab.kernel.invokeFunction('convertToInteractive',\n",
              "                                                     [key], {});\n",
              "          if (!dataTable) return;\n",
              "\n",
              "          const docLinkHtml = 'Like what you see? Visit the ' +\n",
              "            '<a target=\"_blank\" href=https://colab.research.google.com/notebooks/data_table.ipynb>data table notebook</a>'\n",
              "            + ' to learn more about interactive tables.';\n",
              "          element.innerHTML = '';\n",
              "          dataTable['output_type'] = 'display_data';\n",
              "          await google.colab.output.renderOutput(dataTable, element);\n",
              "          const docLink = document.createElement('div');\n",
              "          docLink.innerHTML = docLinkHtml;\n",
              "          element.appendChild(docLink);\n",
              "        }\n",
              "      </script>\n",
              "    </div>\n",
              "  </div>\n",
              "  "
            ]
          },
          "metadata": {},
          "execution_count": 19
        }
      ]
    },
    {
      "cell_type": "code",
      "source": [
        "for i in df_final.columns:\n",
        " print(df_final[i].value_counts())\n",
        " print('\\n')"
      ],
      "metadata": {
        "id": "0_ccNxP_h62p",
        "outputId": "8df603e9-d6a9-4e58-9a22-da7ae583f38a",
        "colab": {
          "base_uri": "https://localhost:8080/"
        }
      },
      "execution_count": 20,
      "outputs": [
        {
          "output_type": "stream",
          "name": "stdout",
          "text": [
            "0    655933\n",
            "1    365722\n",
            "Name: USMER, dtype: int64\n",
            "\n",
            "\n",
            "0    511795\n",
            "1    509860\n",
            "Name: SEX, dtype: int64\n",
            "\n",
            "\n",
            "0    830233\n",
            "1    191422\n",
            "Name: PATIENT_TYPE, dtype: int64\n",
            "\n",
            "\n",
            "0    947100\n",
            "1     74555\n",
            "Name: DATE_DIED, dtype: int64\n",
            "\n",
            "\n",
            "0    884402\n",
            "1    137253\n",
            "Name: PNEUMONIA, dtype: int64\n",
            "\n",
            "\n",
            "30     26456\n",
            "31     25419\n",
            "28     24735\n",
            "29     24595\n",
            "34     24406\n",
            "       ...  \n",
            "115        2\n",
            "119        2\n",
            "111        1\n",
            "121        1\n",
            "113        1\n",
            "Name: AGE, Length: 117, dtype: int64\n",
            "\n",
            "\n",
            "0    899531\n",
            "1    122124\n",
            "Name: DIABETES, dtype: int64\n",
            "\n",
            "\n",
            "0    1007356\n",
            "1      14299\n",
            "Name: COPD, dtype: int64\n",
            "\n",
            "\n",
            "0    991243\n",
            "1     30412\n",
            "Name: ASTHMA, dtype: int64\n",
            "\n",
            "\n",
            "0    1008105\n",
            "1      13550\n",
            "Name: INMSUPR, dtype: int64\n",
            "\n",
            "\n",
            "0    862521\n",
            "1    159134\n",
            "Name: HIPERTENSION, dtype: int64\n",
            "\n",
            "\n",
            "0    994597\n",
            "1     27058\n",
            "Name: OTHER_DISEASE, dtype: int64\n",
            "\n",
            "\n",
            "0    1001613\n",
            "1      20042\n",
            "Name: CARDIOVASCULAR, dtype: int64\n",
            "\n",
            "\n",
            "0    865081\n",
            "1    156574\n",
            "Name: OBESITY, dtype: int64\n",
            "\n",
            "\n",
            "0    1003350\n",
            "1      18305\n",
            "Name: RENAL_CHRONIC, dtype: int64\n",
            "\n",
            "\n",
            "0    939141\n",
            "1     82514\n",
            "Name: TOBACCO, dtype: int64\n",
            "\n",
            "\n",
            "0    634185\n",
            "1    387470\n",
            "Name: CLASIFFICATION_FINAL, dtype: int64\n",
            "\n",
            "\n",
            "0    1013814\n",
            "1       7841\n",
            "Name: PREGNANT, dtype: int64\n",
            "\n",
            "\n"
          ]
        }
      ]
    },
    {
      "cell_type": "markdown",
      "source": [
        "### Applying one hot encoding to AGE and SEX Columns\n",
        "\n"
      ],
      "metadata": {
        "id": "vvC4AUzBKK2B"
      }
    },
    {
      "cell_type": "code",
      "source": [
        "age_bins = [0, 20, 40, 60, 80, 100, 120]\n",
        "age_labels = ['0-20', '20-40', '40-60', '60-80','80-100','100-120']\n",
        "df_final['AGE_GROUP'] = pd.cut(df_final['AGE'], bins=age_bins, labels=age_labels)\n",
        "\n",
        "# Apply one hot encoding using pd.get_dummies()\n",
        "one_hot_encoded = pd.get_dummies(df_final['AGE_GROUP'], prefix='AGE')\n",
        "\n",
        "# Concatenate the original dataframe with the one hot encoded dataframe\n",
        "df_final = pd.concat([df_final, one_hot_encoded], axis=1)\n",
        "\n",
        "# Drop the original \"AGE\" and \"AGE_GROUP\" columns\n",
        "df_final.drop(['AGE', 'AGE_GROUP'], axis=1, inplace=True)\n",
        "\n",
        "gender_one_hot = pd.get_dummies(df_final['SEX'], prefix='GENDER', prefix_sep='')\n",
        "df_final = pd.concat([df_final, gender_one_hot], axis=1)\n",
        "df_final.drop(['SEX'], axis=1, inplace=True)\n",
        "\n",
        "df_final = df_final.rename(columns={'PATIENT_TYPE':'HOSPITALIZED', 'DATE_DIED':'DEATH','CLASIFFICATION_FINAL':'COVID-TEST','GENDER0':'MALE','GENDER1':'FEMALE'})\n"
      ],
      "metadata": {
        "id": "Y3hxn3tdKKWT"
      },
      "execution_count": 21,
      "outputs": []
    },
    {
      "cell_type": "code",
      "source": [
        "df_final.head()"
      ],
      "metadata": {
        "id": "V0Czs3duiDZk",
        "outputId": "bc1c4b9f-d590-4460-eea6-8fb6a3f41e01",
        "colab": {
          "base_uri": "https://localhost:8080/",
          "height": 317
        }
      },
      "execution_count": 22,
      "outputs": [
        {
          "output_type": "execute_result",
          "data": {
            "text/plain": [
              "   USMER  HOSPITALIZED  DEATH  PNEUMONIA  DIABETES  COPD  ASTHMA  INMSUPR  \\\n",
              "0      0             0      1          1         0     0       0        0   \n",
              "1      0             0      1          1         0     0       0        0   \n",
              "2      0             1      1          0         1     0       0        0   \n",
              "3      0             0      1          0         0     0       0        0   \n",
              "4      0             0      1          0         1     0       0        0   \n",
              "\n",
              "   HIPERTENSION  OTHER_DISEASE  ...  COVID-TEST  PREGNANT  AGE_0-20  \\\n",
              "0             1              0  ...           1         0         0   \n",
              "1             1              0  ...           0         0         0   \n",
              "2             0              0  ...           1         0         0   \n",
              "3             0              0  ...           0         0         0   \n",
              "4             1              0  ...           1         0         0   \n",
              "\n",
              "   AGE_20-40  AGE_40-60  AGE_60-80  AGE_80-100  AGE_100-120  MALE  FEMALE  \n",
              "0          0          0          1           0            0     0       1  \n",
              "1          0          0          1           0            0     1       0  \n",
              "2          0          1          0           0            0     1       0  \n",
              "3          0          1          0           0            0     0       1  \n",
              "4          0          0          1           0            0     1       0  \n",
              "\n",
              "[5 rows x 24 columns]"
            ],
            "text/html": [
              "\n",
              "  <div id=\"df-4a239487-f5f4-4cc5-ac74-85939efe625d\">\n",
              "    <div class=\"colab-df-container\">\n",
              "      <div>\n",
              "<style scoped>\n",
              "    .dataframe tbody tr th:only-of-type {\n",
              "        vertical-align: middle;\n",
              "    }\n",
              "\n",
              "    .dataframe tbody tr th {\n",
              "        vertical-align: top;\n",
              "    }\n",
              "\n",
              "    .dataframe thead th {\n",
              "        text-align: right;\n",
              "    }\n",
              "</style>\n",
              "<table border=\"1\" class=\"dataframe\">\n",
              "  <thead>\n",
              "    <tr style=\"text-align: right;\">\n",
              "      <th></th>\n",
              "      <th>USMER</th>\n",
              "      <th>HOSPITALIZED</th>\n",
              "      <th>DEATH</th>\n",
              "      <th>PNEUMONIA</th>\n",
              "      <th>DIABETES</th>\n",
              "      <th>COPD</th>\n",
              "      <th>ASTHMA</th>\n",
              "      <th>INMSUPR</th>\n",
              "      <th>HIPERTENSION</th>\n",
              "      <th>OTHER_DISEASE</th>\n",
              "      <th>...</th>\n",
              "      <th>COVID-TEST</th>\n",
              "      <th>PREGNANT</th>\n",
              "      <th>AGE_0-20</th>\n",
              "      <th>AGE_20-40</th>\n",
              "      <th>AGE_40-60</th>\n",
              "      <th>AGE_60-80</th>\n",
              "      <th>AGE_80-100</th>\n",
              "      <th>AGE_100-120</th>\n",
              "      <th>MALE</th>\n",
              "      <th>FEMALE</th>\n",
              "    </tr>\n",
              "  </thead>\n",
              "  <tbody>\n",
              "    <tr>\n",
              "      <th>0</th>\n",
              "      <td>0</td>\n",
              "      <td>0</td>\n",
              "      <td>1</td>\n",
              "      <td>1</td>\n",
              "      <td>0</td>\n",
              "      <td>0</td>\n",
              "      <td>0</td>\n",
              "      <td>0</td>\n",
              "      <td>1</td>\n",
              "      <td>0</td>\n",
              "      <td>...</td>\n",
              "      <td>1</td>\n",
              "      <td>0</td>\n",
              "      <td>0</td>\n",
              "      <td>0</td>\n",
              "      <td>0</td>\n",
              "      <td>1</td>\n",
              "      <td>0</td>\n",
              "      <td>0</td>\n",
              "      <td>0</td>\n",
              "      <td>1</td>\n",
              "    </tr>\n",
              "    <tr>\n",
              "      <th>1</th>\n",
              "      <td>0</td>\n",
              "      <td>0</td>\n",
              "      <td>1</td>\n",
              "      <td>1</td>\n",
              "      <td>0</td>\n",
              "      <td>0</td>\n",
              "      <td>0</td>\n",
              "      <td>0</td>\n",
              "      <td>1</td>\n",
              "      <td>0</td>\n",
              "      <td>...</td>\n",
              "      <td>0</td>\n",
              "      <td>0</td>\n",
              "      <td>0</td>\n",
              "      <td>0</td>\n",
              "      <td>0</td>\n",
              "      <td>1</td>\n",
              "      <td>0</td>\n",
              "      <td>0</td>\n",
              "      <td>1</td>\n",
              "      <td>0</td>\n",
              "    </tr>\n",
              "    <tr>\n",
              "      <th>2</th>\n",
              "      <td>0</td>\n",
              "      <td>1</td>\n",
              "      <td>1</td>\n",
              "      <td>0</td>\n",
              "      <td>1</td>\n",
              "      <td>0</td>\n",
              "      <td>0</td>\n",
              "      <td>0</td>\n",
              "      <td>0</td>\n",
              "      <td>0</td>\n",
              "      <td>...</td>\n",
              "      <td>1</td>\n",
              "      <td>0</td>\n",
              "      <td>0</td>\n",
              "      <td>0</td>\n",
              "      <td>1</td>\n",
              "      <td>0</td>\n",
              "      <td>0</td>\n",
              "      <td>0</td>\n",
              "      <td>1</td>\n",
              "      <td>0</td>\n",
              "    </tr>\n",
              "    <tr>\n",
              "      <th>3</th>\n",
              "      <td>0</td>\n",
              "      <td>0</td>\n",
              "      <td>1</td>\n",
              "      <td>0</td>\n",
              "      <td>0</td>\n",
              "      <td>0</td>\n",
              "      <td>0</td>\n",
              "      <td>0</td>\n",
              "      <td>0</td>\n",
              "      <td>0</td>\n",
              "      <td>...</td>\n",
              "      <td>0</td>\n",
              "      <td>0</td>\n",
              "      <td>0</td>\n",
              "      <td>0</td>\n",
              "      <td>1</td>\n",
              "      <td>0</td>\n",
              "      <td>0</td>\n",
              "      <td>0</td>\n",
              "      <td>0</td>\n",
              "      <td>1</td>\n",
              "    </tr>\n",
              "    <tr>\n",
              "      <th>4</th>\n",
              "      <td>0</td>\n",
              "      <td>0</td>\n",
              "      <td>1</td>\n",
              "      <td>0</td>\n",
              "      <td>1</td>\n",
              "      <td>0</td>\n",
              "      <td>0</td>\n",
              "      <td>0</td>\n",
              "      <td>1</td>\n",
              "      <td>0</td>\n",
              "      <td>...</td>\n",
              "      <td>1</td>\n",
              "      <td>0</td>\n",
              "      <td>0</td>\n",
              "      <td>0</td>\n",
              "      <td>0</td>\n",
              "      <td>1</td>\n",
              "      <td>0</td>\n",
              "      <td>0</td>\n",
              "      <td>1</td>\n",
              "      <td>0</td>\n",
              "    </tr>\n",
              "  </tbody>\n",
              "</table>\n",
              "<p>5 rows × 24 columns</p>\n",
              "</div>\n",
              "      <button class=\"colab-df-convert\" onclick=\"convertToInteractive('df-4a239487-f5f4-4cc5-ac74-85939efe625d')\"\n",
              "              title=\"Convert this dataframe to an interactive table.\"\n",
              "              style=\"display:none;\">\n",
              "        \n",
              "  <svg xmlns=\"http://www.w3.org/2000/svg\" height=\"24px\"viewBox=\"0 0 24 24\"\n",
              "       width=\"24px\">\n",
              "    <path d=\"M0 0h24v24H0V0z\" fill=\"none\"/>\n",
              "    <path d=\"M18.56 5.44l.94 2.06.94-2.06 2.06-.94-2.06-.94-.94-2.06-.94 2.06-2.06.94zm-11 1L8.5 8.5l.94-2.06 2.06-.94-2.06-.94L8.5 2.5l-.94 2.06-2.06.94zm10 10l.94 2.06.94-2.06 2.06-.94-2.06-.94-.94-2.06-.94 2.06-2.06.94z\"/><path d=\"M17.41 7.96l-1.37-1.37c-.4-.4-.92-.59-1.43-.59-.52 0-1.04.2-1.43.59L10.3 9.45l-7.72 7.72c-.78.78-.78 2.05 0 2.83L4 21.41c.39.39.9.59 1.41.59.51 0 1.02-.2 1.41-.59l7.78-7.78 2.81-2.81c.8-.78.8-2.07 0-2.86zM5.41 20L4 18.59l7.72-7.72 1.47 1.35L5.41 20z\"/>\n",
              "  </svg>\n",
              "      </button>\n",
              "      \n",
              "  <style>\n",
              "    .colab-df-container {\n",
              "      display:flex;\n",
              "      flex-wrap:wrap;\n",
              "      gap: 12px;\n",
              "    }\n",
              "\n",
              "    .colab-df-convert {\n",
              "      background-color: #E8F0FE;\n",
              "      border: none;\n",
              "      border-radius: 50%;\n",
              "      cursor: pointer;\n",
              "      display: none;\n",
              "      fill: #1967D2;\n",
              "      height: 32px;\n",
              "      padding: 0 0 0 0;\n",
              "      width: 32px;\n",
              "    }\n",
              "\n",
              "    .colab-df-convert:hover {\n",
              "      background-color: #E2EBFA;\n",
              "      box-shadow: 0px 1px 2px rgba(60, 64, 67, 0.3), 0px 1px 3px 1px rgba(60, 64, 67, 0.15);\n",
              "      fill: #174EA6;\n",
              "    }\n",
              "\n",
              "    [theme=dark] .colab-df-convert {\n",
              "      background-color: #3B4455;\n",
              "      fill: #D2E3FC;\n",
              "    }\n",
              "\n",
              "    [theme=dark] .colab-df-convert:hover {\n",
              "      background-color: #434B5C;\n",
              "      box-shadow: 0px 1px 3px 1px rgba(0, 0, 0, 0.15);\n",
              "      filter: drop-shadow(0px 1px 2px rgba(0, 0, 0, 0.3));\n",
              "      fill: #FFFFFF;\n",
              "    }\n",
              "  </style>\n",
              "\n",
              "      <script>\n",
              "        const buttonEl =\n",
              "          document.querySelector('#df-4a239487-f5f4-4cc5-ac74-85939efe625d button.colab-df-convert');\n",
              "        buttonEl.style.display =\n",
              "          google.colab.kernel.accessAllowed ? 'block' : 'none';\n",
              "\n",
              "        async function convertToInteractive(key) {\n",
              "          const element = document.querySelector('#df-4a239487-f5f4-4cc5-ac74-85939efe625d');\n",
              "          const dataTable =\n",
              "            await google.colab.kernel.invokeFunction('convertToInteractive',\n",
              "                                                     [key], {});\n",
              "          if (!dataTable) return;\n",
              "\n",
              "          const docLinkHtml = 'Like what you see? Visit the ' +\n",
              "            '<a target=\"_blank\" href=https://colab.research.google.com/notebooks/data_table.ipynb>data table notebook</a>'\n",
              "            + ' to learn more about interactive tables.';\n",
              "          element.innerHTML = '';\n",
              "          dataTable['output_type'] = 'display_data';\n",
              "          await google.colab.output.renderOutput(dataTable, element);\n",
              "          const docLink = document.createElement('div');\n",
              "          docLink.innerHTML = docLinkHtml;\n",
              "          element.appendChild(docLink);\n",
              "        }\n",
              "      </script>\n",
              "    </div>\n",
              "  </div>\n",
              "  "
            ]
          },
          "metadata": {},
          "execution_count": 22
        }
      ]
    },
    {
      "cell_type": "code",
      "source": [
        "for i in df_final.columns:\n",
        " print(df_final[i].value_counts())\n",
        " print('\\n')"
      ],
      "metadata": {
        "id": "Mit-SH7xyQ5m",
        "outputId": "32a351c1-17cd-4baa-c9f6-378749a8a41e",
        "colab": {
          "base_uri": "https://localhost:8080/"
        }
      },
      "execution_count": 23,
      "outputs": [
        {
          "output_type": "stream",
          "name": "stdout",
          "text": [
            "0    655933\n",
            "1    365722\n",
            "Name: USMER, dtype: int64\n",
            "\n",
            "\n",
            "0    830233\n",
            "1    191422\n",
            "Name: HOSPITALIZED, dtype: int64\n",
            "\n",
            "\n",
            "0    947100\n",
            "1     74555\n",
            "Name: DEATH, dtype: int64\n",
            "\n",
            "\n",
            "0    884402\n",
            "1    137253\n",
            "Name: PNEUMONIA, dtype: int64\n",
            "\n",
            "\n",
            "0    899531\n",
            "1    122124\n",
            "Name: DIABETES, dtype: int64\n",
            "\n",
            "\n",
            "0    1007356\n",
            "1      14299\n",
            "Name: COPD, dtype: int64\n",
            "\n",
            "\n",
            "0    991243\n",
            "1     30412\n",
            "Name: ASTHMA, dtype: int64\n",
            "\n",
            "\n",
            "0    1008105\n",
            "1      13550\n",
            "Name: INMSUPR, dtype: int64\n",
            "\n",
            "\n",
            "0    862521\n",
            "1    159134\n",
            "Name: HIPERTENSION, dtype: int64\n",
            "\n",
            "\n",
            "0    994597\n",
            "1     27058\n",
            "Name: OTHER_DISEASE, dtype: int64\n",
            "\n",
            "\n",
            "0    1001613\n",
            "1      20042\n",
            "Name: CARDIOVASCULAR, dtype: int64\n",
            "\n",
            "\n",
            "0    865081\n",
            "1    156574\n",
            "Name: OBESITY, dtype: int64\n",
            "\n",
            "\n",
            "0    1003350\n",
            "1      18305\n",
            "Name: RENAL_CHRONIC, dtype: int64\n",
            "\n",
            "\n",
            "0    939141\n",
            "1     82514\n",
            "Name: TOBACCO, dtype: int64\n",
            "\n",
            "\n",
            "0    634185\n",
            "1    387470\n",
            "Name: COVID-TEST, dtype: int64\n",
            "\n",
            "\n",
            "0    1013814\n",
            "1       7841\n",
            "Name: PREGNANT, dtype: int64\n",
            "\n",
            "\n",
            "0    956305\n",
            "1     65350\n",
            "Name: AGE_0-20, dtype: int64\n",
            "\n",
            "\n",
            "0    580748\n",
            "1    440907\n",
            "Name: AGE_20-40, dtype: int64\n",
            "\n",
            "\n",
            "0    652595\n",
            "1    369060\n",
            "Name: AGE_40-60, dtype: int64\n",
            "\n",
            "\n",
            "0    899871\n",
            "1    121784\n",
            "Name: AGE_60-80, dtype: int64\n",
            "\n",
            "\n",
            "0    1003681\n",
            "1      17974\n",
            "Name: AGE_80-100, dtype: int64\n",
            "\n",
            "\n",
            "0    1021532\n",
            "1        123\n",
            "Name: AGE_100-120, dtype: int64\n",
            "\n",
            "\n",
            "1    511795\n",
            "0    509860\n",
            "Name: MALE, dtype: int64\n",
            "\n",
            "\n",
            "0    511795\n",
            "1    509860\n",
            "Name: FEMALE, dtype: int64\n",
            "\n",
            "\n"
          ]
        }
      ]
    },
    {
      "cell_type": "code",
      "source": [
        "sns.heatmap(data=df_final.drop(axis=1,columns='DEATH').corr())"
      ],
      "metadata": {
        "id": "UuzhkZxnuGGh",
        "outputId": "bb642c9e-b8ce-4dd7-df1c-18e17ffbe7cf",
        "colab": {
          "base_uri": "https://localhost:8080/",
          "height": 567
        }
      },
      "execution_count": 24,
      "outputs": [
        {
          "output_type": "execute_result",
          "data": {
            "text/plain": [
              "<Axes: >"
            ]
          },
          "metadata": {},
          "execution_count": 24
        },
        {
          "output_type": "display_data",
          "data": {
            "text/plain": [
              "<Figure size 640x480 with 2 Axes>"
            ],
            "image/png": "[encoded data removed]"
          },
          "metadata": {}
        }
      ]
    },
    {
      "cell_type": "code",
      "source": [
        "corr_matrix = df_final.drop(axis=1,columns='DEATH').corr() > 0.2\n",
        "mask = np.eye(len(corr_matrix))\n",
        "sns.heatmap(data=corr_matrix, mask= mask)"
      ],
      "metadata": {
        "id": "k2HGQTH0jpoI",
        "outputId": "d72aabce-ec10-4da0-cc32-53f501aa4081",
        "colab": {
          "base_uri": "https://localhost:8080/",
          "height": 567
        }
      },
      "execution_count": 25,
      "outputs": [
        {
          "output_type": "execute_result",
          "data": {
            "text/plain": [
              "<Axes: >"
            ]
          },
          "metadata": {},
          "execution_count": 25
        },
        {
          "output_type": "display_data",
          "data": {
            "text/plain": [
              "<Figure size 640x480 with 2 Axes>"
            ],
            "image/png": "[encoded data removed]"
          },
          "metadata": {}
        }
      ]
    },
    {
      "cell_type": "markdown",
      "source": [
        "# Data Preparation for Model training"
      ],
      "metadata": {
        "id": "0hiUwzZM6knw"
      }
    },
    {
      "cell_type": "code",
      "source": [
        "# get 3 sets of data - train , val , test\n",
        "\n",
        "X = df_final.drop(\"DEATH\", axis=1)\n",
        "y = df_final[\"DEATH\"]\n",
        "\n",
        "# this split gives 2 sets for training and final model testing\n",
        "X_train, X_test, y_train, y_test = train_test_split(X, y, test_size=0.25)\n",
        "\n",
        "print(X_train.shape, X_test.shape)"
      ],
      "metadata": {
        "id": "3zG4sZBS7J2D",
        "outputId": "f10f985f-fc81-4e68-8287-8c8dc83412a1",
        "colab": {
          "base_uri": "https://localhost:8080/"
        }
      },
      "execution_count": 108,
      "outputs": [
        {
          "output_type": "stream",
          "name": "stdout",
          "text": [
            "(766241, 23) (255414, 23)\n"
          ]
        }
      ]
    },
    {
      "cell_type": "code",
      "source": [
        "y_train.value_counts(), y_test.value_counts()"
      ],
      "metadata": {
        "id": "mxWLhpJUmCAl",
        "outputId": "ded8d885-3f77-41ac-98d0-d6418502bc4d",
        "colab": {
          "base_uri": "https://localhost:8080/"
        }
      },
      "execution_count": 109,
      "outputs": [
        {
          "output_type": "execute_result",
          "data": {
            "text/plain": [
              "(0    710305\n",
              " 1     55936\n",
              " Name: DEATH, dtype: int64,\n",
              " 0    236795\n",
              " 1     18619\n",
              " Name: DEATH, dtype: int64)"
            ]
          },
          "metadata": {},
          "execution_count": 109
        }
      ]
    },
    {
      "cell_type": "markdown",
      "source": [
        "Henceforth , we will only use X_train for hyperparameter tuning.\n",
        "X_test will be reserved only for validating the performance metrics on the final models."
      ],
      "metadata": {
        "id": "wY8zeyYD8Ifb"
      }
    },
    {
      "cell_type": "markdown",
      "source": [
        "## Feature Extraction "
      ],
      "metadata": {
        "id": "VWIi60ToxlZ9"
      }
    },
    {
      "cell_type": "markdown",
      "source": [
        "### Using Random Forest to get the best Features"
      ],
      "metadata": {
        "id": "lOyKe8-8xo-I"
      }
    },
    {
      "cell_type": "code",
      "source": [
        "from sklearn.ensemble import RandomForestClassifier\n",
        "\n",
        "# X is the binary feature matrix, y is the target variable\n",
        "clf = RandomForestClassifier(n_estimators=100, random_state=0)\n",
        "clf.fit(X_train, y_train)\n",
        "importances = clf.feature_importances_\n"
      ],
      "metadata": {
        "id": "1GHCEfd0qmq0"
      },
      "execution_count": 28,
      "outputs": []
    },
    {
      "cell_type": "code",
      "source": [
        "important_features = dict(zip(X_train.columns,importances))\n",
        "important_features = dict(sorted(important_features.items(), key=lambda x: x[1], reverse=True))\n",
        "print(important_features)"
      ],
      "metadata": {
        "id": "qgmQHp5Ctvez",
        "outputId": "37d28973-97e8-4303-be16-0d23e8716653",
        "colab": {
          "base_uri": "https://localhost:8080/"
        }
      },
      "execution_count": 29,
      "outputs": [
        {
          "output_type": "stream",
          "name": "stdout",
          "text": [
            "{'HOSPITALIZED': 0.36066454289437605, 'PNEUMONIA': 0.2254113763588142, 'AGE_60-80': 0.06986596952774965, 'COVID-TEST': 0.06707369096070032, 'HIPERTENSION': 0.03522493339755092, 'AGE_20-40': 0.03267789586075625, 'DIABETES': 0.0325521633296528, 'AGE_80-100': 0.024385586261320095, 'USMER': 0.01887879954900858, 'AGE_40-60': 0.016900068291289372, 'OBESITY': 0.015405002348955234, 'RENAL_CHRONIC': 0.014267080150416538, 'TOBACCO': 0.012354817780069879, 'OTHER_DISEASE': 0.012348810226483029, 'CARDIOVASCULAR': 0.011878730473810386, 'COPD': 0.01090525056041278, 'INMSUPR': 0.010368190853235582, 'AGE_0-20': 0.00830882984423861, 'ASTHMA': 0.006952100550351863, 'FEMALE': 0.006575278981939735, 'MALE': 0.006053263914809031, 'PREGNANT': 0.0008089222475130348, 'AGE_100-120': 0.00013869563654600838}\n"
          ]
        }
      ]
    },
    {
      "cell_type": "code",
      "source": [
        "np.cumsum(list(important_features.values()))"
      ],
      "metadata": {
        "id": "sCeGpbFyu3jh",
        "outputId": "376e7f5a-828a-4aaa-8b68-893c01d44e89",
        "colab": {
          "base_uri": "https://localhost:8080/"
        }
      },
      "execution_count": 30,
      "outputs": [
        {
          "output_type": "execute_result",
          "data": {
            "text/plain": [
              "array([0.36066454, 0.58607592, 0.65594189, 0.72301558, 0.75824051,\n",
              "       0.79091841, 0.82347057, 0.84785616, 0.86673496, 0.88363503,\n",
              "       0.89904003, 0.91330711, 0.92566193, 0.93801074, 0.94988947,\n",
              "       0.96079472, 0.97116291, 0.97947174, 0.98642384, 0.99299912,\n",
              "       0.99905238, 0.9998613 , 1.        ])"
            ]
          },
          "metadata": {},
          "execution_count": 30
        }
      ]
    },
    {
      "cell_type": "code",
      "source": [
        "plt.plot(range(1, len(X_train.columns)+1), np.cumsum(list(important_features.values())))\n",
        "plt.xlabel(\"Number of features\")\n",
        "plt.ylabel(\"Importance of cumulative features\")"
      ],
      "metadata": {
        "id": "cTZEKlltvVBB",
        "outputId": "00ba82ef-0d67-4c79-a67b-acf8eee4fe45",
        "colab": {
          "base_uri": "https://localhost:8080/",
          "height": 466
        }
      },
      "execution_count": 31,
      "outputs": [
        {
          "output_type": "execute_result",
          "data": {
            "text/plain": [
              "Text(0, 0.5, 'Importance of cumulative features')"
            ]
          },
          "metadata": {},
          "execution_count": 31
        },
        {
          "output_type": "display_data",
          "data": {
            "text/plain": [
              "<Figure size 640x480 with 1 Axes>"
            ],
            "image/png": "[encoded data removed]"
          },
          "metadata": {}
        }
      ]
    },
    {
      "cell_type": "markdown",
      "source": [
        "Choose best k features such that importance adds up to 0.9"
      ],
      "metadata": {
        "id": "T_Kn3FGuwdO8"
      }
    },
    {
      "cell_type": "code",
      "source": [
        "best_features = list(important_features.keys())[:np.argmax(np.cumsum(list(important_features.values())) >= 0.9)+1]\n",
        "best_features"
      ],
      "metadata": {
        "id": "MNP1aXxTueFX",
        "outputId": "7121cd73-d4a3-4a99-809a-65eafe30be92",
        "colab": {
          "base_uri": "https://localhost:8080/"
        }
      },
      "execution_count": 32,
      "outputs": [
        {
          "output_type": "execute_result",
          "data": {
            "text/plain": [
              "['HOSPITALIZED',\n",
              " 'PNEUMONIA',\n",
              " 'AGE_60-80',\n",
              " 'COVID-TEST',\n",
              " 'HIPERTENSION',\n",
              " 'AGE_20-40',\n",
              " 'DIABETES',\n",
              " 'AGE_80-100',\n",
              " 'USMER',\n",
              " 'AGE_40-60',\n",
              " 'OBESITY',\n",
              " 'RENAL_CHRONIC']"
            ]
          },
          "metadata": {},
          "execution_count": 32
        }
      ]
    },
    {
      "cell_type": "code",
      "source": [
        "X_train_feature_reduced = X_train[best_features].copy()\n",
        "y_train_feature_reduced = y_train.copy()\n",
        "X_test_feature_reduced = X_test[best_features].copy()\n",
        "y_test_feature_reduced = y_test.copy()"
      ],
      "metadata": {
        "id": "80lKU29QuSnb"
      },
      "execution_count": 34,
      "outputs": []
    },
    {
      "cell_type": "markdown",
      "source": [
        "## Resolving Data Imbalance"
      ],
      "metadata": {
        "id": "yAThJxuw6ZOj"
      }
    },
    {
      "cell_type": "markdown",
      "source": [
        "### SMOTE Method from imblearn"
      ],
      "metadata": {
        "id": "3G8td1kG6_n8"
      }
    },
    {
      "cell_type": "code",
      "source": [
        "from imblearn.over_sampling import SMOTE\n",
        "from imblearn.under_sampling import RandomUnderSampler\n",
        "from sklearn.utils import shuffle\n",
        "from imblearn.pipeline import Pipeline as imbPipeline"
      ],
      "metadata": {
        "id": "KCrB7Scg6e35"
      },
      "execution_count": 35,
      "outputs": []
    },
    {
      "cell_type": "code",
      "source": [
        "def data_sampling_smote(X,y, undersample_ratio = 0.2, oversample_ratio = 0.5, random_seed = 2023):\n",
        "  # Define the undersampler and oversampler as part of a pipeline\n",
        "  undersampler = RandomUnderSampler(sampling_strategy=undersample_ratio, random_state=random_seed)\n",
        "  oversampler = SMOTE(sampling_strategy=oversample_ratio, random_state=random_seed)\n",
        "  pipeline = imbPipeline(steps=[('u', undersampler), ('o', oversampler)])\n",
        "\n",
        "  # Apply the pipeline to the imbalanced dataset\n",
        "  X_SMOTE, y_SMOTE = pipeline.fit_resample(X, y)\n",
        "  return X_SMOTE, y_SMOTE\n",
        "\n",
        "X_train_SMOTE, y_train_SMOTE = data_sampling_smote(X_train, y_train)\n",
        "# Print the class distribution after balancing\n",
        "print(\"Class distribution after balancing:\", np.bincount(y_train_SMOTE))\n",
        "\n",
        "print(X_train_SMOTE.shape)"
      ],
      "metadata": {
        "id": "i82Yu4Kq8XDJ",
        "outputId": "2bc1edbe-776a-46c6-e862-6b83bfa128aa",
        "colab": {
          "base_uri": "https://localhost:8080/"
        }
      },
      "execution_count": 285,
      "outputs": [
        {
          "output_type": "stream",
          "name": "stdout",
          "text": [
            "Class distribution after balancing: [279680 139840]\n",
            "(419520, 23)\n"
          ]
        }
      ]
    },
    {
      "cell_type": "code",
      "source": [
        "print(y_train_SMOTE.value_counts())"
      ],
      "metadata": {
        "id": "BLD6HYNYBhAl",
        "outputId": "eb888fca-26c5-432c-a02e-3772e64ed4fa",
        "colab": {
          "base_uri": "https://localhost:8080/"
        }
      },
      "execution_count": 37,
      "outputs": [
        {
          "output_type": "stream",
          "name": "stdout",
          "text": [
            "0    278920\n",
            "1    139460\n",
            "Name: DEATH, dtype: int64\n"
          ]
        }
      ]
    },
    {
      "cell_type": "code",
      "source": [
        "X_train_SMOTE, y_train_SMOTE = shuffle(X_train_SMOTE, y_train_SMOTE, random_state=2023)"
      ],
      "metadata": {
        "id": "pb3RwweC4hlX"
      },
      "execution_count": 38,
      "outputs": []
    },
    {
      "cell_type": "code",
      "source": [
        "X_train_feature_reduced_SMOTE, y_train_feature_reduced_SMOTE = data_sampling_smote(X_train_feature_reduced, y_train)"
      ],
      "metadata": {
        "id": "X2WQL7KZ5BsS"
      },
      "execution_count": 39,
      "outputs": []
    },
    {
      "cell_type": "code",
      "source": [
        "print(y_train_feature_reduced_SMOTE.value_counts())"
      ],
      "metadata": {
        "id": "UpZOnwvR5VcH",
        "outputId": "f20c8cbc-a3cf-47f0-a3f4-5fe302dc8183",
        "colab": {
          "base_uri": "https://localhost:8080/"
        }
      },
      "execution_count": 40,
      "outputs": [
        {
          "output_type": "stream",
          "name": "stdout",
          "text": [
            "0    278920\n",
            "1    139460\n",
            "Name: DEATH, dtype: int64\n"
          ]
        }
      ]
    },
    {
      "cell_type": "markdown",
      "metadata": {
        "id": "gzegiYBVghaH"
      },
      "source": [
        "## Modeling"
      ]
    },
    {
      "cell_type": "markdown",
      "source": [
        "### Standard Models"
      ],
      "metadata": {
        "id": "3vw0fKh9BRoV"
      }
    },
    {
      "cell_type": "markdown",
      "source": [
        "#### Logistic Regression"
      ],
      "metadata": {
        "id": "WF4PzuyFBU87"
      }
    },
    {
      "cell_type": "code",
      "source": [
        "from sklearn.linear_model import LogisticRegression\n",
        "from sklearn.model_selection import GridSearchCV\n",
        "\n",
        "# Define the logistic regression model\n",
        "logreg = LogisticRegression(penalty='l2', solver='liblinear')\n",
        "\n",
        "# Set the hyperparameter search space\n",
        "param_grid = {'C': [0.1, 1, 10]}\n",
        "\n",
        "# Create a GridSearchCV object with 5-fold cross-validation\n",
        "grid = GridSearchCV(logreg, param_grid, cv=5 , scoring=['f1','accuracy', 'precision','recall'], refit = 'f1')\n",
        "\n",
        "# Fit the GridSearchCV object to the data\n",
        "grid.fit(X_train, y_train)\n",
        "\n",
        "# Print the best hyperparameters and their corresponding score\n",
        "print(\"Best hyperparameters: \", grid.best_params_)\n",
        "print(\"Best score: \", grid.best_score_)\n",
        "pd.DataFrame(grid.cv_results_)\n"
      ],
      "metadata": {
        "id": "9Ye0l9X6BaAR",
        "outputId": "e18fead2-4ced-4e38-bada-f7aa40d6aa03",
        "colab": {
          "base_uri": "https://localhost:8080/",
          "height": 306
        }
      },
      "execution_count": 41,
      "outputs": [
        {
          "output_type": "stream",
          "name": "stdout",
          "text": [
            "Best hyperparameters:  {'C': 10}\n",
            "Best score:  0.4886799156899442\n"
          ]
        },
        {
          "output_type": "execute_result",
          "data": {
            "text/plain": [
              "   mean_fit_time  std_fit_time  mean_score_time  std_score_time param_C  \\\n",
              "0       3.828966      0.238984         0.255324        0.046707     0.1   \n",
              "1       4.346995      0.376015         0.261898        0.043338       1   \n",
              "2       4.832922      0.530251         0.253769        0.047556      10   \n",
              "\n",
              "       params  split0_test_f1  split1_test_f1  split2_test_f1  split3_test_f1  \\\n",
              "0  {'C': 0.1}        0.488294        0.493583        0.490033        0.485007   \n",
              "1    {'C': 1}        0.488532        0.493769        0.490731        0.485147   \n",
              "2   {'C': 10}        0.488532        0.493743        0.490811        0.485147   \n",
              "\n",
              "   ...  std_test_precision  rank_test_precision  split0_test_recall  \\\n",
              "0  ...            0.004560                    1            0.416868   \n",
              "1  ...            0.004569                    2            0.417137   \n",
              "2  ...            0.004575                    3            0.417137   \n",
              "\n",
              "   split1_test_recall  split2_test_recall  split3_test_recall  \\\n",
              "0            0.422284            0.415345            0.414628   \n",
              "1            0.422643            0.416420            0.414986   \n",
              "2            0.422643            0.416510            0.414986   \n",
              "\n",
              "   split4_test_recall  mean_test_recall  std_test_recall  rank_test_recall  \n",
              "0            0.409877          0.415800         0.003996                 3  \n",
              "1            0.410415          0.416320         0.003932                 2  \n",
              "2            0.410415          0.416338         0.003933                 1  \n",
              "\n",
              "[3 rows x 38 columns]"
            ],
            "text/html": [
              "\n",
              "  <div id=\"df-93576625-95b4-4897-964b-45722b565ad6\">\n",
              "    <div class=\"colab-df-container\">\n",
              "      <div>\n",
              "<style scoped>\n",
              "    .dataframe tbody tr th:only-of-type {\n",
              "        vertical-align: middle;\n",
              "    }\n",
              "\n",
              "    .dataframe tbody tr th {\n",
              "        vertical-align: top;\n",
              "    }\n",
              "\n",
              "    .dataframe thead th {\n",
              "        text-align: right;\n",
              "    }\n",
              "</style>\n",
              "<table border=\"1\" class=\"dataframe\">\n",
              "  <thead>\n",
              "    <tr style=\"text-align: right;\">\n",
              "      <th></th>\n",
              "      <th>mean_fit_time</th>\n",
              "      <th>std_fit_time</th>\n",
              "      <th>mean_score_time</th>\n",
              "      <th>std_score_time</th>\n",
              "      <th>param_C</th>\n",
              "      <th>params</th>\n",
              "      <th>split0_test_f1</th>\n",
              "      <th>split1_test_f1</th>\n",
              "      <th>split2_test_f1</th>\n",
              "      <th>split3_test_f1</th>\n",
              "      <th>...</th>\n",
              "      <th>std_test_precision</th>\n",
              "      <th>rank_test_precision</th>\n",
              "      <th>split0_test_recall</th>\n",
              "      <th>split1_test_recall</th>\n",
              "      <th>split2_test_recall</th>\n",
              "      <th>split3_test_recall</th>\n",
              "      <th>split4_test_recall</th>\n",
              "      <th>mean_test_recall</th>\n",
              "      <th>std_test_recall</th>\n",
              "      <th>rank_test_recall</th>\n",
              "    </tr>\n",
              "  </thead>\n",
              "  <tbody>\n",
              "    <tr>\n",
              "      <th>0</th>\n",
              "      <td>3.828966</td>\n",
              "      <td>0.238984</td>\n",
              "      <td>0.255324</td>\n",
              "      <td>0.046707</td>\n",
              "      <td>0.1</td>\n",
              "      <td>{'C': 0.1}</td>\n",
              "      <td>0.488294</td>\n",
              "      <td>0.493583</td>\n",
              "      <td>0.490033</td>\n",
              "      <td>0.485007</td>\n",
              "      <td>...</td>\n",
              "      <td>0.004560</td>\n",
              "      <td>1</td>\n",
              "      <td>0.416868</td>\n",
              "      <td>0.422284</td>\n",
              "      <td>0.415345</td>\n",
              "      <td>0.414628</td>\n",
              "      <td>0.409877</td>\n",
              "      <td>0.415800</td>\n",
              "      <td>0.003996</td>\n",
              "      <td>3</td>\n",
              "    </tr>\n",
              "    <tr>\n",
              "      <th>1</th>\n",
              "      <td>4.346995</td>\n",
              "      <td>0.376015</td>\n",
              "      <td>0.261898</td>\n",
              "      <td>0.043338</td>\n",
              "      <td>1</td>\n",
              "      <td>{'C': 1}</td>\n",
              "      <td>0.488532</td>\n",
              "      <td>0.493769</td>\n",
              "      <td>0.490731</td>\n",
              "      <td>0.485147</td>\n",
              "      <td>...</td>\n",
              "      <td>0.004569</td>\n",
              "      <td>2</td>\n",
              "      <td>0.417137</td>\n",
              "      <td>0.422643</td>\n",
              "      <td>0.416420</td>\n",
              "      <td>0.414986</td>\n",
              "      <td>0.410415</td>\n",
              "      <td>0.416320</td>\n",
              "      <td>0.003932</td>\n",
              "      <td>2</td>\n",
              "    </tr>\n",
              "    <tr>\n",
              "      <th>2</th>\n",
              "      <td>4.832922</td>\n",
              "      <td>0.530251</td>\n",
              "      <td>0.253769</td>\n",
              "      <td>0.047556</td>\n",
              "      <td>10</td>\n",
              "      <td>{'C': 10}</td>\n",
              "      <td>0.488532</td>\n",
              "      <td>0.493743</td>\n",
              "      <td>0.490811</td>\n",
              "      <td>0.485147</td>\n",
              "      <td>...</td>\n",
              "      <td>0.004575</td>\n",
              "      <td>3</td>\n",
              "      <td>0.417137</td>\n",
              "      <td>0.422643</td>\n",
              "      <td>0.416510</td>\n",
              "      <td>0.414986</td>\n",
              "      <td>0.410415</td>\n",
              "      <td>0.416338</td>\n",
              "      <td>0.003933</td>\n",
              "      <td>1</td>\n",
              "    </tr>\n",
              "  </tbody>\n",
              "</table>\n",
              "<p>3 rows × 38 columns</p>\n",
              "</div>\n",
              "      <button class=\"colab-df-convert\" onclick=\"convertToInteractive('df-93576625-95b4-4897-964b-45722b565ad6')\"\n",
              "              title=\"Convert this dataframe to an interactive table.\"\n",
              "              style=\"display:none;\">\n",
              "        \n",
              "  <svg xmlns=\"http://www.w3.org/2000/svg\" height=\"24px\"viewBox=\"0 0 24 24\"\n",
              "       width=\"24px\">\n",
              "    <path d=\"M0 0h24v24H0V0z\" fill=\"none\"/>\n",
              "    <path d=\"M18.56 5.44l.94 2.06.94-2.06 2.06-.94-2.06-.94-.94-2.06-.94 2.06-2.06.94zm-11 1L8.5 8.5l.94-2.06 2.06-.94-2.06-.94L8.5 2.5l-.94 2.06-2.06.94zm10 10l.94 2.06.94-2.06 2.06-.94-2.06-.94-.94-2.06-.94 2.06-2.06.94z\"/><path d=\"M17.41 7.96l-1.37-1.37c-.4-.4-.92-.59-1.43-.59-.52 0-1.04.2-1.43.59L10.3 9.45l-7.72 7.72c-.78.78-.78 2.05 0 2.83L4 21.41c.39.39.9.59 1.41.59.51 0 1.02-.2 1.41-.59l7.78-7.78 2.81-2.81c.8-.78.8-2.07 0-2.86zM5.41 20L4 18.59l7.72-7.72 1.47 1.35L5.41 20z\"/>\n",
              "  </svg>\n",
              "      </button>\n",
              "      \n",
              "  <style>\n",
              "    .colab-df-container {\n",
              "      display:flex;\n",
              "      flex-wrap:wrap;\n",
              "      gap: 12px;\n",
              "    }\n",
              "\n",
              "    .colab-df-convert {\n",
              "      background-color: #E8F0FE;\n",
              "      border: none;\n",
              "      border-radius: 50%;\n",
              "      cursor: pointer;\n",
              "      display: none;\n",
              "      fill: #1967D2;\n",
              "      height: 32px;\n",
              "      padding: 0 0 0 0;\n",
              "      width: 32px;\n",
              "    }\n",
              "\n",
              "    .colab-df-convert:hover {\n",
              "      background-color: #E2EBFA;\n",
              "      box-shadow: 0px 1px 2px rgba(60, 64, 67, 0.3), 0px 1px 3px 1px rgba(60, 64, 67, 0.15);\n",
              "      fill: #174EA6;\n",
              "    }\n",
              "\n",
              "    [theme=dark] .colab-df-convert {\n",
              "      background-color: #3B4455;\n",
              "      fill: #D2E3FC;\n",
              "    }\n",
              "\n",
              "    [theme=dark] .colab-df-convert:hover {\n",
              "      background-color: #434B5C;\n",
              "      box-shadow: 0px 1px 3px 1px rgba(0, 0, 0, 0.15);\n",
              "      filter: drop-shadow(0px 1px 2px rgba(0, 0, 0, 0.3));\n",
              "      fill: #FFFFFF;\n",
              "    }\n",
              "  </style>\n",
              "\n",
              "      <script>\n",
              "        const buttonEl =\n",
              "          document.querySelector('#df-93576625-95b4-4897-964b-45722b565ad6 button.colab-df-convert');\n",
              "        buttonEl.style.display =\n",
              "          google.colab.kernel.accessAllowed ? 'block' : 'none';\n",
              "\n",
              "        async function convertToInteractive(key) {\n",
              "          const element = document.querySelector('#df-93576625-95b4-4897-964b-45722b565ad6');\n",
              "          const dataTable =\n",
              "            await google.colab.kernel.invokeFunction('convertToInteractive',\n",
              "                                                     [key], {});\n",
              "          if (!dataTable) return;\n",
              "\n",
              "          const docLinkHtml = 'Like what you see? Visit the ' +\n",
              "            '<a target=\"_blank\" href=https://colab.research.google.com/notebooks/data_table.ipynb>data table notebook</a>'\n",
              "            + ' to learn more about interactive tables.';\n",
              "          element.innerHTML = '';\n",
              "          dataTable['output_type'] = 'display_data';\n",
              "          await google.colab.output.renderOutput(dataTable, element);\n",
              "          const docLink = document.createElement('div');\n",
              "          docLink.innerHTML = docLinkHtml;\n",
              "          element.appendChild(docLink);\n",
              "        }\n",
              "      </script>\n",
              "    </div>\n",
              "  </div>\n",
              "  "
            ]
          },
          "metadata": {},
          "execution_count": 41
        }
      ]
    },
    {
      "cell_type": "code",
      "source": [
        "# Fit the GridSearchCV object to the data\n",
        "grid.fit(X_train_feature_reduced, y_train)\n",
        "\n",
        "# Print the best hyperparameters and their corresponding score\n",
        "print(\"Best hyperparameters: \", grid.best_params_)\n",
        "print(\"Best score: \", grid.best_score_)\n",
        "pd.DataFrame(grid.cv_results_)"
      ],
      "metadata": {
        "id": "u4iLe1_hE0P_",
        "outputId": "cac965c9-98b5-4ebd-feff-e4ad74510be7",
        "colab": {
          "base_uri": "https://localhost:8080/",
          "height": 306
        }
      },
      "execution_count": 42,
      "outputs": [
        {
          "output_type": "stream",
          "name": "stdout",
          "text": [
            "Best hyperparameters:  {'C': 1}\n",
            "Best score:  0.47547299561958417\n"
          ]
        },
        {
          "output_type": "execute_result",
          "data": {
            "text/plain": [
              "   mean_fit_time  std_fit_time  mean_score_time  std_score_time param_C  \\\n",
              "0       2.333339      0.242637         0.221635        0.031769     0.1   \n",
              "1       2.498290      0.203979         0.234669        0.048801       1   \n",
              "2       2.749986      0.498869         0.220048        0.022668      10   \n",
              "\n",
              "       params  split0_test_f1  split1_test_f1  split2_test_f1  split3_test_f1  \\\n",
              "0  {'C': 0.1}        0.480277        0.473429        0.476196        0.476231   \n",
              "1    {'C': 1}        0.480571        0.473429        0.476196        0.476261   \n",
              "2   {'C': 10}        0.480571        0.473429        0.476196        0.476261   \n",
              "\n",
              "   ...  std_test_precision  rank_test_precision  split0_test_recall  \\\n",
              "0  ...            0.006592                    1            0.403782   \n",
              "1  ...            0.006685                    2            0.404589   \n",
              "2  ...            0.006685                    2            0.404589   \n",
              "\n",
              "   split1_test_recall  split2_test_recall  split3_test_recall  \\\n",
              "0            0.394496             0.39222            0.400914   \n",
              "1            0.394496             0.39222            0.401004   \n",
              "2            0.394496             0.39222            0.401004   \n",
              "\n",
              "   split4_test_recall  mean_test_recall  std_test_recall  rank_test_recall  \n",
              "0            0.388456          0.395974         0.005625                 3  \n",
              "1            0.388456          0.396153         0.005868                 1  \n",
              "2            0.388456          0.396153         0.005868                 1  \n",
              "\n",
              "[3 rows x 38 columns]"
            ],
            "text/html": [
              "\n",
              "  <div id=\"df-7fc1ce05-e153-4dc0-b1d1-cf3afe77246c\">\n",
              "    <div class=\"colab-df-container\">\n",
              "      <div>\n",
              "<style scoped>\n",
              "    .dataframe tbody tr th:only-of-type {\n",
              "        vertical-align: middle;\n",
              "    }\n",
              "\n",
              "    .dataframe tbody tr th {\n",
              "        vertical-align: top;\n",
              "    }\n",
              "\n",
              "    .dataframe thead th {\n",
              "        text-align: right;\n",
              "    }\n",
              "</style>\n",
              "<table border=\"1\" class=\"dataframe\">\n",
              "  <thead>\n",
              "    <tr style=\"text-align: right;\">\n",
              "      <th></th>\n",
              "      <th>mean_fit_time</th>\n",
              "      <th>std_fit_time</th>\n",
              "      <th>mean_score_time</th>\n",
              "      <th>std_score_time</th>\n",
              "      <th>param_C</th>\n",
              "      <th>params</th>\n",
              "      <th>split0_test_f1</th>\n",
              "      <th>split1_test_f1</th>\n",
              "      <th>split2_test_f1</th>\n",
              "      <th>split3_test_f1</th>\n",
              "      <th>...</th>\n",
              "      <th>std_test_precision</th>\n",
              "      <th>rank_test_precision</th>\n",
              "      <th>split0_test_recall</th>\n",
              "      <th>split1_test_recall</th>\n",
              "      <th>split2_test_recall</th>\n",
              "      <th>split3_test_recall</th>\n",
              "      <th>split4_test_recall</th>\n",
              "      <th>mean_test_recall</th>\n",
              "      <th>std_test_recall</th>\n",
              "      <th>rank_test_recall</th>\n",
              "    </tr>\n",
              "  </thead>\n",
              "  <tbody>\n",
              "    <tr>\n",
              "      <th>0</th>\n",
              "      <td>2.333339</td>\n",
              "      <td>0.242637</td>\n",
              "      <td>0.221635</td>\n",
              "      <td>0.031769</td>\n",
              "      <td>0.1</td>\n",
              "      <td>{'C': 0.1}</td>\n",
              "      <td>0.480277</td>\n",
              "      <td>0.473429</td>\n",
              "      <td>0.476196</td>\n",
              "      <td>0.476231</td>\n",
              "      <td>...</td>\n",
              "      <td>0.006592</td>\n",
              "      <td>1</td>\n",
              "      <td>0.403782</td>\n",
              "      <td>0.394496</td>\n",
              "      <td>0.39222</td>\n",
              "      <td>0.400914</td>\n",
              "      <td>0.388456</td>\n",
              "      <td>0.395974</td>\n",
              "      <td>0.005625</td>\n",
              "      <td>3</td>\n",
              "    </tr>\n",
              "    <tr>\n",
              "      <th>1</th>\n",
              "      <td>2.498290</td>\n",
              "      <td>0.203979</td>\n",
              "      <td>0.234669</td>\n",
              "      <td>0.048801</td>\n",
              "      <td>1</td>\n",
              "      <td>{'C': 1}</td>\n",
              "      <td>0.480571</td>\n",
              "      <td>0.473429</td>\n",
              "      <td>0.476196</td>\n",
              "      <td>0.476261</td>\n",
              "      <td>...</td>\n",
              "      <td>0.006685</td>\n",
              "      <td>2</td>\n",
              "      <td>0.404589</td>\n",
              "      <td>0.394496</td>\n",
              "      <td>0.39222</td>\n",
              "      <td>0.401004</td>\n",
              "      <td>0.388456</td>\n",
              "      <td>0.396153</td>\n",
              "      <td>0.005868</td>\n",
              "      <td>1</td>\n",
              "    </tr>\n",
              "    <tr>\n",
              "      <th>2</th>\n",
              "      <td>2.749986</td>\n",
              "      <td>0.498869</td>\n",
              "      <td>0.220048</td>\n",
              "      <td>0.022668</td>\n",
              "      <td>10</td>\n",
              "      <td>{'C': 10}</td>\n",
              "      <td>0.480571</td>\n",
              "      <td>0.473429</td>\n",
              "      <td>0.476196</td>\n",
              "      <td>0.476261</td>\n",
              "      <td>...</td>\n",
              "      <td>0.006685</td>\n",
              "      <td>2</td>\n",
              "      <td>0.404589</td>\n",
              "      <td>0.394496</td>\n",
              "      <td>0.39222</td>\n",
              "      <td>0.401004</td>\n",
              "      <td>0.388456</td>\n",
              "      <td>0.396153</td>\n",
              "      <td>0.005868</td>\n",
              "      <td>1</td>\n",
              "    </tr>\n",
              "  </tbody>\n",
              "</table>\n",
              "<p>3 rows × 38 columns</p>\n",
              "</div>\n",
              "      <button class=\"colab-df-convert\" onclick=\"convertToInteractive('df-7fc1ce05-e153-4dc0-b1d1-cf3afe77246c')\"\n",
              "              title=\"Convert this dataframe to an interactive table.\"\n",
              "              style=\"display:none;\">\n",
              "        \n",
              "  <svg xmlns=\"http://www.w3.org/2000/svg\" height=\"24px\"viewBox=\"0 0 24 24\"\n",
              "       width=\"24px\">\n",
              "    <path d=\"M0 0h24v24H0V0z\" fill=\"none\"/>\n",
              "    <path d=\"M18.56 5.44l.94 2.06.94-2.06 2.06-.94-2.06-.94-.94-2.06-.94 2.06-2.06.94zm-11 1L8.5 8.5l.94-2.06 2.06-.94-2.06-.94L8.5 2.5l-.94 2.06-2.06.94zm10 10l.94 2.06.94-2.06 2.06-.94-2.06-.94-.94-2.06-.94 2.06-2.06.94z\"/><path d=\"M17.41 7.96l-1.37-1.37c-.4-.4-.92-.59-1.43-.59-.52 0-1.04.2-1.43.59L10.3 9.45l-7.72 7.72c-.78.78-.78 2.05 0 2.83L4 21.41c.39.39.9.59 1.41.59.51 0 1.02-.2 1.41-.59l7.78-7.78 2.81-2.81c.8-.78.8-2.07 0-2.86zM5.41 20L4 18.59l7.72-7.72 1.47 1.35L5.41 20z\"/>\n",
              "  </svg>\n",
              "      </button>\n",
              "      \n",
              "  <style>\n",
              "    .colab-df-container {\n",
              "      display:flex;\n",
              "      flex-wrap:wrap;\n",
              "      gap: 12px;\n",
              "    }\n",
              "\n",
              "    .colab-df-convert {\n",
              "      background-color: #E8F0FE;\n",
              "      border: none;\n",
              "      border-radius: 50%;\n",
              "      cursor: pointer;\n",
              "      display: none;\n",
              "      fill: #1967D2;\n",
              "      height: 32px;\n",
              "      padding: 0 0 0 0;\n",
              "      width: 32px;\n",
              "    }\n",
              "\n",
              "    .colab-df-convert:hover {\n",
              "      background-color: #E2EBFA;\n",
              "      box-shadow: 0px 1px 2px rgba(60, 64, 67, 0.3), 0px 1px 3px 1px rgba(60, 64, 67, 0.15);\n",
              "      fill: #174EA6;\n",
              "    }\n",
              "\n",
              "    [theme=dark] .colab-df-convert {\n",
              "      background-color: #3B4455;\n",
              "      fill: #D2E3FC;\n",
              "    }\n",
              "\n",
              "    [theme=dark] .colab-df-convert:hover {\n",
              "      background-color: #434B5C;\n",
              "      box-shadow: 0px 1px 3px 1px rgba(0, 0, 0, 0.15);\n",
              "      filter: drop-shadow(0px 1px 2px rgba(0, 0, 0, 0.3));\n",
              "      fill: #FFFFFF;\n",
              "    }\n",
              "  </style>\n",
              "\n",
              "      <script>\n",
              "        const buttonEl =\n",
              "          document.querySelector('#df-7fc1ce05-e153-4dc0-b1d1-cf3afe77246c button.colab-df-convert');\n",
              "        buttonEl.style.display =\n",
              "          google.colab.kernel.accessAllowed ? 'block' : 'none';\n",
              "\n",
              "        async function convertToInteractive(key) {\n",
              "          const element = document.querySelector('#df-7fc1ce05-e153-4dc0-b1d1-cf3afe77246c');\n",
              "          const dataTable =\n",
              "            await google.colab.kernel.invokeFunction('convertToInteractive',\n",
              "                                                     [key], {});\n",
              "          if (!dataTable) return;\n",
              "\n",
              "          const docLinkHtml = 'Like what you see? Visit the ' +\n",
              "            '<a target=\"_blank\" href=https://colab.research.google.com/notebooks/data_table.ipynb>data table notebook</a>'\n",
              "            + ' to learn more about interactive tables.';\n",
              "          element.innerHTML = '';\n",
              "          dataTable['output_type'] = 'display_data';\n",
              "          await google.colab.output.renderOutput(dataTable, element);\n",
              "          const docLink = document.createElement('div');\n",
              "          docLink.innerHTML = docLinkHtml;\n",
              "          element.appendChild(docLink);\n",
              "        }\n",
              "      </script>\n",
              "    </div>\n",
              "  </div>\n",
              "  "
            ]
          },
          "metadata": {},
          "execution_count": 42
        }
      ]
    },
    {
      "cell_type": "code",
      "source": [
        "# Fit the GridSearchCV object to the data\n",
        "grid.fit(X_train_SMOTE, y_train_SMOTE)\n",
        "\n",
        "# Print the best hyperparameters and their corresponding score\n",
        "print(\"Best hyperparameters: \", grid.best_params_)\n",
        "print(\"Best score: \", grid.best_score_)\n",
        "pd.DataFrame(grid.cv_results_)"
      ],
      "metadata": {
        "id": "yVPJ95PLFmn2",
        "outputId": "986a1876-755a-45e4-dc3f-d8e6bee4d28c",
        "colab": {
          "base_uri": "https://localhost:8080/",
          "height": 306
        }
      },
      "execution_count": 43,
      "outputs": [
        {
          "output_type": "stream",
          "name": "stdout",
          "text": [
            "Best hyperparameters:  {'C': 10}\n",
            "Best score:  0.841396779742705\n"
          ]
        },
        {
          "output_type": "execute_result",
          "data": {
            "text/plain": [
              "   mean_fit_time  std_fit_time  mean_score_time  std_score_time param_C  \\\n",
              "0       2.059262      0.114175         0.190470        0.033320     0.1   \n",
              "1       2.017407      0.144387         0.172534        0.031320       1   \n",
              "2       2.292711      0.074675         0.176419        0.020845      10   \n",
              "\n",
              "       params  split0_test_f1  split1_test_f1  split2_test_f1  split3_test_f1  \\\n",
              "0  {'C': 0.1}        0.840649        0.842007        0.843562        0.839142   \n",
              "1    {'C': 1}        0.840695        0.841878        0.843669        0.839456   \n",
              "2   {'C': 10}        0.840715        0.841878        0.843669        0.839491   \n",
              "\n",
              "   ...  std_test_precision  rank_test_precision  split0_test_recall  \\\n",
              "0  ...             0.00115                    3            0.856231   \n",
              "1  ...             0.00124                    2            0.856052   \n",
              "2  ...             0.00123                    1            0.856088   \n",
              "\n",
              "   split1_test_recall  split2_test_recall  split3_test_recall  \\\n",
              "0            0.861071            0.863402            0.856697   \n",
              "1            0.860713            0.863330            0.857378   \n",
              "2            0.860713            0.863330            0.857414   \n",
              "\n",
              "   split4_test_recall  mean_test_recall  std_test_recall  rank_test_recall  \n",
              "0            0.858311          0.859142         0.002721                 1  \n",
              "1            0.858024          0.859099         0.002604                 3  \n",
              "2            0.858060          0.859121         0.002588                 2  \n",
              "\n",
              "[3 rows x 38 columns]"
            ],
            "text/html": [
              "\n",
              "  <div id=\"df-33730597-6255-4e1c-93e9-508a53032011\">\n",
              "    <div class=\"colab-df-container\">\n",
              "      <div>\n",
              "<style scoped>\n",
              "    .dataframe tbody tr th:only-of-type {\n",
              "        vertical-align: middle;\n",
              "    }\n",
              "\n",
              "    .dataframe tbody tr th {\n",
              "        vertical-align: top;\n",
              "    }\n",
              "\n",
              "    .dataframe thead th {\n",
              "        text-align: right;\n",
              "    }\n",
              "</style>\n",
              "<table border=\"1\" class=\"dataframe\">\n",
              "  <thead>\n",
              "    <tr style=\"text-align: right;\">\n",
              "      <th></th>\n",
              "      <th>mean_fit_time</th>\n",
              "      <th>std_fit_time</th>\n",
              "      <th>mean_score_time</th>\n",
              "      <th>std_score_time</th>\n",
              "      <th>param_C</th>\n",
              "      <th>params</th>\n",
              "      <th>split0_test_f1</th>\n",
              "      <th>split1_test_f1</th>\n",
              "      <th>split2_test_f1</th>\n",
              "      <th>split3_test_f1</th>\n",
              "      <th>...</th>\n",
              "      <th>std_test_precision</th>\n",
              "      <th>rank_test_precision</th>\n",
              "      <th>split0_test_recall</th>\n",
              "      <th>split1_test_recall</th>\n",
              "      <th>split2_test_recall</th>\n",
              "      <th>split3_test_recall</th>\n",
              "      <th>split4_test_recall</th>\n",
              "      <th>mean_test_recall</th>\n",
              "      <th>std_test_recall</th>\n",
              "      <th>rank_test_recall</th>\n",
              "    </tr>\n",
              "  </thead>\n",
              "  <tbody>\n",
              "    <tr>\n",
              "      <th>0</th>\n",
              "      <td>2.059262</td>\n",
              "      <td>0.114175</td>\n",
              "      <td>0.190470</td>\n",
              "      <td>0.033320</td>\n",
              "      <td>0.1</td>\n",
              "      <td>{'C': 0.1}</td>\n",
              "      <td>0.840649</td>\n",
              "      <td>0.842007</td>\n",
              "      <td>0.843562</td>\n",
              "      <td>0.839142</td>\n",
              "      <td>...</td>\n",
              "      <td>0.00115</td>\n",
              "      <td>3</td>\n",
              "      <td>0.856231</td>\n",
              "      <td>0.861071</td>\n",
              "      <td>0.863402</td>\n",
              "      <td>0.856697</td>\n",
              "      <td>0.858311</td>\n",
              "      <td>0.859142</td>\n",
              "      <td>0.002721</td>\n",
              "      <td>1</td>\n",
              "    </tr>\n",
              "    <tr>\n",
              "      <th>1</th>\n",
              "      <td>2.017407</td>\n",
              "      <td>0.144387</td>\n",
              "      <td>0.172534</td>\n",
              "      <td>0.031320</td>\n",
              "      <td>1</td>\n",
              "      <td>{'C': 1}</td>\n",
              "      <td>0.840695</td>\n",
              "      <td>0.841878</td>\n",
              "      <td>0.843669</td>\n",
              "      <td>0.839456</td>\n",
              "      <td>...</td>\n",
              "      <td>0.00124</td>\n",
              "      <td>2</td>\n",
              "      <td>0.856052</td>\n",
              "      <td>0.860713</td>\n",
              "      <td>0.863330</td>\n",
              "      <td>0.857378</td>\n",
              "      <td>0.858024</td>\n",
              "      <td>0.859099</td>\n",
              "      <td>0.002604</td>\n",
              "      <td>3</td>\n",
              "    </tr>\n",
              "    <tr>\n",
              "      <th>2</th>\n",
              "      <td>2.292711</td>\n",
              "      <td>0.074675</td>\n",
              "      <td>0.176419</td>\n",
              "      <td>0.020845</td>\n",
              "      <td>10</td>\n",
              "      <td>{'C': 10}</td>\n",
              "      <td>0.840715</td>\n",
              "      <td>0.841878</td>\n",
              "      <td>0.843669</td>\n",
              "      <td>0.839491</td>\n",
              "      <td>...</td>\n",
              "      <td>0.00123</td>\n",
              "      <td>1</td>\n",
              "      <td>0.856088</td>\n",
              "      <td>0.860713</td>\n",
              "      <td>0.863330</td>\n",
              "      <td>0.857414</td>\n",
              "      <td>0.858060</td>\n",
              "      <td>0.859121</td>\n",
              "      <td>0.002588</td>\n",
              "      <td>2</td>\n",
              "    </tr>\n",
              "  </tbody>\n",
              "</table>\n",
              "<p>3 rows × 38 columns</p>\n",
              "</div>\n",
              "      <button class=\"colab-df-convert\" onclick=\"convertToInteractive('df-33730597-6255-4e1c-93e9-508a53032011')\"\n",
              "              title=\"Convert this dataframe to an interactive table.\"\n",
              "              style=\"display:none;\">\n",
              "        \n",
              "  <svg xmlns=\"http://www.w3.org/2000/svg\" height=\"24px\"viewBox=\"0 0 24 24\"\n",
              "       width=\"24px\">\n",
              "    <path d=\"M0 0h24v24H0V0z\" fill=\"none\"/>\n",
              "    <path d=\"M18.56 5.44l.94 2.06.94-2.06 2.06-.94-2.06-.94-.94-2.06-.94 2.06-2.06.94zm-11 1L8.5 8.5l.94-2.06 2.06-.94-2.06-.94L8.5 2.5l-.94 2.06-2.06.94zm10 10l.94 2.06.94-2.06 2.06-.94-2.06-.94-.94-2.06-.94 2.06-2.06.94z\"/><path d=\"M17.41 7.96l-1.37-1.37c-.4-.4-.92-.59-1.43-.59-.52 0-1.04.2-1.43.59L10.3 9.45l-7.72 7.72c-.78.78-.78 2.05 0 2.83L4 21.41c.39.39.9.59 1.41.59.51 0 1.02-.2 1.41-.59l7.78-7.78 2.81-2.81c.8-.78.8-2.07 0-2.86zM5.41 20L4 18.59l7.72-7.72 1.47 1.35L5.41 20z\"/>\n",
              "  </svg>\n",
              "      </button>\n",
              "      \n",
              "  <style>\n",
              "    .colab-df-container {\n",
              "      display:flex;\n",
              "      flex-wrap:wrap;\n",
              "      gap: 12px;\n",
              "    }\n",
              "\n",
              "    .colab-df-convert {\n",
              "      background-color: #E8F0FE;\n",
              "      border: none;\n",
              "      border-radius: 50%;\n",
              "      cursor: pointer;\n",
              "      display: none;\n",
              "      fill: #1967D2;\n",
              "      height: 32px;\n",
              "      padding: 0 0 0 0;\n",
              "      width: 32px;\n",
              "    }\n",
              "\n",
              "    .colab-df-convert:hover {\n",
              "      background-color: #E2EBFA;\n",
              "      box-shadow: 0px 1px 2px rgba(60, 64, 67, 0.3), 0px 1px 3px 1px rgba(60, 64, 67, 0.15);\n",
              "      fill: #174EA6;\n",
              "    }\n",
              "\n",
              "    [theme=dark] .colab-df-convert {\n",
              "      background-color: #3B4455;\n",
              "      fill: #D2E3FC;\n",
              "    }\n",
              "\n",
              "    [theme=dark] .colab-df-convert:hover {\n",
              "      background-color: #434B5C;\n",
              "      box-shadow: 0px 1px 3px 1px rgba(0, 0, 0, 0.15);\n",
              "      filter: drop-shadow(0px 1px 2px rgba(0, 0, 0, 0.3));\n",
              "      fill: #FFFFFF;\n",
              "    }\n",
              "  </style>\n",
              "\n",
              "      <script>\n",
              "        const buttonEl =\n",
              "          document.querySelector('#df-33730597-6255-4e1c-93e9-508a53032011 button.colab-df-convert');\n",
              "        buttonEl.style.display =\n",
              "          google.colab.kernel.accessAllowed ? 'block' : 'none';\n",
              "\n",
              "        async function convertToInteractive(key) {\n",
              "          const element = document.querySelector('#df-33730597-6255-4e1c-93e9-508a53032011');\n",
              "          const dataTable =\n",
              "            await google.colab.kernel.invokeFunction('convertToInteractive',\n",
              "                                                     [key], {});\n",
              "          if (!dataTable) return;\n",
              "\n",
              "          const docLinkHtml = 'Like what you see? Visit the ' +\n",
              "            '<a target=\"_blank\" href=https://colab.research.google.com/notebooks/data_table.ipynb>data table notebook</a>'\n",
              "            + ' to learn more about interactive tables.';\n",
              "          element.innerHTML = '';\n",
              "          dataTable['output_type'] = 'display_data';\n",
              "          await google.colab.output.renderOutput(dataTable, element);\n",
              "          const docLink = document.createElement('div');\n",
              "          docLink.innerHTML = docLinkHtml;\n",
              "          element.appendChild(docLink);\n",
              "        }\n",
              "      </script>\n",
              "    </div>\n",
              "  </div>\n",
              "  "
            ]
          },
          "metadata": {},
          "execution_count": 43
        }
      ]
    },
    {
      "cell_type": "code",
      "source": [
        "# Fit the GridSearchCV object to the data\n",
        "grid.fit(X_train_feature_reduced_SMOTE, y_train_feature_reduced_SMOTE)\n",
        "\n",
        "# Print the best hyperparameters and their corresponding score\n",
        "print(\"Best hyperparameters: \", grid.best_params_)\n",
        "print(\"Best score: \", grid.best_score_)\n",
        "pd.DataFrame(grid.cv_results_)"
      ],
      "metadata": {
        "id": "5kaKBqriGUfo",
        "outputId": "6e14782b-8427-4d84-f258-f8f170e4fbd6",
        "colab": {
          "base_uri": "https://localhost:8080/",
          "height": 306
        }
      },
      "execution_count": 44,
      "outputs": [
        {
          "output_type": "stream",
          "name": "stdout",
          "text": [
            "Best hyperparameters:  {'C': 0.1}\n",
            "Best score:  0.839679581266572\n"
          ]
        },
        {
          "output_type": "execute_result",
          "data": {
            "text/plain": [
              "   mean_fit_time  std_fit_time  mean_score_time  std_score_time param_C  \\\n",
              "0       0.988979      0.201042         0.137915        0.005875     0.1   \n",
              "1       0.936412      0.138504         0.171955        0.036312       1   \n",
              "2       0.925451      0.052612         0.141560        0.008479      10   \n",
              "\n",
              "       params  split0_test_f1  split1_test_f1  split2_test_f1  split3_test_f1  \\\n",
              "0  {'C': 0.1}        0.840292        0.840261        0.837538        0.840714   \n",
              "1    {'C': 1}        0.840292        0.840220        0.837527        0.840738   \n",
              "2   {'C': 10}        0.840292        0.840220        0.837527        0.840738   \n",
              "\n",
              "   ...  std_test_precision  rank_test_precision  split0_test_recall  \\\n",
              "0  ...            0.001598                    3            0.856877   \n",
              "1  ...            0.001637                    1            0.856877   \n",
              "2  ...            0.001637                    1            0.856877   \n",
              "\n",
              "   split1_test_recall  split2_test_recall  split3_test_recall  \\\n",
              "0            0.855550            0.851606            0.854188   \n",
              "1            0.855478            0.851534            0.854152   \n",
              "2            0.855478            0.851534            0.854152   \n",
              "\n",
              "   split4_test_recall  mean_test_recall  std_test_recall  rank_test_recall  \n",
              "0            0.856841          0.855012         0.001969                 1  \n",
              "1            0.856912          0.854991         0.002007                 2  \n",
              "2            0.856912          0.854991         0.002007                 2  \n",
              "\n",
              "[3 rows x 38 columns]"
            ],
            "text/html": [
              "\n",
              "  <div id=\"df-4f888f0c-84f4-441a-9820-72fb48bf9a7f\">\n",
              "    <div class=\"colab-df-container\">\n",
              "      <div>\n",
              "<style scoped>\n",
              "    .dataframe tbody tr th:only-of-type {\n",
              "        vertical-align: middle;\n",
              "    }\n",
              "\n",
              "    .dataframe tbody tr th {\n",
              "        vertical-align: top;\n",
              "    }\n",
              "\n",
              "    .dataframe thead th {\n",
              "        text-align: right;\n",
              "    }\n",
              "</style>\n",
              "<table border=\"1\" class=\"dataframe\">\n",
              "  <thead>\n",
              "    <tr style=\"text-align: right;\">\n",
              "      <th></th>\n",
              "      <th>mean_fit_time</th>\n",
              "      <th>std_fit_time</th>\n",
              "      <th>mean_score_time</th>\n",
              "      <th>std_score_time</th>\n",
              "      <th>param_C</th>\n",
              "      <th>params</th>\n",
              "      <th>split0_test_f1</th>\n",
              "      <th>split1_test_f1</th>\n",
              "      <th>split2_test_f1</th>\n",
              "      <th>split3_test_f1</th>\n",
              "      <th>...</th>\n",
              "      <th>std_test_precision</th>\n",
              "      <th>rank_test_precision</th>\n",
              "      <th>split0_test_recall</th>\n",
              "      <th>split1_test_recall</th>\n",
              "      <th>split2_test_recall</th>\n",
              "      <th>split3_test_recall</th>\n",
              "      <th>split4_test_recall</th>\n",
              "      <th>mean_test_recall</th>\n",
              "      <th>std_test_recall</th>\n",
              "      <th>rank_test_recall</th>\n",
              "    </tr>\n",
              "  </thead>\n",
              "  <tbody>\n",
              "    <tr>\n",
              "      <th>0</th>\n",
              "      <td>0.988979</td>\n",
              "      <td>0.201042</td>\n",
              "      <td>0.137915</td>\n",
              "      <td>0.005875</td>\n",
              "      <td>0.1</td>\n",
              "      <td>{'C': 0.1}</td>\n",
              "      <td>0.840292</td>\n",
              "      <td>0.840261</td>\n",
              "      <td>0.837538</td>\n",
              "      <td>0.840714</td>\n",
              "      <td>...</td>\n",
              "      <td>0.001598</td>\n",
              "      <td>3</td>\n",
              "      <td>0.856877</td>\n",
              "      <td>0.855550</td>\n",
              "      <td>0.851606</td>\n",
              "      <td>0.854188</td>\n",
              "      <td>0.856841</td>\n",
              "      <td>0.855012</td>\n",
              "      <td>0.001969</td>\n",
              "      <td>1</td>\n",
              "    </tr>\n",
              "    <tr>\n",
              "      <th>1</th>\n",
              "      <td>0.936412</td>\n",
              "      <td>0.138504</td>\n",
              "      <td>0.171955</td>\n",
              "      <td>0.036312</td>\n",
              "      <td>1</td>\n",
              "      <td>{'C': 1}</td>\n",
              "      <td>0.840292</td>\n",
              "      <td>0.840220</td>\n",
              "      <td>0.837527</td>\n",
              "      <td>0.840738</td>\n",
              "      <td>...</td>\n",
              "      <td>0.001637</td>\n",
              "      <td>1</td>\n",
              "      <td>0.856877</td>\n",
              "      <td>0.855478</td>\n",
              "      <td>0.851534</td>\n",
              "      <td>0.854152</td>\n",
              "      <td>0.856912</td>\n",
              "      <td>0.854991</td>\n",
              "      <td>0.002007</td>\n",
              "      <td>2</td>\n",
              "    </tr>\n",
              "    <tr>\n",
              "      <th>2</th>\n",
              "      <td>0.925451</td>\n",
              "      <td>0.052612</td>\n",
              "      <td>0.141560</td>\n",
              "      <td>0.008479</td>\n",
              "      <td>10</td>\n",
              "      <td>{'C': 10}</td>\n",
              "      <td>0.840292</td>\n",
              "      <td>0.840220</td>\n",
              "      <td>0.837527</td>\n",
              "      <td>0.840738</td>\n",
              "      <td>...</td>\n",
              "      <td>0.001637</td>\n",
              "      <td>1</td>\n",
              "      <td>0.856877</td>\n",
              "      <td>0.855478</td>\n",
              "      <td>0.851534</td>\n",
              "      <td>0.854152</td>\n",
              "      <td>0.856912</td>\n",
              "      <td>0.854991</td>\n",
              "      <td>0.002007</td>\n",
              "      <td>2</td>\n",
              "    </tr>\n",
              "  </tbody>\n",
              "</table>\n",
              "<p>3 rows × 38 columns</p>\n",
              "</div>\n",
              "      <button class=\"colab-df-convert\" onclick=\"convertToInteractive('df-4f888f0c-84f4-441a-9820-72fb48bf9a7f')\"\n",
              "              title=\"Convert this dataframe to an interactive table.\"\n",
              "              style=\"display:none;\">\n",
              "        \n",
              "  <svg xmlns=\"http://www.w3.org/2000/svg\" height=\"24px\"viewBox=\"0 0 24 24\"\n",
              "       width=\"24px\">\n",
              "    <path d=\"M0 0h24v24H0V0z\" fill=\"none\"/>\n",
              "    <path d=\"M18.56 5.44l.94 2.06.94-2.06 2.06-.94-2.06-.94-.94-2.06-.94 2.06-2.06.94zm-11 1L8.5 8.5l.94-2.06 2.06-.94-2.06-.94L8.5 2.5l-.94 2.06-2.06.94zm10 10l.94 2.06.94-2.06 2.06-.94-2.06-.94-.94-2.06-.94 2.06-2.06.94z\"/><path d=\"M17.41 7.96l-1.37-1.37c-.4-.4-.92-.59-1.43-.59-.52 0-1.04.2-1.43.59L10.3 9.45l-7.72 7.72c-.78.78-.78 2.05 0 2.83L4 21.41c.39.39.9.59 1.41.59.51 0 1.02-.2 1.41-.59l7.78-7.78 2.81-2.81c.8-.78.8-2.07 0-2.86zM5.41 20L4 18.59l7.72-7.72 1.47 1.35L5.41 20z\"/>\n",
              "  </svg>\n",
              "      </button>\n",
              "      \n",
              "  <style>\n",
              "    .colab-df-container {\n",
              "      display:flex;\n",
              "      flex-wrap:wrap;\n",
              "      gap: 12px;\n",
              "    }\n",
              "\n",
              "    .colab-df-convert {\n",
              "      background-color: #E8F0FE;\n",
              "      border: none;\n",
              "      border-radius: 50%;\n",
              "      cursor: pointer;\n",
              "      display: none;\n",
              "      fill: #1967D2;\n",
              "      height: 32px;\n",
              "      padding: 0 0 0 0;\n",
              "      width: 32px;\n",
              "    }\n",
              "\n",
              "    .colab-df-convert:hover {\n",
              "      background-color: #E2EBFA;\n",
              "      box-shadow: 0px 1px 2px rgba(60, 64, 67, 0.3), 0px 1px 3px 1px rgba(60, 64, 67, 0.15);\n",
              "      fill: #174EA6;\n",
              "    }\n",
              "\n",
              "    [theme=dark] .colab-df-convert {\n",
              "      background-color: #3B4455;\n",
              "      fill: #D2E3FC;\n",
              "    }\n",
              "\n",
              "    [theme=dark] .colab-df-convert:hover {\n",
              "      background-color: #434B5C;\n",
              "      box-shadow: 0px 1px 3px 1px rgba(0, 0, 0, 0.15);\n",
              "      filter: drop-shadow(0px 1px 2px rgba(0, 0, 0, 0.3));\n",
              "      fill: #FFFFFF;\n",
              "    }\n",
              "  </style>\n",
              "\n",
              "      <script>\n",
              "        const buttonEl =\n",
              "          document.querySelector('#df-4f888f0c-84f4-441a-9820-72fb48bf9a7f button.colab-df-convert');\n",
              "        buttonEl.style.display =\n",
              "          google.colab.kernel.accessAllowed ? 'block' : 'none';\n",
              "\n",
              "        async function convertToInteractive(key) {\n",
              "          const element = document.querySelector('#df-4f888f0c-84f4-441a-9820-72fb48bf9a7f');\n",
              "          const dataTable =\n",
              "            await google.colab.kernel.invokeFunction('convertToInteractive',\n",
              "                                                     [key], {});\n",
              "          if (!dataTable) return;\n",
              "\n",
              "          const docLinkHtml = 'Like what you see? Visit the ' +\n",
              "            '<a target=\"_blank\" href=https://colab.research.google.com/notebooks/data_table.ipynb>data table notebook</a>'\n",
              "            + ' to learn more about interactive tables.';\n",
              "          element.innerHTML = '';\n",
              "          dataTable['output_type'] = 'display_data';\n",
              "          await google.colab.output.renderOutput(dataTable, element);\n",
              "          const docLink = document.createElement('div');\n",
              "          docLink.innerHTML = docLinkHtml;\n",
              "          element.appendChild(docLink);\n",
              "        }\n",
              "      </script>\n",
              "    </div>\n",
              "  </div>\n",
              "  "
            ]
          },
          "metadata": {},
          "execution_count": 44
        }
      ]
    },
    {
      "cell_type": "markdown",
      "source": [
        "Best Results are obtained for the model trained on Resampled training data and hence we will get the performance metrics for the same "
      ],
      "metadata": {
        "id": "o6LMWmApGsMZ"
      }
    },
    {
      "cell_type": "code",
      "source": [
        "best_lr = LogisticRegression(penalty='l2', solver='liblinear', C=1)\n",
        "\n",
        "best_lr.fit(X_train_SMOTE, y_train_SMOTE)\n",
        "\n",
        "y_pred = best_lr.predict(X_test)\n",
        "\n",
        "print(classification_report(y_test, y_pred))\n",
        "print(confusion_matrix(y_test, y_pred))"
      ],
      "metadata": {
        "id": "Ym0ib-mmGrJj",
        "outputId": "f1106847-7c0c-4949-a46d-a15cb144b311",
        "colab": {
          "base_uri": "https://localhost:8080/"
        }
      },
      "execution_count": 45,
      "outputs": [
        {
          "output_type": "stream",
          "name": "stdout",
          "text": [
            "              precision    recall  f1-score   support\n",
            "\n",
            "           0       0.99      0.91      0.95    236643\n",
            "           1       0.43      0.86      0.57     18771\n",
            "\n",
            "    accuracy                           0.90    255414\n",
            "   macro avg       0.71      0.88      0.76    255414\n",
            "weighted avg       0.95      0.90      0.92    255414\n",
            "\n",
            "[[214975  21668]\n",
            " [  2658  16113]]\n"
          ]
        }
      ]
    },
    {
      "cell_type": "code",
      "source": [
        "best_lr2 = LogisticRegression(penalty='l1', solver='liblinear', C=1)\n",
        "\n",
        "best_lr2.fit(X_train_SMOTE, y_train_SMOTE)\n",
        "\n",
        "y_pred = best_lr2.predict(X_test)\n",
        "\n",
        "print(classification_report(y_test, y_pred))\n",
        "print(confusion_matrix(y_test, y_pred))"
      ],
      "metadata": {
        "id": "o3DX9rzbHmDl",
        "outputId": "77fbd3d2-24a4-4984-bf4f-b13428c2b737",
        "colab": {
          "base_uri": "https://localhost:8080/"
        }
      },
      "execution_count": 46,
      "outputs": [
        {
          "output_type": "stream",
          "name": "stdout",
          "text": [
            "              precision    recall  f1-score   support\n",
            "\n",
            "           0       0.99      0.91      0.95    236643\n",
            "           1       0.43      0.86      0.57     18771\n",
            "\n",
            "    accuracy                           0.90    255414\n",
            "   macro avg       0.71      0.88      0.76    255414\n",
            "weighted avg       0.95      0.90      0.92    255414\n",
            "\n",
            "[[214972  21671]\n",
            " [  2659  16112]]\n"
          ]
        }
      ]
    },
    {
      "cell_type": "markdown",
      "source": [
        "##### Observations\n"
      ],
      "metadata": {
        "id": "WriKs0TTHvI2"
      }
    },
    {
      "cell_type": "markdown",
      "source": [
        "We see that even though the scores for the best models are high , on the Test set, the precision is quite low and recall is high for the positive samples (Samples where patients have died due to covid).\n",
        "\n",
        "Number of flase positives is greater than the number of true positives which is not a sign of a good model\n",
        "\n",
        "We would want to have a better precision compared to the best Logistsic regression model"
      ],
      "metadata": {
        "id": "jU5qKonSH00u"
      }
    },
    {
      "cell_type": "markdown",
      "source": [
        "####XGBoost"
      ],
      "metadata": {
        "id": "FTowYrLlIRDr"
      }
    },
    {
      "cell_type": "code",
      "source": [
        "import xgboost as xgb\n",
        "from sklearn.model_selection import GridSearchCV\n",
        "\n",
        "# Define parameter grid\n",
        "param_grid = {\n",
        "    'max_depth': [3,20],\n",
        "    'min_samples_leaf': [2,11]\n",
        "}\n",
        "# Create XGBoost model\n",
        "xgb_model = xgb.XGBClassifier(n_estimators=20, min_samples_split=11)\n",
        "\n",
        "# Create GridSearchCV object\n",
        "grid = GridSearchCV(estimator=xgb_model, param_grid=param_grid, \n",
        "                           scoring=['f1','accuracy','precision', 'recall'], refit='f1', cv=5)\n"
      ],
      "metadata": {
        "id": "kb9eKX4rKCBh"
      },
      "execution_count": 49,
      "outputs": []
    },
    {
      "cell_type": "code",
      "source": [
        "# Fit the model\n",
        "grid.fit(X_train, y_train)\n",
        "\n",
        "# Print best hyperparameters and corresponding score\n",
        "print(\"Best parameters: \", grid.best_params_)\n",
        "print(\"Best score: \", grid.best_score_)\n",
        "pd.DataFrame(grid.cv_results_)"
      ],
      "metadata": {
        "id": "-IiPOw-MKhxJ",
        "outputId": "07bd01a3-a4d2-468a-eaed-f9fb9ef95f07",
        "colab": {
          "base_uri": "https://localhost:8080/",
          "height": 1000
        }
      },
      "execution_count": 365,
      "outputs": [
        {
          "output_type": "stream",
          "name": "stdout",
          "text": [
            "[15:45:21] WARNING: ../src/learner.cc:767: \n",
            "Parameters: { \"min_samples_leaf\", \"min_samples_split\" } are not used.\n",
            "\n",
            "[15:45:31] WARNING: ../src/learner.cc:767: \n",
            "Parameters: { \"min_samples_leaf\", \"min_samples_split\" } are not used.\n",
            "\n",
            "[15:45:42] WARNING: ../src/learner.cc:767: \n",
            "Parameters: { \"min_samples_leaf\", \"min_samples_split\" } are not used.\n",
            "\n",
            "[15:45:52] WARNING: ../src/learner.cc:767: \n",
            "Parameters: { \"min_samples_leaf\", \"min_samples_split\" } are not used.\n",
            "\n",
            "[15:46:02] WARNING: ../src/learner.cc:767: \n",
            "Parameters: { \"min_samples_leaf\", \"min_samples_split\" } are not used.\n",
            "\n",
            "[15:46:12] WARNING: ../src/learner.cc:767: \n",
            "Parameters: { \"min_samples_leaf\", \"min_samples_split\" } are not used.\n",
            "\n",
            "[15:46:22] WARNING: ../src/learner.cc:767: \n",
            "Parameters: { \"min_samples_leaf\", \"min_samples_split\" } are not used.\n",
            "\n",
            "[15:46:33] WARNING: ../src/learner.cc:767: \n",
            "Parameters: { \"min_samples_leaf\", \"min_samples_split\" } are not used.\n",
            "\n",
            "[15:46:43] WARNING: ../src/learner.cc:767: \n",
            "Parameters: { \"min_samples_leaf\", \"min_samples_split\" } are not used.\n",
            "\n",
            "[15:46:52] WARNING: ../src/learner.cc:767: \n",
            "Parameters: { \"min_samples_leaf\", \"min_samples_split\" } are not used.\n",
            "\n",
            "[15:47:03] WARNING: ../src/learner.cc:767: \n",
            "Parameters: { \"min_samples_leaf\", \"min_samples_split\" } are not used.\n",
            "\n",
            "[15:48:09] WARNING: ../src/learner.cc:767: \n",
            "Parameters: { \"min_samples_leaf\", \"min_samples_split\" } are not used.\n",
            "\n",
            "[15:49:16] WARNING: ../src/learner.cc:767: \n",
            "Parameters: { \"min_samples_leaf\", \"min_samples_split\" } are not used.\n",
            "\n",
            "[15:50:21] WARNING: ../src/learner.cc:767: \n",
            "Parameters: { \"min_samples_leaf\", \"min_samples_split\" } are not used.\n",
            "\n",
            "[15:51:27] WARNING: ../src/learner.cc:767: \n",
            "Parameters: { \"min_samples_leaf\", \"min_samples_split\" } are not used.\n",
            "\n",
            "[15:52:35] WARNING: ../src/learner.cc:767: \n",
            "Parameters: { \"min_samples_leaf\", \"min_samples_split\" } are not used.\n",
            "\n",
            "[15:53:43] WARNING: ../src/learner.cc:767: \n",
            "Parameters: { \"min_samples_leaf\", \"min_samples_split\" } are not used.\n",
            "\n",
            "[15:54:48] WARNING: ../src/learner.cc:767: \n",
            "Parameters: { \"min_samples_leaf\", \"min_samples_split\" } are not used.\n",
            "\n",
            "[15:55:54] WARNING: ../src/learner.cc:767: \n",
            "Parameters: { \"min_samples_leaf\", \"min_samples_split\" } are not used.\n",
            "\n",
            "[15:57:00] WARNING: ../src/learner.cc:767: \n",
            "Parameters: { \"min_samples_leaf\", \"min_samples_split\" } are not used.\n",
            "\n",
            "[15:58:07] WARNING: ../src/learner.cc:767: \n",
            "Parameters: { \"min_samples_leaf\", \"min_samples_split\" } are not used.\n",
            "\n",
            "Best parameters:  {'max_depth': 20, 'min_samples_leaf': 2}\n",
            "Best score:  0.4700545130350271\n"
          ]
        },
        {
          "output_type": "execute_result",
          "data": {
            "text/plain": [
              "   mean_fit_time  std_fit_time  mean_score_time  std_score_time  \\\n",
              "0      10.004291      0.620377         0.225916        0.006277   \n",
              "1       9.969363      0.552295         0.238792        0.023797   \n",
              "2      65.936904      0.614866         0.411137        0.009094   \n",
              "3      66.045431      0.941801         0.412101        0.008134   \n",
              "\n",
              "  param_max_depth param_min_samples_leaf  \\\n",
              "0               3                      2   \n",
              "1               3                     11   \n",
              "2              20                      2   \n",
              "3              20                     11   \n",
              "\n",
              "                                      params  split0_test_f1  split1_test_f1  \\\n",
              "0    {'max_depth': 3, 'min_samples_leaf': 2}        0.449491        0.452013   \n",
              "1   {'max_depth': 3, 'min_samples_leaf': 11}        0.449491        0.452013   \n",
              "2   {'max_depth': 20, 'min_samples_leaf': 2}        0.472809        0.477802   \n",
              "3  {'max_depth': 20, 'min_samples_leaf': 11}        0.472809        0.477802   \n",
              "\n",
              "   split2_test_f1  ...  std_test_precision  rank_test_precision  \\\n",
              "0        0.445683  ...            0.008558                    1   \n",
              "1        0.445683  ...            0.008558                    1   \n",
              "2        0.459808  ...            0.008893                    3   \n",
              "3        0.459808  ...            0.008893                    3   \n",
              "\n",
              "   split0_test_recall  split1_test_recall  split2_test_recall  \\\n",
              "0            0.344982            0.348110            0.346501   \n",
              "1            0.344982            0.348110            0.346501   \n",
              "2            0.387345            0.394852            0.378050   \n",
              "3            0.387345            0.394852            0.378050   \n",
              "\n",
              "   split3_test_recall  split4_test_recall  mean_test_recall  std_test_recall  \\\n",
              "0            0.329431            0.362588          0.346322         0.010535   \n",
              "1            0.329431            0.362588          0.346322         0.010535   \n",
              "2            0.394226            0.382787          0.387452         0.006494   \n",
              "3            0.394226            0.382787          0.387452         0.006494   \n",
              "\n",
              "   rank_test_recall  \n",
              "0                 3  \n",
              "1                 3  \n",
              "2                 1  \n",
              "3                 1  \n",
              "\n",
              "[4 rows x 39 columns]"
            ],
            "text/html": [
              "\n",
              "  <div id=\"df-264ea468-48ff-45a7-a6d6-67010f49f67e\">\n",
              "    <div class=\"colab-df-container\">\n",
              "      <div>\n",
              "<style scoped>\n",
              "    .dataframe tbody tr th:only-of-type {\n",
              "        vertical-align: middle;\n",
              "    }\n",
              "\n",
              "    .dataframe tbody tr th {\n",
              "        vertical-align: top;\n",
              "    }\n",
              "\n",
              "    .dataframe thead th {\n",
              "        text-align: right;\n",
              "    }\n",
              "</style>\n",
              "<table border=\"1\" class=\"dataframe\">\n",
              "  <thead>\n",
              "    <tr style=\"text-align: right;\">\n",
              "      <th></th>\n",
              "      <th>mean_fit_time</th>\n",
              "      <th>std_fit_time</th>\n",
              "      <th>mean_score_time</th>\n",
              "      <th>std_score_time</th>\n",
              "      <th>param_max_depth</th>\n",
              "      <th>param_min_samples_leaf</th>\n",
              "      <th>params</th>\n",
              "      <th>split0_test_f1</th>\n",
              "      <th>split1_test_f1</th>\n",
              "      <th>split2_test_f1</th>\n",
              "      <th>...</th>\n",
              "      <th>std_test_precision</th>\n",
              "      <th>rank_test_precision</th>\n",
              "      <th>split0_test_recall</th>\n",
              "      <th>split1_test_recall</th>\n",
              "      <th>split2_test_recall</th>\n",
              "      <th>split3_test_recall</th>\n",
              "      <th>split4_test_recall</th>\n",
              "      <th>mean_test_recall</th>\n",
              "      <th>std_test_recall</th>\n",
              "      <th>rank_test_recall</th>\n",
              "    </tr>\n",
              "  </thead>\n",
              "  <tbody>\n",
              "    <tr>\n",
              "      <th>0</th>\n",
              "      <td>10.004291</td>\n",
              "      <td>0.620377</td>\n",
              "      <td>0.225916</td>\n",
              "      <td>0.006277</td>\n",
              "      <td>3</td>\n",
              "      <td>2</td>\n",
              "      <td>{'max_depth': 3, 'min_samples_leaf': 2}</td>\n",
              "      <td>0.449491</td>\n",
              "      <td>0.452013</td>\n",
              "      <td>0.445683</td>\n",
              "      <td>...</td>\n",
              "      <td>0.008558</td>\n",
              "      <td>1</td>\n",
              "      <td>0.344982</td>\n",
              "      <td>0.348110</td>\n",
              "      <td>0.346501</td>\n",
              "      <td>0.329431</td>\n",
              "      <td>0.362588</td>\n",
              "      <td>0.346322</td>\n",
              "      <td>0.010535</td>\n",
              "      <td>3</td>\n",
              "    </tr>\n",
              "    <tr>\n",
              "      <th>1</th>\n",
              "      <td>9.969363</td>\n",
              "      <td>0.552295</td>\n",
              "      <td>0.238792</td>\n",
              "      <td>0.023797</td>\n",
              "      <td>3</td>\n",
              "      <td>11</td>\n",
              "      <td>{'max_depth': 3, 'min_samples_leaf': 11}</td>\n",
              "      <td>0.449491</td>\n",
              "      <td>0.452013</td>\n",
              "      <td>0.445683</td>\n",
              "      <td>...</td>\n",
              "      <td>0.008558</td>\n",
              "      <td>1</td>\n",
              "      <td>0.344982</td>\n",
              "      <td>0.348110</td>\n",
              "      <td>0.346501</td>\n",
              "      <td>0.329431</td>\n",
              "      <td>0.362588</td>\n",
              "      <td>0.346322</td>\n",
              "      <td>0.010535</td>\n",
              "      <td>3</td>\n",
              "    </tr>\n",
              "    <tr>\n",
              "      <th>2</th>\n",
              "      <td>65.936904</td>\n",
              "      <td>0.614866</td>\n",
              "      <td>0.411137</td>\n",
              "      <td>0.009094</td>\n",
              "      <td>20</td>\n",
              "      <td>2</td>\n",
              "      <td>{'max_depth': 20, 'min_samples_leaf': 2}</td>\n",
              "      <td>0.472809</td>\n",
              "      <td>0.477802</td>\n",
              "      <td>0.459808</td>\n",
              "      <td>...</td>\n",
              "      <td>0.008893</td>\n",
              "      <td>3</td>\n",
              "      <td>0.387345</td>\n",
              "      <td>0.394852</td>\n",
              "      <td>0.378050</td>\n",
              "      <td>0.394226</td>\n",
              "      <td>0.382787</td>\n",
              "      <td>0.387452</td>\n",
              "      <td>0.006494</td>\n",
              "      <td>1</td>\n",
              "    </tr>\n",
              "    <tr>\n",
              "      <th>3</th>\n",
              "      <td>66.045431</td>\n",
              "      <td>0.941801</td>\n",
              "      <td>0.412101</td>\n",
              "      <td>0.008134</td>\n",
              "      <td>20</td>\n",
              "      <td>11</td>\n",
              "      <td>{'max_depth': 20, 'min_samples_leaf': 11}</td>\n",
              "      <td>0.472809</td>\n",
              "      <td>0.477802</td>\n",
              "      <td>0.459808</td>\n",
              "      <td>...</td>\n",
              "      <td>0.008893</td>\n",
              "      <td>3</td>\n",
              "      <td>0.387345</td>\n",
              "      <td>0.394852</td>\n",
              "      <td>0.378050</td>\n",
              "      <td>0.394226</td>\n",
              "      <td>0.382787</td>\n",
              "      <td>0.387452</td>\n",
              "      <td>0.006494</td>\n",
              "      <td>1</td>\n",
              "    </tr>\n",
              "  </tbody>\n",
              "</table>\n",
              "<p>4 rows × 39 columns</p>\n",
              "</div>\n",
              "      <button class=\"colab-df-convert\" onclick=\"convertToInteractive('df-264ea468-48ff-45a7-a6d6-67010f49f67e')\"\n",
              "              title=\"Convert this dataframe to an interactive table.\"\n",
              "              style=\"display:none;\">\n",
              "        \n",
              "  <svg xmlns=\"http://www.w3.org/2000/svg\" height=\"24px\"viewBox=\"0 0 24 24\"\n",
              "       width=\"24px\">\n",
              "    <path d=\"M0 0h24v24H0V0z\" fill=\"none\"/>\n",
              "    <path d=\"M18.56 5.44l.94 2.06.94-2.06 2.06-.94-2.06-.94-.94-2.06-.94 2.06-2.06.94zm-11 1L8.5 8.5l.94-2.06 2.06-.94-2.06-.94L8.5 2.5l-.94 2.06-2.06.94zm10 10l.94 2.06.94-2.06 2.06-.94-2.06-.94-.94-2.06-.94 2.06-2.06.94z\"/><path d=\"M17.41 7.96l-1.37-1.37c-.4-.4-.92-.59-1.43-.59-.52 0-1.04.2-1.43.59L10.3 9.45l-7.72 7.72c-.78.78-.78 2.05 0 2.83L4 21.41c.39.39.9.59 1.41.59.51 0 1.02-.2 1.41-.59l7.78-7.78 2.81-2.81c.8-.78.8-2.07 0-2.86zM5.41 20L4 18.59l7.72-7.72 1.47 1.35L5.41 20z\"/>\n",
              "  </svg>\n",
              "      </button>\n",
              "      \n",
              "  <style>\n",
              "    .colab-df-container {\n",
              "      display:flex;\n",
              "      flex-wrap:wrap;\n",
              "      gap: 12px;\n",
              "    }\n",
              "\n",
              "    .colab-df-convert {\n",
              "      background-color: #E8F0FE;\n",
              "      border: none;\n",
              "      border-radius: 50%;\n",
              "      cursor: pointer;\n",
              "      display: none;\n",
              "      fill: #1967D2;\n",
              "      height: 32px;\n",
              "      padding: 0 0 0 0;\n",
              "      width: 32px;\n",
              "    }\n",
              "\n",
              "    .colab-df-convert:hover {\n",
              "      background-color: #E2EBFA;\n",
              "      box-shadow: 0px 1px 2px rgba(60, 64, 67, 0.3), 0px 1px 3px 1px rgba(60, 64, 67, 0.15);\n",
              "      fill: #174EA6;\n",
              "    }\n",
              "\n",
              "    [theme=dark] .colab-df-convert {\n",
              "      background-color: #3B4455;\n",
              "      fill: #D2E3FC;\n",
              "    }\n",
              "\n",
              "    [theme=dark] .colab-df-convert:hover {\n",
              "      background-color: #434B5C;\n",
              "      box-shadow: 0px 1px 3px 1px rgba(0, 0, 0, 0.15);\n",
              "      filter: drop-shadow(0px 1px 2px rgba(0, 0, 0, 0.3));\n",
              "      fill: #FFFFFF;\n",
              "    }\n",
              "  </style>\n",
              "\n",
              "      <script>\n",
              "        const buttonEl =\n",
              "          document.querySelector('#df-264ea468-48ff-45a7-a6d6-67010f49f67e button.colab-df-convert');\n",
              "        buttonEl.style.display =\n",
              "          google.colab.kernel.accessAllowed ? 'block' : 'none';\n",
              "\n",
              "        async function convertToInteractive(key) {\n",
              "          const element = document.querySelector('#df-264ea468-48ff-45a7-a6d6-67010f49f67e');\n",
              "          const dataTable =\n",
              "            await google.colab.kernel.invokeFunction('convertToInteractive',\n",
              "                                                     [key], {});\n",
              "          if (!dataTable) return;\n",
              "\n",
              "          const docLinkHtml = 'Like what you see? Visit the ' +\n",
              "            '<a target=\"_blank\" href=https://colab.research.google.com/notebooks/data_table.ipynb>data table notebook</a>'\n",
              "            + ' to learn more about interactive tables.';\n",
              "          element.innerHTML = '';\n",
              "          dataTable['output_type'] = 'display_data';\n",
              "          await google.colab.output.renderOutput(dataTable, element);\n",
              "          const docLink = document.createElement('div');\n",
              "          docLink.innerHTML = docLinkHtml;\n",
              "          element.appendChild(docLink);\n",
              "        }\n",
              "      </script>\n",
              "    </div>\n",
              "  </div>\n",
              "  "
            ]
          },
          "metadata": {},
          "execution_count": 365
        }
      ]
    },
    {
      "cell_type": "markdown",
      "source": [
        "Best model is got with hyperparameters {'max_depth': 20, 'min_samples_leaf': 2 or 11}\n",
        "we wil fit the training set with this model and observe the classification report "
      ],
      "metadata": {
        "id": "0V4zVByS-jce"
      }
    },
    {
      "cell_type": "code",
      "source": [
        "xgb_best_model = xgb.XGBClassifier(n_estimators=20, min_samples_split=11, max_depth= 20, min_samples_leaf= 2)\n",
        "\n",
        "X_train, y_train = shuffle(X_train, y_train, random_state=2023)\n",
        "xgb_best_model.fit(X_train, y_train)\n",
        "\n",
        "y_pred = xgb_best_model.predict(X_test)\n",
        "\n",
        "print(classification_report(y_test, y_pred))\n",
        "print(confusion_matrix(y_test, y_pred))"
      ],
      "metadata": {
        "id": "kDW23ap--iZY",
        "outputId": "5c7bd515-3d04-45d6-d6eb-79306fbf9f25",
        "colab": {
          "base_uri": "https://localhost:8080/"
        }
      },
      "execution_count": 50,
      "outputs": [
        {
          "output_type": "stream",
          "name": "stdout",
          "text": [
            "[17:22:46] WARNING: ../src/learner.cc:767: \n",
            "Parameters: { \"min_samples_leaf\", \"min_samples_split\" } are not used.\n",
            "\n",
            "              precision    recall  f1-score   support\n",
            "\n",
            "           0       0.95      0.98      0.97    236643\n",
            "           1       0.60      0.37      0.46     18771\n",
            "\n",
            "    accuracy                           0.94    255414\n",
            "   macro avg       0.77      0.68      0.71    255414\n",
            "weighted avg       0.93      0.94      0.93    255414\n",
            "\n",
            "[[231918   4725]\n",
            " [ 11752   7019]]\n"
          ]
        }
      ]
    },
    {
      "cell_type": "code",
      "source": [
        "X_train_feature_reduced , y_train_feature_reduced = shuffle(X_train_feature_reduced , y_train_feature_reduced, random_state=2023)\n",
        "xgb_best_model.fit(X_train_feature_reduced , y_train_feature_reduced)\n",
        "\n",
        "y_pred = xgb_best_model.predict(X_test_feature_reduced)\n",
        "\n",
        "print(classification_report(y_test_feature_reduced, y_pred))\n",
        "print(confusion_matrix(y_test_feature_reduced, y_pred))"
      ],
      "metadata": {
        "id": "fnYxHt1g_23A",
        "outputId": "e813e115-c3f5-4080-e08d-0c73ab60e552",
        "colab": {
          "base_uri": "https://localhost:8080/"
        }
      },
      "execution_count": 52,
      "outputs": [
        {
          "output_type": "stream",
          "name": "stdout",
          "text": [
            "[17:27:44] WARNING: ../src/learner.cc:767: \n",
            "Parameters: { \"min_samples_leaf\", \"min_samples_split\" } are not used.\n",
            "\n",
            "              precision    recall  f1-score   support\n",
            "\n",
            "           0       0.95      0.98      0.97    236643\n",
            "           1       0.62      0.36      0.46     18771\n",
            "\n",
            "    accuracy                           0.94    255414\n",
            "   macro avg       0.79      0.67      0.71    255414\n",
            "weighted avg       0.93      0.94      0.93    255414\n",
            "\n",
            "[[232491   4152]\n",
            " [ 12017   6754]]\n"
          ]
        }
      ]
    },
    {
      "cell_type": "code",
      "source": [
        "X_train_SMOTE , y_train_SMOTE = shuffle(X_train_SMOTE , y_train_SMOTE, random_state=2023)\n",
        "xgb_best_model.fit(X_train_SMOTE , y_train_SMOTE)\n",
        "\n",
        "y_pred = xgb_best_model.predict(X_test)\n",
        "\n",
        "print(classification_report(y_test, y_pred))\n",
        "print(confusion_matrix(y_test, y_pred))"
      ],
      "metadata": {
        "id": "Qa17be43AXrl",
        "outputId": "59526901-ab3b-49f1-ea71-e1ae00139e31",
        "colab": {
          "base_uri": "https://localhost:8080/"
        }
      },
      "execution_count": 53,
      "outputs": [
        {
          "output_type": "stream",
          "name": "stdout",
          "text": [
            "[17:28:50] WARNING: ../src/learner.cc:767: \n",
            "Parameters: { \"min_samples_leaf\", \"min_samples_split\" } are not used.\n",
            "\n",
            "              precision    recall  f1-score   support\n",
            "\n",
            "           0       0.99      0.90      0.94    236643\n",
            "           1       0.41      0.89      0.56     18771\n",
            "\n",
            "    accuracy                           0.90    255414\n",
            "   macro avg       0.70      0.89      0.75    255414\n",
            "weighted avg       0.95      0.90      0.91    255414\n",
            "\n",
            "[[212399  24244]\n",
            " [  2113  16658]]\n"
          ]
        }
      ]
    },
    {
      "cell_type": "code",
      "source": [
        "X_train_feature_reduced_SMOTE , y_train_feature_reduced_SMOTE = shuffle(\n",
        "    X_train_feature_reduced_SMOTE , y_train_feature_reduced_SMOTE, random_state=2023)\n",
        "\n",
        "xgb_best_model.fit(X_train_feature_reduced_SMOTE , y_train_feature_reduced_SMOTE)\n",
        "\n",
        "y_pred = xgb_best_model.predict(X_test_feature_reduced)\n",
        "\n",
        "print(classification_report(y_test_feature_reduced, y_pred))\n",
        "print(confusion_matrix(y_test_feature_reduced, y_pred))"
      ],
      "metadata": {
        "id": "dgFFGQJ1ArWR",
        "outputId": "ae28f464-ce6e-49ab-eb8b-5978cb563d12",
        "colab": {
          "base_uri": "https://localhost:8080/"
        }
      },
      "execution_count": 54,
      "outputs": [
        {
          "output_type": "stream",
          "name": "stdout",
          "text": [
            "[17:30:16] WARNING: ../src/learner.cc:767: \n",
            "Parameters: { \"min_samples_leaf\", \"min_samples_split\" } are not used.\n",
            "\n",
            "              precision    recall  f1-score   support\n",
            "\n",
            "           0       0.99      0.89      0.94    236643\n",
            "           1       0.40      0.92      0.55     18771\n",
            "\n",
            "    accuracy                           0.89    255414\n",
            "   macro avg       0.69      0.90      0.75    255414\n",
            "weighted avg       0.95      0.89      0.91    255414\n",
            "\n",
            "[[210400  26243]\n",
            " [  1535  17236]]\n"
          ]
        }
      ]
    },
    {
      "cell_type": "markdown",
      "source": [
        "##### Observations"
      ],
      "metadata": {
        "id": "zfzfOZQsX6J8"
      }
    },
    {
      "cell_type": "markdown",
      "source": [
        "As we use the originl preprocessed dataset without feature reduction or oversampling we see that the precision values are high which is needed but the recall is pretty and this is also similar in case of feature reduced dataset \n",
        "\n",
        "However when we resample and train the model , it suddenly has very high recall and low precision value . Indicating it maybe overfitting due to increased positive samples \n",
        "\n",
        "Even though the XGBoost gives us better results compared to logisitic regression , the time to train is more compared to logistic regression and as mentioned above , it is sensitive to data resampling"
      ],
      "metadata": {
        "id": "81NHVjPiaxBE"
      }
    },
    {
      "cell_type": "markdown",
      "source": [
        "####Decision Trees"
      ],
      "metadata": {
        "id": "qO84kc-4YIUu"
      }
    },
    {
      "cell_type": "code",
      "source": [
        "from sklearn import tree\n",
        "from sklearn.tree import DecisionTreeClassifier\n",
        " \n",
        "def fitting(X_in, y, X_test, y_test, criterion, splitter, mdepth, clweight, minleaf):\n",
        " \n",
        " # Fit the model\n",
        " model = DecisionTreeClassifier(criterion=criterion, \n",
        " splitter=splitter, \n",
        " max_depth=mdepth,\n",
        " class_weight=clweight,\n",
        " min_samples_leaf=minleaf, \n",
        " random_state=0, \n",
        " )\n",
        " clf = model.fit(X_in, y)\n",
        " \n",
        " # Predict class labels on training data\n",
        " pred_labels_tr = model.predict(X_test)\n",
        " \n",
        " # Use score method to get accuracy of the model\n",
        " print('*************** Tree Summary ***************')\n",
        " print('Classes: ', clf.classes_)\n",
        " print('Tree Depth: ', clf.tree_.max_depth)\n",
        " print('No. of leaves: ', clf.tree_.n_leaves)\n",
        " print('No. of features: ', X_in.shape[1])\n",
        " print('--------------------------------------------------------')\n",
        " print(\"\")\n",
        " \n",
        " print('*************** Evaluation on Training Data ***************')\n",
        " score_tr = model.score(X_test, y_test)\n",
        " print('Accuracy Score: ', score_tr)\n",
        " # Look at classification report to evaluate the model\n",
        " print(classification_report(y_test, pred_labels_tr))\n",
        " print('--------------------------------------------------------')\n",
        " \n",
        " # Return relevant data for chart plotting\n",
        " return clf\n",
        " \n"
      ],
      "metadata": {
        "id": "cveO3J0qYaSq"
      },
      "execution_count": 56,
      "outputs": []
    },
    {
      "cell_type": "code",
      "source": [
        "X_train, y_train = shuffle(X_train, y_train, random_state=2023)\n",
        "clf = fitting(X_train, y_train, X_test, y_test,'entropy', 'best', mdepth=5, clweight=None, minleaf=10)"
      ],
      "metadata": {
        "id": "wst15p8uavvx",
        "outputId": "ad43d7b8-7a95-4815-8936-2ec8ef4fbe1e",
        "colab": {
          "base_uri": "https://localhost:8080/"
        }
      },
      "execution_count": 57,
      "outputs": [
        {
          "output_type": "stream",
          "name": "stdout",
          "text": [
            "*************** Tree Summary ***************\n",
            "Classes:  [0 1]\n",
            "Tree Depth:  5\n",
            "No. of leaves:  32\n",
            "No. of features:  23\n",
            "--------------------------------------------------------\n",
            "\n",
            "*************** Evaluation on Training Data ***************\n",
            "Accuracy Score:  0.935821842185628\n",
            "              precision    recall  f1-score   support\n",
            "\n",
            "           0       0.94      0.99      0.97    236643\n",
            "           1       0.65      0.27      0.38     18771\n",
            "\n",
            "    accuracy                           0.94    255414\n",
            "   macro avg       0.80      0.63      0.67    255414\n",
            "weighted avg       0.92      0.94      0.92    255414\n",
            "\n",
            "--------------------------------------------------------\n"
          ]
        }
      ]
    },
    {
      "cell_type": "code",
      "source": [
        "X_train_feature_reduced, y_train_feature_reduced = shuffle(\n",
        "    X_train_feature_reduced, y_train_feature_reduced, random_state=2023)\n",
        "\n",
        "clf = fitting(X_train_feature_reduced, y_train_feature_reduced, \n",
        "              X_test_feature_reduced, y_test_feature_reduced ,'entropy', 'best', mdepth=10, clweight=None, minleaf=15)"
      ],
      "metadata": {
        "id": "_hMzP6K3ayZQ",
        "outputId": "1dcbe0d0-f216-47d8-edc5-cfbaec965c36",
        "colab": {
          "base_uri": "https://localhost:8080/"
        }
      },
      "execution_count": 58,
      "outputs": [
        {
          "output_type": "stream",
          "name": "stdout",
          "text": [
            "*************** Tree Summary ***************\n",
            "Classes:  [0 1]\n",
            "Tree Depth:  10\n",
            "No. of leaves:  549\n",
            "No. of features:  12\n",
            "--------------------------------------------------------\n",
            "\n",
            "*************** Evaluation on Training Data ***************\n",
            "Accuracy Score:  0.9366518671646816\n",
            "              precision    recall  f1-score   support\n",
            "\n",
            "           0       0.95      0.98      0.97    236643\n",
            "           1       0.62      0.37      0.46     18771\n",
            "\n",
            "    accuracy                           0.94    255414\n",
            "   macro avg       0.78      0.67      0.71    255414\n",
            "weighted avg       0.93      0.94      0.93    255414\n",
            "\n",
            "--------------------------------------------------------\n"
          ]
        }
      ]
    },
    {
      "cell_type": "code",
      "source": [
        "X_train_SMOTE, y_train_SMOTE = shuffle(X_train_SMOTE, y_train_SMOTE, random_state=2023)\n",
        "clf = fitting(X_train_SMOTE, y_train_SMOTE, X_test, y_test,'entropy', 'best', mdepth=5, clweight=None, minleaf=10)"
      ],
      "metadata": {
        "id": "Loscy1qcbWXx",
        "outputId": "c9dfff0d-3c86-4db5-8d08-6ac3efb141ce",
        "colab": {
          "base_uri": "https://localhost:8080/"
        }
      },
      "execution_count": 59,
      "outputs": [
        {
          "output_type": "stream",
          "name": "stdout",
          "text": [
            "*************** Tree Summary ***************\n",
            "Classes:  [0 1]\n",
            "Tree Depth:  5\n",
            "No. of leaves:  32\n",
            "No. of features:  23\n",
            "--------------------------------------------------------\n",
            "\n",
            "*************** Evaluation on Training Data ***************\n",
            "Accuracy Score:  0.8887531615338236\n",
            "              precision    recall  f1-score   support\n",
            "\n",
            "           0       0.99      0.89      0.94    236643\n",
            "           1       0.39      0.92      0.55     18771\n",
            "\n",
            "    accuracy                           0.89    255414\n",
            "   macro avg       0.69      0.90      0.74    255414\n",
            "weighted avg       0.95      0.89      0.91    255414\n",
            "\n",
            "--------------------------------------------------------\n"
          ]
        }
      ]
    },
    {
      "cell_type": "code",
      "source": [
        "X_train_feature_reduced_SMOTE , y_train_feature_reduced_SMOTE = shuffle(X_train_feature_reduced_SMOTE , y_train_feature_reduced_SMOTE, random_state=2023)\n",
        "clf = fitting(X_train_feature_reduced_SMOTE , y_train_feature_reduced_SMOTE, X_test_feature_reduced, y_test,'entropy', 'best', mdepth=5, clweight=None, minleaf=10)"
      ],
      "metadata": {
        "id": "eYl2IDiDbpXy",
        "outputId": "886f1104-a565-4ed0-a33f-c38e96518494",
        "colab": {
          "base_uri": "https://localhost:8080/"
        }
      },
      "execution_count": 60,
      "outputs": [
        {
          "output_type": "stream",
          "name": "stdout",
          "text": [
            "*************** Tree Summary ***************\n",
            "Classes:  [0 1]\n",
            "Tree Depth:  5\n",
            "No. of leaves:  32\n",
            "No. of features:  12\n",
            "--------------------------------------------------------\n",
            "\n",
            "*************** Evaluation on Training Data ***************\n",
            "Accuracy Score:  0.8792783480936832\n",
            "              precision    recall  f1-score   support\n",
            "\n",
            "           0       0.99      0.88      0.93    236643\n",
            "           1       0.37      0.93      0.53     18771\n",
            "\n",
            "    accuracy                           0.88    255414\n",
            "   macro avg       0.68      0.90      0.73    255414\n",
            "weighted avg       0.95      0.88      0.90    255414\n",
            "\n",
            "--------------------------------------------------------\n"
          ]
        }
      ]
    },
    {
      "cell_type": "markdown",
      "source": [
        "##### Observations"
      ],
      "metadata": {
        "id": "lPQBVWgVbhNF"
      }
    },
    {
      "cell_type": "markdown",
      "source": [
        "The results of DT are similar to that of Logisitic regression and we see that the timing for computation is significantly less compared to XGBoost \n",
        "\n",
        "However, the model is very sensitive towards data resampling as recall is extremely high while precision is very low in case of resampled dataset \n",
        "\n",
        "This could still be considered for modelling purpose as it has the added advantage of good accuracy and precision values when data is not resampled along with lesser computation time\n",
        "\n",
        "Logistic Regression< XGBoost <= Decision Trees"
      ],
      "metadata": {
        "id": "dr-hXLGzblMR"
      }
    },
    {
      "cell_type": "markdown",
      "source": [
        "### Custom Models"
      ],
      "metadata": {
        "id": "usUteL9ewdAQ"
      }
    },
    {
      "cell_type": "markdown",
      "source": [
        "#### Classifier- Classifier Ensemble "
      ],
      "metadata": {
        "id": "gvMkyICdEbAv"
      }
    },
    {
      "cell_type": "markdown",
      "source": [],
      "metadata": {
        "id": "9T8eTARbDtpY"
      }
    },
    {
      "cell_type": "code",
      "source": [
        "def print_scoring_reports(y_true, y_pred):\n",
        "  cm = confusion_matrix(y_true, y_pred)\n",
        "  print(classification_report(y_true, y_pred))\n",
        "  print(\"Confusion matrix:\\n\", cm)"
      ],
      "metadata": {
        "id": "awpBH7Z-9BKo"
      },
      "execution_count": 61,
      "outputs": []
    },
    {
      "cell_type": "code",
      "source": [
        "import pandas as pd\n",
        "from sklearn.model_selection import train_test_split, GridSearchCV\n",
        "from sklearn.pipeline import make_pipeline\n",
        "from sklearn.tree import DecisionTreeClassifier\n",
        "from sklearn.ensemble import VotingClassifier, RandomForestClassifier\n",
        "\n",
        "def custom_ensemble_1(X, y, gridsearch=True, X_val=None, y_val=None):\n",
        "\n",
        "  # separate positive and negative samples\n",
        "  X_train_pos = X[y == 0]\n",
        "  y_train_pos = y[y == 0]\n",
        "  X_train_neg = X[y == 1]\n",
        "  y_train_neg = y[y == 1]\n",
        "\n",
        "  print(y_train_neg.shape)\n",
        "  # Define individual classifiers\n",
        "  clf1 = make_pipeline(DecisionTreeClassifier(random_state=2023, \n",
        "                                              splitter='best',\n",
        "                                              criterion='entropy',\n",
        "                                              min_samples_leaf=10, \n",
        "                                              max_depth=5))\n",
        "  clf2 = make_pipeline(DecisionTreeClassifier(random_state=2023, \n",
        "                                              splitter='best',\n",
        "                                              criterion='entropy',\n",
        "                                              min_samples_leaf=10, \n",
        "                                              max_depth=5))\n",
        "\n",
        "  # Fit classifiers on masked data\n",
        "  clf1.fit(X_train_pos, y_train_pos)\n",
        "  clf2.fit(X_train_neg, y_train_neg)\n",
        "\n",
        "  # Define the ensemble model\n",
        "  ensemble_model = VotingClassifier(estimators=[\n",
        "      ('clf1', clf1),\n",
        "      ('clf2', clf2)],\n",
        "  voting='soft'\n",
        "  )\n",
        "  \n",
        "  if gridsearch == True:\n",
        "    param_grid = {}\n",
        "    # Create GridSearchCV object\n",
        "    grid = GridSearchCV(estimator=ensemble_model,  param_grid = param_grid,\n",
        "                            scoring=['f1','accuracy','precision', 'recall'], refit='f1', cv=5)\n",
        "    \n",
        "    grid.fit(X,y)\n",
        "    # Print best hyperparameters and corresponding score\n",
        "    print(\"Best parameters: \", grid.best_params_)\n",
        "    print(\"Best score: \", grid.best_score_)\n",
        "    return pd.DataFrame(grid.cv_results_)\n",
        "  else:\n",
        "    ensemble_model.fit(X, y)\n",
        "    y_pred_train = ensemble_model.predict(X)\n",
        "    y_pred_proba = ensemble_model.predict_proba(X_val)\n",
        "    y_pred = ensemble_model.predict(X_val)\n",
        "    return y_pred, y_pred_proba, y_pred_train\n",
        "\n"
      ],
      "metadata": {
        "id": "gRvYc17ox7m8"
      },
      "execution_count": 72,
      "outputs": []
    },
    {
      "cell_type": "code",
      "source": [
        "custom_ensemble_1(X_train, y_train, True)"
      ],
      "metadata": {
        "id": "s7QHzyGJlOLn",
        "outputId": "3dc9b32e-1c5d-4a92-ef32-a16c4f2e1a9b",
        "colab": {
          "base_uri": "https://localhost:8080/",
          "height": 226
        }
      },
      "execution_count": 73,
      "outputs": [
        {
          "output_type": "stream",
          "name": "stdout",
          "text": [
            "(55784,)\n",
            "Best parameters:  {}\n",
            "Best score:  0.3954235293562033\n"
          ]
        },
        {
          "output_type": "execute_result",
          "data": {
            "text/plain": [
              "   mean_fit_time  std_fit_time  mean_score_time  std_score_time params  \\\n",
              "0       2.379119      0.448439         0.253055        0.063387     {}   \n",
              "\n",
              "   split0_test_f1  split1_test_f1  split2_test_f1  split3_test_f1  \\\n",
              "0        0.387455        0.410913         0.38746        0.407985   \n",
              "\n",
              "   split4_test_f1  ...  std_test_precision  rank_test_precision  \\\n",
              "0        0.383306  ...             0.01633                    1   \n",
              "\n",
              "   split0_test_recall  split1_test_recall  split2_test_recall  \\\n",
              "0            0.272385            0.305127            0.274715   \n",
              "\n",
              "   split3_test_recall  split4_test_recall  mean_test_recall  std_test_recall  \\\n",
              "0            0.301335            0.270413          0.284795         0.015162   \n",
              "\n",
              "   rank_test_recall  \n",
              "0                 1  \n",
              "\n",
              "[1 rows x 37 columns]"
            ],
            "text/html": [
              "\n",
              "  <div id=\"df-853d1455-c4b7-4a95-8ad5-bb25a66b3cc3\">\n",
              "    <div class=\"colab-df-container\">\n",
              "      <div>\n",
              "<style scoped>\n",
              "    .dataframe tbody tr th:only-of-type {\n",
              "        vertical-align: middle;\n",
              "    }\n",
              "\n",
              "    .dataframe tbody tr th {\n",
              "        vertical-align: top;\n",
              "    }\n",
              "\n",
              "    .dataframe thead th {\n",
              "        text-align: right;\n",
              "    }\n",
              "</style>\n",
              "<table border=\"1\" class=\"dataframe\">\n",
              "  <thead>\n",
              "    <tr style=\"text-align: right;\">\n",
              "      <th></th>\n",
              "      <th>mean_fit_time</th>\n",
              "      <th>std_fit_time</th>\n",
              "      <th>mean_score_time</th>\n",
              "      <th>std_score_time</th>\n",
              "      <th>params</th>\n",
              "      <th>split0_test_f1</th>\n",
              "      <th>split1_test_f1</th>\n",
              "      <th>split2_test_f1</th>\n",
              "      <th>split3_test_f1</th>\n",
              "      <th>split4_test_f1</th>\n",
              "      <th>...</th>\n",
              "      <th>std_test_precision</th>\n",
              "      <th>rank_test_precision</th>\n",
              "      <th>split0_test_recall</th>\n",
              "      <th>split1_test_recall</th>\n",
              "      <th>split2_test_recall</th>\n",
              "      <th>split3_test_recall</th>\n",
              "      <th>split4_test_recall</th>\n",
              "      <th>mean_test_recall</th>\n",
              "      <th>std_test_recall</th>\n",
              "      <th>rank_test_recall</th>\n",
              "    </tr>\n",
              "  </thead>\n",
              "  <tbody>\n",
              "    <tr>\n",
              "      <th>0</th>\n",
              "      <td>2.379119</td>\n",
              "      <td>0.448439</td>\n",
              "      <td>0.253055</td>\n",
              "      <td>0.063387</td>\n",
              "      <td>{}</td>\n",
              "      <td>0.387455</td>\n",
              "      <td>0.410913</td>\n",
              "      <td>0.38746</td>\n",
              "      <td>0.407985</td>\n",
              "      <td>0.383306</td>\n",
              "      <td>...</td>\n",
              "      <td>0.01633</td>\n",
              "      <td>1</td>\n",
              "      <td>0.272385</td>\n",
              "      <td>0.305127</td>\n",
              "      <td>0.274715</td>\n",
              "      <td>0.301335</td>\n",
              "      <td>0.270413</td>\n",
              "      <td>0.284795</td>\n",
              "      <td>0.015162</td>\n",
              "      <td>1</td>\n",
              "    </tr>\n",
              "  </tbody>\n",
              "</table>\n",
              "<p>1 rows × 37 columns</p>\n",
              "</div>\n",
              "      <button class=\"colab-df-convert\" onclick=\"convertToInteractive('df-853d1455-c4b7-4a95-8ad5-bb25a66b3cc3')\"\n",
              "              title=\"Convert this dataframe to an interactive table.\"\n",
              "              style=\"display:none;\">\n",
              "        \n",
              "  <svg xmlns=\"http://www.w3.org/2000/svg\" height=\"24px\"viewBox=\"0 0 24 24\"\n",
              "       width=\"24px\">\n",
              "    <path d=\"M0 0h24v24H0V0z\" fill=\"none\"/>\n",
              "    <path d=\"M18.56 5.44l.94 2.06.94-2.06 2.06-.94-2.06-.94-.94-2.06-.94 2.06-2.06.94zm-11 1L8.5 8.5l.94-2.06 2.06-.94-2.06-.94L8.5 2.5l-.94 2.06-2.06.94zm10 10l.94 2.06.94-2.06 2.06-.94-2.06-.94-.94-2.06-.94 2.06-2.06.94z\"/><path d=\"M17.41 7.96l-1.37-1.37c-.4-.4-.92-.59-1.43-.59-.52 0-1.04.2-1.43.59L10.3 9.45l-7.72 7.72c-.78.78-.78 2.05 0 2.83L4 21.41c.39.39.9.59 1.41.59.51 0 1.02-.2 1.41-.59l7.78-7.78 2.81-2.81c.8-.78.8-2.07 0-2.86zM5.41 20L4 18.59l7.72-7.72 1.47 1.35L5.41 20z\"/>\n",
              "  </svg>\n",
              "      </button>\n",
              "      \n",
              "  <style>\n",
              "    .colab-df-container {\n",
              "      display:flex;\n",
              "      flex-wrap:wrap;\n",
              "      gap: 12px;\n",
              "    }\n",
              "\n",
              "    .colab-df-convert {\n",
              "      background-color: #E8F0FE;\n",
              "      border: none;\n",
              "      border-radius: 50%;\n",
              "      cursor: pointer;\n",
              "      display: none;\n",
              "      fill: #1967D2;\n",
              "      height: 32px;\n",
              "      padding: 0 0 0 0;\n",
              "      width: 32px;\n",
              "    }\n",
              "\n",
              "    .colab-df-convert:hover {\n",
              "      background-color: #E2EBFA;\n",
              "      box-shadow: 0px 1px 2px rgba(60, 64, 67, 0.3), 0px 1px 3px 1px rgba(60, 64, 67, 0.15);\n",
              "      fill: #174EA6;\n",
              "    }\n",
              "\n",
              "    [theme=dark] .colab-df-convert {\n",
              "      background-color: #3B4455;\n",
              "      fill: #D2E3FC;\n",
              "    }\n",
              "\n",
              "    [theme=dark] .colab-df-convert:hover {\n",
              "      background-color: #434B5C;\n",
              "      box-shadow: 0px 1px 3px 1px rgba(0, 0, 0, 0.15);\n",
              "      filter: drop-shadow(0px 1px 2px rgba(0, 0, 0, 0.3));\n",
              "      fill: #FFFFFF;\n",
              "    }\n",
              "  </style>\n",
              "\n",
              "      <script>\n",
              "        const buttonEl =\n",
              "          document.querySelector('#df-853d1455-c4b7-4a95-8ad5-bb25a66b3cc3 button.colab-df-convert');\n",
              "        buttonEl.style.display =\n",
              "          google.colab.kernel.accessAllowed ? 'block' : 'none';\n",
              "\n",
              "        async function convertToInteractive(key) {\n",
              "          const element = document.querySelector('#df-853d1455-c4b7-4a95-8ad5-bb25a66b3cc3');\n",
              "          const dataTable =\n",
              "            await google.colab.kernel.invokeFunction('convertToInteractive',\n",
              "                                                     [key], {});\n",
              "          if (!dataTable) return;\n",
              "\n",
              "          const docLinkHtml = 'Like what you see? Visit the ' +\n",
              "            '<a target=\"_blank\" href=https://colab.research.google.com/notebooks/data_table.ipynb>data table notebook</a>'\n",
              "            + ' to learn more about interactive tables.';\n",
              "          element.innerHTML = '';\n",
              "          dataTable['output_type'] = 'display_data';\n",
              "          await google.colab.output.renderOutput(dataTable, element);\n",
              "          const docLink = document.createElement('div');\n",
              "          docLink.innerHTML = docLinkHtml;\n",
              "          element.appendChild(docLink);\n",
              "        }\n",
              "      </script>\n",
              "    </div>\n",
              "  </div>\n",
              "  "
            ]
          },
          "metadata": {},
          "execution_count": 73
        }
      ]
    },
    {
      "cell_type": "code",
      "source": [
        "X_train, y_train = shuffle(X_train, y_train, random_state=2023)\n",
        "y_pred, y_pred_proba, y_pred_train = custom_ensemble_1(X_train, y_train, False, X_test, y_test)\n",
        "print_scoring_reports(y_test, y_pred)\n",
        "print_scoring_reports(y_train, y_pred_train)"
      ],
      "metadata": {
        "id": "zjYmsAME3iOJ",
        "outputId": "3a7f6866-7915-486e-c3f5-2082a6c54a9b",
        "colab": {
          "base_uri": "https://localhost:8080/"
        }
      },
      "execution_count": 74,
      "outputs": [
        {
          "output_type": "stream",
          "name": "stdout",
          "text": [
            "(55784,)\n",
            "              precision    recall  f1-score   support\n",
            "\n",
            "           0       0.94      0.99      0.97    236643\n",
            "           1       0.65      0.27      0.38     18771\n",
            "\n",
            "    accuracy                           0.94    255414\n",
            "   macro avg       0.80      0.63      0.67    255414\n",
            "weighted avg       0.92      0.94      0.92    255414\n",
            "\n",
            "Confusion matrix:\n",
            " [[233952   2691]\n",
            " [ 13701   5070]]\n",
            "              precision    recall  f1-score   support\n",
            "\n",
            "           0       0.95      0.99      0.97    710457\n",
            "           1       0.66      0.27      0.38     55784\n",
            "\n",
            "    accuracy                           0.94    766241\n",
            "   macro avg       0.80      0.63      0.68    766241\n",
            "weighted avg       0.92      0.94      0.92    766241\n",
            "\n",
            "Confusion matrix:\n",
            " [[702577   7880]\n",
            " [ 40622  15162]]\n"
          ]
        }
      ]
    },
    {
      "cell_type": "code",
      "source": [
        "X_train_SMOTE, y_train_SMOTE = shuffle(X_train_SMOTE, y_train_SMOTE, random_state=2023)\n",
        "y_pred, y_pred_proba, y_pred_train = custom_ensemble_1(X_train_SMOTE, y_train_SMOTE, False, X_test, y_test)\n",
        "print_scoring_reports(y_test, y_pred)\n",
        "print_scoring_reports(y_train_SMOTE, y_pred_train)"
      ],
      "metadata": {
        "id": "7R1MRYON7Otj",
        "outputId": "aa05a080-011e-48be-8648-ad3e341d3680",
        "colab": {
          "base_uri": "https://localhost:8080/"
        }
      },
      "execution_count": 75,
      "outputs": [
        {
          "output_type": "stream",
          "name": "stdout",
          "text": [
            "(139460,)\n",
            "              precision    recall  f1-score   support\n",
            "\n",
            "           0       0.99      0.89      0.94    236643\n",
            "           1       0.39      0.92      0.55     18771\n",
            "\n",
            "    accuracy                           0.89    255414\n",
            "   macro avg       0.69      0.90      0.74    255414\n",
            "weighted avg       0.95      0.89      0.91    255414\n",
            "\n",
            "Confusion matrix:\n",
            " [[209767  26876]\n",
            " [  1538  17233]]\n",
            "              precision    recall  f1-score   support\n",
            "\n",
            "           0       0.96      0.89      0.92    278920\n",
            "           1       0.80      0.92      0.86    139460\n",
            "\n",
            "    accuracy                           0.90    418380\n",
            "   macro avg       0.88      0.90      0.89    418380\n",
            "weighted avg       0.91      0.90      0.90    418380\n",
            "\n",
            "Confusion matrix:\n",
            " [[247464  31456]\n",
            " [ 10981 128479]]\n"
          ]
        }
      ]
    },
    {
      "cell_type": "code",
      "source": [
        "X_train_feature_reduced , y_train_feature_reduced = shuffle(\n",
        "    X_train_feature_reduced , y_train_feature_reduced, random_state=2023)\n",
        "\n",
        "y_pred, y_pred_proba, y_pred_train = custom_ensemble_1(\n",
        "    X_train_feature_reduced , y_train_feature_reduced, False, X_test_feature_reduced, y_test_feature_reduced)\n",
        "\n",
        "print_scoring_reports(y_test_feature_reduced , y_pred)\n",
        "print_scoring_reports(y_train_feature_reduced, y_pred_train)"
      ],
      "metadata": {
        "id": "g_yn3jsV7XL3",
        "outputId": "a15db74a-770c-4a21-812e-4e1a3301ca76",
        "colab": {
          "base_uri": "https://localhost:8080/"
        }
      },
      "execution_count": 76,
      "outputs": [
        {
          "output_type": "stream",
          "name": "stdout",
          "text": [
            "(55784,)\n",
            "              precision    recall  f1-score   support\n",
            "\n",
            "           0       0.94      0.99      0.97    236643\n",
            "           1       0.65      0.27      0.38     18771\n",
            "\n",
            "    accuracy                           0.94    255414\n",
            "   macro avg       0.80      0.63      0.67    255414\n",
            "weighted avg       0.92      0.94      0.92    255414\n",
            "\n",
            "Confusion matrix:\n",
            " [[233952   2691]\n",
            " [ 13701   5070]]\n",
            "              precision    recall  f1-score   support\n",
            "\n",
            "           0       0.95      0.99      0.97    710457\n",
            "           1       0.66      0.27      0.38     55784\n",
            "\n",
            "    accuracy                           0.94    766241\n",
            "   macro avg       0.80      0.63      0.68    766241\n",
            "weighted avg       0.92      0.94      0.92    766241\n",
            "\n",
            "Confusion matrix:\n",
            " [[702577   7880]\n",
            " [ 40622  15162]]\n"
          ]
        }
      ]
    },
    {
      "cell_type": "code",
      "source": [
        "X_train_feature_reduced_SMOTE , y_train_feature_reduced_SMOTE = shuffle(\n",
        "    X_train_feature_reduced_SMOTE , y_train_feature_reduced_SMOTE, random_state=2023)\n",
        "\n",
        "y_pred, y_pred_proba, y_pred_train = custom_ensemble_1(\n",
        "    X_train_feature_reduced_SMOTE , y_train_feature_reduced_SMOTE, False, \n",
        "    X_test_feature_reduced, y_test_feature_reduced)\n",
        "\n",
        "print_scoring_reports(y_test_feature_reduced , y_pred)\n",
        "print_scoring_reports(y_train_feature_reduced_SMOTE, y_pred_train)"
      ],
      "metadata": {
        "id": "jNGTZGqmDfz2",
        "outputId": "98ff6856-a3b1-4e0e-c7ef-ff5c08898366",
        "colab": {
          "base_uri": "https://localhost:8080/"
        }
      },
      "execution_count": 78,
      "outputs": [
        {
          "output_type": "stream",
          "name": "stdout",
          "text": [
            "(139460,)\n",
            "              precision    recall  f1-score   support\n",
            "\n",
            "           0       0.99      0.88      0.93    236643\n",
            "           1       0.37      0.93      0.53     18771\n",
            "\n",
            "    accuracy                           0.88    255414\n",
            "   macro avg       0.68      0.90      0.73    255414\n",
            "weighted avg       0.95      0.88      0.90    255414\n",
            "\n",
            "Confusion matrix:\n",
            " [[207116  29527]\n",
            " [  1307  17464]]\n",
            "              precision    recall  f1-score   support\n",
            "\n",
            "           0       0.96      0.88      0.92    278920\n",
            "           1       0.79      0.94      0.86    139460\n",
            "\n",
            "    accuracy                           0.90    418380\n",
            "   macro avg       0.88      0.91      0.89    418380\n",
            "weighted avg       0.91      0.90      0.90    418380\n",
            "\n",
            "Confusion matrix:\n",
            " [[244347  34573]\n",
            " [  9042 130418]]\n"
          ]
        }
      ]
    },
    {
      "cell_type": "markdown",
      "source": [
        "#### Unsupervised - Supervised Ensemble"
      ],
      "metadata": {
        "id": "7fP_8eVfDsWe"
      }
    },
    {
      "cell_type": "code",
      "source": [
        "from sklearn.linear_model import LogisticRegression\n",
        "from sklearn.cluster import MiniBatchKMeans\n",
        "from sklearn.metrics import silhouette_score"
      ],
      "metadata": {
        "id": "byoJkll9D5ho"
      },
      "execution_count": 80,
      "outputs": []
    },
    {
      "cell_type": "code",
      "source": [
        "wcss = []\n",
        "for i in range(1, 1000, 50):\n",
        "    kmeans = MiniBatchKMeans(n_clusters=i, batch_size=1000, random_state=2023, n_init='auto', max_no_improvement=2)\n",
        "    kmeans.fit(X_train)\n",
        "    wcss.append(kmeans.inertia_)\n",
        "\n",
        "plt.plot(range(1, 1000, 50), wcss)\n",
        "plt.title('Elbow Method')\n",
        "plt.xlabel('Number of Clusters')\n",
        "plt.ylabel('WCSS')\n",
        "plt.show()"
      ],
      "metadata": {
        "id": "l2NXlEGg-QtM",
        "outputId": "9273072e-d02f-479f-e5d0-50e868e76f81",
        "colab": {
          "base_uri": "https://localhost:8080/",
          "height": 472
        }
      },
      "execution_count": 86,
      "outputs": [
        {
          "output_type": "display_data",
          "data": {
            "text/plain": [
              "<Figure size 640x480 with 1 Axes>"
            ],
            "image/png": "[encoded data removed]"
          },
          "metadata": {}
        }
      ]
    },
    {
      "cell_type": "code",
      "source": [
        "wcss = []\n",
        "for i in range(1, 200, 10):\n",
        "    kmeans = MiniBatchKMeans(n_clusters=i, batch_size=1000, random_state=2023, n_init='auto', max_no_improvement=2)\n",
        "    kmeans.fit(X_train)\n",
        "    wcss.append(kmeans.inertia_)\n",
        "\n",
        "plt.plot(range(1, 200, 10), wcss)\n",
        "plt.title('Elbow Method')\n",
        "plt.xlabel('Number of Clusters')\n",
        "plt.ylabel('WCSS')\n",
        "plt.show()"
      ],
      "metadata": {
        "id": "_ue1Z91cEADS",
        "outputId": "07af8ea9-b981-4b2c-a99b-d18db4d0d9ae",
        "colab": {
          "base_uri": "https://localhost:8080/",
          "height": 472
        }
      },
      "execution_count": 87,
      "outputs": [
        {
          "output_type": "display_data",
          "data": {
            "text/plain": [
              "<Figure size 640x480 with 1 Axes>"
            ],
            "image/png": "[encoded data removed]"
          },
          "metadata": {}
        }
      ]
    },
    {
      "cell_type": "code",
      "source": [],
      "metadata": {
        "id": "SVMqPQjXc9jK"
      },
      "execution_count": null,
      "outputs": []
    },
    {
      "cell_type": "code",
      "source": [
        "dict(zip(range(1,200,10),wcss))"
      ],
      "metadata": {
        "id": "CmGw7YRuFsF0",
        "outputId": "279f74c1-23cd-4c62-c117-c995fcce4709",
        "colab": {
          "base_uri": "https://localhost:8080/"
        }
      },
      "execution_count": 92,
      "outputs": [
        {
          "output_type": "execute_result",
          "data": {
            "text/plain": [
              "{1: 1883916.036462807,\n",
              " 11: 897014.2024947362,\n",
              " 21: 677691.2847967483,\n",
              " 31: 630357.3384198277,\n",
              " 41: 509098.75655492954,\n",
              " 51: 464838.0202106297,\n",
              " 61: 425913.4092645687,\n",
              " 71: 400238.633564713,\n",
              " 81: 371204.7753754149,\n",
              " 91: 353860.2726544807,\n",
              " 101: 340381.3570454625,\n",
              " 111: 323804.9338614022,\n",
              " 121: 309675.3431786436,\n",
              " 131: 298733.4674045724,\n",
              " 141: 289253.41742155165,\n",
              " 151: 283491.2278428195,\n",
              " 161: 274950.0061331851,\n",
              " 171: 266668.87882123207,\n",
              " 181: 255667.62276149716,\n",
              " 191: 253008.19269445544}"
            ]
          },
          "metadata": {},
          "execution_count": 92
        }
      ]
    },
    {
      "cell_type": "markdown",
      "source": [
        "Choosing 21 clusters as that is the knee where the slope starts becoming flat significantly"
      ],
      "metadata": {
        "id": "9ErEdrOK-oFg"
      }
    },
    {
      "cell_type": "code",
      "source": [
        "# Create MiniBatchKMeans object\n",
        "kmeans = MiniBatchKMeans(n_clusters=21, batch_size=2000, random_state=2023, n_init='auto')\n",
        "\n",
        "# Fit the model to the data\n",
        "kmeans.fit(X_train)\n",
        "\n",
        "# Get the cluster labels\n",
        "labels = kmeans.labels_\n",
        "\n",
        "# Combine the cluster labels and the target variable into a single DataFrame\n",
        "results = pd.DataFrame({'Cluster': labels, 'Target': y_train})\n",
        "\n",
        "# Convert 'Cluster' column into one-hot encoding\n",
        "cluster_one_hot = pd.get_dummies(results['Cluster'], prefix='Cluster')\n",
        "\n",
        "y_train_cluster = cluster_one_hot.copy()\n",
        "\n",
        "y_train_cluster['Target'] = y_train"
      ],
      "metadata": {
        "id": "fTKsoKLKGPaZ"
      },
      "execution_count": 266,
      "outputs": []
    },
    {
      "cell_type": "code",
      "source": [
        "# predict clusters for X_test\n",
        "test_cluster_labels = kmeans.predict(X_test)\n",
        "\n",
        "test_cluster_results = pd.DataFrame({'Cluster': test_cluster_labels, 'Target': y_test})\n",
        "\n",
        "# Convert 'Cluster' column into one-hot encoding\n",
        "test_cluster_one_hot = pd.get_dummies(test_cluster_results['Cluster'], prefix='Cluster')\n",
        "\n",
        "X_test_cluster = pd.concat([X_test, test_cluster_one_hot], axis=1)"
      ],
      "metadata": {
        "id": "0cUw7N_4PlPg"
      },
      "execution_count": 267,
      "outputs": []
    },
    {
      "cell_type": "code",
      "source": [
        "clf = DecisionTreeClassifier(max_depth=70, random_state=0)\n",
        "clf.fit(y_train_cluster.drop('Target', axis=1), y_train_cluster['Target'])\n",
        "importances_in_clusters = clf.feature_importances_"
      ],
      "metadata": {
        "id": "4T1OOqPzHy9T"
      },
      "execution_count": 268,
      "outputs": []
    },
    {
      "cell_type": "code",
      "source": [
        "important_clusters = dict(zip(y_train_cluster.columns,importances_in_clusters))\n",
        "important_clusters = dict(sorted(important_clusters.items(), key=lambda x: x[1], reverse=True))\n",
        "print(important_clusters)"
      ],
      "metadata": {
        "id": "xMLJk2DeJ3Ko",
        "outputId": "104413d7-93d9-47e9-ff26-b8860c98e4ae",
        "colab": {
          "base_uri": "https://localhost:8080/"
        }
      },
      "execution_count": 269,
      "outputs": [
        {
          "output_type": "stream",
          "name": "stdout",
          "text": [
            "{'Cluster_15': 0.3697001912143464, 'Cluster_17': 0.29305189682389526, 'Cluster_6': 0.16071281855867312, 'Cluster_4': 0.13405129754064982, 'Cluster_20': 0.018389702485763312, 'Cluster_13': 0.013064580047065392, 'Cluster_19': 0.007986142553318084, 'Cluster_7': 0.001365164964703179, 'Cluster_3': 0.00044470945846170767, 'Cluster_1': 0.00028164871785700773, 'Cluster_18': 0.00023752892300459892, 'Cluster_11': 0.0001420524991300652, 'Cluster_10': 0.000137333430143507, 'Cluster_2': 0.00013568796864106973, 'Cluster_14': 0.00012545640735604945, 'Cluster_5': 0.00010650895566164805, 'Cluster_8': 4.8630056546930224e-05, 'Cluster_12': 1.771787847183066e-05, 'Cluster_16': 8.110804083086739e-07, 'Cluster_9': 1.2043590268748513e-07, 'Cluster_0': 0.0}\n"
          ]
        }
      ]
    },
    {
      "cell_type": "code",
      "source": [
        "np.cumsum(list(important_clusters.values()))"
      ],
      "metadata": {
        "id": "cvBWe6toKbmY",
        "outputId": "0b380ee0-1e3a-4d3c-bae6-2248526bb8f9",
        "colab": {
          "base_uri": "https://localhost:8080/"
        }
      },
      "execution_count": 270,
      "outputs": [
        {
          "output_type": "execute_result",
          "data": {
            "text/plain": [
              "array([0.36970019, 0.66275209, 0.82346491, 0.9575162 , 0.97590591,\n",
              "       0.98897049, 0.99695663, 0.99832179, 0.9987665 , 0.99904815,\n",
              "       0.99928568, 0.99942773, 0.99956507, 0.99970076, 0.99982621,\n",
              "       0.99993272, 0.99998135, 0.99999907, 0.99999988, 1.        ,\n",
              "       1.        ])"
            ]
          },
          "metadata": {},
          "execution_count": 270
        }
      ]
    },
    {
      "cell_type": "code",
      "source": [
        "plt.plot(range(1, len(y_train_cluster.columns)), np.cumsum(list(important_clusters.values())))\n",
        "plt.xlabel(\"Number of features\")\n",
        "plt.ylabel(\"Importance of cumulative features\")"
      ],
      "metadata": {
        "id": "RodthWl9KOBD",
        "outputId": "51cdd284-a032-440b-a5ef-a0f27fc34907",
        "colab": {
          "base_uri": "https://localhost:8080/",
          "height": 466
        }
      },
      "execution_count": 271,
      "outputs": [
        {
          "output_type": "execute_result",
          "data": {
            "text/plain": [
              "Text(0, 0.5, 'Importance of cumulative features')"
            ]
          },
          "metadata": {},
          "execution_count": 271
        },
        {
          "output_type": "display_data",
          "data": {
            "text/plain": [
              "<Figure size 640x480 with 1 Axes>"
            ],
            "image/png": "[encoded data removed]"
          },
          "metadata": {}
        }
      ]
    },
    {
      "cell_type": "code",
      "source": [
        "best_clusters = list(important_clusters.keys())[:np.argmax(np.cumsum(list(important_clusters.values())) >= 0.98)+1]\n",
        "best_clusters"
      ],
      "metadata": {
        "id": "snRs2SUzKvDi",
        "outputId": "78629639-aa10-4064-a64c-9a1f698d7482",
        "colab": {
          "base_uri": "https://localhost:8080/"
        }
      },
      "execution_count": 272,
      "outputs": [
        {
          "output_type": "execute_result",
          "data": {
            "text/plain": [
              "['Cluster_15',\n",
              " 'Cluster_17',\n",
              " 'Cluster_6',\n",
              " 'Cluster_4',\n",
              " 'Cluster_20',\n",
              " 'Cluster_13']"
            ]
          },
          "metadata": {},
          "execution_count": 272
        }
      ]
    },
    {
      "cell_type": "code",
      "source": [
        "def custom_ensemble_2(X,y, X_val, y_val):\n",
        "  \n",
        "  # Create MiniBatchKMeans object\n",
        "  kmeans = MiniBatchKMeans(n_clusters=21, batch_size=1000, random_state=2023, n_init='auto')\n",
        "\n",
        "  # Fit the model to the data\n",
        "  kmeans.fit(X)\n",
        "\n",
        "  # Get the cluster labels\n",
        "  labels = kmeans.labels_\n",
        "\n",
        "  # Combine the cluster labels and the target variable into a single DataFrame\n",
        "  results = pd.DataFrame({'Cluster': labels, 'Target': y})\n",
        "\n",
        "  # Convert 'Cluster' column into one-hot encoding\n",
        "  cluster_one_hot = pd.get_dummies(results['Cluster'], prefix='Cluster')\n",
        "\n",
        "  # Concatenate the best one-hot encoded 'Cluster' feature to X\n",
        "  X_with_cluster = pd.concat([X, cluster_one_hot[best_clusters]], axis=1)\n",
        "  # X_with_cluster = cluster_one_hot[best_clusters]\n",
        "\n",
        "  # predict clusters for X_test\n",
        "  test_cluster_labels = kmeans.predict(X_val)\n",
        "\n",
        "  val_cluster_results = pd.DataFrame({'Cluster': test_cluster_labels, 'Target': y_val})\n",
        "\n",
        "  # Convert 'Cluster' column into one-hot encoding\n",
        "  val_cluster_one_hot = pd.get_dummies(val_cluster_results['Cluster'], prefix='Cluster')\n",
        "\n",
        "  # Concatenate the best one-hot encoded 'Cluster' feature to X_val\n",
        "  X_val_cluster = pd.concat([X_val, val_cluster_one_hot[best_clusters]], axis=1)\n",
        "  # X_val_cluster = val_cluster_one_hot[best_clusters]\n",
        "\n",
        "  # Compute the mean target value for each cluster\n",
        "  mean_target = results.groupby('Cluster')['Target'].mean()\n",
        "\n",
        "  # Numer of people who died vs number of who survived \n",
        "  # for label in np.unique(labels):\n",
        "  #   print(f\"\\nCluster {label}:\\n # dead: \",results[(results.Cluster == label) & (results.Target == 1)].shape[0],\n",
        "  #         \" vs # not dead: \",\n",
        "  #         results[(results.Cluster == label) & (results.Target == 0)].shape[0])\n",
        "    \n",
        "  print(\"\\n\",mean_target,\"\\n\")\n",
        "  \n",
        "  # Define individual classifiers\n",
        "  #'entropy', 'best', mdepth=5, clweight=None, minleaf=10\n",
        "  clf1 = make_pipeline(LogisticRegression(penalty='l1', solver='liblinear'))\n",
        "  clf2 = make_pipeline(LogisticRegression(penalty='l1', solver='liblinear'))\n",
        "  clf3 = make_pipeline(DecisionTreeClassifier(random_state=2023, max_depth=5,\n",
        "                                              criterion='entropy', \n",
        "                                              splitter='best',\n",
        "                                              min_samples_leaf=10,\n",
        "                                              max_features=\"log2\"))\n",
        "  clf4 = make_pipeline(DecisionTreeClassifier(random_state=2023, max_depth=5,\n",
        "                                              criterion='entropy', \n",
        "                                              splitter='best',\n",
        "                                              min_samples_leaf=10,\n",
        "                                              max_features=\"log2\"))\n",
        "  # Fit classifiers on masked data\n",
        "  clf1.fit(X_with_cluster, y)\n",
        "  clf2.fit(X_with_cluster, y)\n",
        "  clf3.fit(X_with_cluster, y)\n",
        "  clf4.fit(X_with_cluster, y)\n",
        "\n",
        "  # Define the ensemble model\n",
        "  ensemble_model = VotingClassifier(estimators=[\n",
        "      ('clf1', clf1),\n",
        "      ('clf2', clf2),\n",
        "      ('clf3', clf3), \n",
        "      ('clf4', clf4)], \n",
        "      weights=[1, 1, 1, 1],\n",
        "      voting = 'soft'\n",
        "      )\n",
        "\n",
        "  ensemble_model.fit(X_with_cluster, y)\n",
        "\n",
        "  # Get the best model and print its accuracy\n",
        "  y_pred = ensemble_model.predict(X_val_cluster)\n",
        "  y_pred_proba = ensemble_model.predict_proba(X_val_cluster)\n",
        "  return y_pred, y_pred_proba\n",
        "\n",
        "\n"
      ],
      "metadata": {
        "id": "ISVfDZw-nO5L"
      },
      "execution_count": 313,
      "outputs": []
    },
    {
      "cell_type": "code",
      "source": [
        "X_train, y_train = shuffle(X_train, y_train, random_state=2023)\n",
        "\n",
        "y_pred, y_pred_proba = custom_ensemble_2(X_train, y_train, X_test, y_test)\n",
        "print_scoring_reports(y_test, y_pred)"
      ],
      "metadata": {
        "id": "UuO9h8AnGTq8",
        "outputId": "55c50f6c-87dc-452c-8c1e-dc308bfff788",
        "colab": {
          "base_uri": "https://localhost:8080/"
        }
      },
      "execution_count": 314,
      "outputs": [
        {
          "output_type": "stream",
          "name": "stdout",
          "text": [
            "\n",
            " Cluster\n",
            "0     0.005863\n",
            "1     0.034011\n",
            "2     0.022596\n",
            "3     0.010598\n",
            "4     0.183445\n",
            "5     0.284428\n",
            "6     0.027404\n",
            "7     0.011456\n",
            "8     0.017407\n",
            "9     0.011272\n",
            "10    0.045317\n",
            "11    0.002956\n",
            "12    0.018857\n",
            "13    0.498115\n",
            "14    0.006039\n",
            "15    0.409343\n",
            "16    0.006857\n",
            "17    0.025037\n",
            "18    0.008211\n",
            "19    0.109581\n",
            "20    0.064624\n",
            "Name: Target, dtype: float64 \n",
            "\n",
            "              precision    recall  f1-score   support\n",
            "\n",
            "           0       0.95      0.98      0.97    236795\n",
            "           1       0.60      0.38      0.46     18619\n",
            "\n",
            "    accuracy                           0.94    255414\n",
            "   macro avg       0.77      0.68      0.71    255414\n",
            "weighted avg       0.93      0.94      0.93    255414\n",
            "\n",
            "Confusion matrix:\n",
            " [[232009   4786]\n",
            " [ 11573   7046]]\n"
          ]
        }
      ]
    },
    {
      "cell_type": "code",
      "source": [
        "X_train_feature_reduced, y_train_feature_reduced = shuffle(\n",
        "    X_train_feature_reduced, y_train_feature_reduced, random_state=19)\n",
        "\n",
        "y_pred, y_pred_proba = custom_ensemble_2(\n",
        "    X_train_feature_reduced, y_train_feature_reduced, X_test_feature_reduced, y_test_feature_reduced)\n",
        "\n",
        "print_scoring_reports(y_test_feature_reduced, y_pred)"
      ],
      "metadata": {
        "id": "SKmUu6tP6wjr",
        "outputId": "3a210e3c-4fcd-4343-be9d-0258eacf58ed",
        "colab": {
          "base_uri": "https://localhost:8080/"
        }
      },
      "execution_count": 315,
      "outputs": [
        {
          "output_type": "stream",
          "name": "stdout",
          "text": [
            "\n",
            " Cluster\n",
            "0     0.052503\n",
            "1     0.002206\n",
            "2     0.029146\n",
            "3     0.592275\n",
            "4     0.012320\n",
            "5     0.009760\n",
            "6     0.330579\n",
            "7     0.368028\n",
            "8     0.003982\n",
            "9     0.018944\n",
            "10    0.019793\n",
            "11    0.005182\n",
            "12    0.010400\n",
            "13    0.403732\n",
            "14    0.059196\n",
            "15    0.217304\n",
            "16    0.016724\n",
            "17    0.105204\n",
            "18    0.051320\n",
            "19    0.003277\n",
            "20    0.422628\n",
            "Name: Target, dtype: float64 \n",
            "\n",
            "              precision    recall  f1-score   support\n",
            "\n",
            "           0       0.95      0.98      0.97    236643\n",
            "           1       0.59      0.38      0.46     18771\n",
            "\n",
            "    accuracy                           0.93    255414\n",
            "   macro avg       0.77      0.68      0.71    255414\n",
            "weighted avg       0.92      0.93      0.93    255414\n",
            "\n",
            "Confusion matrix:\n",
            " [[231633   5010]\n",
            " [ 11708   7063]]\n"
          ]
        }
      ]
    },
    {
      "cell_type": "code",
      "source": [
        "y_pred, y_pred_proba = custom_ensemble_2(X_train_SMOTE, y_train_SMOTE, X_test, y_test)\n",
        "print_scoring_reports(y_test, y_pred)"
      ],
      "metadata": {
        "id": "rp7JSs8iWk2w",
        "outputId": "fa40c857-416c-4f2c-eede-877372b68ade",
        "colab": {
          "base_uri": "https://localhost:8080/"
        }
      },
      "execution_count": 316,
      "outputs": [
        {
          "output_type": "stream",
          "name": "stdout",
          "text": [
            "\n",
            " Cluster\n",
            "0     0.383219\n",
            "1     0.121722\n",
            "2     0.019521\n",
            "3     0.727496\n",
            "4     0.769663\n",
            "5     0.033339\n",
            "6     0.896028\n",
            "7     0.780749\n",
            "8     0.055729\n",
            "9     0.845062\n",
            "10    0.048812\n",
            "11    0.045278\n",
            "12    0.058522\n",
            "13    0.695385\n",
            "14    0.048788\n",
            "15    0.262702\n",
            "16    0.790846\n",
            "17    0.822934\n",
            "18    0.068489\n",
            "19    0.843422\n",
            "20    0.794584\n",
            "Name: Target, dtype: float64 \n",
            "\n",
            "              precision    recall  f1-score   support\n",
            "\n",
            "           0       0.99      0.89      0.94    236795\n",
            "           1       0.40      0.92      0.55     18619\n",
            "\n",
            "    accuracy                           0.89    255414\n",
            "   macro avg       0.69      0.90      0.75    255414\n",
            "weighted avg       0.95      0.89      0.91    255414\n",
            "\n",
            "Confusion matrix:\n",
            " [[210814  25981]\n",
            " [  1522  17097]]\n"
          ]
        }
      ]
    },
    {
      "cell_type": "code",
      "source": [
        "y_pred, y_pred_proba = custom_ensemble_2(\n",
        "    X_train_feature_reduced_SMOTE, y_train_feature_reduced_SMOTE, X_test_feature_reduced, y_test_feature_reduced )\n",
        "print_scoring_reports(y_test_feature_reduced, y_pred)"
      ],
      "metadata": {
        "id": "hAvTsFDbWp7z",
        "outputId": "4d2385bc-cd99-45bf-8798-2b92351a5ed7",
        "colab": {
          "base_uri": "https://localhost:8080/"
        }
      },
      "execution_count": 317,
      "outputs": [
        {
          "output_type": "stream",
          "name": "stdout",
          "text": [
            "\n",
            " Cluster\n",
            "0     0.722135\n",
            "1     0.817723\n",
            "2     0.084988\n",
            "3     0.013824\n",
            "4     0.872711\n",
            "5     0.098963\n",
            "6     0.112863\n",
            "7     0.552042\n",
            "8     0.050719\n",
            "9     0.772115\n",
            "10    0.670600\n",
            "11    0.064049\n",
            "12    0.036023\n",
            "13    0.025022\n",
            "14    0.109364\n",
            "15    0.791434\n",
            "16    0.267145\n",
            "17    0.830530\n",
            "18    0.887515\n",
            "19    0.888115\n",
            "20    0.635209\n",
            "Name: Target, dtype: float64 \n",
            "\n",
            "              precision    recall  f1-score   support\n",
            "\n",
            "           0       0.99      0.91      0.94    236643\n",
            "           1       0.41      0.84      0.55     18771\n",
            "\n",
            "    accuracy                           0.90    255414\n",
            "   macro avg       0.70      0.87      0.75    255414\n",
            "weighted avg       0.94      0.90      0.92    255414\n",
            "\n",
            "Confusion matrix:\n",
            " [[214499  22144]\n",
            " [  3064  15707]]\n"
          ]
        }
      ]
    },
    {
      "cell_type": "markdown",
      "source": [
        "New resampling of data to check if resampling helps as it increased the precision values in above model"
      ],
      "metadata": {
        "id": "rrZ1rN8SqlRT"
      }
    },
    {
      "cell_type": "code",
      "source": [
        "X_train_SMOTE1, y_train_SMOTE1 = data_sampling_smote(X_train, y_train, 0.49, 0.51)"
      ],
      "metadata": {
        "id": "a_Gg_SRCpjNI"
      },
      "execution_count": 310,
      "outputs": []
    },
    {
      "cell_type": "code",
      "source": [
        "y_train_SMOTE1.mean()"
      ],
      "metadata": {
        "id": "KVp5gbF9rUIW",
        "outputId": "e6b9a225-c555-4965-8392-9dfbf302d616",
        "colab": {
          "base_uri": "https://localhost:8080/"
        }
      },
      "execution_count": 318,
      "outputs": [
        {
          "output_type": "execute_result",
          "data": {
            "text/plain": [
              "0.3377481522735447"
            ]
          },
          "metadata": {},
          "execution_count": 318
        }
      ]
    },
    {
      "cell_type": "code",
      "source": [
        "y_pred, y_pred_proba = custom_ensemble_2(\n",
        "    X_train_SMOTE1, y_train_SMOTE1, X_test, y_test )\n",
        "\n",
        "print_scoring_reports(y_test, y_pred)"
      ],
      "metadata": {
        "id": "cb6Rr32zq-F5",
        "outputId": "8aaf4a05-a9d0-42b1-a283-a478cabfc3fd",
        "colab": {
          "base_uri": "https://localhost:8080/"
        }
      },
      "execution_count": 319,
      "outputs": [
        {
          "output_type": "stream",
          "name": "stdout",
          "text": [
            "\n",
            " Cluster\n",
            "0     0.024218\n",
            "1     0.133577\n",
            "2     0.841514\n",
            "3     0.082535\n",
            "4     0.902258\n",
            "5     0.036417\n",
            "6     0.017384\n",
            "7     0.708955\n",
            "8     0.026940\n",
            "9     0.809633\n",
            "10    0.357220\n",
            "11    0.215969\n",
            "12    0.154807\n",
            "13    0.029404\n",
            "14    0.858053\n",
            "15    0.791979\n",
            "16    0.452098\n",
            "17    0.766820\n",
            "18    0.865119\n",
            "19    0.718255\n",
            "20    0.104966\n",
            "Name: Target, dtype: float64 \n",
            "\n",
            "              precision    recall  f1-score   support\n",
            "\n",
            "           0       0.99      0.89      0.94    236795\n",
            "           1       0.40      0.92      0.55     18619\n",
            "\n",
            "    accuracy                           0.89    255414\n",
            "   macro avg       0.69      0.91      0.75    255414\n",
            "weighted avg       0.95      0.89      0.91    255414\n",
            "\n",
            "Confusion matrix:\n",
            " [[210492  26303]\n",
            " [  1406  17213]]\n"
          ]
        }
      ]
    },
    {
      "cell_type": "markdown",
      "source": [
        "#____________________________________-END-____________________________________"
      ],
      "metadata": {
        "id": "Vm3CQbOexz1M"
      }
    },
    {
      "cell_type": "markdown",
      "metadata": {
        "id": "ITcEK7TWghaI"
      },
      "source": [
        "We have chosen 3 ML models for hyper parameter tuning and model selection\n",
        "1. Logistic Regression\n",
        "2. Random Forest Classifier\n",
        "3. XGBoost"
      ]
    },
    {
      "cell_type": "code",
      "source": [
        "from sklearn.pipeline import Pipeline\n",
        "from sklearn.model_selection import GridSearchCV\n",
        "from sklearn.linear_model import LogisticRegression\n",
        "from sklearn.ensemble import RandomForestClassifier\n",
        "from xgboost import XGBClassifier\n",
        "\n",
        "# Define the pipeline\n",
        "pipe = Pipeline([\n",
        "    ('clf', None),\n",
        "])\n",
        "\n",
        "# Define the hyperparameters for each estimator in the pipeline\n",
        "param_grid = [\n",
        "    {\n",
        "        'clf': [LogisticRegression(max_iter = 1000, solver='saga', penalty='l1')],\n",
        "        # 'clf__penalty': ['l1', 'l2'],\n",
        "        # 'clf__C': [0.1, 1, 10]\n",
        "    },\n",
        "    {\n",
        "        'clf': [RandomForestClassifier()],\n",
        "        # 'clf__n_estimators': [50, 100, 200],\n",
        "        # 'clf__max_depth': [5, 10, 15]\n",
        "    },\n",
        "    {\n",
        "        'clf': [XGBClassifier()],\n",
        "        # 'clf__learning_rate': [0.1, 0.01, 0.001],\n",
        "        # 'clf__n_estimators': [50, 100, 200]\n",
        "    }\n",
        "]\n",
        "\n",
        "# Create the grid search object\n",
        "grid_SMOTE = GridSearchCV(pipe, param_grid, scoring=['f1','accuracy'], refit='f1', cv=5, n_jobs =-1)\n",
        "grid_resampled = GridSearchCV(pipe, param_grid, scoring=['f1','accuracy'], refit='f1', cv=5,  n_jobs =-1)\n",
        "grid_balanced = GridSearchCV(pipe, param_grid, scoring=['f1','accuracy'], refit='f1', cv=5,  n_jobs =-1)\n",
        "\n",
        "# Fit the grid search to the data\n",
        "grid_SMOTE.fit(X_train_SMOTE, y_train_SMOTE)\n",
        "grid_resampled.fit(X_train_resampled, y_train_resampled)\n",
        "grid_balanced.fit(X_train_balanced, y_train_balanced)\n"
      ],
      "metadata": {
        "id": "s6BAzV3dbJxd"
      },
      "execution_count": null,
      "outputs": []
    },
    {
      "cell_type": "code",
      "source": [
        "print(\"Best estimator: \", grid_SMOTE.best_estimator_)\n",
        "print(\"Best score: \", grid_SMOTE.best_score_)\n",
        "pd.DataFrame(grid_SMOTE.cv_results_)"
      ],
      "metadata": {
        "id": "1TD55xlMcjA3"
      },
      "execution_count": null,
      "outputs": []
    },
    {
      "cell_type": "code",
      "source": [
        "print(\"Best estimator: \", grid_resampled.best_estimator_)\n",
        "print(\"Best score: \", grid_resampled.best_score_)\n",
        "pd.DataFrame(grid_resampled.cv_results_)"
      ],
      "metadata": {
        "id": "PBxVcp9l6ZFW",
        "outputId": "f77c467a-8982-4459-ef51-886a8fece6a2",
        "colab": {
          "base_uri": "https://localhost:8080/",
          "height": 341
        }
      },
      "execution_count": null,
      "outputs": [
        {
          "output_type": "stream",
          "name": "stdout",
          "text": [
            "Best estimator:  Pipeline(steps=[('clf', RandomForestClassifier())])\n",
            "Best score:  0.8821514618107079\n"
          ]
        },
        {
          "output_type": "execute_result",
          "data": {
            "text/plain": [
              "   mean_fit_time  std_fit_time  mean_score_time  std_score_time  \\\n",
              "0       4.338557      1.057089         0.302571        0.180613   \n",
              "1     110.509135     12.460130         5.400821        0.646187   \n",
              "2     183.471700     28.732769         0.901810        0.338936   \n",
              "\n",
              "                                           param_clf  \\\n",
              "0  LogisticRegression(max_iter=1000, solver='newt...   \n",
              "1                           RandomForestClassifier()   \n",
              "2  XGBClassifier(base_score=None, booster=None, c...   \n",
              "\n",
              "                                              params  split0_test_f1  \\\n",
              "0  {'clf': LogisticRegression(max_iter=1000, solv...        0.856346   \n",
              "1                  {'clf': RandomForestClassifier()}        0.881998   \n",
              "2  {'clf': XGBClassifier(base_score=None, booster...        0.876492   \n",
              "\n",
              "   split1_test_f1  split2_test_f1  split3_test_f1  ...  std_test_f1  \\\n",
              "0        0.856945        0.857972        0.856101  ...     0.001115   \n",
              "1        0.881311        0.882203        0.881856  ...     0.000686   \n",
              "2        0.875922        0.877432        0.876475  ...     0.000882   \n",
              "\n",
              "   rank_test_f1  split0_test_accuracy  split1_test_accuracy  \\\n",
              "0             3              0.892968              0.892825   \n",
              "1             1              0.908696              0.907616   \n",
              "2             2              0.904302              0.903424   \n",
              "\n",
              "   split2_test_accuracy  split3_test_accuracy  split4_test_accuracy  \\\n",
              "0              0.893960              0.892318              0.894688   \n",
              "1              0.908822              0.908237              0.909723   \n",
              "2              0.904720              0.903907              0.905687   \n",
              "\n",
              "   mean_test_accuracy  std_test_accuracy  rank_test_accuracy  \n",
              "0            0.893352           0.000854                   3  \n",
              "1            0.908619           0.000696                   1  \n",
              "2            0.904408           0.000770                   2  \n",
              "\n",
              "[3 rows x 22 columns]"
            ],
            "text/html": [
              "\n",
              "  <div id=\"df-338b1820-61f9-42b0-b101-5404f3ff7565\">\n",
              "    <div class=\"colab-df-container\">\n",
              "      <div>\n",
              "<style scoped>\n",
              "    .dataframe tbody tr th:only-of-type {\n",
              "        vertical-align: middle;\n",
              "    }\n",
              "\n",
              "    .dataframe tbody tr th {\n",
              "        vertical-align: top;\n",
              "    }\n",
              "\n",
              "    .dataframe thead th {\n",
              "        text-align: right;\n",
              "    }\n",
              "</style>\n",
              "<table border=\"1\" class=\"dataframe\">\n",
              "  <thead>\n",
              "    <tr style=\"text-align: right;\">\n",
              "      <th></th>\n",
              "      <th>mean_fit_time</th>\n",
              "      <th>std_fit_time</th>\n",
              "      <th>mean_score_time</th>\n",
              "      <th>std_score_time</th>\n",
              "      <th>param_clf</th>\n",
              "      <th>params</th>\n",
              "      <th>split0_test_f1</th>\n",
              "      <th>split1_test_f1</th>\n",
              "      <th>split2_test_f1</th>\n",
              "      <th>split3_test_f1</th>\n",
              "      <th>...</th>\n",
              "      <th>std_test_f1</th>\n",
              "      <th>rank_test_f1</th>\n",
              "      <th>split0_test_accuracy</th>\n",
              "      <th>split1_test_accuracy</th>\n",
              "      <th>split2_test_accuracy</th>\n",
              "      <th>split3_test_accuracy</th>\n",
              "      <th>split4_test_accuracy</th>\n",
              "      <th>mean_test_accuracy</th>\n",
              "      <th>std_test_accuracy</th>\n",
              "      <th>rank_test_accuracy</th>\n",
              "    </tr>\n",
              "  </thead>\n",
              "  <tbody>\n",
              "    <tr>\n",
              "      <th>0</th>\n",
              "      <td>4.338557</td>\n",
              "      <td>1.057089</td>\n",
              "      <td>0.302571</td>\n",
              "      <td>0.180613</td>\n",
              "      <td>LogisticRegression(max_iter=1000, solver='newt...</td>\n",
              "      <td>{'clf': LogisticRegression(max_iter=1000, solv...</td>\n",
              "      <td>0.856346</td>\n",
              "      <td>0.856945</td>\n",
              "      <td>0.857972</td>\n",
              "      <td>0.856101</td>\n",
              "      <td>...</td>\n",
              "      <td>0.001115</td>\n",
              "      <td>3</td>\n",
              "      <td>0.892968</td>\n",
              "      <td>0.892825</td>\n",
              "      <td>0.893960</td>\n",
              "      <td>0.892318</td>\n",
              "      <td>0.894688</td>\n",
              "      <td>0.893352</td>\n",
              "      <td>0.000854</td>\n",
              "      <td>3</td>\n",
              "    </tr>\n",
              "    <tr>\n",
              "      <th>1</th>\n",
              "      <td>110.509135</td>\n",
              "      <td>12.460130</td>\n",
              "      <td>5.400821</td>\n",
              "      <td>0.646187</td>\n",
              "      <td>RandomForestClassifier()</td>\n",
              "      <td>{'clf': RandomForestClassifier()}</td>\n",
              "      <td>0.881998</td>\n",
              "      <td>0.881311</td>\n",
              "      <td>0.882203</td>\n",
              "      <td>0.881856</td>\n",
              "      <td>...</td>\n",
              "      <td>0.000686</td>\n",
              "      <td>1</td>\n",
              "      <td>0.908696</td>\n",
              "      <td>0.907616</td>\n",
              "      <td>0.908822</td>\n",
              "      <td>0.908237</td>\n",
              "      <td>0.909723</td>\n",
              "      <td>0.908619</td>\n",
              "      <td>0.000696</td>\n",
              "      <td>1</td>\n",
              "    </tr>\n",
              "    <tr>\n",
              "      <th>2</th>\n",
              "      <td>183.471700</td>\n",
              "      <td>28.732769</td>\n",
              "      <td>0.901810</td>\n",
              "      <td>0.338936</td>\n",
              "      <td>XGBClassifier(base_score=None, booster=None, c...</td>\n",
              "      <td>{'clf': XGBClassifier(base_score=None, booster...</td>\n",
              "      <td>0.876492</td>\n",
              "      <td>0.875922</td>\n",
              "      <td>0.877432</td>\n",
              "      <td>0.876475</td>\n",
              "      <td>...</td>\n",
              "      <td>0.000882</td>\n",
              "      <td>2</td>\n",
              "      <td>0.904302</td>\n",
              "      <td>0.903424</td>\n",
              "      <td>0.904720</td>\n",
              "      <td>0.903907</td>\n",
              "      <td>0.905687</td>\n",
              "      <td>0.904408</td>\n",
              "      <td>0.000770</td>\n",
              "      <td>2</td>\n",
              "    </tr>\n",
              "  </tbody>\n",
              "</table>\n",
              "<p>3 rows × 22 columns</p>\n",
              "</div>\n",
              "      <button class=\"colab-df-convert\" onclick=\"convertToInteractive('df-338b1820-61f9-42b0-b101-5404f3ff7565')\"\n",
              "              title=\"Convert this dataframe to an interactive table.\"\n",
              "              style=\"display:none;\">\n",
              "        \n",
              "  <svg xmlns=\"http://www.w3.org/2000/svg\" height=\"24px\"viewBox=\"0 0 24 24\"\n",
              "       width=\"24px\">\n",
              "    <path d=\"M0 0h24v24H0V0z\" fill=\"none\"/>\n",
              "    <path d=\"M18.56 5.44l.94 2.06.94-2.06 2.06-.94-2.06-.94-.94-2.06-.94 2.06-2.06.94zm-11 1L8.5 8.5l.94-2.06 2.06-.94-2.06-.94L8.5 2.5l-.94 2.06-2.06.94zm10 10l.94 2.06.94-2.06 2.06-.94-2.06-.94-.94-2.06-.94 2.06-2.06.94z\"/><path d=\"M17.41 7.96l-1.37-1.37c-.4-.4-.92-.59-1.43-.59-.52 0-1.04.2-1.43.59L10.3 9.45l-7.72 7.72c-.78.78-.78 2.05 0 2.83L4 21.41c.39.39.9.59 1.41.59.51 0 1.02-.2 1.41-.59l7.78-7.78 2.81-2.81c.8-.78.8-2.07 0-2.86zM5.41 20L4 18.59l7.72-7.72 1.47 1.35L5.41 20z\"/>\n",
              "  </svg>\n",
              "      </button>\n",
              "      \n",
              "  <style>\n",
              "    .colab-df-container {\n",
              "      display:flex;\n",
              "      flex-wrap:wrap;\n",
              "      gap: 12px;\n",
              "    }\n",
              "\n",
              "    .colab-df-convert {\n",
              "      background-color: #E8F0FE;\n",
              "      border: none;\n",
              "      border-radius: 50%;\n",
              "      cursor: pointer;\n",
              "      display: none;\n",
              "      fill: #1967D2;\n",
              "      height: 32px;\n",
              "      padding: 0 0 0 0;\n",
              "      width: 32px;\n",
              "    }\n",
              "\n",
              "    .colab-df-convert:hover {\n",
              "      background-color: #E2EBFA;\n",
              "      box-shadow: 0px 1px 2px rgba(60, 64, 67, 0.3), 0px 1px 3px 1px rgba(60, 64, 67, 0.15);\n",
              "      fill: #174EA6;\n",
              "    }\n",
              "\n",
              "    [theme=dark] .colab-df-convert {\n",
              "      background-color: #3B4455;\n",
              "      fill: #D2E3FC;\n",
              "    }\n",
              "\n",
              "    [theme=dark] .colab-df-convert:hover {\n",
              "      background-color: #434B5C;\n",
              "      box-shadow: 0px 1px 3px 1px rgba(0, 0, 0, 0.15);\n",
              "      filter: drop-shadow(0px 1px 2px rgba(0, 0, 0, 0.3));\n",
              "      fill: #FFFFFF;\n",
              "    }\n",
              "  </style>\n",
              "\n",
              "      <script>\n",
              "        const buttonEl =\n",
              "          document.querySelector('#df-338b1820-61f9-42b0-b101-5404f3ff7565 button.colab-df-convert');\n",
              "        buttonEl.style.display =\n",
              "          google.colab.kernel.accessAllowed ? 'block' : 'none';\n",
              "\n",
              "        async function convertToInteractive(key) {\n",
              "          const element = document.querySelector('#df-338b1820-61f9-42b0-b101-5404f3ff7565');\n",
              "          const dataTable =\n",
              "            await google.colab.kernel.invokeFunction('convertToInteractive',\n",
              "                                                     [key], {});\n",
              "          if (!dataTable) return;\n",
              "\n",
              "          const docLinkHtml = 'Like what you see? Visit the ' +\n",
              "            '<a target=\"_blank\" href=https://colab.research.google.com/notebooks/data_table.ipynb>data table notebook</a>'\n",
              "            + ' to learn more about interactive tables.';\n",
              "          element.innerHTML = '';\n",
              "          dataTable['output_type'] = 'display_data';\n",
              "          await google.colab.output.renderOutput(dataTable, element);\n",
              "          const docLink = document.createElement('div');\n",
              "          docLink.innerHTML = docLinkHtml;\n",
              "          element.appendChild(docLink);\n",
              "        }\n",
              "      </script>\n",
              "    </div>\n",
              "  </div>\n",
              "  "
            ]
          },
          "metadata": {},
          "execution_count": 55
        }
      ]
    },
    {
      "cell_type": "code",
      "source": [
        "print(\"Best estimator: \", grid_balanced.best_estimator_)\n",
        "print(\"Best score: \", grid_balanced.best_score_)\n",
        "pd.DataFrame(grid_balanced.cv_results_)"
      ],
      "metadata": {
        "id": "PBiOPZS26dO0",
        "outputId": "1727e2ed-3b4e-4566-9f13-1b044bd8f019",
        "colab": {
          "base_uri": "https://localhost:8080/",
          "height": 341
        }
      },
      "execution_count": null,
      "outputs": [
        {
          "output_type": "stream",
          "name": "stdout",
          "text": [
            "Best estimator:  Pipeline(steps=[('clf', RandomForestClassifier())])\n",
            "Best score:  0.8770801443115055\n"
          ]
        },
        {
          "output_type": "execute_result",
          "data": {
            "text/plain": [
              "   mean_fit_time  std_fit_time  mean_score_time  std_score_time  \\\n",
              "0       2.716295      0.587460         0.184176        0.050725   \n",
              "1     113.175412      7.890014         6.037515        0.508383   \n",
              "2     186.847289     18.719829         0.748719        0.115247   \n",
              "\n",
              "                                           param_clf  \\\n",
              "0  LogisticRegression(max_iter=1000, solver='newt...   \n",
              "1                           RandomForestClassifier()   \n",
              "2  XGBClassifier(base_score=None, booster=None, c...   \n",
              "\n",
              "                                              params  split0_test_f1  \\\n",
              "0  {'clf': LogisticRegression(max_iter=1000, solv...        0.851892   \n",
              "1                  {'clf': RandomForestClassifier()}        0.876545   \n",
              "2  {'clf': XGBClassifier(base_score=None, booster...        0.870915   \n",
              "\n",
              "   split1_test_f1  split2_test_f1  split3_test_f1  ...  std_test_f1  \\\n",
              "0        0.852909        0.853443        0.852598  ...     0.000503   \n",
              "1        0.876917        0.877102        0.877382  ...     0.000330   \n",
              "2        0.871208        0.871410        0.872325  ...     0.000688   \n",
              "\n",
              "   rank_test_f1  split0_test_accuracy  split1_test_accuracy  \\\n",
              "0             3              0.892342              0.893790   \n",
              "1             1              0.907160              0.908091   \n",
              "2             2              0.902683              0.903620   \n",
              "\n",
              "   split2_test_accuracy  split3_test_accuracy  split4_test_accuracy  \\\n",
              "0              0.893364              0.893175              0.893844   \n",
              "1              0.907428              0.908085              0.908480   \n",
              "2              0.903018              0.903766              0.904781   \n",
              "\n",
              "   mean_test_accuracy  std_test_accuracy  rank_test_accuracy  \n",
              "0            0.893303           0.000543                   3  \n",
              "1            0.907849           0.000482                   1  \n",
              "2            0.903574           0.000721                   2  \n",
              "\n",
              "[3 rows x 22 columns]"
            ],
            "text/html": [
              "\n",
              "  <div id=\"df-0c4164ad-9d0f-499d-9f76-18f75a98690b\">\n",
              "    <div class=\"colab-df-container\">\n",
              "      <div>\n",
              "<style scoped>\n",
              "    .dataframe tbody tr th:only-of-type {\n",
              "        vertical-align: middle;\n",
              "    }\n",
              "\n",
              "    .dataframe tbody tr th {\n",
              "        vertical-align: top;\n",
              "    }\n",
              "\n",
              "    .dataframe thead th {\n",
              "        text-align: right;\n",
              "    }\n",
              "</style>\n",
              "<table border=\"1\" class=\"dataframe\">\n",
              "  <thead>\n",
              "    <tr style=\"text-align: right;\">\n",
              "      <th></th>\n",
              "      <th>mean_fit_time</th>\n",
              "      <th>std_fit_time</th>\n",
              "      <th>mean_score_time</th>\n",
              "      <th>std_score_time</th>\n",
              "      <th>param_clf</th>\n",
              "      <th>params</th>\n",
              "      <th>split0_test_f1</th>\n",
              "      <th>split1_test_f1</th>\n",
              "      <th>split2_test_f1</th>\n",
              "      <th>split3_test_f1</th>\n",
              "      <th>...</th>\n",
              "      <th>std_test_f1</th>\n",
              "      <th>rank_test_f1</th>\n",
              "      <th>split0_test_accuracy</th>\n",
              "      <th>split1_test_accuracy</th>\n",
              "      <th>split2_test_accuracy</th>\n",
              "      <th>split3_test_accuracy</th>\n",
              "      <th>split4_test_accuracy</th>\n",
              "      <th>mean_test_accuracy</th>\n",
              "      <th>std_test_accuracy</th>\n",
              "      <th>rank_test_accuracy</th>\n",
              "    </tr>\n",
              "  </thead>\n",
              "  <tbody>\n",
              "    <tr>\n",
              "      <th>0</th>\n",
              "      <td>2.716295</td>\n",
              "      <td>0.587460</td>\n",
              "      <td>0.184176</td>\n",
              "      <td>0.050725</td>\n",
              "      <td>LogisticRegression(max_iter=1000, solver='newt...</td>\n",
              "      <td>{'clf': LogisticRegression(max_iter=1000, solv...</td>\n",
              "      <td>0.851892</td>\n",
              "      <td>0.852909</td>\n",
              "      <td>0.853443</td>\n",
              "      <td>0.852598</td>\n",
              "      <td>...</td>\n",
              "      <td>0.000503</td>\n",
              "      <td>3</td>\n",
              "      <td>0.892342</td>\n",
              "      <td>0.893790</td>\n",
              "      <td>0.893364</td>\n",
              "      <td>0.893175</td>\n",
              "      <td>0.893844</td>\n",
              "      <td>0.893303</td>\n",
              "      <td>0.000543</td>\n",
              "      <td>3</td>\n",
              "    </tr>\n",
              "    <tr>\n",
              "      <th>1</th>\n",
              "      <td>113.175412</td>\n",
              "      <td>7.890014</td>\n",
              "      <td>6.037515</td>\n",
              "      <td>0.508383</td>\n",
              "      <td>RandomForestClassifier()</td>\n",
              "      <td>{'clf': RandomForestClassifier()}</td>\n",
              "      <td>0.876545</td>\n",
              "      <td>0.876917</td>\n",
              "      <td>0.877102</td>\n",
              "      <td>0.877382</td>\n",
              "      <td>...</td>\n",
              "      <td>0.000330</td>\n",
              "      <td>1</td>\n",
              "      <td>0.907160</td>\n",
              "      <td>0.908091</td>\n",
              "      <td>0.907428</td>\n",
              "      <td>0.908085</td>\n",
              "      <td>0.908480</td>\n",
              "      <td>0.907849</td>\n",
              "      <td>0.000482</td>\n",
              "      <td>1</td>\n",
              "    </tr>\n",
              "    <tr>\n",
              "      <th>2</th>\n",
              "      <td>186.847289</td>\n",
              "      <td>18.719829</td>\n",
              "      <td>0.748719</td>\n",
              "      <td>0.115247</td>\n",
              "      <td>XGBClassifier(base_score=None, booster=None, c...</td>\n",
              "      <td>{'clf': XGBClassifier(base_score=None, booster...</td>\n",
              "      <td>0.870915</td>\n",
              "      <td>0.871208</td>\n",
              "      <td>0.871410</td>\n",
              "      <td>0.872325</td>\n",
              "      <td>...</td>\n",
              "      <td>0.000688</td>\n",
              "      <td>2</td>\n",
              "      <td>0.902683</td>\n",
              "      <td>0.903620</td>\n",
              "      <td>0.903018</td>\n",
              "      <td>0.903766</td>\n",
              "      <td>0.904781</td>\n",
              "      <td>0.903574</td>\n",
              "      <td>0.000721</td>\n",
              "      <td>2</td>\n",
              "    </tr>\n",
              "  </tbody>\n",
              "</table>\n",
              "<p>3 rows × 22 columns</p>\n",
              "</div>\n",
              "      <button class=\"colab-df-convert\" onclick=\"convertToInteractive('df-0c4164ad-9d0f-499d-9f76-18f75a98690b')\"\n",
              "              title=\"Convert this dataframe to an interactive table.\"\n",
              "              style=\"display:none;\">\n",
              "        \n",
              "  <svg xmlns=\"http://www.w3.org/2000/svg\" height=\"24px\"viewBox=\"0 0 24 24\"\n",
              "       width=\"24px\">\n",
              "    <path d=\"M0 0h24v24H0V0z\" fill=\"none\"/>\n",
              "    <path d=\"M18.56 5.44l.94 2.06.94-2.06 2.06-.94-2.06-.94-.94-2.06-.94 2.06-2.06.94zm-11 1L8.5 8.5l.94-2.06 2.06-.94-2.06-.94L8.5 2.5l-.94 2.06-2.06.94zm10 10l.94 2.06.94-2.06 2.06-.94-2.06-.94-.94-2.06-.94 2.06-2.06.94z\"/><path d=\"M17.41 7.96l-1.37-1.37c-.4-.4-.92-.59-1.43-.59-.52 0-1.04.2-1.43.59L10.3 9.45l-7.72 7.72c-.78.78-.78 2.05 0 2.83L4 21.41c.39.39.9.59 1.41.59.51 0 1.02-.2 1.41-.59l7.78-7.78 2.81-2.81c.8-.78.8-2.07 0-2.86zM5.41 20L4 18.59l7.72-7.72 1.47 1.35L5.41 20z\"/>\n",
              "  </svg>\n",
              "      </button>\n",
              "      \n",
              "  <style>\n",
              "    .colab-df-container {\n",
              "      display:flex;\n",
              "      flex-wrap:wrap;\n",
              "      gap: 12px;\n",
              "    }\n",
              "\n",
              "    .colab-df-convert {\n",
              "      background-color: #E8F0FE;\n",
              "      border: none;\n",
              "      border-radius: 50%;\n",
              "      cursor: pointer;\n",
              "      display: none;\n",
              "      fill: #1967D2;\n",
              "      height: 32px;\n",
              "      padding: 0 0 0 0;\n",
              "      width: 32px;\n",
              "    }\n",
              "\n",
              "    .colab-df-convert:hover {\n",
              "      background-color: #E2EBFA;\n",
              "      box-shadow: 0px 1px 2px rgba(60, 64, 67, 0.3), 0px 1px 3px 1px rgba(60, 64, 67, 0.15);\n",
              "      fill: #174EA6;\n",
              "    }\n",
              "\n",
              "    [theme=dark] .colab-df-convert {\n",
              "      background-color: #3B4455;\n",
              "      fill: #D2E3FC;\n",
              "    }\n",
              "\n",
              "    [theme=dark] .colab-df-convert:hover {\n",
              "      background-color: #434B5C;\n",
              "      box-shadow: 0px 1px 3px 1px rgba(0, 0, 0, 0.15);\n",
              "      filter: drop-shadow(0px 1px 2px rgba(0, 0, 0, 0.3));\n",
              "      fill: #FFFFFF;\n",
              "    }\n",
              "  </style>\n",
              "\n",
              "      <script>\n",
              "        const buttonEl =\n",
              "          document.querySelector('#df-0c4164ad-9d0f-499d-9f76-18f75a98690b button.colab-df-convert');\n",
              "        buttonEl.style.display =\n",
              "          google.colab.kernel.accessAllowed ? 'block' : 'none';\n",
              "\n",
              "        async function convertToInteractive(key) {\n",
              "          const element = document.querySelector('#df-0c4164ad-9d0f-499d-9f76-18f75a98690b');\n",
              "          const dataTable =\n",
              "            await google.colab.kernel.invokeFunction('convertToInteractive',\n",
              "                                                     [key], {});\n",
              "          if (!dataTable) return;\n",
              "\n",
              "          const docLinkHtml = 'Like what you see? Visit the ' +\n",
              "            '<a target=\"_blank\" href=https://colab.research.google.com/notebooks/data_table.ipynb>data table notebook</a>'\n",
              "            + ' to learn more about interactive tables.';\n",
              "          element.innerHTML = '';\n",
              "          dataTable['output_type'] = 'display_data';\n",
              "          await google.colab.output.renderOutput(dataTable, element);\n",
              "          const docLink = document.createElement('div');\n",
              "          docLink.innerHTML = docLinkHtml;\n",
              "          element.appendChild(docLink);\n",
              "        }\n",
              "      </script>\n",
              "    </div>\n",
              "  </div>\n",
              "  "
            ]
          },
          "metadata": {},
          "execution_count": 56
        }
      ]
    },
    {
      "cell_type": "code",
      "source": [
        "print(grid_SMOTE.best_estimator_.score(X_val,y_val),\"\\n\",grid_resampled.best_estimator_.score(X_val,y_val),\n",
        "      \"\\n\", grid_balanced.best_estimator_.score(X_val,y_val))"
      ],
      "metadata": {
        "id": "Dl4jGRvF0hDe",
        "outputId": "ae888258-1eeb-4905-9a26-10361ff4907f",
        "colab": {
          "base_uri": "https://localhost:8080/"
        }
      },
      "execution_count": null,
      "outputs": [
        {
          "output_type": "stream",
          "name": "stdout",
          "text": [
            "0.8913320096202249 \n",
            " 0.8942404496895799 \n",
            " 0.8966455059007774\n"
          ]
        }
      ]
    },
    {
      "cell_type": "code",
      "execution_count": null,
      "metadata": {
        "id": "s1nnQLJqghaI"
      },
      "outputs": [],
      "source": [
        "# put models in dictionary\n",
        "\n",
        "models = {\"Logistic Regression\": LogisticRegression(),\n",
        "          \"Random Forest\": RandomForestClassifier()}\n",
        "\n",
        "def fit_and_score(models, X_train, X_test, y_train, y_test):\n",
        "    model_scores = {}\n",
        "    for name, model in models.items():\n",
        "        model.fit(X_train, y_train)\n",
        "        model_scores[name] = model.score(X_test, y_test)\n",
        "    return model_scores"
      ]
    },
    {
      "cell_type": "code",
      "execution_count": null,
      "metadata": {
        "id": "OJb0yxknghaJ",
        "outputId": "9ed251c7-d9f4-471a-8940-a2c4769053a8",
        "colab": {
          "base_uri": "https://localhost:8080/"
        }
      },
      "outputs": [
        {
          "output_type": "stream",
          "name": "stderr",
          "text": [
            "/usr/local/lib/python3.9/dist-packages/sklearn/linear_model/_logistic.py:458: ConvergenceWarning: lbfgs failed to converge (status=1):\n",
            "STOP: TOTAL NO. of ITERATIONS REACHED LIMIT.\n",
            "\n",
            "Increase the number of iterations (max_iter) or scale the data as shown in:\n",
            "    https://scikit-learn.org/stable/modules/preprocessing.html\n",
            "Please also refer to the documentation for alternative solver options:\n",
            "    https://scikit-learn.org/stable/modules/linear_model.html#logistic-regression\n",
            "  n_iter_i = _check_optimize_result(\n"
          ]
        },
        {
          "output_type": "execute_result",
          "data": {
            "text/plain": [
              "{'Logistic Regression': 0.9365588187793336,\n",
              " 'Random Forest': 0.9357953516598069}"
            ]
          },
          "metadata": {},
          "execution_count": 45
        }
      ],
      "source": [
        "model_scores = fit_and_score(models=models,\n",
        "                             X_train=X_train,\n",
        "                             X_test=X_test,\n",
        "                             y_train=y_train,\n",
        "                             y_test=y_test)\n",
        "\n",
        "model_scores"
      ]
    },
    {
      "cell_type": "markdown",
      "metadata": {
        "id": "Ps4KZNE9ghaJ"
      },
      "source": [
        "## Model Comparision"
      ]
    },
    {
      "cell_type": "code",
      "execution_count": null,
      "metadata": {
        "id": "0-lOuGyMghaK",
        "outputId": "944fac40-6759-43c9-d2c6-5547e4b4984c",
        "colab": {
          "base_uri": "https://localhost:8080/",
          "height": 549
        }
      },
      "outputs": [
        {
          "output_type": "display_data",
          "data": {
            "text/plain": [
              "<Figure size 640x480 with 1 Axes>"
            ],
            "image/png": "[encoded data removed]"
          },
          "metadata": {}
        }
      ],
      "source": [
        "model_compare = pd.DataFrame(model_scores, index=[\"accuracy\"])\n",
        "model_compare.T.plot.bar();"
      ]
    },
    {
      "cell_type": "code",
      "execution_count": null,
      "metadata": {
        "id": "jrsOFy9UghaK"
      },
      "outputs": [],
      "source": []
    }
  ],
  "metadata": {
    "colab": {
      "provenance": [],
      "toc_visible": true,
      "include_colab_link": true
    },
    "kernelspec": {
      "display_name": "Python 3 (ipykernel)",
      "language": "python",
      "name": "python3"
    },
    "language_info": {
      "codemirror_mode": {
        "name": "ipython",
        "version": 3
      },
      "file_extension": ".py",
      "mimetype": "text/x-python",
      "name": "python",
      "nbconvert_exporter": "python",
      "pygments_lexer": "ipython3",
      "version": "3.10.4"
    },
    "gpuClass": "standard"
  },
  "nbformat": 4,
  "nbformat_minor": 0
}