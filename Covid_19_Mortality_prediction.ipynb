{
  "cells": [
    {
      "cell_type": "markdown",
      "metadata": {
        "id": "view-in-github",
        "colab_type": "text"
      },
      "source": [
        "<a href=\"https://colab.research.google.com/github/IISC-ICAIML-Project/Covid-19-Mortality-Prediction/blob/Covid-19-Mortality-Prediction-DataPreProcessing/Covid_19_Mortality_prediction.ipynb\" target=\"_parent\"><img src=\"https://colab.research.google.com/assets/colab-badge.svg\" alt=\"Open In Colab\"/></a>"
      ]
    },
    {
      "cell_type": "markdown",
      "metadata": {
        "id": "CXCvPaCeghZw"
      },
      "source": [
        "## Preparing the tools\n",
        "\n",
        "pandas, numpy and matplotlib for data analysis and manipulation"
      ]
    },
    {
      "cell_type": "code",
      "execution_count": 1,
      "metadata": {
        "id": "B0cDCKJoghZ4"
      },
      "outputs": [],
      "source": [
        "import numpy as np\n",
        "import pandas as pd\n",
        "import matplotlib.pyplot as plt"
      ]
    },
    {
      "cell_type": "markdown",
      "metadata": {
        "id": "m5r7-cDrghZ6"
      },
      "source": [
        "## Models from Scikit learn"
      ]
    },
    {
      "cell_type": "code",
      "execution_count": 2,
      "metadata": {
        "id": "JDlwPPnZghZ7"
      },
      "outputs": [],
      "source": [
        "from sklearn.linear_model import LogisticRegression\n",
        "from sklearn.ensemble import RandomForestClassifier\n",
        "\n",
        "from sklearn.model_selection import train_test_split, cross_val_score, RandomizedSearchCV, GridSearchCV\n",
        "from sklearn.metrics import confusion_matrix, classification_report, precision_score, recall_score, f1_score, RocCurveDisplay \n"
      ]
    },
    {
      "cell_type": "markdown",
      "metadata": {
        "id": "Sv71R6mtwyWj"
      },
      "source": [
        "## Data Exploration"
      ]
    },
    {
      "cell_type": "code",
      "execution_count": 3,
      "metadata": {
        "id": "XeQcZ61XwlGK"
      },
      "outputs": [],
      "source": [
        "# load the data into a data frame\n",
        "\n",
        "df = pd.read_csv('https://github.com/IISC-ICAIML-Porject/Covid-19-Mortality-Prediction/blob/master/data/Covid%20Data.csv?raw=true',header=0)"
      ]
    },
    {
      "cell_type": "code",
      "execution_count": 4,
      "metadata": {
        "colab": {
          "base_uri": "https://localhost:8080/",
          "height": 299
        },
        "id": "wnpzzToKx5eL",
        "outputId": "6141ca66-42bd-4c37-8cc4-5bcd6807e1cc"
      },
      "outputs": [
        {
          "output_type": "execute_result",
          "data": {
            "text/plain": [
              "   USMER  MEDICAL_UNIT  SEX  PATIENT_TYPE   DATE_DIED  INTUBED  PNEUMONIA  \\\n",
              "0      2             1    1             1  03/05/2020       97          1   \n",
              "1      2             1    2             1  03/06/2020       97          1   \n",
              "2      2             1    2             2  09/06/2020        1          2   \n",
              "3      2             1    1             1  12/06/2020       97          2   \n",
              "4      2             1    2             1  21/06/2020       97          2   \n",
              "\n",
              "   AGE  PREGNANT  DIABETES  ...  ASTHMA  INMSUPR  HIPERTENSION  OTHER_DISEASE  \\\n",
              "0   65         2         2  ...       2        2             1              2   \n",
              "1   72        97         2  ...       2        2             1              2   \n",
              "2   55        97         1  ...       2        2             2              2   \n",
              "3   53         2         2  ...       2        2             2              2   \n",
              "4   68        97         1  ...       2        2             1              2   \n",
              "\n",
              "   CARDIOVASCULAR  OBESITY  RENAL_CHRONIC  TOBACCO  CLASIFFICATION_FINAL  ICU  \n",
              "0               2        2              2        2                     3   97  \n",
              "1               2        1              1        2                     5   97  \n",
              "2               2        2              2        2                     3    2  \n",
              "3               2        2              2        2                     7   97  \n",
              "4               2        2              2        2                     3   97  \n",
              "\n",
              "[5 rows x 21 columns]"
            ],
            "text/html": [
              "\n",
              "  <div id=\"df-4db5f6ec-d58b-47ed-8db9-1af34a7347a2\">\n",
              "    <div class=\"colab-df-container\">\n",
              "      <div>\n",
              "<style scoped>\n",
              "    .dataframe tbody tr th:only-of-type {\n",
              "        vertical-align: middle;\n",
              "    }\n",
              "\n",
              "    .dataframe tbody tr th {\n",
              "        vertical-align: top;\n",
              "    }\n",
              "\n",
              "    .dataframe thead th {\n",
              "        text-align: right;\n",
              "    }\n",
              "</style>\n",
              "<table border=\"1\" class=\"dataframe\">\n",
              "  <thead>\n",
              "    <tr style=\"text-align: right;\">\n",
              "      <th></th>\n",
              "      <th>USMER</th>\n",
              "      <th>MEDICAL_UNIT</th>\n",
              "      <th>SEX</th>\n",
              "      <th>PATIENT_TYPE</th>\n",
              "      <th>DATE_DIED</th>\n",
              "      <th>INTUBED</th>\n",
              "      <th>PNEUMONIA</th>\n",
              "      <th>AGE</th>\n",
              "      <th>PREGNANT</th>\n",
              "      <th>DIABETES</th>\n",
              "      <th>...</th>\n",
              "      <th>ASTHMA</th>\n",
              "      <th>INMSUPR</th>\n",
              "      <th>HIPERTENSION</th>\n",
              "      <th>OTHER_DISEASE</th>\n",
              "      <th>CARDIOVASCULAR</th>\n",
              "      <th>OBESITY</th>\n",
              "      <th>RENAL_CHRONIC</th>\n",
              "      <th>TOBACCO</th>\n",
              "      <th>CLASIFFICATION_FINAL</th>\n",
              "      <th>ICU</th>\n",
              "    </tr>\n",
              "  </thead>\n",
              "  <tbody>\n",
              "    <tr>\n",
              "      <th>0</th>\n",
              "      <td>2</td>\n",
              "      <td>1</td>\n",
              "      <td>1</td>\n",
              "      <td>1</td>\n",
              "      <td>03/05/2020</td>\n",
              "      <td>97</td>\n",
              "      <td>1</td>\n",
              "      <td>65</td>\n",
              "      <td>2</td>\n",
              "      <td>2</td>\n",
              "      <td>...</td>\n",
              "      <td>2</td>\n",
              "      <td>2</td>\n",
              "      <td>1</td>\n",
              "      <td>2</td>\n",
              "      <td>2</td>\n",
              "      <td>2</td>\n",
              "      <td>2</td>\n",
              "      <td>2</td>\n",
              "      <td>3</td>\n",
              "      <td>97</td>\n",
              "    </tr>\n",
              "    <tr>\n",
              "      <th>1</th>\n",
              "      <td>2</td>\n",
              "      <td>1</td>\n",
              "      <td>2</td>\n",
              "      <td>1</td>\n",
              "      <td>03/06/2020</td>\n",
              "      <td>97</td>\n",
              "      <td>1</td>\n",
              "      <td>72</td>\n",
              "      <td>97</td>\n",
              "      <td>2</td>\n",
              "      <td>...</td>\n",
              "      <td>2</td>\n",
              "      <td>2</td>\n",
              "      <td>1</td>\n",
              "      <td>2</td>\n",
              "      <td>2</td>\n",
              "      <td>1</td>\n",
              "      <td>1</td>\n",
              "      <td>2</td>\n",
              "      <td>5</td>\n",
              "      <td>97</td>\n",
              "    </tr>\n",
              "    <tr>\n",
              "      <th>2</th>\n",
              "      <td>2</td>\n",
              "      <td>1</td>\n",
              "      <td>2</td>\n",
              "      <td>2</td>\n",
              "      <td>09/06/2020</td>\n",
              "      <td>1</td>\n",
              "      <td>2</td>\n",
              "      <td>55</td>\n",
              "      <td>97</td>\n",
              "      <td>1</td>\n",
              "      <td>...</td>\n",
              "      <td>2</td>\n",
              "      <td>2</td>\n",
              "      <td>2</td>\n",
              "      <td>2</td>\n",
              "      <td>2</td>\n",
              "      <td>2</td>\n",
              "      <td>2</td>\n",
              "      <td>2</td>\n",
              "      <td>3</td>\n",
              "      <td>2</td>\n",
              "    </tr>\n",
              "    <tr>\n",
              "      <th>3</th>\n",
              "      <td>2</td>\n",
              "      <td>1</td>\n",
              "      <td>1</td>\n",
              "      <td>1</td>\n",
              "      <td>12/06/2020</td>\n",
              "      <td>97</td>\n",
              "      <td>2</td>\n",
              "      <td>53</td>\n",
              "      <td>2</td>\n",
              "      <td>2</td>\n",
              "      <td>...</td>\n",
              "      <td>2</td>\n",
              "      <td>2</td>\n",
              "      <td>2</td>\n",
              "      <td>2</td>\n",
              "      <td>2</td>\n",
              "      <td>2</td>\n",
              "      <td>2</td>\n",
              "      <td>2</td>\n",
              "      <td>7</td>\n",
              "      <td>97</td>\n",
              "    </tr>\n",
              "    <tr>\n",
              "      <th>4</th>\n",
              "      <td>2</td>\n",
              "      <td>1</td>\n",
              "      <td>2</td>\n",
              "      <td>1</td>\n",
              "      <td>21/06/2020</td>\n",
              "      <td>97</td>\n",
              "      <td>2</td>\n",
              "      <td>68</td>\n",
              "      <td>97</td>\n",
              "      <td>1</td>\n",
              "      <td>...</td>\n",
              "      <td>2</td>\n",
              "      <td>2</td>\n",
              "      <td>1</td>\n",
              "      <td>2</td>\n",
              "      <td>2</td>\n",
              "      <td>2</td>\n",
              "      <td>2</td>\n",
              "      <td>2</td>\n",
              "      <td>3</td>\n",
              "      <td>97</td>\n",
              "    </tr>\n",
              "  </tbody>\n",
              "</table>\n",
              "<p>5 rows × 21 columns</p>\n",
              "</div>\n",
              "      <button class=\"colab-df-convert\" onclick=\"convertToInteractive('df-4db5f6ec-d58b-47ed-8db9-1af34a7347a2')\"\n",
              "              title=\"Convert this dataframe to an interactive table.\"\n",
              "              style=\"display:none;\">\n",
              "        \n",
              "  <svg xmlns=\"http://www.w3.org/2000/svg\" height=\"24px\"viewBox=\"0 0 24 24\"\n",
              "       width=\"24px\">\n",
              "    <path d=\"M0 0h24v24H0V0z\" fill=\"none\"/>\n",
              "    <path d=\"M18.56 5.44l.94 2.06.94-2.06 2.06-.94-2.06-.94-.94-2.06-.94 2.06-2.06.94zm-11 1L8.5 8.5l.94-2.06 2.06-.94-2.06-.94L8.5 2.5l-.94 2.06-2.06.94zm10 10l.94 2.06.94-2.06 2.06-.94-2.06-.94-.94-2.06-.94 2.06-2.06.94z\"/><path d=\"M17.41 7.96l-1.37-1.37c-.4-.4-.92-.59-1.43-.59-.52 0-1.04.2-1.43.59L10.3 9.45l-7.72 7.72c-.78.78-.78 2.05 0 2.83L4 21.41c.39.39.9.59 1.41.59.51 0 1.02-.2 1.41-.59l7.78-7.78 2.81-2.81c.8-.78.8-2.07 0-2.86zM5.41 20L4 18.59l7.72-7.72 1.47 1.35L5.41 20z\"/>\n",
              "  </svg>\n",
              "      </button>\n",
              "      \n",
              "  <style>\n",
              "    .colab-df-container {\n",
              "      display:flex;\n",
              "      flex-wrap:wrap;\n",
              "      gap: 12px;\n",
              "    }\n",
              "\n",
              "    .colab-df-convert {\n",
              "      background-color: #E8F0FE;\n",
              "      border: none;\n",
              "      border-radius: 50%;\n",
              "      cursor: pointer;\n",
              "      display: none;\n",
              "      fill: #1967D2;\n",
              "      height: 32px;\n",
              "      padding: 0 0 0 0;\n",
              "      width: 32px;\n",
              "    }\n",
              "\n",
              "    .colab-df-convert:hover {\n",
              "      background-color: #E2EBFA;\n",
              "      box-shadow: 0px 1px 2px rgba(60, 64, 67, 0.3), 0px 1px 3px 1px rgba(60, 64, 67, 0.15);\n",
              "      fill: #174EA6;\n",
              "    }\n",
              "\n",
              "    [theme=dark] .colab-df-convert {\n",
              "      background-color: #3B4455;\n",
              "      fill: #D2E3FC;\n",
              "    }\n",
              "\n",
              "    [theme=dark] .colab-df-convert:hover {\n",
              "      background-color: #434B5C;\n",
              "      box-shadow: 0px 1px 3px 1px rgba(0, 0, 0, 0.15);\n",
              "      filter: drop-shadow(0px 1px 2px rgba(0, 0, 0, 0.3));\n",
              "      fill: #FFFFFF;\n",
              "    }\n",
              "  </style>\n",
              "\n",
              "      <script>\n",
              "        const buttonEl =\n",
              "          document.querySelector('#df-4db5f6ec-d58b-47ed-8db9-1af34a7347a2 button.colab-df-convert');\n",
              "        buttonEl.style.display =\n",
              "          google.colab.kernel.accessAllowed ? 'block' : 'none';\n",
              "\n",
              "        async function convertToInteractive(key) {\n",
              "          const element = document.querySelector('#df-4db5f6ec-d58b-47ed-8db9-1af34a7347a2');\n",
              "          const dataTable =\n",
              "            await google.colab.kernel.invokeFunction('convertToInteractive',\n",
              "                                                     [key], {});\n",
              "          if (!dataTable) return;\n",
              "\n",
              "          const docLinkHtml = 'Like what you see? Visit the ' +\n",
              "            '<a target=\"_blank\" href=https://colab.research.google.com/notebooks/data_table.ipynb>data table notebook</a>'\n",
              "            + ' to learn more about interactive tables.';\n",
              "          element.innerHTML = '';\n",
              "          dataTable['output_type'] = 'display_data';\n",
              "          await google.colab.output.renderOutput(dataTable, element);\n",
              "          const docLink = document.createElement('div');\n",
              "          docLink.innerHTML = docLinkHtml;\n",
              "          element.appendChild(docLink);\n",
              "        }\n",
              "      </script>\n",
              "    </div>\n",
              "  </div>\n",
              "  "
            ]
          },
          "metadata": {},
          "execution_count": 4
        }
      ],
      "source": [
        "df.head()"
      ]
    },
    {
      "cell_type": "code",
      "execution_count": 5,
      "metadata": {
        "colab": {
          "base_uri": "https://localhost:8080/",
          "height": 364
        },
        "id": "IBZstURLyEHL",
        "outputId": "f97eb0fe-a1fc-46e3-a27b-077fbf974751"
      },
      "outputs": [
        {
          "output_type": "execute_result",
          "data": {
            "text/plain": [
              "              USMER  MEDICAL_UNIT           SEX  PATIENT_TYPE       INTUBED  \\\n",
              "count  1.048575e+06  1.048575e+06  1.048575e+06  1.048575e+06  1.048575e+06   \n",
              "mean   1.632194e+00  8.980565e+00  1.499259e+00  1.190765e+00  7.952288e+01   \n",
              "std    4.822084e-01  3.723278e+00  4.999997e-01  3.929041e-01  3.686889e+01   \n",
              "min    1.000000e+00  1.000000e+00  1.000000e+00  1.000000e+00  1.000000e+00   \n",
              "25%    1.000000e+00  4.000000e+00  1.000000e+00  1.000000e+00  9.700000e+01   \n",
              "50%    2.000000e+00  1.200000e+01  1.000000e+00  1.000000e+00  9.700000e+01   \n",
              "75%    2.000000e+00  1.200000e+01  2.000000e+00  1.000000e+00  9.700000e+01   \n",
              "max    2.000000e+00  1.300000e+01  2.000000e+00  2.000000e+00  9.900000e+01   \n",
              "\n",
              "          PNEUMONIA           AGE      PREGNANT      DIABETES          COPD  \\\n",
              "count  1.048575e+06  1.048575e+06  1.048575e+06  1.048575e+06  1.048575e+06   \n",
              "mean   3.346831e+00  4.179410e+01  4.976558e+01  2.186404e+00  2.260569e+00   \n",
              "std    1.191288e+01  1.690739e+01  4.751073e+01  5.424242e+00  5.132258e+00   \n",
              "min    1.000000e+00  0.000000e+00  1.000000e+00  1.000000e+00  1.000000e+00   \n",
              "25%    2.000000e+00  3.000000e+01  2.000000e+00  2.000000e+00  2.000000e+00   \n",
              "50%    2.000000e+00  4.000000e+01  9.700000e+01  2.000000e+00  2.000000e+00   \n",
              "75%    2.000000e+00  5.300000e+01  9.700000e+01  2.000000e+00  2.000000e+00   \n",
              "max    9.900000e+01  1.210000e+02  9.800000e+01  9.800000e+01  9.800000e+01   \n",
              "\n",
              "             ASTHMA       INMSUPR  HIPERTENSION  OTHER_DISEASE  \\\n",
              "count  1.048575e+06  1.048575e+06  1.048575e+06   1.048575e+06   \n",
              "mean   2.242626e+00  2.298132e+00  2.128989e+00   2.435143e+00   \n",
              "std    5.114089e+00  5.462843e+00  5.236397e+00   6.646676e+00   \n",
              "min    1.000000e+00  1.000000e+00  1.000000e+00   1.000000e+00   \n",
              "25%    2.000000e+00  2.000000e+00  2.000000e+00   2.000000e+00   \n",
              "50%    2.000000e+00  2.000000e+00  2.000000e+00   2.000000e+00   \n",
              "75%    2.000000e+00  2.000000e+00  2.000000e+00   2.000000e+00   \n",
              "max    9.800000e+01  9.800000e+01  9.800000e+01   9.800000e+01   \n",
              "\n",
              "       CARDIOVASCULAR       OBESITY  RENAL_CHRONIC       TOBACCO  \\\n",
              "count    1.048575e+06  1.048575e+06   1.048575e+06  1.048575e+06   \n",
              "mean     2.261810e+00  2.125176e+00   2.257180e+00  2.214333e+00   \n",
              "std      5.194850e+00  5.175445e+00   5.135354e+00  5.323097e+00   \n",
              "min      1.000000e+00  1.000000e+00   1.000000e+00  1.000000e+00   \n",
              "25%      2.000000e+00  2.000000e+00   2.000000e+00  2.000000e+00   \n",
              "50%      2.000000e+00  2.000000e+00   2.000000e+00  2.000000e+00   \n",
              "75%      2.000000e+00  2.000000e+00   2.000000e+00  2.000000e+00   \n",
              "max      9.800000e+01  9.800000e+01   9.800000e+01  9.800000e+01   \n",
              "\n",
              "       CLASIFFICATION_FINAL           ICU  \n",
              "count          1.048575e+06  1.048575e+06  \n",
              "mean           5.305653e+00  7.955397e+01  \n",
              "std            1.881165e+00  3.682307e+01  \n",
              "min            1.000000e+00  1.000000e+00  \n",
              "25%            3.000000e+00  9.700000e+01  \n",
              "50%            6.000000e+00  9.700000e+01  \n",
              "75%            7.000000e+00  9.700000e+01  \n",
              "max            7.000000e+00  9.900000e+01  "
            ],
            "text/html": [
              "\n",
              "  <div id=\"df-31fb30b3-ad00-4884-a819-99e48f79d9b9\">\n",
              "    <div class=\"colab-df-container\">\n",
              "      <div>\n",
              "<style scoped>\n",
              "    .dataframe tbody tr th:only-of-type {\n",
              "        vertical-align: middle;\n",
              "    }\n",
              "\n",
              "    .dataframe tbody tr th {\n",
              "        vertical-align: top;\n",
              "    }\n",
              "\n",
              "    .dataframe thead th {\n",
              "        text-align: right;\n",
              "    }\n",
              "</style>\n",
              "<table border=\"1\" class=\"dataframe\">\n",
              "  <thead>\n",
              "    <tr style=\"text-align: right;\">\n",
              "      <th></th>\n",
              "      <th>USMER</th>\n",
              "      <th>MEDICAL_UNIT</th>\n",
              "      <th>SEX</th>\n",
              "      <th>PATIENT_TYPE</th>\n",
              "      <th>INTUBED</th>\n",
              "      <th>PNEUMONIA</th>\n",
              "      <th>AGE</th>\n",
              "      <th>PREGNANT</th>\n",
              "      <th>DIABETES</th>\n",
              "      <th>COPD</th>\n",
              "      <th>ASTHMA</th>\n",
              "      <th>INMSUPR</th>\n",
              "      <th>HIPERTENSION</th>\n",
              "      <th>OTHER_DISEASE</th>\n",
              "      <th>CARDIOVASCULAR</th>\n",
              "      <th>OBESITY</th>\n",
              "      <th>RENAL_CHRONIC</th>\n",
              "      <th>TOBACCO</th>\n",
              "      <th>CLASIFFICATION_FINAL</th>\n",
              "      <th>ICU</th>\n",
              "    </tr>\n",
              "  </thead>\n",
              "  <tbody>\n",
              "    <tr>\n",
              "      <th>count</th>\n",
              "      <td>1.048575e+06</td>\n",
              "      <td>1.048575e+06</td>\n",
              "      <td>1.048575e+06</td>\n",
              "      <td>1.048575e+06</td>\n",
              "      <td>1.048575e+06</td>\n",
              "      <td>1.048575e+06</td>\n",
              "      <td>1.048575e+06</td>\n",
              "      <td>1.048575e+06</td>\n",
              "      <td>1.048575e+06</td>\n",
              "      <td>1.048575e+06</td>\n",
              "      <td>1.048575e+06</td>\n",
              "      <td>1.048575e+06</td>\n",
              "      <td>1.048575e+06</td>\n",
              "      <td>1.048575e+06</td>\n",
              "      <td>1.048575e+06</td>\n",
              "      <td>1.048575e+06</td>\n",
              "      <td>1.048575e+06</td>\n",
              "      <td>1.048575e+06</td>\n",
              "      <td>1.048575e+06</td>\n",
              "      <td>1.048575e+06</td>\n",
              "    </tr>\n",
              "    <tr>\n",
              "      <th>mean</th>\n",
              "      <td>1.632194e+00</td>\n",
              "      <td>8.980565e+00</td>\n",
              "      <td>1.499259e+00</td>\n",
              "      <td>1.190765e+00</td>\n",
              "      <td>7.952288e+01</td>\n",
              "      <td>3.346831e+00</td>\n",
              "      <td>4.179410e+01</td>\n",
              "      <td>4.976558e+01</td>\n",
              "      <td>2.186404e+00</td>\n",
              "      <td>2.260569e+00</td>\n",
              "      <td>2.242626e+00</td>\n",
              "      <td>2.298132e+00</td>\n",
              "      <td>2.128989e+00</td>\n",
              "      <td>2.435143e+00</td>\n",
              "      <td>2.261810e+00</td>\n",
              "      <td>2.125176e+00</td>\n",
              "      <td>2.257180e+00</td>\n",
              "      <td>2.214333e+00</td>\n",
              "      <td>5.305653e+00</td>\n",
              "      <td>7.955397e+01</td>\n",
              "    </tr>\n",
              "    <tr>\n",
              "      <th>std</th>\n",
              "      <td>4.822084e-01</td>\n",
              "      <td>3.723278e+00</td>\n",
              "      <td>4.999997e-01</td>\n",
              "      <td>3.929041e-01</td>\n",
              "      <td>3.686889e+01</td>\n",
              "      <td>1.191288e+01</td>\n",
              "      <td>1.690739e+01</td>\n",
              "      <td>4.751073e+01</td>\n",
              "      <td>5.424242e+00</td>\n",
              "      <td>5.132258e+00</td>\n",
              "      <td>5.114089e+00</td>\n",
              "      <td>5.462843e+00</td>\n",
              "      <td>5.236397e+00</td>\n",
              "      <td>6.646676e+00</td>\n",
              "      <td>5.194850e+00</td>\n",
              "      <td>5.175445e+00</td>\n",
              "      <td>5.135354e+00</td>\n",
              "      <td>5.323097e+00</td>\n",
              "      <td>1.881165e+00</td>\n",
              "      <td>3.682307e+01</td>\n",
              "    </tr>\n",
              "    <tr>\n",
              "      <th>min</th>\n",
              "      <td>1.000000e+00</td>\n",
              "      <td>1.000000e+00</td>\n",
              "      <td>1.000000e+00</td>\n",
              "      <td>1.000000e+00</td>\n",
              "      <td>1.000000e+00</td>\n",
              "      <td>1.000000e+00</td>\n",
              "      <td>0.000000e+00</td>\n",
              "      <td>1.000000e+00</td>\n",
              "      <td>1.000000e+00</td>\n",
              "      <td>1.000000e+00</td>\n",
              "      <td>1.000000e+00</td>\n",
              "      <td>1.000000e+00</td>\n",
              "      <td>1.000000e+00</td>\n",
              "      <td>1.000000e+00</td>\n",
              "      <td>1.000000e+00</td>\n",
              "      <td>1.000000e+00</td>\n",
              "      <td>1.000000e+00</td>\n",
              "      <td>1.000000e+00</td>\n",
              "      <td>1.000000e+00</td>\n",
              "      <td>1.000000e+00</td>\n",
              "    </tr>\n",
              "    <tr>\n",
              "      <th>25%</th>\n",
              "      <td>1.000000e+00</td>\n",
              "      <td>4.000000e+00</td>\n",
              "      <td>1.000000e+00</td>\n",
              "      <td>1.000000e+00</td>\n",
              "      <td>9.700000e+01</td>\n",
              "      <td>2.000000e+00</td>\n",
              "      <td>3.000000e+01</td>\n",
              "      <td>2.000000e+00</td>\n",
              "      <td>2.000000e+00</td>\n",
              "      <td>2.000000e+00</td>\n",
              "      <td>2.000000e+00</td>\n",
              "      <td>2.000000e+00</td>\n",
              "      <td>2.000000e+00</td>\n",
              "      <td>2.000000e+00</td>\n",
              "      <td>2.000000e+00</td>\n",
              "      <td>2.000000e+00</td>\n",
              "      <td>2.000000e+00</td>\n",
              "      <td>2.000000e+00</td>\n",
              "      <td>3.000000e+00</td>\n",
              "      <td>9.700000e+01</td>\n",
              "    </tr>\n",
              "    <tr>\n",
              "      <th>50%</th>\n",
              "      <td>2.000000e+00</td>\n",
              "      <td>1.200000e+01</td>\n",
              "      <td>1.000000e+00</td>\n",
              "      <td>1.000000e+00</td>\n",
              "      <td>9.700000e+01</td>\n",
              "      <td>2.000000e+00</td>\n",
              "      <td>4.000000e+01</td>\n",
              "      <td>9.700000e+01</td>\n",
              "      <td>2.000000e+00</td>\n",
              "      <td>2.000000e+00</td>\n",
              "      <td>2.000000e+00</td>\n",
              "      <td>2.000000e+00</td>\n",
              "      <td>2.000000e+00</td>\n",
              "      <td>2.000000e+00</td>\n",
              "      <td>2.000000e+00</td>\n",
              "      <td>2.000000e+00</td>\n",
              "      <td>2.000000e+00</td>\n",
              "      <td>2.000000e+00</td>\n",
              "      <td>6.000000e+00</td>\n",
              "      <td>9.700000e+01</td>\n",
              "    </tr>\n",
              "    <tr>\n",
              "      <th>75%</th>\n",
              "      <td>2.000000e+00</td>\n",
              "      <td>1.200000e+01</td>\n",
              "      <td>2.000000e+00</td>\n",
              "      <td>1.000000e+00</td>\n",
              "      <td>9.700000e+01</td>\n",
              "      <td>2.000000e+00</td>\n",
              "      <td>5.300000e+01</td>\n",
              "      <td>9.700000e+01</td>\n",
              "      <td>2.000000e+00</td>\n",
              "      <td>2.000000e+00</td>\n",
              "      <td>2.000000e+00</td>\n",
              "      <td>2.000000e+00</td>\n",
              "      <td>2.000000e+00</td>\n",
              "      <td>2.000000e+00</td>\n",
              "      <td>2.000000e+00</td>\n",
              "      <td>2.000000e+00</td>\n",
              "      <td>2.000000e+00</td>\n",
              "      <td>2.000000e+00</td>\n",
              "      <td>7.000000e+00</td>\n",
              "      <td>9.700000e+01</td>\n",
              "    </tr>\n",
              "    <tr>\n",
              "      <th>max</th>\n",
              "      <td>2.000000e+00</td>\n",
              "      <td>1.300000e+01</td>\n",
              "      <td>2.000000e+00</td>\n",
              "      <td>2.000000e+00</td>\n",
              "      <td>9.900000e+01</td>\n",
              "      <td>9.900000e+01</td>\n",
              "      <td>1.210000e+02</td>\n",
              "      <td>9.800000e+01</td>\n",
              "      <td>9.800000e+01</td>\n",
              "      <td>9.800000e+01</td>\n",
              "      <td>9.800000e+01</td>\n",
              "      <td>9.800000e+01</td>\n",
              "      <td>9.800000e+01</td>\n",
              "      <td>9.800000e+01</td>\n",
              "      <td>9.800000e+01</td>\n",
              "      <td>9.800000e+01</td>\n",
              "      <td>9.800000e+01</td>\n",
              "      <td>9.800000e+01</td>\n",
              "      <td>7.000000e+00</td>\n",
              "      <td>9.900000e+01</td>\n",
              "    </tr>\n",
              "  </tbody>\n",
              "</table>\n",
              "</div>\n",
              "      <button class=\"colab-df-convert\" onclick=\"convertToInteractive('df-31fb30b3-ad00-4884-a819-99e48f79d9b9')\"\n",
              "              title=\"Convert this dataframe to an interactive table.\"\n",
              "              style=\"display:none;\">\n",
              "        \n",
              "  <svg xmlns=\"http://www.w3.org/2000/svg\" height=\"24px\"viewBox=\"0 0 24 24\"\n",
              "       width=\"24px\">\n",
              "    <path d=\"M0 0h24v24H0V0z\" fill=\"none\"/>\n",
              "    <path d=\"M18.56 5.44l.94 2.06.94-2.06 2.06-.94-2.06-.94-.94-2.06-.94 2.06-2.06.94zm-11 1L8.5 8.5l.94-2.06 2.06-.94-2.06-.94L8.5 2.5l-.94 2.06-2.06.94zm10 10l.94 2.06.94-2.06 2.06-.94-2.06-.94-.94-2.06-.94 2.06-2.06.94z\"/><path d=\"M17.41 7.96l-1.37-1.37c-.4-.4-.92-.59-1.43-.59-.52 0-1.04.2-1.43.59L10.3 9.45l-7.72 7.72c-.78.78-.78 2.05 0 2.83L4 21.41c.39.39.9.59 1.41.59.51 0 1.02-.2 1.41-.59l7.78-7.78 2.81-2.81c.8-.78.8-2.07 0-2.86zM5.41 20L4 18.59l7.72-7.72 1.47 1.35L5.41 20z\"/>\n",
              "  </svg>\n",
              "      </button>\n",
              "      \n",
              "  <style>\n",
              "    .colab-df-container {\n",
              "      display:flex;\n",
              "      flex-wrap:wrap;\n",
              "      gap: 12px;\n",
              "    }\n",
              "\n",
              "    .colab-df-convert {\n",
              "      background-color: #E8F0FE;\n",
              "      border: none;\n",
              "      border-radius: 50%;\n",
              "      cursor: pointer;\n",
              "      display: none;\n",
              "      fill: #1967D2;\n",
              "      height: 32px;\n",
              "      padding: 0 0 0 0;\n",
              "      width: 32px;\n",
              "    }\n",
              "\n",
              "    .colab-df-convert:hover {\n",
              "      background-color: #E2EBFA;\n",
              "      box-shadow: 0px 1px 2px rgba(60, 64, 67, 0.3), 0px 1px 3px 1px rgba(60, 64, 67, 0.15);\n",
              "      fill: #174EA6;\n",
              "    }\n",
              "\n",
              "    [theme=dark] .colab-df-convert {\n",
              "      background-color: #3B4455;\n",
              "      fill: #D2E3FC;\n",
              "    }\n",
              "\n",
              "    [theme=dark] .colab-df-convert:hover {\n",
              "      background-color: #434B5C;\n",
              "      box-shadow: 0px 1px 3px 1px rgba(0, 0, 0, 0.15);\n",
              "      filter: drop-shadow(0px 1px 2px rgba(0, 0, 0, 0.3));\n",
              "      fill: #FFFFFF;\n",
              "    }\n",
              "  </style>\n",
              "\n",
              "      <script>\n",
              "        const buttonEl =\n",
              "          document.querySelector('#df-31fb30b3-ad00-4884-a819-99e48f79d9b9 button.colab-df-convert');\n",
              "        buttonEl.style.display =\n",
              "          google.colab.kernel.accessAllowed ? 'block' : 'none';\n",
              "\n",
              "        async function convertToInteractive(key) {\n",
              "          const element = document.querySelector('#df-31fb30b3-ad00-4884-a819-99e48f79d9b9');\n",
              "          const dataTable =\n",
              "            await google.colab.kernel.invokeFunction('convertToInteractive',\n",
              "                                                     [key], {});\n",
              "          if (!dataTable) return;\n",
              "\n",
              "          const docLinkHtml = 'Like what you see? Visit the ' +\n",
              "            '<a target=\"_blank\" href=https://colab.research.google.com/notebooks/data_table.ipynb>data table notebook</a>'\n",
              "            + ' to learn more about interactive tables.';\n",
              "          element.innerHTML = '';\n",
              "          dataTable['output_type'] = 'display_data';\n",
              "          await google.colab.output.renderOutput(dataTable, element);\n",
              "          const docLink = document.createElement('div');\n",
              "          docLink.innerHTML = docLinkHtml;\n",
              "          element.appendChild(docLink);\n",
              "        }\n",
              "      </script>\n",
              "    </div>\n",
              "  </div>\n",
              "  "
            ]
          },
          "metadata": {},
          "execution_count": 5
        }
      ],
      "source": [
        "df.describe()"
      ]
    },
    {
      "cell_type": "code",
      "source": [
        "df.shape"
      ],
      "metadata": {
        "id": "OkRSSdGuqp48",
        "outputId": "d1a8f141-b7ec-405e-8fe0-5e4ca28f3251",
        "colab": {
          "base_uri": "https://localhost:8080/"
        }
      },
      "execution_count": 6,
      "outputs": [
        {
          "output_type": "execute_result",
          "data": {
            "text/plain": [
              "(1048575, 21)"
            ]
          },
          "metadata": {},
          "execution_count": 6
        }
      ]
    },
    {
      "cell_type": "markdown",
      "metadata": {
        "id": "xIBsERf0y8Uf"
      },
      "source": [
        "### Data analysis and Understanding\n",
        "\n",
        "This dataset contains an enormous number of anonymized patient-related information including pre-conditions. The raw dataset consists of **21 unique features** and **1,048,576 unique patients**. In the Boolean features, **1** means **\"yes\"** and **2** means **\"no\"**. values as **97** and **99** are **missing data**.\n",
        "\n",
        "* sex: 1 for female and 2 for male.\n",
        "* age: of the patient.\n",
        "* classification: covid test findings. Values 1-3 mean that the patient was diagnosed with covid in different\n",
        "degrees. 4 or higher means that the patient is not a carrier of covid or that the test is inconclusive.\n",
        "* patient type: type of care the patient received in the unit. 1 for returned home and 2 for hospitalization.\n",
        "* pneumonia: whether the patient already have air sacs inflammation or not.\n",
        "* pregnancy: whether the patient is pregnant or not.\n",
        "* diabetes: whether the patient has diabetes or not.\n",
        "* copd: Indicates whether the patient has Chronic obstructive pulmonary disease or not.\n",
        "* asthma: whether the patient has asthma or not.\n",
        "* inmsupr: whether the patient is immunosuppressed or not.\n",
        "* hypertension: whether the patient has hypertension or not.\n",
        "* cardiovascular: whether the patient has heart or blood vessels related disease.\n",
        "* renal chronic: whether the patient has chronic renal disease or not.\n",
        "* other disease: whether the patient has other disease or not.\n",
        "* obesity: whether the patient is obese or not.\n",
        "* tobacco: whether the patient is a tobacco user.\n",
        "* usmr: Indicates whether the patient treated medical units of the first, second or third level.\n",
        "* medical unit: type of institution of the National Health System that provided the care.\n",
        "* intubed: whether the patient was connected to the ventilator.\n",
        "* icu: Indicates whether the patient had been admitted to an Intensive Care Unit.\n",
        "* date died: If the patient died indicate the date of death, and 9999-99-99 otherwise."
      ]
    },
    {
      "cell_type": "code",
      "source": [
        "import seaborn as sns\n",
        "sns.heatmap(data=df.drop(axis=1,columns='DATE_DIED').corr())"
      ],
      "metadata": {
        "id": "2itBVoiWeidW",
        "outputId": "a96e9273-098a-414a-895a-23d4d97dec92",
        "colab": {
          "base_uri": "https://localhost:8080/",
          "height": 597
        }
      },
      "execution_count": 7,
      "outputs": [
        {
          "output_type": "execute_result",
          "data": {
            "text/plain": [
              "<Axes: >"
            ]
          },
          "metadata": {},
          "execution_count": 7
        },
        {
          "output_type": "display_data",
          "data": {
            "text/plain": [
              "<Figure size 640x480 with 2 Axes>"
            ],
            "image/png": "[encoded data removed]"
          },
          "metadata": {}
        }
      ]
    },
    {
      "cell_type": "markdown",
      "source": [
        "## Data Cleaning"
      ],
      "metadata": {
        "id": "OAwdds5C4mvn"
      }
    },
    {
      "cell_type": "markdown",
      "source": [
        "We find the total number of missing values in each of the 21 features and corresponding percentage of missing value contributed by each of these features"
      ],
      "metadata": {
        "id": "cR8Z6TxJ4_2S"
      }
    },
    {
      "cell_type": "code",
      "execution_count": 8,
      "metadata": {
        "id": "3contXPQghaC",
        "outputId": "61f9a9fc-ddc9-4739-cadc-7053d91c208c",
        "colab": {
          "base_uri": "https://localhost:8080/"
        }
      },
      "outputs": [
        {
          "output_type": "stream",
          "name": "stdout",
          "text": [
            "                                   Feature  NaN_count  97_98_99_count  \\\n",
            "ICU                                    ICU     856032               0   \n",
            "INTUBED                            INTUBED     855869               0   \n",
            "PREGNANT                          PREGNANT     527265               0   \n",
            "PNEUMONIA                        PNEUMONIA      16003               0   \n",
            "OTHER_DISEASE                OTHER_DISEASE       5045               0   \n",
            "INMSUPR                            INMSUPR       3404               0   \n",
            "DIABETES                          DIABETES       3338               0   \n",
            "TOBACCO                            TOBACCO       3220               0   \n",
            "HIPERTENSION                  HIPERTENSION       3104               0   \n",
            "RENAL_CHRONIC                RENAL_CHRONIC       3006               0   \n",
            "OBESITY                            OBESITY       3032               0   \n",
            "CARDIOVASCULAR              CARDIOVASCULAR       3076               0   \n",
            "COPD                                  COPD       3003               0   \n",
            "ASTHMA                              ASTHMA       2979               0   \n",
            "AGE                                    AGE        345               0   \n",
            "MEDICAL_UNIT                  MEDICAL_UNIT          0               0   \n",
            "DATE_DIED                        DATE_DIED          0               0   \n",
            "PATIENT_TYPE                  PATIENT_TYPE          0               0   \n",
            "SEX                                    SEX          0               0   \n",
            "CLASIFFICATION_FINAL  CLASIFFICATION_FINAL          0               0   \n",
            "USMER                                USMER          0               0   \n",
            "\n",
            "                      Total_missing_count  Percentage_missing  \n",
            "ICU                                856032               81.64  \n",
            "INTUBED                            855869               81.62  \n",
            "PREGNANT                           527265               50.28  \n",
            "PNEUMONIA                           16003                1.53  \n",
            "OTHER_DISEASE                        5045                0.48  \n",
            "INMSUPR                              3404                0.32  \n",
            "DIABETES                             3338                0.32  \n",
            "TOBACCO                              3220                0.31  \n",
            "HIPERTENSION                         3104                0.30  \n",
            "RENAL_CHRONIC                        3006                0.29  \n",
            "OBESITY                              3032                0.29  \n",
            "CARDIOVASCULAR                       3076                0.29  \n",
            "COPD                                 3003                0.29  \n",
            "ASTHMA                               2979                0.28  \n",
            "AGE                                   345                0.03  \n",
            "MEDICAL_UNIT                            0                0.00  \n",
            "DATE_DIED                               0                0.00  \n",
            "PATIENT_TYPE                            0                0.00  \n",
            "SEX                                     0                0.00  \n",
            "CLASIFFICATION_FINAL                    0                0.00  \n",
            "USMER                                   0                0.00  \n"
          ]
        }
      ],
      "source": [
        "df_reduced = df.copy()\n",
        "df_reduced = df_reduced.replace([97, 98, 99], np.nan)\n",
        "missing_counts = df_reduced.isnull().sum()\n",
        "invalid_counts = df_reduced.isin([97, 98, 99]).sum()\n",
        "total_missing_counts = missing_counts + invalid_counts\n",
        "perc_missing_values = round(total_missing_counts / len(df) * 100, 2)\n",
        "missing_df = pd.DataFrame({'Feature': df_reduced.columns, 'NaN_count': missing_counts, '97_98_99_count': invalid_counts, 'Total_missing_count': total_missing_counts, 'Percentage_missing': perc_missing_values})\n",
        "missing_df = missing_df.sort_values(by='Percentage_missing', ascending=False)\n",
        "\n",
        "print(missing_df)"
      ]
    },
    {
      "cell_type": "markdown",
      "source": [
        "New copy of the original dataframe is created . We get the count of unique values present in each column "
      ],
      "metadata": {
        "id": "Mh7F5SPj5OrH"
      }
    },
    {
      "cell_type": "code",
      "execution_count": 9,
      "metadata": {
        "colab": {
          "base_uri": "https://localhost:8080/"
        },
        "id": "qEOnwaMHghaE",
        "outputId": "363c85fb-1e43-4013-b1c3-98923606d66f"
      },
      "outputs": [
        {
          "output_type": "stream",
          "name": "stdout",
          "text": [
            "2    662903\n",
            "1    385672\n",
            "Name: USMER, dtype: int64\n",
            "\n",
            "\n",
            "12    602995\n",
            "4     314405\n",
            "6      40584\n",
            "9      38116\n",
            "3      19175\n",
            "8      10399\n",
            "10      7873\n",
            "5       7244\n",
            "11      5577\n",
            "13       996\n",
            "7        891\n",
            "2        169\n",
            "1        151\n",
            "Name: MEDICAL_UNIT, dtype: int64\n",
            "\n",
            "\n",
            "1    525064\n",
            "2    523511\n",
            "Name: SEX, dtype: int64\n",
            "\n",
            "\n",
            "1    848544\n",
            "2    200031\n",
            "Name: PATIENT_TYPE, dtype: int64\n",
            "\n",
            "\n",
            "9999-99-99    971633\n",
            "06/07/2020      1000\n",
            "07/07/2020       996\n",
            "13/07/2020       990\n",
            "16/06/2020       979\n",
            "               ...  \n",
            "24/11/2020         1\n",
            "17/12/2020         1\n",
            "08/12/2020         1\n",
            "16/03/2021         1\n",
            "22/04/2021         1\n",
            "Name: DATE_DIED, Length: 401, dtype: int64\n",
            "\n",
            "\n",
            "97    848544\n",
            "2     159050\n",
            "1      33656\n",
            "99      7325\n",
            "Name: INTUBED, dtype: int64\n",
            "\n",
            "\n",
            "2     892534\n",
            "1     140038\n",
            "99     16003\n",
            "Name: PNEUMONIA, dtype: int64\n",
            "\n",
            "\n",
            "30     27010\n",
            "31     25927\n",
            "28     25313\n",
            "29     25134\n",
            "34     24872\n",
            "       ...  \n",
            "114        2\n",
            "116        2\n",
            "111        1\n",
            "121        1\n",
            "113        1\n",
            "Name: AGE, Length: 121, dtype: int64\n",
            "\n",
            "\n",
            "97    523511\n",
            "2     513179\n",
            "1       8131\n",
            "98      3754\n",
            "Name: PREGNANT, dtype: int64\n",
            "\n",
            "\n",
            "2     920248\n",
            "1     124989\n",
            "98      3338\n",
            "Name: DIABETES, dtype: int64\n",
            "\n",
            "\n",
            "2     1030510\n",
            "1       15062\n",
            "98       3003\n",
            "Name: COPD, dtype: int64\n",
            "\n",
            "\n",
            "2     1014024\n",
            "1       31572\n",
            "98       2979\n",
            "Name: ASTHMA, dtype: int64\n",
            "\n",
            "\n",
            "2     1031001\n",
            "1       14170\n",
            "98       3404\n",
            "Name: INMSUPR, dtype: int64\n",
            "\n",
            "\n",
            "2     882742\n",
            "1     162729\n",
            "98      3104\n",
            "Name: HIPERTENSION, dtype: int64\n",
            "\n",
            "\n",
            "2     1015490\n",
            "1       28040\n",
            "98       5045\n",
            "Name: OTHER_DISEASE, dtype: int64\n",
            "\n",
            "\n",
            "2     1024730\n",
            "1       20769\n",
            "98       3076\n",
            "Name: CARDIOVASCULAR, dtype: int64\n",
            "\n",
            "\n",
            "2     885727\n",
            "1     159816\n",
            "98      3032\n",
            "Name: OBESITY, dtype: int64\n",
            "\n",
            "\n",
            "2     1026665\n",
            "1       18904\n",
            "98       3006\n",
            "Name: RENAL_CHRONIC, dtype: int64\n",
            "\n",
            "\n",
            "2     960979\n",
            "1      84376\n",
            "98      3220\n",
            "Name: TOBACCO, dtype: int64\n",
            "\n",
            "\n",
            "7    499250\n",
            "3    381527\n",
            "6    128133\n",
            "5     26091\n",
            "1      8601\n",
            "4      3122\n",
            "2      1851\n",
            "Name: CLASIFFICATION_FINAL, dtype: int64\n",
            "\n",
            "\n",
            "97    848544\n",
            "2     175685\n",
            "1      16858\n",
            "99      7488\n",
            "Name: ICU, dtype: int64\n",
            "\n",
            "\n"
          ]
        }
      ],
      "source": [
        "df_copy = df.copy()\n",
        "df_copy.shape\n",
        "\n",
        "for i in df.columns:\n",
        " print(df[i].value_counts())\n",
        " print('\\n')"
      ]
    },
    {
      "cell_type": "markdown",
      "source": [
        "### PREGNANT column cleaning"
      ],
      "metadata": {
        "id": "wDNqiSXupQm3"
      }
    },
    {
      "cell_type": "markdown",
      "source": [
        "As Men cannot be PREGNANT, we convert all the 97(missing values) to 2(No) for all row values with SEX = 2(MALE) "
      ],
      "metadata": {
        "id": "-WCogSys5ePP"
      }
    },
    {
      "cell_type": "code",
      "source": [
        "# replace all the missing values from PREGNANT column if Gender is MALE\n",
        "print(\"in original dataset :\\n\",df_copy[(df_copy.SEX == 2)]['PREGNANT'].value_counts())\n",
        "\n",
        "df_copy.loc[(df_copy.SEX == 2) & (df_copy.PREGNANT == 97), \"PREGNANT\"] = df_copy[\"PREGNANT\"].replace(97, 2)\n",
        "\n",
        "print(\"\\n\\nafter above step :\\n\",df_copy[(df_copy.SEX == 2)]['PREGNANT'].value_counts())"
      ],
      "metadata": {
        "id": "6a_EiUKvtR3h",
        "outputId": "6805b233-f5f7-48dc-8723-498f88423664",
        "colab": {
          "base_uri": "https://localhost:8080/"
        }
      },
      "execution_count": 10,
      "outputs": [
        {
          "output_type": "stream",
          "name": "stdout",
          "text": [
            "in original dataset :\n",
            " 97    523511\n",
            "Name: PREGNANT, dtype: int64\n",
            "\n",
            "\n",
            "after above step :\n",
            " 2    523511\n",
            "Name: PREGNANT, dtype: int64\n"
          ]
        }
      ]
    },
    {
      "cell_type": "markdown",
      "source": [
        "### CLASIFICATION_FINAL column cleaning"
      ],
      "metadata": {
        "id": "nVkyXu51paHd"
      }
    },
    {
      "cell_type": "markdown",
      "source": [
        "Consider the column CLASIFICATION_FINAL which describes if the patient is tested positive for Covid or was the test inconclusive.\n",
        "\n",
        "For values >=4 i.e. 4,5,6,7 , the test is either negative or inconclusive, hence, we will replace it with 0(\"NO\") \n",
        "\n",
        "For Values 1,2,3 the covid test is Positive, hence, we will replace it with 1(\"YES\")"
      ],
      "metadata": {
        "id": "NIMMXm2C6O26"
      }
    },
    {
      "cell_type": "code",
      "source": [
        "# Consider CLASSIFICATION column , replace all values >4 with 2(\"NO\") since covid test is inconclusive \n",
        "print(\"\\n\\nas per original dataset :\\n\",df_copy.loc[(df_copy.CLASIFFICATION_FINAL >= 4), \"CLASIFFICATION_FINAL\"])\n",
        "\n",
        "df_copy.loc[(df_copy.CLASIFFICATION_FINAL >= 4), \"CLASIFFICATION_FINAL\"] = df_copy[\"CLASIFFICATION_FINAL\"].replace([4,5,6,7], 0)\n",
        "\n",
        "print(\"Repacing 4,5,6,7 with 0 since covid test is inconclusive\\n\",df_copy['CLASIFFICATION_FINAL'].value_counts())\n",
        "\n",
        "# Consider all values in [1,2,3] as tested positive for Covid-19 Virus\n",
        "df_copy.loc[(df_copy.CLASIFFICATION_FINAL >= 1), \"CLASIFFICATION_FINAL\"] = df_copy[\"CLASIFFICATION_FINAL\"].replace([1,2,3], 1)\n",
        "\n",
        "print(\"Repacing 1,2,3 with 1 since covid test is Positive\\n\",df_copy['CLASIFFICATION_FINAL'].value_counts())"
      ],
      "metadata": {
        "id": "E6c8FPuvtRZ2",
        "outputId": "54fc7165-8965-4bd4-f189-752a7ecf1360",
        "colab": {
          "base_uri": "https://localhost:8080/"
        }
      },
      "execution_count": 11,
      "outputs": [
        {
          "output_type": "stream",
          "name": "stdout",
          "text": [
            "\n",
            "\n",
            "as per original dataset :\n",
            " 1          5\n",
            "3          7\n",
            "42         5\n",
            "43         5\n",
            "44         5\n",
            "          ..\n",
            "1048570    7\n",
            "1048571    7\n",
            "1048572    7\n",
            "1048573    7\n",
            "1048574    7\n",
            "Name: CLASIFFICATION_FINAL, Length: 656596, dtype: int64\n",
            "Repacing 4,5,6,7 with 0 since covid test is inconclusive\n",
            " 0    656596\n",
            "3    381527\n",
            "1      8601\n",
            "2      1851\n",
            "Name: CLASIFFICATION_FINAL, dtype: int64\n",
            "Repacing 1,2,3 with 1 since covid test is Positive\n",
            " 0    656596\n",
            "1    391979\n",
            "Name: CLASIFFICATION_FINAL, dtype: int64\n"
          ]
        }
      ]
    },
    {
      "cell_type": "markdown",
      "source": [
        "### Basic Feature Selection"
      ],
      "metadata": {
        "id": "ctEBav72pm5e"
      }
    },
    {
      "cell_type": "markdown",
      "source": [
        "We filter out the columns which do not give us useful information \n",
        "\n",
        "MEDICAL_UNIT - no useful info can be got since it is not known what the enumerations {1, 2, ... 12, 13} mean.\n",
        "\n",
        "ICU  and INTUBATED - Too many missing values."
      ],
      "metadata": {
        "id": "OtOQk1dw7Kqp"
      }
    },
    {
      "cell_type": "code",
      "source": [
        "Filtered_Cols=['USMER', 'SEX', 'PATIENT_TYPE', 'DATE_DIED',\n",
        "       'PNEUMONIA', 'AGE', 'DIABETES', 'COPD', 'ASTHMA', 'INMSUPR',\n",
        "       'HIPERTENSION', 'OTHER_DISEASE', 'CARDIOVASCULAR', 'OBESITY',\n",
        "       'RENAL_CHRONIC', 'TOBACCO', 'CLASIFFICATION_FINAL','PREGNANT']\n",
        "\n",
        "df_reduced=df_copy[Filtered_Cols].copy()"
      ],
      "metadata": {
        "id": "_Caz41zltYP2"
      },
      "execution_count": 12,
      "outputs": []
    },
    {
      "cell_type": "code",
      "execution_count": 13,
      "metadata": {
        "id": "_f2YOMLZghaF",
        "outputId": "b152b837-0128-460f-abb8-1e5b15e8abda",
        "colab": {
          "base_uri": "https://localhost:8080/"
        }
      },
      "outputs": [
        {
          "output_type": "stream",
          "name": "stdout",
          "text": [
            "   USMER  SEX  PATIENT_TYPE   DATE_DIED  PNEUMONIA   AGE  DIABETES  COPD  \\\n",
            "0      2    1             1  03/05/2020        1.0  65.0       2.0   2.0   \n",
            "1      2    2             1  03/06/2020        1.0  72.0       2.0   2.0   \n",
            "2      2    2             2  09/06/2020        2.0  55.0       1.0   2.0   \n",
            "3      2    1             1  12/06/2020        2.0  53.0       2.0   2.0   \n",
            "4      2    2             1  21/06/2020        2.0  68.0       1.0   2.0   \n",
            "\n",
            "   ASTHMA  INMSUPR  HIPERTENSION  OTHER_DISEASE  CARDIOVASCULAR  OBESITY  \\\n",
            "0     2.0      2.0           1.0            2.0             2.0      2.0   \n",
            "1     2.0      2.0           1.0            2.0             2.0      1.0   \n",
            "2     2.0      2.0           2.0            2.0             2.0      2.0   \n",
            "3     2.0      2.0           2.0            2.0             2.0      2.0   \n",
            "4     2.0      2.0           1.0            2.0             2.0      2.0   \n",
            "\n",
            "   RENAL_CHRONIC  TOBACCO  CLASIFFICATION_FINAL  PREGNANT  \n",
            "0            2.0      2.0                     1       2.0  \n",
            "1            1.0      2.0                     0       2.0  \n",
            "2            2.0      2.0                     1       2.0  \n",
            "3            2.0      2.0                     0       2.0  \n",
            "4            2.0      2.0                     1       2.0   \n",
            "reduced size after data cleaning:  (1021655, 18) \n",
            "original size :  (1048575, 21)\n"
          ]
        }
      ],
      "source": [
        "# The shape of data frame after considering the filled values from different columns\n",
        "original_number_of_datapoints = df.shape\n",
        "df_reduced = df_reduced.replace([97, 98, 99], np.nan)\n",
        "df_reduced=df_reduced.dropna(axis=0)\n",
        "print(df_reduced.head(),\"\\nreduced size after data cleaning: \",df_reduced.shape,\n",
        "      \"\\noriginal size : \",original_number_of_datapoints)"
      ]
    },
    {
      "cell_type": "markdown",
      "source": [
        "### Target Cleaning"
      ],
      "metadata": {
        "id": "PXxzZvsqpwIL"
      }
    },
    {
      "cell_type": "code",
      "execution_count": 14,
      "metadata": {
        "id": "aWb7FBqpghaG"
      },
      "outputs": [],
      "source": [
        "# \"In data set 9999-99-99 indicates person is not died, so replacing these values with 0. Persons who really died has values 03-03-2020 format. So replacing data format values with 1. So 0 means died, 1 means not died in DATE_DIED column\n",
        "\n",
        "df_reduced[\"DATE_DIED\"] = [0 if each==\"9999-99-99\" else 1 for each in df_reduced.DATE_DIED]"
      ]
    },
    {
      "cell_type": "code",
      "source": [
        "for i in df_reduced.columns:\n",
        " print(df_reduced[i].value_counts())\n",
        " print('\\n')"
      ],
      "metadata": {
        "id": "TSjUkj65zpkO",
        "outputId": "39e1b889-143e-4a50-bc55-92a9ebf6cbd1",
        "colab": {
          "base_uri": "https://localhost:8080/"
        }
      },
      "execution_count": 15,
      "outputs": [
        {
          "output_type": "stream",
          "name": "stdout",
          "text": [
            "2    655933\n",
            "1    365722\n",
            "Name: USMER, dtype: int64\n",
            "\n",
            "\n",
            "2    511795\n",
            "1    509860\n",
            "Name: SEX, dtype: int64\n",
            "\n",
            "\n",
            "1    830233\n",
            "2    191422\n",
            "Name: PATIENT_TYPE, dtype: int64\n",
            "\n",
            "\n",
            "0    947100\n",
            "1     74555\n",
            "Name: DATE_DIED, dtype: int64\n",
            "\n",
            "\n",
            "2.0    884402\n",
            "1.0    137253\n",
            "Name: PNEUMONIA, dtype: int64\n",
            "\n",
            "\n",
            "30.0     26456\n",
            "31.0     25419\n",
            "28.0     24735\n",
            "29.0     24595\n",
            "34.0     24406\n",
            "         ...  \n",
            "115.0        2\n",
            "119.0        2\n",
            "111.0        1\n",
            "121.0        1\n",
            "113.0        1\n",
            "Name: AGE, Length: 118, dtype: int64\n",
            "\n",
            "\n",
            "2.0    899531\n",
            "1.0    122124\n",
            "Name: DIABETES, dtype: int64\n",
            "\n",
            "\n",
            "2.0    1007356\n",
            "1.0      14299\n",
            "Name: COPD, dtype: int64\n",
            "\n",
            "\n",
            "2.0    991243\n",
            "1.0     30412\n",
            "Name: ASTHMA, dtype: int64\n",
            "\n",
            "\n",
            "2.0    1008105\n",
            "1.0      13550\n",
            "Name: INMSUPR, dtype: int64\n",
            "\n",
            "\n",
            "2.0    862521\n",
            "1.0    159134\n",
            "Name: HIPERTENSION, dtype: int64\n",
            "\n",
            "\n",
            "2.0    994597\n",
            "1.0     27058\n",
            "Name: OTHER_DISEASE, dtype: int64\n",
            "\n",
            "\n",
            "2.0    1001613\n",
            "1.0      20042\n",
            "Name: CARDIOVASCULAR, dtype: int64\n",
            "\n",
            "\n",
            "2.0    865081\n",
            "1.0    156574\n",
            "Name: OBESITY, dtype: int64\n",
            "\n",
            "\n",
            "2.0    1003350\n",
            "1.0      18305\n",
            "Name: RENAL_CHRONIC, dtype: int64\n",
            "\n",
            "\n",
            "2.0    939141\n",
            "1.0     82514\n",
            "Name: TOBACCO, dtype: int64\n",
            "\n",
            "\n",
            "0    634185\n",
            "1    387470\n",
            "Name: CLASIFFICATION_FINAL, dtype: int64\n",
            "\n",
            "\n",
            "2.0    1013814\n",
            "1.0       7841\n",
            "Name: PREGNANT, dtype: int64\n",
            "\n",
            "\n"
          ]
        }
      ]
    },
    {
      "cell_type": "code",
      "execution_count": 16,
      "metadata": {
        "id": "SKAfGK6YghaG",
        "outputId": "97da81f6-bb9a-4583-8951-276fb801792b",
        "colab": {
          "base_uri": "https://localhost:8080/"
        }
      },
      "outputs": [
        {
          "output_type": "stream",
          "name": "stdout",
          "text": [
            "Number of people who died: 74555\n",
            "Number of people who did not die: 947100\n",
            "Percentage of people who died: 7.2974732174755665 %\n",
            "Percentage of people who did not die: 92.70252678252443 %\n"
          ]
        }
      ],
      "source": [
        "num_died = (df_reduced['DATE_DIED'] == 1).sum()\n",
        "num_not_died = (df_reduced['DATE_DIED'] == 0).sum()\n",
        "perc_died = num_died / len(df_reduced) * 100\n",
        "perc_not_died = num_not_died / len(df_reduced) * 100\n",
        "\n",
        "# Print the results\n",
        "print(\"Number of people who died:\", num_died)\n",
        "print(\"Number of people who did not die:\", num_not_died)\n",
        "print(\"Percentage of people who died:\", perc_died, \"%\")\n",
        "print(\"Percentage of people who did not die:\", perc_not_died, \"%\")"
      ]
    },
    {
      "cell_type": "markdown",
      "source": [
        "### PATIENT_TYPE Column cleaning"
      ],
      "metadata": {
        "id": "W5Iexaukp5nU"
      }
    },
    {
      "cell_type": "markdown",
      "source": [
        "Consider the column 'PATIENT_TYPE' . \n",
        "\n",
        "It describes whether the patient returned home (1) or hosptialized (2) \n",
        "we will change the feature name to Hospitalized and have Yes as 1 No as 0"
      ],
      "metadata": {
        "id": "nMFlI6yFHS_P"
      }
    },
    {
      "cell_type": "code",
      "source": [
        "print(\"\\n\\nas per reduced dataset number of samples with patient type 1 and 2 :\" , df_reduced[\"PATIENT_TYPE\"].value_counts())\n",
        "\n",
        "df_reduced.loc[(df_reduced.PATIENT_TYPE == 1), \"PATIENT_TYPE\"] = df_reduced[\"PATIENT_TYPE\"].replace(1, 0)\n",
        "df_reduced.loc[(df_reduced.PATIENT_TYPE == 2), \"PATIENT_TYPE\"] = df_reduced[\"PATIENT_TYPE\"].replace(2, 1)\n",
        "\n",
        "print(\"\\n\\nafter above steps, number of samples with patient type 1 and 2 :\" , df_reduced[\"PATIENT_TYPE\"].value_counts())"
      ],
      "metadata": {
        "id": "oWEi7pbNHTYy",
        "outputId": "94b4b9e5-0e5f-426b-f0ac-df18edb81926",
        "colab": {
          "base_uri": "https://localhost:8080/"
        }
      },
      "execution_count": 17,
      "outputs": [
        {
          "output_type": "stream",
          "name": "stdout",
          "text": [
            "\n",
            "\n",
            "as per reduced dataset number of samples with patient type 1 and 2 : 1    830233\n",
            "2    191422\n",
            "Name: PATIENT_TYPE, dtype: int64\n",
            "\n",
            "\n",
            "after above steps, number of samples with patient type 1 and 2 : 0    830233\n",
            "1    191422\n",
            "Name: PATIENT_TYPE, dtype: int64\n"
          ]
        }
      ]
    },
    {
      "cell_type": "markdown",
      "source": [
        "### Convert to Binary Feature Vectors"
      ],
      "metadata": {
        "id": "sGVbSwJvqAzq"
      }
    },
    {
      "cell_type": "markdown",
      "source": [
        "Convert all 2(No) and 1(Yes) Values to binary  0(No) and 1(Yes)"
      ],
      "metadata": {
        "id": "V1R_SFTvE-sG"
      }
    },
    {
      "cell_type": "code",
      "source": [
        "df_final = df_reduced.copy()\n",
        "for col in df_final.columns:\n",
        "  df_final = df_final.replace(2,0)\n",
        "\n",
        "df_final = df_final.astype(int)\n",
        "df_final"
      ],
      "metadata": {
        "id": "FkR4NBj5E-Zg",
        "outputId": "bb049c0f-c417-4aa2-9bba-fe265e065864",
        "colab": {
          "base_uri": "https://localhost:8080/",
          "height": 487
        }
      },
      "execution_count": 18,
      "outputs": [
        {
          "output_type": "execute_result",
          "data": {
            "text/plain": [
              "         USMER  SEX  PATIENT_TYPE  DATE_DIED  PNEUMONIA  AGE  DIABETES  COPD  \\\n",
              "0            0    1             0          1          1   65         0     0   \n",
              "1            0    0             0          1          1   72         0     0   \n",
              "2            0    0             1          1          0   55         1     0   \n",
              "3            0    1             0          1          0   53         0     0   \n",
              "4            0    0             0          1          0   68         1     0   \n",
              "...        ...  ...           ...        ...        ...  ...       ...   ...   \n",
              "1048570      0    0             0          0          0   40         0     0   \n",
              "1048571      1    0             1          0          0   51         0     0   \n",
              "1048572      0    0             0          0          0   55         0     0   \n",
              "1048573      0    0             0          0          0   28         0     0   \n",
              "1048574      0    0             0          0          0   52         0     0   \n",
              "\n",
              "         ASTHMA  INMSUPR  HIPERTENSION  OTHER_DISEASE  CARDIOVASCULAR  \\\n",
              "0             0        0             1              0               0   \n",
              "1             0        0             1              0               0   \n",
              "2             0        0             0              0               0   \n",
              "3             0        0             0              0               0   \n",
              "4             0        0             1              0               0   \n",
              "...         ...      ...           ...            ...             ...   \n",
              "1048570       0        0             0              0               0   \n",
              "1048571       0        0             1              0               0   \n",
              "1048572       0        0             0              0               0   \n",
              "1048573       0        0             0              0               0   \n",
              "1048574       0        0             0              0               0   \n",
              "\n",
              "         OBESITY  RENAL_CHRONIC  TOBACCO  CLASIFFICATION_FINAL  PREGNANT  \n",
              "0              0              0        0                     1         0  \n",
              "1              1              1        0                     0         0  \n",
              "2              0              0        0                     1         0  \n",
              "3              0              0        0                     0         0  \n",
              "4              0              0        0                     1         0  \n",
              "...          ...            ...      ...                   ...       ...  \n",
              "1048570        0              0        0                     0         0  \n",
              "1048571        0              0        0                     0         0  \n",
              "1048572        0              0        0                     0         0  \n",
              "1048573        0              0        0                     0         0  \n",
              "1048574        0              0        0                     0         0  \n",
              "\n",
              "[1021655 rows x 18 columns]"
            ],
            "text/html": [
              "\n",
              "  <div id=\"df-30cafba5-2f13-4b6a-8629-892616b353ae\">\n",
              "    <div class=\"colab-df-container\">\n",
              "      <div>\n",
              "<style scoped>\n",
              "    .dataframe tbody tr th:only-of-type {\n",
              "        vertical-align: middle;\n",
              "    }\n",
              "\n",
              "    .dataframe tbody tr th {\n",
              "        vertical-align: top;\n",
              "    }\n",
              "\n",
              "    .dataframe thead th {\n",
              "        text-align: right;\n",
              "    }\n",
              "</style>\n",
              "<table border=\"1\" class=\"dataframe\">\n",
              "  <thead>\n",
              "    <tr style=\"text-align: right;\">\n",
              "      <th></th>\n",
              "      <th>USMER</th>\n",
              "      <th>SEX</th>\n",
              "      <th>PATIENT_TYPE</th>\n",
              "      <th>DATE_DIED</th>\n",
              "      <th>PNEUMONIA</th>\n",
              "      <th>AGE</th>\n",
              "      <th>DIABETES</th>\n",
              "      <th>COPD</th>\n",
              "      <th>ASTHMA</th>\n",
              "      <th>INMSUPR</th>\n",
              "      <th>HIPERTENSION</th>\n",
              "      <th>OTHER_DISEASE</th>\n",
              "      <th>CARDIOVASCULAR</th>\n",
              "      <th>OBESITY</th>\n",
              "      <th>RENAL_CHRONIC</th>\n",
              "      <th>TOBACCO</th>\n",
              "      <th>CLASIFFICATION_FINAL</th>\n",
              "      <th>PREGNANT</th>\n",
              "    </tr>\n",
              "  </thead>\n",
              "  <tbody>\n",
              "    <tr>\n",
              "      <th>0</th>\n",
              "      <td>0</td>\n",
              "      <td>1</td>\n",
              "      <td>0</td>\n",
              "      <td>1</td>\n",
              "      <td>1</td>\n",
              "      <td>65</td>\n",
              "      <td>0</td>\n",
              "      <td>0</td>\n",
              "      <td>0</td>\n",
              "      <td>0</td>\n",
              "      <td>1</td>\n",
              "      <td>0</td>\n",
              "      <td>0</td>\n",
              "      <td>0</td>\n",
              "      <td>0</td>\n",
              "      <td>0</td>\n",
              "      <td>1</td>\n",
              "      <td>0</td>\n",
              "    </tr>\n",
              "    <tr>\n",
              "      <th>1</th>\n",
              "      <td>0</td>\n",
              "      <td>0</td>\n",
              "      <td>0</td>\n",
              "      <td>1</td>\n",
              "      <td>1</td>\n",
              "      <td>72</td>\n",
              "      <td>0</td>\n",
              "      <td>0</td>\n",
              "      <td>0</td>\n",
              "      <td>0</td>\n",
              "      <td>1</td>\n",
              "      <td>0</td>\n",
              "      <td>0</td>\n",
              "      <td>1</td>\n",
              "      <td>1</td>\n",
              "      <td>0</td>\n",
              "      <td>0</td>\n",
              "      <td>0</td>\n",
              "    </tr>\n",
              "    <tr>\n",
              "      <th>2</th>\n",
              "      <td>0</td>\n",
              "      <td>0</td>\n",
              "      <td>1</td>\n",
              "      <td>1</td>\n",
              "      <td>0</td>\n",
              "      <td>55</td>\n",
              "      <td>1</td>\n",
              "      <td>0</td>\n",
              "      <td>0</td>\n",
              "      <td>0</td>\n",
              "      <td>0</td>\n",
              "      <td>0</td>\n",
              "      <td>0</td>\n",
              "      <td>0</td>\n",
              "      <td>0</td>\n",
              "      <td>0</td>\n",
              "      <td>1</td>\n",
              "      <td>0</td>\n",
              "    </tr>\n",
              "    <tr>\n",
              "      <th>3</th>\n",
              "      <td>0</td>\n",
              "      <td>1</td>\n",
              "      <td>0</td>\n",
              "      <td>1</td>\n",
              "      <td>0</td>\n",
              "      <td>53</td>\n",
              "      <td>0</td>\n",
              "      <td>0</td>\n",
              "      <td>0</td>\n",
              "      <td>0</td>\n",
              "      <td>0</td>\n",
              "      <td>0</td>\n",
              "      <td>0</td>\n",
              "      <td>0</td>\n",
              "      <td>0</td>\n",
              "      <td>0</td>\n",
              "      <td>0</td>\n",
              "      <td>0</td>\n",
              "    </tr>\n",
              "    <tr>\n",
              "      <th>4</th>\n",
              "      <td>0</td>\n",
              "      <td>0</td>\n",
              "      <td>0</td>\n",
              "      <td>1</td>\n",
              "      <td>0</td>\n",
              "      <td>68</td>\n",
              "      <td>1</td>\n",
              "      <td>0</td>\n",
              "      <td>0</td>\n",
              "      <td>0</td>\n",
              "      <td>1</td>\n",
              "      <td>0</td>\n",
              "      <td>0</td>\n",
              "      <td>0</td>\n",
              "      <td>0</td>\n",
              "      <td>0</td>\n",
              "      <td>1</td>\n",
              "      <td>0</td>\n",
              "    </tr>\n",
              "    <tr>\n",
              "      <th>...</th>\n",
              "      <td>...</td>\n",
              "      <td>...</td>\n",
              "      <td>...</td>\n",
              "      <td>...</td>\n",
              "      <td>...</td>\n",
              "      <td>...</td>\n",
              "      <td>...</td>\n",
              "      <td>...</td>\n",
              "      <td>...</td>\n",
              "      <td>...</td>\n",
              "      <td>...</td>\n",
              "      <td>...</td>\n",
              "      <td>...</td>\n",
              "      <td>...</td>\n",
              "      <td>...</td>\n",
              "      <td>...</td>\n",
              "      <td>...</td>\n",
              "      <td>...</td>\n",
              "    </tr>\n",
              "    <tr>\n",
              "      <th>1048570</th>\n",
              "      <td>0</td>\n",
              "      <td>0</td>\n",
              "      <td>0</td>\n",
              "      <td>0</td>\n",
              "      <td>0</td>\n",
              "      <td>40</td>\n",
              "      <td>0</td>\n",
              "      <td>0</td>\n",
              "      <td>0</td>\n",
              "      <td>0</td>\n",
              "      <td>0</td>\n",
              "      <td>0</td>\n",
              "      <td>0</td>\n",
              "      <td>0</td>\n",
              "      <td>0</td>\n",
              "      <td>0</td>\n",
              "      <td>0</td>\n",
              "      <td>0</td>\n",
              "    </tr>\n",
              "    <tr>\n",
              "      <th>1048571</th>\n",
              "      <td>1</td>\n",
              "      <td>0</td>\n",
              "      <td>1</td>\n",
              "      <td>0</td>\n",
              "      <td>0</td>\n",
              "      <td>51</td>\n",
              "      <td>0</td>\n",
              "      <td>0</td>\n",
              "      <td>0</td>\n",
              "      <td>0</td>\n",
              "      <td>1</td>\n",
              "      <td>0</td>\n",
              "      <td>0</td>\n",
              "      <td>0</td>\n",
              "      <td>0</td>\n",
              "      <td>0</td>\n",
              "      <td>0</td>\n",
              "      <td>0</td>\n",
              "    </tr>\n",
              "    <tr>\n",
              "      <th>1048572</th>\n",
              "      <td>0</td>\n",
              "      <td>0</td>\n",
              "      <td>0</td>\n",
              "      <td>0</td>\n",
              "      <td>0</td>\n",
              "      <td>55</td>\n",
              "      <td>0</td>\n",
              "      <td>0</td>\n",
              "      <td>0</td>\n",
              "      <td>0</td>\n",
              "      <td>0</td>\n",
              "      <td>0</td>\n",
              "      <td>0</td>\n",
              "      <td>0</td>\n",
              "      <td>0</td>\n",
              "      <td>0</td>\n",
              "      <td>0</td>\n",
              "      <td>0</td>\n",
              "    </tr>\n",
              "    <tr>\n",
              "      <th>1048573</th>\n",
              "      <td>0</td>\n",
              "      <td>0</td>\n",
              "      <td>0</td>\n",
              "      <td>0</td>\n",
              "      <td>0</td>\n",
              "      <td>28</td>\n",
              "      <td>0</td>\n",
              "      <td>0</td>\n",
              "      <td>0</td>\n",
              "      <td>0</td>\n",
              "      <td>0</td>\n",
              "      <td>0</td>\n",
              "      <td>0</td>\n",
              "      <td>0</td>\n",
              "      <td>0</td>\n",
              "      <td>0</td>\n",
              "      <td>0</td>\n",
              "      <td>0</td>\n",
              "    </tr>\n",
              "    <tr>\n",
              "      <th>1048574</th>\n",
              "      <td>0</td>\n",
              "      <td>0</td>\n",
              "      <td>0</td>\n",
              "      <td>0</td>\n",
              "      <td>0</td>\n",
              "      <td>52</td>\n",
              "      <td>0</td>\n",
              "      <td>0</td>\n",
              "      <td>0</td>\n",
              "      <td>0</td>\n",
              "      <td>0</td>\n",
              "      <td>0</td>\n",
              "      <td>0</td>\n",
              "      <td>0</td>\n",
              "      <td>0</td>\n",
              "      <td>0</td>\n",
              "      <td>0</td>\n",
              "      <td>0</td>\n",
              "    </tr>\n",
              "  </tbody>\n",
              "</table>\n",
              "<p>1021655 rows × 18 columns</p>\n",
              "</div>\n",
              "      <button class=\"colab-df-convert\" onclick=\"convertToInteractive('df-30cafba5-2f13-4b6a-8629-892616b353ae')\"\n",
              "              title=\"Convert this dataframe to an interactive table.\"\n",
              "              style=\"display:none;\">\n",
              "        \n",
              "  <svg xmlns=\"http://www.w3.org/2000/svg\" height=\"24px\"viewBox=\"0 0 24 24\"\n",
              "       width=\"24px\">\n",
              "    <path d=\"M0 0h24v24H0V0z\" fill=\"none\"/>\n",
              "    <path d=\"M18.56 5.44l.94 2.06.94-2.06 2.06-.94-2.06-.94-.94-2.06-.94 2.06-2.06.94zm-11 1L8.5 8.5l.94-2.06 2.06-.94-2.06-.94L8.5 2.5l-.94 2.06-2.06.94zm10 10l.94 2.06.94-2.06 2.06-.94-2.06-.94-.94-2.06-.94 2.06-2.06.94z\"/><path d=\"M17.41 7.96l-1.37-1.37c-.4-.4-.92-.59-1.43-.59-.52 0-1.04.2-1.43.59L10.3 9.45l-7.72 7.72c-.78.78-.78 2.05 0 2.83L4 21.41c.39.39.9.59 1.41.59.51 0 1.02-.2 1.41-.59l7.78-7.78 2.81-2.81c.8-.78.8-2.07 0-2.86zM5.41 20L4 18.59l7.72-7.72 1.47 1.35L5.41 20z\"/>\n",
              "  </svg>\n",
              "      </button>\n",
              "      \n",
              "  <style>\n",
              "    .colab-df-container {\n",
              "      display:flex;\n",
              "      flex-wrap:wrap;\n",
              "      gap: 12px;\n",
              "    }\n",
              "\n",
              "    .colab-df-convert {\n",
              "      background-color: #E8F0FE;\n",
              "      border: none;\n",
              "      border-radius: 50%;\n",
              "      cursor: pointer;\n",
              "      display: none;\n",
              "      fill: #1967D2;\n",
              "      height: 32px;\n",
              "      padding: 0 0 0 0;\n",
              "      width: 32px;\n",
              "    }\n",
              "\n",
              "    .colab-df-convert:hover {\n",
              "      background-color: #E2EBFA;\n",
              "      box-shadow: 0px 1px 2px rgba(60, 64, 67, 0.3), 0px 1px 3px 1px rgba(60, 64, 67, 0.15);\n",
              "      fill: #174EA6;\n",
              "    }\n",
              "\n",
              "    [theme=dark] .colab-df-convert {\n",
              "      background-color: #3B4455;\n",
              "      fill: #D2E3FC;\n",
              "    }\n",
              "\n",
              "    [theme=dark] .colab-df-convert:hover {\n",
              "      background-color: #434B5C;\n",
              "      box-shadow: 0px 1px 3px 1px rgba(0, 0, 0, 0.15);\n",
              "      filter: drop-shadow(0px 1px 2px rgba(0, 0, 0, 0.3));\n",
              "      fill: #FFFFFF;\n",
              "    }\n",
              "  </style>\n",
              "\n",
              "      <script>\n",
              "        const buttonEl =\n",
              "          document.querySelector('#df-30cafba5-2f13-4b6a-8629-892616b353ae button.colab-df-convert');\n",
              "        buttonEl.style.display =\n",
              "          google.colab.kernel.accessAllowed ? 'block' : 'none';\n",
              "\n",
              "        async function convertToInteractive(key) {\n",
              "          const element = document.querySelector('#df-30cafba5-2f13-4b6a-8629-892616b353ae');\n",
              "          const dataTable =\n",
              "            await google.colab.kernel.invokeFunction('convertToInteractive',\n",
              "                                                     [key], {});\n",
              "          if (!dataTable) return;\n",
              "\n",
              "          const docLinkHtml = 'Like what you see? Visit the ' +\n",
              "            '<a target=\"_blank\" href=https://colab.research.google.com/notebooks/data_table.ipynb>data table notebook</a>'\n",
              "            + ' to learn more about interactive tables.';\n",
              "          element.innerHTML = '';\n",
              "          dataTable['output_type'] = 'display_data';\n",
              "          await google.colab.output.renderOutput(dataTable, element);\n",
              "          const docLink = document.createElement('div');\n",
              "          docLink.innerHTML = docLinkHtml;\n",
              "          element.appendChild(docLink);\n",
              "        }\n",
              "      </script>\n",
              "    </div>\n",
              "  </div>\n",
              "  "
            ]
          },
          "metadata": {},
          "execution_count": 18
        }
      ]
    },
    {
      "cell_type": "code",
      "source": [
        "for i in df_final.columns:\n",
        " print(df_final[i].value_counts())\n",
        " print('\\n')"
      ],
      "metadata": {
        "id": "0_ccNxP_h62p",
        "outputId": "8a9a5f45-0b9f-40ec-fa50-e7610ff02f56",
        "colab": {
          "base_uri": "https://localhost:8080/"
        }
      },
      "execution_count": 19,
      "outputs": [
        {
          "output_type": "stream",
          "name": "stdout",
          "text": [
            "0    655933\n",
            "1    365722\n",
            "Name: USMER, dtype: int64\n",
            "\n",
            "\n",
            "0    511795\n",
            "1    509860\n",
            "Name: SEX, dtype: int64\n",
            "\n",
            "\n",
            "0    830233\n",
            "1    191422\n",
            "Name: PATIENT_TYPE, dtype: int64\n",
            "\n",
            "\n",
            "0    947100\n",
            "1     74555\n",
            "Name: DATE_DIED, dtype: int64\n",
            "\n",
            "\n",
            "0    884402\n",
            "1    137253\n",
            "Name: PNEUMONIA, dtype: int64\n",
            "\n",
            "\n",
            "30     26456\n",
            "31     25419\n",
            "28     24735\n",
            "29     24595\n",
            "34     24406\n",
            "       ...  \n",
            "115        2\n",
            "119        2\n",
            "111        1\n",
            "121        1\n",
            "113        1\n",
            "Name: AGE, Length: 117, dtype: int64\n",
            "\n",
            "\n",
            "0    899531\n",
            "1    122124\n",
            "Name: DIABETES, dtype: int64\n",
            "\n",
            "\n",
            "0    1007356\n",
            "1      14299\n",
            "Name: COPD, dtype: int64\n",
            "\n",
            "\n",
            "0    991243\n",
            "1     30412\n",
            "Name: ASTHMA, dtype: int64\n",
            "\n",
            "\n",
            "0    1008105\n",
            "1      13550\n",
            "Name: INMSUPR, dtype: int64\n",
            "\n",
            "\n",
            "0    862521\n",
            "1    159134\n",
            "Name: HIPERTENSION, dtype: int64\n",
            "\n",
            "\n",
            "0    994597\n",
            "1     27058\n",
            "Name: OTHER_DISEASE, dtype: int64\n",
            "\n",
            "\n",
            "0    1001613\n",
            "1      20042\n",
            "Name: CARDIOVASCULAR, dtype: int64\n",
            "\n",
            "\n",
            "0    865081\n",
            "1    156574\n",
            "Name: OBESITY, dtype: int64\n",
            "\n",
            "\n",
            "0    1003350\n",
            "1      18305\n",
            "Name: RENAL_CHRONIC, dtype: int64\n",
            "\n",
            "\n",
            "0    939141\n",
            "1     82514\n",
            "Name: TOBACCO, dtype: int64\n",
            "\n",
            "\n",
            "0    634185\n",
            "1    387470\n",
            "Name: CLASIFFICATION_FINAL, dtype: int64\n",
            "\n",
            "\n",
            "0    1013814\n",
            "1       7841\n",
            "Name: PREGNANT, dtype: int64\n",
            "\n",
            "\n"
          ]
        }
      ]
    },
    {
      "cell_type": "markdown",
      "source": [
        "### Applying one hot encoding to AGE and SEX Columns\n",
        "\n"
      ],
      "metadata": {
        "id": "vvC4AUzBKK2B"
      }
    },
    {
      "cell_type": "code",
      "source": [
        "age_bins = [0, 20, 40, 60, 80, 100, 120]\n",
        "age_labels = ['0-20', '20-40', '40-60', '60-80','80-100','100-120']\n",
        "df_final['AGE_GROUP'] = pd.cut(df_final['AGE'], bins=age_bins, labels=age_labels)\n",
        "\n",
        "# Apply one hot encoding using pd.get_dummies()\n",
        "one_hot_encoded = pd.get_dummies(df_final['AGE_GROUP'], prefix='AGE')\n",
        "\n",
        "# Concatenate the original dataframe with the one hot encoded dataframe\n",
        "df_final = pd.concat([df_final, one_hot_encoded], axis=1)\n",
        "\n",
        "# Drop the original \"AGE\" and \"AGE_GROUP\" columns\n",
        "df_final.drop(['AGE', 'AGE_GROUP'], axis=1, inplace=True)\n",
        "\n",
        "gender_one_hot = pd.get_dummies(df_final['SEX'], prefix='GENDER', prefix_sep='')\n",
        "df_final = pd.concat([df_final, gender_one_hot], axis=1)\n",
        "df_final.drop(['SEX'], axis=1, inplace=True)\n",
        "\n",
        "df_final = df_final.rename(columns={'PATIENT_TYPE':'HOSPITALIZED', 'DATE_DIED':'DEATH','CLASIFFICATION_FINAL':'COVID-TEST','GENDER0':'MALE','GENDER1':'FEMALE'})\n"
      ],
      "metadata": {
        "id": "Y3hxn3tdKKWT"
      },
      "execution_count": 20,
      "outputs": []
    },
    {
      "cell_type": "code",
      "source": [
        "df_final.head()"
      ],
      "metadata": {
        "id": "V0Czs3duiDZk",
        "outputId": "195382ad-f2d6-41cd-abac-d3db0111b813",
        "colab": {
          "base_uri": "https://localhost:8080/",
          "height": 317
        }
      },
      "execution_count": 21,
      "outputs": [
        {
          "output_type": "execute_result",
          "data": {
            "text/plain": [
              "   USMER  HOSPITALIZED  DEATH  PNEUMONIA  DIABETES  COPD  ASTHMA  INMSUPR  \\\n",
              "0      0             0      1          1         0     0       0        0   \n",
              "1      0             0      1          1         0     0       0        0   \n",
              "2      0             1      1          0         1     0       0        0   \n",
              "3      0             0      1          0         0     0       0        0   \n",
              "4      0             0      1          0         1     0       0        0   \n",
              "\n",
              "   HIPERTENSION  OTHER_DISEASE  ...  COVID-TEST  PREGNANT  AGE_0-20  \\\n",
              "0             1              0  ...           1         0         0   \n",
              "1             1              0  ...           0         0         0   \n",
              "2             0              0  ...           1         0         0   \n",
              "3             0              0  ...           0         0         0   \n",
              "4             1              0  ...           1         0         0   \n",
              "\n",
              "   AGE_20-40  AGE_40-60  AGE_60-80  AGE_80-100  AGE_100-120  MALE  FEMALE  \n",
              "0          0          0          1           0            0     0       1  \n",
              "1          0          0          1           0            0     1       0  \n",
              "2          0          1          0           0            0     1       0  \n",
              "3          0          1          0           0            0     0       1  \n",
              "4          0          0          1           0            0     1       0  \n",
              "\n",
              "[5 rows x 24 columns]"
            ],
            "text/html": [
              "\n",
              "  <div id=\"df-7f2d648d-00ef-4f69-aa61-11165ba93ad8\">\n",
              "    <div class=\"colab-df-container\">\n",
              "      <div>\n",
              "<style scoped>\n",
              "    .dataframe tbody tr th:only-of-type {\n",
              "        vertical-align: middle;\n",
              "    }\n",
              "\n",
              "    .dataframe tbody tr th {\n",
              "        vertical-align: top;\n",
              "    }\n",
              "\n",
              "    .dataframe thead th {\n",
              "        text-align: right;\n",
              "    }\n",
              "</style>\n",
              "<table border=\"1\" class=\"dataframe\">\n",
              "  <thead>\n",
              "    <tr style=\"text-align: right;\">\n",
              "      <th></th>\n",
              "      <th>USMER</th>\n",
              "      <th>HOSPITALIZED</th>\n",
              "      <th>DEATH</th>\n",
              "      <th>PNEUMONIA</th>\n",
              "      <th>DIABETES</th>\n",
              "      <th>COPD</th>\n",
              "      <th>ASTHMA</th>\n",
              "      <th>INMSUPR</th>\n",
              "      <th>HIPERTENSION</th>\n",
              "      <th>OTHER_DISEASE</th>\n",
              "      <th>...</th>\n",
              "      <th>COVID-TEST</th>\n",
              "      <th>PREGNANT</th>\n",
              "      <th>AGE_0-20</th>\n",
              "      <th>AGE_20-40</th>\n",
              "      <th>AGE_40-60</th>\n",
              "      <th>AGE_60-80</th>\n",
              "      <th>AGE_80-100</th>\n",
              "      <th>AGE_100-120</th>\n",
              "      <th>MALE</th>\n",
              "      <th>FEMALE</th>\n",
              "    </tr>\n",
              "  </thead>\n",
              "  <tbody>\n",
              "    <tr>\n",
              "      <th>0</th>\n",
              "      <td>0</td>\n",
              "      <td>0</td>\n",
              "      <td>1</td>\n",
              "      <td>1</td>\n",
              "      <td>0</td>\n",
              "      <td>0</td>\n",
              "      <td>0</td>\n",
              "      <td>0</td>\n",
              "      <td>1</td>\n",
              "      <td>0</td>\n",
              "      <td>...</td>\n",
              "      <td>1</td>\n",
              "      <td>0</td>\n",
              "      <td>0</td>\n",
              "      <td>0</td>\n",
              "      <td>0</td>\n",
              "      <td>1</td>\n",
              "      <td>0</td>\n",
              "      <td>0</td>\n",
              "      <td>0</td>\n",
              "      <td>1</td>\n",
              "    </tr>\n",
              "    <tr>\n",
              "      <th>1</th>\n",
              "      <td>0</td>\n",
              "      <td>0</td>\n",
              "      <td>1</td>\n",
              "      <td>1</td>\n",
              "      <td>0</td>\n",
              "      <td>0</td>\n",
              "      <td>0</td>\n",
              "      <td>0</td>\n",
              "      <td>1</td>\n",
              "      <td>0</td>\n",
              "      <td>...</td>\n",
              "      <td>0</td>\n",
              "      <td>0</td>\n",
              "      <td>0</td>\n",
              "      <td>0</td>\n",
              "      <td>0</td>\n",
              "      <td>1</td>\n",
              "      <td>0</td>\n",
              "      <td>0</td>\n",
              "      <td>1</td>\n",
              "      <td>0</td>\n",
              "    </tr>\n",
              "    <tr>\n",
              "      <th>2</th>\n",
              "      <td>0</td>\n",
              "      <td>1</td>\n",
              "      <td>1</td>\n",
              "      <td>0</td>\n",
              "      <td>1</td>\n",
              "      <td>0</td>\n",
              "      <td>0</td>\n",
              "      <td>0</td>\n",
              "      <td>0</td>\n",
              "      <td>0</td>\n",
              "      <td>...</td>\n",
              "      <td>1</td>\n",
              "      <td>0</td>\n",
              "      <td>0</td>\n",
              "      <td>0</td>\n",
              "      <td>1</td>\n",
              "      <td>0</td>\n",
              "      <td>0</td>\n",
              "      <td>0</td>\n",
              "      <td>1</td>\n",
              "      <td>0</td>\n",
              "    </tr>\n",
              "    <tr>\n",
              "      <th>3</th>\n",
              "      <td>0</td>\n",
              "      <td>0</td>\n",
              "      <td>1</td>\n",
              "      <td>0</td>\n",
              "      <td>0</td>\n",
              "      <td>0</td>\n",
              "      <td>0</td>\n",
              "      <td>0</td>\n",
              "      <td>0</td>\n",
              "      <td>0</td>\n",
              "      <td>...</td>\n",
              "      <td>0</td>\n",
              "      <td>0</td>\n",
              "      <td>0</td>\n",
              "      <td>0</td>\n",
              "      <td>1</td>\n",
              "      <td>0</td>\n",
              "      <td>0</td>\n",
              "      <td>0</td>\n",
              "      <td>0</td>\n",
              "      <td>1</td>\n",
              "    </tr>\n",
              "    <tr>\n",
              "      <th>4</th>\n",
              "      <td>0</td>\n",
              "      <td>0</td>\n",
              "      <td>1</td>\n",
              "      <td>0</td>\n",
              "      <td>1</td>\n",
              "      <td>0</td>\n",
              "      <td>0</td>\n",
              "      <td>0</td>\n",
              "      <td>1</td>\n",
              "      <td>0</td>\n",
              "      <td>...</td>\n",
              "      <td>1</td>\n",
              "      <td>0</td>\n",
              "      <td>0</td>\n",
              "      <td>0</td>\n",
              "      <td>0</td>\n",
              "      <td>1</td>\n",
              "      <td>0</td>\n",
              "      <td>0</td>\n",
              "      <td>1</td>\n",
              "      <td>0</td>\n",
              "    </tr>\n",
              "  </tbody>\n",
              "</table>\n",
              "<p>5 rows × 24 columns</p>\n",
              "</div>\n",
              "      <button class=\"colab-df-convert\" onclick=\"convertToInteractive('df-7f2d648d-00ef-4f69-aa61-11165ba93ad8')\"\n",
              "              title=\"Convert this dataframe to an interactive table.\"\n",
              "              style=\"display:none;\">\n",
              "        \n",
              "  <svg xmlns=\"http://www.w3.org/2000/svg\" height=\"24px\"viewBox=\"0 0 24 24\"\n",
              "       width=\"24px\">\n",
              "    <path d=\"M0 0h24v24H0V0z\" fill=\"none\"/>\n",
              "    <path d=\"M18.56 5.44l.94 2.06.94-2.06 2.06-.94-2.06-.94-.94-2.06-.94 2.06-2.06.94zm-11 1L8.5 8.5l.94-2.06 2.06-.94-2.06-.94L8.5 2.5l-.94 2.06-2.06.94zm10 10l.94 2.06.94-2.06 2.06-.94-2.06-.94-.94-2.06-.94 2.06-2.06.94z\"/><path d=\"M17.41 7.96l-1.37-1.37c-.4-.4-.92-.59-1.43-.59-.52 0-1.04.2-1.43.59L10.3 9.45l-7.72 7.72c-.78.78-.78 2.05 0 2.83L4 21.41c.39.39.9.59 1.41.59.51 0 1.02-.2 1.41-.59l7.78-7.78 2.81-2.81c.8-.78.8-2.07 0-2.86zM5.41 20L4 18.59l7.72-7.72 1.47 1.35L5.41 20z\"/>\n",
              "  </svg>\n",
              "      </button>\n",
              "      \n",
              "  <style>\n",
              "    .colab-df-container {\n",
              "      display:flex;\n",
              "      flex-wrap:wrap;\n",
              "      gap: 12px;\n",
              "    }\n",
              "\n",
              "    .colab-df-convert {\n",
              "      background-color: #E8F0FE;\n",
              "      border: none;\n",
              "      border-radius: 50%;\n",
              "      cursor: pointer;\n",
              "      display: none;\n",
              "      fill: #1967D2;\n",
              "      height: 32px;\n",
              "      padding: 0 0 0 0;\n",
              "      width: 32px;\n",
              "    }\n",
              "\n",
              "    .colab-df-convert:hover {\n",
              "      background-color: #E2EBFA;\n",
              "      box-shadow: 0px 1px 2px rgba(60, 64, 67, 0.3), 0px 1px 3px 1px rgba(60, 64, 67, 0.15);\n",
              "      fill: #174EA6;\n",
              "    }\n",
              "\n",
              "    [theme=dark] .colab-df-convert {\n",
              "      background-color: #3B4455;\n",
              "      fill: #D2E3FC;\n",
              "    }\n",
              "\n",
              "    [theme=dark] .colab-df-convert:hover {\n",
              "      background-color: #434B5C;\n",
              "      box-shadow: 0px 1px 3px 1px rgba(0, 0, 0, 0.15);\n",
              "      filter: drop-shadow(0px 1px 2px rgba(0, 0, 0, 0.3));\n",
              "      fill: #FFFFFF;\n",
              "    }\n",
              "  </style>\n",
              "\n",
              "      <script>\n",
              "        const buttonEl =\n",
              "          document.querySelector('#df-7f2d648d-00ef-4f69-aa61-11165ba93ad8 button.colab-df-convert');\n",
              "        buttonEl.style.display =\n",
              "          google.colab.kernel.accessAllowed ? 'block' : 'none';\n",
              "\n",
              "        async function convertToInteractive(key) {\n",
              "          const element = document.querySelector('#df-7f2d648d-00ef-4f69-aa61-11165ba93ad8');\n",
              "          const dataTable =\n",
              "            await google.colab.kernel.invokeFunction('convertToInteractive',\n",
              "                                                     [key], {});\n",
              "          if (!dataTable) return;\n",
              "\n",
              "          const docLinkHtml = 'Like what you see? Visit the ' +\n",
              "            '<a target=\"_blank\" href=https://colab.research.google.com/notebooks/data_table.ipynb>data table notebook</a>'\n",
              "            + ' to learn more about interactive tables.';\n",
              "          element.innerHTML = '';\n",
              "          dataTable['output_type'] = 'display_data';\n",
              "          await google.colab.output.renderOutput(dataTable, element);\n",
              "          const docLink = document.createElement('div');\n",
              "          docLink.innerHTML = docLinkHtml;\n",
              "          element.appendChild(docLink);\n",
              "        }\n",
              "      </script>\n",
              "    </div>\n",
              "  </div>\n",
              "  "
            ]
          },
          "metadata": {},
          "execution_count": 21
        }
      ]
    },
    {
      "cell_type": "code",
      "source": [
        "for i in df_final.columns:\n",
        " print(df_final[i].value_counts())\n",
        " print('\\n')"
      ],
      "metadata": {
        "id": "Mit-SH7xyQ5m",
        "outputId": "a57b64c5-89cb-49bc-e231-cb4b8a6bff07",
        "colab": {
          "base_uri": "https://localhost:8080/"
        }
      },
      "execution_count": 22,
      "outputs": [
        {
          "output_type": "stream",
          "name": "stdout",
          "text": [
            "0    655933\n",
            "1    365722\n",
            "Name: USMER, dtype: int64\n",
            "\n",
            "\n",
            "0    830233\n",
            "1    191422\n",
            "Name: HOSPITALIZED, dtype: int64\n",
            "\n",
            "\n",
            "0    947100\n",
            "1     74555\n",
            "Name: DEATH, dtype: int64\n",
            "\n",
            "\n",
            "0    884402\n",
            "1    137253\n",
            "Name: PNEUMONIA, dtype: int64\n",
            "\n",
            "\n",
            "0    899531\n",
            "1    122124\n",
            "Name: DIABETES, dtype: int64\n",
            "\n",
            "\n",
            "0    1007356\n",
            "1      14299\n",
            "Name: COPD, dtype: int64\n",
            "\n",
            "\n",
            "0    991243\n",
            "1     30412\n",
            "Name: ASTHMA, dtype: int64\n",
            "\n",
            "\n",
            "0    1008105\n",
            "1      13550\n",
            "Name: INMSUPR, dtype: int64\n",
            "\n",
            "\n",
            "0    862521\n",
            "1    159134\n",
            "Name: HIPERTENSION, dtype: int64\n",
            "\n",
            "\n",
            "0    994597\n",
            "1     27058\n",
            "Name: OTHER_DISEASE, dtype: int64\n",
            "\n",
            "\n",
            "0    1001613\n",
            "1      20042\n",
            "Name: CARDIOVASCULAR, dtype: int64\n",
            "\n",
            "\n",
            "0    865081\n",
            "1    156574\n",
            "Name: OBESITY, dtype: int64\n",
            "\n",
            "\n",
            "0    1003350\n",
            "1      18305\n",
            "Name: RENAL_CHRONIC, dtype: int64\n",
            "\n",
            "\n",
            "0    939141\n",
            "1     82514\n",
            "Name: TOBACCO, dtype: int64\n",
            "\n",
            "\n",
            "0    634185\n",
            "1    387470\n",
            "Name: COVID-TEST, dtype: int64\n",
            "\n",
            "\n",
            "0    1013814\n",
            "1       7841\n",
            "Name: PREGNANT, dtype: int64\n",
            "\n",
            "\n",
            "0    956305\n",
            "1     65350\n",
            "Name: AGE_0-20, dtype: int64\n",
            "\n",
            "\n",
            "0    580748\n",
            "1    440907\n",
            "Name: AGE_20-40, dtype: int64\n",
            "\n",
            "\n",
            "0    652595\n",
            "1    369060\n",
            "Name: AGE_40-60, dtype: int64\n",
            "\n",
            "\n",
            "0    899871\n",
            "1    121784\n",
            "Name: AGE_60-80, dtype: int64\n",
            "\n",
            "\n",
            "0    1003681\n",
            "1      17974\n",
            "Name: AGE_80-100, dtype: int64\n",
            "\n",
            "\n",
            "0    1021532\n",
            "1        123\n",
            "Name: AGE_100-120, dtype: int64\n",
            "\n",
            "\n",
            "1    511795\n",
            "0    509860\n",
            "Name: MALE, dtype: int64\n",
            "\n",
            "\n",
            "0    511795\n",
            "1    509860\n",
            "Name: FEMALE, dtype: int64\n",
            "\n",
            "\n"
          ]
        }
      ]
    },
    {
      "cell_type": "code",
      "source": [
        "sns.heatmap(data=df_final.drop(axis=1,columns='DEATH').corr())"
      ],
      "metadata": {
        "id": "UuzhkZxnuGGh",
        "outputId": "1a3b9f2f-1c7a-495b-dc8c-6881d1ad9329",
        "colab": {
          "base_uri": "https://localhost:8080/",
          "height": 567
        }
      },
      "execution_count": 23,
      "outputs": [
        {
          "output_type": "execute_result",
          "data": {
            "text/plain": [
              "<Axes: >"
            ]
          },
          "metadata": {},
          "execution_count": 23
        },
        {
          "output_type": "display_data",
          "data": {
            "text/plain": [
              "<Figure size 640x480 with 2 Axes>"
            ],
            "image/png": "[encoded data removed]"
          },
          "metadata": {}
        }
      ]
    },
    {
      "cell_type": "code",
      "source": [
        "corr_matrix = df_final.drop(axis=1,columns='DEATH').corr() > 0.2\n",
        "mask = np.eye(len(corr_matrix))\n",
        "sns.heatmap(data=corr_matrix, mask= mask)"
      ],
      "metadata": {
        "id": "k2HGQTH0jpoI",
        "outputId": "b0cd8c27-f557-47c4-9745-08e4e430118e",
        "colab": {
          "base_uri": "https://localhost:8080/",
          "height": 567
        }
      },
      "execution_count": 24,
      "outputs": [
        {
          "output_type": "execute_result",
          "data": {
            "text/plain": [
              "<Axes: >"
            ]
          },
          "metadata": {},
          "execution_count": 24
        },
        {
          "output_type": "display_data",
          "data": {
            "text/plain": [
              "<Figure size 640x480 with 2 Axes>"
            ],
            "image/png": "[encoded data removed]"
          },
          "metadata": {}
        }
      ]
    },
    {
      "cell_type": "markdown",
      "source": [
        "# Data Preparation for Model training"
      ],
      "metadata": {
        "id": "0hiUwzZM6knw"
      }
    },
    {
      "cell_type": "code",
      "source": [
        "# get 3 sets of data - train , val , test\n",
        "\n",
        "X = df_final.drop(\"DEATH\", axis=1)\n",
        "y = df_final[\"DEATH\"]\n",
        "\n",
        "# this split gives 2 sets for training and final model testing\n",
        "X_train, X_test, y_train, y_test = train_test_split(X, y, test_size=0.25)\n",
        "\n",
        "print(X_train.shape, X_test.shape)"
      ],
      "metadata": {
        "id": "3zG4sZBS7J2D",
        "outputId": "b720a3db-c8ac-486b-f769-403820859979",
        "colab": {
          "base_uri": "https://localhost:8080/"
        }
      },
      "execution_count": 25,
      "outputs": [
        {
          "output_type": "stream",
          "name": "stdout",
          "text": [
            "(766241, 23) (255414, 23)\n"
          ]
        }
      ]
    },
    {
      "cell_type": "code",
      "source": [
        "y_train.value_counts(), y_test.value_counts()"
      ],
      "metadata": {
        "id": "mxWLhpJUmCAl",
        "outputId": "a33f24a7-b11c-4773-ab91-1b0652742139",
        "colab": {
          "base_uri": "https://localhost:8080/"
        }
      },
      "execution_count": 26,
      "outputs": [
        {
          "output_type": "execute_result",
          "data": {
            "text/plain": [
              "(0    710380\n",
              " 1     55861\n",
              " Name: DEATH, dtype: int64,\n",
              " 0    236720\n",
              " 1     18694\n",
              " Name: DEATH, dtype: int64)"
            ]
          },
          "metadata": {},
          "execution_count": 26
        }
      ]
    },
    {
      "cell_type": "markdown",
      "source": [
        "Henceforth , we will only use X_train for hyperparameter tuning.\n",
        "X_test will be reserved only for validating the performance metrics on the final models."
      ],
      "metadata": {
        "id": "wY8zeyYD8Ifb"
      }
    },
    {
      "cell_type": "markdown",
      "source": [
        "## Feature Extraction "
      ],
      "metadata": {
        "id": "VWIi60ToxlZ9"
      }
    },
    {
      "cell_type": "markdown",
      "source": [
        "### Using Random Forest to get the best Features"
      ],
      "metadata": {
        "id": "lOyKe8-8xo-I"
      }
    },
    {
      "cell_type": "code",
      "source": [
        "from sklearn.ensemble import RandomForestClassifier\n",
        "\n",
        "# X is the binary feature matrix, y is the target variable\n",
        "clf = RandomForestClassifier(n_estimators=100, random_state=0)\n",
        "clf.fit(X_train, y_train)\n",
        "importances = clf.feature_importances_\n"
      ],
      "metadata": {
        "id": "1GHCEfd0qmq0"
      },
      "execution_count": 27,
      "outputs": []
    },
    {
      "cell_type": "code",
      "source": [
        "important_features = dict(zip(X_train.columns,importances))\n",
        "important_features = dict(sorted(important_features.items(), key=lambda x: x[1], reverse=True))\n",
        "print(important_features)"
      ],
      "metadata": {
        "id": "qgmQHp5Ctvez",
        "outputId": "420f2e39-2b31-4aec-a334-a565b7743004",
        "colab": {
          "base_uri": "https://localhost:8080/"
        }
      },
      "execution_count": 28,
      "outputs": [
        {
          "output_type": "stream",
          "name": "stdout",
          "text": [
            "{'HOSPITALIZED': 0.35969199726297973, 'PNEUMONIA': 0.2233984737012762, 'COVID-TEST': 0.06748931417188783, 'AGE_60-80': 0.06712479529171046, 'AGE_20-40': 0.036304723925487094, 'HIPERTENSION': 0.032954612096587954, 'DIABETES': 0.032854962201171886, 'AGE_80-100': 0.024502995552575343, 'USMER': 0.01987157283668024, 'AGE_40-60': 0.0186920934806506, 'OBESITY': 0.01571506475528012, 'RENAL_CHRONIC': 0.01447657358746669, 'CARDIOVASCULAR': 0.012125610730304921, 'OTHER_DISEASE': 0.012116147715495415, 'TOBACCO': 0.012069892216769693, 'COPD': 0.01128674998855857, 'INMSUPR': 0.010423367705353036, 'AGE_0-20': 0.008082903744450998, 'ASTHMA': 0.007035625153936331, 'FEMALE': 0.006568956282260195, 'MALE': 0.006350918483702869, 'PREGNANT': 0.000720791088737592, 'AGE_100-120': 0.00014185802667627533}\n"
          ]
        }
      ]
    },
    {
      "cell_type": "code",
      "source": [
        "np.cumsum(list(important_features.values()))"
      ],
      "metadata": {
        "id": "sCeGpbFyu3jh",
        "outputId": "234b8d0b-8509-44ff-b9e2-bba0b5d467f5",
        "colab": {
          "base_uri": "https://localhost:8080/"
        }
      },
      "execution_count": 29,
      "outputs": [
        {
          "output_type": "execute_result",
          "data": {
            "text/plain": [
              "array([0.359692  , 0.58309047, 0.65057979, 0.71770458, 0.7540093 ,\n",
              "       0.78696392, 0.81981888, 0.84432187, 0.86419345, 0.88288554,\n",
              "       0.89860061, 0.91307718, 0.92520279, 0.93731894, 0.94938883,\n",
              "       0.96067558, 0.97109895, 0.97918185, 0.98621748, 0.99278643,\n",
              "       0.99913735, 0.99985814, 1.        ])"
            ]
          },
          "metadata": {},
          "execution_count": 29
        }
      ]
    },
    {
      "cell_type": "code",
      "source": [
        "plt.plot(range(1, len(X_train.columns)+1), np.cumsum(list(important_features.values())))\n",
        "plt.xlabel(\"Number of features\")\n",
        "plt.ylabel(\"Importance of cumulative features\")"
      ],
      "metadata": {
        "id": "cTZEKlltvVBB",
        "outputId": "b44ab965-c545-4cb8-d05e-f51b6918ef4d",
        "colab": {
          "base_uri": "https://localhost:8080/",
          "height": 466
        }
      },
      "execution_count": 30,
      "outputs": [
        {
          "output_type": "execute_result",
          "data": {
            "text/plain": [
              "Text(0, 0.5, 'Importance of cumulative features')"
            ]
          },
          "metadata": {},
          "execution_count": 30
        },
        {
          "output_type": "display_data",
          "data": {
            "text/plain": [
              "<Figure size 640x480 with 1 Axes>"
            ],
            "image/png": "[encoded data removed]"
          },
          "metadata": {}
        }
      ]
    },
    {
      "cell_type": "markdown",
      "source": [
        "Choose best k features such that importance adds up to 0.9"
      ],
      "metadata": {
        "id": "T_Kn3FGuwdO8"
      }
    },
    {
      "cell_type": "code",
      "source": [
        "best_features = list(important_features.keys())[:np.argmax(np.cumsum(list(important_features.values())) >= 0.9)+1]\n",
        "best_features"
      ],
      "metadata": {
        "id": "MNP1aXxTueFX",
        "outputId": "f92f7753-89e1-419d-d41c-b7ac3562ba12",
        "colab": {
          "base_uri": "https://localhost:8080/"
        }
      },
      "execution_count": 31,
      "outputs": [
        {
          "output_type": "execute_result",
          "data": {
            "text/plain": [
              "['HOSPITALIZED',\n",
              " 'PNEUMONIA',\n",
              " 'COVID-TEST',\n",
              " 'AGE_60-80',\n",
              " 'AGE_20-40',\n",
              " 'HIPERTENSION',\n",
              " 'DIABETES',\n",
              " 'AGE_80-100',\n",
              " 'USMER',\n",
              " 'AGE_40-60',\n",
              " 'OBESITY',\n",
              " 'RENAL_CHRONIC']"
            ]
          },
          "metadata": {},
          "execution_count": 31
        }
      ]
    },
    {
      "cell_type": "code",
      "source": [
        "X_train_feature_reduced = X_train[best_features].copy()\n",
        "y_train_feature_reduced = y_train.copy()\n",
        "X_test_feature_reduced = X_test[best_features].copy()\n",
        "y_test_feature_reduced = y_test.copy()"
      ],
      "metadata": {
        "id": "80lKU29QuSnb"
      },
      "execution_count": 32,
      "outputs": []
    },
    {
      "cell_type": "markdown",
      "source": [
        "## Resolving Data Imbalance"
      ],
      "metadata": {
        "id": "yAThJxuw6ZOj"
      }
    },
    {
      "cell_type": "markdown",
      "source": [
        "### SMOTE Method from imblearn"
      ],
      "metadata": {
        "id": "3G8td1kG6_n8"
      }
    },
    {
      "cell_type": "code",
      "source": [
        "from imblearn.over_sampling import SMOTE\n",
        "from imblearn.under_sampling import RandomUnderSampler\n",
        "from sklearn.utils import shuffle\n",
        "from imblearn.pipeline import Pipeline as imbPipeline"
      ],
      "metadata": {
        "id": "KCrB7Scg6e35"
      },
      "execution_count": 33,
      "outputs": []
    },
    {
      "cell_type": "code",
      "source": [
        "def data_sampling_smote(X,y, undersample_ratio = 0.2, oversample_ratio = 0.5, random_seed = 2023):\n",
        "  # Define the undersampler and oversampler as part of a pipeline\n",
        "  undersampler = RandomUnderSampler(sampling_strategy=undersample_ratio, random_state=random_seed)\n",
        "  oversampler = SMOTE(sampling_strategy=oversample_ratio, random_state=random_seed)\n",
        "  pipeline = imbPipeline(steps=[('u', undersampler), ('o', oversampler)])\n",
        "\n",
        "  # Apply the pipeline to the imbalanced dataset\n",
        "  X_SMOTE, y_SMOTE = pipeline.fit_resample(X, y)\n",
        "  return X_SMOTE, y_SMOTE\n",
        "\n",
        "X_train_SMOTE, y_train_SMOTE = data_sampling_smote(X_train, y_train)\n",
        "# Print the class distribution after balancing\n",
        "print(\"Class distribution after balancing:\", np.bincount(y_train_SMOTE))\n",
        "\n",
        "print(X_train_SMOTE.shape)"
      ],
      "metadata": {
        "id": "i82Yu4Kq8XDJ",
        "outputId": "d2ea3a78-09b3-4642-eeb2-6e44c6b001d9",
        "colab": {
          "base_uri": "https://localhost:8080/"
        }
      },
      "execution_count": 34,
      "outputs": [
        {
          "output_type": "stream",
          "name": "stdout",
          "text": [
            "Class distribution after balancing: [279305 139652]\n",
            "(418957, 23)\n"
          ]
        }
      ]
    },
    {
      "cell_type": "code",
      "source": [
        "print(y_train_SMOTE.value_counts())"
      ],
      "metadata": {
        "id": "BLD6HYNYBhAl",
        "outputId": "d14c701b-9c66-4316-b078-6cdfb8fcf673",
        "colab": {
          "base_uri": "https://localhost:8080/"
        }
      },
      "execution_count": 35,
      "outputs": [
        {
          "output_type": "stream",
          "name": "stdout",
          "text": [
            "0    279305\n",
            "1    139652\n",
            "Name: DEATH, dtype: int64\n"
          ]
        }
      ]
    },
    {
      "cell_type": "code",
      "source": [
        "X_train_SMOTE, y_train_SMOTE = shuffle(X_train_SMOTE, y_train_SMOTE, random_state=2023)"
      ],
      "metadata": {
        "id": "pb3RwweC4hlX"
      },
      "execution_count": 36,
      "outputs": []
    },
    {
      "cell_type": "code",
      "source": [
        "X_train_feature_reduced_SMOTE, y_train_feature_reduced_SMOTE = data_sampling_smote(X_train_feature_reduced, y_train)"
      ],
      "metadata": {
        "id": "X2WQL7KZ5BsS"
      },
      "execution_count": 37,
      "outputs": []
    },
    {
      "cell_type": "code",
      "source": [
        "print(y_train_feature_reduced_SMOTE.value_counts())"
      ],
      "metadata": {
        "id": "UpZOnwvR5VcH",
        "outputId": "39fcf9ed-b46f-4942-dd00-891bfe29ec4f",
        "colab": {
          "base_uri": "https://localhost:8080/"
        }
      },
      "execution_count": 38,
      "outputs": [
        {
          "output_type": "stream",
          "name": "stdout",
          "text": [
            "0    279305\n",
            "1    139652\n",
            "Name: DEATH, dtype: int64\n"
          ]
        }
      ]
    },
    {
      "cell_type": "markdown",
      "metadata": {
        "id": "gzegiYBVghaH"
      },
      "source": [
        "## Modeling"
      ]
    },
    {
      "cell_type": "markdown",
      "source": [
        "### Standard Models"
      ],
      "metadata": {
        "id": "3vw0fKh9BRoV"
      }
    },
    {
      "cell_type": "markdown",
      "source": [
        "#### Logistic Regression"
      ],
      "metadata": {
        "id": "WF4PzuyFBU87"
      }
    },
    {
      "cell_type": "code",
      "source": [
        "from sklearn.linear_model import LogisticRegression\n",
        "from sklearn.model_selection import GridSearchCV\n",
        "\n",
        "# Define the logistic regression model\n",
        "logreg = LogisticRegression(penalty='l2', solver='liblinear')\n",
        "\n",
        "# Set the hyperparameter search space\n",
        "param_grid = {'C': [0.1, 1, 10]}\n",
        "\n",
        "# Create a GridSearchCV object with 5-fold cross-validation\n",
        "grid = GridSearchCV(logreg, param_grid, cv=5 , scoring=['f1','accuracy', 'precision','recall'], refit = 'f1')\n",
        "\n",
        "# Fit the GridSearchCV object to the data\n",
        "grid.fit(X_train, y_train)\n",
        "\n",
        "# Print the best hyperparameters and their corresponding score\n",
        "print(\"Best hyperparameters: \", grid.best_params_)\n",
        "print(\"Best score: \", grid.best_score_)\n",
        "pd.DataFrame(grid.cv_results_)\n"
      ],
      "metadata": {
        "id": "9Ye0l9X6BaAR",
        "outputId": "e4b988ff-038e-415c-a9d4-2743ca83ade0",
        "colab": {
          "base_uri": "https://localhost:8080/",
          "height": 306
        }
      },
      "execution_count": 39,
      "outputs": [
        {
          "output_type": "stream",
          "name": "stdout",
          "text": [
            "Best hyperparameters:  {'C': 10}\n",
            "Best score:  0.4888494794153838\n"
          ]
        },
        {
          "output_type": "execute_result",
          "data": {
            "text/plain": [
              "   mean_fit_time  std_fit_time  mean_score_time  std_score_time param_C  \\\n",
              "0       2.362993      0.207834         0.185801        0.030259     0.1   \n",
              "1       2.689005      0.217066         0.171554        0.004871       1   \n",
              "2       2.764675      0.155486         0.166989        0.004435      10   \n",
              "\n",
              "       params  split0_test_f1  split1_test_f1  split2_test_f1  split3_test_f1  \\\n",
              "0  {'C': 0.1}        0.489372        0.486245        0.489798        0.490469   \n",
              "1    {'C': 1}        0.490183        0.486518        0.489830        0.490414   \n",
              "2   {'C': 10}        0.490211        0.486623        0.489804        0.490414   \n",
              "\n",
              "   ...  std_test_precision  rank_test_precision  split0_test_recall  \\\n",
              "0  ...            0.002073                    1            0.415197   \n",
              "1  ...            0.001898                    2            0.416719   \n",
              "2  ...            0.001836                    3            0.416808   \n",
              "\n",
              "   split1_test_recall  split2_test_recall  split3_test_recall  \\\n",
              "0            0.413713            0.417920            0.419173   \n",
              "1            0.414250            0.418188            0.418994   \n",
              "2            0.414339            0.418188            0.418994   \n",
              "\n",
              "   split4_test_recall  mean_test_recall  std_test_recall  rank_test_recall  \n",
              "0            0.412997          0.415800         0.002385                 3  \n",
              "1            0.413802          0.416391         0.002069                 2  \n",
              "2            0.413802          0.416426         0.002053                 1  \n",
              "\n",
              "[3 rows x 38 columns]"
            ],
            "text/html": [
              "\n",
              "  <div id=\"df-e2f8e02d-93de-4e6c-91a3-696e62aff709\">\n",
              "    <div class=\"colab-df-container\">\n",
              "      <div>\n",
              "<style scoped>\n",
              "    .dataframe tbody tr th:only-of-type {\n",
              "        vertical-align: middle;\n",
              "    }\n",
              "\n",
              "    .dataframe tbody tr th {\n",
              "        vertical-align: top;\n",
              "    }\n",
              "\n",
              "    .dataframe thead th {\n",
              "        text-align: right;\n",
              "    }\n",
              "</style>\n",
              "<table border=\"1\" class=\"dataframe\">\n",
              "  <thead>\n",
              "    <tr style=\"text-align: right;\">\n",
              "      <th></th>\n",
              "      <th>mean_fit_time</th>\n",
              "      <th>std_fit_time</th>\n",
              "      <th>mean_score_time</th>\n",
              "      <th>std_score_time</th>\n",
              "      <th>param_C</th>\n",
              "      <th>params</th>\n",
              "      <th>split0_test_f1</th>\n",
              "      <th>split1_test_f1</th>\n",
              "      <th>split2_test_f1</th>\n",
              "      <th>split3_test_f1</th>\n",
              "      <th>...</th>\n",
              "      <th>std_test_precision</th>\n",
              "      <th>rank_test_precision</th>\n",
              "      <th>split0_test_recall</th>\n",
              "      <th>split1_test_recall</th>\n",
              "      <th>split2_test_recall</th>\n",
              "      <th>split3_test_recall</th>\n",
              "      <th>split4_test_recall</th>\n",
              "      <th>mean_test_recall</th>\n",
              "      <th>std_test_recall</th>\n",
              "      <th>rank_test_recall</th>\n",
              "    </tr>\n",
              "  </thead>\n",
              "  <tbody>\n",
              "    <tr>\n",
              "      <th>0</th>\n",
              "      <td>2.362993</td>\n",
              "      <td>0.207834</td>\n",
              "      <td>0.185801</td>\n",
              "      <td>0.030259</td>\n",
              "      <td>0.1</td>\n",
              "      <td>{'C': 0.1}</td>\n",
              "      <td>0.489372</td>\n",
              "      <td>0.486245</td>\n",
              "      <td>0.489798</td>\n",
              "      <td>0.490469</td>\n",
              "      <td>...</td>\n",
              "      <td>0.002073</td>\n",
              "      <td>1</td>\n",
              "      <td>0.415197</td>\n",
              "      <td>0.413713</td>\n",
              "      <td>0.417920</td>\n",
              "      <td>0.419173</td>\n",
              "      <td>0.412997</td>\n",
              "      <td>0.415800</td>\n",
              "      <td>0.002385</td>\n",
              "      <td>3</td>\n",
              "    </tr>\n",
              "    <tr>\n",
              "      <th>1</th>\n",
              "      <td>2.689005</td>\n",
              "      <td>0.217066</td>\n",
              "      <td>0.171554</td>\n",
              "      <td>0.004871</td>\n",
              "      <td>1</td>\n",
              "      <td>{'C': 1}</td>\n",
              "      <td>0.490183</td>\n",
              "      <td>0.486518</td>\n",
              "      <td>0.489830</td>\n",
              "      <td>0.490414</td>\n",
              "      <td>...</td>\n",
              "      <td>0.001898</td>\n",
              "      <td>2</td>\n",
              "      <td>0.416719</td>\n",
              "      <td>0.414250</td>\n",
              "      <td>0.418188</td>\n",
              "      <td>0.418994</td>\n",
              "      <td>0.413802</td>\n",
              "      <td>0.416391</td>\n",
              "      <td>0.002069</td>\n",
              "      <td>2</td>\n",
              "    </tr>\n",
              "    <tr>\n",
              "      <th>2</th>\n",
              "      <td>2.764675</td>\n",
              "      <td>0.155486</td>\n",
              "      <td>0.166989</td>\n",
              "      <td>0.004435</td>\n",
              "      <td>10</td>\n",
              "      <td>{'C': 10}</td>\n",
              "      <td>0.490211</td>\n",
              "      <td>0.486623</td>\n",
              "      <td>0.489804</td>\n",
              "      <td>0.490414</td>\n",
              "      <td>...</td>\n",
              "      <td>0.001836</td>\n",
              "      <td>3</td>\n",
              "      <td>0.416808</td>\n",
              "      <td>0.414339</td>\n",
              "      <td>0.418188</td>\n",
              "      <td>0.418994</td>\n",
              "      <td>0.413802</td>\n",
              "      <td>0.416426</td>\n",
              "      <td>0.002053</td>\n",
              "      <td>1</td>\n",
              "    </tr>\n",
              "  </tbody>\n",
              "</table>\n",
              "<p>3 rows × 38 columns</p>\n",
              "</div>\n",
              "      <button class=\"colab-df-convert\" onclick=\"convertToInteractive('df-e2f8e02d-93de-4e6c-91a3-696e62aff709')\"\n",
              "              title=\"Convert this dataframe to an interactive table.\"\n",
              "              style=\"display:none;\">\n",
              "        \n",
              "  <svg xmlns=\"http://www.w3.org/2000/svg\" height=\"24px\"viewBox=\"0 0 24 24\"\n",
              "       width=\"24px\">\n",
              "    <path d=\"M0 0h24v24H0V0z\" fill=\"none\"/>\n",
              "    <path d=\"M18.56 5.44l.94 2.06.94-2.06 2.06-.94-2.06-.94-.94-2.06-.94 2.06-2.06.94zm-11 1L8.5 8.5l.94-2.06 2.06-.94-2.06-.94L8.5 2.5l-.94 2.06-2.06.94zm10 10l.94 2.06.94-2.06 2.06-.94-2.06-.94-.94-2.06-.94 2.06-2.06.94z\"/><path d=\"M17.41 7.96l-1.37-1.37c-.4-.4-.92-.59-1.43-.59-.52 0-1.04.2-1.43.59L10.3 9.45l-7.72 7.72c-.78.78-.78 2.05 0 2.83L4 21.41c.39.39.9.59 1.41.59.51 0 1.02-.2 1.41-.59l7.78-7.78 2.81-2.81c.8-.78.8-2.07 0-2.86zM5.41 20L4 18.59l7.72-7.72 1.47 1.35L5.41 20z\"/>\n",
              "  </svg>\n",
              "      </button>\n",
              "      \n",
              "  <style>\n",
              "    .colab-df-container {\n",
              "      display:flex;\n",
              "      flex-wrap:wrap;\n",
              "      gap: 12px;\n",
              "    }\n",
              "\n",
              "    .colab-df-convert {\n",
              "      background-color: #E8F0FE;\n",
              "      border: none;\n",
              "      border-radius: 50%;\n",
              "      cursor: pointer;\n",
              "      display: none;\n",
              "      fill: #1967D2;\n",
              "      height: 32px;\n",
              "      padding: 0 0 0 0;\n",
              "      width: 32px;\n",
              "    }\n",
              "\n",
              "    .colab-df-convert:hover {\n",
              "      background-color: #E2EBFA;\n",
              "      box-shadow: 0px 1px 2px rgba(60, 64, 67, 0.3), 0px 1px 3px 1px rgba(60, 64, 67, 0.15);\n",
              "      fill: #174EA6;\n",
              "    }\n",
              "\n",
              "    [theme=dark] .colab-df-convert {\n",
              "      background-color: #3B4455;\n",
              "      fill: #D2E3FC;\n",
              "    }\n",
              "\n",
              "    [theme=dark] .colab-df-convert:hover {\n",
              "      background-color: #434B5C;\n",
              "      box-shadow: 0px 1px 3px 1px rgba(0, 0, 0, 0.15);\n",
              "      filter: drop-shadow(0px 1px 2px rgba(0, 0, 0, 0.3));\n",
              "      fill: #FFFFFF;\n",
              "    }\n",
              "  </style>\n",
              "\n",
              "      <script>\n",
              "        const buttonEl =\n",
              "          document.querySelector('#df-e2f8e02d-93de-4e6c-91a3-696e62aff709 button.colab-df-convert');\n",
              "        buttonEl.style.display =\n",
              "          google.colab.kernel.accessAllowed ? 'block' : 'none';\n",
              "\n",
              "        async function convertToInteractive(key) {\n",
              "          const element = document.querySelector('#df-e2f8e02d-93de-4e6c-91a3-696e62aff709');\n",
              "          const dataTable =\n",
              "            await google.colab.kernel.invokeFunction('convertToInteractive',\n",
              "                                                     [key], {});\n",
              "          if (!dataTable) return;\n",
              "\n",
              "          const docLinkHtml = 'Like what you see? Visit the ' +\n",
              "            '<a target=\"_blank\" href=https://colab.research.google.com/notebooks/data_table.ipynb>data table notebook</a>'\n",
              "            + ' to learn more about interactive tables.';\n",
              "          element.innerHTML = '';\n",
              "          dataTable['output_type'] = 'display_data';\n",
              "          await google.colab.output.renderOutput(dataTable, element);\n",
              "          const docLink = document.createElement('div');\n",
              "          docLink.innerHTML = docLinkHtml;\n",
              "          element.appendChild(docLink);\n",
              "        }\n",
              "      </script>\n",
              "    </div>\n",
              "  </div>\n",
              "  "
            ]
          },
          "metadata": {},
          "execution_count": 39
        }
      ]
    },
    {
      "cell_type": "code",
      "source": [
        "# Fit the GridSearchCV object to the data\n",
        "grid.fit(X_train_feature_reduced, y_train)\n",
        "\n",
        "# Print the best hyperparameters and their corresponding score\n",
        "print(\"Best hyperparameters: \", grid.best_params_)\n",
        "print(\"Best score: \", grid.best_score_)\n",
        "pd.DataFrame(grid.cv_results_)"
      ],
      "metadata": {
        "id": "u4iLe1_hE0P_",
        "outputId": "f66499cc-31d1-41c7-fe0f-119b54d60c20",
        "colab": {
          "base_uri": "https://localhost:8080/",
          "height": 306
        }
      },
      "execution_count": 40,
      "outputs": [
        {
          "output_type": "stream",
          "name": "stdout",
          "text": [
            "Best hyperparameters:  {'C': 1}\n",
            "Best score:  0.47007149477895105\n"
          ]
        },
        {
          "output_type": "execute_result",
          "data": {
            "text/plain": [
              "   mean_fit_time  std_fit_time  mean_score_time  std_score_time param_C  \\\n",
              "0       1.498178      0.115344         0.175932        0.018481     0.1   \n",
              "1       1.654349      0.142802         0.181527        0.032111       1   \n",
              "2       1.375411      0.053250         0.156780        0.003168      10   \n",
              "\n",
              "       params  split0_test_f1  split1_test_f1  split2_test_f1  split3_test_f1  \\\n",
              "0  {'C': 0.1}        0.472639        0.471402        0.473175        0.470754   \n",
              "1    {'C': 1}        0.472702        0.471402        0.473175        0.470952   \n",
              "2   {'C': 10}        0.467271        0.471402        0.473175        0.470952   \n",
              "\n",
              "   ...  std_test_precision  rank_test_precision  split0_test_recall  \\\n",
              "0  ...            0.001843                    2            0.390763   \n",
              "1  ...            0.001816                    3            0.390942   \n",
              "2  ...            0.002336                    1            0.382708   \n",
              "\n",
              "   split1_test_recall  split2_test_recall  split3_test_recall  \\\n",
              "0            0.390619            0.391962            0.388292   \n",
              "1            0.390619            0.391962            0.388561   \n",
              "2            0.390619            0.391962            0.388561   \n",
              "\n",
              "   split4_test_recall  mean_test_recall  std_test_recall  rank_test_recall  \n",
              "0            0.378267          0.387981         0.005000                 2  \n",
              "1            0.378446          0.388106         0.004955                 1  \n",
              "2            0.378446          0.386459         0.005105                 3  \n",
              "\n",
              "[3 rows x 38 columns]"
            ],
            "text/html": [
              "\n",
              "  <div id=\"df-098779de-e49a-4b72-aac6-ec22fe9b8fe5\">\n",
              "    <div class=\"colab-df-container\">\n",
              "      <div>\n",
              "<style scoped>\n",
              "    .dataframe tbody tr th:only-of-type {\n",
              "        vertical-align: middle;\n",
              "    }\n",
              "\n",
              "    .dataframe tbody tr th {\n",
              "        vertical-align: top;\n",
              "    }\n",
              "\n",
              "    .dataframe thead th {\n",
              "        text-align: right;\n",
              "    }\n",
              "</style>\n",
              "<table border=\"1\" class=\"dataframe\">\n",
              "  <thead>\n",
              "    <tr style=\"text-align: right;\">\n",
              "      <th></th>\n",
              "      <th>mean_fit_time</th>\n",
              "      <th>std_fit_time</th>\n",
              "      <th>mean_score_time</th>\n",
              "      <th>std_score_time</th>\n",
              "      <th>param_C</th>\n",
              "      <th>params</th>\n",
              "      <th>split0_test_f1</th>\n",
              "      <th>split1_test_f1</th>\n",
              "      <th>split2_test_f1</th>\n",
              "      <th>split3_test_f1</th>\n",
              "      <th>...</th>\n",
              "      <th>std_test_precision</th>\n",
              "      <th>rank_test_precision</th>\n",
              "      <th>split0_test_recall</th>\n",
              "      <th>split1_test_recall</th>\n",
              "      <th>split2_test_recall</th>\n",
              "      <th>split3_test_recall</th>\n",
              "      <th>split4_test_recall</th>\n",
              "      <th>mean_test_recall</th>\n",
              "      <th>std_test_recall</th>\n",
              "      <th>rank_test_recall</th>\n",
              "    </tr>\n",
              "  </thead>\n",
              "  <tbody>\n",
              "    <tr>\n",
              "      <th>0</th>\n",
              "      <td>1.498178</td>\n",
              "      <td>0.115344</td>\n",
              "      <td>0.175932</td>\n",
              "      <td>0.018481</td>\n",
              "      <td>0.1</td>\n",
              "      <td>{'C': 0.1}</td>\n",
              "      <td>0.472639</td>\n",
              "      <td>0.471402</td>\n",
              "      <td>0.473175</td>\n",
              "      <td>0.470754</td>\n",
              "      <td>...</td>\n",
              "      <td>0.001843</td>\n",
              "      <td>2</td>\n",
              "      <td>0.390763</td>\n",
              "      <td>0.390619</td>\n",
              "      <td>0.391962</td>\n",
              "      <td>0.388292</td>\n",
              "      <td>0.378267</td>\n",
              "      <td>0.387981</td>\n",
              "      <td>0.005000</td>\n",
              "      <td>2</td>\n",
              "    </tr>\n",
              "    <tr>\n",
              "      <th>1</th>\n",
              "      <td>1.654349</td>\n",
              "      <td>0.142802</td>\n",
              "      <td>0.181527</td>\n",
              "      <td>0.032111</td>\n",
              "      <td>1</td>\n",
              "      <td>{'C': 1}</td>\n",
              "      <td>0.472702</td>\n",
              "      <td>0.471402</td>\n",
              "      <td>0.473175</td>\n",
              "      <td>0.470952</td>\n",
              "      <td>...</td>\n",
              "      <td>0.001816</td>\n",
              "      <td>3</td>\n",
              "      <td>0.390942</td>\n",
              "      <td>0.390619</td>\n",
              "      <td>0.391962</td>\n",
              "      <td>0.388561</td>\n",
              "      <td>0.378446</td>\n",
              "      <td>0.388106</td>\n",
              "      <td>0.004955</td>\n",
              "      <td>1</td>\n",
              "    </tr>\n",
              "    <tr>\n",
              "      <th>2</th>\n",
              "      <td>1.375411</td>\n",
              "      <td>0.053250</td>\n",
              "      <td>0.156780</td>\n",
              "      <td>0.003168</td>\n",
              "      <td>10</td>\n",
              "      <td>{'C': 10}</td>\n",
              "      <td>0.467271</td>\n",
              "      <td>0.471402</td>\n",
              "      <td>0.473175</td>\n",
              "      <td>0.470952</td>\n",
              "      <td>...</td>\n",
              "      <td>0.002336</td>\n",
              "      <td>1</td>\n",
              "      <td>0.382708</td>\n",
              "      <td>0.390619</td>\n",
              "      <td>0.391962</td>\n",
              "      <td>0.388561</td>\n",
              "      <td>0.378446</td>\n",
              "      <td>0.386459</td>\n",
              "      <td>0.005105</td>\n",
              "      <td>3</td>\n",
              "    </tr>\n",
              "  </tbody>\n",
              "</table>\n",
              "<p>3 rows × 38 columns</p>\n",
              "</div>\n",
              "      <button class=\"colab-df-convert\" onclick=\"convertToInteractive('df-098779de-e49a-4b72-aac6-ec22fe9b8fe5')\"\n",
              "              title=\"Convert this dataframe to an interactive table.\"\n",
              "              style=\"display:none;\">\n",
              "        \n",
              "  <svg xmlns=\"http://www.w3.org/2000/svg\" height=\"24px\"viewBox=\"0 0 24 24\"\n",
              "       width=\"24px\">\n",
              "    <path d=\"M0 0h24v24H0V0z\" fill=\"none\"/>\n",
              "    <path d=\"M18.56 5.44l.94 2.06.94-2.06 2.06-.94-2.06-.94-.94-2.06-.94 2.06-2.06.94zm-11 1L8.5 8.5l.94-2.06 2.06-.94-2.06-.94L8.5 2.5l-.94 2.06-2.06.94zm10 10l.94 2.06.94-2.06 2.06-.94-2.06-.94-.94-2.06-.94 2.06-2.06.94z\"/><path d=\"M17.41 7.96l-1.37-1.37c-.4-.4-.92-.59-1.43-.59-.52 0-1.04.2-1.43.59L10.3 9.45l-7.72 7.72c-.78.78-.78 2.05 0 2.83L4 21.41c.39.39.9.59 1.41.59.51 0 1.02-.2 1.41-.59l7.78-7.78 2.81-2.81c.8-.78.8-2.07 0-2.86zM5.41 20L4 18.59l7.72-7.72 1.47 1.35L5.41 20z\"/>\n",
              "  </svg>\n",
              "      </button>\n",
              "      \n",
              "  <style>\n",
              "    .colab-df-container {\n",
              "      display:flex;\n",
              "      flex-wrap:wrap;\n",
              "      gap: 12px;\n",
              "    }\n",
              "\n",
              "    .colab-df-convert {\n",
              "      background-color: #E8F0FE;\n",
              "      border: none;\n",
              "      border-radius: 50%;\n",
              "      cursor: pointer;\n",
              "      display: none;\n",
              "      fill: #1967D2;\n",
              "      height: 32px;\n",
              "      padding: 0 0 0 0;\n",
              "      width: 32px;\n",
              "    }\n",
              "\n",
              "    .colab-df-convert:hover {\n",
              "      background-color: #E2EBFA;\n",
              "      box-shadow: 0px 1px 2px rgba(60, 64, 67, 0.3), 0px 1px 3px 1px rgba(60, 64, 67, 0.15);\n",
              "      fill: #174EA6;\n",
              "    }\n",
              "\n",
              "    [theme=dark] .colab-df-convert {\n",
              "      background-color: #3B4455;\n",
              "      fill: #D2E3FC;\n",
              "    }\n",
              "\n",
              "    [theme=dark] .colab-df-convert:hover {\n",
              "      background-color: #434B5C;\n",
              "      box-shadow: 0px 1px 3px 1px rgba(0, 0, 0, 0.15);\n",
              "      filter: drop-shadow(0px 1px 2px rgba(0, 0, 0, 0.3));\n",
              "      fill: #FFFFFF;\n",
              "    }\n",
              "  </style>\n",
              "\n",
              "      <script>\n",
              "        const buttonEl =\n",
              "          document.querySelector('#df-098779de-e49a-4b72-aac6-ec22fe9b8fe5 button.colab-df-convert');\n",
              "        buttonEl.style.display =\n",
              "          google.colab.kernel.accessAllowed ? 'block' : 'none';\n",
              "\n",
              "        async function convertToInteractive(key) {\n",
              "          const element = document.querySelector('#df-098779de-e49a-4b72-aac6-ec22fe9b8fe5');\n",
              "          const dataTable =\n",
              "            await google.colab.kernel.invokeFunction('convertToInteractive',\n",
              "                                                     [key], {});\n",
              "          if (!dataTable) return;\n",
              "\n",
              "          const docLinkHtml = 'Like what you see? Visit the ' +\n",
              "            '<a target=\"_blank\" href=https://colab.research.google.com/notebooks/data_table.ipynb>data table notebook</a>'\n",
              "            + ' to learn more about interactive tables.';\n",
              "          element.innerHTML = '';\n",
              "          dataTable['output_type'] = 'display_data';\n",
              "          await google.colab.output.renderOutput(dataTable, element);\n",
              "          const docLink = document.createElement('div');\n",
              "          docLink.innerHTML = docLinkHtml;\n",
              "          element.appendChild(docLink);\n",
              "        }\n",
              "      </script>\n",
              "    </div>\n",
              "  </div>\n",
              "  "
            ]
          },
          "metadata": {},
          "execution_count": 40
        }
      ]
    },
    {
      "cell_type": "code",
      "source": [
        "# Fit the GridSearchCV object to the data\n",
        "grid.fit(X_train_SMOTE, y_train_SMOTE)\n",
        "\n",
        "# Print the best hyperparameters and their corresponding score\n",
        "print(\"Best hyperparameters: \", grid.best_params_)\n",
        "print(\"Best score: \", grid.best_score_)\n",
        "pd.DataFrame(grid.cv_results_)"
      ],
      "metadata": {
        "id": "yVPJ95PLFmn2",
        "outputId": "6ec971ea-f02d-4be7-a5d6-408f957b7fb3",
        "colab": {
          "base_uri": "https://localhost:8080/",
          "height": 306
        }
      },
      "execution_count": 41,
      "outputs": [
        {
          "output_type": "stream",
          "name": "stdout",
          "text": [
            "Best hyperparameters:  {'C': 10}\n",
            "Best score:  0.8423946406486378\n"
          ]
        },
        {
          "output_type": "execute_result",
          "data": {
            "text/plain": [
              "   mean_fit_time  std_fit_time  mean_score_time  std_score_time param_C  \\\n",
              "0       1.470993      0.198095         0.128131        0.008218     0.1   \n",
              "1       1.368290      0.186301         0.133015        0.024608       1   \n",
              "2       1.460944      0.252950         0.128572        0.012778      10   \n",
              "\n",
              "       params  split0_test_f1  split1_test_f1  split2_test_f1  split3_test_f1  \\\n",
              "0  {'C': 0.1}        0.841421        0.846796        0.841286        0.841029   \n",
              "1    {'C': 1}        0.841772        0.846871        0.841248        0.841108   \n",
              "2   {'C': 10}        0.841872        0.846850        0.841365        0.841138   \n",
              "\n",
              "   ...  std_test_precision  rank_test_precision  split0_test_recall  \\\n",
              "0  ...            0.002828                    3            0.861408   \n",
              "1  ...            0.002843                    2            0.862160   \n",
              "2  ...            0.002813                    1            0.861946   \n",
              "\n",
              "   split1_test_recall  split2_test_recall  split3_test_recall  \\\n",
              "0            0.865669            0.863516            0.859864   \n",
              "1            0.865669            0.863265            0.859900   \n",
              "2            0.865633            0.863552            0.859900   \n",
              "\n",
              "   split4_test_recall  mean_test_recall  std_test_recall  rank_test_recall  \n",
              "0            0.858074          0.861706         0.002670                 3  \n",
              "1            0.858217          0.861842         0.002596                 2  \n",
              "2            0.858253          0.861857         0.002606                 1  \n",
              "\n",
              "[3 rows x 38 columns]"
            ],
            "text/html": [
              "\n",
              "  <div id=\"df-9a379603-f75f-4c35-94c0-9888cd037efe\">\n",
              "    <div class=\"colab-df-container\">\n",
              "      <div>\n",
              "<style scoped>\n",
              "    .dataframe tbody tr th:only-of-type {\n",
              "        vertical-align: middle;\n",
              "    }\n",
              "\n",
              "    .dataframe tbody tr th {\n",
              "        vertical-align: top;\n",
              "    }\n",
              "\n",
              "    .dataframe thead th {\n",
              "        text-align: right;\n",
              "    }\n",
              "</style>\n",
              "<table border=\"1\" class=\"dataframe\">\n",
              "  <thead>\n",
              "    <tr style=\"text-align: right;\">\n",
              "      <th></th>\n",
              "      <th>mean_fit_time</th>\n",
              "      <th>std_fit_time</th>\n",
              "      <th>mean_score_time</th>\n",
              "      <th>std_score_time</th>\n",
              "      <th>param_C</th>\n",
              "      <th>params</th>\n",
              "      <th>split0_test_f1</th>\n",
              "      <th>split1_test_f1</th>\n",
              "      <th>split2_test_f1</th>\n",
              "      <th>split3_test_f1</th>\n",
              "      <th>...</th>\n",
              "      <th>std_test_precision</th>\n",
              "      <th>rank_test_precision</th>\n",
              "      <th>split0_test_recall</th>\n",
              "      <th>split1_test_recall</th>\n",
              "      <th>split2_test_recall</th>\n",
              "      <th>split3_test_recall</th>\n",
              "      <th>split4_test_recall</th>\n",
              "      <th>mean_test_recall</th>\n",
              "      <th>std_test_recall</th>\n",
              "      <th>rank_test_recall</th>\n",
              "    </tr>\n",
              "  </thead>\n",
              "  <tbody>\n",
              "    <tr>\n",
              "      <th>0</th>\n",
              "      <td>1.470993</td>\n",
              "      <td>0.198095</td>\n",
              "      <td>0.128131</td>\n",
              "      <td>0.008218</td>\n",
              "      <td>0.1</td>\n",
              "      <td>{'C': 0.1}</td>\n",
              "      <td>0.841421</td>\n",
              "      <td>0.846796</td>\n",
              "      <td>0.841286</td>\n",
              "      <td>0.841029</td>\n",
              "      <td>...</td>\n",
              "      <td>0.002828</td>\n",
              "      <td>3</td>\n",
              "      <td>0.861408</td>\n",
              "      <td>0.865669</td>\n",
              "      <td>0.863516</td>\n",
              "      <td>0.859864</td>\n",
              "      <td>0.858074</td>\n",
              "      <td>0.861706</td>\n",
              "      <td>0.002670</td>\n",
              "      <td>3</td>\n",
              "    </tr>\n",
              "    <tr>\n",
              "      <th>1</th>\n",
              "      <td>1.368290</td>\n",
              "      <td>0.186301</td>\n",
              "      <td>0.133015</td>\n",
              "      <td>0.024608</td>\n",
              "      <td>1</td>\n",
              "      <td>{'C': 1}</td>\n",
              "      <td>0.841772</td>\n",
              "      <td>0.846871</td>\n",
              "      <td>0.841248</td>\n",
              "      <td>0.841108</td>\n",
              "      <td>...</td>\n",
              "      <td>0.002843</td>\n",
              "      <td>2</td>\n",
              "      <td>0.862160</td>\n",
              "      <td>0.865669</td>\n",
              "      <td>0.863265</td>\n",
              "      <td>0.859900</td>\n",
              "      <td>0.858217</td>\n",
              "      <td>0.861842</td>\n",
              "      <td>0.002596</td>\n",
              "      <td>2</td>\n",
              "    </tr>\n",
              "    <tr>\n",
              "      <th>2</th>\n",
              "      <td>1.460944</td>\n",
              "      <td>0.252950</td>\n",
              "      <td>0.128572</td>\n",
              "      <td>0.012778</td>\n",
              "      <td>10</td>\n",
              "      <td>{'C': 10}</td>\n",
              "      <td>0.841872</td>\n",
              "      <td>0.846850</td>\n",
              "      <td>0.841365</td>\n",
              "      <td>0.841138</td>\n",
              "      <td>...</td>\n",
              "      <td>0.002813</td>\n",
              "      <td>1</td>\n",
              "      <td>0.861946</td>\n",
              "      <td>0.865633</td>\n",
              "      <td>0.863552</td>\n",
              "      <td>0.859900</td>\n",
              "      <td>0.858253</td>\n",
              "      <td>0.861857</td>\n",
              "      <td>0.002606</td>\n",
              "      <td>1</td>\n",
              "    </tr>\n",
              "  </tbody>\n",
              "</table>\n",
              "<p>3 rows × 38 columns</p>\n",
              "</div>\n",
              "      <button class=\"colab-df-convert\" onclick=\"convertToInteractive('df-9a379603-f75f-4c35-94c0-9888cd037efe')\"\n",
              "              title=\"Convert this dataframe to an interactive table.\"\n",
              "              style=\"display:none;\">\n",
              "        \n",
              "  <svg xmlns=\"http://www.w3.org/2000/svg\" height=\"24px\"viewBox=\"0 0 24 24\"\n",
              "       width=\"24px\">\n",
              "    <path d=\"M0 0h24v24H0V0z\" fill=\"none\"/>\n",
              "    <path d=\"M18.56 5.44l.94 2.06.94-2.06 2.06-.94-2.06-.94-.94-2.06-.94 2.06-2.06.94zm-11 1L8.5 8.5l.94-2.06 2.06-.94-2.06-.94L8.5 2.5l-.94 2.06-2.06.94zm10 10l.94 2.06.94-2.06 2.06-.94-2.06-.94-.94-2.06-.94 2.06-2.06.94z\"/><path d=\"M17.41 7.96l-1.37-1.37c-.4-.4-.92-.59-1.43-.59-.52 0-1.04.2-1.43.59L10.3 9.45l-7.72 7.72c-.78.78-.78 2.05 0 2.83L4 21.41c.39.39.9.59 1.41.59.51 0 1.02-.2 1.41-.59l7.78-7.78 2.81-2.81c.8-.78.8-2.07 0-2.86zM5.41 20L4 18.59l7.72-7.72 1.47 1.35L5.41 20z\"/>\n",
              "  </svg>\n",
              "      </button>\n",
              "      \n",
              "  <style>\n",
              "    .colab-df-container {\n",
              "      display:flex;\n",
              "      flex-wrap:wrap;\n",
              "      gap: 12px;\n",
              "    }\n",
              "\n",
              "    .colab-df-convert {\n",
              "      background-color: #E8F0FE;\n",
              "      border: none;\n",
              "      border-radius: 50%;\n",
              "      cursor: pointer;\n",
              "      display: none;\n",
              "      fill: #1967D2;\n",
              "      height: 32px;\n",
              "      padding: 0 0 0 0;\n",
              "      width: 32px;\n",
              "    }\n",
              "\n",
              "    .colab-df-convert:hover {\n",
              "      background-color: #E2EBFA;\n",
              "      box-shadow: 0px 1px 2px rgba(60, 64, 67, 0.3), 0px 1px 3px 1px rgba(60, 64, 67, 0.15);\n",
              "      fill: #174EA6;\n",
              "    }\n",
              "\n",
              "    [theme=dark] .colab-df-convert {\n",
              "      background-color: #3B4455;\n",
              "      fill: #D2E3FC;\n",
              "    }\n",
              "\n",
              "    [theme=dark] .colab-df-convert:hover {\n",
              "      background-color: #434B5C;\n",
              "      box-shadow: 0px 1px 3px 1px rgba(0, 0, 0, 0.15);\n",
              "      filter: drop-shadow(0px 1px 2px rgba(0, 0, 0, 0.3));\n",
              "      fill: #FFFFFF;\n",
              "    }\n",
              "  </style>\n",
              "\n",
              "      <script>\n",
              "        const buttonEl =\n",
              "          document.querySelector('#df-9a379603-f75f-4c35-94c0-9888cd037efe button.colab-df-convert');\n",
              "        buttonEl.style.display =\n",
              "          google.colab.kernel.accessAllowed ? 'block' : 'none';\n",
              "\n",
              "        async function convertToInteractive(key) {\n",
              "          const element = document.querySelector('#df-9a379603-f75f-4c35-94c0-9888cd037efe');\n",
              "          const dataTable =\n",
              "            await google.colab.kernel.invokeFunction('convertToInteractive',\n",
              "                                                     [key], {});\n",
              "          if (!dataTable) return;\n",
              "\n",
              "          const docLinkHtml = 'Like what you see? Visit the ' +\n",
              "            '<a target=\"_blank\" href=https://colab.research.google.com/notebooks/data_table.ipynb>data table notebook</a>'\n",
              "            + ' to learn more about interactive tables.';\n",
              "          element.innerHTML = '';\n",
              "          dataTable['output_type'] = 'display_data';\n",
              "          await google.colab.output.renderOutput(dataTable, element);\n",
              "          const docLink = document.createElement('div');\n",
              "          docLink.innerHTML = docLinkHtml;\n",
              "          element.appendChild(docLink);\n",
              "        }\n",
              "      </script>\n",
              "    </div>\n",
              "  </div>\n",
              "  "
            ]
          },
          "metadata": {},
          "execution_count": 41
        }
      ]
    },
    {
      "cell_type": "code",
      "source": [
        "# Fit the GridSearchCV object to the data\n",
        "grid.fit(X_train_feature_reduced_SMOTE, y_train_feature_reduced_SMOTE)\n",
        "\n",
        "# Print the best hyperparameters and their corresponding score\n",
        "print(\"Best hyperparameters: \", grid.best_params_)\n",
        "print(\"Best score: \", grid.best_score_)\n",
        "pd.DataFrame(grid.cv_results_)"
      ],
      "metadata": {
        "id": "5kaKBqriGUfo",
        "outputId": "ca7cd861-727a-4d46-dca1-6d338e3ad0bf",
        "colab": {
          "base_uri": "https://localhost:8080/",
          "height": 306
        }
      },
      "execution_count": 42,
      "outputs": [
        {
          "output_type": "stream",
          "name": "stdout",
          "text": [
            "Best hyperparameters:  {'C': 0.1}\n",
            "Best score:  0.8402605791405795\n"
          ]
        },
        {
          "output_type": "execute_result",
          "data": {
            "text/plain": [
              "   mean_fit_time  std_fit_time  mean_score_time  std_score_time param_C  \\\n",
              "0       0.544333      0.020312         0.102690        0.004572     0.1   \n",
              "1       0.538071      0.016395         0.105468        0.010397       1   \n",
              "2       0.535580      0.014695         0.104990        0.008068      10   \n",
              "\n",
              "       params  split0_test_f1  split1_test_f1  split2_test_f1  split3_test_f1  \\\n",
              "0  {'C': 0.1}        0.839784        0.840746        0.840892        0.841207   \n",
              "1    {'C': 1}        0.839828        0.840746        0.840871        0.841177   \n",
              "2   {'C': 10}        0.839828        0.840746        0.840871        0.841177   \n",
              "\n",
              "   ...  std_test_precision  rank_test_precision  split0_test_recall  \\\n",
              "0  ...            0.001000                    3            0.854141   \n",
              "1  ...            0.000992                    1            0.854141   \n",
              "2  ...            0.000992                    1            0.854141   \n",
              "\n",
              "   split1_test_recall  split2_test_recall  split3_test_recall  \\\n",
              "0            0.857828            0.857752             0.85589   \n",
              "1            0.857828            0.857716             0.85589   \n",
              "2            0.857828            0.857716             0.85589   \n",
              "\n",
              "   split4_test_recall  mean_test_recall  std_test_recall  rank_test_recall  \n",
              "0            0.853133          0.855749         0.001886                 1  \n",
              "1            0.853133          0.855741         0.001878                 2  \n",
              "2            0.853133          0.855741         0.001878                 2  \n",
              "\n",
              "[3 rows x 38 columns]"
            ],
            "text/html": [
              "\n",
              "  <div id=\"df-c38161d1-8f07-462e-9ab7-bcddfb8e8732\">\n",
              "    <div class=\"colab-df-container\">\n",
              "      <div>\n",
              "<style scoped>\n",
              "    .dataframe tbody tr th:only-of-type {\n",
              "        vertical-align: middle;\n",
              "    }\n",
              "\n",
              "    .dataframe tbody tr th {\n",
              "        vertical-align: top;\n",
              "    }\n",
              "\n",
              "    .dataframe thead th {\n",
              "        text-align: right;\n",
              "    }\n",
              "</style>\n",
              "<table border=\"1\" class=\"dataframe\">\n",
              "  <thead>\n",
              "    <tr style=\"text-align: right;\">\n",
              "      <th></th>\n",
              "      <th>mean_fit_time</th>\n",
              "      <th>std_fit_time</th>\n",
              "      <th>mean_score_time</th>\n",
              "      <th>std_score_time</th>\n",
              "      <th>param_C</th>\n",
              "      <th>params</th>\n",
              "      <th>split0_test_f1</th>\n",
              "      <th>split1_test_f1</th>\n",
              "      <th>split2_test_f1</th>\n",
              "      <th>split3_test_f1</th>\n",
              "      <th>...</th>\n",
              "      <th>std_test_precision</th>\n",
              "      <th>rank_test_precision</th>\n",
              "      <th>split0_test_recall</th>\n",
              "      <th>split1_test_recall</th>\n",
              "      <th>split2_test_recall</th>\n",
              "      <th>split3_test_recall</th>\n",
              "      <th>split4_test_recall</th>\n",
              "      <th>mean_test_recall</th>\n",
              "      <th>std_test_recall</th>\n",
              "      <th>rank_test_recall</th>\n",
              "    </tr>\n",
              "  </thead>\n",
              "  <tbody>\n",
              "    <tr>\n",
              "      <th>0</th>\n",
              "      <td>0.544333</td>\n",
              "      <td>0.020312</td>\n",
              "      <td>0.102690</td>\n",
              "      <td>0.004572</td>\n",
              "      <td>0.1</td>\n",
              "      <td>{'C': 0.1}</td>\n",
              "      <td>0.839784</td>\n",
              "      <td>0.840746</td>\n",
              "      <td>0.840892</td>\n",
              "      <td>0.841207</td>\n",
              "      <td>...</td>\n",
              "      <td>0.001000</td>\n",
              "      <td>3</td>\n",
              "      <td>0.854141</td>\n",
              "      <td>0.857828</td>\n",
              "      <td>0.857752</td>\n",
              "      <td>0.85589</td>\n",
              "      <td>0.853133</td>\n",
              "      <td>0.855749</td>\n",
              "      <td>0.001886</td>\n",
              "      <td>1</td>\n",
              "    </tr>\n",
              "    <tr>\n",
              "      <th>1</th>\n",
              "      <td>0.538071</td>\n",
              "      <td>0.016395</td>\n",
              "      <td>0.105468</td>\n",
              "      <td>0.010397</td>\n",
              "      <td>1</td>\n",
              "      <td>{'C': 1}</td>\n",
              "      <td>0.839828</td>\n",
              "      <td>0.840746</td>\n",
              "      <td>0.840871</td>\n",
              "      <td>0.841177</td>\n",
              "      <td>...</td>\n",
              "      <td>0.000992</td>\n",
              "      <td>1</td>\n",
              "      <td>0.854141</td>\n",
              "      <td>0.857828</td>\n",
              "      <td>0.857716</td>\n",
              "      <td>0.85589</td>\n",
              "      <td>0.853133</td>\n",
              "      <td>0.855741</td>\n",
              "      <td>0.001878</td>\n",
              "      <td>2</td>\n",
              "    </tr>\n",
              "    <tr>\n",
              "      <th>2</th>\n",
              "      <td>0.535580</td>\n",
              "      <td>0.014695</td>\n",
              "      <td>0.104990</td>\n",
              "      <td>0.008068</td>\n",
              "      <td>10</td>\n",
              "      <td>{'C': 10}</td>\n",
              "      <td>0.839828</td>\n",
              "      <td>0.840746</td>\n",
              "      <td>0.840871</td>\n",
              "      <td>0.841177</td>\n",
              "      <td>...</td>\n",
              "      <td>0.000992</td>\n",
              "      <td>1</td>\n",
              "      <td>0.854141</td>\n",
              "      <td>0.857828</td>\n",
              "      <td>0.857716</td>\n",
              "      <td>0.85589</td>\n",
              "      <td>0.853133</td>\n",
              "      <td>0.855741</td>\n",
              "      <td>0.001878</td>\n",
              "      <td>2</td>\n",
              "    </tr>\n",
              "  </tbody>\n",
              "</table>\n",
              "<p>3 rows × 38 columns</p>\n",
              "</div>\n",
              "      <button class=\"colab-df-convert\" onclick=\"convertToInteractive('df-c38161d1-8f07-462e-9ab7-bcddfb8e8732')\"\n",
              "              title=\"Convert this dataframe to an interactive table.\"\n",
              "              style=\"display:none;\">\n",
              "        \n",
              "  <svg xmlns=\"http://www.w3.org/2000/svg\" height=\"24px\"viewBox=\"0 0 24 24\"\n",
              "       width=\"24px\">\n",
              "    <path d=\"M0 0h24v24H0V0z\" fill=\"none\"/>\n",
              "    <path d=\"M18.56 5.44l.94 2.06.94-2.06 2.06-.94-2.06-.94-.94-2.06-.94 2.06-2.06.94zm-11 1L8.5 8.5l.94-2.06 2.06-.94-2.06-.94L8.5 2.5l-.94 2.06-2.06.94zm10 10l.94 2.06.94-2.06 2.06-.94-2.06-.94-.94-2.06-.94 2.06-2.06.94z\"/><path d=\"M17.41 7.96l-1.37-1.37c-.4-.4-.92-.59-1.43-.59-.52 0-1.04.2-1.43.59L10.3 9.45l-7.72 7.72c-.78.78-.78 2.05 0 2.83L4 21.41c.39.39.9.59 1.41.59.51 0 1.02-.2 1.41-.59l7.78-7.78 2.81-2.81c.8-.78.8-2.07 0-2.86zM5.41 20L4 18.59l7.72-7.72 1.47 1.35L5.41 20z\"/>\n",
              "  </svg>\n",
              "      </button>\n",
              "      \n",
              "  <style>\n",
              "    .colab-df-container {\n",
              "      display:flex;\n",
              "      flex-wrap:wrap;\n",
              "      gap: 12px;\n",
              "    }\n",
              "\n",
              "    .colab-df-convert {\n",
              "      background-color: #E8F0FE;\n",
              "      border: none;\n",
              "      border-radius: 50%;\n",
              "      cursor: pointer;\n",
              "      display: none;\n",
              "      fill: #1967D2;\n",
              "      height: 32px;\n",
              "      padding: 0 0 0 0;\n",
              "      width: 32px;\n",
              "    }\n",
              "\n",
              "    .colab-df-convert:hover {\n",
              "      background-color: #E2EBFA;\n",
              "      box-shadow: 0px 1px 2px rgba(60, 64, 67, 0.3), 0px 1px 3px 1px rgba(60, 64, 67, 0.15);\n",
              "      fill: #174EA6;\n",
              "    }\n",
              "\n",
              "    [theme=dark] .colab-df-convert {\n",
              "      background-color: #3B4455;\n",
              "      fill: #D2E3FC;\n",
              "    }\n",
              "\n",
              "    [theme=dark] .colab-df-convert:hover {\n",
              "      background-color: #434B5C;\n",
              "      box-shadow: 0px 1px 3px 1px rgba(0, 0, 0, 0.15);\n",
              "      filter: drop-shadow(0px 1px 2px rgba(0, 0, 0, 0.3));\n",
              "      fill: #FFFFFF;\n",
              "    }\n",
              "  </style>\n",
              "\n",
              "      <script>\n",
              "        const buttonEl =\n",
              "          document.querySelector('#df-c38161d1-8f07-462e-9ab7-bcddfb8e8732 button.colab-df-convert');\n",
              "        buttonEl.style.display =\n",
              "          google.colab.kernel.accessAllowed ? 'block' : 'none';\n",
              "\n",
              "        async function convertToInteractive(key) {\n",
              "          const element = document.querySelector('#df-c38161d1-8f07-462e-9ab7-bcddfb8e8732');\n",
              "          const dataTable =\n",
              "            await google.colab.kernel.invokeFunction('convertToInteractive',\n",
              "                                                     [key], {});\n",
              "          if (!dataTable) return;\n",
              "\n",
              "          const docLinkHtml = 'Like what you see? Visit the ' +\n",
              "            '<a target=\"_blank\" href=https://colab.research.google.com/notebooks/data_table.ipynb>data table notebook</a>'\n",
              "            + ' to learn more about interactive tables.';\n",
              "          element.innerHTML = '';\n",
              "          dataTable['output_type'] = 'display_data';\n",
              "          await google.colab.output.renderOutput(dataTable, element);\n",
              "          const docLink = document.createElement('div');\n",
              "          docLink.innerHTML = docLinkHtml;\n",
              "          element.appendChild(docLink);\n",
              "        }\n",
              "      </script>\n",
              "    </div>\n",
              "  </div>\n",
              "  "
            ]
          },
          "metadata": {},
          "execution_count": 42
        }
      ]
    },
    {
      "cell_type": "markdown",
      "source": [
        "Best Results are obtained for the model trained on Resampled training data and hence we will get the performance metrics for the same "
      ],
      "metadata": {
        "id": "o6LMWmApGsMZ"
      }
    },
    {
      "cell_type": "code",
      "source": [
        "best_lr = LogisticRegression(penalty='l2', solver='liblinear', C=1)\n",
        "\n",
        "best_lr.fit(X_train_SMOTE, y_train_SMOTE)\n",
        "\n",
        "y_pred = best_lr.predict(X_test)\n",
        "\n",
        "print(classification_report(y_test, y_pred))\n",
        "print(confusion_matrix(y_test, y_pred))"
      ],
      "metadata": {
        "id": "Ym0ib-mmGrJj",
        "outputId": "a50deaa0-42a9-4bcf-d8df-ceff93371030",
        "colab": {
          "base_uri": "https://localhost:8080/"
        }
      },
      "execution_count": 43,
      "outputs": [
        {
          "output_type": "stream",
          "name": "stdout",
          "text": [
            "              precision    recall  f1-score   support\n",
            "\n",
            "           0       0.99      0.91      0.95    236720\n",
            "           1       0.42      0.86      0.57     18694\n",
            "\n",
            "    accuracy                           0.90    255414\n",
            "   macro avg       0.71      0.89      0.76    255414\n",
            "weighted avg       0.95      0.90      0.92    255414\n",
            "\n",
            "[[214782  21938]\n",
            " [  2528  16166]]\n"
          ]
        }
      ]
    },
    {
      "cell_type": "code",
      "source": [
        "best_lr2 = LogisticRegression(penalty='l1', solver='liblinear', C=1)\n",
        "\n",
        "best_lr2.fit(X_train_SMOTE, y_train_SMOTE)\n",
        "\n",
        "y_pred = best_lr2.predict(X_test)\n",
        "\n",
        "print(classification_report(y_test, y_pred))\n",
        "print(confusion_matrix(y_test, y_pred))"
      ],
      "metadata": {
        "id": "o3DX9rzbHmDl",
        "outputId": "5c82fa72-20c2-450b-9ff3-831f4391c1e4",
        "colab": {
          "base_uri": "https://localhost:8080/"
        }
      },
      "execution_count": 44,
      "outputs": [
        {
          "output_type": "stream",
          "name": "stdout",
          "text": [
            "              precision    recall  f1-score   support\n",
            "\n",
            "           0       0.99      0.91      0.95    236720\n",
            "           1       0.42      0.86      0.57     18694\n",
            "\n",
            "    accuracy                           0.90    255414\n",
            "   macro avg       0.71      0.89      0.76    255414\n",
            "weighted avg       0.95      0.90      0.92    255414\n",
            "\n",
            "[[214782  21938]\n",
            " [  2528  16166]]\n"
          ]
        }
      ]
    },
    {
      "cell_type": "markdown",
      "source": [
        "##### Observations\n"
      ],
      "metadata": {
        "id": "WriKs0TTHvI2"
      }
    },
    {
      "cell_type": "markdown",
      "source": [
        "We see that even though the scores for the best models are high , on the Test set, the precision is quite low and recall is high for the positive samples (Samples where patients have died due to covid).\n",
        "\n",
        "Number of flase positives is greater than the number of true positives which is not a sign of a good model\n",
        "\n",
        "We would want to have a better precision compared to the best Logistsic regression model"
      ],
      "metadata": {
        "id": "jU5qKonSH00u"
      }
    },
    {
      "cell_type": "markdown",
      "source": [
        "####XGBoost"
      ],
      "metadata": {
        "id": "FTowYrLlIRDr"
      }
    },
    {
      "cell_type": "code",
      "source": [
        "import xgboost as xgb\n",
        "from sklearn.model_selection import GridSearchCV\n",
        "\n",
        "# Define parameter grid\n",
        "param_grid = {\n",
        "    'max_depth': [3,20],\n",
        "    'min_samples_leaf': [2,11]\n",
        "}\n",
        "# Create XGBoost model\n",
        "xgb_model = xgb.XGBClassifier(n_estimators=20, min_samples_split=11)\n",
        "\n",
        "# Create GridSearchCV object\n",
        "grid = GridSearchCV(estimator=xgb_model, param_grid=param_grid, \n",
        "                           scoring=['f1','accuracy','precision', 'recall'], refit='f1', cv=5)\n"
      ],
      "metadata": {
        "id": "kb9eKX4rKCBh"
      },
      "execution_count": 45,
      "outputs": []
    },
    {
      "cell_type": "code",
      "source": [
        "# Fit the model\n",
        "grid.fit(X_train, y_train)\n",
        "\n",
        "# Print best hyperparameters and corresponding score\n",
        "print(\"Best parameters: \", grid.best_params_)\n",
        "print(\"Best score: \", grid.best_score_)\n",
        "pd.DataFrame(grid.cv_results_)"
      ],
      "metadata": {
        "id": "-IiPOw-MKhxJ",
        "outputId": "85484f42-f91e-4d70-d487-aa943e9f06ea",
        "colab": {
          "base_uri": "https://localhost:8080/",
          "height": 1000
        }
      },
      "execution_count": 46,
      "outputs": [
        {
          "output_type": "stream",
          "name": "stdout",
          "text": [
            "[03:14:17] WARNING: ../src/learner.cc:767: \n",
            "Parameters: { \"min_samples_leaf\", \"min_samples_split\" } are not used.\n",
            "\n",
            "[03:14:24] WARNING: ../src/learner.cc:767: \n",
            "Parameters: { \"min_samples_leaf\", \"min_samples_split\" } are not used.\n",
            "\n",
            "[03:14:30] WARNING: ../src/learner.cc:767: \n",
            "Parameters: { \"min_samples_leaf\", \"min_samples_split\" } are not used.\n",
            "\n",
            "[03:14:37] WARNING: ../src/learner.cc:767: \n",
            "Parameters: { \"min_samples_leaf\", \"min_samples_split\" } are not used.\n",
            "\n",
            "[03:14:43] WARNING: ../src/learner.cc:767: \n",
            "Parameters: { \"min_samples_leaf\", \"min_samples_split\" } are not used.\n",
            "\n",
            "[03:14:49] WARNING: ../src/learner.cc:767: \n",
            "Parameters: { \"min_samples_leaf\", \"min_samples_split\" } are not used.\n",
            "\n",
            "[03:14:55] WARNING: ../src/learner.cc:767: \n",
            "Parameters: { \"min_samples_leaf\", \"min_samples_split\" } are not used.\n",
            "\n",
            "[03:15:02] WARNING: ../src/learner.cc:767: \n",
            "Parameters: { \"min_samples_leaf\", \"min_samples_split\" } are not used.\n",
            "\n",
            "[03:15:09] WARNING: ../src/learner.cc:767: \n",
            "Parameters: { \"min_samples_leaf\", \"min_samples_split\" } are not used.\n",
            "\n",
            "[03:15:15] WARNING: ../src/learner.cc:767: \n",
            "Parameters: { \"min_samples_leaf\", \"min_samples_split\" } are not used.\n",
            "\n",
            "[03:15:22] WARNING: ../src/learner.cc:767: \n",
            "Parameters: { \"min_samples_leaf\", \"min_samples_split\" } are not used.\n",
            "\n",
            "[03:16:09] WARNING: ../src/learner.cc:767: \n",
            "Parameters: { \"min_samples_leaf\", \"min_samples_split\" } are not used.\n",
            "\n",
            "[03:16:56] WARNING: ../src/learner.cc:767: \n",
            "Parameters: { \"min_samples_leaf\", \"min_samples_split\" } are not used.\n",
            "\n",
            "[03:17:43] WARNING: ../src/learner.cc:767: \n",
            "Parameters: { \"min_samples_leaf\", \"min_samples_split\" } are not used.\n",
            "\n",
            "[03:18:31] WARNING: ../src/learner.cc:767: \n",
            "Parameters: { \"min_samples_leaf\", \"min_samples_split\" } are not used.\n",
            "\n",
            "[03:19:19] WARNING: ../src/learner.cc:767: \n",
            "Parameters: { \"min_samples_leaf\", \"min_samples_split\" } are not used.\n",
            "\n",
            "[03:20:06] WARNING: ../src/learner.cc:767: \n",
            "Parameters: { \"min_samples_leaf\", \"min_samples_split\" } are not used.\n",
            "\n",
            "[03:20:53] WARNING: ../src/learner.cc:767: \n",
            "Parameters: { \"min_samples_leaf\", \"min_samples_split\" } are not used.\n",
            "\n",
            "[03:21:40] WARNING: ../src/learner.cc:767: \n",
            "Parameters: { \"min_samples_leaf\", \"min_samples_split\" } are not used.\n",
            "\n",
            "[03:22:29] WARNING: ../src/learner.cc:767: \n",
            "Parameters: { \"min_samples_leaf\", \"min_samples_split\" } are not used.\n",
            "\n",
            "[03:23:16] WARNING: ../src/learner.cc:767: \n",
            "Parameters: { \"min_samples_leaf\", \"min_samples_split\" } are not used.\n",
            "\n",
            "Best parameters:  {'max_depth': 20, 'min_samples_leaf': 2}\n",
            "Best score:  0.4689815176159205\n"
          ]
        },
        {
          "output_type": "execute_result",
          "data": {
            "text/plain": [
              "   mean_fit_time  std_fit_time  mean_score_time  std_score_time  \\\n",
              "0       6.252162      0.565361         0.144012        0.005054   \n",
              "1       6.295403      0.546937         0.171913        0.049258   \n",
              "2      47.031150      0.498899         0.378340        0.132828   \n",
              "3      47.124067      0.700219         0.317974        0.014951   \n",
              "\n",
              "  param_max_depth param_min_samples_leaf  \\\n",
              "0               3                      2   \n",
              "1               3                     11   \n",
              "2              20                      2   \n",
              "3              20                     11   \n",
              "\n",
              "                                      params  split0_test_f1  split1_test_f1  \\\n",
              "0    {'max_depth': 3, 'min_samples_leaf': 2}        0.438150        0.447188   \n",
              "1   {'max_depth': 3, 'min_samples_leaf': 11}        0.438150        0.447188   \n",
              "2   {'max_depth': 20, 'min_samples_leaf': 2}        0.461799        0.468864   \n",
              "3  {'max_depth': 20, 'min_samples_leaf': 11}        0.461799        0.468864   \n",
              "\n",
              "   split2_test_f1  ...  std_test_precision  rank_test_precision  \\\n",
              "0        0.444934  ...             0.00419                    1   \n",
              "1        0.444934  ...             0.00419                    1   \n",
              "2        0.476700  ...             0.00576                    3   \n",
              "3        0.476700  ...             0.00576                    3   \n",
              "\n",
              "   split0_test_recall  split1_test_recall  split2_test_recall  \\\n",
              "0            0.333662            0.345238            0.343179   \n",
              "1            0.333662            0.345238            0.343179   \n",
              "2            0.377875            0.390888            0.395095   \n",
              "3            0.377875            0.390888            0.395095   \n",
              "\n",
              "   split3_test_recall  split4_test_recall  mean_test_recall  std_test_recall  \\\n",
              "0            0.337809            0.315342          0.335046         0.010657   \n",
              "1            0.337809            0.315342          0.335046         0.010657   \n",
              "2            0.387039            0.384801          0.387140         0.005808   \n",
              "3            0.387039            0.384801          0.387140         0.005808   \n",
              "\n",
              "   rank_test_recall  \n",
              "0                 3  \n",
              "1                 3  \n",
              "2                 1  \n",
              "3                 1  \n",
              "\n",
              "[4 rows x 39 columns]"
            ],
            "text/html": [
              "\n",
              "  <div id=\"df-f48381a2-6c61-411c-b0d8-973618abfff4\">\n",
              "    <div class=\"colab-df-container\">\n",
              "      <div>\n",
              "<style scoped>\n",
              "    .dataframe tbody tr th:only-of-type {\n",
              "        vertical-align: middle;\n",
              "    }\n",
              "\n",
              "    .dataframe tbody tr th {\n",
              "        vertical-align: top;\n",
              "    }\n",
              "\n",
              "    .dataframe thead th {\n",
              "        text-align: right;\n",
              "    }\n",
              "</style>\n",
              "<table border=\"1\" class=\"dataframe\">\n",
              "  <thead>\n",
              "    <tr style=\"text-align: right;\">\n",
              "      <th></th>\n",
              "      <th>mean_fit_time</th>\n",
              "      <th>std_fit_time</th>\n",
              "      <th>mean_score_time</th>\n",
              "      <th>std_score_time</th>\n",
              "      <th>param_max_depth</th>\n",
              "      <th>param_min_samples_leaf</th>\n",
              "      <th>params</th>\n",
              "      <th>split0_test_f1</th>\n",
              "      <th>split1_test_f1</th>\n",
              "      <th>split2_test_f1</th>\n",
              "      <th>...</th>\n",
              "      <th>std_test_precision</th>\n",
              "      <th>rank_test_precision</th>\n",
              "      <th>split0_test_recall</th>\n",
              "      <th>split1_test_recall</th>\n",
              "      <th>split2_test_recall</th>\n",
              "      <th>split3_test_recall</th>\n",
              "      <th>split4_test_recall</th>\n",
              "      <th>mean_test_recall</th>\n",
              "      <th>std_test_recall</th>\n",
              "      <th>rank_test_recall</th>\n",
              "    </tr>\n",
              "  </thead>\n",
              "  <tbody>\n",
              "    <tr>\n",
              "      <th>0</th>\n",
              "      <td>6.252162</td>\n",
              "      <td>0.565361</td>\n",
              "      <td>0.144012</td>\n",
              "      <td>0.005054</td>\n",
              "      <td>3</td>\n",
              "      <td>2</td>\n",
              "      <td>{'max_depth': 3, 'min_samples_leaf': 2}</td>\n",
              "      <td>0.438150</td>\n",
              "      <td>0.447188</td>\n",
              "      <td>0.444934</td>\n",
              "      <td>...</td>\n",
              "      <td>0.00419</td>\n",
              "      <td>1</td>\n",
              "      <td>0.333662</td>\n",
              "      <td>0.345238</td>\n",
              "      <td>0.343179</td>\n",
              "      <td>0.337809</td>\n",
              "      <td>0.315342</td>\n",
              "      <td>0.335046</td>\n",
              "      <td>0.010657</td>\n",
              "      <td>3</td>\n",
              "    </tr>\n",
              "    <tr>\n",
              "      <th>1</th>\n",
              "      <td>6.295403</td>\n",
              "      <td>0.546937</td>\n",
              "      <td>0.171913</td>\n",
              "      <td>0.049258</td>\n",
              "      <td>3</td>\n",
              "      <td>11</td>\n",
              "      <td>{'max_depth': 3, 'min_samples_leaf': 11}</td>\n",
              "      <td>0.438150</td>\n",
              "      <td>0.447188</td>\n",
              "      <td>0.444934</td>\n",
              "      <td>...</td>\n",
              "      <td>0.00419</td>\n",
              "      <td>1</td>\n",
              "      <td>0.333662</td>\n",
              "      <td>0.345238</td>\n",
              "      <td>0.343179</td>\n",
              "      <td>0.337809</td>\n",
              "      <td>0.315342</td>\n",
              "      <td>0.335046</td>\n",
              "      <td>0.010657</td>\n",
              "      <td>3</td>\n",
              "    </tr>\n",
              "    <tr>\n",
              "      <th>2</th>\n",
              "      <td>47.031150</td>\n",
              "      <td>0.498899</td>\n",
              "      <td>0.378340</td>\n",
              "      <td>0.132828</td>\n",
              "      <td>20</td>\n",
              "      <td>2</td>\n",
              "      <td>{'max_depth': 20, 'min_samples_leaf': 2}</td>\n",
              "      <td>0.461799</td>\n",
              "      <td>0.468864</td>\n",
              "      <td>0.476700</td>\n",
              "      <td>...</td>\n",
              "      <td>0.00576</td>\n",
              "      <td>3</td>\n",
              "      <td>0.377875</td>\n",
              "      <td>0.390888</td>\n",
              "      <td>0.395095</td>\n",
              "      <td>0.387039</td>\n",
              "      <td>0.384801</td>\n",
              "      <td>0.387140</td>\n",
              "      <td>0.005808</td>\n",
              "      <td>1</td>\n",
              "    </tr>\n",
              "    <tr>\n",
              "      <th>3</th>\n",
              "      <td>47.124067</td>\n",
              "      <td>0.700219</td>\n",
              "      <td>0.317974</td>\n",
              "      <td>0.014951</td>\n",
              "      <td>20</td>\n",
              "      <td>11</td>\n",
              "      <td>{'max_depth': 20, 'min_samples_leaf': 11}</td>\n",
              "      <td>0.461799</td>\n",
              "      <td>0.468864</td>\n",
              "      <td>0.476700</td>\n",
              "      <td>...</td>\n",
              "      <td>0.00576</td>\n",
              "      <td>3</td>\n",
              "      <td>0.377875</td>\n",
              "      <td>0.390888</td>\n",
              "      <td>0.395095</td>\n",
              "      <td>0.387039</td>\n",
              "      <td>0.384801</td>\n",
              "      <td>0.387140</td>\n",
              "      <td>0.005808</td>\n",
              "      <td>1</td>\n",
              "    </tr>\n",
              "  </tbody>\n",
              "</table>\n",
              "<p>4 rows × 39 columns</p>\n",
              "</div>\n",
              "      <button class=\"colab-df-convert\" onclick=\"convertToInteractive('df-f48381a2-6c61-411c-b0d8-973618abfff4')\"\n",
              "              title=\"Convert this dataframe to an interactive table.\"\n",
              "              style=\"display:none;\">\n",
              "        \n",
              "  <svg xmlns=\"http://www.w3.org/2000/svg\" height=\"24px\"viewBox=\"0 0 24 24\"\n",
              "       width=\"24px\">\n",
              "    <path d=\"M0 0h24v24H0V0z\" fill=\"none\"/>\n",
              "    <path d=\"M18.56 5.44l.94 2.06.94-2.06 2.06-.94-2.06-.94-.94-2.06-.94 2.06-2.06.94zm-11 1L8.5 8.5l.94-2.06 2.06-.94-2.06-.94L8.5 2.5l-.94 2.06-2.06.94zm10 10l.94 2.06.94-2.06 2.06-.94-2.06-.94-.94-2.06-.94 2.06-2.06.94z\"/><path d=\"M17.41 7.96l-1.37-1.37c-.4-.4-.92-.59-1.43-.59-.52 0-1.04.2-1.43.59L10.3 9.45l-7.72 7.72c-.78.78-.78 2.05 0 2.83L4 21.41c.39.39.9.59 1.41.59.51 0 1.02-.2 1.41-.59l7.78-7.78 2.81-2.81c.8-.78.8-2.07 0-2.86zM5.41 20L4 18.59l7.72-7.72 1.47 1.35L5.41 20z\"/>\n",
              "  </svg>\n",
              "      </button>\n",
              "      \n",
              "  <style>\n",
              "    .colab-df-container {\n",
              "      display:flex;\n",
              "      flex-wrap:wrap;\n",
              "      gap: 12px;\n",
              "    }\n",
              "\n",
              "    .colab-df-convert {\n",
              "      background-color: #E8F0FE;\n",
              "      border: none;\n",
              "      border-radius: 50%;\n",
              "      cursor: pointer;\n",
              "      display: none;\n",
              "      fill: #1967D2;\n",
              "      height: 32px;\n",
              "      padding: 0 0 0 0;\n",
              "      width: 32px;\n",
              "    }\n",
              "\n",
              "    .colab-df-convert:hover {\n",
              "      background-color: #E2EBFA;\n",
              "      box-shadow: 0px 1px 2px rgba(60, 64, 67, 0.3), 0px 1px 3px 1px rgba(60, 64, 67, 0.15);\n",
              "      fill: #174EA6;\n",
              "    }\n",
              "\n",
              "    [theme=dark] .colab-df-convert {\n",
              "      background-color: #3B4455;\n",
              "      fill: #D2E3FC;\n",
              "    }\n",
              "\n",
              "    [theme=dark] .colab-df-convert:hover {\n",
              "      background-color: #434B5C;\n",
              "      box-shadow: 0px 1px 3px 1px rgba(0, 0, 0, 0.15);\n",
              "      filter: drop-shadow(0px 1px 2px rgba(0, 0, 0, 0.3));\n",
              "      fill: #FFFFFF;\n",
              "    }\n",
              "  </style>\n",
              "\n",
              "      <script>\n",
              "        const buttonEl =\n",
              "          document.querySelector('#df-f48381a2-6c61-411c-b0d8-973618abfff4 button.colab-df-convert');\n",
              "        buttonEl.style.display =\n",
              "          google.colab.kernel.accessAllowed ? 'block' : 'none';\n",
              "\n",
              "        async function convertToInteractive(key) {\n",
              "          const element = document.querySelector('#df-f48381a2-6c61-411c-b0d8-973618abfff4');\n",
              "          const dataTable =\n",
              "            await google.colab.kernel.invokeFunction('convertToInteractive',\n",
              "                                                     [key], {});\n",
              "          if (!dataTable) return;\n",
              "\n",
              "          const docLinkHtml = 'Like what you see? Visit the ' +\n",
              "            '<a target=\"_blank\" href=https://colab.research.google.com/notebooks/data_table.ipynb>data table notebook</a>'\n",
              "            + ' to learn more about interactive tables.';\n",
              "          element.innerHTML = '';\n",
              "          dataTable['output_type'] = 'display_data';\n",
              "          await google.colab.output.renderOutput(dataTable, element);\n",
              "          const docLink = document.createElement('div');\n",
              "          docLink.innerHTML = docLinkHtml;\n",
              "          element.appendChild(docLink);\n",
              "        }\n",
              "      </script>\n",
              "    </div>\n",
              "  </div>\n",
              "  "
            ]
          },
          "metadata": {},
          "execution_count": 46
        }
      ]
    },
    {
      "cell_type": "markdown",
      "source": [
        "Best model is got with hyperparameters {'max_depth': 20, 'min_samples_leaf': 2 or 11}\n",
        "we wil fit the training set with this model and observe the classification report "
      ],
      "metadata": {
        "id": "0V4zVByS-jce"
      }
    },
    {
      "cell_type": "code",
      "source": [
        "xgb_best_model = xgb.XGBClassifier(n_estimators=20, min_samples_split=11, max_depth= 20, min_samples_leaf= 2)\n",
        "\n",
        "X_train, y_train = shuffle(X_train, y_train, random_state=2023)\n",
        "xgb_best_model.fit(X_train, y_train)\n",
        "\n",
        "y_pred = xgb_best_model.predict(X_test)\n",
        "\n",
        "print(classification_report(y_test, y_pred))\n",
        "print(confusion_matrix(y_test, y_pred))"
      ],
      "metadata": {
        "id": "kDW23ap--iZY",
        "outputId": "07b4383e-537f-4532-b1c7-0055c9dbb8ce",
        "colab": {
          "base_uri": "https://localhost:8080/"
        }
      },
      "execution_count": 47,
      "outputs": [
        {
          "output_type": "stream",
          "name": "stdout",
          "text": [
            "[03:24:15] WARNING: ../src/learner.cc:767: \n",
            "Parameters: { \"min_samples_leaf\", \"min_samples_split\" } are not used.\n",
            "\n",
            "              precision    recall  f1-score   support\n",
            "\n",
            "           0       0.95      0.98      0.97    236720\n",
            "           1       0.61      0.38      0.46     18694\n",
            "\n",
            "    accuracy                           0.94    255414\n",
            "   macro avg       0.78      0.68      0.72    255414\n",
            "weighted avg       0.93      0.94      0.93    255414\n",
            "\n",
            "[[232155   4565]\n",
            " [ 11668   7026]]\n"
          ]
        }
      ]
    },
    {
      "cell_type": "code",
      "source": [
        "X_train_feature_reduced , y_train_feature_reduced = shuffle(X_train_feature_reduced , y_train_feature_reduced, random_state=2023)\n",
        "xgb_best_model.fit(X_train_feature_reduced , y_train_feature_reduced)\n",
        "\n",
        "y_pred = xgb_best_model.predict(X_test_feature_reduced)\n",
        "\n",
        "print(classification_report(y_test_feature_reduced, y_pred))\n",
        "print(confusion_matrix(y_test_feature_reduced, y_pred))"
      ],
      "metadata": {
        "id": "fnYxHt1g_23A",
        "outputId": "0af145f5-3504-4e60-ad65-296511fb3e2e",
        "colab": {
          "base_uri": "https://localhost:8080/"
        }
      },
      "execution_count": 48,
      "outputs": [
        {
          "output_type": "stream",
          "name": "stdout",
          "text": [
            "[03:25:16] WARNING: ../src/learner.cc:767: \n",
            "Parameters: { \"min_samples_leaf\", \"min_samples_split\" } are not used.\n",
            "\n",
            "              precision    recall  f1-score   support\n",
            "\n",
            "           0       0.95      0.98      0.97    236720\n",
            "           1       0.62      0.37      0.46     18694\n",
            "\n",
            "    accuracy                           0.94    255414\n",
            "   macro avg       0.79      0.68      0.72    255414\n",
            "weighted avg       0.93      0.94      0.93    255414\n",
            "\n",
            "[[232557   4163]\n",
            " [ 11776   6918]]\n"
          ]
        }
      ]
    },
    {
      "cell_type": "code",
      "source": [
        "X_train_SMOTE , y_train_SMOTE = shuffle(X_train_SMOTE , y_train_SMOTE, random_state=2023)\n",
        "xgb_best_model.fit(X_train_SMOTE , y_train_SMOTE)\n",
        "\n",
        "y_pred = xgb_best_model.predict(X_test)\n",
        "\n",
        "print(classification_report(y_test, y_pred))\n",
        "print(confusion_matrix(y_test, y_pred))"
      ],
      "metadata": {
        "id": "Qa17be43AXrl",
        "outputId": "760c5873-b87e-41fa-c305-3eef797ea42c",
        "colab": {
          "base_uri": "https://localhost:8080/"
        }
      },
      "execution_count": 49,
      "outputs": [
        {
          "output_type": "stream",
          "name": "stdout",
          "text": [
            "[03:25:37] WARNING: ../src/learner.cc:767: \n",
            "Parameters: { \"min_samples_leaf\", \"min_samples_split\" } are not used.\n",
            "\n",
            "              precision    recall  f1-score   support\n",
            "\n",
            "           0       0.99      0.90      0.94    236720\n",
            "           1       0.41      0.89      0.56     18694\n",
            "\n",
            "    accuracy                           0.90    255414\n",
            "   macro avg       0.70      0.90      0.75    255414\n",
            "weighted avg       0.95      0.90      0.91    255414\n",
            "\n",
            "[[212370  24350]\n",
            " [  1996  16698]]\n"
          ]
        }
      ]
    },
    {
      "cell_type": "code",
      "source": [
        "X_train_feature_reduced_SMOTE , y_train_feature_reduced_SMOTE = shuffle(\n",
        "    X_train_feature_reduced_SMOTE , y_train_feature_reduced_SMOTE, random_state=2023)\n",
        "\n",
        "xgb_best_model.fit(X_train_feature_reduced_SMOTE , y_train_feature_reduced_SMOTE)\n",
        "\n",
        "y_pred = xgb_best_model.predict(X_test_feature_reduced)\n",
        "\n",
        "print(classification_report(y_test_feature_reduced, y_pred))\n",
        "print(confusion_matrix(y_test_feature_reduced, y_pred))"
      ],
      "metadata": {
        "id": "dgFFGQJ1ArWR",
        "outputId": "f1a64917-705b-484c-f027-a589a1854b5b",
        "colab": {
          "base_uri": "https://localhost:8080/"
        }
      },
      "execution_count": 50,
      "outputs": [
        {
          "output_type": "stream",
          "name": "stdout",
          "text": [
            "[03:26:10] WARNING: ../src/learner.cc:767: \n",
            "Parameters: { \"min_samples_leaf\", \"min_samples_split\" } are not used.\n",
            "\n",
            "              precision    recall  f1-score   support\n",
            "\n",
            "           0       0.99      0.89      0.94    236720\n",
            "           1       0.39      0.92      0.55     18694\n",
            "\n",
            "    accuracy                           0.89    255414\n",
            "   macro avg       0.69      0.91      0.75    255414\n",
            "weighted avg       0.95      0.89      0.91    255414\n",
            "\n",
            "[[210268  26452]\n",
            " [  1441  17253]]\n"
          ]
        }
      ]
    },
    {
      "cell_type": "markdown",
      "source": [
        "##### Observations"
      ],
      "metadata": {
        "id": "zfzfOZQsX6J8"
      }
    },
    {
      "cell_type": "markdown",
      "source": [
        "As we use the originl preprocessed dataset without feature reduction or oversampling we see that the precision values are high which is needed but the recall is pretty and this is also similar in case of feature reduced dataset \n",
        "\n",
        "However when we resample and train the model , it suddenly has very high recall and low precision value . Indicating it maybe overfitting due to increased positive samples \n",
        "\n",
        "Even though the XGBoost gives us better results compared to logisitic regression , the time to train is more compared to logistic regression and as mentioned above , it is sensitive to data resampling"
      ],
      "metadata": {
        "id": "81NHVjPiaxBE"
      }
    },
    {
      "cell_type": "markdown",
      "source": [
        "####Decision Trees"
      ],
      "metadata": {
        "id": "qO84kc-4YIUu"
      }
    },
    {
      "cell_type": "code",
      "source": [
        "from sklearn import tree\n",
        "from sklearn.tree import DecisionTreeClassifier\n",
        " \n",
        "def fitting(X_in, y, X_test, y_test, criterion, splitter, mdepth, clweight, minleaf):\n",
        " \n",
        " # Fit the model\n",
        " model = DecisionTreeClassifier(criterion=criterion, \n",
        " splitter=splitter, \n",
        " max_depth=mdepth,\n",
        " class_weight=clweight,\n",
        " min_samples_leaf=minleaf, \n",
        " random_state=0, \n",
        " )\n",
        " clf = model.fit(X_in, y)\n",
        " \n",
        " # Predict class labels on training data\n",
        " pred_labels_tr = model.predict(X_test)\n",
        " \n",
        " # Use score method to get accuracy of the model\n",
        " print('*************** Tree Summary ***************')\n",
        " print('Classes: ', clf.classes_)\n",
        " print('Tree Depth: ', clf.tree_.max_depth)\n",
        " print('No. of leaves: ', clf.tree_.n_leaves)\n",
        " print('No. of features: ', X_in.shape[1])\n",
        " print('--------------------------------------------------------')\n",
        " print(\"\")\n",
        " \n",
        " print('*************** Evaluation on Training Data ***************')\n",
        " score_tr = model.score(X_test, y_test)\n",
        " print('Accuracy Score: ', score_tr)\n",
        " # Look at classification report to evaluate the model\n",
        " print(classification_report(y_test, pred_labels_tr))\n",
        " print('--------------------------------------------------------')\n",
        " \n",
        " # Return relevant data for chart plotting\n",
        " return clf\n",
        " \n"
      ],
      "metadata": {
        "id": "cveO3J0qYaSq"
      },
      "execution_count": 51,
      "outputs": []
    },
    {
      "cell_type": "code",
      "source": [
        "X_train, y_train = shuffle(X_train, y_train, random_state=2023)\n",
        "clf = fitting(X_train, y_train, X_test, y_test,'entropy', 'best', mdepth=5, clweight=None, minleaf=10)"
      ],
      "metadata": {
        "id": "wst15p8uavvx",
        "outputId": "21d074fb-2ffa-4096-b64b-4e6f1efd939f",
        "colab": {
          "base_uri": "https://localhost:8080/"
        }
      },
      "execution_count": 52,
      "outputs": [
        {
          "output_type": "stream",
          "name": "stdout",
          "text": [
            "*************** Tree Summary ***************\n",
            "Classes:  [0 1]\n",
            "Tree Depth:  5\n",
            "No. of leaves:  32\n",
            "No. of features:  23\n",
            "--------------------------------------------------------\n",
            "\n",
            "*************** Evaluation on Training Data ***************\n",
            "Accuracy Score:  0.936553986860548\n",
            "              precision    recall  f1-score   support\n",
            "\n",
            "           0       0.95      0.99      0.97    236720\n",
            "           1       0.65      0.29      0.40     18694\n",
            "\n",
            "    accuracy                           0.94    255414\n",
            "   macro avg       0.80      0.64      0.68    255414\n",
            "weighted avg       0.92      0.94      0.92    255414\n",
            "\n",
            "--------------------------------------------------------\n"
          ]
        }
      ]
    },
    {
      "cell_type": "code",
      "source": [
        "X_train_feature_reduced, y_train_feature_reduced = shuffle(\n",
        "    X_train_feature_reduced, y_train_feature_reduced, random_state=2023)\n",
        "\n",
        "clf = fitting(X_train_feature_reduced, y_train_feature_reduced, \n",
        "              X_test_feature_reduced, y_test_feature_reduced ,'entropy', 'best', mdepth=10, clweight=None, minleaf=15)"
      ],
      "metadata": {
        "id": "_hMzP6K3ayZQ",
        "outputId": "0c42ca75-fd05-4ffa-83ec-d01e0649b2ef",
        "colab": {
          "base_uri": "https://localhost:8080/"
        }
      },
      "execution_count": 53,
      "outputs": [
        {
          "output_type": "stream",
          "name": "stdout",
          "text": [
            "*************** Tree Summary ***************\n",
            "Classes:  [0 1]\n",
            "Tree Depth:  10\n",
            "No. of leaves:  547\n",
            "No. of features:  12\n",
            "--------------------------------------------------------\n",
            "\n",
            "*************** Evaluation on Training Data ***************\n",
            "Accuracy Score:  0.9375641115992076\n",
            "              precision    recall  f1-score   support\n",
            "\n",
            "           0       0.95      0.98      0.97    236720\n",
            "           1       0.63      0.36      0.46     18694\n",
            "\n",
            "    accuracy                           0.94    255414\n",
            "   macro avg       0.79      0.67      0.71    255414\n",
            "weighted avg       0.93      0.94      0.93    255414\n",
            "\n",
            "--------------------------------------------------------\n"
          ]
        }
      ]
    },
    {
      "cell_type": "code",
      "source": [
        "X_train_SMOTE, y_train_SMOTE = shuffle(X_train_SMOTE, y_train_SMOTE, random_state=2023)\n",
        "clf = fitting(X_train_SMOTE, y_train_SMOTE, X_test, y_test,'entropy', 'best', mdepth=5, clweight=None, minleaf=10)"
      ],
      "metadata": {
        "id": "Loscy1qcbWXx",
        "outputId": "d82583e2-2a88-4ddc-87fb-8c291e376af9",
        "colab": {
          "base_uri": "https://localhost:8080/"
        }
      },
      "execution_count": 54,
      "outputs": [
        {
          "output_type": "stream",
          "name": "stdout",
          "text": [
            "*************** Tree Summary ***************\n",
            "Classes:  [0 1]\n",
            "Tree Depth:  5\n",
            "No. of leaves:  32\n",
            "No. of features:  23\n",
            "--------------------------------------------------------\n",
            "\n",
            "*************** Evaluation on Training Data ***************\n",
            "Accuracy Score:  0.89226510684614\n",
            "              precision    recall  f1-score   support\n",
            "\n",
            "           0       0.99      0.89      0.94    236720\n",
            "           1       0.40      0.91      0.55     18694\n",
            "\n",
            "    accuracy                           0.89    255414\n",
            "   macro avg       0.69      0.90      0.75    255414\n",
            "weighted avg       0.95      0.89      0.91    255414\n",
            "\n",
            "--------------------------------------------------------\n"
          ]
        }
      ]
    },
    {
      "cell_type": "code",
      "source": [
        "X_train_feature_reduced_SMOTE , y_train_feature_reduced_SMOTE = shuffle(X_train_feature_reduced_SMOTE , y_train_feature_reduced_SMOTE, random_state=2023)\n",
        "clf = fitting(X_train_feature_reduced_SMOTE , y_train_feature_reduced_SMOTE, X_test_feature_reduced, y_test,'entropy', 'best', mdepth=5, clweight=None, minleaf=10)"
      ],
      "metadata": {
        "id": "eYl2IDiDbpXy",
        "outputId": "73058c21-297d-4a75-a4c9-bc3069d39146",
        "colab": {
          "base_uri": "https://localhost:8080/"
        }
      },
      "execution_count": 55,
      "outputs": [
        {
          "output_type": "stream",
          "name": "stdout",
          "text": [
            "*************** Tree Summary ***************\n",
            "Classes:  [0 1]\n",
            "Tree Depth:  5\n",
            "No. of leaves:  32\n",
            "No. of features:  12\n",
            "--------------------------------------------------------\n",
            "\n",
            "*************** Evaluation on Training Data ***************\n",
            "Accuracy Score:  0.8943871518397581\n",
            "              precision    recall  f1-score   support\n",
            "\n",
            "           0       0.99      0.89      0.94    236720\n",
            "           1       0.40      0.91      0.56     18694\n",
            "\n",
            "    accuracy                           0.89    255414\n",
            "   macro avg       0.70      0.90      0.75    255414\n",
            "weighted avg       0.95      0.89      0.91    255414\n",
            "\n",
            "--------------------------------------------------------\n"
          ]
        }
      ]
    },
    {
      "cell_type": "markdown",
      "source": [
        "##### Observations"
      ],
      "metadata": {
        "id": "lPQBVWgVbhNF"
      }
    },
    {
      "cell_type": "markdown",
      "source": [
        "The results of DT are similar to that of Logisitic regression and we see that the timing for computation is significantly less compared to XGBoost \n",
        "\n",
        "However, the model is very sensitive towards data resampling as recall is extremely high while precision is very low in case of resampled dataset \n",
        "\n",
        "This could still be considered for modelling purpose as it has the added advantage of good accuracy and precision values when data is not resampled along with lesser computation time\n",
        "\n",
        "Logistic Regression< XGBoost <= Decision Trees"
      ],
      "metadata": {
        "id": "dr-hXLGzblMR"
      }
    },
    {
      "cell_type": "markdown",
      "source": [
        "### Custom Models"
      ],
      "metadata": {
        "id": "usUteL9ewdAQ"
      }
    },
    {
      "cell_type": "markdown",
      "source": [
        "#### Classifier- Classifier Ensemble "
      ],
      "metadata": {
        "id": "gvMkyICdEbAv"
      }
    },
    {
      "cell_type": "markdown",
      "source": [],
      "metadata": {
        "id": "9T8eTARbDtpY"
      }
    },
    {
      "cell_type": "code",
      "source": [
        "def print_scoring_reports(y_true, y_pred):\n",
        "  cm = confusion_matrix(y_true, y_pred)\n",
        "  print(classification_report(y_true, y_pred))\n",
        "  print(\"Confusion matrix:\\n\", cm)"
      ],
      "metadata": {
        "id": "awpBH7Z-9BKo"
      },
      "execution_count": 56,
      "outputs": []
    },
    {
      "cell_type": "code",
      "source": [
        "import pandas as pd\n",
        "from sklearn.model_selection import train_test_split, GridSearchCV\n",
        "from sklearn.pipeline import make_pipeline\n",
        "from sklearn.tree import DecisionTreeClassifier\n",
        "from sklearn.ensemble import VotingClassifier, RandomForestClassifier\n",
        "\n",
        "def custom_ensemble_1(X, y, gridsearch=True, X_val=None, y_val=None):\n",
        "\n",
        "  # separate positive and negative samples\n",
        "  X_train_pos = X[y == 0]\n",
        "  y_train_pos = y[y == 0]\n",
        "  X_train_neg = X[y == 1]\n",
        "  y_train_neg = y[y == 1]\n",
        "\n",
        "  print(y_train_neg.shape)\n",
        "  # Define individual classifiers\n",
        "  clf1 = make_pipeline(DecisionTreeClassifier(random_state=2023, \n",
        "                                              splitter='best',\n",
        "                                              criterion='entropy',\n",
        "                                              min_samples_leaf=10, \n",
        "                                              max_depth=5))\n",
        "  clf2 = make_pipeline(DecisionTreeClassifier(random_state=2023, \n",
        "                                              splitter='best',\n",
        "                                              criterion='entropy',\n",
        "                                              min_samples_leaf=10, \n",
        "                                              max_depth=5))\n",
        "\n",
        "  # Fit classifiers on masked data\n",
        "  clf1.fit(X_train_pos, y_train_pos)\n",
        "  clf2.fit(X_train_neg, y_train_neg)\n",
        "\n",
        "  # Define the ensemble model\n",
        "  ensemble_model = VotingClassifier(estimators=[\n",
        "      ('clf1', clf1),\n",
        "      ('clf2', clf2)],\n",
        "  voting='soft'\n",
        "  )\n",
        "  \n",
        "  if gridsearch == True:\n",
        "    param_grid = {}\n",
        "    # Create GridSearchCV object\n",
        "    grid = GridSearchCV(estimator=ensemble_model,  param_grid = param_grid,\n",
        "                            scoring=['f1','accuracy','precision', 'recall'], refit='f1', cv=5)\n",
        "    \n",
        "    grid.fit(X,y)\n",
        "    # Print best hyperparameters and corresponding score\n",
        "    print(\"Best parameters: \", grid.best_params_)\n",
        "    print(\"Best score: \", grid.best_score_)\n",
        "    return pd.DataFrame(grid.cv_results_)\n",
        "  else:\n",
        "    ensemble_model.fit(X, y)\n",
        "    y_pred_train = ensemble_model.predict(X)\n",
        "    y_pred_proba = ensemble_model.predict_proba(X_val)\n",
        "    y_pred = ensemble_model.predict(X_val)\n",
        "    return y_pred, y_pred_proba, y_pred_train\n",
        "\n"
      ],
      "metadata": {
        "id": "gRvYc17ox7m8"
      },
      "execution_count": 57,
      "outputs": []
    },
    {
      "cell_type": "code",
      "source": [
        "custom_ensemble_1(X_train, y_train, True)"
      ],
      "metadata": {
        "id": "s7QHzyGJlOLn",
        "outputId": "18097b4c-c49d-43ba-a27a-aa8005e6d3ee",
        "colab": {
          "base_uri": "https://localhost:8080/",
          "height": 226
        }
      },
      "execution_count": 58,
      "outputs": [
        {
          "output_type": "stream",
          "name": "stdout",
          "text": [
            "(55861,)\n",
            "Best parameters:  {}\n",
            "Best score:  0.3976124622194749\n"
          ]
        },
        {
          "output_type": "execute_result",
          "data": {
            "text/plain": [
              "   mean_fit_time  std_fit_time  mean_score_time  std_score_time params  \\\n",
              "0       2.097406      0.210864         0.145178        0.011943     {}   \n",
              "\n",
              "   split0_test_f1  split1_test_f1  split2_test_f1  split3_test_f1  \\\n",
              "0        0.401139        0.395146        0.400323        0.395307   \n",
              "\n",
              "   split4_test_f1  ...  std_test_precision  rank_test_precision  \\\n",
              "0        0.396147  ...            0.003121                    1   \n",
              "\n",
              "   split0_test_recall  split1_test_recall  split2_test_recall  \\\n",
              "0            0.289985            0.284193            0.288489   \n",
              "\n",
              "   split3_test_recall  split4_test_recall  mean_test_recall  std_test_recall  \\\n",
              "0            0.283477            0.283477          0.285924         0.002759   \n",
              "\n",
              "   rank_test_recall  \n",
              "0                 1  \n",
              "\n",
              "[1 rows x 37 columns]"
            ],
            "text/html": [
              "\n",
              "  <div id=\"df-c4e83f5b-ba11-45ef-8e9f-be63de094764\">\n",
              "    <div class=\"colab-df-container\">\n",
              "      <div>\n",
              "<style scoped>\n",
              "    .dataframe tbody tr th:only-of-type {\n",
              "        vertical-align: middle;\n",
              "    }\n",
              "\n",
              "    .dataframe tbody tr th {\n",
              "        vertical-align: top;\n",
              "    }\n",
              "\n",
              "    .dataframe thead th {\n",
              "        text-align: right;\n",
              "    }\n",
              "</style>\n",
              "<table border=\"1\" class=\"dataframe\">\n",
              "  <thead>\n",
              "    <tr style=\"text-align: right;\">\n",
              "      <th></th>\n",
              "      <th>mean_fit_time</th>\n",
              "      <th>std_fit_time</th>\n",
              "      <th>mean_score_time</th>\n",
              "      <th>std_score_time</th>\n",
              "      <th>params</th>\n",
              "      <th>split0_test_f1</th>\n",
              "      <th>split1_test_f1</th>\n",
              "      <th>split2_test_f1</th>\n",
              "      <th>split3_test_f1</th>\n",
              "      <th>split4_test_f1</th>\n",
              "      <th>...</th>\n",
              "      <th>std_test_precision</th>\n",
              "      <th>rank_test_precision</th>\n",
              "      <th>split0_test_recall</th>\n",
              "      <th>split1_test_recall</th>\n",
              "      <th>split2_test_recall</th>\n",
              "      <th>split3_test_recall</th>\n",
              "      <th>split4_test_recall</th>\n",
              "      <th>mean_test_recall</th>\n",
              "      <th>std_test_recall</th>\n",
              "      <th>rank_test_recall</th>\n",
              "    </tr>\n",
              "  </thead>\n",
              "  <tbody>\n",
              "    <tr>\n",
              "      <th>0</th>\n",
              "      <td>2.097406</td>\n",
              "      <td>0.210864</td>\n",
              "      <td>0.145178</td>\n",
              "      <td>0.011943</td>\n",
              "      <td>{}</td>\n",
              "      <td>0.401139</td>\n",
              "      <td>0.395146</td>\n",
              "      <td>0.400323</td>\n",
              "      <td>0.395307</td>\n",
              "      <td>0.396147</td>\n",
              "      <td>...</td>\n",
              "      <td>0.003121</td>\n",
              "      <td>1</td>\n",
              "      <td>0.289985</td>\n",
              "      <td>0.284193</td>\n",
              "      <td>0.288489</td>\n",
              "      <td>0.283477</td>\n",
              "      <td>0.283477</td>\n",
              "      <td>0.285924</td>\n",
              "      <td>0.002759</td>\n",
              "      <td>1</td>\n",
              "    </tr>\n",
              "  </tbody>\n",
              "</table>\n",
              "<p>1 rows × 37 columns</p>\n",
              "</div>\n",
              "      <button class=\"colab-df-convert\" onclick=\"convertToInteractive('df-c4e83f5b-ba11-45ef-8e9f-be63de094764')\"\n",
              "              title=\"Convert this dataframe to an interactive table.\"\n",
              "              style=\"display:none;\">\n",
              "        \n",
              "  <svg xmlns=\"http://www.w3.org/2000/svg\" height=\"24px\"viewBox=\"0 0 24 24\"\n",
              "       width=\"24px\">\n",
              "    <path d=\"M0 0h24v24H0V0z\" fill=\"none\"/>\n",
              "    <path d=\"M18.56 5.44l.94 2.06.94-2.06 2.06-.94-2.06-.94-.94-2.06-.94 2.06-2.06.94zm-11 1L8.5 8.5l.94-2.06 2.06-.94-2.06-.94L8.5 2.5l-.94 2.06-2.06.94zm10 10l.94 2.06.94-2.06 2.06-.94-2.06-.94-.94-2.06-.94 2.06-2.06.94z\"/><path d=\"M17.41 7.96l-1.37-1.37c-.4-.4-.92-.59-1.43-.59-.52 0-1.04.2-1.43.59L10.3 9.45l-7.72 7.72c-.78.78-.78 2.05 0 2.83L4 21.41c.39.39.9.59 1.41.59.51 0 1.02-.2 1.41-.59l7.78-7.78 2.81-2.81c.8-.78.8-2.07 0-2.86zM5.41 20L4 18.59l7.72-7.72 1.47 1.35L5.41 20z\"/>\n",
              "  </svg>\n",
              "      </button>\n",
              "      \n",
              "  <style>\n",
              "    .colab-df-container {\n",
              "      display:flex;\n",
              "      flex-wrap:wrap;\n",
              "      gap: 12px;\n",
              "    }\n",
              "\n",
              "    .colab-df-convert {\n",
              "      background-color: #E8F0FE;\n",
              "      border: none;\n",
              "      border-radius: 50%;\n",
              "      cursor: pointer;\n",
              "      display: none;\n",
              "      fill: #1967D2;\n",
              "      height: 32px;\n",
              "      padding: 0 0 0 0;\n",
              "      width: 32px;\n",
              "    }\n",
              "\n",
              "    .colab-df-convert:hover {\n",
              "      background-color: #E2EBFA;\n",
              "      box-shadow: 0px 1px 2px rgba(60, 64, 67, 0.3), 0px 1px 3px 1px rgba(60, 64, 67, 0.15);\n",
              "      fill: #174EA6;\n",
              "    }\n",
              "\n",
              "    [theme=dark] .colab-df-convert {\n",
              "      background-color: #3B4455;\n",
              "      fill: #D2E3FC;\n",
              "    }\n",
              "\n",
              "    [theme=dark] .colab-df-convert:hover {\n",
              "      background-color: #434B5C;\n",
              "      box-shadow: 0px 1px 3px 1px rgba(0, 0, 0, 0.15);\n",
              "      filter: drop-shadow(0px 1px 2px rgba(0, 0, 0, 0.3));\n",
              "      fill: #FFFFFF;\n",
              "    }\n",
              "  </style>\n",
              "\n",
              "      <script>\n",
              "        const buttonEl =\n",
              "          document.querySelector('#df-c4e83f5b-ba11-45ef-8e9f-be63de094764 button.colab-df-convert');\n",
              "        buttonEl.style.display =\n",
              "          google.colab.kernel.accessAllowed ? 'block' : 'none';\n",
              "\n",
              "        async function convertToInteractive(key) {\n",
              "          const element = document.querySelector('#df-c4e83f5b-ba11-45ef-8e9f-be63de094764');\n",
              "          const dataTable =\n",
              "            await google.colab.kernel.invokeFunction('convertToInteractive',\n",
              "                                                     [key], {});\n",
              "          if (!dataTable) return;\n",
              "\n",
              "          const docLinkHtml = 'Like what you see? Visit the ' +\n",
              "            '<a target=\"_blank\" href=https://colab.research.google.com/notebooks/data_table.ipynb>data table notebook</a>'\n",
              "            + ' to learn more about interactive tables.';\n",
              "          element.innerHTML = '';\n",
              "          dataTable['output_type'] = 'display_data';\n",
              "          await google.colab.output.renderOutput(dataTable, element);\n",
              "          const docLink = document.createElement('div');\n",
              "          docLink.innerHTML = docLinkHtml;\n",
              "          element.appendChild(docLink);\n",
              "        }\n",
              "      </script>\n",
              "    </div>\n",
              "  </div>\n",
              "  "
            ]
          },
          "metadata": {},
          "execution_count": 58
        }
      ]
    },
    {
      "cell_type": "code",
      "source": [
        "X_train, y_train = shuffle(X_train, y_train, random_state=2023)\n",
        "y_pred, y_pred_proba, y_pred_train = custom_ensemble_1(X_train, y_train, False, X_test, y_test)\n",
        "print_scoring_reports(y_test, y_pred)\n",
        "print_scoring_reports(y_train, y_pred_train)"
      ],
      "metadata": {
        "id": "zjYmsAME3iOJ",
        "outputId": "a38a5953-aac0-4a64-9329-07f93fe5d8fa",
        "colab": {
          "base_uri": "https://localhost:8080/"
        }
      },
      "execution_count": 59,
      "outputs": [
        {
          "output_type": "stream",
          "name": "stdout",
          "text": [
            "(55861,)\n",
            "              precision    recall  f1-score   support\n",
            "\n",
            "           0       0.95      0.99      0.97    236720\n",
            "           1       0.65      0.29      0.40     18694\n",
            "\n",
            "    accuracy                           0.94    255414\n",
            "   macro avg       0.80      0.64      0.68    255414\n",
            "weighted avg       0.92      0.94      0.92    255414\n",
            "\n",
            "Confusion matrix:\n",
            " [[233878   2842]\n",
            " [ 13363   5331]]\n",
            "              precision    recall  f1-score   support\n",
            "\n",
            "           0       0.95      0.99      0.97    710380\n",
            "           1       0.65      0.28      0.40     55861\n",
            "\n",
            "    accuracy                           0.94    766241\n",
            "   macro avg       0.80      0.64      0.68    766241\n",
            "weighted avg       0.92      0.94      0.93    766241\n",
            "\n",
            "Confusion matrix:\n",
            " [[701930   8450]\n",
            " [ 39952  15909]]\n"
          ]
        }
      ]
    },
    {
      "cell_type": "code",
      "source": [
        "X_train_SMOTE, y_train_SMOTE = shuffle(X_train_SMOTE, y_train_SMOTE, random_state=2023)\n",
        "y_pred, y_pred_proba, y_pred_train = custom_ensemble_1(X_train_SMOTE, y_train_SMOTE, False, X_test, y_test)\n",
        "print_scoring_reports(y_test, y_pred)\n",
        "print_scoring_reports(y_train_SMOTE, y_pred_train)"
      ],
      "metadata": {
        "id": "7R1MRYON7Otj",
        "outputId": "8fa58d0e-aecf-439a-d9c9-8ccde9c90409",
        "colab": {
          "base_uri": "https://localhost:8080/"
        }
      },
      "execution_count": 60,
      "outputs": [
        {
          "output_type": "stream",
          "name": "stdout",
          "text": [
            "(139652,)\n",
            "              precision    recall  f1-score   support\n",
            "\n",
            "           0       0.99      0.89      0.94    236720\n",
            "           1       0.40      0.91      0.55     18694\n",
            "\n",
            "    accuracy                           0.89    255414\n",
            "   macro avg       0.69      0.90      0.75    255414\n",
            "weighted avg       0.95      0.89      0.91    255414\n",
            "\n",
            "Confusion matrix:\n",
            " [[210845  25875]\n",
            " [  1642  17052]]\n",
            "              precision    recall  f1-score   support\n",
            "\n",
            "           0       0.95      0.89      0.92    279305\n",
            "           1       0.81      0.91      0.86    139652\n",
            "\n",
            "    accuracy                           0.90    418957\n",
            "   macro avg       0.88      0.90      0.89    418957\n",
            "weighted avg       0.90      0.90      0.90    418957\n",
            "\n",
            "Confusion matrix:\n",
            " [[248934  30371]\n",
            " [ 12682 126970]]\n"
          ]
        }
      ]
    },
    {
      "cell_type": "code",
      "source": [
        "X_train_feature_reduced , y_train_feature_reduced = shuffle(\n",
        "    X_train_feature_reduced , y_train_feature_reduced, random_state=2023)\n",
        "\n",
        "y_pred, y_pred_proba, y_pred_train = custom_ensemble_1(\n",
        "    X_train_feature_reduced , y_train_feature_reduced, False, X_test_feature_reduced, y_test_feature_reduced)\n",
        "\n",
        "print_scoring_reports(y_test_feature_reduced , y_pred)\n",
        "print_scoring_reports(y_train_feature_reduced, y_pred_train)"
      ],
      "metadata": {
        "id": "g_yn3jsV7XL3",
        "outputId": "da1f4c47-3b25-4724-83da-ffab1df4ea08",
        "colab": {
          "base_uri": "https://localhost:8080/"
        }
      },
      "execution_count": 61,
      "outputs": [
        {
          "output_type": "stream",
          "name": "stdout",
          "text": [
            "(55861,)\n",
            "              precision    recall  f1-score   support\n",
            "\n",
            "           0       0.95      0.99      0.97    236720\n",
            "           1       0.65      0.29      0.40     18694\n",
            "\n",
            "    accuracy                           0.94    255414\n",
            "   macro avg       0.80      0.64      0.68    255414\n",
            "weighted avg       0.92      0.94      0.93    255414\n",
            "\n",
            "Confusion matrix:\n",
            " [[233789   2931]\n",
            " [ 13272   5422]]\n",
            "              precision    recall  f1-score   support\n",
            "\n",
            "           0       0.95      0.99      0.97    710380\n",
            "           1       0.65      0.29      0.40     55861\n",
            "\n",
            "    accuracy                           0.94    766241\n",
            "   macro avg       0.80      0.64      0.68    766241\n",
            "weighted avg       0.93      0.94      0.93    766241\n",
            "\n",
            "Confusion matrix:\n",
            " [[701700   8680]\n",
            " [ 39635  16226]]\n"
          ]
        }
      ]
    },
    {
      "cell_type": "code",
      "source": [
        "X_train_feature_reduced_SMOTE , y_train_feature_reduced_SMOTE = shuffle(\n",
        "    X_train_feature_reduced_SMOTE , y_train_feature_reduced_SMOTE, random_state=2023)\n",
        "\n",
        "y_pred, y_pred_proba, y_pred_train = custom_ensemble_1(\n",
        "    X_train_feature_reduced_SMOTE , y_train_feature_reduced_SMOTE, False, \n",
        "    X_test_feature_reduced, y_test_feature_reduced)\n",
        "\n",
        "print_scoring_reports(y_test_feature_reduced , y_pred)\n",
        "print_scoring_reports(y_train_feature_reduced_SMOTE, y_pred_train)"
      ],
      "metadata": {
        "id": "jNGTZGqmDfz2",
        "outputId": "be3e45ff-916c-4bd1-c0a4-5719bba97aa8",
        "colab": {
          "base_uri": "https://localhost:8080/"
        }
      },
      "execution_count": 62,
      "outputs": [
        {
          "output_type": "stream",
          "name": "stdout",
          "text": [
            "(139652,)\n",
            "              precision    recall  f1-score   support\n",
            "\n",
            "           0       0.99      0.89      0.94    236720\n",
            "           1       0.40      0.91      0.56     18694\n",
            "\n",
            "    accuracy                           0.89    255414\n",
            "   macro avg       0.70      0.90      0.75    255414\n",
            "weighted avg       0.95      0.89      0.91    255414\n",
            "\n",
            "Confusion matrix:\n",
            " [[211422  25298]\n",
            " [  1677  17017]]\n",
            "              precision    recall  f1-score   support\n",
            "\n",
            "           0       0.95      0.89      0.92    279305\n",
            "           1       0.81      0.91      0.86    139652\n",
            "\n",
            "    accuracy                           0.90    418957\n",
            "   macro avg       0.88      0.90      0.89    418957\n",
            "weighted avg       0.90      0.90      0.90    418957\n",
            "\n",
            "Confusion matrix:\n",
            " [[249672  29633]\n",
            " [ 12977 126675]]\n"
          ]
        }
      ]
    },
    {
      "cell_type": "markdown",
      "source": [
        "#### Unsupervised - Supervised Ensemble"
      ],
      "metadata": {
        "id": "7fP_8eVfDsWe"
      }
    },
    {
      "cell_type": "code",
      "source": [
        "from sklearn.linear_model import LogisticRegression\n",
        "from sklearn.cluster import MiniBatchKMeans\n",
        "from sklearn.metrics import silhouette_score"
      ],
      "metadata": {
        "id": "byoJkll9D5ho"
      },
      "execution_count": 63,
      "outputs": []
    },
    {
      "cell_type": "code",
      "source": [
        "wcss = []\n",
        "for i in range(1, 1000, 50):\n",
        "    kmeans = MiniBatchKMeans(n_clusters=i, batch_size=1000, random_state=2023, n_init='auto', max_no_improvement=2)\n",
        "    kmeans.fit(X_train)\n",
        "    wcss.append(kmeans.inertia_)\n",
        "\n",
        "plt.plot(range(1, 1000, 50), wcss)\n",
        "plt.title('Elbow Method')\n",
        "plt.xlabel('Number of Clusters')\n",
        "plt.ylabel('WCSS')\n",
        "plt.show()"
      ],
      "metadata": {
        "id": "l2NXlEGg-QtM",
        "outputId": "a81ef9ee-1238-40f4-be97-12dd89642b86",
        "colab": {
          "base_uri": "https://localhost:8080/",
          "height": 472
        }
      },
      "execution_count": 64,
      "outputs": [
        {
          "output_type": "display_data",
          "data": {
            "text/plain": [
              "<Figure size 640x480 with 1 Axes>"
            ],
            "image/png": "[encoded data removed]"
          },
          "metadata": {}
        }
      ]
    },
    {
      "cell_type": "code",
      "source": [
        "wcss = []\n",
        "for i in range(1, 200, 10):\n",
        "    kmeans = MiniBatchKMeans(n_clusters=i, batch_size=1000, random_state=2023, n_init='auto', max_no_improvement=2)\n",
        "    kmeans.fit(X_train)\n",
        "    wcss.append(kmeans.inertia_)\n",
        "\n",
        "plt.plot(range(1, 200, 10), wcss)\n",
        "plt.title('Elbow Method')\n",
        "plt.xlabel('Number of Clusters')\n",
        "plt.ylabel('WCSS')\n",
        "plt.show()"
      ],
      "metadata": {
        "id": "_ue1Z91cEADS",
        "outputId": "367b3446-a3b1-41e2-f1b6-08dd63964a61",
        "colab": {
          "base_uri": "https://localhost:8080/",
          "height": 472
        }
      },
      "execution_count": 65,
      "outputs": [
        {
          "output_type": "display_data",
          "data": {
            "text/plain": [
              "<Figure size 640x480 with 1 Axes>"
            ],
            "image/png": "[encoded data removed]"
          },
          "metadata": {}
        }
      ]
    },
    {
      "cell_type": "code",
      "source": [],
      "metadata": {
        "id": "SVMqPQjXc9jK"
      },
      "execution_count": 65,
      "outputs": []
    },
    {
      "cell_type": "code",
      "source": [
        "dict(zip(range(1,200,10),wcss))"
      ],
      "metadata": {
        "id": "CmGw7YRuFsF0",
        "outputId": "3234c999-e001-481f-9eab-f540767bc30b",
        "colab": {
          "base_uri": "https://localhost:8080/"
        }
      },
      "execution_count": 66,
      "outputs": [
        {
          "output_type": "execute_result",
          "data": {
            "text/plain": [
              "{1: 1884317.044841534,\n",
              " 11: 879507.9834464155,\n",
              " 21: 668710.2745767443,\n",
              " 31: 601479.6880695113,\n",
              " 41: 509296.6007338937,\n",
              " 51: 463932.6378234958,\n",
              " 61: 430069.6873454144,\n",
              " 71: 402064.3653558072,\n",
              " 81: 377960.6530534581,\n",
              " 91: 368422.95101755596,\n",
              " 101: 344470.0816078881,\n",
              " 111: 362787.0007633907,\n",
              " 121: 348156.76096587983,\n",
              " 131: 337304.51901270106,\n",
              " 141: 333868.7125920998,\n",
              " 151: 284591.4213702923,\n",
              " 161: 272281.6979638345,\n",
              " 171: 262479.9610880036,\n",
              " 181: 260423.2721861882,\n",
              " 191: 247326.32646184}"
            ]
          },
          "metadata": {},
          "execution_count": 66
        }
      ]
    },
    {
      "cell_type": "markdown",
      "source": [
        "Choosing 21 clusters as that is the knee where the slope starts becoming flat significantly"
      ],
      "metadata": {
        "id": "9ErEdrOK-oFg"
      }
    },
    {
      "cell_type": "code",
      "source": [
        "# Create MiniBatchKMeans object\n",
        "kmeans = MiniBatchKMeans(n_clusters=21, batch_size=2000, random_state=2023, n_init='auto')\n",
        "\n",
        "# Fit the model to the data\n",
        "kmeans.fit(X_train)\n",
        "\n",
        "# Get the cluster labels\n",
        "labels = kmeans.labels_\n",
        "\n",
        "# Combine the cluster labels and the target variable into a single DataFrame\n",
        "results = pd.DataFrame({'Cluster': labels, 'Target': y_train})\n",
        "\n",
        "# Convert 'Cluster' column into one-hot encoding\n",
        "cluster_one_hot = pd.get_dummies(results['Cluster'], prefix='Cluster')\n",
        "\n",
        "y_train_cluster = cluster_one_hot.copy()\n",
        "\n",
        "y_train_cluster['Target'] = y_train"
      ],
      "metadata": {
        "id": "fTKsoKLKGPaZ"
      },
      "execution_count": 67,
      "outputs": []
    },
    {
      "cell_type": "code",
      "source": [
        "# predict clusters for X_test\n",
        "test_cluster_labels = kmeans.predict(X_test)\n",
        "\n",
        "test_cluster_results = pd.DataFrame({'Cluster': test_cluster_labels, 'Target': y_test})\n",
        "\n",
        "# Convert 'Cluster' column into one-hot encoding\n",
        "test_cluster_one_hot = pd.get_dummies(test_cluster_results['Cluster'], prefix='Cluster')\n",
        "\n",
        "X_test_cluster = pd.concat([X_test, test_cluster_one_hot], axis=1)"
      ],
      "metadata": {
        "id": "0cUw7N_4PlPg"
      },
      "execution_count": 68,
      "outputs": []
    },
    {
      "cell_type": "code",
      "source": [
        "clf = DecisionTreeClassifier(max_depth=70, random_state=0)\n",
        "clf.fit(y_train_cluster.drop('Target', axis=1), y_train_cluster['Target'])\n",
        "importances_in_clusters = clf.feature_importances_"
      ],
      "metadata": {
        "id": "4T1OOqPzHy9T"
      },
      "execution_count": 69,
      "outputs": []
    },
    {
      "cell_type": "code",
      "source": [
        "important_clusters = dict(zip(y_train_cluster.columns,importances_in_clusters))\n",
        "important_clusters = dict(sorted(important_clusters.items(), key=lambda x: x[1], reverse=True))\n",
        "print(important_clusters)"
      ],
      "metadata": {
        "id": "xMLJk2DeJ3Ko",
        "outputId": "5f25ec59-1a0c-4b4f-aec4-4b535c2209b6",
        "colab": {
          "base_uri": "https://localhost:8080/"
        }
      },
      "execution_count": 70,
      "outputs": [
        {
          "output_type": "stream",
          "name": "stdout",
          "text": [
            "{'Cluster_17': 0.388262213241753, 'Cluster_6': 0.240055233293061, 'Cluster_5': 0.2306729522178145, 'Cluster_11': 0.09342663244612646, 'Cluster_9': 0.03705375455876792, 'Cluster_16': 0.00302252352484378, 'Cluster_10': 0.0023162907310039452, 'Cluster_15': 0.0018461048840357033, 'Cluster_8': 0.0014190657534774377, 'Cluster_2': 0.0006462708423596969, 'Cluster_12': 0.0006418611947597254, 'Cluster_7': 0.00023886983099381893, 'Cluster_0': 0.0001450652660445728, 'Cluster_14': 9.148372419595126e-05, 'Cluster_13': 6.889078585770623e-05, 'Cluster_3': 4.627500061290331e-05, 'Cluster_20': 3.2204314336803947e-05, 'Cluster_1': 1.082241962888453e-05, 'Cluster_4': 3.399354604225231e-06, 'Cluster_19': 8.661572188091652e-08, 'Cluster_18': 0.0}\n"
          ]
        }
      ]
    },
    {
      "cell_type": "code",
      "source": [
        "np.cumsum(list(important_clusters.values()))"
      ],
      "metadata": {
        "id": "cvBWe6toKbmY",
        "outputId": "d885efa5-2c11-422a-f4c4-6b81e61ec642",
        "colab": {
          "base_uri": "https://localhost:8080/"
        }
      },
      "execution_count": 71,
      "outputs": [
        {
          "output_type": "execute_result",
          "data": {
            "text/plain": [
              "array([0.38826221, 0.62831745, 0.8589904 , 0.95241703, 0.98947079,\n",
              "       0.99249331, 0.9948096 , 0.9966557 , 0.99807477, 0.99872104,\n",
              "       0.9993629 , 0.99960177, 0.99974684, 0.99983832, 0.99990721,\n",
              "       0.99995349, 0.99998569, 0.99999651, 0.99999991, 1.        ,\n",
              "       1.        ])"
            ]
          },
          "metadata": {},
          "execution_count": 71
        }
      ]
    },
    {
      "cell_type": "code",
      "source": [
        "plt.plot(range(1, len(y_train_cluster.columns)), np.cumsum(list(important_clusters.values())))\n",
        "plt.xlabel(\"Number of features\")\n",
        "plt.ylabel(\"Importance of cumulative features\")"
      ],
      "metadata": {
        "id": "RodthWl9KOBD",
        "outputId": "bf2e637b-79a9-43da-84a9-056620311eef",
        "colab": {
          "base_uri": "https://localhost:8080/",
          "height": 466
        }
      },
      "execution_count": 72,
      "outputs": [
        {
          "output_type": "execute_result",
          "data": {
            "text/plain": [
              "Text(0, 0.5, 'Importance of cumulative features')"
            ]
          },
          "metadata": {},
          "execution_count": 72
        },
        {
          "output_type": "display_data",
          "data": {
            "text/plain": [
              "<Figure size 640x480 with 1 Axes>"
            ],
            "image/png": "[encoded data removed]"
          },
          "metadata": {}
        }
      ]
    },
    {
      "cell_type": "code",
      "source": [
        "best_clusters = list(important_clusters.keys())[:np.argmax(np.cumsum(list(important_clusters.values())) >= 0.98)+1]\n",
        "best_clusters"
      ],
      "metadata": {
        "id": "snRs2SUzKvDi",
        "outputId": "b4d7fdb9-45d3-4f7d-aac6-39170e71e7fb",
        "colab": {
          "base_uri": "https://localhost:8080/"
        }
      },
      "execution_count": 73,
      "outputs": [
        {
          "output_type": "execute_result",
          "data": {
            "text/plain": [
              "['Cluster_17', 'Cluster_6', 'Cluster_5', 'Cluster_11', 'Cluster_9']"
            ]
          },
          "metadata": {},
          "execution_count": 73
        }
      ]
    },
    {
      "cell_type": "code",
      "source": [
        "def custom_ensemble_2(X,y, X_val, y_val):\n",
        "  \n",
        "  # Create MiniBatchKMeans object\n",
        "  kmeans = MiniBatchKMeans(n_clusters=21, batch_size=1000, random_state=2023, n_init='auto')\n",
        "\n",
        "  # Fit the model to the data\n",
        "  kmeans.fit(X)\n",
        "\n",
        "  # Get the cluster labels\n",
        "  labels = kmeans.labels_\n",
        "\n",
        "  # Combine the cluster labels and the target variable into a single DataFrame\n",
        "  results = pd.DataFrame({'Cluster': labels, 'Target': y})\n",
        "\n",
        "  # Convert 'Cluster' column into one-hot encoding\n",
        "  cluster_one_hot = pd.get_dummies(results['Cluster'], prefix='Cluster')\n",
        "\n",
        "  # Concatenate the best one-hot encoded 'Cluster' feature to X\n",
        "  X_with_cluster = pd.concat([X, cluster_one_hot[best_clusters]], axis=1)\n",
        "  # X_with_cluster = cluster_one_hot[best_clusters]\n",
        "\n",
        "  # predict clusters for X_test\n",
        "  test_cluster_labels = kmeans.predict(X_val)\n",
        "\n",
        "  val_cluster_results = pd.DataFrame({'Cluster': test_cluster_labels, 'Target': y_val})\n",
        "\n",
        "  # Convert 'Cluster' column into one-hot encoding\n",
        "  val_cluster_one_hot = pd.get_dummies(val_cluster_results['Cluster'], prefix='Cluster')\n",
        "\n",
        "  # Concatenate the best one-hot encoded 'Cluster' feature to X_val\n",
        "  X_val_cluster = pd.concat([X_val, val_cluster_one_hot[best_clusters]], axis=1)\n",
        "  # X_val_cluster = val_cluster_one_hot[best_clusters]\n",
        "\n",
        "  # Compute the mean target value for each cluster\n",
        "  mean_target = results.groupby('Cluster')['Target'].mean()\n",
        "\n",
        "  # Numer of people who died vs number of who survived \n",
        "  # for label in np.unique(labels):\n",
        "  #   print(f\"\\nCluster {label}:\\n # dead: \",results[(results.Cluster == label) & (results.Target == 1)].shape[0],\n",
        "  #         \" vs # not dead: \",\n",
        "  #         results[(results.Cluster == label) & (results.Target == 0)].shape[0])\n",
        "    \n",
        "  print(\"\\n\",mean_target,\"\\n\")\n",
        "  \n",
        "  # Define individual classifiers\n",
        "  #'entropy', 'best', mdepth=5, clweight=None, minleaf=10\n",
        "  clf1 = make_pipeline(LogisticRegression(penalty='l1', solver='liblinear'))\n",
        "  clf2 = make_pipeline(LogisticRegression(penalty='l1', solver='liblinear'))\n",
        "  clf3 = make_pipeline(DecisionTreeClassifier(random_state=2023, max_depth=5,\n",
        "                                              criterion='entropy', \n",
        "                                              splitter='best',\n",
        "                                              min_samples_leaf=10,\n",
        "                                              max_features=\"log2\"))\n",
        "  clf4 = make_pipeline(DecisionTreeClassifier(random_state=2023, max_depth=5,\n",
        "                                              criterion='entropy', \n",
        "                                              splitter='best',\n",
        "                                              min_samples_leaf=10,\n",
        "                                              max_features=\"log2\"))\n",
        "  # Fit classifiers on masked data\n",
        "  clf1.fit(X_with_cluster, y)\n",
        "  clf2.fit(X_with_cluster, y)\n",
        "  clf3.fit(X_with_cluster, y)\n",
        "  clf4.fit(X_with_cluster, y)\n",
        "\n",
        "  # Define the ensemble model\n",
        "  ensemble_model = VotingClassifier(estimators=[\n",
        "      ('clf1', clf1),\n",
        "      ('clf2', clf2),\n",
        "      ('clf3', clf3), \n",
        "      ('clf4', clf4)], \n",
        "      weights=[1, 1, 1, 1],\n",
        "      voting = 'soft'\n",
        "      )\n",
        "\n",
        "  ensemble_model.fit(X_with_cluster, y)\n",
        "\n",
        "  # Get the best model and print its accuracy\n",
        "  y_pred = ensemble_model.predict(X_val_cluster)\n",
        "  y_pred_proba = ensemble_model.predict_proba(X_val_cluster)\n",
        "  return y_pred, y_pred_proba\n",
        "\n",
        "\n"
      ],
      "metadata": {
        "id": "ISVfDZw-nO5L"
      },
      "execution_count": 74,
      "outputs": []
    },
    {
      "cell_type": "code",
      "source": [
        "X_train, y_train = shuffle(X_train, y_train, random_state=2023)\n",
        "\n",
        "y_pred, y_pred_proba = custom_ensemble_2(X_train, y_train, X_test, y_test)\n",
        "print_scoring_reports(y_test, y_pred)"
      ],
      "metadata": {
        "id": "UuO9h8AnGTq8",
        "outputId": "ea49ced4-8599-4833-abb0-72c37973da70",
        "colab": {
          "base_uri": "https://localhost:8080/"
        }
      },
      "execution_count": 75,
      "outputs": [
        {
          "output_type": "stream",
          "name": "stdout",
          "text": [
            "\n",
            " Cluster\n",
            "0     0.482755\n",
            "1     0.012303\n",
            "2     0.023554\n",
            "3     0.003532\n",
            "4     0.090166\n",
            "5     0.011561\n",
            "6     0.007093\n",
            "7     0.008444\n",
            "8     0.388892\n",
            "9     0.419567\n",
            "10    0.558677\n",
            "11    0.326569\n",
            "12    0.021379\n",
            "13    0.046277\n",
            "14    0.005356\n",
            "15    0.062966\n",
            "16    0.007297\n",
            "17    0.047473\n",
            "18    0.113236\n",
            "19    0.015512\n",
            "20    0.010200\n",
            "Name: Target, dtype: float64 \n",
            "\n",
            "              precision    recall  f1-score   support\n",
            "\n",
            "           0       0.95      0.99      0.97    236720\n",
            "           1       0.64      0.30      0.41     18694\n",
            "\n",
            "    accuracy                           0.94    255414\n",
            "   macro avg       0.79      0.64      0.69    255414\n",
            "weighted avg       0.92      0.94      0.93    255414\n",
            "\n",
            "Confusion matrix:\n",
            " [[233611   3109]\n",
            " [ 13150   5544]]\n"
          ]
        }
      ]
    },
    {
      "cell_type": "code",
      "source": [
        "X_train_feature_reduced, y_train_feature_reduced = shuffle(\n",
        "    X_train_feature_reduced, y_train_feature_reduced, random_state=19)\n",
        "\n",
        "y_pred, y_pred_proba = custom_ensemble_2(\n",
        "    X_train_feature_reduced, y_train_feature_reduced, X_test_feature_reduced, y_test_feature_reduced)\n",
        "\n",
        "print_scoring_reports(y_test_feature_reduced, y_pred)"
      ],
      "metadata": {
        "id": "SKmUu6tP6wjr",
        "outputId": "585cd813-096b-4663-cafe-744e61e1e59d",
        "colab": {
          "base_uri": "https://localhost:8080/"
        }
      },
      "execution_count": 76,
      "outputs": [
        {
          "output_type": "stream",
          "name": "stdout",
          "text": [
            "\n",
            " Cluster\n",
            "0     0.013103\n",
            "1     0.004512\n",
            "2     0.515254\n",
            "3     0.008255\n",
            "4     0.006300\n",
            "5     0.432953\n",
            "6     0.004047\n",
            "7     0.002047\n",
            "8     0.019100\n",
            "9     0.029117\n",
            "10    0.098817\n",
            "11    0.036019\n",
            "12    0.011012\n",
            "13    0.368135\n",
            "14    0.053210\n",
            "15    0.278037\n",
            "16    0.120304\n",
            "17    0.550555\n",
            "18    0.046110\n",
            "19    0.036005\n",
            "20    0.044502\n",
            "Name: Target, dtype: float64 \n",
            "\n",
            "              precision    recall  f1-score   support\n",
            "\n",
            "           0       0.95      0.99      0.97    236720\n",
            "           1       0.64      0.31      0.41     18694\n",
            "\n",
            "    accuracy                           0.94    255414\n",
            "   macro avg       0.79      0.65      0.69    255414\n",
            "weighted avg       0.92      0.94      0.93    255414\n",
            "\n",
            "Confusion matrix:\n",
            " [[233462   3258]\n",
            " [ 12965   5729]]\n"
          ]
        }
      ]
    },
    {
      "cell_type": "code",
      "source": [
        "y_pred, y_pred_proba = custom_ensemble_2(X_train_SMOTE, y_train_SMOTE, X_test, y_test)\n",
        "print_scoring_reports(y_test, y_pred)"
      ],
      "metadata": {
        "id": "rp7JSs8iWk2w",
        "outputId": "3d3160b6-0e08-4198-c7ae-1fb892ec6f05",
        "colab": {
          "base_uri": "https://localhost:8080/"
        }
      },
      "execution_count": 77,
      "outputs": [
        {
          "output_type": "stream",
          "name": "stdout",
          "text": [
            "\n",
            " Cluster\n",
            "0     0.881712\n",
            "1     0.033047\n",
            "2     0.750526\n",
            "3     0.025998\n",
            "4     0.028976\n",
            "5     0.815975\n",
            "6     0.014920\n",
            "7     0.862808\n",
            "8     0.813654\n",
            "9     0.226977\n",
            "10    0.076503\n",
            "11    0.288520\n",
            "12    0.293063\n",
            "13    0.061789\n",
            "14    0.063927\n",
            "15    0.021280\n",
            "16    0.723688\n",
            "17    0.661839\n",
            "18    0.429939\n",
            "19    0.703336\n",
            "20    0.882572\n",
            "Name: Target, dtype: float64 \n",
            "\n",
            "              precision    recall  f1-score   support\n",
            "\n",
            "           0       0.99      0.90      0.94    236720\n",
            "           1       0.41      0.89      0.56     18694\n",
            "\n",
            "    accuracy                           0.90    255414\n",
            "   macro avg       0.70      0.89      0.75    255414\n",
            "weighted avg       0.95      0.90      0.91    255414\n",
            "\n",
            "Confusion matrix:\n",
            " [[212648  24072]\n",
            " [  2088  16606]]\n"
          ]
        }
      ]
    },
    {
      "cell_type": "code",
      "source": [
        "y_pred, y_pred_proba = custom_ensemble_2(\n",
        "    X_train_feature_reduced_SMOTE, y_train_feature_reduced_SMOTE, X_test_feature_reduced, y_test_feature_reduced )\n",
        "print_scoring_reports(y_test_feature_reduced, y_pred)"
      ],
      "metadata": {
        "id": "hAvTsFDbWp7z",
        "outputId": "eedc967e-0d4a-4242-d493-db3bc680a187",
        "colab": {
          "base_uri": "https://localhost:8080/"
        }
      },
      "execution_count": 78,
      "outputs": [
        {
          "output_type": "stream",
          "name": "stdout",
          "text": [
            "\n",
            " Cluster\n",
            "0     0.732614\n",
            "1     0.012673\n",
            "2     0.059522\n",
            "3     0.815325\n",
            "4     0.785356\n",
            "5     0.298955\n",
            "6     0.021017\n",
            "7     0.112737\n",
            "8     0.035961\n",
            "9     0.831975\n",
            "10    0.847236\n",
            "11    0.909175\n",
            "12    0.214235\n",
            "13    0.319459\n",
            "14    0.899875\n",
            "15    0.727164\n",
            "16    0.075403\n",
            "17    0.889866\n",
            "18    0.098385\n",
            "19    0.603957\n",
            "20    0.129422\n",
            "Name: Target, dtype: float64 \n",
            "\n",
            "              precision    recall  f1-score   support\n",
            "\n",
            "           0       0.99      0.90      0.94    236720\n",
            "           1       0.41      0.90      0.56     18694\n",
            "\n",
            "    accuracy                           0.90    255414\n",
            "   macro avg       0.70      0.90      0.75    255414\n",
            "weighted avg       0.95      0.90      0.91    255414\n",
            "\n",
            "Confusion matrix:\n",
            " [[212322  24398]\n",
            " [  1900  16794]]\n"
          ]
        }
      ]
    },
    {
      "cell_type": "markdown",
      "source": [
        "New resampling of data to check if resampling helps as it increased the precision values in above model"
      ],
      "metadata": {
        "id": "rrZ1rN8SqlRT"
      }
    },
    {
      "cell_type": "code",
      "source": [
        "X_train_SMOTE1, y_train_SMOTE1 = data_sampling_smote(X_train, y_train, 0.49, 0.51)"
      ],
      "metadata": {
        "id": "a_Gg_SRCpjNI"
      },
      "execution_count": 79,
      "outputs": []
    },
    {
      "cell_type": "code",
      "source": [
        "y_train_SMOTE1.mean()"
      ],
      "metadata": {
        "id": "KVp5gbF9rUIW",
        "outputId": "e23909f2-370b-42ae-d10d-776ea5d5a53b",
        "colab": {
          "base_uri": "https://localhost:8080/"
        }
      },
      "execution_count": 80,
      "outputs": [
        {
          "output_type": "execute_result",
          "data": {
            "text/plain": [
              "0.3377482674288237"
            ]
          },
          "metadata": {},
          "execution_count": 80
        }
      ]
    },
    {
      "cell_type": "code",
      "source": [
        "y_pred, y_pred_proba = custom_ensemble_2(\n",
        "    X_train_SMOTE1, y_train_SMOTE1, X_test, y_test )\n",
        "\n",
        "print_scoring_reports(y_test, y_pred)"
      ],
      "metadata": {
        "id": "cb6Rr32zq-F5",
        "outputId": "0db30a8b-d6ef-4ca8-c686-95517cca55a8",
        "colab": {
          "base_uri": "https://localhost:8080/"
        }
      },
      "execution_count": 81,
      "outputs": [
        {
          "output_type": "stream",
          "name": "stdout",
          "text": [
            "\n",
            " Cluster\n",
            "0     0.147013\n",
            "1     0.023386\n",
            "2     0.887448\n",
            "3     0.019603\n",
            "4     0.047080\n",
            "5     0.256989\n",
            "6     0.809222\n",
            "7     0.863914\n",
            "8     0.207074\n",
            "9     0.857183\n",
            "10    0.803053\n",
            "11    0.059419\n",
            "12    0.102999\n",
            "13    0.748919\n",
            "14    0.055493\n",
            "15    0.019282\n",
            "16    0.880880\n",
            "17    0.043505\n",
            "18    0.269548\n",
            "19    0.736900\n",
            "20    0.296911\n",
            "Name: Target, dtype: float64 \n",
            "\n",
            "              precision    recall  f1-score   support\n",
            "\n",
            "           0       0.99      0.88      0.93    236720\n",
            "           1       0.38      0.91      0.54     18694\n",
            "\n",
            "    accuracy                           0.89    255414\n",
            "   macro avg       0.69      0.90      0.74    255414\n",
            "weighted avg       0.95      0.89      0.91    255414\n",
            "\n",
            "Confusion matrix:\n",
            " [[209046  27674]\n",
            " [  1593  17101]]\n"
          ]
        }
      ]
    },
    {
      "cell_type": "markdown",
      "source": [
        "#____________________________________-END-____________________________________"
      ],
      "metadata": {
        "id": "Vm3CQbOexz1M"
      }
    },
    {
      "cell_type": "code",
      "source": [
        "import pandas as pd\n",
        "import matplotlib.pyplot as plt\n",
        "from sklearn.metrics import accuracy_score, precision_score, recall_score, f1_score\n",
        "\n",
        "# Define the metric functions\n",
        "metric_functions = {\n",
        "    'Accuracy': accuracy_score,\n",
        "    'Precision': precision_score,\n",
        "    'Recall': recall_score,\n",
        "    'F1-score': f1_score\n",
        "}\n",
        "\n",
        "# Define the models and their metrics\n",
        "models = {\n",
        "    'Logistic Regression': {\n",
        "        'Accuracy': 0.90,\n",
        "        'Precision': 0.42,\n",
        "        'Recall': 0.86,\n",
        "        'F1-score': 0.57\n",
        "    },\n",
        "    'XGBOOST': {\n",
        "        'Accuracy': 0.94,\n",
        "        'Precision': 0.61,\n",
        "        'Recall': 0.38,\n",
        "        'F1-score': 0.46\n",
        "    },\n",
        "    'Decision Trees': {\n",
        "        'Accuracy': 0.94,\n",
        "        'Precision': 0.63,\n",
        "        'Recall': 0.36,\n",
        "        'F1-score': 0.46\n",
        "    },\n",
        "    'Classifier-Classifier Ensemble': {\n",
        "        'Accuracy': 0.94,\n",
        "        'Precision': 0.65,\n",
        "        'Recall': 0.28,\n",
        "        'F1-score': 0.40\n",
        "    },\n",
        "    'Unsupervised-Supervised Ensemble': {\n",
        "        'Accuracy': 0.89,\n",
        "        'Precision': 0.38,\n",
        "        'Recall': 0.91,\n",
        "        'F1-score': 0.54\n",
        "    }\n",
        "}\n",
        "\n",
        "# Create a table to display the metrics\n",
        "metrics_table = pd.DataFrame.from_dict(models, orient='index')\n",
        "metrics_table.index.name = 'Model'\n",
        "metrics_table = metrics_table[['Accuracy', 'Precision', 'Recall', 'F1-score']]\n",
        "\n",
        "# Plot the metrics for each model\n",
        "for metric in metric_functions:\n",
        "    plt.figure()\n",
        "    plt.title(metric)\n",
        "    metrics_table[metric].plot(kind='bar')\n",
        "    plt.ylim((0, 1.1))\n",
        "    plt.ylabel(metric)\n",
        "    plt.xlabel('Model')\n",
        "\n",
        "# Display the metrics table\n",
        "print(metrics_table)\n"
      ],
      "metadata": {
        "id": "jCJAzfdzc9rd",
        "outputId": "9b39efae-d00c-487b-a6ad-33c58c9a1234",
        "colab": {
          "base_uri": "https://localhost:8080/",
          "height": 1000
        }
      },
      "execution_count": 98,
      "outputs": [
        {
          "output_type": "stream",
          "name": "stdout",
          "text": [
            "                                  Accuracy  Precision  Recall  F1-score\n",
            "Model                                                                  \n",
            "Logistic Regression                   0.90       0.42    0.86      0.57\n",
            "XGBOOST                               0.94       0.61    0.38      0.46\n",
            "Decision Trees                        0.94       0.63    0.36      0.46\n",
            "Classifier-Classifier Ensemble        0.94       0.65    0.28      0.40\n",
            "Unsupervised-Supervised Ensemble      0.89       0.38    0.91      0.54\n"
          ]
        },
        {
          "output_type": "display_data",
          "data": {
            "text/plain": [
              "<Figure size 640x480 with 1 Axes>"
            ],
            "image/png": "[encoded data removed]"
          },
          "metadata": {}
        },
        {
          "output_type": "display_data",
          "data": {
            "text/plain": [
              "<Figure size 640x480 with 1 Axes>"
            ],
            "image/png": "[encoded data removed]"
          },
          "metadata": {}
        },
        {
          "output_type": "display_data",
          "data": {
            "text/plain": [
              "<Figure size 640x480 with 1 Axes>"
            ],
            "image/png": "[encoded data removed]"
          },
          "metadata": {}
        },
        {
          "output_type": "display_data",
          "data": {
            "text/plain": [
              "<Figure size 640x480 with 1 Axes>"
            ],
            "image/png": "[encoded data removed]"
          },
          "metadata": {}
        }
      ]
    },
    {
      "cell_type": "markdown",
      "metadata": {
        "id": "ITcEK7TWghaI"
      },
      "source": [
        "We have chosen 3 ML models for hyper parameter tuning and model selection\n",
        "1. Logistic Regression\n",
        "2. Random Forest Classifier\n",
        "3. XGBoost"
      ]
    },
    {
      "cell_type": "code",
      "source": [
        "from sklearn.pipeline import Pipeline\n",
        "from sklearn.model_selection import GridSearchCV\n",
        "from sklearn.linear_model import LogisticRegression\n",
        "from sklearn.ensemble import RandomForestClassifier\n",
        "from xgboost import XGBClassifier\n",
        "\n",
        "# Define the pipeline\n",
        "pipe = Pipeline([\n",
        "    ('clf', None),\n",
        "])\n",
        "\n",
        "# Define the hyperparameters for each estimator in the pipeline\n",
        "param_grid = [\n",
        "    {\n",
        "        'clf': [LogisticRegression(max_iter = 1000, solver='saga', penalty='l1')],\n",
        "        # 'clf__penalty': ['l1', 'l2'],\n",
        "        # 'clf__C': [0.1, 1, 10]\n",
        "    },\n",
        "    {\n",
        "        'clf': [RandomForestClassifier()],\n",
        "        # 'clf__n_estimators': [50, 100, 200],\n",
        "        # 'clf__max_depth': [5, 10, 15]\n",
        "    },\n",
        "    {\n",
        "        'clf': [XGBClassifier()],\n",
        "        # 'clf__learning_rate': [0.1, 0.01, 0.001],\n",
        "        # 'clf__n_estimators': [50, 100, 200]\n",
        "    }\n",
        "]\n",
        "\n",
        "# Create the grid search object\n",
        "grid_SMOTE = GridSearchCV(pipe, param_grid, scoring=['f1','accuracy'], refit='f1', cv=5, n_jobs =-1)\n",
        "grid_resampled = GridSearchCV(pipe, param_grid, scoring=['f1','accuracy'], refit='f1', cv=5,  n_jobs =-1)\n",
        "grid_balanced = GridSearchCV(pipe, param_grid, scoring=['f1','accuracy'], refit='f1', cv=5,  n_jobs =-1)\n",
        "\n",
        "# Fit the grid search to the data\n",
        "grid_SMOTE.fit(X_train_SMOTE, y_train_SMOTE)\n",
        "#grid_resampled.fit(X_train_resampled, y_train_resampled)\n",
        "#grid_balanced.fit(X_train_balanced, y_train_balanced)\n"
      ],
      "metadata": {
        "id": "s6BAzV3dbJxd",
        "colab": {
          "base_uri": "https://localhost:8080/",
          "height": 117
        },
        "outputId": "9aa4b592-aa3f-4061-895d-c7554385f73e"
      },
      "execution_count": 83,
      "outputs": [
        {
          "output_type": "execute_result",
          "data": {
            "text/plain": [
              "GridSearchCV(cv=5, estimator=Pipeline(steps=[('clf', None)]), n_jobs=-1,\n",
              "             param_grid=[{'clf': [LogisticRegression(max_iter=1000,\n",
              "                                                     penalty='l1',\n",
              "                                                     solver='saga')]},\n",
              "                         {'clf': [RandomForestClassifier()]},\n",
              "                         {'clf': [XGBClassifier(base_score=None, booster=None,\n",
              "                                                callbacks=None,\n",
              "                                                colsample_bylevel=None,\n",
              "                                                colsample_bynode=None,\n",
              "                                                colsample_bytree=None,\n",
              "                                                early_stopping_rounds=None,\n",
              "                                                ena...\n",
              "                                                importance_type=None,\n",
              "                                                interaction_constraints=None,\n",
              "                                                learning_rate=None,\n",
              "                                                max_bin=None,\n",
              "                                                max_cat_threshold=None,\n",
              "                                                max_cat_to_onehot=None,\n",
              "                                                max_delta_step=None,\n",
              "                                                max_depth=None, max_leaves=None,\n",
              "                                                min_child_weight=None,\n",
              "                                                missing=nan,\n",
              "                                                monotone_constraints=None,\n",
              "                                                n_estimators=100, n_jobs=None,\n",
              "                                                num_parallel_tree=None,\n",
              "                                                predictor=None,\n",
              "                                                random_state=None, ...)]}],\n",
              "             refit='f1', scoring=['f1', 'accuracy'])"
            ],
            "text/html": [
              "<style>#sk-container-id-1 {color: black;background-color: white;}#sk-container-id-1 pre{padding: 0;}#sk-container-id-1 div.sk-toggleable {background-color: white;}#sk-container-id-1 label.sk-toggleable__label {cursor: pointer;display: block;width: 100%;margin-bottom: 0;padding: 0.3em;box-sizing: border-box;text-align: center;}#sk-container-id-1 label.sk-toggleable__label-arrow:before {content: \"▸\";float: left;margin-right: 0.25em;color: #696969;}#sk-container-id-1 label.sk-toggleable__label-arrow:hover:before {color: black;}#sk-container-id-1 div.sk-estimator:hover label.sk-toggleable__label-arrow:before {color: black;}#sk-container-id-1 div.sk-toggleable__content {max-height: 0;max-width: 0;overflow: hidden;text-align: left;background-color: #f0f8ff;}#sk-container-id-1 div.sk-toggleable__content pre {margin: 0.2em;color: black;border-radius: 0.25em;background-color: #f0f8ff;}#sk-container-id-1 input.sk-toggleable__control:checked~div.sk-toggleable__content {max-height: 200px;max-width: 100%;overflow: auto;}#sk-container-id-1 input.sk-toggleable__control:checked~label.sk-toggleable__label-arrow:before {content: \"▾\";}#sk-container-id-1 div.sk-estimator input.sk-toggleable__control:checked~label.sk-toggleable__label {background-color: #d4ebff;}#sk-container-id-1 div.sk-label input.sk-toggleable__control:checked~label.sk-toggleable__label {background-color: #d4ebff;}#sk-container-id-1 input.sk-hidden--visually {border: 0;clip: rect(1px 1px 1px 1px);clip: rect(1px, 1px, 1px, 1px);height: 1px;margin: -1px;overflow: hidden;padding: 0;position: absolute;width: 1px;}#sk-container-id-1 div.sk-estimator {font-family: monospace;background-color: #f0f8ff;border: 1px dotted black;border-radius: 0.25em;box-sizing: border-box;margin-bottom: 0.5em;}#sk-container-id-1 div.sk-estimator:hover {background-color: #d4ebff;}#sk-container-id-1 div.sk-parallel-item::after {content: \"\";width: 100%;border-bottom: 1px solid gray;flex-grow: 1;}#sk-container-id-1 div.sk-label:hover label.sk-toggleable__label {background-color: #d4ebff;}#sk-container-id-1 div.sk-serial::before {content: \"\";position: absolute;border-left: 1px solid gray;box-sizing: border-box;top: 0;bottom: 0;left: 50%;z-index: 0;}#sk-container-id-1 div.sk-serial {display: flex;flex-direction: column;align-items: center;background-color: white;padding-right: 0.2em;padding-left: 0.2em;position: relative;}#sk-container-id-1 div.sk-item {position: relative;z-index: 1;}#sk-container-id-1 div.sk-parallel {display: flex;align-items: stretch;justify-content: center;background-color: white;position: relative;}#sk-container-id-1 div.sk-item::before, #sk-container-id-1 div.sk-parallel-item::before {content: \"\";position: absolute;border-left: 1px solid gray;box-sizing: border-box;top: 0;bottom: 0;left: 50%;z-index: -1;}#sk-container-id-1 div.sk-parallel-item {display: flex;flex-direction: column;z-index: 1;position: relative;background-color: white;}#sk-container-id-1 div.sk-parallel-item:first-child::after {align-self: flex-end;width: 50%;}#sk-container-id-1 div.sk-parallel-item:last-child::after {align-self: flex-start;width: 50%;}#sk-container-id-1 div.sk-parallel-item:only-child::after {width: 0;}#sk-container-id-1 div.sk-dashed-wrapped {border: 1px dashed gray;margin: 0 0.4em 0.5em 0.4em;box-sizing: border-box;padding-bottom: 0.4em;background-color: white;}#sk-container-id-1 div.sk-label label {font-family: monospace;font-weight: bold;display: inline-block;line-height: 1.2em;}#sk-container-id-1 div.sk-label-container {text-align: center;}#sk-container-id-1 div.sk-container {/* jupyter's `normalize.less` sets `[hidden] { display: none; }` but bootstrap.min.css set `[hidden] { display: none !important; }` so we also need the `!important` here to be able to override the default hidden behavior on the sphinx rendered scikit-learn.org. See: https://github.com/scikit-learn/scikit-learn/issues/21755 */display: inline-block !important;position: relative;}#sk-container-id-1 div.sk-text-repr-fallback {display: none;}</style><div id=\"sk-container-id-1\" class=\"sk-top-container\"><div class=\"sk-text-repr-fallback\"><pre>GridSearchCV(cv=5, estimator=Pipeline(steps=[(&#x27;clf&#x27;, None)]), n_jobs=-1,\n",
              "             param_grid=[{&#x27;clf&#x27;: [LogisticRegression(max_iter=1000,\n",
              "                                                     penalty=&#x27;l1&#x27;,\n",
              "                                                     solver=&#x27;saga&#x27;)]},\n",
              "                         {&#x27;clf&#x27;: [RandomForestClassifier()]},\n",
              "                         {&#x27;clf&#x27;: [XGBClassifier(base_score=None, booster=None,\n",
              "                                                callbacks=None,\n",
              "                                                colsample_bylevel=None,\n",
              "                                                colsample_bynode=None,\n",
              "                                                colsample_bytree=None,\n",
              "                                                early_stopping_rounds=None,\n",
              "                                                ena...\n",
              "                                                importance_type=None,\n",
              "                                                interaction_constraints=None,\n",
              "                                                learning_rate=None,\n",
              "                                                max_bin=None,\n",
              "                                                max_cat_threshold=None,\n",
              "                                                max_cat_to_onehot=None,\n",
              "                                                max_delta_step=None,\n",
              "                                                max_depth=None, max_leaves=None,\n",
              "                                                min_child_weight=None,\n",
              "                                                missing=nan,\n",
              "                                                monotone_constraints=None,\n",
              "                                                n_estimators=100, n_jobs=None,\n",
              "                                                num_parallel_tree=None,\n",
              "                                                predictor=None,\n",
              "                                                random_state=None, ...)]}],\n",
              "             refit=&#x27;f1&#x27;, scoring=[&#x27;f1&#x27;, &#x27;accuracy&#x27;])</pre><b>In a Jupyter environment, please rerun this cell to show the HTML representation or trust the notebook. <br />On GitHub, the HTML representation is unable to render, please try loading this page with nbviewer.org.</b></div><div class=\"sk-container\" hidden><div class=\"sk-item sk-dashed-wrapped\"><div class=\"sk-label-container\"><div class=\"sk-label sk-toggleable\"><input class=\"sk-toggleable__control sk-hidden--visually\" id=\"sk-estimator-id-1\" type=\"checkbox\" ><label for=\"sk-estimator-id-1\" class=\"sk-toggleable__label sk-toggleable__label-arrow\">GridSearchCV</label><div class=\"sk-toggleable__content\"><pre>GridSearchCV(cv=5, estimator=Pipeline(steps=[(&#x27;clf&#x27;, None)]), n_jobs=-1,\n",
              "             param_grid=[{&#x27;clf&#x27;: [LogisticRegression(max_iter=1000,\n",
              "                                                     penalty=&#x27;l1&#x27;,\n",
              "                                                     solver=&#x27;saga&#x27;)]},\n",
              "                         {&#x27;clf&#x27;: [RandomForestClassifier()]},\n",
              "                         {&#x27;clf&#x27;: [XGBClassifier(base_score=None, booster=None,\n",
              "                                                callbacks=None,\n",
              "                                                colsample_bylevel=None,\n",
              "                                                colsample_bynode=None,\n",
              "                                                colsample_bytree=None,\n",
              "                                                early_stopping_rounds=None,\n",
              "                                                ena...\n",
              "                                                importance_type=None,\n",
              "                                                interaction_constraints=None,\n",
              "                                                learning_rate=None,\n",
              "                                                max_bin=None,\n",
              "                                                max_cat_threshold=None,\n",
              "                                                max_cat_to_onehot=None,\n",
              "                                                max_delta_step=None,\n",
              "                                                max_depth=None, max_leaves=None,\n",
              "                                                min_child_weight=None,\n",
              "                                                missing=nan,\n",
              "                                                monotone_constraints=None,\n",
              "                                                n_estimators=100, n_jobs=None,\n",
              "                                                num_parallel_tree=None,\n",
              "                                                predictor=None,\n",
              "                                                random_state=None, ...)]}],\n",
              "             refit=&#x27;f1&#x27;, scoring=[&#x27;f1&#x27;, &#x27;accuracy&#x27;])</pre></div></div></div><div class=\"sk-parallel\"><div class=\"sk-parallel-item\"><div class=\"sk-item\"><div class=\"sk-label-container\"><div class=\"sk-label sk-toggleable\"><input class=\"sk-toggleable__control sk-hidden--visually\" id=\"sk-estimator-id-2\" type=\"checkbox\" ><label for=\"sk-estimator-id-2\" class=\"sk-toggleable__label sk-toggleable__label-arrow\">estimator: Pipeline</label><div class=\"sk-toggleable__content\"><pre>Pipeline(steps=[(&#x27;clf&#x27;, None)])</pre></div></div></div><div class=\"sk-serial\"><div class=\"sk-item\"><div class=\"sk-serial\"><div class=\"sk-item\"><div class=\"sk-estimator sk-toggleable\"><input class=\"sk-toggleable__control sk-hidden--visually\" id=\"sk-estimator-id-3\" type=\"checkbox\" ><label for=\"sk-estimator-id-3\" class=\"sk-toggleable__label sk-toggleable__label-arrow\">None</label><div class=\"sk-toggleable__content\"><pre>None</pre></div></div></div></div></div></div></div></div></div></div></div></div>"
            ]
          },
          "metadata": {},
          "execution_count": 83
        }
      ]
    },
    {
      "cell_type": "code",
      "source": [
        "print(\"Best estimator: \", grid_SMOTE.best_estimator_)\n",
        "print(\"Best score: \", grid_SMOTE.best_score_)\n",
        "pd.DataFrame(grid_SMOTE.cv_results_)"
      ],
      "metadata": {
        "id": "1TD55xlMcjA3",
        "colab": {
          "base_uri": "https://localhost:8080/",
          "height": 601
        },
        "outputId": "15b21a17-f013-408f-efde-a090f9a7f659"
      },
      "execution_count": 84,
      "outputs": [
        {
          "output_type": "stream",
          "name": "stdout",
          "text": [
            "Best estimator:  Pipeline(steps=[('clf',\n",
            "                 XGBClassifier(base_score=None, booster=None, callbacks=None,\n",
            "                               colsample_bylevel=None, colsample_bynode=None,\n",
            "                               colsample_bytree=None,\n",
            "                               early_stopping_rounds=None,\n",
            "                               enable_categorical=False, eval_metric=None,\n",
            "                               feature_types=None, gamma=None, gpu_id=None,\n",
            "                               grow_policy=None, importance_type=None,\n",
            "                               interaction_constraints=None, learning_rate=None,\n",
            "                               max_bin=None, max_cat_threshold=None,\n",
            "                               max_cat_to_onehot=None, max_delta_step=None,\n",
            "                               max_depth=None, max_leaves=None,\n",
            "                               min_child_weight=None, missing=nan,\n",
            "                               monotone_constraints=None, n_estimators=100,\n",
            "                               n_jobs=None, num_parallel_tree=None,\n",
            "                               predictor=None, random_state=None, ...))])\n",
            "Best score:  0.8619744906637999\n"
          ]
        },
        {
          "output_type": "execute_result",
          "data": {
            "text/plain": [
              "   mean_fit_time  std_fit_time  mean_score_time  std_score_time  \\\n",
              "0      13.168518      2.442056         0.056878        0.005862   \n",
              "1      40.775043      1.101705         1.745146        0.256869   \n",
              "2      59.113508      5.478106         0.320144        0.082836   \n",
              "\n",
              "                                           param_clf  \\\n",
              "0  LogisticRegression(max_iter=1000, penalty='l1'...   \n",
              "1                           RandomForestClassifier()   \n",
              "2  XGBClassifier(base_score=None, booster=None, c...   \n",
              "\n",
              "                                              params  split0_test_f1  \\\n",
              "0  {'clf': LogisticRegression(max_iter=1000, pena...        0.842741   \n",
              "1                  {'clf': RandomForestClassifier()}        0.860377   \n",
              "2  {'clf': XGBClassifier(base_score=None, booster...        0.861492   \n",
              "\n",
              "   split1_test_f1  split2_test_f1  split3_test_f1  ...  std_test_f1  \\\n",
              "0        0.842504        0.841127        0.842061  ...     0.000594   \n",
              "1        0.861299        0.861004        0.861496  ...     0.000839   \n",
              "2        0.861431        0.861526        0.862180  ...     0.000690   \n",
              "\n",
              "   rank_test_f1  split0_test_accuracy  split1_test_accuracy  \\\n",
              "0             3              0.891911              0.893391   \n",
              "1             2              0.900647              0.902831   \n",
              "2             1              0.900969              0.902497   \n",
              "\n",
              "   split2_test_accuracy  split3_test_accuracy  split4_test_accuracy  \\\n",
              "0              0.892638              0.891945              0.892113   \n",
              "1              0.902782              0.902030              0.902758   \n",
              "2              0.902519              0.902042              0.902519   \n",
              "\n",
              "   mean_test_accuracy  std_test_accuracy  rank_test_accuracy  \n",
              "0            0.892399           0.000560                   3  \n",
              "1            0.902210           0.000835                   1  \n",
              "2            0.902109           0.000599                   2  \n",
              "\n",
              "[3 rows x 22 columns]"
            ],
            "text/html": [
              "\n",
              "  <div id=\"df-66d24b9f-2603-469d-b49e-8312fc850cb1\">\n",
              "    <div class=\"colab-df-container\">\n",
              "      <div>\n",
              "<style scoped>\n",
              "    .dataframe tbody tr th:only-of-type {\n",
              "        vertical-align: middle;\n",
              "    }\n",
              "\n",
              "    .dataframe tbody tr th {\n",
              "        vertical-align: top;\n",
              "    }\n",
              "\n",
              "    .dataframe thead th {\n",
              "        text-align: right;\n",
              "    }\n",
              "</style>\n",
              "<table border=\"1\" class=\"dataframe\">\n",
              "  <thead>\n",
              "    <tr style=\"text-align: right;\">\n",
              "      <th></th>\n",
              "      <th>mean_fit_time</th>\n",
              "      <th>std_fit_time</th>\n",
              "      <th>mean_score_time</th>\n",
              "      <th>std_score_time</th>\n",
              "      <th>param_clf</th>\n",
              "      <th>params</th>\n",
              "      <th>split0_test_f1</th>\n",
              "      <th>split1_test_f1</th>\n",
              "      <th>split2_test_f1</th>\n",
              "      <th>split3_test_f1</th>\n",
              "      <th>...</th>\n",
              "      <th>std_test_f1</th>\n",
              "      <th>rank_test_f1</th>\n",
              "      <th>split0_test_accuracy</th>\n",
              "      <th>split1_test_accuracy</th>\n",
              "      <th>split2_test_accuracy</th>\n",
              "      <th>split3_test_accuracy</th>\n",
              "      <th>split4_test_accuracy</th>\n",
              "      <th>mean_test_accuracy</th>\n",
              "      <th>std_test_accuracy</th>\n",
              "      <th>rank_test_accuracy</th>\n",
              "    </tr>\n",
              "  </thead>\n",
              "  <tbody>\n",
              "    <tr>\n",
              "      <th>0</th>\n",
              "      <td>13.168518</td>\n",
              "      <td>2.442056</td>\n",
              "      <td>0.056878</td>\n",
              "      <td>0.005862</td>\n",
              "      <td>LogisticRegression(max_iter=1000, penalty='l1'...</td>\n",
              "      <td>{'clf': LogisticRegression(max_iter=1000, pena...</td>\n",
              "      <td>0.842741</td>\n",
              "      <td>0.842504</td>\n",
              "      <td>0.841127</td>\n",
              "      <td>0.842061</td>\n",
              "      <td>...</td>\n",
              "      <td>0.000594</td>\n",
              "      <td>3</td>\n",
              "      <td>0.891911</td>\n",
              "      <td>0.893391</td>\n",
              "      <td>0.892638</td>\n",
              "      <td>0.891945</td>\n",
              "      <td>0.892113</td>\n",
              "      <td>0.892399</td>\n",
              "      <td>0.000560</td>\n",
              "      <td>3</td>\n",
              "    </tr>\n",
              "    <tr>\n",
              "      <th>1</th>\n",
              "      <td>40.775043</td>\n",
              "      <td>1.101705</td>\n",
              "      <td>1.745146</td>\n",
              "      <td>0.256869</td>\n",
              "      <td>RandomForestClassifier()</td>\n",
              "      <td>{'clf': RandomForestClassifier()}</td>\n",
              "      <td>0.860377</td>\n",
              "      <td>0.861299</td>\n",
              "      <td>0.861004</td>\n",
              "      <td>0.861496</td>\n",
              "      <td>...</td>\n",
              "      <td>0.000839</td>\n",
              "      <td>2</td>\n",
              "      <td>0.900647</td>\n",
              "      <td>0.902831</td>\n",
              "      <td>0.902782</td>\n",
              "      <td>0.902030</td>\n",
              "      <td>0.902758</td>\n",
              "      <td>0.902210</td>\n",
              "      <td>0.000835</td>\n",
              "      <td>1</td>\n",
              "    </tr>\n",
              "    <tr>\n",
              "      <th>2</th>\n",
              "      <td>59.113508</td>\n",
              "      <td>5.478106</td>\n",
              "      <td>0.320144</td>\n",
              "      <td>0.082836</td>\n",
              "      <td>XGBClassifier(base_score=None, booster=None, c...</td>\n",
              "      <td>{'clf': XGBClassifier(base_score=None, booster...</td>\n",
              "      <td>0.861492</td>\n",
              "      <td>0.861431</td>\n",
              "      <td>0.861526</td>\n",
              "      <td>0.862180</td>\n",
              "      <td>...</td>\n",
              "      <td>0.000690</td>\n",
              "      <td>1</td>\n",
              "      <td>0.900969</td>\n",
              "      <td>0.902497</td>\n",
              "      <td>0.902519</td>\n",
              "      <td>0.902042</td>\n",
              "      <td>0.902519</td>\n",
              "      <td>0.902109</td>\n",
              "      <td>0.000599</td>\n",
              "      <td>2</td>\n",
              "    </tr>\n",
              "  </tbody>\n",
              "</table>\n",
              "<p>3 rows × 22 columns</p>\n",
              "</div>\n",
              "      <button class=\"colab-df-convert\" onclick=\"convertToInteractive('df-66d24b9f-2603-469d-b49e-8312fc850cb1')\"\n",
              "              title=\"Convert this dataframe to an interactive table.\"\n",
              "              style=\"display:none;\">\n",
              "        \n",
              "  <svg xmlns=\"http://www.w3.org/2000/svg\" height=\"24px\"viewBox=\"0 0 24 24\"\n",
              "       width=\"24px\">\n",
              "    <path d=\"M0 0h24v24H0V0z\" fill=\"none\"/>\n",
              "    <path d=\"M18.56 5.44l.94 2.06.94-2.06 2.06-.94-2.06-.94-.94-2.06-.94 2.06-2.06.94zm-11 1L8.5 8.5l.94-2.06 2.06-.94-2.06-.94L8.5 2.5l-.94 2.06-2.06.94zm10 10l.94 2.06.94-2.06 2.06-.94-2.06-.94-.94-2.06-.94 2.06-2.06.94z\"/><path d=\"M17.41 7.96l-1.37-1.37c-.4-.4-.92-.59-1.43-.59-.52 0-1.04.2-1.43.59L10.3 9.45l-7.72 7.72c-.78.78-.78 2.05 0 2.83L4 21.41c.39.39.9.59 1.41.59.51 0 1.02-.2 1.41-.59l7.78-7.78 2.81-2.81c.8-.78.8-2.07 0-2.86zM5.41 20L4 18.59l7.72-7.72 1.47 1.35L5.41 20z\"/>\n",
              "  </svg>\n",
              "      </button>\n",
              "      \n",
              "  <style>\n",
              "    .colab-df-container {\n",
              "      display:flex;\n",
              "      flex-wrap:wrap;\n",
              "      gap: 12px;\n",
              "    }\n",
              "\n",
              "    .colab-df-convert {\n",
              "      background-color: #E8F0FE;\n",
              "      border: none;\n",
              "      border-radius: 50%;\n",
              "      cursor: pointer;\n",
              "      display: none;\n",
              "      fill: #1967D2;\n",
              "      height: 32px;\n",
              "      padding: 0 0 0 0;\n",
              "      width: 32px;\n",
              "    }\n",
              "\n",
              "    .colab-df-convert:hover {\n",
              "      background-color: #E2EBFA;\n",
              "      box-shadow: 0px 1px 2px rgba(60, 64, 67, 0.3), 0px 1px 3px 1px rgba(60, 64, 67, 0.15);\n",
              "      fill: #174EA6;\n",
              "    }\n",
              "\n",
              "    [theme=dark] .colab-df-convert {\n",
              "      background-color: #3B4455;\n",
              "      fill: #D2E3FC;\n",
              "    }\n",
              "\n",
              "    [theme=dark] .colab-df-convert:hover {\n",
              "      background-color: #434B5C;\n",
              "      box-shadow: 0px 1px 3px 1px rgba(0, 0, 0, 0.15);\n",
              "      filter: drop-shadow(0px 1px 2px rgba(0, 0, 0, 0.3));\n",
              "      fill: #FFFFFF;\n",
              "    }\n",
              "  </style>\n",
              "\n",
              "      <script>\n",
              "        const buttonEl =\n",
              "          document.querySelector('#df-66d24b9f-2603-469d-b49e-8312fc850cb1 button.colab-df-convert');\n",
              "        buttonEl.style.display =\n",
              "          google.colab.kernel.accessAllowed ? 'block' : 'none';\n",
              "\n",
              "        async function convertToInteractive(key) {\n",
              "          const element = document.querySelector('#df-66d24b9f-2603-469d-b49e-8312fc850cb1');\n",
              "          const dataTable =\n",
              "            await google.colab.kernel.invokeFunction('convertToInteractive',\n",
              "                                                     [key], {});\n",
              "          if (!dataTable) return;\n",
              "\n",
              "          const docLinkHtml = 'Like what you see? Visit the ' +\n",
              "            '<a target=\"_blank\" href=https://colab.research.google.com/notebooks/data_table.ipynb>data table notebook</a>'\n",
              "            + ' to learn more about interactive tables.';\n",
              "          element.innerHTML = '';\n",
              "          dataTable['output_type'] = 'display_data';\n",
              "          await google.colab.output.renderOutput(dataTable, element);\n",
              "          const docLink = document.createElement('div');\n",
              "          docLink.innerHTML = docLinkHtml;\n",
              "          element.appendChild(docLink);\n",
              "        }\n",
              "      </script>\n",
              "    </div>\n",
              "  </div>\n",
              "  "
            ]
          },
          "metadata": {},
          "execution_count": 84
        }
      ]
    },
    {
      "cell_type": "code",
      "source": [
        "#print(\"Best estimator: \", grid_resampled.best_estimator_)\n",
        "#print(\"Best score: \", grid_resampled.best_score_)\n",
        "#pd.DataFrame(grid_resampled.cv_results_)"
      ],
      "metadata": {
        "id": "PBxVcp9l6ZFW"
      },
      "execution_count": 86,
      "outputs": []
    },
    {
      "cell_type": "code",
      "source": [
        "#print(\"Best estimator: \", grid_balanced.best_estimator_)\n",
        "#print(\"Best score: \", grid_balanced.best_score_)\n",
        "#pd.DataFrame(grid_balanced.cv_results_)"
      ],
      "metadata": {
        "id": "PBiOPZS26dO0"
      },
      "execution_count": 90,
      "outputs": []
    },
    {
      "cell_type": "code",
      "source": [
        "#print(grid_SMOTE.best_estimator_.score(X_val,y_val),\"\\n\",grid_resampled.best_estimator_.score(X_val,y_val),\n",
        "      #\"\\n\", grid_balanced.best_estimator_.score(X_val,y_val))"
      ],
      "metadata": {
        "id": "Dl4jGRvF0hDe",
        "outputId": "25dffaa2-7360-47f4-d23e-61c1e0412f98",
        "colab": {
          "base_uri": "https://localhost:8080/",
          "height": 130
        }
      },
      "execution_count": 95,
      "outputs": [
        {
          "output_type": "error",
          "ename": "IndentationError",
          "evalue": "ignored",
          "traceback": [
            "\u001b[0;36m  File \u001b[0;32m\"<ipython-input-95-ff8eb40166e8>\"\u001b[0;36m, line \u001b[0;32m2\u001b[0m\n\u001b[0;31m    \"\\n\", grid_balanced.best_estimator_.score(X_val,y_val))\u001b[0m\n\u001b[0m    ^\u001b[0m\n\u001b[0;31mIndentationError\u001b[0m\u001b[0;31m:\u001b[0m unexpected indent\n"
          ]
        }
      ]
    },
    {
      "cell_type": "code",
      "execution_count": 96,
      "metadata": {
        "id": "s1nnQLJqghaI"
      },
      "outputs": [],
      "source": [
        "# put models in dictionary\n",
        "\n",
        "models = {\"Logistic Regression\": LogisticRegression(),\n",
        "          \"Random Forest\": RandomForestClassifier()}\n",
        "\n",
        "def fit_and_score(models, X_train, X_test, y_train, y_test):\n",
        "    model_scores = {}\n",
        "    for name, model in models.items():\n",
        "        model.fit(X_train, y_train)\n",
        "        model_scores[name] = model.score(X_test, y_test)\n",
        "    return model_scores"
      ]
    },
    {
      "cell_type": "code",
      "execution_count": 97,
      "metadata": {
        "id": "OJb0yxknghaJ",
        "outputId": "b30f5fe5-8e69-4dd4-85f1-edd2f7fedb23",
        "colab": {
          "base_uri": "https://localhost:8080/"
        }
      },
      "outputs": [
        {
          "output_type": "stream",
          "name": "stderr",
          "text": [
            "/usr/local/lib/python3.9/dist-packages/sklearn/linear_model/_logistic.py:458: ConvergenceWarning: lbfgs failed to converge (status=1):\n",
            "STOP: TOTAL NO. of ITERATIONS REACHED LIMIT.\n",
            "\n",
            "Increase the number of iterations (max_iter) or scale the data as shown in:\n",
            "    https://scikit-learn.org/stable/modules/preprocessing.html\n",
            "Please also refer to the documentation for alternative solver options:\n",
            "    https://scikit-learn.org/stable/modules/linear_model.html#logistic-regression\n",
            "  n_iter_i = _check_optimize_result(\n"
          ]
        },
        {
          "output_type": "execute_result",
          "data": {
            "text/plain": [
              "{'Logistic Regression': 0.9360176027938955,\n",
              " 'Random Forest': 0.9361977025535013}"
            ]
          },
          "metadata": {},
          "execution_count": 97
        }
      ],
      "source": [
        "model_scores = fit_and_score(models=models,\n",
        "                             X_train=X_train,\n",
        "                             X_test=X_test,\n",
        "                             y_train=y_train,\n",
        "                             y_test=y_test)\n",
        "\n",
        "model_scores"
      ]
    },
    {
      "cell_type": "markdown",
      "metadata": {
        "id": "Ps4KZNE9ghaJ"
      },
      "source": [
        "## Model Comparision"
      ]
    },
    {
      "cell_type": "code",
      "execution_count": 94,
      "metadata": {
        "id": "0-lOuGyMghaK",
        "outputId": "f990d524-1582-42e4-b5bb-683fff1b6369",
        "colab": {
          "base_uri": "https://localhost:8080/",
          "height": 549
        }
      },
      "outputs": [
        {
          "output_type": "display_data",
          "data": {
            "text/plain": [
              "<Figure size 640x480 with 1 Axes>"
            ],
            "image/png": "[encoded data removed]"
          },
          "metadata": {}
        }
      ],
      "source": [
        "model_compare = pd.DataFrame(model_scores, index=[\"accuracy\"])\n",
        "model_compare.T.plot.bar();"
      ]
    },
    {
      "cell_type": "code",
      "execution_count": null,
      "metadata": {
        "id": "jrsOFy9UghaK"
      },
      "outputs": [],
      "source": []
    }
  ],
  "metadata": {
    "colab": {
      "provenance": [],
      "toc_visible": true,
      "include_colab_link": true
    },
    "kernelspec": {
      "display_name": "Python 3 (ipykernel)",
      "language": "python",
      "name": "python3"
    },
    "language_info": {
      "codemirror_mode": {
        "name": "ipython",
        "version": 3
      },
      "file_extension": ".py",
      "mimetype": "text/x-python",
      "name": "python",
      "nbconvert_exporter": "python",
      "pygments_lexer": "ipython3",
      "version": "3.10.4"
    },
    "gpuClass": "standard"
  },
  "nbformat": 4,
  "nbformat_minor": 0
}